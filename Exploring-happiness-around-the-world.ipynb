{
 "cells": [
  {
   "cell_type": "markdown",
   "metadata": {
    "id": "A4qcqYUy5YkM"
   },
   "source": [
    "# What makes people happy? Can you find Dytopia?\n",
    "\n",
    "The `World Happiness Report` is a landmark survey of the state of global happiness that ranks 156 countries by how happy their citizens perceive themselves to be. Over the last year’s, `World Happiness Report` focuses on happiness and the community: how happiness has evolved over the past dozen years, with a focus on the technologies, social norms, conflicts and government policies that have driven those changes.\n",
    "\n",
    "<img src=\"https://allthatsinteresting.com/wordpress/wp-content/uploads/2016/03/giphy-4.gif\" width=\"700px\">\n",
    "\n",
    "**Dataset information**\n",
    "\n",
    "    The information in the datasets is based on answers to the most life evaluation address inquired within the survey. This address, known as the Cantril step, asks respondents to think of a step with the most excellent conceivable life for them being a 10 and the most exceedingly bad conceivable life being a and to rate their claim current lives on that scale.\n",
    "\n",
    "\n",
    "The Happiness Score is explained by the following factors:\n",
    "\n",
    "- `Overall rank`: happiness rank of the different countries\n",
    "- `Country o region`\n",
    "- `Score`:  is a national average of the responses to the main life evaluation question asked in the Gallup World Poll (GWP), which uses the Cantril Ladder. Ranges from [0-10]\n",
    "- `GDP per capita`\n",
    "- `Healthy Life Expectancy`: score that goes from [0-1], being 1 the ones that have more confidence in terms of healthy life\n",
    "- `Social support`: it indicates how people are appreciating the social support by governments, and it that ranges from [0-2]\n",
    "- `Freedom to make life choices` score that ranges from 0 to 1, being 1 the ones that feel more free\n",
    "- `Generosity`:score that ranges from 0 to 1, being 1 the ones that feel more generosity\n",
    "- `Perceptions of corruption`: perception of corruption on the country that it goes from  0 to 1. The higher this value is the lower perception of corruption\n",
    "- `year`  \n",
    "\n",
    "\n",
    ">dataset: `Ex2.2._Happiness-Score.csv`"
   ]
  },
  {
   "cell_type": "code",
   "execution_count": 116,
   "metadata": {
    "executionInfo": {
     "elapsed": 4,
     "status": "ok",
     "timestamp": 1756733836446,
     "user": {
      "displayName": "Wiktoria Gołębiewska",
      "userId": "05863011323994705695"
     },
     "user_tz": -120
    },
    "id": "kLy2gu2egPIF"
   },
   "outputs": [],
   "source": [
    "import numpy as np\n",
    "import pandas as pd\n",
    "\n",
    "import plotly.graph_objs as go\n",
    "from wordcloud import WordCloud\n",
    "import plotly.express as px\n",
    "import matplotlib.pyplot as plt\n",
    "import plotly.io as pio\n",
    "\n",
    "pio.renderers.default = 'colab'\n",
    "\n",
    "import warnings\n",
    "warnings.filterwarnings('ignore')"
   ]
  },
  {
   "cell_type": "code",
   "execution_count": 117,
   "metadata": {
    "executionInfo": {
     "elapsed": 1,
     "status": "ok",
     "timestamp": 1756733836448,
     "user": {
      "displayName": "Wiktoria Gołębiewska",
      "userId": "05863011323994705695"
     },
     "user_tz": -120
    },
    "id": "y7GARtQv4L-Z",
    "scrolled": true
   },
   "outputs": [],
   "source": [
    "import pandas as pd\n",
    "pd.options.mode.chained_assignment = None\n",
    "\n",
    "import numpy as np\n",
    "import seaborn as sns\n",
    "import matplotlib.pyplot as plt\n",
    "\n",
    "import warnings\n",
    "warnings.filterwarnings('ignore')"
   ]
  },
  {
   "cell_type": "code",
   "execution_count": 118,
   "metadata": {
    "executionInfo": {
     "elapsed": 1,
     "status": "ok",
     "timestamp": 1756733836451,
     "user": {
      "displayName": "Wiktoria Gołębiewska",
      "userId": "05863011323994705695"
     },
     "user_tz": -120
    },
    "id": "GyGFx88PgPII"
   },
   "outputs": [],
   "source": [
    "df1 = pd.read_csv(r\"..\\..\\datasets\\Students_turn\\Ex2.2._Happiness-Score.csv\")"
   ]
  },
  {
   "cell_type": "code",
   "execution_count": 119,
   "metadata": {},
   "outputs": [],
   "source": [
    "df2 = pd.read_excel(r\"..\\..\\datasets\\Students_turn\\WHR25_Data_Figure_2.1 (1).xlsx\")"
   ]
  },
  {
   "cell_type": "markdown",
   "metadata": {
    "id": "xg5aTWPsfd6U",
    "outputId": "af6ac151-a7a0-42ec-a3a9-82591a432466"
   },
   "source": [
    "### Exercise 1.Tell a story with your dataset, to try to answer the following question:\n",
    "\n",
    ">\"Which factors are more important to live a happier life? As a result, people and countries can focus on the more significant factors to achieve a higher happiness level \"\n",
    "\n",
    "To achieve this goal, use the different funcionalities from the visualization libraries that you have seen in the module."
   ]
  },
  {
   "cell_type": "code",
   "execution_count": 120,
   "metadata": {},
   "outputs": [
    {
     "data": {
      "text/plain": [
       "Index(['Year', 'Rank', 'Country name', 'Ladder score', 'upperwhisker',\n",
       "       'lowerwhisker', 'Explained by: Log GDP per capita',\n",
       "       'Explained by: Social support', 'Explained by: Healthy life expectancy',\n",
       "       'Explained by: Freedom to make life choices',\n",
       "       'Explained by: Generosity', 'Explained by: Perceptions of corruption',\n",
       "       'Dystopia + residual'],\n",
       "      dtype='object')"
      ]
     },
     "execution_count": 120,
     "metadata": {},
     "output_type": "execute_result"
    }
   ],
   "source": [
    "df2.columns"
   ]
  },
  {
   "cell_type": "code",
   "execution_count": 121,
   "metadata": {},
   "outputs": [],
   "source": [
    "df2.rename(columns={'Country name': 'Country or region'}, inplace=True)"
   ]
  },
  {
   "cell_type": "code",
   "execution_count": 122,
   "metadata": {},
   "outputs": [],
   "source": [
    "df2.rename(columns={'Ladder score': 'Score'}, inplace=True)"
   ]
  },
  {
   "cell_type": "code",
   "execution_count": 123,
   "metadata": {},
   "outputs": [],
   "source": [
    "df2.rename(columns={'Explained by: Log GDP per capita': 'GDP per capita'}, inplace=True)"
   ]
  },
  {
   "cell_type": "code",
   "execution_count": 124,
   "metadata": {},
   "outputs": [],
   "source": [
    "df2.rename(columns={'Explained by: Social support': 'Social support'}, inplace=True)"
   ]
  },
  {
   "cell_type": "code",
   "execution_count": 125,
   "metadata": {},
   "outputs": [],
   "source": [
    "df2.rename(columns={'Explained by: Perceptions of corruption': 'Perceptions of corruption'}, inplace=True)"
   ]
  },
  {
   "cell_type": "code",
   "execution_count": 126,
   "metadata": {},
   "outputs": [],
   "source": [
    "df2.rename(columns={'Explained by: Freedom to make life choices': 'Freedom to make life choices'}, inplace=True)"
   ]
  },
  {
   "cell_type": "code",
   "execution_count": 127,
   "metadata": {},
   "outputs": [],
   "source": [
    "df2.rename(columns={'Explained by: Generosity': 'Generosity'}, inplace=True)"
   ]
  },
  {
   "cell_type": "code",
   "execution_count": 128,
   "metadata": {},
   "outputs": [],
   "source": [
    "df2.rename(columns={'Explained by: Generosity': 'Generosity'}, inplace=True)"
   ]
  },
  {
   "cell_type": "code",
   "execution_count": 129,
   "metadata": {},
   "outputs": [],
   "source": [
    "df2.drop('Explained by: Healthy life expectancy', axis=1, inplace=True)"
   ]
  },
  {
   "cell_type": "code",
   "execution_count": 130,
   "metadata": {},
   "outputs": [],
   "source": [
    "df2.drop('Rank', axis=1, inplace=True)"
   ]
  },
  {
   "cell_type": "code",
   "execution_count": 131,
   "metadata": {},
   "outputs": [],
   "source": [
    "df2.drop('upperwhisker', axis=1, inplace=True)"
   ]
  },
  {
   "cell_type": "code",
   "execution_count": 132,
   "metadata": {},
   "outputs": [],
   "source": [
    "df2.drop('lowerwhisker', axis=1, inplace=True)"
   ]
  },
  {
   "cell_type": "code",
   "execution_count": 133,
   "metadata": {},
   "outputs": [],
   "source": [
    "df2.drop('Dystopia + residual', axis=1, inplace=True)"
   ]
  },
  {
   "cell_type": "code",
   "execution_count": 134,
   "metadata": {},
   "outputs": [
    {
     "data": {
      "text/plain": [
       "Index(['Year', 'Country or region', 'Score', 'GDP per capita',\n",
       "       'Social support', 'Freedom to make life choices', 'Generosity',\n",
       "       'Perceptions of corruption'],\n",
       "      dtype='object')"
      ]
     },
     "execution_count": 134,
     "metadata": {},
     "output_type": "execute_result"
    }
   ],
   "source": [
    "df2.columns"
   ]
  },
  {
   "cell_type": "code",
   "execution_count": 135,
   "metadata": {},
   "outputs": [],
   "source": [
    "df_2024=df2[df2['Year']==2024]"
   ]
  },
  {
   "cell_type": "code",
   "execution_count": 136,
   "metadata": {
    "colab": {
     "base_uri": "https://localhost:8080/"
    },
    "executionInfo": {
     "elapsed": 9,
     "status": "ok",
     "timestamp": 1756733836461,
     "user": {
      "displayName": "Wiktoria Gołębiewska",
      "userId": "05863011323994705695"
     },
     "user_tz": -120
    },
    "id": "KjZVCIU1gPIJ",
    "outputId": "3e5f99f1-2ed0-49f0-de6d-be8265340578"
   },
   "outputs": [
    {
     "name": "stdout",
     "output_type": "stream",
     "text": [
      "<class 'pandas.core.frame.DataFrame'>\n",
      "RangeIndex: 312 entries, 0 to 311\n",
      "Data columns (total 12 columns):\n",
      " #   Column                        Non-Null Count  Dtype  \n",
      "---  ------                        --------------  -----  \n",
      " 0   Unnamed: 0.1                  312 non-null    int64  \n",
      " 1   Unnamed: 0                    312 non-null    int64  \n",
      " 2   Overall rank                  312 non-null    int64  \n",
      " 3   Country or region             312 non-null    object \n",
      " 4   Score                         312 non-null    float64\n",
      " 5   GDP per capita                312 non-null    float64\n",
      " 6   Social support                312 non-null    float64\n",
      " 7   Healthy life expectancy       7 non-null      float64\n",
      " 8   Freedom to make life choices  312 non-null    float64\n",
      " 9   Generosity                    312 non-null    float64\n",
      " 10  Perceptions of corruption     311 non-null    float64\n",
      " 11  year                          312 non-null    int64  \n",
      "dtypes: float64(7), int64(4), object(1)\n",
      "memory usage: 29.4+ KB\n"
     ]
    }
   ],
   "source": [
    "df=df1\n",
    "df.info()"
   ]
  },
  {
   "cell_type": "code",
   "execution_count": 137,
   "metadata": {},
   "outputs": [],
   "source": [
    "df.drop('Unnamed: 0.1', axis=1, inplace=True)"
   ]
  },
  {
   "cell_type": "code",
   "execution_count": 138,
   "metadata": {},
   "outputs": [],
   "source": [
    "df.drop('Unnamed: 0', axis=1, inplace=True)"
   ]
  },
  {
   "cell_type": "code",
   "execution_count": 139,
   "metadata": {},
   "outputs": [],
   "source": [
    "df.drop('Overall rank', axis=1, inplace=True)"
   ]
  },
  {
   "cell_type": "code",
   "execution_count": 140,
   "metadata": {},
   "outputs": [],
   "source": [
    "df.drop('Healthy life expectancy', axis=1, inplace=True)"
   ]
  },
  {
   "cell_type": "raw",
   "metadata": {
    "colab": {
     "base_uri": "https://localhost:8080/"
    },
    "executionInfo": {
     "elapsed": 6,
     "status": "ok",
     "timestamp": 1756733836468,
     "user": {
      "displayName": "Wiktoria Gołębiewska",
      "userId": "05863011323994705695"
     },
     "user_tz": -120
    },
    "id": "bw6XRAuegPIK",
    "outputId": "29a38c13-6741-4e36-ab81-6ca422f6a2d1"
   },
   "source": [
    "df.shape"
   ]
  },
  {
   "cell_type": "code",
   "execution_count": 141,
   "metadata": {
    "colab": {
     "base_uri": "https://localhost:8080/"
    },
    "executionInfo": {
     "elapsed": 10,
     "status": "ok",
     "timestamp": 1756733836480,
     "user": {
      "displayName": "Wiktoria Gołębiewska",
      "userId": "05863011323994705695"
     },
     "user_tz": -120
    },
    "id": "59_AIQ0jgPIK",
    "outputId": "6994c569-4c9d-4480-fcd8-1ebc4c4119e3"
   },
   "outputs": [
    {
     "data": {
      "text/plain": [
       "Index(['Country or region', 'Score', 'GDP per capita', 'Social support',\n",
       "       'Freedom to make life choices', 'Generosity',\n",
       "       'Perceptions of corruption', 'year'],\n",
       "      dtype='object')"
      ]
     },
     "execution_count": 141,
     "metadata": {},
     "output_type": "execute_result"
    }
   ],
   "source": [
    "df.columns"
   ]
  },
  {
   "cell_type": "code",
   "execution_count": 142,
   "metadata": {
    "colab": {
     "base_uri": "https://localhost:8080/",
     "height": 224
    },
    "executionInfo": {
     "elapsed": 27,
     "status": "ok",
     "timestamp": 1756733836508,
     "user": {
      "displayName": "Wiktoria Gołębiewska",
      "userId": "05863011323994705695"
     },
     "user_tz": -120
    },
    "id": "FwqPNg-4gPIL",
    "outputId": "ea4b0a2b-4a18-4647-885d-ccc01075e556"
   },
   "outputs": [
    {
     "data": {
      "text/html": [
       "<div>\n",
       "<style scoped>\n",
       "    .dataframe tbody tr th:only-of-type {\n",
       "        vertical-align: middle;\n",
       "    }\n",
       "\n",
       "    .dataframe tbody tr th {\n",
       "        vertical-align: top;\n",
       "    }\n",
       "\n",
       "    .dataframe thead th {\n",
       "        text-align: right;\n",
       "    }\n",
       "</style>\n",
       "<table border=\"1\" class=\"dataframe\">\n",
       "  <thead>\n",
       "    <tr style=\"text-align: right;\">\n",
       "      <th></th>\n",
       "      <th>Country or region</th>\n",
       "      <th>Score</th>\n",
       "      <th>GDP per capita</th>\n",
       "      <th>Social support</th>\n",
       "      <th>Freedom to make life choices</th>\n",
       "      <th>Generosity</th>\n",
       "      <th>Perceptions of corruption</th>\n",
       "      <th>year</th>\n",
       "    </tr>\n",
       "  </thead>\n",
       "  <tbody>\n",
       "    <tr>\n",
       "      <th>0</th>\n",
       "      <td>Finland</td>\n",
       "      <td>7.632</td>\n",
       "      <td>1.305</td>\n",
       "      <td>1.592</td>\n",
       "      <td>0.681</td>\n",
       "      <td>0.202</td>\n",
       "      <td>0.393</td>\n",
       "      <td>2018</td>\n",
       "    </tr>\n",
       "    <tr>\n",
       "      <th>1</th>\n",
       "      <td>Norway</td>\n",
       "      <td>7.594</td>\n",
       "      <td>1.456</td>\n",
       "      <td>1.582</td>\n",
       "      <td>0.686</td>\n",
       "      <td>0.286</td>\n",
       "      <td>0.340</td>\n",
       "      <td>2018</td>\n",
       "    </tr>\n",
       "    <tr>\n",
       "      <th>2</th>\n",
       "      <td>Denmark</td>\n",
       "      <td>7.555</td>\n",
       "      <td>1.351</td>\n",
       "      <td>1.590</td>\n",
       "      <td>0.683</td>\n",
       "      <td>0.284</td>\n",
       "      <td>0.408</td>\n",
       "      <td>2018</td>\n",
       "    </tr>\n",
       "    <tr>\n",
       "      <th>3</th>\n",
       "      <td>Iceland</td>\n",
       "      <td>7.495</td>\n",
       "      <td>1.343</td>\n",
       "      <td>1.644</td>\n",
       "      <td>0.677</td>\n",
       "      <td>0.353</td>\n",
       "      <td>0.138</td>\n",
       "      <td>2018</td>\n",
       "    </tr>\n",
       "    <tr>\n",
       "      <th>4</th>\n",
       "      <td>Switzerland</td>\n",
       "      <td>7.487</td>\n",
       "      <td>1.420</td>\n",
       "      <td>1.549</td>\n",
       "      <td>0.660</td>\n",
       "      <td>0.256</td>\n",
       "      <td>0.357</td>\n",
       "      <td>2018</td>\n",
       "    </tr>\n",
       "  </tbody>\n",
       "</table>\n",
       "</div>"
      ],
      "text/plain": [
       "  Country or region  Score  GDP per capita  Social support  \\\n",
       "0           Finland  7.632           1.305           1.592   \n",
       "1            Norway  7.594           1.456           1.582   \n",
       "2           Denmark  7.555           1.351           1.590   \n",
       "3           Iceland  7.495           1.343           1.644   \n",
       "4       Switzerland  7.487           1.420           1.549   \n",
       "\n",
       "   Freedom to make life choices  Generosity  Perceptions of corruption  year  \n",
       "0                         0.681       0.202                      0.393  2018  \n",
       "1                         0.686       0.286                      0.340  2018  \n",
       "2                         0.683       0.284                      0.408  2018  \n",
       "3                         0.677       0.353                      0.138  2018  \n",
       "4                         0.660       0.256                      0.357  2018  "
      ]
     },
     "execution_count": 142,
     "metadata": {},
     "output_type": "execute_result"
    }
   ],
   "source": [
    "df.head()"
   ]
  },
  {
   "cell_type": "code",
   "execution_count": 143,
   "metadata": {
    "colab": {
     "base_uri": "https://localhost:8080/",
     "height": 458
    },
    "executionInfo": {
     "elapsed": 23,
     "status": "ok",
     "timestamp": 1756733836533,
     "user": {
      "displayName": "Wiktoria Gołębiewska",
      "userId": "05863011323994705695"
     },
     "user_tz": -120
    },
    "id": "Is6oesaWgPIL",
    "outputId": "7a7a3c9d-59b6-4753-82fe-a7237230d200"
   },
   "outputs": [
    {
     "data": {
      "text/html": [
       "<div>\n",
       "<style scoped>\n",
       "    .dataframe tbody tr th:only-of-type {\n",
       "        vertical-align: middle;\n",
       "    }\n",
       "\n",
       "    .dataframe tbody tr th {\n",
       "        vertical-align: top;\n",
       "    }\n",
       "\n",
       "    .dataframe thead th {\n",
       "        text-align: right;\n",
       "    }\n",
       "</style>\n",
       "<table border=\"1\" class=\"dataframe\">\n",
       "  <thead>\n",
       "    <tr style=\"text-align: right;\">\n",
       "      <th></th>\n",
       "      <th>Country or region</th>\n",
       "      <th>Score</th>\n",
       "      <th>GDP per capita</th>\n",
       "      <th>Social support</th>\n",
       "      <th>Freedom to make life choices</th>\n",
       "      <th>Generosity</th>\n",
       "      <th>Perceptions of corruption</th>\n",
       "      <th>year</th>\n",
       "    </tr>\n",
       "  </thead>\n",
       "  <tbody>\n",
       "    <tr>\n",
       "      <th>0</th>\n",
       "      <td>Finland</td>\n",
       "      <td>7.632</td>\n",
       "      <td>1.305</td>\n",
       "      <td>1.592</td>\n",
       "      <td>0.681</td>\n",
       "      <td>0.202</td>\n",
       "      <td>0.393</td>\n",
       "      <td>2018</td>\n",
       "    </tr>\n",
       "    <tr>\n",
       "      <th>1</th>\n",
       "      <td>Norway</td>\n",
       "      <td>7.594</td>\n",
       "      <td>1.456</td>\n",
       "      <td>1.582</td>\n",
       "      <td>0.686</td>\n",
       "      <td>0.286</td>\n",
       "      <td>0.340</td>\n",
       "      <td>2018</td>\n",
       "    </tr>\n",
       "    <tr>\n",
       "      <th>2</th>\n",
       "      <td>Denmark</td>\n",
       "      <td>7.555</td>\n",
       "      <td>1.351</td>\n",
       "      <td>1.590</td>\n",
       "      <td>0.683</td>\n",
       "      <td>0.284</td>\n",
       "      <td>0.408</td>\n",
       "      <td>2018</td>\n",
       "    </tr>\n",
       "    <tr>\n",
       "      <th>3</th>\n",
       "      <td>Iceland</td>\n",
       "      <td>7.495</td>\n",
       "      <td>1.343</td>\n",
       "      <td>1.644</td>\n",
       "      <td>0.677</td>\n",
       "      <td>0.353</td>\n",
       "      <td>0.138</td>\n",
       "      <td>2018</td>\n",
       "    </tr>\n",
       "    <tr>\n",
       "      <th>4</th>\n",
       "      <td>Switzerland</td>\n",
       "      <td>7.487</td>\n",
       "      <td>1.420</td>\n",
       "      <td>1.549</td>\n",
       "      <td>0.660</td>\n",
       "      <td>0.256</td>\n",
       "      <td>0.357</td>\n",
       "      <td>2018</td>\n",
       "    </tr>\n",
       "    <tr>\n",
       "      <th>...</th>\n",
       "      <td>...</td>\n",
       "      <td>...</td>\n",
       "      <td>...</td>\n",
       "      <td>...</td>\n",
       "      <td>...</td>\n",
       "      <td>...</td>\n",
       "      <td>...</td>\n",
       "      <td>...</td>\n",
       "    </tr>\n",
       "    <tr>\n",
       "      <th>307</th>\n",
       "      <td>Rwanda</td>\n",
       "      <td>3.334</td>\n",
       "      <td>0.359</td>\n",
       "      <td>0.711</td>\n",
       "      <td>0.555</td>\n",
       "      <td>0.217</td>\n",
       "      <td>0.411</td>\n",
       "      <td>2019</td>\n",
       "    </tr>\n",
       "    <tr>\n",
       "      <th>308</th>\n",
       "      <td>Tanzania</td>\n",
       "      <td>3.231</td>\n",
       "      <td>0.476</td>\n",
       "      <td>0.885</td>\n",
       "      <td>0.417</td>\n",
       "      <td>0.276</td>\n",
       "      <td>0.147</td>\n",
       "      <td>2019</td>\n",
       "    </tr>\n",
       "    <tr>\n",
       "      <th>309</th>\n",
       "      <td>Afghanistan</td>\n",
       "      <td>3.203</td>\n",
       "      <td>0.350</td>\n",
       "      <td>0.517</td>\n",
       "      <td>0.000</td>\n",
       "      <td>0.158</td>\n",
       "      <td>0.025</td>\n",
       "      <td>2019</td>\n",
       "    </tr>\n",
       "    <tr>\n",
       "      <th>310</th>\n",
       "      <td>Central African Republic</td>\n",
       "      <td>3.083</td>\n",
       "      <td>0.026</td>\n",
       "      <td>0.000</td>\n",
       "      <td>0.225</td>\n",
       "      <td>0.235</td>\n",
       "      <td>0.035</td>\n",
       "      <td>2019</td>\n",
       "    </tr>\n",
       "    <tr>\n",
       "      <th>311</th>\n",
       "      <td>South Sudan</td>\n",
       "      <td>2.853</td>\n",
       "      <td>0.306</td>\n",
       "      <td>0.575</td>\n",
       "      <td>0.010</td>\n",
       "      <td>0.202</td>\n",
       "      <td>0.091</td>\n",
       "      <td>2019</td>\n",
       "    </tr>\n",
       "  </tbody>\n",
       "</table>\n",
       "<p>312 rows × 8 columns</p>\n",
       "</div>"
      ],
      "text/plain": [
       "            Country or region  Score  GDP per capita  Social support  \\\n",
       "0                     Finland  7.632           1.305           1.592   \n",
       "1                      Norway  7.594           1.456           1.582   \n",
       "2                     Denmark  7.555           1.351           1.590   \n",
       "3                     Iceland  7.495           1.343           1.644   \n",
       "4                 Switzerland  7.487           1.420           1.549   \n",
       "..                        ...    ...             ...             ...   \n",
       "307                    Rwanda  3.334           0.359           0.711   \n",
       "308                  Tanzania  3.231           0.476           0.885   \n",
       "309               Afghanistan  3.203           0.350           0.517   \n",
       "310  Central African Republic  3.083           0.026           0.000   \n",
       "311               South Sudan  2.853           0.306           0.575   \n",
       "\n",
       "     Freedom to make life choices  Generosity  Perceptions of corruption  year  \n",
       "0                           0.681       0.202                      0.393  2018  \n",
       "1                           0.686       0.286                      0.340  2018  \n",
       "2                           0.683       0.284                      0.408  2018  \n",
       "3                           0.677       0.353                      0.138  2018  \n",
       "4                           0.660       0.256                      0.357  2018  \n",
       "..                            ...         ...                        ...   ...  \n",
       "307                         0.555       0.217                      0.411  2019  \n",
       "308                         0.417       0.276                      0.147  2019  \n",
       "309                         0.000       0.158                      0.025  2019  \n",
       "310                         0.225       0.235                      0.035  2019  \n",
       "311                         0.010       0.202                      0.091  2019  \n",
       "\n",
       "[312 rows x 8 columns]"
      ]
     },
     "execution_count": 143,
     "metadata": {},
     "output_type": "execute_result"
    }
   ],
   "source": [
    "df"
   ]
  },
  {
   "cell_type": "code",
   "execution_count": 144,
   "metadata": {
    "colab": {
     "base_uri": "https://localhost:8080/"
    },
    "executionInfo": {
     "elapsed": 7,
     "status": "ok",
     "timestamp": 1756733836541,
     "user": {
      "displayName": "Wiktoria Gołębiewska",
      "userId": "05863011323994705695"
     },
     "user_tz": -120
    },
    "id": "R2No56l7gPIM",
    "outputId": "1993ceb6-854f-4d95-d27a-341971cf22db"
   },
   "outputs": [
    {
     "data": {
      "text/plain": [
       "Index(['Country or region', 'Score', 'GDP per capita', 'Social support',\n",
       "       'Freedom to make life choices', 'Generosity',\n",
       "       'Perceptions of corruption', 'year'],\n",
       "      dtype='object')"
      ]
     },
     "execution_count": 144,
     "metadata": {},
     "output_type": "execute_result"
    }
   ],
   "source": [
    "df.columns"
   ]
  },
  {
   "cell_type": "code",
   "execution_count": 145,
   "metadata": {
    "colab": {
     "base_uri": "https://localhost:8080/",
     "height": 366
    },
    "executionInfo": {
     "elapsed": 34,
     "status": "ok",
     "timestamp": 1756733836601,
     "user": {
      "displayName": "Wiktoria Gołębiewska",
      "userId": "05863011323994705695"
     },
     "user_tz": -120
    },
    "id": "BAFW8OKMgPIM",
    "outputId": "6ebcb287-3274-4bd2-b58e-71a296fe9226"
   },
   "outputs": [
    {
     "data": {
      "text/plain": [
       "Country or region               0\n",
       "Score                           0\n",
       "GDP per capita                  0\n",
       "Social support                  0\n",
       "Freedom to make life choices    0\n",
       "Generosity                      0\n",
       "Perceptions of corruption       1\n",
       "year                            0\n",
       "dtype: int64"
      ]
     },
     "execution_count": 145,
     "metadata": {},
     "output_type": "execute_result"
    }
   ],
   "source": [
    "df.isnull().sum()"
   ]
  },
  {
   "cell_type": "code",
   "execution_count": 146,
   "metadata": {},
   "outputs": [
    {
     "data": {
      "text/plain": [
       "Country or region               0\n",
       "Score                           0\n",
       "GDP per capita                  0\n",
       "Social support                  0\n",
       "Freedom to make life choices    0\n",
       "Generosity                      0\n",
       "Perceptions of corruption       0\n",
       "year                            0\n",
       "dtype: int64"
      ]
     },
     "execution_count": 146,
     "metadata": {},
     "output_type": "execute_result"
    }
   ],
   "source": [
    "df.fillna({'Perceptions of corruption':df['Perceptions of corruption'].mean()}, inplace=True)\n",
    "df.isnull().sum()"
   ]
  },
  {
   "cell_type": "code",
   "execution_count": 147,
   "metadata": {
    "colab": {
     "base_uri": "https://localhost:8080/",
     "height": 206
    },
    "executionInfo": {
     "elapsed": 25,
     "status": "ok",
     "timestamp": 1756733836601,
     "user": {
      "displayName": "Wiktoria Gołębiewska",
      "userId": "05863011323994705695"
     },
     "user_tz": -120
    },
    "id": "BmVSxqYDgPIM",
    "outputId": "9dded581-03c8-422b-e3cd-a27468708e64"
   },
   "outputs": [
    {
     "data": {
      "text/html": [
       "<div>\n",
       "<style scoped>\n",
       "    .dataframe tbody tr th:only-of-type {\n",
       "        vertical-align: middle;\n",
       "    }\n",
       "\n",
       "    .dataframe tbody tr th {\n",
       "        vertical-align: top;\n",
       "    }\n",
       "\n",
       "    .dataframe thead th {\n",
       "        text-align: right;\n",
       "    }\n",
       "</style>\n",
       "<table border=\"1\" class=\"dataframe\">\n",
       "  <thead>\n",
       "    <tr style=\"text-align: right;\">\n",
       "      <th></th>\n",
       "      <th>Country or region</th>\n",
       "      <th>Score</th>\n",
       "      <th>GDP per capita</th>\n",
       "      <th>Social support</th>\n",
       "      <th>Freedom to make life choices</th>\n",
       "      <th>Generosity</th>\n",
       "      <th>Perceptions of corruption</th>\n",
       "      <th>year</th>\n",
       "    </tr>\n",
       "  </thead>\n",
       "  <tbody>\n",
       "    <tr>\n",
       "      <th>0</th>\n",
       "      <td>Finland</td>\n",
       "      <td>7.632</td>\n",
       "      <td>1.305</td>\n",
       "      <td>1.592</td>\n",
       "      <td>0.681</td>\n",
       "      <td>0.202</td>\n",
       "      <td>0.393</td>\n",
       "      <td>2018</td>\n",
       "    </tr>\n",
       "    <tr>\n",
       "      <th>1</th>\n",
       "      <td>Norway</td>\n",
       "      <td>7.594</td>\n",
       "      <td>1.456</td>\n",
       "      <td>1.582</td>\n",
       "      <td>0.686</td>\n",
       "      <td>0.286</td>\n",
       "      <td>0.340</td>\n",
       "      <td>2018</td>\n",
       "    </tr>\n",
       "    <tr>\n",
       "      <th>2</th>\n",
       "      <td>Denmark</td>\n",
       "      <td>7.555</td>\n",
       "      <td>1.351</td>\n",
       "      <td>1.590</td>\n",
       "      <td>0.683</td>\n",
       "      <td>0.284</td>\n",
       "      <td>0.408</td>\n",
       "      <td>2018</td>\n",
       "    </tr>\n",
       "    <tr>\n",
       "      <th>3</th>\n",
       "      <td>Iceland</td>\n",
       "      <td>7.495</td>\n",
       "      <td>1.343</td>\n",
       "      <td>1.644</td>\n",
       "      <td>0.677</td>\n",
       "      <td>0.353</td>\n",
       "      <td>0.138</td>\n",
       "      <td>2018</td>\n",
       "    </tr>\n",
       "    <tr>\n",
       "      <th>4</th>\n",
       "      <td>Switzerland</td>\n",
       "      <td>7.487</td>\n",
       "      <td>1.420</td>\n",
       "      <td>1.549</td>\n",
       "      <td>0.660</td>\n",
       "      <td>0.256</td>\n",
       "      <td>0.357</td>\n",
       "      <td>2018</td>\n",
       "    </tr>\n",
       "  </tbody>\n",
       "</table>\n",
       "</div>"
      ],
      "text/plain": [
       "  Country or region  Score  GDP per capita  Social support  \\\n",
       "0           Finland  7.632           1.305           1.592   \n",
       "1            Norway  7.594           1.456           1.582   \n",
       "2           Denmark  7.555           1.351           1.590   \n",
       "3           Iceland  7.495           1.343           1.644   \n",
       "4       Switzerland  7.487           1.420           1.549   \n",
       "\n",
       "   Freedom to make life choices  Generosity  Perceptions of corruption  year  \n",
       "0                         0.681       0.202                      0.393  2018  \n",
       "1                         0.686       0.286                      0.340  2018  \n",
       "2                         0.683       0.284                      0.408  2018  \n",
       "3                         0.677       0.353                      0.138  2018  \n",
       "4                         0.660       0.256                      0.357  2018  "
      ]
     },
     "execution_count": 147,
     "metadata": {},
     "output_type": "execute_result"
    }
   ],
   "source": [
    "df.head()"
   ]
  },
  {
   "cell_type": "code",
   "execution_count": 148,
   "metadata": {
    "colab": {
     "base_uri": "https://localhost:8080/",
     "height": 206
    },
    "executionInfo": {
     "elapsed": 36,
     "status": "ok",
     "timestamp": 1756733836626,
     "user": {
      "displayName": "Wiktoria Gołębiewska",
      "userId": "05863011323994705695"
     },
     "user_tz": -120
    },
    "id": "kn2dzJ7WgPIM",
    "outputId": "c91c1dd8-c183-4670-cd64-51483f6adad1"
   },
   "outputs": [
    {
     "data": {
      "text/html": [
       "<div>\n",
       "<style scoped>\n",
       "    .dataframe tbody tr th:only-of-type {\n",
       "        vertical-align: middle;\n",
       "    }\n",
       "\n",
       "    .dataframe tbody tr th {\n",
       "        vertical-align: top;\n",
       "    }\n",
       "\n",
       "    .dataframe thead th {\n",
       "        text-align: right;\n",
       "    }\n",
       "</style>\n",
       "<table border=\"1\" class=\"dataframe\">\n",
       "  <thead>\n",
       "    <tr style=\"text-align: right;\">\n",
       "      <th></th>\n",
       "      <th>Country or region</th>\n",
       "      <th>Score</th>\n",
       "      <th>GDP per capita</th>\n",
       "      <th>Social support</th>\n",
       "      <th>Freedom to make life choices</th>\n",
       "      <th>Generosity</th>\n",
       "      <th>Perceptions of corruption</th>\n",
       "      <th>Year</th>\n",
       "    </tr>\n",
       "  </thead>\n",
       "  <tbody>\n",
       "    <tr>\n",
       "      <th>0</th>\n",
       "      <td>Finland</td>\n",
       "      <td>7.632</td>\n",
       "      <td>1.305</td>\n",
       "      <td>1.592</td>\n",
       "      <td>0.681</td>\n",
       "      <td>0.202</td>\n",
       "      <td>0.393</td>\n",
       "      <td>2018</td>\n",
       "    </tr>\n",
       "    <tr>\n",
       "      <th>1</th>\n",
       "      <td>Norway</td>\n",
       "      <td>7.594</td>\n",
       "      <td>1.456</td>\n",
       "      <td>1.582</td>\n",
       "      <td>0.686</td>\n",
       "      <td>0.286</td>\n",
       "      <td>0.340</td>\n",
       "      <td>2018</td>\n",
       "    </tr>\n",
       "    <tr>\n",
       "      <th>2</th>\n",
       "      <td>Denmark</td>\n",
       "      <td>7.555</td>\n",
       "      <td>1.351</td>\n",
       "      <td>1.590</td>\n",
       "      <td>0.683</td>\n",
       "      <td>0.284</td>\n",
       "      <td>0.408</td>\n",
       "      <td>2018</td>\n",
       "    </tr>\n",
       "    <tr>\n",
       "      <th>3</th>\n",
       "      <td>Iceland</td>\n",
       "      <td>7.495</td>\n",
       "      <td>1.343</td>\n",
       "      <td>1.644</td>\n",
       "      <td>0.677</td>\n",
       "      <td>0.353</td>\n",
       "      <td>0.138</td>\n",
       "      <td>2018</td>\n",
       "    </tr>\n",
       "    <tr>\n",
       "      <th>4</th>\n",
       "      <td>Switzerland</td>\n",
       "      <td>7.487</td>\n",
       "      <td>1.420</td>\n",
       "      <td>1.549</td>\n",
       "      <td>0.660</td>\n",
       "      <td>0.256</td>\n",
       "      <td>0.357</td>\n",
       "      <td>2018</td>\n",
       "    </tr>\n",
       "  </tbody>\n",
       "</table>\n",
       "</div>"
      ],
      "text/plain": [
       "  Country or region  Score  GDP per capita  Social support  \\\n",
       "0           Finland  7.632           1.305           1.592   \n",
       "1            Norway  7.594           1.456           1.582   \n",
       "2           Denmark  7.555           1.351           1.590   \n",
       "3           Iceland  7.495           1.343           1.644   \n",
       "4       Switzerland  7.487           1.420           1.549   \n",
       "\n",
       "   Freedom to make life choices  Generosity  Perceptions of corruption  Year  \n",
       "0                         0.681       0.202                      0.393  2018  \n",
       "1                         0.686       0.286                      0.340  2018  \n",
       "2                         0.683       0.284                      0.408  2018  \n",
       "3                         0.677       0.353                      0.138  2018  \n",
       "4                         0.660       0.256                      0.357  2018  "
      ]
     },
     "execution_count": 148,
     "metadata": {},
     "output_type": "execute_result"
    }
   ],
   "source": [
    "df.rename(columns={'year': 'Year'}, inplace=True)\n",
    "df.head()"
   ]
  },
  {
   "cell_type": "code",
   "execution_count": 149,
   "metadata": {
    "colab": {
     "base_uri": "https://localhost:8080/",
     "height": 178
    },
    "executionInfo": {
     "elapsed": 23,
     "status": "ok",
     "timestamp": 1756733836663,
     "user": {
      "displayName": "Wiktoria Gołębiewska",
      "userId": "05863011323994705695"
     },
     "user_tz": -120
    },
    "id": "lAezpeGfgPIM",
    "outputId": "ffc09fab-e831-4d60-b2fb-8c2456fae841"
   },
   "outputs": [
    {
     "data": {
      "text/plain": [
       "Year\n",
       "2018    156\n",
       "2019    156\n",
       "Name: count, dtype: int64"
      ]
     },
     "execution_count": 149,
     "metadata": {},
     "output_type": "execute_result"
    }
   ],
   "source": [
    "df.Year.value_counts()"
   ]
  },
  {
   "cell_type": "code",
   "execution_count": 150,
   "metadata": {},
   "outputs": [],
   "source": [
    "df_2018=df[df['Year']==2018]"
   ]
  },
  {
   "cell_type": "code",
   "execution_count": 151,
   "metadata": {},
   "outputs": [
    {
     "name": "stdout",
     "output_type": "stream",
     "text": [
      "<class 'pandas.core.frame.DataFrame'>\n",
      "Index: 147 entries, 0 to 1956\n",
      "Data columns (total 8 columns):\n",
      " #   Column                        Non-Null Count  Dtype  \n",
      "---  ------                        --------------  -----  \n",
      " 0   Year                          147 non-null    int64  \n",
      " 1   Country or region             147 non-null    object \n",
      " 2   Score                         147 non-null    float64\n",
      " 3   GDP per capita                147 non-null    float64\n",
      " 4   Social support                147 non-null    float64\n",
      " 5   Freedom to make life choices  146 non-null    float64\n",
      " 6   Generosity                    147 non-null    float64\n",
      " 7   Perceptions of corruption     146 non-null    float64\n",
      "dtypes: float64(6), int64(1), object(1)\n",
      "memory usage: 10.3+ KB\n"
     ]
    }
   ],
   "source": [
    "df_2024.info()"
   ]
  },
  {
   "cell_type": "code",
   "execution_count": 152,
   "metadata": {},
   "outputs": [
    {
     "data": {
      "text/html": [
       "<div>\n",
       "<style scoped>\n",
       "    .dataframe tbody tr th:only-of-type {\n",
       "        vertical-align: middle;\n",
       "    }\n",
       "\n",
       "    .dataframe tbody tr th {\n",
       "        vertical-align: top;\n",
       "    }\n",
       "\n",
       "    .dataframe thead th {\n",
       "        text-align: right;\n",
       "    }\n",
       "</style>\n",
       "<table border=\"1\" class=\"dataframe\">\n",
       "  <thead>\n",
       "    <tr style=\"text-align: right;\">\n",
       "      <th></th>\n",
       "      <th>Year</th>\n",
       "      <th>Country or region</th>\n",
       "      <th>Score</th>\n",
       "      <th>GDP per capita</th>\n",
       "      <th>Social support</th>\n",
       "      <th>Freedom to make life choices</th>\n",
       "      <th>Generosity</th>\n",
       "      <th>Perceptions of corruption</th>\n",
       "    </tr>\n",
       "  </thead>\n",
       "  <tbody>\n",
       "    <tr>\n",
       "      <th>0</th>\n",
       "      <td>2024</td>\n",
       "      <td>Finland</td>\n",
       "      <td>7.736</td>\n",
       "      <td>1.749</td>\n",
       "      <td>1.783</td>\n",
       "      <td>0.986</td>\n",
       "      <td>0.110</td>\n",
       "      <td>0.502</td>\n",
       "    </tr>\n",
       "    <tr>\n",
       "      <th>13</th>\n",
       "      <td>2024</td>\n",
       "      <td>Denmark</td>\n",
       "      <td>7.521</td>\n",
       "      <td>1.825</td>\n",
       "      <td>1.748</td>\n",
       "      <td>0.955</td>\n",
       "      <td>0.150</td>\n",
       "      <td>0.488</td>\n",
       "    </tr>\n",
       "    <tr>\n",
       "      <th>26</th>\n",
       "      <td>2024</td>\n",
       "      <td>Iceland</td>\n",
       "      <td>7.515</td>\n",
       "      <td>1.799</td>\n",
       "      <td>1.840</td>\n",
       "      <td>0.971</td>\n",
       "      <td>0.201</td>\n",
       "      <td>0.173</td>\n",
       "    </tr>\n",
       "    <tr>\n",
       "      <th>45</th>\n",
       "      <td>2024</td>\n",
       "      <td>Sweden</td>\n",
       "      <td>7.345</td>\n",
       "      <td>1.783</td>\n",
       "      <td>1.698</td>\n",
       "      <td>0.952</td>\n",
       "      <td>0.170</td>\n",
       "      <td>0.467</td>\n",
       "    </tr>\n",
       "    <tr>\n",
       "      <th>58</th>\n",
       "      <td>2024</td>\n",
       "      <td>Netherlands</td>\n",
       "      <td>7.306</td>\n",
       "      <td>1.822</td>\n",
       "      <td>1.667</td>\n",
       "      <td>0.860</td>\n",
       "      <td>0.186</td>\n",
       "      <td>0.344</td>\n",
       "    </tr>\n",
       "  </tbody>\n",
       "</table>\n",
       "</div>"
      ],
      "text/plain": [
       "    Year Country or region  Score  GDP per capita  Social support  \\\n",
       "0   2024           Finland  7.736           1.749           1.783   \n",
       "13  2024           Denmark  7.521           1.825           1.748   \n",
       "26  2024           Iceland  7.515           1.799           1.840   \n",
       "45  2024            Sweden  7.345           1.783           1.698   \n",
       "58  2024       Netherlands  7.306           1.822           1.667   \n",
       "\n",
       "    Freedom to make life choices  Generosity  Perceptions of corruption  \n",
       "0                          0.986       0.110                      0.502  \n",
       "13                         0.955       0.150                      0.488  \n",
       "26                         0.971       0.201                      0.173  \n",
       "45                         0.952       0.170                      0.467  \n",
       "58                         0.860       0.186                      0.344  "
      ]
     },
     "execution_count": 152,
     "metadata": {},
     "output_type": "execute_result"
    }
   ],
   "source": [
    "df_2024.rename(columns={'Country name': 'Country or region'}, inplace=True)\n",
    "df_2024.head()"
   ]
  },
  {
   "cell_type": "code",
   "execution_count": 153,
   "metadata": {},
   "outputs": [
    {
     "data": {
      "text/html": [
       "<div>\n",
       "<style scoped>\n",
       "    .dataframe tbody tr th:only-of-type {\n",
       "        vertical-align: middle;\n",
       "    }\n",
       "\n",
       "    .dataframe tbody tr th {\n",
       "        vertical-align: top;\n",
       "    }\n",
       "\n",
       "    .dataframe thead th {\n",
       "        text-align: right;\n",
       "    }\n",
       "</style>\n",
       "<table border=\"1\" class=\"dataframe\">\n",
       "  <thead>\n",
       "    <tr style=\"text-align: right;\">\n",
       "      <th></th>\n",
       "      <th>Year</th>\n",
       "      <th>Country or region</th>\n",
       "      <th>Score</th>\n",
       "      <th>GDP per capita</th>\n",
       "      <th>Social support</th>\n",
       "      <th>Freedom to make life choices</th>\n",
       "      <th>Generosity</th>\n",
       "      <th>Perceptions of corruption</th>\n",
       "    </tr>\n",
       "  </thead>\n",
       "  <tbody>\n",
       "    <tr>\n",
       "      <th>0</th>\n",
       "      <td>2024</td>\n",
       "      <td>Finland</td>\n",
       "      <td>7.736</td>\n",
       "      <td>1.749</td>\n",
       "      <td>1.783</td>\n",
       "      <td>0.986</td>\n",
       "      <td>0.110</td>\n",
       "      <td>0.502</td>\n",
       "    </tr>\n",
       "    <tr>\n",
       "      <th>13</th>\n",
       "      <td>2024</td>\n",
       "      <td>Denmark</td>\n",
       "      <td>7.521</td>\n",
       "      <td>1.825</td>\n",
       "      <td>1.748</td>\n",
       "      <td>0.955</td>\n",
       "      <td>0.150</td>\n",
       "      <td>0.488</td>\n",
       "    </tr>\n",
       "    <tr>\n",
       "      <th>26</th>\n",
       "      <td>2024</td>\n",
       "      <td>Iceland</td>\n",
       "      <td>7.515</td>\n",
       "      <td>1.799</td>\n",
       "      <td>1.840</td>\n",
       "      <td>0.971</td>\n",
       "      <td>0.201</td>\n",
       "      <td>0.173</td>\n",
       "    </tr>\n",
       "    <tr>\n",
       "      <th>45</th>\n",
       "      <td>2024</td>\n",
       "      <td>Sweden</td>\n",
       "      <td>7.345</td>\n",
       "      <td>1.783</td>\n",
       "      <td>1.698</td>\n",
       "      <td>0.952</td>\n",
       "      <td>0.170</td>\n",
       "      <td>0.467</td>\n",
       "    </tr>\n",
       "    <tr>\n",
       "      <th>58</th>\n",
       "      <td>2024</td>\n",
       "      <td>Netherlands</td>\n",
       "      <td>7.306</td>\n",
       "      <td>1.822</td>\n",
       "      <td>1.667</td>\n",
       "      <td>0.860</td>\n",
       "      <td>0.186</td>\n",
       "      <td>0.344</td>\n",
       "    </tr>\n",
       "  </tbody>\n",
       "</table>\n",
       "</div>"
      ],
      "text/plain": [
       "    Year Country or region  Score  GDP per capita  Social support  \\\n",
       "0   2024           Finland  7.736           1.749           1.783   \n",
       "13  2024           Denmark  7.521           1.825           1.748   \n",
       "26  2024           Iceland  7.515           1.799           1.840   \n",
       "45  2024            Sweden  7.345           1.783           1.698   \n",
       "58  2024       Netherlands  7.306           1.822           1.667   \n",
       "\n",
       "    Freedom to make life choices  Generosity  Perceptions of corruption  \n",
       "0                          0.986       0.110                      0.502  \n",
       "13                         0.955       0.150                      0.488  \n",
       "26                         0.971       0.201                      0.173  \n",
       "45                         0.952       0.170                      0.467  \n",
       "58                         0.860       0.186                      0.344  "
      ]
     },
     "execution_count": 153,
     "metadata": {},
     "output_type": "execute_result"
    }
   ],
   "source": [
    "df_2024.rename(columns={'Ladder score': 'Score'}, inplace=True)\n",
    "df_2024.head()"
   ]
  },
  {
   "cell_type": "code",
   "execution_count": 154,
   "metadata": {},
   "outputs": [
    {
     "data": {
      "text/html": [
       "<div>\n",
       "<style scoped>\n",
       "    .dataframe tbody tr th:only-of-type {\n",
       "        vertical-align: middle;\n",
       "    }\n",
       "\n",
       "    .dataframe tbody tr th {\n",
       "        vertical-align: top;\n",
       "    }\n",
       "\n",
       "    .dataframe thead th {\n",
       "        text-align: right;\n",
       "    }\n",
       "</style>\n",
       "<table border=\"1\" class=\"dataframe\">\n",
       "  <thead>\n",
       "    <tr style=\"text-align: right;\">\n",
       "      <th></th>\n",
       "      <th>Year</th>\n",
       "      <th>Country or region</th>\n",
       "      <th>Score</th>\n",
       "      <th>GDP per capita</th>\n",
       "      <th>Social support</th>\n",
       "      <th>Freedom to make life choices</th>\n",
       "      <th>Generosity</th>\n",
       "      <th>Perceptions of corruption</th>\n",
       "    </tr>\n",
       "  </thead>\n",
       "  <tbody>\n",
       "    <tr>\n",
       "      <th>0</th>\n",
       "      <td>2024</td>\n",
       "      <td>Finland</td>\n",
       "      <td>7.736</td>\n",
       "      <td>1.749</td>\n",
       "      <td>1.783</td>\n",
       "      <td>0.986</td>\n",
       "      <td>0.110</td>\n",
       "      <td>0.502</td>\n",
       "    </tr>\n",
       "    <tr>\n",
       "      <th>13</th>\n",
       "      <td>2024</td>\n",
       "      <td>Denmark</td>\n",
       "      <td>7.521</td>\n",
       "      <td>1.825</td>\n",
       "      <td>1.748</td>\n",
       "      <td>0.955</td>\n",
       "      <td>0.150</td>\n",
       "      <td>0.488</td>\n",
       "    </tr>\n",
       "    <tr>\n",
       "      <th>26</th>\n",
       "      <td>2024</td>\n",
       "      <td>Iceland</td>\n",
       "      <td>7.515</td>\n",
       "      <td>1.799</td>\n",
       "      <td>1.840</td>\n",
       "      <td>0.971</td>\n",
       "      <td>0.201</td>\n",
       "      <td>0.173</td>\n",
       "    </tr>\n",
       "    <tr>\n",
       "      <th>45</th>\n",
       "      <td>2024</td>\n",
       "      <td>Sweden</td>\n",
       "      <td>7.345</td>\n",
       "      <td>1.783</td>\n",
       "      <td>1.698</td>\n",
       "      <td>0.952</td>\n",
       "      <td>0.170</td>\n",
       "      <td>0.467</td>\n",
       "    </tr>\n",
       "    <tr>\n",
       "      <th>58</th>\n",
       "      <td>2024</td>\n",
       "      <td>Netherlands</td>\n",
       "      <td>7.306</td>\n",
       "      <td>1.822</td>\n",
       "      <td>1.667</td>\n",
       "      <td>0.860</td>\n",
       "      <td>0.186</td>\n",
       "      <td>0.344</td>\n",
       "    </tr>\n",
       "  </tbody>\n",
       "</table>\n",
       "</div>"
      ],
      "text/plain": [
       "    Year Country or region  Score  GDP per capita  Social support  \\\n",
       "0   2024           Finland  7.736           1.749           1.783   \n",
       "13  2024           Denmark  7.521           1.825           1.748   \n",
       "26  2024           Iceland  7.515           1.799           1.840   \n",
       "45  2024            Sweden  7.345           1.783           1.698   \n",
       "58  2024       Netherlands  7.306           1.822           1.667   \n",
       "\n",
       "    Freedom to make life choices  Generosity  Perceptions of corruption  \n",
       "0                          0.986       0.110                      0.502  \n",
       "13                         0.955       0.150                      0.488  \n",
       "26                         0.971       0.201                      0.173  \n",
       "45                         0.952       0.170                      0.467  \n",
       "58                         0.860       0.186                      0.344  "
      ]
     },
     "execution_count": 154,
     "metadata": {},
     "output_type": "execute_result"
    }
   ],
   "source": [
    "df_2024.rename(columns={'Explained by: Log GDP per capita': 'GDP per capita'}, inplace=True)\n",
    "df_2024.head()"
   ]
  },
  {
   "cell_type": "code",
   "execution_count": 155,
   "metadata": {},
   "outputs": [
    {
     "data": {
      "text/html": [
       "<div>\n",
       "<style scoped>\n",
       "    .dataframe tbody tr th:only-of-type {\n",
       "        vertical-align: middle;\n",
       "    }\n",
       "\n",
       "    .dataframe tbody tr th {\n",
       "        vertical-align: top;\n",
       "    }\n",
       "\n",
       "    .dataframe thead th {\n",
       "        text-align: right;\n",
       "    }\n",
       "</style>\n",
       "<table border=\"1\" class=\"dataframe\">\n",
       "  <thead>\n",
       "    <tr style=\"text-align: right;\">\n",
       "      <th></th>\n",
       "      <th>Year</th>\n",
       "      <th>Country or region</th>\n",
       "      <th>Score</th>\n",
       "      <th>GDP per capita</th>\n",
       "      <th>Social support</th>\n",
       "      <th>Freedom to make life choices</th>\n",
       "      <th>Generosity</th>\n",
       "      <th>Perceptions of corruption</th>\n",
       "    </tr>\n",
       "  </thead>\n",
       "  <tbody>\n",
       "    <tr>\n",
       "      <th>0</th>\n",
       "      <td>2024</td>\n",
       "      <td>Finland</td>\n",
       "      <td>7.736</td>\n",
       "      <td>1.749</td>\n",
       "      <td>1.783</td>\n",
       "      <td>0.986</td>\n",
       "      <td>0.110</td>\n",
       "      <td>0.502</td>\n",
       "    </tr>\n",
       "    <tr>\n",
       "      <th>13</th>\n",
       "      <td>2024</td>\n",
       "      <td>Denmark</td>\n",
       "      <td>7.521</td>\n",
       "      <td>1.825</td>\n",
       "      <td>1.748</td>\n",
       "      <td>0.955</td>\n",
       "      <td>0.150</td>\n",
       "      <td>0.488</td>\n",
       "    </tr>\n",
       "    <tr>\n",
       "      <th>26</th>\n",
       "      <td>2024</td>\n",
       "      <td>Iceland</td>\n",
       "      <td>7.515</td>\n",
       "      <td>1.799</td>\n",
       "      <td>1.840</td>\n",
       "      <td>0.971</td>\n",
       "      <td>0.201</td>\n",
       "      <td>0.173</td>\n",
       "    </tr>\n",
       "    <tr>\n",
       "      <th>45</th>\n",
       "      <td>2024</td>\n",
       "      <td>Sweden</td>\n",
       "      <td>7.345</td>\n",
       "      <td>1.783</td>\n",
       "      <td>1.698</td>\n",
       "      <td>0.952</td>\n",
       "      <td>0.170</td>\n",
       "      <td>0.467</td>\n",
       "    </tr>\n",
       "    <tr>\n",
       "      <th>58</th>\n",
       "      <td>2024</td>\n",
       "      <td>Netherlands</td>\n",
       "      <td>7.306</td>\n",
       "      <td>1.822</td>\n",
       "      <td>1.667</td>\n",
       "      <td>0.860</td>\n",
       "      <td>0.186</td>\n",
       "      <td>0.344</td>\n",
       "    </tr>\n",
       "  </tbody>\n",
       "</table>\n",
       "</div>"
      ],
      "text/plain": [
       "    Year Country or region  Score  GDP per capita  Social support  \\\n",
       "0   2024           Finland  7.736           1.749           1.783   \n",
       "13  2024           Denmark  7.521           1.825           1.748   \n",
       "26  2024           Iceland  7.515           1.799           1.840   \n",
       "45  2024            Sweden  7.345           1.783           1.698   \n",
       "58  2024       Netherlands  7.306           1.822           1.667   \n",
       "\n",
       "    Freedom to make life choices  Generosity  Perceptions of corruption  \n",
       "0                          0.986       0.110                      0.502  \n",
       "13                         0.955       0.150                      0.488  \n",
       "26                         0.971       0.201                      0.173  \n",
       "45                         0.952       0.170                      0.467  \n",
       "58                         0.860       0.186                      0.344  "
      ]
     },
     "execution_count": 155,
     "metadata": {},
     "output_type": "execute_result"
    }
   ],
   "source": [
    "df_2024.rename(columns={'Explained by: Social support': 'Social support'}, inplace=True)\n",
    "df_2024.head()"
   ]
  },
  {
   "cell_type": "code",
   "execution_count": 156,
   "metadata": {},
   "outputs": [
    {
     "data": {
      "text/html": [
       "<div>\n",
       "<style scoped>\n",
       "    .dataframe tbody tr th:only-of-type {\n",
       "        vertical-align: middle;\n",
       "    }\n",
       "\n",
       "    .dataframe tbody tr th {\n",
       "        vertical-align: top;\n",
       "    }\n",
       "\n",
       "    .dataframe thead th {\n",
       "        text-align: right;\n",
       "    }\n",
       "</style>\n",
       "<table border=\"1\" class=\"dataframe\">\n",
       "  <thead>\n",
       "    <tr style=\"text-align: right;\">\n",
       "      <th></th>\n",
       "      <th>Year</th>\n",
       "      <th>Country or region</th>\n",
       "      <th>Score</th>\n",
       "      <th>GDP per capita</th>\n",
       "      <th>Social support</th>\n",
       "      <th>Freedom to make life choices</th>\n",
       "      <th>Generosity</th>\n",
       "      <th>Perceptions of corruption</th>\n",
       "    </tr>\n",
       "  </thead>\n",
       "  <tbody>\n",
       "    <tr>\n",
       "      <th>0</th>\n",
       "      <td>2024</td>\n",
       "      <td>Finland</td>\n",
       "      <td>7.736</td>\n",
       "      <td>1.749</td>\n",
       "      <td>1.783</td>\n",
       "      <td>0.986</td>\n",
       "      <td>0.110</td>\n",
       "      <td>0.502</td>\n",
       "    </tr>\n",
       "    <tr>\n",
       "      <th>13</th>\n",
       "      <td>2024</td>\n",
       "      <td>Denmark</td>\n",
       "      <td>7.521</td>\n",
       "      <td>1.825</td>\n",
       "      <td>1.748</td>\n",
       "      <td>0.955</td>\n",
       "      <td>0.150</td>\n",
       "      <td>0.488</td>\n",
       "    </tr>\n",
       "    <tr>\n",
       "      <th>26</th>\n",
       "      <td>2024</td>\n",
       "      <td>Iceland</td>\n",
       "      <td>7.515</td>\n",
       "      <td>1.799</td>\n",
       "      <td>1.840</td>\n",
       "      <td>0.971</td>\n",
       "      <td>0.201</td>\n",
       "      <td>0.173</td>\n",
       "    </tr>\n",
       "    <tr>\n",
       "      <th>45</th>\n",
       "      <td>2024</td>\n",
       "      <td>Sweden</td>\n",
       "      <td>7.345</td>\n",
       "      <td>1.783</td>\n",
       "      <td>1.698</td>\n",
       "      <td>0.952</td>\n",
       "      <td>0.170</td>\n",
       "      <td>0.467</td>\n",
       "    </tr>\n",
       "    <tr>\n",
       "      <th>58</th>\n",
       "      <td>2024</td>\n",
       "      <td>Netherlands</td>\n",
       "      <td>7.306</td>\n",
       "      <td>1.822</td>\n",
       "      <td>1.667</td>\n",
       "      <td>0.860</td>\n",
       "      <td>0.186</td>\n",
       "      <td>0.344</td>\n",
       "    </tr>\n",
       "  </tbody>\n",
       "</table>\n",
       "</div>"
      ],
      "text/plain": [
       "    Year Country or region  Score  GDP per capita  Social support  \\\n",
       "0   2024           Finland  7.736           1.749           1.783   \n",
       "13  2024           Denmark  7.521           1.825           1.748   \n",
       "26  2024           Iceland  7.515           1.799           1.840   \n",
       "45  2024            Sweden  7.345           1.783           1.698   \n",
       "58  2024       Netherlands  7.306           1.822           1.667   \n",
       "\n",
       "    Freedom to make life choices  Generosity  Perceptions of corruption  \n",
       "0                          0.986       0.110                      0.502  \n",
       "13                         0.955       0.150                      0.488  \n",
       "26                         0.971       0.201                      0.173  \n",
       "45                         0.952       0.170                      0.467  \n",
       "58                         0.860       0.186                      0.344  "
      ]
     },
     "execution_count": 156,
     "metadata": {},
     "output_type": "execute_result"
    }
   ],
   "source": [
    "df_2024.rename(columns={'Explained by: Generosity': 'Generosity'}, inplace=True)\n",
    "df_2024.head()"
   ]
  },
  {
   "cell_type": "code",
   "execution_count": 157,
   "metadata": {},
   "outputs": [
    {
     "data": {
      "text/html": [
       "<div>\n",
       "<style scoped>\n",
       "    .dataframe tbody tr th:only-of-type {\n",
       "        vertical-align: middle;\n",
       "    }\n",
       "\n",
       "    .dataframe tbody tr th {\n",
       "        vertical-align: top;\n",
       "    }\n",
       "\n",
       "    .dataframe thead th {\n",
       "        text-align: right;\n",
       "    }\n",
       "</style>\n",
       "<table border=\"1\" class=\"dataframe\">\n",
       "  <thead>\n",
       "    <tr style=\"text-align: right;\">\n",
       "      <th></th>\n",
       "      <th>Year</th>\n",
       "      <th>Country or region</th>\n",
       "      <th>Score</th>\n",
       "      <th>GDP per capita</th>\n",
       "      <th>Social support</th>\n",
       "      <th>Freedom to make life choices</th>\n",
       "      <th>Generosity</th>\n",
       "      <th>Perceptions of corruption</th>\n",
       "    </tr>\n",
       "  </thead>\n",
       "  <tbody>\n",
       "    <tr>\n",
       "      <th>0</th>\n",
       "      <td>2024</td>\n",
       "      <td>Finland</td>\n",
       "      <td>7.736</td>\n",
       "      <td>1.749</td>\n",
       "      <td>1.783</td>\n",
       "      <td>0.986</td>\n",
       "      <td>0.110</td>\n",
       "      <td>0.502</td>\n",
       "    </tr>\n",
       "    <tr>\n",
       "      <th>13</th>\n",
       "      <td>2024</td>\n",
       "      <td>Denmark</td>\n",
       "      <td>7.521</td>\n",
       "      <td>1.825</td>\n",
       "      <td>1.748</td>\n",
       "      <td>0.955</td>\n",
       "      <td>0.150</td>\n",
       "      <td>0.488</td>\n",
       "    </tr>\n",
       "    <tr>\n",
       "      <th>26</th>\n",
       "      <td>2024</td>\n",
       "      <td>Iceland</td>\n",
       "      <td>7.515</td>\n",
       "      <td>1.799</td>\n",
       "      <td>1.840</td>\n",
       "      <td>0.971</td>\n",
       "      <td>0.201</td>\n",
       "      <td>0.173</td>\n",
       "    </tr>\n",
       "    <tr>\n",
       "      <th>45</th>\n",
       "      <td>2024</td>\n",
       "      <td>Sweden</td>\n",
       "      <td>7.345</td>\n",
       "      <td>1.783</td>\n",
       "      <td>1.698</td>\n",
       "      <td>0.952</td>\n",
       "      <td>0.170</td>\n",
       "      <td>0.467</td>\n",
       "    </tr>\n",
       "    <tr>\n",
       "      <th>58</th>\n",
       "      <td>2024</td>\n",
       "      <td>Netherlands</td>\n",
       "      <td>7.306</td>\n",
       "      <td>1.822</td>\n",
       "      <td>1.667</td>\n",
       "      <td>0.860</td>\n",
       "      <td>0.186</td>\n",
       "      <td>0.344</td>\n",
       "    </tr>\n",
       "  </tbody>\n",
       "</table>\n",
       "</div>"
      ],
      "text/plain": [
       "    Year Country or region  Score  GDP per capita  Social support  \\\n",
       "0   2024           Finland  7.736           1.749           1.783   \n",
       "13  2024           Denmark  7.521           1.825           1.748   \n",
       "26  2024           Iceland  7.515           1.799           1.840   \n",
       "45  2024            Sweden  7.345           1.783           1.698   \n",
       "58  2024       Netherlands  7.306           1.822           1.667   \n",
       "\n",
       "    Freedom to make life choices  Generosity  Perceptions of corruption  \n",
       "0                          0.986       0.110                      0.502  \n",
       "13                         0.955       0.150                      0.488  \n",
       "26                         0.971       0.201                      0.173  \n",
       "45                         0.952       0.170                      0.467  \n",
       "58                         0.860       0.186                      0.344  "
      ]
     },
     "execution_count": 157,
     "metadata": {},
     "output_type": "execute_result"
    }
   ],
   "source": [
    "df_2024.rename(columns={'Explained by: Freedom to make life choices': 'Freedom to make life choices'}, inplace=True)\n",
    "df_2024.head()"
   ]
  },
  {
   "cell_type": "code",
   "execution_count": 158,
   "metadata": {},
   "outputs": [
    {
     "name": "stdout",
     "output_type": "stream",
     "text": [
      "<class 'pandas.core.frame.DataFrame'>\n",
      "Index: 147 entries, 0 to 1956\n",
      "Data columns (total 8 columns):\n",
      " #   Column                        Non-Null Count  Dtype  \n",
      "---  ------                        --------------  -----  \n",
      " 0   Year                          147 non-null    int64  \n",
      " 1   Country or region             147 non-null    object \n",
      " 2   Score                         147 non-null    float64\n",
      " 3   GDP per capita                147 non-null    float64\n",
      " 4   Social support                147 non-null    float64\n",
      " 5   Freedom to make life choices  146 non-null    float64\n",
      " 6   Generosity                    147 non-null    float64\n",
      " 7   Perceptions of corruption     146 non-null    float64\n",
      "dtypes: float64(6), int64(1), object(1)\n",
      "memory usage: 10.3+ KB\n"
     ]
    }
   ],
   "source": [
    "df_2024.info()"
   ]
  },
  {
   "cell_type": "code",
   "execution_count": 159,
   "metadata": {},
   "outputs": [
    {
     "data": {
      "text/html": [
       "<div>\n",
       "<style scoped>\n",
       "    .dataframe tbody tr th:only-of-type {\n",
       "        vertical-align: middle;\n",
       "    }\n",
       "\n",
       "    .dataframe tbody tr th {\n",
       "        vertical-align: top;\n",
       "    }\n",
       "\n",
       "    .dataframe thead th {\n",
       "        text-align: right;\n",
       "    }\n",
       "</style>\n",
       "<table border=\"1\" class=\"dataframe\">\n",
       "  <thead>\n",
       "    <tr style=\"text-align: right;\">\n",
       "      <th></th>\n",
       "      <th>Year</th>\n",
       "      <th>Country or region</th>\n",
       "      <th>Score</th>\n",
       "      <th>GDP per capita</th>\n",
       "      <th>Social support</th>\n",
       "      <th>Freedom to make life choices</th>\n",
       "      <th>Generosity</th>\n",
       "      <th>Perceptions of corruption</th>\n",
       "    </tr>\n",
       "  </thead>\n",
       "  <tbody>\n",
       "    <tr>\n",
       "      <th>0</th>\n",
       "      <td>2024</td>\n",
       "      <td>Finland</td>\n",
       "      <td>7.736</td>\n",
       "      <td>1.749</td>\n",
       "      <td>1.783</td>\n",
       "      <td>0.986</td>\n",
       "      <td>0.110</td>\n",
       "      <td>0.502</td>\n",
       "    </tr>\n",
       "    <tr>\n",
       "      <th>13</th>\n",
       "      <td>2024</td>\n",
       "      <td>Denmark</td>\n",
       "      <td>7.521</td>\n",
       "      <td>1.825</td>\n",
       "      <td>1.748</td>\n",
       "      <td>0.955</td>\n",
       "      <td>0.150</td>\n",
       "      <td>0.488</td>\n",
       "    </tr>\n",
       "    <tr>\n",
       "      <th>26</th>\n",
       "      <td>2024</td>\n",
       "      <td>Iceland</td>\n",
       "      <td>7.515</td>\n",
       "      <td>1.799</td>\n",
       "      <td>1.840</td>\n",
       "      <td>0.971</td>\n",
       "      <td>0.201</td>\n",
       "      <td>0.173</td>\n",
       "    </tr>\n",
       "    <tr>\n",
       "      <th>45</th>\n",
       "      <td>2024</td>\n",
       "      <td>Sweden</td>\n",
       "      <td>7.345</td>\n",
       "      <td>1.783</td>\n",
       "      <td>1.698</td>\n",
       "      <td>0.952</td>\n",
       "      <td>0.170</td>\n",
       "      <td>0.467</td>\n",
       "    </tr>\n",
       "    <tr>\n",
       "      <th>58</th>\n",
       "      <td>2024</td>\n",
       "      <td>Netherlands</td>\n",
       "      <td>7.306</td>\n",
       "      <td>1.822</td>\n",
       "      <td>1.667</td>\n",
       "      <td>0.860</td>\n",
       "      <td>0.186</td>\n",
       "      <td>0.344</td>\n",
       "    </tr>\n",
       "  </tbody>\n",
       "</table>\n",
       "</div>"
      ],
      "text/plain": [
       "    Year Country or region  Score  GDP per capita  Social support  \\\n",
       "0   2024           Finland  7.736           1.749           1.783   \n",
       "13  2024           Denmark  7.521           1.825           1.748   \n",
       "26  2024           Iceland  7.515           1.799           1.840   \n",
       "45  2024            Sweden  7.345           1.783           1.698   \n",
       "58  2024       Netherlands  7.306           1.822           1.667   \n",
       "\n",
       "    Freedom to make life choices  Generosity  Perceptions of corruption  \n",
       "0                          0.986       0.110                      0.502  \n",
       "13                         0.955       0.150                      0.488  \n",
       "26                         0.971       0.201                      0.173  \n",
       "45                         0.952       0.170                      0.467  \n",
       "58                         0.860       0.186                      0.344  "
      ]
     },
     "execution_count": 159,
     "metadata": {},
     "output_type": "execute_result"
    }
   ],
   "source": [
    "df_2024.head()"
   ]
  },
  {
   "cell_type": "code",
   "execution_count": 160,
   "metadata": {},
   "outputs": [
    {
     "data": {
      "text/plain": [
       "Index(['Country or region', 'Score', 'GDP per capita', 'Social support',\n",
       "       'Freedom to make life choices', 'Generosity',\n",
       "       'Perceptions of corruption', 'Year'],\n",
       "      dtype='object')"
      ]
     },
     "execution_count": 160,
     "metadata": {},
     "output_type": "execute_result"
    }
   ],
   "source": [
    "df_2018.columns"
   ]
  },
  {
   "cell_type": "code",
   "execution_count": 161,
   "metadata": {},
   "outputs": [
    {
     "data": {
      "text/plain": [
       "Index(['Year', 'Country or region', 'Score', 'GDP per capita',\n",
       "       'Social support', 'Freedom to make life choices', 'Generosity',\n",
       "       'Perceptions of corruption'],\n",
       "      dtype='object')"
      ]
     },
     "execution_count": 161,
     "metadata": {},
     "output_type": "execute_result"
    }
   ],
   "source": [
    "df_2024.columns"
   ]
  },
  {
   "cell_type": "code",
   "execution_count": 162,
   "metadata": {},
   "outputs": [],
   "source": [
    "new_order = ['Country or region', 'Score', 'GDP per capita', 'Social support',\n",
    "       'Freedom to make life choices', 'Generosity',\n",
    "       'Perceptions of corruption', 'Year']"
   ]
  },
  {
   "cell_type": "code",
   "execution_count": 163,
   "metadata": {},
   "outputs": [],
   "source": [
    "df_2024_reordered = df_2024[new_order]"
   ]
  },
  {
   "cell_type": "code",
   "execution_count": 164,
   "metadata": {},
   "outputs": [
    {
     "data": {
      "text/html": [
       "<div>\n",
       "<style scoped>\n",
       "    .dataframe tbody tr th:only-of-type {\n",
       "        vertical-align: middle;\n",
       "    }\n",
       "\n",
       "    .dataframe tbody tr th {\n",
       "        vertical-align: top;\n",
       "    }\n",
       "\n",
       "    .dataframe thead th {\n",
       "        text-align: right;\n",
       "    }\n",
       "</style>\n",
       "<table border=\"1\" class=\"dataframe\">\n",
       "  <thead>\n",
       "    <tr style=\"text-align: right;\">\n",
       "      <th></th>\n",
       "      <th>Country or region</th>\n",
       "      <th>Score</th>\n",
       "      <th>GDP per capita</th>\n",
       "      <th>Social support</th>\n",
       "      <th>Freedom to make life choices</th>\n",
       "      <th>Generosity</th>\n",
       "      <th>Perceptions of corruption</th>\n",
       "      <th>Year</th>\n",
       "    </tr>\n",
       "  </thead>\n",
       "  <tbody>\n",
       "    <tr>\n",
       "      <th>0</th>\n",
       "      <td>Finland</td>\n",
       "      <td>7.736</td>\n",
       "      <td>1.749</td>\n",
       "      <td>1.783</td>\n",
       "      <td>0.986</td>\n",
       "      <td>0.110</td>\n",
       "      <td>0.502</td>\n",
       "      <td>2024</td>\n",
       "    </tr>\n",
       "    <tr>\n",
       "      <th>13</th>\n",
       "      <td>Denmark</td>\n",
       "      <td>7.521</td>\n",
       "      <td>1.825</td>\n",
       "      <td>1.748</td>\n",
       "      <td>0.955</td>\n",
       "      <td>0.150</td>\n",
       "      <td>0.488</td>\n",
       "      <td>2024</td>\n",
       "    </tr>\n",
       "    <tr>\n",
       "      <th>26</th>\n",
       "      <td>Iceland</td>\n",
       "      <td>7.515</td>\n",
       "      <td>1.799</td>\n",
       "      <td>1.840</td>\n",
       "      <td>0.971</td>\n",
       "      <td>0.201</td>\n",
       "      <td>0.173</td>\n",
       "      <td>2024</td>\n",
       "    </tr>\n",
       "    <tr>\n",
       "      <th>45</th>\n",
       "      <td>Sweden</td>\n",
       "      <td>7.345</td>\n",
       "      <td>1.783</td>\n",
       "      <td>1.698</td>\n",
       "      <td>0.952</td>\n",
       "      <td>0.170</td>\n",
       "      <td>0.467</td>\n",
       "      <td>2024</td>\n",
       "    </tr>\n",
       "    <tr>\n",
       "      <th>58</th>\n",
       "      <td>Netherlands</td>\n",
       "      <td>7.306</td>\n",
       "      <td>1.822</td>\n",
       "      <td>1.667</td>\n",
       "      <td>0.860</td>\n",
       "      <td>0.186</td>\n",
       "      <td>0.344</td>\n",
       "      <td>2024</td>\n",
       "    </tr>\n",
       "  </tbody>\n",
       "</table>\n",
       "</div>"
      ],
      "text/plain": [
       "   Country or region  Score  GDP per capita  Social support  \\\n",
       "0            Finland  7.736           1.749           1.783   \n",
       "13           Denmark  7.521           1.825           1.748   \n",
       "26           Iceland  7.515           1.799           1.840   \n",
       "45            Sweden  7.345           1.783           1.698   \n",
       "58       Netherlands  7.306           1.822           1.667   \n",
       "\n",
       "    Freedom to make life choices  Generosity  Perceptions of corruption  Year  \n",
       "0                          0.986       0.110                      0.502  2024  \n",
       "13                         0.955       0.150                      0.488  2024  \n",
       "26                         0.971       0.201                      0.173  2024  \n",
       "45                         0.952       0.170                      0.467  2024  \n",
       "58                         0.860       0.186                      0.344  2024  "
      ]
     },
     "execution_count": 164,
     "metadata": {},
     "output_type": "execute_result"
    }
   ],
   "source": [
    "df_2024=df_2024_reordered\n",
    "df_2024.head()"
   ]
  },
  {
   "cell_type": "code",
   "execution_count": 165,
   "metadata": {
    "executionInfo": {
     "elapsed": 8,
     "status": "ok",
     "timestamp": 1756733836678,
     "user": {
      "displayName": "Wiktoria Gołębiewska",
      "userId": "05863011323994705695"
     },
     "user_tz": -120
    },
    "id": "t_3wb1CigPIO"
   },
   "outputs": [],
   "source": [
    "numeric_only_2024=df_2024.select_dtypes(include='number')"
   ]
  },
  {
   "cell_type": "code",
   "execution_count": 166,
   "metadata": {},
   "outputs": [],
   "source": [
    "numeric_only_2018=df_2018.select_dtypes(include='number')"
   ]
  },
  {
   "cell_type": "code",
   "execution_count": 167,
   "metadata": {
    "colab": {
     "base_uri": "https://localhost:8080/",
     "height": 300
    },
    "executionInfo": {
     "elapsed": 20,
     "status": "ok",
     "timestamp": 1756733836697,
     "user": {
      "displayName": "Wiktoria Gołębiewska",
      "userId": "05863011323994705695"
     },
     "user_tz": -120
    },
    "id": "j_ZIXhAwgPIO",
    "outputId": "ec0d0d26-3e54-4ac5-dbb3-bfa396fa060a"
   },
   "outputs": [
    {
     "data": {
      "text/html": [
       "<div>\n",
       "<style scoped>\n",
       "    .dataframe tbody tr th:only-of-type {\n",
       "        vertical-align: middle;\n",
       "    }\n",
       "\n",
       "    .dataframe tbody tr th {\n",
       "        vertical-align: top;\n",
       "    }\n",
       "\n",
       "    .dataframe thead th {\n",
       "        text-align: right;\n",
       "    }\n",
       "</style>\n",
       "<table border=\"1\" class=\"dataframe\">\n",
       "  <thead>\n",
       "    <tr style=\"text-align: right;\">\n",
       "      <th></th>\n",
       "      <th>Score</th>\n",
       "      <th>GDP per capita</th>\n",
       "      <th>Social support</th>\n",
       "      <th>Freedom to make life choices</th>\n",
       "      <th>Generosity</th>\n",
       "      <th>Perceptions of corruption</th>\n",
       "      <th>Year</th>\n",
       "    </tr>\n",
       "  </thead>\n",
       "  <tbody>\n",
       "    <tr>\n",
       "      <th>Score</th>\n",
       "      <td>1.000000</td>\n",
       "      <td>0.763269</td>\n",
       "      <td>0.812122</td>\n",
       "      <td>0.634400</td>\n",
       "      <td>0.054351</td>\n",
       "      <td>0.412457</td>\n",
       "      <td>NaN</td>\n",
       "    </tr>\n",
       "    <tr>\n",
       "      <th>GDP per capita</th>\n",
       "      <td>0.763269</td>\n",
       "      <td>1.000000</td>\n",
       "      <td>0.709762</td>\n",
       "      <td>0.381369</td>\n",
       "      <td>-0.072993</td>\n",
       "      <td>0.384901</td>\n",
       "      <td>NaN</td>\n",
       "    </tr>\n",
       "    <tr>\n",
       "      <th>Social support</th>\n",
       "      <td>0.812122</td>\n",
       "      <td>0.709762</td>\n",
       "      <td>1.000000</td>\n",
       "      <td>0.448095</td>\n",
       "      <td>0.004289</td>\n",
       "      <td>0.217215</td>\n",
       "      <td>NaN</td>\n",
       "    </tr>\n",
       "    <tr>\n",
       "      <th>Freedom to make life choices</th>\n",
       "      <td>0.634400</td>\n",
       "      <td>0.381369</td>\n",
       "      <td>0.448095</td>\n",
       "      <td>1.000000</td>\n",
       "      <td>0.187788</td>\n",
       "      <td>0.314872</td>\n",
       "      <td>NaN</td>\n",
       "    </tr>\n",
       "    <tr>\n",
       "      <th>Generosity</th>\n",
       "      <td>0.054351</td>\n",
       "      <td>-0.072993</td>\n",
       "      <td>0.004289</td>\n",
       "      <td>0.187788</td>\n",
       "      <td>1.000000</td>\n",
       "      <td>0.192828</td>\n",
       "      <td>NaN</td>\n",
       "    </tr>\n",
       "    <tr>\n",
       "      <th>Perceptions of corruption</th>\n",
       "      <td>0.412457</td>\n",
       "      <td>0.384901</td>\n",
       "      <td>0.217215</td>\n",
       "      <td>0.314872</td>\n",
       "      <td>0.192828</td>\n",
       "      <td>1.000000</td>\n",
       "      <td>NaN</td>\n",
       "    </tr>\n",
       "    <tr>\n",
       "      <th>Year</th>\n",
       "      <td>NaN</td>\n",
       "      <td>NaN</td>\n",
       "      <td>NaN</td>\n",
       "      <td>NaN</td>\n",
       "      <td>NaN</td>\n",
       "      <td>NaN</td>\n",
       "      <td>NaN</td>\n",
       "    </tr>\n",
       "  </tbody>\n",
       "</table>\n",
       "</div>"
      ],
      "text/plain": [
       "                                 Score  GDP per capita  Social support  \\\n",
       "Score                         1.000000        0.763269        0.812122   \n",
       "GDP per capita                0.763269        1.000000        0.709762   \n",
       "Social support                0.812122        0.709762        1.000000   \n",
       "Freedom to make life choices  0.634400        0.381369        0.448095   \n",
       "Generosity                    0.054351       -0.072993        0.004289   \n",
       "Perceptions of corruption     0.412457        0.384901        0.217215   \n",
       "Year                               NaN             NaN             NaN   \n",
       "\n",
       "                              Freedom to make life choices  Generosity  \\\n",
       "Score                                             0.634400    0.054351   \n",
       "GDP per capita                                    0.381369   -0.072993   \n",
       "Social support                                    0.448095    0.004289   \n",
       "Freedom to make life choices                      1.000000    0.187788   \n",
       "Generosity                                        0.187788    1.000000   \n",
       "Perceptions of corruption                         0.314872    0.192828   \n",
       "Year                                                   NaN         NaN   \n",
       "\n",
       "                              Perceptions of corruption  Year  \n",
       "Score                                          0.412457   NaN  \n",
       "GDP per capita                                 0.384901   NaN  \n",
       "Social support                                 0.217215   NaN  \n",
       "Freedom to make life choices                   0.314872   NaN  \n",
       "Generosity                                     0.192828   NaN  \n",
       "Perceptions of corruption                      1.000000   NaN  \n",
       "Year                                                NaN   NaN  "
      ]
     },
     "execution_count": 167,
     "metadata": {},
     "output_type": "execute_result"
    }
   ],
   "source": [
    "df_2024_corr=numeric_only_2024.corr()\n",
    "df_2024_corr"
   ]
  },
  {
   "cell_type": "code",
   "execution_count": 168,
   "metadata": {},
   "outputs": [
    {
     "data": {
      "text/html": [
       "<div>\n",
       "<style scoped>\n",
       "    .dataframe tbody tr th:only-of-type {\n",
       "        vertical-align: middle;\n",
       "    }\n",
       "\n",
       "    .dataframe tbody tr th {\n",
       "        vertical-align: top;\n",
       "    }\n",
       "\n",
       "    .dataframe thead th {\n",
       "        text-align: right;\n",
       "    }\n",
       "</style>\n",
       "<table border=\"1\" class=\"dataframe\">\n",
       "  <thead>\n",
       "    <tr style=\"text-align: right;\">\n",
       "      <th></th>\n",
       "      <th>Score</th>\n",
       "      <th>GDP per capita</th>\n",
       "      <th>Social support</th>\n",
       "      <th>Freedom to make life choices</th>\n",
       "      <th>Generosity</th>\n",
       "      <th>Perceptions of corruption</th>\n",
       "      <th>Year</th>\n",
       "    </tr>\n",
       "  </thead>\n",
       "  <tbody>\n",
       "    <tr>\n",
       "      <th>Score</th>\n",
       "      <td>1.000000</td>\n",
       "      <td>0.802124</td>\n",
       "      <td>0.745760</td>\n",
       "      <td>0.544280</td>\n",
       "      <td>0.135825</td>\n",
       "      <td>0.403175</td>\n",
       "      <td>NaN</td>\n",
       "    </tr>\n",
       "    <tr>\n",
       "      <th>GDP per capita</th>\n",
       "      <td>0.802124</td>\n",
       "      <td>1.000000</td>\n",
       "      <td>0.672080</td>\n",
       "      <td>0.332275</td>\n",
       "      <td>-0.011241</td>\n",
       "      <td>0.309481</td>\n",
       "      <td>NaN</td>\n",
       "    </tr>\n",
       "    <tr>\n",
       "      <th>Social support</th>\n",
       "      <td>0.745760</td>\n",
       "      <td>0.672080</td>\n",
       "      <td>1.000000</td>\n",
       "      <td>0.411087</td>\n",
       "      <td>0.018226</td>\n",
       "      <td>0.216945</td>\n",
       "      <td>NaN</td>\n",
       "    </tr>\n",
       "    <tr>\n",
       "      <th>Freedom to make life choices</th>\n",
       "      <td>0.544280</td>\n",
       "      <td>0.332275</td>\n",
       "      <td>0.411087</td>\n",
       "      <td>1.000000</td>\n",
       "      <td>0.297988</td>\n",
       "      <td>0.460837</td>\n",
       "      <td>NaN</td>\n",
       "    </tr>\n",
       "    <tr>\n",
       "      <th>Generosity</th>\n",
       "      <td>0.135825</td>\n",
       "      <td>-0.011241</td>\n",
       "      <td>0.018226</td>\n",
       "      <td>0.297988</td>\n",
       "      <td>1.000000</td>\n",
       "      <td>0.362243</td>\n",
       "      <td>NaN</td>\n",
       "    </tr>\n",
       "    <tr>\n",
       "      <th>Perceptions of corruption</th>\n",
       "      <td>0.403175</td>\n",
       "      <td>0.309481</td>\n",
       "      <td>0.216945</td>\n",
       "      <td>0.460837</td>\n",
       "      <td>0.362243</td>\n",
       "      <td>1.000000</td>\n",
       "      <td>NaN</td>\n",
       "    </tr>\n",
       "    <tr>\n",
       "      <th>Year</th>\n",
       "      <td>NaN</td>\n",
       "      <td>NaN</td>\n",
       "      <td>NaN</td>\n",
       "      <td>NaN</td>\n",
       "      <td>NaN</td>\n",
       "      <td>NaN</td>\n",
       "      <td>NaN</td>\n",
       "    </tr>\n",
       "  </tbody>\n",
       "</table>\n",
       "</div>"
      ],
      "text/plain": [
       "                                 Score  GDP per capita  Social support  \\\n",
       "Score                         1.000000        0.802124        0.745760   \n",
       "GDP per capita                0.802124        1.000000        0.672080   \n",
       "Social support                0.745760        0.672080        1.000000   \n",
       "Freedom to make life choices  0.544280        0.332275        0.411087   \n",
       "Generosity                    0.135825       -0.011241        0.018226   \n",
       "Perceptions of corruption     0.403175        0.309481        0.216945   \n",
       "Year                               NaN             NaN             NaN   \n",
       "\n",
       "                              Freedom to make life choices  Generosity  \\\n",
       "Score                                             0.544280    0.135825   \n",
       "GDP per capita                                    0.332275   -0.011241   \n",
       "Social support                                    0.411087    0.018226   \n",
       "Freedom to make life choices                      1.000000    0.297988   \n",
       "Generosity                                        0.297988    1.000000   \n",
       "Perceptions of corruption                         0.460837    0.362243   \n",
       "Year                                                   NaN         NaN   \n",
       "\n",
       "                              Perceptions of corruption  Year  \n",
       "Score                                          0.403175   NaN  \n",
       "GDP per capita                                 0.309481   NaN  \n",
       "Social support                                 0.216945   NaN  \n",
       "Freedom to make life choices                   0.460837   NaN  \n",
       "Generosity                                     0.362243   NaN  \n",
       "Perceptions of corruption                      1.000000   NaN  \n",
       "Year                                                NaN   NaN  "
      ]
     },
     "execution_count": 168,
     "metadata": {},
     "output_type": "execute_result"
    }
   ],
   "source": [
    "df_2018_corr=numeric_only_2018.corr()\n",
    "df_2018_corr"
   ]
  },
  {
   "cell_type": "code",
   "execution_count": 169,
   "metadata": {},
   "outputs": [],
   "source": [
    "list_happy_2018=list(df_2018.sort_values(by='Score', ascending=False).head(52)['Country or region'])"
   ]
  },
  {
   "cell_type": "code",
   "execution_count": 170,
   "metadata": {},
   "outputs": [],
   "source": [
    "list_happy_2024=list(df_2024.sort_values(by='Score', ascending=False).head(52)['Country or region'])"
   ]
  },
  {
   "cell_type": "code",
   "execution_count": 171,
   "metadata": {},
   "outputs": [],
   "source": [
    "list_sad_2018=list(df_2018.sort_values(by='Score', ascending=False).tail(52)['Country or region'])"
   ]
  },
  {
   "cell_type": "code",
   "execution_count": 172,
   "metadata": {},
   "outputs": [],
   "source": [
    "list_sad_2024=list(df_2024.sort_values(by='Score', ascending=False).tail(52)['Country or region'])"
   ]
  },
  {
   "cell_type": "code",
   "execution_count": 173,
   "metadata": {},
   "outputs": [],
   "source": [
    "list_middle_2018=list(df_2018[(df_2018['Score']<5.945)&(df_2018['Score']>4.724)].sort_values(by='Score', ascending= False)['Country or region'])"
   ]
  },
  {
   "cell_type": "code",
   "execution_count": 174,
   "metadata": {},
   "outputs": [],
   "source": [
    "list_middle_2024=list(df_2024[(df_2024['Score']<6.197)&(df_2024['Score']>5.190)].sort_values(by='Score', ascending= False)['Country or region'])"
   ]
  },
  {
   "cell_type": "code",
   "execution_count": 175,
   "metadata": {},
   "outputs": [],
   "source": [
    "def assign_group(country):\n",
    "    if country in list_happy_2018:\n",
    "        return 'High score of happiness'\n",
    "    elif country in list_sad_2018:\n",
    "        return 'Low score of happiness'\n",
    "    else:\n",
    "        return 'Middle score of happiness'\n",
    "\n",
    "df_2018['Group'] = df_2018['Country or region'].apply(assign_group)"
   ]
  },
  {
   "cell_type": "code",
   "execution_count": 176,
   "metadata": {},
   "outputs": [],
   "source": [
    "def assign_group(country):\n",
    "    if country in list_happy_2024:\n",
    "        return 'High score of happiness'\n",
    "    elif country in list_sad_2024:\n",
    "        return 'Low score of happiness'\n",
    "    else:\n",
    "        return 'Middle score of happiness'\n",
    "\n",
    "df_2024['Group'] = df_2024['Country or region'].apply(assign_group)"
   ]
  },
  {
   "cell_type": "code",
   "execution_count": 177,
   "metadata": {},
   "outputs": [],
   "source": [
    "happiest_countries_2018=df_2018.sort_values(by='Score', ascending=False).head(52)"
   ]
  },
  {
   "cell_type": "code",
   "execution_count": 178,
   "metadata": {
    "colab": {
     "base_uri": "https://localhost:8080/",
     "height": 677
    },
    "executionInfo": {
     "elapsed": 12,
     "status": "ok",
     "timestamp": 1756733836709,
     "user": {
      "displayName": "Wiktoria Gołębiewska",
      "userId": "05863011323994705695"
     },
     "user_tz": -120
    },
    "id": "OomcY8azgPIO",
    "outputId": "7a3e1a92-919f-49c6-f149-9d88d188536c"
   },
   "outputs": [],
   "source": [
    "happiest_countries_2024=df_2024.sort_values(by='Score', ascending=False).head(52)"
   ]
  },
  {
   "cell_type": "code",
   "execution_count": 179,
   "metadata": {},
   "outputs": [],
   "source": [
    "saddest_countries_2018=df_2018.sort_values(by='Score', ascending=False).tail(52)"
   ]
  },
  {
   "cell_type": "code",
   "execution_count": 180,
   "metadata": {
    "colab": {
     "base_uri": "https://localhost:8080/",
     "height": 677
    },
    "executionInfo": {
     "elapsed": 20,
     "status": "ok",
     "timestamp": 1756733836731,
     "user": {
      "displayName": "Wiktoria Gołębiewska",
      "userId": "05863011323994705695"
     },
     "user_tz": -120
    },
    "id": "H_hbx_whgPIO",
    "outputId": "cda0a4bd-caa8-449f-a85c-51386c95863d"
   },
   "outputs": [],
   "source": [
    "saddest_countries_2024=df_2024.sort_values(by='Score', ascending=False).tail(52)"
   ]
  },
  {
   "cell_type": "code",
   "execution_count": 181,
   "metadata": {},
   "outputs": [],
   "source": [
    "middle_countries_2018=df_2018[(df_2018['Score']<5.945)&(df_2018['Score']>4.724)].sort_values(by='Score', ascending= False)"
   ]
  },
  {
   "cell_type": "code",
   "execution_count": 182,
   "metadata": {},
   "outputs": [
    {
     "data": {
      "text/html": [
       "<div>\n",
       "<style scoped>\n",
       "    .dataframe tbody tr th:only-of-type {\n",
       "        vertical-align: middle;\n",
       "    }\n",
       "\n",
       "    .dataframe tbody tr th {\n",
       "        vertical-align: top;\n",
       "    }\n",
       "\n",
       "    .dataframe thead th {\n",
       "        text-align: right;\n",
       "    }\n",
       "</style>\n",
       "<table border=\"1\" class=\"dataframe\">\n",
       "  <thead>\n",
       "    <tr style=\"text-align: right;\">\n",
       "      <th></th>\n",
       "      <th>Country or region</th>\n",
       "      <th>Score</th>\n",
       "      <th>GDP per capita</th>\n",
       "      <th>Social support</th>\n",
       "      <th>Freedom to make life choices</th>\n",
       "      <th>Generosity</th>\n",
       "      <th>Perceptions of corruption</th>\n",
       "      <th>Year</th>\n",
       "      <th>Group</th>\n",
       "    </tr>\n",
       "  </thead>\n",
       "  <tbody>\n",
       "    <tr>\n",
       "      <th>696</th>\n",
       "      <td>Uzbekistan</td>\n",
       "      <td>6.193</td>\n",
       "      <td>1.179</td>\n",
       "      <td>1.615</td>\n",
       "      <td>0.977</td>\n",
       "      <td>0.195</td>\n",
       "      <td>0.208</td>\n",
       "      <td>2024</td>\n",
       "      <td>Middle score of happiness</td>\n",
       "    </tr>\n",
       "    <tr>\n",
       "      <th>709</th>\n",
       "      <td>Paraguay</td>\n",
       "      <td>6.172</td>\n",
       "      <td>1.329</td>\n",
       "      <td>1.615</td>\n",
       "      <td>0.921</td>\n",
       "      <td>0.097</td>\n",
       "      <td>0.063</td>\n",
       "      <td>2024</td>\n",
       "      <td>Middle score of happiness</td>\n",
       "    </tr>\n",
       "    <tr>\n",
       "      <th>722</th>\n",
       "      <td>Japan</td>\n",
       "      <td>6.147</td>\n",
       "      <td>1.678</td>\n",
       "      <td>1.550</td>\n",
       "      <td>0.746</td>\n",
       "      <td>0.014</td>\n",
       "      <td>0.200</td>\n",
       "      <td>2024</td>\n",
       "      <td>Middle score of happiness</td>\n",
       "    </tr>\n",
       "    <tr>\n",
       "      <th>735</th>\n",
       "      <td>Bosnia and Herzegovina</td>\n",
       "      <td>6.136</td>\n",
       "      <td>1.405</td>\n",
       "      <td>1.545</td>\n",
       "      <td>0.749</td>\n",
       "      <td>0.178</td>\n",
       "      <td>0.009</td>\n",
       "      <td>2024</td>\n",
       "      <td>Middle score of happiness</td>\n",
       "    </tr>\n",
       "    <tr>\n",
       "      <th>748</th>\n",
       "      <td>Philippines</td>\n",
       "      <td>6.107</td>\n",
       "      <td>1.177</td>\n",
       "      <td>1.385</td>\n",
       "      <td>0.966</td>\n",
       "      <td>0.075</td>\n",
       "      <td>0.110</td>\n",
       "      <td>2024</td>\n",
       "      <td>Middle score of happiness</td>\n",
       "    </tr>\n",
       "  </tbody>\n",
       "</table>\n",
       "</div>"
      ],
      "text/plain": [
       "          Country or region  Score  GDP per capita  Social support  \\\n",
       "696              Uzbekistan  6.193           1.179           1.615   \n",
       "709                Paraguay  6.172           1.329           1.615   \n",
       "722                   Japan  6.147           1.678           1.550   \n",
       "735  Bosnia and Herzegovina  6.136           1.405           1.545   \n",
       "748             Philippines  6.107           1.177           1.385   \n",
       "\n",
       "     Freedom to make life choices  Generosity  Perceptions of corruption  \\\n",
       "696                         0.977       0.195                      0.208   \n",
       "709                         0.921       0.097                      0.063   \n",
       "722                         0.746       0.014                      0.200   \n",
       "735                         0.749       0.178                      0.009   \n",
       "748                         0.966       0.075                      0.110   \n",
       "\n",
       "     Year                      Group  \n",
       "696  2024  Middle score of happiness  \n",
       "709  2024  Middle score of happiness  \n",
       "722  2024  Middle score of happiness  \n",
       "735  2024  Middle score of happiness  \n",
       "748  2024  Middle score of happiness  "
      ]
     },
     "execution_count": 182,
     "metadata": {},
     "output_type": "execute_result"
    }
   ],
   "source": [
    "middle_countries_2024=df_2024[(df_2024['Score']<6.197)&(df_2024['Score']>5.190)].sort_values(by='Score', ascending= False)\n",
    "middle_countries_2024.head()"
   ]
  },
  {
   "cell_type": "code",
   "execution_count": 183,
   "metadata": {},
   "outputs": [
    {
     "data": {
      "text/plain": [
       "147"
      ]
     },
     "execution_count": 183,
     "metadata": {},
     "output_type": "execute_result"
    }
   ],
   "source": [
    "len(df_2024)"
   ]
  },
  {
   "cell_type": "code",
   "execution_count": 184,
   "metadata": {},
   "outputs": [
    {
     "data": {
      "text/plain": [
       "52"
      ]
     },
     "execution_count": 184,
     "metadata": {},
     "output_type": "execute_result"
    }
   ],
   "source": [
    "len(list_happy_2024)"
   ]
  },
  {
   "cell_type": "code",
   "execution_count": 185,
   "metadata": {},
   "outputs": [],
   "source": [
    "def assign_group(country):\n",
    "    if country in list_happy_2018:\n",
    "        return 'High score of happiness'\n",
    "    elif country in list_sad_2018:\n",
    "        return 'Low score of happiness'\n",
    "    else:\n",
    "        return 'Middle score of happiness'\n",
    "\n",
    "df_2018['Group'] = df_2018['Country or region'].apply(assign_group)"
   ]
  },
  {
   "cell_type": "code",
   "execution_count": 186,
   "metadata": {},
   "outputs": [
    {
     "data": {
      "text/html": [
       "<html>\n",
       "<head><meta charset=\"utf-8\" /></head>\n",
       "<body>\n",
       "    <div>            <script src=\"https://cdnjs.cloudflare.com/ajax/libs/mathjax/2.7.5/MathJax.js?config=TeX-AMS-MML_SVG\"></script><script type=\"text/javascript\">if (window.MathJax && window.MathJax.Hub && window.MathJax.Hub.Config) {window.MathJax.Hub.Config({SVG: {font: \"STIX-Web\"}});}</script>                <script type=\"text/javascript\">window.PlotlyConfig = {MathJaxConfig: 'local'};</script>\n",
       "        <script charset=\"utf-8\" src=\"https://cdn.plot.ly/plotly-3.1.0.min.js\" integrity=\"sha256-Ei4740bWZhaUTQuD6q9yQlgVCMPBz6CZWhevDYPv93A=\" crossorigin=\"anonymous\"></script>                <div id=\"4d779966-4425-4030-85fc-ed6df3461ecf\" class=\"plotly-graph-div\" style=\"height:525px; width:100%;\"></div>            <script type=\"text/javascript\">                window.PLOTLYENV=window.PLOTLYENV || {};                                if (document.getElementById(\"4d779966-4425-4030-85fc-ed6df3461ecf\")) {                    Plotly.newPlot(                        \"4d779966-4425-4030-85fc-ed6df3461ecf\",                        [{\"colorscale\":[[0.0,\"green\"],[1.0,\"green\"]],\"customdata\":{\"dtype\":\"f8\",\"bdata\":\"vEkMAiuHHkDFSzeJQWAeQLgehetROB5AexSuR+H6HUCmm8QgsPIdQN0kBoGVwx1AG1pkO99PHUCyne+nxksdQKjGSzeJQR1ASgwCK4cWHUDD9Shcj8IcQHSTGARWjhxAfT81XrpJHECcxCCwcugbQFyPwvUo3BtAaZHtfD+1G0CkcD0K16MbQCUGgZVDixtAqMZLN4lBG0B\\u002farx0kxgbQPLSTWIQ2BpAN166SQyCGkDb+X5qvPQZQMHKoUW28xlAgZVDi2znGUDdJAaBlcMZQLgehetRuBlAkxgEVg6tGUBaZDvfT40ZQLxJDAIrhxlAarx0kxiEGUDl0CLb+X4ZQJZDi2znexlArBxaZDtfGUB9PzVeukkZQD0K16NwPRlACtejcD0KGUD4U+Olm8QYQP3UeOkmsRhAYLpJDAKrGECq8dJNYpAYQMmhRbbzfRhA7FG4HoVrGED8qfHSTWIYQKBFtvP9VBhAfT81XrpJGEAAAAAAAAAYQDEIrBxa5BdAbef7qfHSF0ADK4cW2c4XQJhuEoPAyhdASOF6FK7HF0A=\",\"shape\":\"52, 1\"},\"geo\":\"geo\",\"hovertemplate\":\"Group=High score of happiness\\u003cbr\\u003eCountry or region=%{location}\\u003cbr\\u003eScore=%{customdata[0]}\\u003cextra\\u003e\\u003c\\u002fextra\\u003e\",\"locationmode\":\"country names\",\"locations\":[\"Finland\",\"Norway\",\"Denmark\",\"Iceland\",\"Switzerland\",\"Netherlands\",\"Canada\",\"New Zealand\",\"Sweden\",\"Australia\",\"United Kingdom\",\"Austria\",\"Costa Rica\",\"Ireland\",\"Germany\",\"Belgium\",\"Luxembourg\",\"United States\",\"Israel\",\"United Arab Emirates\",\"Czech Republic\",\"Malta\",\"France\",\"Mexico\",\"Chile\",\"Taiwan\",\"Panama\",\"Brazil\",\"Argentina\",\"Guatemala\",\"Uruguay\",\"Qatar\",\"Saudi Arabia\",\"Singapore\",\"Malaysia\",\"Spain\",\"Colombia\",\"Trinidad & Tobago\",\"Slovakia\",\"El Salvador\",\"Nicaragua\",\"Poland\",\"Bahrain\",\"Uzbekistan\",\"Kuwait\",\"Thailand\",\"Italy\",\"Ecuador\",\"Belize\",\"Lithuania\",\"Slovenia\",\"Romania\"],\"name\":\"High score of happiness\",\"showlegend\":true,\"showscale\":false,\"z\":[1,1,1,1,1,1,1,1,1,1,1,1,1,1,1,1,1,1,1,1,1,1,1,1,1,1,1,1,1,1,1,1,1,1,1,1,1,1,1,1,1,1,1,1,1,1,1,1,1,1,1,1],\"type\":\"choropleth\"},{\"colorscale\":[[0.0,\"lightpink\"],[1.0,\"lightpink\"]],\"customdata\":{\"dtype\":\"f8\",\"bdata\":\"CKwcWmS7F0ApXI\\u002fC9agXQKrx0k1ikBdAj8L1KFyPF0AAAAAAAIAXQNejcD0KVxdAPQrXo3A9F0ApXI\\u002fC9SgXQEA1XrpJDBdAN166SQwCF0Db+X5qvPQWQNNNYhBYuRZA8\\u002f3UeOmmFkDazvdT46UWQI\\u002fC9ShcjxZAJQaBlUOLFkB7FK5H4XoWQN0kBoGVQxZAf2q8dJMYFkBqvHSTGAQWQDvfT42X7hVAO99PjZfuFUAX2c73U+MVQLgehetRuBVApHA9CtejFUBkO99PjZcVQDvfT42XbhVAO99PjZduFUAX2c73U2MVQGQQWDm0SBVAaZHtfD81FUCuR+F6FC4VQGq8dJMYBBVAlkOLbOf7FEDo+6nx0s0UQLKd76fGyxRAPQrXo3C9FEC\\u002fnxov3aQUQB+F61G4nhRAoBov3SSGFEBqvHSTGIQUQAAAAAAAgBRAtvP91HhpFECsHFpkO18UQIcW2c73UxRAIbByaJHtE0BmZmZmZuYTQAisHFpkuxNAhetRuB6FE0DTTWIQWDkTQNV46SYxCBNARrbz\\u002fdT4EkA=\",\"shape\":\"52, 1\"},\"geo\":\"geo\",\"hovertemplate\":\"Group=Middle score of happiness\\u003cbr\\u003eCountry or region=%{location}\\u003cbr\\u003eScore=%{customdata[0]}\\u003cextra\\u003e\\u003c\\u002fextra\\u003e\",\"locationmode\":\"country names\",\"locations\":[\"Latvia\",\"Japan\",\"Mauritius\",\"Jamaica\",\"South Korea\",\"Northern Cyprus\",\"Russia\",\"Kazakhstan\",\"Cyprus\",\"Bolivia\",\"Estonia\",\"Paraguay\",\"Peru\",\"Kosovo\",\"Moldova\",\"Turkmenistan\",\"Hungary\",\"Libya\",\"Philippines\",\"Honduras\",\"Belarus\",\"Turkey\",\"Pakistan\",\"Hong Kong\",\"Portugal\",\"Serbia\",\"Greece\",\"Lebanon\",\"Montenegro\",\"Croatia\",\"Dominican Republic\",\"Algeria\",\"Morocco\",\"China\",\"Azerbaijan\",\"Tajikistan\",\"Macedonia\",\"Jordan\",\"Nigeria\",\"Kyrgyzstan\",\"Bosnia and Herzegovina\",\"Mongolia\",\"Vietnam\",\"Indonesia\",\"Bhutan\",\"Somalia\",\"Cameroon\",\"Bulgaria\",\"Nepal\",\"Venezuela\",\"Gabon\",\"Palestinian Territories\"],\"name\":\"Middle score of happiness\",\"showlegend\":true,\"showscale\":false,\"z\":[1,1,1,1,1,1,1,1,1,1,1,1,1,1,1,1,1,1,1,1,1,1,1,1,1,1,1,1,1,1,1,1,1,1,1,1,1,1,1,1,1,1,1,1,1,1,1,1,1,1,1,1],\"type\":\"choropleth\"},{\"colorscale\":[[0.0,\"red\"],[1.0,\"red\"]],\"customdata\":{\"dtype\":\"f8\",\"bdata\":\"TDeJQWDlEkCHFtnO99MSQMl2vp8arxJAVOOlm8SgEkCgGi\\u002fdJIYSQMuhRbbzfRJAke18PzVeEkDy0k1iEFgSQGQQWDm0SBJAI9v5fmo8EkAAAAAAAAASQPyp8dJN4hFAbef7qfHSEUB9PzVeuskRQN0kBoGVwxFACKwcWmS7EUAZBFYOLbIRQJMYBFYOrRFAXrpJDAKrEUCkcD0K16MRQDVeukkMghFABoGVQ4tsEUBmZmZmZmYRQFyPwvUoXBFAZBBYObRIEUAIrBxaZDsRQE5iEFg5NBFAexSuR+H6EEDD9Shcj8IQQESLbOf7qRBAv58aL92kEECq8dJNYpAQQHSTGARWjhBAtvP91HhpEEDLoUW28\\u002f0PQIPAyqFFtg9AEFg5tMh2DkBcj8L1KFwOQP7UeOkmMQ5A8KfGSzeJDUB1kxgEVg4NQLgehetRuAxAGQRWDi2yDEAOLbKd76cMQPYoXI\\u002fC9QtAGQRWDi2yC0DdJAaBlUMLQNejcD0K1wpABoGVQ4tsCkDVeOkmMQgKQESLbOf7qQhAPQrXo3A9B0A=\",\"shape\":\"52, 1\"},\"geo\":\"geo\",\"hovertemplate\":\"Group=Low score of happiness\\u003cbr\\u003eCountry or region=%{location}\\u003cbr\\u003eScore=%{customdata[0]}\\u003cextra\\u003e\\u003c\\u002fextra\\u003e\",\"locationmode\":\"country names\",\"locations\":[\"South Africa\",\"Iran\",\"Ivory Coast\",\"Ghana\",\"Senegal\",\"Laos\",\"Tunisia\",\"Albania\",\"Sierra Leone\",\"Congo (Brazzaville)\",\"Bangladesh\",\"Sri Lanka\",\"Iraq\",\"Mali\",\"Namibia\",\"Cambodia\",\"Burkina Faso\",\"Egypt\",\"Mozambique\",\"Kenya\",\"Zambia\",\"Mauritania\",\"Ethiopia\",\"Georgia\",\"Armenia\",\"Myanmar\",\"Chad\",\"Congo (Kinshasa)\",\"India\",\"Niger\",\"Uganda\",\"Benin\",\"Sudan\",\"Ukraine\",\"Togo\",\"Guinea\",\"Lesotho\",\"Angola\",\"Madagascar\",\"Zimbabwe\",\"Afghanistan\",\"Botswana\",\"Malawi\",\"Haiti\",\"Liberia\",\"Syria\",\"Rwanda\",\"Yemen\",\"Tanzania\",\"South Sudan\",\"Central African Republic\",\"Burundi\"],\"name\":\"Low score of happiness\",\"showlegend\":true,\"showscale\":false,\"z\":[1,1,1,1,1,1,1,1,1,1,1,1,1,1,1,1,1,1,1,1,1,1,1,1,1,1,1,1,1,1,1,1,1,1,1,1,1,1,1,1,1,1,1,1,1,1,1,1,1,1,1,1],\"type\":\"choropleth\"}],                        {\"template\":{\"data\":{\"histogram2dcontour\":[{\"type\":\"histogram2dcontour\",\"colorbar\":{\"outlinewidth\":0,\"ticks\":\"\"},\"colorscale\":[[0.0,\"#0d0887\"],[0.1111111111111111,\"#46039f\"],[0.2222222222222222,\"#7201a8\"],[0.3333333333333333,\"#9c179e\"],[0.4444444444444444,\"#bd3786\"],[0.5555555555555556,\"#d8576b\"],[0.6666666666666666,\"#ed7953\"],[0.7777777777777778,\"#fb9f3a\"],[0.8888888888888888,\"#fdca26\"],[1.0,\"#f0f921\"]]}],\"choropleth\":[{\"type\":\"choropleth\",\"colorbar\":{\"outlinewidth\":0,\"ticks\":\"\"}}],\"histogram2d\":[{\"type\":\"histogram2d\",\"colorbar\":{\"outlinewidth\":0,\"ticks\":\"\"},\"colorscale\":[[0.0,\"#0d0887\"],[0.1111111111111111,\"#46039f\"],[0.2222222222222222,\"#7201a8\"],[0.3333333333333333,\"#9c179e\"],[0.4444444444444444,\"#bd3786\"],[0.5555555555555556,\"#d8576b\"],[0.6666666666666666,\"#ed7953\"],[0.7777777777777778,\"#fb9f3a\"],[0.8888888888888888,\"#fdca26\"],[1.0,\"#f0f921\"]]}],\"heatmap\":[{\"type\":\"heatmap\",\"colorbar\":{\"outlinewidth\":0,\"ticks\":\"\"},\"colorscale\":[[0.0,\"#0d0887\"],[0.1111111111111111,\"#46039f\"],[0.2222222222222222,\"#7201a8\"],[0.3333333333333333,\"#9c179e\"],[0.4444444444444444,\"#bd3786\"],[0.5555555555555556,\"#d8576b\"],[0.6666666666666666,\"#ed7953\"],[0.7777777777777778,\"#fb9f3a\"],[0.8888888888888888,\"#fdca26\"],[1.0,\"#f0f921\"]]}],\"contourcarpet\":[{\"type\":\"contourcarpet\",\"colorbar\":{\"outlinewidth\":0,\"ticks\":\"\"}}],\"contour\":[{\"type\":\"contour\",\"colorbar\":{\"outlinewidth\":0,\"ticks\":\"\"},\"colorscale\":[[0.0,\"#0d0887\"],[0.1111111111111111,\"#46039f\"],[0.2222222222222222,\"#7201a8\"],[0.3333333333333333,\"#9c179e\"],[0.4444444444444444,\"#bd3786\"],[0.5555555555555556,\"#d8576b\"],[0.6666666666666666,\"#ed7953\"],[0.7777777777777778,\"#fb9f3a\"],[0.8888888888888888,\"#fdca26\"],[1.0,\"#f0f921\"]]}],\"surface\":[{\"type\":\"surface\",\"colorbar\":{\"outlinewidth\":0,\"ticks\":\"\"},\"colorscale\":[[0.0,\"#0d0887\"],[0.1111111111111111,\"#46039f\"],[0.2222222222222222,\"#7201a8\"],[0.3333333333333333,\"#9c179e\"],[0.4444444444444444,\"#bd3786\"],[0.5555555555555556,\"#d8576b\"],[0.6666666666666666,\"#ed7953\"],[0.7777777777777778,\"#fb9f3a\"],[0.8888888888888888,\"#fdca26\"],[1.0,\"#f0f921\"]]}],\"mesh3d\":[{\"type\":\"mesh3d\",\"colorbar\":{\"outlinewidth\":0,\"ticks\":\"\"}}],\"scatter\":[{\"fillpattern\":{\"fillmode\":\"overlay\",\"size\":10,\"solidity\":0.2},\"type\":\"scatter\"}],\"parcoords\":[{\"type\":\"parcoords\",\"line\":{\"colorbar\":{\"outlinewidth\":0,\"ticks\":\"\"}}}],\"scatterpolargl\":[{\"type\":\"scatterpolargl\",\"marker\":{\"colorbar\":{\"outlinewidth\":0,\"ticks\":\"\"}}}],\"bar\":[{\"error_x\":{\"color\":\"#2a3f5f\"},\"error_y\":{\"color\":\"#2a3f5f\"},\"marker\":{\"line\":{\"color\":\"#E5ECF6\",\"width\":0.5},\"pattern\":{\"fillmode\":\"overlay\",\"size\":10,\"solidity\":0.2}},\"type\":\"bar\"}],\"scattergeo\":[{\"type\":\"scattergeo\",\"marker\":{\"colorbar\":{\"outlinewidth\":0,\"ticks\":\"\"}}}],\"scatterpolar\":[{\"type\":\"scatterpolar\",\"marker\":{\"colorbar\":{\"outlinewidth\":0,\"ticks\":\"\"}}}],\"histogram\":[{\"marker\":{\"pattern\":{\"fillmode\":\"overlay\",\"size\":10,\"solidity\":0.2}},\"type\":\"histogram\"}],\"scattergl\":[{\"type\":\"scattergl\",\"marker\":{\"colorbar\":{\"outlinewidth\":0,\"ticks\":\"\"}}}],\"scatter3d\":[{\"type\":\"scatter3d\",\"line\":{\"colorbar\":{\"outlinewidth\":0,\"ticks\":\"\"}},\"marker\":{\"colorbar\":{\"outlinewidth\":0,\"ticks\":\"\"}}}],\"scattermap\":[{\"type\":\"scattermap\",\"marker\":{\"colorbar\":{\"outlinewidth\":0,\"ticks\":\"\"}}}],\"scattermapbox\":[{\"type\":\"scattermapbox\",\"marker\":{\"colorbar\":{\"outlinewidth\":0,\"ticks\":\"\"}}}],\"scatterternary\":[{\"type\":\"scatterternary\",\"marker\":{\"colorbar\":{\"outlinewidth\":0,\"ticks\":\"\"}}}],\"scattercarpet\":[{\"type\":\"scattercarpet\",\"marker\":{\"colorbar\":{\"outlinewidth\":0,\"ticks\":\"\"}}}],\"carpet\":[{\"aaxis\":{\"endlinecolor\":\"#2a3f5f\",\"gridcolor\":\"white\",\"linecolor\":\"white\",\"minorgridcolor\":\"white\",\"startlinecolor\":\"#2a3f5f\"},\"baxis\":{\"endlinecolor\":\"#2a3f5f\",\"gridcolor\":\"white\",\"linecolor\":\"white\",\"minorgridcolor\":\"white\",\"startlinecolor\":\"#2a3f5f\"},\"type\":\"carpet\"}],\"table\":[{\"cells\":{\"fill\":{\"color\":\"#EBF0F8\"},\"line\":{\"color\":\"white\"}},\"header\":{\"fill\":{\"color\":\"#C8D4E3\"},\"line\":{\"color\":\"white\"}},\"type\":\"table\"}],\"barpolar\":[{\"marker\":{\"line\":{\"color\":\"#E5ECF6\",\"width\":0.5},\"pattern\":{\"fillmode\":\"overlay\",\"size\":10,\"solidity\":0.2}},\"type\":\"barpolar\"}],\"pie\":[{\"automargin\":true,\"type\":\"pie\"}]},\"layout\":{\"autotypenumbers\":\"strict\",\"colorway\":[\"#636efa\",\"#EF553B\",\"#00cc96\",\"#ab63fa\",\"#FFA15A\",\"#19d3f3\",\"#FF6692\",\"#B6E880\",\"#FF97FF\",\"#FECB52\"],\"font\":{\"color\":\"#2a3f5f\"},\"hovermode\":\"closest\",\"hoverlabel\":{\"align\":\"left\"},\"paper_bgcolor\":\"white\",\"plot_bgcolor\":\"#E5ECF6\",\"polar\":{\"bgcolor\":\"#E5ECF6\",\"angularaxis\":{\"gridcolor\":\"white\",\"linecolor\":\"white\",\"ticks\":\"\"},\"radialaxis\":{\"gridcolor\":\"white\",\"linecolor\":\"white\",\"ticks\":\"\"}},\"ternary\":{\"bgcolor\":\"#E5ECF6\",\"aaxis\":{\"gridcolor\":\"white\",\"linecolor\":\"white\",\"ticks\":\"\"},\"baxis\":{\"gridcolor\":\"white\",\"linecolor\":\"white\",\"ticks\":\"\"},\"caxis\":{\"gridcolor\":\"white\",\"linecolor\":\"white\",\"ticks\":\"\"}},\"coloraxis\":{\"colorbar\":{\"outlinewidth\":0,\"ticks\":\"\"}},\"colorscale\":{\"sequential\":[[0.0,\"#0d0887\"],[0.1111111111111111,\"#46039f\"],[0.2222222222222222,\"#7201a8\"],[0.3333333333333333,\"#9c179e\"],[0.4444444444444444,\"#bd3786\"],[0.5555555555555556,\"#d8576b\"],[0.6666666666666666,\"#ed7953\"],[0.7777777777777778,\"#fb9f3a\"],[0.8888888888888888,\"#fdca26\"],[1.0,\"#f0f921\"]],\"sequentialminus\":[[0.0,\"#0d0887\"],[0.1111111111111111,\"#46039f\"],[0.2222222222222222,\"#7201a8\"],[0.3333333333333333,\"#9c179e\"],[0.4444444444444444,\"#bd3786\"],[0.5555555555555556,\"#d8576b\"],[0.6666666666666666,\"#ed7953\"],[0.7777777777777778,\"#fb9f3a\"],[0.8888888888888888,\"#fdca26\"],[1.0,\"#f0f921\"]],\"diverging\":[[0,\"#8e0152\"],[0.1,\"#c51b7d\"],[0.2,\"#de77ae\"],[0.3,\"#f1b6da\"],[0.4,\"#fde0ef\"],[0.5,\"#f7f7f7\"],[0.6,\"#e6f5d0\"],[0.7,\"#b8e186\"],[0.8,\"#7fbc41\"],[0.9,\"#4d9221\"],[1,\"#276419\"]]},\"xaxis\":{\"gridcolor\":\"white\",\"linecolor\":\"white\",\"ticks\":\"\",\"title\":{\"standoff\":15},\"zerolinecolor\":\"white\",\"automargin\":true,\"zerolinewidth\":2},\"yaxis\":{\"gridcolor\":\"white\",\"linecolor\":\"white\",\"ticks\":\"\",\"title\":{\"standoff\":15},\"zerolinecolor\":\"white\",\"automargin\":true,\"zerolinewidth\":2},\"scene\":{\"xaxis\":{\"backgroundcolor\":\"#E5ECF6\",\"gridcolor\":\"white\",\"linecolor\":\"white\",\"showbackground\":true,\"ticks\":\"\",\"zerolinecolor\":\"white\",\"gridwidth\":2},\"yaxis\":{\"backgroundcolor\":\"#E5ECF6\",\"gridcolor\":\"white\",\"linecolor\":\"white\",\"showbackground\":true,\"ticks\":\"\",\"zerolinecolor\":\"white\",\"gridwidth\":2},\"zaxis\":{\"backgroundcolor\":\"#E5ECF6\",\"gridcolor\":\"white\",\"linecolor\":\"white\",\"showbackground\":true,\"ticks\":\"\",\"zerolinecolor\":\"white\",\"gridwidth\":2}},\"shapedefaults\":{\"line\":{\"color\":\"#2a3f5f\"}},\"annotationdefaults\":{\"arrowcolor\":\"#2a3f5f\",\"arrowhead\":0,\"arrowwidth\":1},\"geo\":{\"bgcolor\":\"white\",\"landcolor\":\"#E5ECF6\",\"subunitcolor\":\"white\",\"showland\":true,\"showlakes\":true,\"lakecolor\":\"white\"},\"title\":{\"x\":0.05},\"mapbox\":{\"style\":\"light\"}}},\"geo\":{\"domain\":{\"x\":[0.0,1.0],\"y\":[0.0,1.0]},\"center\":{},\"projection\":{\"type\":\"natural earth\"},\"showcountries\":true,\"countrycolor\":\"black\",\"showocean\":true,\"oceancolor\":\"lightblue\",\"showland\":true,\"landcolor\":\"lightgrey\"},\"legend\":{\"title\":{\"text\":\"Group\"},\"tracegroupgap\":0},\"title\":{\"text\":\"2018\",\"font\":{\"weight\":\"bold\",\"size\":24},\"x\":0.5},\"showlegend\":false},                        {\"responsive\": true}                    ).then(function(){\n",
       "                            \n",
       "var gd = document.getElementById('4d779966-4425-4030-85fc-ed6df3461ecf');\n",
       "var x = new MutationObserver(function (mutations, observer) {{\n",
       "        var display = window.getComputedStyle(gd).display;\n",
       "        if (!display || display === 'none') {{\n",
       "            console.log([gd, 'removed!']);\n",
       "            Plotly.purge(gd);\n",
       "            observer.disconnect();\n",
       "        }}\n",
       "}});\n",
       "\n",
       "// Listen for the removal of the full notebook cells\n",
       "var notebookContainer = gd.closest('#notebook-container');\n",
       "if (notebookContainer) {{\n",
       "    x.observe(notebookContainer, {childList: true});\n",
       "}}\n",
       "\n",
       "// Listen for the clearing of the current output cell\n",
       "var outputEl = gd.closest('.output');\n",
       "if (outputEl) {{\n",
       "    x.observe(outputEl, {childList: true});\n",
       "}}\n",
       "\n",
       "                        })                };            </script>        </div>\n",
       "</body>\n",
       "</html>"
      ]
     },
     "metadata": {},
     "output_type": "display_data"
    }
   ],
   "source": [
    "fig = px.choropleth(df_2018,\n",
    "                    locations='Country or region',\n",
    "                    locationmode='country names',\n",
    "                    color='Group',\n",
    "                    hover_data=['Score'],\n",
    "                    title='2018',\n",
    "                    color_discrete_map={\n",
    "                        'High score of happiness': 'green',\n",
    "                        'Low score of happiness': 'red',\n",
    "                        'Middle score of happiness': 'lightpink'\n",
    "                    }\n",
    "                   )\n",
    "fig.update_layout(showlegend=False, title_x=0.5, title_font_weight='bold',title_font_size=24)\n",
    "fig.update_geos(\n",
    "    # Change the map's projection style\n",
    "    projection_type=\"natural earth\",\n",
    "    \n",
    "    # Customize the country borders\n",
    "    showcountries=True,\n",
    "    countrycolor=\"black\",\n",
    "    \n",
    "    # Customize the ocean and land colors\n",
    "    showocean=True,\n",
    "    oceancolor=\"lightblue\",\n",
    "    showland=True,\n",
    "    landcolor=\"lightgrey\"\n",
    ")\n",
    "fig.show()"
   ]
  },
  {
   "cell_type": "code",
   "execution_count": 187,
   "metadata": {},
   "outputs": [],
   "source": [
    "def assign_group(country):\n",
    "    if country in list_happy_2024:\n",
    "        return 'High score of happiness'\n",
    "    elif country in list_sad_2024:\n",
    "        return 'Low score of happiness'\n",
    "    else:\n",
    "        return 'Middle score of happiness'\n",
    "\n",
    "df_2024['Group'] = df_2024['Country or region'].apply(assign_group)"
   ]
  },
  {
   "cell_type": "code",
   "execution_count": 188,
   "metadata": {
    "colab": {
     "base_uri": "https://localhost:8080/",
     "height": 542
    },
    "executionInfo": {
     "elapsed": 32,
     "status": "ok",
     "timestamp": 1756733836811,
     "user": {
      "displayName": "Wiktoria Gołębiewska",
      "userId": "05863011323994705695"
     },
     "user_tz": -120
    },
    "id": "z-4CyZlfLb2U",
    "outputId": "87072712-c8b8-41f8-c4a0-855eee916d13"
   },
   "outputs": [
    {
     "data": {
      "text/html": [
       "<html>\n",
       "<head><meta charset=\"utf-8\" /></head>\n",
       "<body>\n",
       "    <div>            <script src=\"https://cdnjs.cloudflare.com/ajax/libs/mathjax/2.7.5/MathJax.js?config=TeX-AMS-MML_SVG\"></script><script type=\"text/javascript\">if (window.MathJax && window.MathJax.Hub && window.MathJax.Hub.Config) {window.MathJax.Hub.Config({SVG: {font: \"STIX-Web\"}});}</script>                <script type=\"text/javascript\">window.PlotlyConfig = {MathJaxConfig: 'local'};</script>\n",
       "        <script charset=\"utf-8\" src=\"https://cdn.plot.ly/plotly-3.1.0.min.js\" integrity=\"sha256-Ei4740bWZhaUTQuD6q9yQlgVCMPBz6CZWhevDYPv93A=\" crossorigin=\"anonymous\"></script>                <div id=\"83d65f7d-5fe4-4a28-96d1-cf0345bd1f80\" class=\"plotly-graph-div\" style=\"height:525px; width:100%;\"></div>            <script type=\"text/javascript\">                window.PLOTLYENV=window.PLOTLYENV || {};                                if (document.getElementById(\"83d65f7d-5fe4-4a28-96d1-cf0345bd1f80\")) {                    Plotly.newPlot(                        \"83d65f7d-5fe4-4a28-96d1-cf0345bd1f80\",                        [{\"colorscale\":[[0.0,\"green\"],[1.0,\"green\"]],\"customdata\":{\"dtype\":\"f8\",\"bdata\":\"i2zn+6nxHkAv3SQGgRUeQI\\u002fC9ShcDx5A4XoUrkdhHUDTTWIQWDkdQH9qvHSTGB1APzVeukkMHUBWDi2yne8cQLByaJHtfBxA0SLb+X7qG0BMN4lBYOUbQAIrhxbZzhtAPQrXo3C9G0CkcD0K16MbQHWTGARWjhtAN4lBYOVQG0A9CtejcD0bQIPAyqFFNhtAXrpJDAIrG0CamZmZmRkbQPCnxks3CRtAUI2XbhIDG0C28\\u002f3UeOkaQEw3iUFg5RpA8tJNYhDYGkD+1HjpJrEaQJMYBFYOrRpAvp8aL92kGkCJQWDl0KIaQGq8dJMYhBpABoGVQ4tsGkBmZmZmZmYaQKwcWmQ7XxpAw\\u002fUoXI9CGkCNl24Sg0AaQGDl0CLb+RlAK4cW2c73GUB3vp8aL90ZQF66SQwCqxlAKVyPwvWoGUBU46WbxKAZQEoMAiuHlhlAUI2XbhKDGUCmm8QgsHIZQIts5\\u002fupcRlAnMQgsHJoGUBSuB6F61EZQN0kBoGVQxlAF9nO91PjGED8qfHSTeIYQIcW2c730xhAfT81XrrJGEA=\",\"shape\":\"52, 1\"},\"geo\":\"geo\",\"hovertemplate\":\"Group=High score of happiness\\u003cbr\\u003eCountry or region=%{location}\\u003cbr\\u003eScore=%{customdata[0]}\\u003cextra\\u003e\\u003c\\u002fextra\\u003e\",\"locationmode\":\"country names\",\"locations\":[\"Finland\",\"Denmark\",\"Iceland\",\"Sweden\",\"Netherlands\",\"Costa Rica\",\"Norway\",\"Israel\",\"Luxembourg\",\"Mexico\",\"Australia\",\"New Zealand\",\"Switzerland\",\"Belgium\",\"Ireland\",\"Lithuania\",\"Austria\",\"Canada\",\"Slovenia\",\"Czechia\",\"United Arab Emirates\",\"Germany\",\"United Kingdom\",\"United States\",\"Belize\",\"Poland\",\"Taiwan Province of China\",\"Uruguay\",\"Kosovo\",\"Kuwait\",\"Serbia\",\"Saudi Arabia\",\"France\",\"Singapore\",\"Romania\",\"Brazil\",\"El Salvador\",\"Spain\",\"Estonia\",\"Italy\",\"Panama\",\"Argentina\",\"Kazakhstan\",\"Guatemala\",\"Chile\",\"Viet Nam\",\"Nicaragua\",\"Malta\",\"Thailand\",\"Slovakia\",\"Latvia\",\"Oman\"],\"name\":\"High score of happiness\",\"showlegend\":true,\"showscale\":false,\"z\":[1,1,1,1,1,1,1,1,1,1,1,1,1,1,1,1,1,1,1,1,1,1,1,1,1,1,1,1,1,1,1,1,1,1,1,1,1,1,1,1,1,1,1,1,1,1,1,1,1,1,1,1],\"type\":\"choropleth\"},{\"colorscale\":[[0.0,\"lightpink\"],[1.0,\"lightpink\"]],\"customdata\":{\"dtype\":\"f8\",\"bdata\":\"EoPAyqHFGEDjpZvEILAYQEoMAiuHlhhAJQaBlUOLGEAhsHJokW0YQPT91HjpJhhAH4XrUbgeGEBaZDvfTw0YQGq8dJMYBBhAXI\\u002fC9SjcF0BCYOXQItsXQFK4HoXr0RdAfT81XrrJF0BI4XoUrscXQPhT46WbxBdAyXa+nxqvF0ApXI\\u002fC9agXQB+F61G4nhdANV66SQyCF0B7FK5H4XoXQHsUrkfhehdARrbz\\u002fdR4F0A730+Nl24XQPyp8dJNYhdAokW28\\u002f1UF0CHFtnO91MXQEjhehSuRxdALbKd76dGF0C0yHa+nxoXQAisHFpkuxZAK4cW2c53FkBiEFg5tEgWQJ7vp8ZLNxZAUI2XbhIDFkBg5dAi2\\u002fkVQBBYObTI9hVAvp8aL92kFUC+nxov3aQVQJqZmZmZmRVAWDm0yHY+FUBOYhBYOTQVQD81XrpJDBVAJzEIrBzaFEA=\",\"shape\":\"43, 1\"},\"geo\":\"geo\",\"hovertemplate\":\"Group=Middle score of happiness\\u003cbr\\u003eCountry or region=%{location}\\u003cbr\\u003eScore=%{customdata[0]}\\u003cextra\\u003e\\u003c\\u002fextra\\u003e\",\"locationmode\":\"country names\",\"locations\":[\"Uzbekistan\",\"Paraguay\",\"Japan\",\"Bosnia and Herzegovina\",\"Philippines\",\"Republic of Korea\",\"Bahrain\",\"Portugal\",\"Colombia\",\"Ecuador\",\"Honduras\",\"Malaysia\",\"Peru\",\"Russian Federation\",\"Cyprus\",\"China\",\"Hungary\",\"Trinidad and Tobago\",\"Montenegro\",\"Croatia\",\"Jamaica\",\"Bolivia\",\"Kyrgyzstan\",\"Dominican Republic\",\"Mongolia\",\"Mauritius\",\"Libya\",\"Republic of Moldova\",\"Greece\",\"Venezuela\",\"Indonesia\",\"Algeria\",\"Bulgaria\",\"North Macedonia\",\"Armenia\",\"Hong Kong SAR of China\",\"Albania\",\"Tajikistan\",\"Georgia\",\"Nepal\",\"Lao PDR\",\"T\\u00fcrkiye\",\"South Africa\"],\"name\":\"Middle score of happiness\",\"showlegend\":true,\"showscale\":false,\"z\":[1,1,1,1,1,1,1,1,1,1,1,1,1,1,1,1,1,1,1,1,1,1,1,1,1,1,1,1,1,1,1,1,1,1,1,1,1,1,1,1,1,1,1],\"type\":\"choropleth\"},{\"colorscale\":[[0.0,\"red\"],[1.0,\"red\"]],\"customdata\":{\"dtype\":\"f8\",\"bdata\":\"w\\u002fUoXI\\u002fCFEB7FK5H4XoUQJzEILByaBRArBxaZDtfFEAfhetRuB4UQIGVQ4ts5xNAnu+nxku3E0C+nxov3aQTQD81XrpJjBNACtejcD2KE0AAAAAAAIATQAaBlUOLbBNAH4XrUbgeE0DfT42XbhITQGZmZmZm5hJAuB6F61G4EkCwcmiR7XwSQGiR7Xw\\u002fNRJAXrpJDAIrEkAK16NwPQoSQPLSTWIQ2BFA\\u002ftR46SaxEUB1kxgEVo4RQPCnxks3iRFA1XjpJjGIEUAhsHJokW0RQBfZzvdTYxFA4XoUrkdhEUB3vp8aL10RQFyPwvUoXBFAYhBYObRIEUDD9Shcj0IRQD0K16NwPRFAz\\u002fdT46UbEUBU46WbxKAQQLKd76fGSw9AyXa+nxovD0BU46WbxCAPQAIrhxbZzg5A8KfGSzeJDkBmZmZmZmYOQP7UeOkmMQ5AdZMYBFYODkDVeOkmMQgOQLByaJHtfAxAjZduEoPAC0AbL90kBoELQF66SQwCKwtAFK5H4XoUCkAbL90kBoEJQJZDi2zn+wdAbef7qfHS9T8=\",\"shape\":\"52, 1\"},\"geo\":\"geo\",\"hovertemplate\":\"Group=Low score of happiness\\u003cbr\\u003eCountry or region=%{location}\\u003cbr\\u003eScore=%{customdata[0]}\\u003cextra\\u003e\\u003c\\u002fextra\\u003e\",\"locationmode\":\"country names\",\"locations\":[\"Mozambique\",\"Gabon\",\"C\\u00f4te d\\u2019Ivoire\",\"Iran\",\"Congo\",\"Iraq\",\"Guinea\",\"Namibia\",\"Cameroon\",\"Nigeria\",\"Azerbaijan\",\"Senegal\",\"State of Palestine\",\"Pakistan\",\"Niger\",\"Ukraine\",\"Morocco\",\"Tunisia\",\"Mauritania\",\"Kenya\",\"Uganda\",\"Gambia\",\"India\",\"Chad\",\"Burkina Faso\",\"Benin\",\"Somalia\",\"Mali\",\"Cambodia\",\"Ghana\",\"Myanmar\",\"Togo\",\"Jordan\",\"Liberia\",\"Madagascar\",\"Zambia\",\"Ethiopia\",\"Sri Lanka\",\"Bangladesh\",\"Egypt\",\"Tanzania\",\"Eswatini\",\"Lesotho\",\"Comoros\",\"Yemen\",\"DR Congo\",\"Botswana\",\"Zimbabwe\",\"Malawi\",\"Lebanon\",\"Sierra Leone\",\"Afghanistan\"],\"name\":\"Low score of happiness\",\"showlegend\":true,\"showscale\":false,\"z\":[1,1,1,1,1,1,1,1,1,1,1,1,1,1,1,1,1,1,1,1,1,1,1,1,1,1,1,1,1,1,1,1,1,1,1,1,1,1,1,1,1,1,1,1,1,1,1,1,1,1,1,1],\"type\":\"choropleth\"}],                        {\"template\":{\"data\":{\"histogram2dcontour\":[{\"type\":\"histogram2dcontour\",\"colorbar\":{\"outlinewidth\":0,\"ticks\":\"\"},\"colorscale\":[[0.0,\"#0d0887\"],[0.1111111111111111,\"#46039f\"],[0.2222222222222222,\"#7201a8\"],[0.3333333333333333,\"#9c179e\"],[0.4444444444444444,\"#bd3786\"],[0.5555555555555556,\"#d8576b\"],[0.6666666666666666,\"#ed7953\"],[0.7777777777777778,\"#fb9f3a\"],[0.8888888888888888,\"#fdca26\"],[1.0,\"#f0f921\"]]}],\"choropleth\":[{\"type\":\"choropleth\",\"colorbar\":{\"outlinewidth\":0,\"ticks\":\"\"}}],\"histogram2d\":[{\"type\":\"histogram2d\",\"colorbar\":{\"outlinewidth\":0,\"ticks\":\"\"},\"colorscale\":[[0.0,\"#0d0887\"],[0.1111111111111111,\"#46039f\"],[0.2222222222222222,\"#7201a8\"],[0.3333333333333333,\"#9c179e\"],[0.4444444444444444,\"#bd3786\"],[0.5555555555555556,\"#d8576b\"],[0.6666666666666666,\"#ed7953\"],[0.7777777777777778,\"#fb9f3a\"],[0.8888888888888888,\"#fdca26\"],[1.0,\"#f0f921\"]]}],\"heatmap\":[{\"type\":\"heatmap\",\"colorbar\":{\"outlinewidth\":0,\"ticks\":\"\"},\"colorscale\":[[0.0,\"#0d0887\"],[0.1111111111111111,\"#46039f\"],[0.2222222222222222,\"#7201a8\"],[0.3333333333333333,\"#9c179e\"],[0.4444444444444444,\"#bd3786\"],[0.5555555555555556,\"#d8576b\"],[0.6666666666666666,\"#ed7953\"],[0.7777777777777778,\"#fb9f3a\"],[0.8888888888888888,\"#fdca26\"],[1.0,\"#f0f921\"]]}],\"contourcarpet\":[{\"type\":\"contourcarpet\",\"colorbar\":{\"outlinewidth\":0,\"ticks\":\"\"}}],\"contour\":[{\"type\":\"contour\",\"colorbar\":{\"outlinewidth\":0,\"ticks\":\"\"},\"colorscale\":[[0.0,\"#0d0887\"],[0.1111111111111111,\"#46039f\"],[0.2222222222222222,\"#7201a8\"],[0.3333333333333333,\"#9c179e\"],[0.4444444444444444,\"#bd3786\"],[0.5555555555555556,\"#d8576b\"],[0.6666666666666666,\"#ed7953\"],[0.7777777777777778,\"#fb9f3a\"],[0.8888888888888888,\"#fdca26\"],[1.0,\"#f0f921\"]]}],\"surface\":[{\"type\":\"surface\",\"colorbar\":{\"outlinewidth\":0,\"ticks\":\"\"},\"colorscale\":[[0.0,\"#0d0887\"],[0.1111111111111111,\"#46039f\"],[0.2222222222222222,\"#7201a8\"],[0.3333333333333333,\"#9c179e\"],[0.4444444444444444,\"#bd3786\"],[0.5555555555555556,\"#d8576b\"],[0.6666666666666666,\"#ed7953\"],[0.7777777777777778,\"#fb9f3a\"],[0.8888888888888888,\"#fdca26\"],[1.0,\"#f0f921\"]]}],\"mesh3d\":[{\"type\":\"mesh3d\",\"colorbar\":{\"outlinewidth\":0,\"ticks\":\"\"}}],\"scatter\":[{\"fillpattern\":{\"fillmode\":\"overlay\",\"size\":10,\"solidity\":0.2},\"type\":\"scatter\"}],\"parcoords\":[{\"type\":\"parcoords\",\"line\":{\"colorbar\":{\"outlinewidth\":0,\"ticks\":\"\"}}}],\"scatterpolargl\":[{\"type\":\"scatterpolargl\",\"marker\":{\"colorbar\":{\"outlinewidth\":0,\"ticks\":\"\"}}}],\"bar\":[{\"error_x\":{\"color\":\"#2a3f5f\"},\"error_y\":{\"color\":\"#2a3f5f\"},\"marker\":{\"line\":{\"color\":\"#E5ECF6\",\"width\":0.5},\"pattern\":{\"fillmode\":\"overlay\",\"size\":10,\"solidity\":0.2}},\"type\":\"bar\"}],\"scattergeo\":[{\"type\":\"scattergeo\",\"marker\":{\"colorbar\":{\"outlinewidth\":0,\"ticks\":\"\"}}}],\"scatterpolar\":[{\"type\":\"scatterpolar\",\"marker\":{\"colorbar\":{\"outlinewidth\":0,\"ticks\":\"\"}}}],\"histogram\":[{\"marker\":{\"pattern\":{\"fillmode\":\"overlay\",\"size\":10,\"solidity\":0.2}},\"type\":\"histogram\"}],\"scattergl\":[{\"type\":\"scattergl\",\"marker\":{\"colorbar\":{\"outlinewidth\":0,\"ticks\":\"\"}}}],\"scatter3d\":[{\"type\":\"scatter3d\",\"line\":{\"colorbar\":{\"outlinewidth\":0,\"ticks\":\"\"}},\"marker\":{\"colorbar\":{\"outlinewidth\":0,\"ticks\":\"\"}}}],\"scattermap\":[{\"type\":\"scattermap\",\"marker\":{\"colorbar\":{\"outlinewidth\":0,\"ticks\":\"\"}}}],\"scattermapbox\":[{\"type\":\"scattermapbox\",\"marker\":{\"colorbar\":{\"outlinewidth\":0,\"ticks\":\"\"}}}],\"scatterternary\":[{\"type\":\"scatterternary\",\"marker\":{\"colorbar\":{\"outlinewidth\":0,\"ticks\":\"\"}}}],\"scattercarpet\":[{\"type\":\"scattercarpet\",\"marker\":{\"colorbar\":{\"outlinewidth\":0,\"ticks\":\"\"}}}],\"carpet\":[{\"aaxis\":{\"endlinecolor\":\"#2a3f5f\",\"gridcolor\":\"white\",\"linecolor\":\"white\",\"minorgridcolor\":\"white\",\"startlinecolor\":\"#2a3f5f\"},\"baxis\":{\"endlinecolor\":\"#2a3f5f\",\"gridcolor\":\"white\",\"linecolor\":\"white\",\"minorgridcolor\":\"white\",\"startlinecolor\":\"#2a3f5f\"},\"type\":\"carpet\"}],\"table\":[{\"cells\":{\"fill\":{\"color\":\"#EBF0F8\"},\"line\":{\"color\":\"white\"}},\"header\":{\"fill\":{\"color\":\"#C8D4E3\"},\"line\":{\"color\":\"white\"}},\"type\":\"table\"}],\"barpolar\":[{\"marker\":{\"line\":{\"color\":\"#E5ECF6\",\"width\":0.5},\"pattern\":{\"fillmode\":\"overlay\",\"size\":10,\"solidity\":0.2}},\"type\":\"barpolar\"}],\"pie\":[{\"automargin\":true,\"type\":\"pie\"}]},\"layout\":{\"autotypenumbers\":\"strict\",\"colorway\":[\"#636efa\",\"#EF553B\",\"#00cc96\",\"#ab63fa\",\"#FFA15A\",\"#19d3f3\",\"#FF6692\",\"#B6E880\",\"#FF97FF\",\"#FECB52\"],\"font\":{\"color\":\"#2a3f5f\"},\"hovermode\":\"closest\",\"hoverlabel\":{\"align\":\"left\"},\"paper_bgcolor\":\"white\",\"plot_bgcolor\":\"#E5ECF6\",\"polar\":{\"bgcolor\":\"#E5ECF6\",\"angularaxis\":{\"gridcolor\":\"white\",\"linecolor\":\"white\",\"ticks\":\"\"},\"radialaxis\":{\"gridcolor\":\"white\",\"linecolor\":\"white\",\"ticks\":\"\"}},\"ternary\":{\"bgcolor\":\"#E5ECF6\",\"aaxis\":{\"gridcolor\":\"white\",\"linecolor\":\"white\",\"ticks\":\"\"},\"baxis\":{\"gridcolor\":\"white\",\"linecolor\":\"white\",\"ticks\":\"\"},\"caxis\":{\"gridcolor\":\"white\",\"linecolor\":\"white\",\"ticks\":\"\"}},\"coloraxis\":{\"colorbar\":{\"outlinewidth\":0,\"ticks\":\"\"}},\"colorscale\":{\"sequential\":[[0.0,\"#0d0887\"],[0.1111111111111111,\"#46039f\"],[0.2222222222222222,\"#7201a8\"],[0.3333333333333333,\"#9c179e\"],[0.4444444444444444,\"#bd3786\"],[0.5555555555555556,\"#d8576b\"],[0.6666666666666666,\"#ed7953\"],[0.7777777777777778,\"#fb9f3a\"],[0.8888888888888888,\"#fdca26\"],[1.0,\"#f0f921\"]],\"sequentialminus\":[[0.0,\"#0d0887\"],[0.1111111111111111,\"#46039f\"],[0.2222222222222222,\"#7201a8\"],[0.3333333333333333,\"#9c179e\"],[0.4444444444444444,\"#bd3786\"],[0.5555555555555556,\"#d8576b\"],[0.6666666666666666,\"#ed7953\"],[0.7777777777777778,\"#fb9f3a\"],[0.8888888888888888,\"#fdca26\"],[1.0,\"#f0f921\"]],\"diverging\":[[0,\"#8e0152\"],[0.1,\"#c51b7d\"],[0.2,\"#de77ae\"],[0.3,\"#f1b6da\"],[0.4,\"#fde0ef\"],[0.5,\"#f7f7f7\"],[0.6,\"#e6f5d0\"],[0.7,\"#b8e186\"],[0.8,\"#7fbc41\"],[0.9,\"#4d9221\"],[1,\"#276419\"]]},\"xaxis\":{\"gridcolor\":\"white\",\"linecolor\":\"white\",\"ticks\":\"\",\"title\":{\"standoff\":15},\"zerolinecolor\":\"white\",\"automargin\":true,\"zerolinewidth\":2},\"yaxis\":{\"gridcolor\":\"white\",\"linecolor\":\"white\",\"ticks\":\"\",\"title\":{\"standoff\":15},\"zerolinecolor\":\"white\",\"automargin\":true,\"zerolinewidth\":2},\"scene\":{\"xaxis\":{\"backgroundcolor\":\"#E5ECF6\",\"gridcolor\":\"white\",\"linecolor\":\"white\",\"showbackground\":true,\"ticks\":\"\",\"zerolinecolor\":\"white\",\"gridwidth\":2},\"yaxis\":{\"backgroundcolor\":\"#E5ECF6\",\"gridcolor\":\"white\",\"linecolor\":\"white\",\"showbackground\":true,\"ticks\":\"\",\"zerolinecolor\":\"white\",\"gridwidth\":2},\"zaxis\":{\"backgroundcolor\":\"#E5ECF6\",\"gridcolor\":\"white\",\"linecolor\":\"white\",\"showbackground\":true,\"ticks\":\"\",\"zerolinecolor\":\"white\",\"gridwidth\":2}},\"shapedefaults\":{\"line\":{\"color\":\"#2a3f5f\"}},\"annotationdefaults\":{\"arrowcolor\":\"#2a3f5f\",\"arrowhead\":0,\"arrowwidth\":1},\"geo\":{\"bgcolor\":\"white\",\"landcolor\":\"#E5ECF6\",\"subunitcolor\":\"white\",\"showland\":true,\"showlakes\":true,\"lakecolor\":\"white\"},\"title\":{\"x\":0.05},\"mapbox\":{\"style\":\"light\"}}},\"geo\":{\"domain\":{\"x\":[0.0,1.0],\"y\":[0.0,1.0]},\"center\":{},\"projection\":{\"type\":\"natural earth\"},\"showcountries\":true,\"countrycolor\":\"black\",\"showocean\":true,\"oceancolor\":\"lightblue\",\"showland\":true,\"landcolor\":\"lightgrey\"},\"legend\":{\"title\":{\"text\":\"Group\"},\"tracegroupgap\":0},\"title\":{\"text\":\"2024\",\"font\":{\"weight\":\"bold\",\"size\":24},\"x\":0.5},\"showlegend\":false},                        {\"responsive\": true}                    ).then(function(){\n",
       "                            \n",
       "var gd = document.getElementById('83d65f7d-5fe4-4a28-96d1-cf0345bd1f80');\n",
       "var x = new MutationObserver(function (mutations, observer) {{\n",
       "        var display = window.getComputedStyle(gd).display;\n",
       "        if (!display || display === 'none') {{\n",
       "            console.log([gd, 'removed!']);\n",
       "            Plotly.purge(gd);\n",
       "            observer.disconnect();\n",
       "        }}\n",
       "}});\n",
       "\n",
       "// Listen for the removal of the full notebook cells\n",
       "var notebookContainer = gd.closest('#notebook-container');\n",
       "if (notebookContainer) {{\n",
       "    x.observe(notebookContainer, {childList: true});\n",
       "}}\n",
       "\n",
       "// Listen for the clearing of the current output cell\n",
       "var outputEl = gd.closest('.output');\n",
       "if (outputEl) {{\n",
       "    x.observe(outputEl, {childList: true});\n",
       "}}\n",
       "\n",
       "                        })                };            </script>        </div>\n",
       "</body>\n",
       "</html>"
      ]
     },
     "metadata": {},
     "output_type": "display_data"
    }
   ],
   "source": [
    "fig = px.choropleth(df_2024,\n",
    "                    locations='Country or region',\n",
    "                    locationmode='country names',\n",
    "                    color='Group',\n",
    "                    hover_data=['Score'],\n",
    "                    title='2024',\n",
    "                    color_discrete_map={\n",
    "                        'High score of happiness': 'green',\n",
    "                        'Low score of happiness': 'red',\n",
    "                        'Middle score of happiness': 'lightpink'\n",
    "                    }\n",
    "                   )\n",
    "fig.update_layout(showlegend=False, title_x=0.5, title_font_weight='bold',title_font_size=24)\n",
    "fig.update_geos(\n",
    "    # Change the map's projection style\n",
    "    projection_type=\"natural earth\",\n",
    "    \n",
    "    # Customize the country borders\n",
    "    showcountries=True,\n",
    "    countrycolor=\"black\",\n",
    "    \n",
    "    # Customize the ocean and land colors\n",
    "    showocean=True,\n",
    "    oceancolor=\"lightblue\",\n",
    "    showland=True,\n",
    "    landcolor=\"lightgrey\"\n",
    ")\n",
    "fig.show()"
   ]
  },
  {
   "cell_type": "code",
   "execution_count": 189,
   "metadata": {},
   "outputs": [],
   "source": [
    "full_corr_18 = numeric_only_2018.corr()\n",
    "score_corr_18 = full_corr_18[['Score']].T"
   ]
  },
  {
   "cell_type": "code",
   "execution_count": 190,
   "metadata": {},
   "outputs": [],
   "source": [
    "full_corr_24 = numeric_only_2024.corr()\n",
    "score_corr_24 = full_corr_24[['Score']].T"
   ]
  },
  {
   "cell_type": "code",
   "execution_count": 191,
   "metadata": {},
   "outputs": [
    {
     "data": {
      "text/plain": [
       "Text(0.5, 1.2, '2018')"
      ]
     },
     "execution_count": 191,
     "metadata": {},
     "output_type": "execute_result"
    },
    {
     "data": {
      "image/png": "[encoded data removed]",
      "text/plain": [
       "<Figure size 500x200 with 1 Axes>"
      ]
     },
     "metadata": {},
     "output_type": "display_data"
    }
   ],
   "source": [
    "plt.figure(figsize=(5,2)) # Adjust the figure size for better readability\n",
    "sns.heatmap(\n",
    "full_corr_18,\n",
    "    annot=True,\n",
    "    cmap='coolwarm',\n",
    "    fmt=\".2f\",\n",
    "    cbar=False,\n",
    "    linewidths=.5)\n",
    "plt.xticks(fontsize=6, rotation=-70,\n",
    "    fontweight='bold')\n",
    "plt.yticks(fontsize=6, fontweight='bold')\n",
    "plt.title('2018', fontsize='12',\n",
    "    loc='center',fontweight='bold',y=1.2)\n"
   ]
  },
  {
   "cell_type": "code",
   "execution_count": 192,
   "metadata": {},
   "outputs": [
    {
     "data": {
      "text/plain": [
       "Text(0.5, 1.2, '2018')"
      ]
     },
     "execution_count": 192,
     "metadata": {},
     "output_type": "execute_result"
    },
    {
     "data": {
      "image/png": "[encoded data removed]",
      "text/plain": [
       "<Figure size 500x200 with 1 Axes>"
      ]
     },
     "metadata": {},
     "output_type": "display_data"
    }
   ],
   "source": [
    "plt.figure(figsize=(5,2)) # Adjust the figure size for better readability\n",
    "sns.heatmap(\n",
    "full_corr_24,\n",
    "    annot=True,\n",
    "    cmap='coolwarm',\n",
    "    fmt=\".2f\",\n",
    "    cbar=False,\n",
    "    linewidths=.5)\n",
    "plt.xticks(fontsize=6, rotation=-70,\n",
    "    fontweight='bold')\n",
    "plt.yticks(fontsize=6, fontweight='bold')\n",
    "plt.title('2018', fontsize='12',\n",
    "    loc='center',fontweight='bold',y=1.2)"
   ]
  },
  {
   "cell_type": "code",
   "execution_count": 193,
   "metadata": {},
   "outputs": [
    {
     "data": {
      "text/plain": [
       "Text(0.5, 1.2, '2018')"
      ]
     },
     "execution_count": 193,
     "metadata": {},
     "output_type": "execute_result"
    },
    {
     "data": {
      "image/png": "[encoded data removed]",
      "text/plain": [
       "<Figure size 500x200 with 1 Axes>"
      ]
     },
     "metadata": {},
     "output_type": "display_data"
    }
   ],
   "source": [
    "plt.figure(figsize=(5,2)) # Adjust the figure size for better readability\n",
    "sns.heatmap(\n",
    "score_corr_18,\n",
    "    annot=True,\n",
    "    cmap='coolwarm',\n",
    "    fmt=\".2f\",\n",
    "    cbar=False,\n",
    "    linewidths=.5)\n",
    "plt.xticks(fontsize=6, rotation=-70,\n",
    "    fontweight='bold')\n",
    "plt.yticks(fontsize=6, fontweight='bold')\n",
    "plt.title('2018', fontsize='12',\n",
    "    loc='center',fontweight='bold',y=1.2)\n",
    "\n"
   ]
  },
  {
   "cell_type": "markdown",
   "metadata": {},
   "source": [
    "### corr_2024=numeric_only_2024.corr()"
   ]
  },
  {
   "cell_type": "code",
   "execution_count": 194,
   "metadata": {},
   "outputs": [
    {
     "data": {
      "text/plain": [
       "Text(0.5, 1.2, '2024')"
      ]
     },
     "execution_count": 194,
     "metadata": {},
     "output_type": "execute_result"
    },
    {
     "data": {
      "image/png": "[encoded data removed]",
      "text/plain": [
       "<Figure size 500x200 with 1 Axes>"
      ]
     },
     "metadata": {},
     "output_type": "display_data"
    }
   ],
   "source": [
    "plt.figure(figsize=(5,2)) # Adjust the figure size for better readability\n",
    "sns.heatmap(\n",
    "score_corr_24,\n",
    "    annot=True,\n",
    "    cmap='coolwarm',\n",
    "    fmt=\".2f\",\n",
    "    cbar=False,\n",
    "    linewidths=.5)\n",
    "plt.xticks(fontsize=6, rotation=-70,\n",
    "    fontweight='bold')\n",
    "plt.yticks(fontsize=6, fontweight='bold')\n",
    "plt.title('2024', fontsize='12',\n",
    "    loc='center',fontweight='bold',y=1.2)"
   ]
  },
  {
   "cell_type": "code",
   "execution_count": 195,
   "metadata": {},
   "outputs": [
    {
     "data": {
      "text/html": [
       "<html>\n",
       "<head><meta charset=\"utf-8\" /></head>\n",
       "<body>\n",
       "    <div>            <script src=\"https://cdnjs.cloudflare.com/ajax/libs/mathjax/2.7.5/MathJax.js?config=TeX-AMS-MML_SVG\"></script><script type=\"text/javascript\">if (window.MathJax && window.MathJax.Hub && window.MathJax.Hub.Config) {window.MathJax.Hub.Config({SVG: {font: \"STIX-Web\"}});}</script>                <script type=\"text/javascript\">window.PlotlyConfig = {MathJaxConfig: 'local'};</script>\n",
       "        <script charset=\"utf-8\" src=\"https://cdn.plot.ly/plotly-3.1.0.min.js\" integrity=\"sha256-Ei4740bWZhaUTQuD6q9yQlgVCMPBz6CZWhevDYPv93A=\" crossorigin=\"anonymous\"></script>                <div id=\"e374982b-98cb-45db-8d7c-4f51b320d774\" class=\"plotly-graph-div\" style=\"height:525px; width:100%;\"></div>            <script type=\"text/javascript\">                window.PLOTLYENV=window.PLOTLYENV || {};                                if (document.getElementById(\"e374982b-98cb-45db-8d7c-4f51b320d774\")) {                    Plotly.newPlot(                        \"e374982b-98cb-45db-8d7c-4f51b320d774\",                        [{\"customdata\":{\"dtype\":\"f8\",\"bdata\":\"l24Sg8DK5T\\u002fAyqFFtvPlP0Fg5dAi2+U\\u002fRIts5\\u002fup5T8fhetRuB7lP9Ei2\\u002fl+auQ\\u002fTDeJQWDl5D+cxCCwcmjlP0oMAiuHFuU\\u002fTmIQWDm05D8ZBFYOLbLdP1g5tMh2vuM\\u002f001iEFg55D\\u002fZzvdT46XjP42XbhKDwOI\\u002fDi2yne+n4j\\u002fTTWIQWDnkPxsv3SQGgeE\\u002fdJMYBFYO4T+TGARWDi3SP8ZLN4lBYOE\\u002fpHA9Ctej5D+kcD0K16PgPw4tsp3vp94\\u002fL90kBoGV2z+Nl24Sg8DaP7TIdr6fGuM\\u002fWmQ730+N3z89CtejcD3iP4cW2c73U+M\\u002fAAAAAAAA5D8hsHJoke3kP30\\u002fNV66SeA\\u002f\\u002ftR46SYx5D9iEFg5tMjWPyPb+X5qvNw\\u002fy6FFtvP94D9mZmZmZmbiPw4tsp3vp9Y\\u002fGy\\u002fdJAaB3T93vp8aL93gP0a28\\u002f3UeOE\\u002fNV66SQwC4z9fukkMAivnP+18PzVeuuE\\u002f\\u002fKnx0k1i5D+WQ4ts5\\u002fvRP5huEoPAyuE\\u002fYOXQItv54j9mZmZmZmbWP6jGSzeJQeQ\\u002fTDeJQWDl4D8IrBxaZDvXPxgEVg4tsuE\\u002f46WbxCCw4j9mZmZmZmbiPwisHFpkO88\\u002frkfhehSu3z\\u002fwp8ZLN4nZP3WTGARWDt0\\u002f30+Nl24S2z8xCKwcWmTjPxgEVg4tsuE\\u002fHVpkO99P4T\\u002f2KFyPwvXgP3npJjEIrNw\\u002fGQRWDi2yzT\\u002fjpZvEILDaP\\u002fp+arx0k9A\\u002fWDm0yHa+3z\\u002f6fmq8dJPkP8dLN4lBYN0\\u002f2c73U+Ol0z8j2\\u002fl+arzUP8dLN4lBYNU\\u002f+FPjpZvE4D+WQ4ts5\\u002fvhPzvfT42XbtI\\u002f+FPjpZvEwD9\\u002farx0kxjgP\\u002fp+arx0k9A\\u002fUrgehetR2D\\u002fl0CLb+X7iP4PAyqFFtrM\\u002fcT0K16Nw3T+0yHa+nxrjP4XrUbgehds\\u002f46WbxCCw0j+e76fGSzfZP8HKoUW2890\\u002fxSCwcmiR3T9I4XoUrkfhP+xRuB6F69E\\u002fSOF6FK5H2T8tsp3vp8bjP53vp8ZLN+E\\u002fHVpkO99P4T\\u002fFILByaJHlP3WTGARWDt0\\u002fYOXQItv51j+iRbbz\\u002fdTgP6AaL90kBsE\\u002fYhBYObTI1j+gGi\\u002fdJAbRP1CNl24Sg+A\\u002fx0s3iUFg3T8X2c73U+PdP1YOLbKd798\\u002flkOLbOf72T\\u002fVeOkmMQjkP\\u002fLSTWIQWNE\\u002fN4lBYOXQ2j+4HoXrUbjWP6abxCCwcuA\\u002fj8L1KFyP4j+4HoXrUbjiP9v5fmq8dNM\\u002fsnJoke181z\\u002fP91PjpZvgPxKDwMqhReY\\u002fK4cW2c730z8rhxbZzvfTP8uhRbbz\\u002feA\\u002fVOOlm8Qg4D9\\u002farx0kxjgP1CNl24Sg8A\\u002fIbByaJHt3D8AAAAAAADYP6RwPQrXo9A\\u002fj8L1KFyP4j\\u002f+1HjpJjHIPyuHFtnO99M\\u002fc2iR7Xw\\u002f4T\\u002f2KFyPwvXYP83MzMzMzNw\\u002fKVyPwvUo3D\\u002f8qfHSTWKQP3e+nxov3cQ\\u002fLbKd76fG2z+e76fGSzfZP99PjZduEts\\u002fAAAAAAAAAAB9PzVeuknMP5ZDi2zn+9k\\u002fw\\u002fUoXI\\u002fCtT9t5\\u002fup8dLhP8uhRbbz\\u002feA\\u002fmpmZmZmZmT83iUFg5dDaP7pJDAIrh7Y\\u002fJzEIrBxa5D8IrBxaZDvPP2IQWDm0yN4\\u002feekmMQisvD+F61G4HoXTP6RwPQrXo7A\\u002f\",\"shape\":\"156, 1\"},\"hovertemplate\":\"GDP per capita=%{marker.color}\\u003cbr\\u003eScore=%{y}\\u003cbr\\u003eFreedom to make life choices=%{customdata[0]}\\u003cextra\\u003e\\u003c\\u002fextra\\u003e\",\"legendgroup\":\"\",\"marker\":{\"color\":{\"dtype\":\"f8\",\"bdata\":\"4XoUrkfh9D+yne+nxkv3PwRWDi2ynfU\\u002fsXJoke189T+4HoXrUbj2Py2yne+nxvU\\u002fSOF6FK5H9T99PzVeukn0P65H4XoUrvU\\u002fcT0K16Nw9T+BlUOLbOfzP9v5fmq8dPU\\u002fKVyPwvUo8D9fukkMAiv3P3E9CtejcPU\\u002fyXa+nxov9T+d76fGSzf5P5HtfD81XvY\\u002fN4lBYOXQ9D\\u002f4U+Olm8QAQO58PzVeuvM\\u002fUrgehetR9D\\u002fjpZvEILD0P8\\u002f3U+Olm\\u002fA\\u002ff2q8dJMY8j\\u002fXo3A9Ctf1P5huEoPAyvE\\u002fWmQ730+N7z9eukkMAivxP8qhRbbz\\u002feg\\u002fsHJoke188T\\u002f8qfHSTWL6P6rx0k1iEPY\\u002fEFg5tMh2+D\\u002f6fmq8dJPyP2q8dJMYBPQ\\u002fuB6F61G47j\\u002fFILByaJHzP1yPwvUoXPM\\u002fl24Sg8DK6T\\u002fGSzeJQWDlPzeJQWDl0PI\\u002fnMQgsHJo9T82XrpJDALnPy\\u002fdJAaBlfc\\u002fqMZLN4lB8D\\u002fTTWIQWDn0P6abxCCwcuw\\u002fbef7qfHS6T\\u002f0\\u002fdR46SbzPxsv3SQGgfM\\u002fQmDl0CLb8T+R7Xw\\u002fNV7yP05iEFg5tPQ\\u002fcT0K16Nw8T9pke18PzXqP6jGSzeJQfQ\\u002fRIts5\\u002fup8z\\u002fRItv5fmryP30\\u002fNV66SfI\\u002fRIts5\\u002fup8z\\u002fUeOkmMQjoPzMzMzMzM\\u002fM\\u002fuB6F61G46j8X2c73U+PtP1yPwvUoXOs\\u002foBov3SQG5T+oxks3iUHwPyPb+X5qvPI\\u002fhetRuB6F7z\\u002fNzMzMzMzoP9ejcD0K1+M\\u002fObTIdr6f8D+R7Xw\\u002fNV7yP3e+nxov3eQ\\u002fexSuR+F69j81XrpJDALzPzMzMzMzM+8\\u002fEFg5tMh28j\\u002fhehSuR+HuPxKDwMqhRfA\\u002f16NwPQrX8T8GgZVDi2zvP4cW2c73U+8\\u002fIbByaJHt6D\\u002fZzvdT46XvP\\u002fyp8dJNYvA\\u002fvHSTGARW3j\\u002fjpZvEILDuP+j7qfHSTeo\\u002fQDVeukkM5j\\u002f2KFyPwvXgP0jhehSuR+0\\u002fc2iR7Xw\\u002f7T\\u002fhehSuR+HmP\\u002fhT46WbxOw\\u002fRbbz\\u002fdR46T8AAAAAAAAAAB+F61G4HuE\\u002fd76fGi\\u002fd8D8zMzMzMzPbP6wcWmQ73+8\\u002f+n5qvHST8D8lBoGVQ4vkPxSuR+F6FO4\\u002fjGzn+6nx8D8dWmQ730\\u002fhP4xs5\\u002fup8eI\\u002f2\\u002fl+arx02z8K16NwPQrnP83MzMzMzOw\\u002fHVpkO99P7T\\u002f8qfHSTWLQP23n+6nx0uU\\u002foBov3SQG4T\\u002fHSzeJQWDtPylcj8L1KPA\\u002frkfhehSu1z8shxbZzvfrP8QgsHJokeE\\u002ff2q8dJMY1D9SuB6F61HsP\\u002fLSTWIQWMk\\u002fWmQ730+N3z+WQ4ts5\\u002fvhP23n+6nx0uE\\u002fg8DKoUW20z+yne+nxkvrP+kmMQisHOo\\u002fbef7qfHS5T+28\\u002f3UeOnWP0SLbOf7qbE\\u002f30+Nl24S5z\\u002f4U+Olm8TAP8\\u002f3U+Olm9Q\\u002f\\u002ftR46SYx2D9cj8L1KFzjP8ZLN4lBYOk\\u002f+n5qvHST0D9qvHSTGATWP2iR7Xw\\u002fNd4\\u002fXI\\u002fC9Shc5z\\u002f4U+Olm8TQPwwCK4cW2dY\\u002fc2iR7Xw\\u002f1T8Sg8DKoUXwPwIrhxbZzsc\\u002fKVyPwvUo1D\\u002fb+X5qvHSzP0A1XrpJDOY\\u002fc2iR7Xw\\u002f1T99PzVeukncPx+F61G4Ht0\\u002fxSCwcmiR1T\\u002f6fmq8dJOYP7Kd76fGS7c\\u002f\"},\"coloraxis\":\"coloraxis\",\"symbol\":\"circle\"},\"mode\":\"markers\",\"name\":\"\",\"orientation\":\"v\",\"showlegend\":false,\"x\":{\"dtype\":\"f8\",\"bdata\":\"4XoUrkfh9D+yne+nxkv3PwRWDi2ynfU\\u002fsXJoke189T+4HoXrUbj2Py2yne+nxvU\\u002fSOF6FK5H9T99PzVeukn0P65H4XoUrvU\\u002fcT0K16Nw9T+BlUOLbOfzP9v5fmq8dPU\\u002fKVyPwvUo8D9fukkMAiv3P3E9CtejcPU\\u002fyXa+nxov9T+d76fGSzf5P5HtfD81XvY\\u002fN4lBYOXQ9D\\u002f4U+Olm8QAQO58PzVeuvM\\u002fUrgehetR9D\\u002fjpZvEILD0P8\\u002f3U+Olm\\u002fA\\u002ff2q8dJMY8j\\u002fXo3A9Ctf1P5huEoPAyvE\\u002fWmQ730+N7z9eukkMAivxP8qhRbbz\\u002feg\\u002fsHJoke188T\\u002f8qfHSTWL6P6rx0k1iEPY\\u002fEFg5tMh2+D\\u002f6fmq8dJPyP2q8dJMYBPQ\\u002fuB6F61G47j\\u002fFILByaJHzP1yPwvUoXPM\\u002fl24Sg8DK6T\\u002fGSzeJQWDlPzeJQWDl0PI\\u002fnMQgsHJo9T82XrpJDALnPy\\u002fdJAaBlfc\\u002fqMZLN4lB8D\\u002fTTWIQWDn0P6abxCCwcuw\\u002fbef7qfHS6T\\u002f0\\u002fdR46SbzPxsv3SQGgfM\\u002fQmDl0CLb8T+R7Xw\\u002fNV7yP05iEFg5tPQ\\u002fcT0K16Nw8T9pke18PzXqP6jGSzeJQfQ\\u002fRIts5\\u002fup8z\\u002fRItv5fmryP30\\u002fNV66SfI\\u002fRIts5\\u002fup8z\\u002fUeOkmMQjoPzMzMzMzM\\u002fM\\u002fuB6F61G46j8X2c73U+PtP1yPwvUoXOs\\u002foBov3SQG5T+oxks3iUHwPyPb+X5qvPI\\u002fhetRuB6F7z\\u002fNzMzMzMzoP9ejcD0K1+M\\u002fObTIdr6f8D+R7Xw\\u002fNV7yP3e+nxov3eQ\\u002fexSuR+F69j81XrpJDALzPzMzMzMzM+8\\u002fEFg5tMh28j\\u002fhehSuR+HuPxKDwMqhRfA\\u002f16NwPQrX8T8GgZVDi2zvP4cW2c73U+8\\u002fIbByaJHt6D\\u002fZzvdT46XvP\\u002fyp8dJNYvA\\u002fvHSTGARW3j\\u002fjpZvEILDuP+j7qfHSTeo\\u002fQDVeukkM5j\\u002f2KFyPwvXgP0jhehSuR+0\\u002fc2iR7Xw\\u002f7T\\u002fhehSuR+HmP\\u002fhT46WbxOw\\u002fRbbz\\u002fdR46T8AAAAAAAAAAB+F61G4HuE\\u002fd76fGi\\u002fd8D8zMzMzMzPbP6wcWmQ73+8\\u002f+n5qvHST8D8lBoGVQ4vkPxSuR+F6FO4\\u002fjGzn+6nx8D8dWmQ730\\u002fhP4xs5\\u002fup8eI\\u002f2\\u002fl+arx02z8K16NwPQrnP83MzMzMzOw\\u002fHVpkO99P7T\\u002f8qfHSTWLQP23n+6nx0uU\\u002foBov3SQG4T\\u002fHSzeJQWDtPylcj8L1KPA\\u002frkfhehSu1z8shxbZzvfrP8QgsHJokeE\\u002ff2q8dJMY1D9SuB6F61HsP\\u002fLSTWIQWMk\\u002fWmQ730+N3z+WQ4ts5\\u002fvhP23n+6nx0uE\\u002fg8DKoUW20z+yne+nxkvrP+kmMQisHOo\\u002fbef7qfHS5T+28\\u002f3UeOnWP0SLbOf7qbE\\u002f30+Nl24S5z\\u002f4U+Olm8TAP8\\u002f3U+Olm9Q\\u002f\\u002ftR46SYx2D9cj8L1KFzjP8ZLN4lBYOk\\u002f+n5qvHST0D9qvHSTGATWP2iR7Xw\\u002fNd4\\u002fXI\\u002fC9Shc5z\\u002f4U+Olm8TQPwwCK4cW2dY\\u002fc2iR7Xw\\u002f1T8Sg8DKoUXwPwIrhxbZzsc\\u002fKVyPwvUo1D\\u002fb+X5qvHSzP0A1XrpJDOY\\u002fc2iR7Xw\\u002f1T99PzVeukncPx+F61G4Ht0\\u002fxSCwcmiR1T\\u002f6fmq8dJOYP7Kd76fGS7c\\u002f\"},\"xaxis\":\"x\",\"y\":{\"dtype\":\"f8\",\"bdata\":\"vEkMAiuHHkDFSzeJQWAeQLgehetROB5AexSuR+H6HUCmm8QgsPIdQN0kBoGVwx1AG1pkO99PHUCyne+nxksdQKjGSzeJQR1ASgwCK4cWHUDD9Shcj8IcQHSTGARWjhxAfT81XrpJHECcxCCwcugbQFyPwvUo3BtAaZHtfD+1G0CkcD0K16MbQCUGgZVDixtAqMZLN4lBG0B\\u002farx0kxgbQPLSTWIQ2BpAN166SQyCGkDb+X5qvPQZQMHKoUW28xlAgZVDi2znGUDdJAaBlcMZQLgehetRuBlAkxgEVg6tGUBaZDvfT40ZQLxJDAIrhxlAarx0kxiEGUDl0CLb+X4ZQJZDi2znexlArBxaZDtfGUB9PzVeukkZQD0K16NwPRlACtejcD0KGUD4U+Olm8QYQP3UeOkmsRhAYLpJDAKrGECq8dJNYpAYQMmhRbbzfRhA7FG4HoVrGED8qfHSTWIYQKBFtvP9VBhAfT81XrpJGEAAAAAAAAAYQDEIrBxa5BdAbef7qfHSF0ADK4cW2c4XQJhuEoPAyhdASOF6FK7HF0AIrBxaZLsXQClcj8L1qBdAqvHSTWKQF0CPwvUoXI8XQAAAAAAAgBdA16NwPQpXF0A9CtejcD0XQClcj8L1KBdAQDVeukkMF0A3XrpJDAIXQNv5fmq89BZA001iEFi5FkDz\\u002fdR46aYWQNrO91PjpRZAj8L1KFyPFkAlBoGVQ4sWQHsUrkfhehZA3SQGgZVDFkB\\u002farx0kxgWQGq8dJMYBBZAO99PjZfuFUA730+Nl+4VQBfZzvdT4xVAuB6F61G4FUCkcD0K16MVQGQ730+NlxVAO99PjZduFUA730+Nl24VQBfZzvdTYxVAZBBYObRIFUBpke18PzUVQK5H4XoULhVAarx0kxgEFUCWQ4ts5\\u002fsUQOj7qfHSzRRAsp3vp8bLFEA9CtejcL0UQL+fGi\\u002fdpBRAH4XrUbieFECgGi\\u002fdJIYUQGq8dJMYhBRAAAAAAACAFEC28\\u002f3UeGkUQKwcWmQ7XxRAhxbZzvdTFEAhsHJoke0TQGZmZmZm5hNACKwcWmS7E0CF61G4HoUTQNNNYhBYORNA1XjpJjEIE0BGtvP91PgSQEw3iUFg5RJAhxbZzvfTEkDJdr6fGq8SQFTjpZvEoBJAoBov3SSGEkDLoUW2830SQJHtfD81XhJA8tJNYhBYEkBkEFg5tEgSQCPb+X5qPBJAAAAAAAAAEkD8qfHSTeIRQG3n+6nx0hFAfT81XrrJEUDdJAaBlcMRQAisHFpkuxFAGQRWDi2yEUCTGARWDq0RQF66SQwCqxFApHA9CtejEUA1XrpJDIIRQAaBlUOLbBFAZmZmZmZmEUBcj8L1KFwRQGQQWDm0SBFACKwcWmQ7EUBOYhBYOTQRQHsUrkfh+hBAw\\u002fUoXI\\u002fCEEBEi2zn+6kQQL+fGi\\u002fdpBBAqvHSTWKQEEB0kxgEVo4QQLbz\\u002fdR4aRBAy6FFtvP9D0CDwMqhRbYPQBBYObTIdg5AXI\\u002fC9ShcDkD+1HjpJjEOQPCnxks3iQ1AdZMYBFYODUC4HoXrUbgMQBkEVg4tsgxADi2yne+nDED2KFyPwvULQBkEVg4tsgtA3SQGgZVDC0DXo3A9CtcKQAaBlUOLbApA1XjpJjEICkBEi2zn+6kIQD0K16NwPQdA\"},\"yaxis\":\"y\",\"type\":\"scatter\"},{\"hovertemplate\":\"\\u003cb\\u003eOLS trendline\\u003c\\u002fb\\u003e\\u003cbr\\u003eScore = 2.29123 * GDP per capita + 3.3334\\u003cbr\\u003eR\\u003csup\\u003e2\\u003c\\u002fsup\\u003e=0.643403\\u003cbr\\u003e\\u003cbr\\u003eGDP per capita=%{x}\\u003cbr\\u003eScore=%{y} \\u003cb\\u003e(trend)\\u003c\\u002fb\\u003e\\u003cextra\\u003e\\u003c\\u002fextra\\u003e\",\"legendgroup\":\"\",\"marker\":{\"symbol\":\"circle\"},\"mode\":\"lines\",\"name\":\"\",\"showlegend\":false,\"x\":{\"dtype\":\"f8\",\"bdata\":\"AAAAAAAAAAD6fmq8dJOYP0SLbOf7qbE\\u002f2\\u002fl+arx0sz+yne+nxku3P\\u002fhT46WbxMA\\u002fAiuHFtnOxz\\u002fy0k1iEFjJP\\u002fyp8dJNYtA\\u002f+n5qvHST0D\\u002f4U+Olm8TQP4PAyqFFttM\\u002ff2q8dJMY1D8pXI\\u002fC9SjUP8\\u002f3U+Olm9Q\\u002fc2iR7Xw\\u002f1T9zaJHtfD\\u002fVP8UgsHJokdU\\u002farx0kxgE1j8MAiuHFtnWP7bz\\u002fdR46dY\\u002frkfhehSu1z\\u002f+1HjpJjHYPzMzMzMzM9s\\u002f2\\u002fl+arx02z99PzVeukncPx+F61G4Ht0\\u002faJHtfD813j+8dJMYBFbeP1pkO99Pjd8\\u002f9ihcj8L14D+gGi\\u002fdJAbhPx+F61G4HuE\\u002fHVpkO99P4T\\u002fEILByaJHhP23n+6nx0uE\\u002flkOLbOf74T+MbOf7qfHiP1yPwvUoXOM\\u002f16NwPQrX4z8lBoGVQ4vkP3e+nxov3eQ\\u002foBov3SQG5T\\u002fGSzeJQWDlP23n+6nx0uU\\u002fbef7qfHS5T9ANV66SQzmP0A1XrpJDOY\\u002f4XoUrkfh5j82XrpJDALnPwrXo3A9Cuc\\u002f30+Nl24S5z9cj8L1KFznP9R46SYxCOg\\u002fzczMzMzM6D8hsHJoke3oP8qhRbbz\\u002feg\\u002fxks3iUFg6T9FtvP91HjpP5duEoPAyuk\\u002fbef7qfHS6T\\u002fpJjEIrBzqP2mR7Xw\\u002fNeo\\u002f6Pup8dJN6j+4HoXrUbjqP7Kd76fGS+s\\u002fXI\\u002fC9Shc6z8shxbZzvfrP1K4HoXrUew\\u002fppvEILBy7D\\u002f4U+Olm8TsP83MzMzMzOw\\u002fc2iR7Xw\\u002f7T9I4XoUrkftPx1aZDvfT+0\\u002fx0s3iUFg7T8X2c73U+PtPxSuR+F6FO4\\u002f46WbxCCw7j+4HoXrUbjuP+F6FK5H4e4\\u002fMzMzMzMz7z+HFtnO91PvPwaBlUOLbO8\\u002fhetRuB6F7z9aZDvfT43vP9nO91Pjpe8\\u002frBxaZDvf7z8pXI\\u002fC9SjwPylcj8L1KPA\\u002fqMZLN4lB8D+oxks3iUHwPxKDwMqhRfA\\u002fEoPAyqFF8D\\u002f8qfHSTWLwP\\u002fp+arx0k\\u002fA\\u002fz\\u002fdT46Wb8D85tMh2vp\\u002fwP3e+nxov3fA\\u002fjGzn+6nx8D9eukkMAivxP3E9CtejcPE\\u002fsHJoke188T+YbhKDwMrxP9ejcD0K1\\u002fE\\u002fQmDl0CLb8T9\\u002farx0kxjyP30\\u002fNV66SfI\\u002fke18PzVe8j+R7Xw\\u002fNV7yP9Ei2\\u002fl+avI\\u002fEFg5tMh28j\\u002f6fmq8dJPyPyPb+X5qvPI\\u002fN4lBYOXQ8j81XrpJDALzP\\u002fT91HjpJvM\\u002fMzMzMzMz8z9cj8L1KFzzPxsv3SQGgfM\\u002fxSCwcmiR8z9Ei2zn+6nzP0SLbOf7qfM\\u002f7nw\\u002fNV668z+BlUOLbOfzP2q8dJMYBPQ\\u002f001iEFg59D+oxks3iUH0P30\\u002fNV66SfQ\\u002fUrgehetR9D\\u002fjpZvEILD0P05iEFg5tPQ\\u002fN4lBYOXQ9D\\u002fhehSuR+H0P8l2vp8aL\\u002fU\\u002fSOF6FK5H9T+cxCCwcmj1P3E9CtejcPU\\u002fcT0K16Nw9T\\u002fb+X5qvHT1P7FyaJHtfPU\\u002fBFYOLbKd9T+uR+F6FK71Py2yne+nxvU\\u002f16NwPQrX9T+q8dJNYhD2P5HtfD81XvY\\u002fexSuR+F69j+4HoXrUbj2P1+6SQwCK\\u002fc\\u002fsp3vp8ZL9z8v3SQGgZX3PxBYObTIdvg\\u002fne+nxks3+T\\u002f8qfHSTWL6P\\u002fhT46WbxABA\"},\"xaxis\":\"x\",\"y\":{\"dtype\":\"f8\",\"bdata\":\"LXQTTc2qCkD9JS2xaxsLQGRT3ayU7gtAlnwPim0PDEC5i5+I0FUMQGoJdS+DEQ1APZba1JgTDkAlb+cG6EsOQDIy0HgRXA9AbGhTRSVqD0CmntYROXgPQGZE2agJKBBAoHpcdR02EED\\u002fWHIXdjgQQJhtC4biSBBATh3m2lhgEEBOHebaWGAQQCl1UwUUbBBAwonsc4B8EECV1AivAJsQQPSyHlFZnRBAaB8l6oC5EEBgEtT6RcwQQNLl17yLOhFATl8vRe5DEUAhqkuAbmIRQPT0Z7vugBFAQ7nbftGoEUABdgfDgq0RQA73psoW2hFAyhrQN+YwEkCI1\\u002ft7lzUSQKVyPWKhPBJA36jALrVKEkDXm28\\u002fel0SQM+OHlA\\u002fcBJAquaLevp7EkDN9Rt5XcISQKBAOLTd4BJAMUiAMw8EE0BbZGEhrTcTQBEUPHYjTxNA7GupoN5aE0AB+pmXrXQTQDQjzHSGlRNANCPMdIaVE0DMN2Xj8qUTQMw3ZePypRNAcs2dWfPiE0DvRvXhVewTQE4lC4Su7hNArQMhJgfxE0AE1eXYJAYUQM8SsSRqNxRAt+u9VrlvFEAzZRXfG3kUQPEhQSPNfRRAZY5HvPSZFECCKYmi\\u002fqAUQDjZY\\u002fd0uBRAmLd5mc26FEDuiD5M688UQAwkgDL11hRAKb\\u002fBGP\\u002fdFED8Cd5Tf\\u002fwUQKqsZ7m6JhVAaGmT\\u002fWsrFUB26jIFAFgVQIp4I\\u002fzOcRVABvJ6hDF7FUC8oVXZp5IVQByAa3sAlRVATqmdWNm1FUCsh7P6MbgVQAxmyZyKuhVAyiL14Du\\u002fFUC6CFMCxuQVQPQ+1s7Z8hVAAcB11m0fFkBgnot4xiEWQDv2+KKBLRZA8aXT9\\u002fdEFkBtHyuAWk4WQIq6bGZkVRZAqFWuTG5cFkAGNMTuxl4WQCTPBdXQZRZAvOOeQz12FkDuDNEgFpcWQO4M0SAWlxZAKENU7SmlFkAoQ1TtKaUWQIghao+CpxZAiCFqj4KnFkAhNgP+7rcWQJWiCZcW1BZAU18128fYFkCyPUt9INsWQENFk\\u002fxR\\u002fhZAHp0AJw0KF0BQxjIE5ioXQKCKpsfIUhdAvCXordJZF0DKpoe1ZoYXQOZByZtwjRdARiDfPcmPF0DXJye9+rIXQEuULVYizxdAJuyagN3aF0Am7JqA3doXQEOH3Gbn4RdAYCIeTfHoF0D5Nre7XfkXQLDmkRDUEBhAij7\\u002fOo8cGED+qgXUtjgYQFZ8yobUTRhAchcMbd5UGEAox+bBVGwYQICYq3RygRhA\\u002fBED\\u002fdSKGEA2SIbJ6JgYQDZIhsnomBhAssHdUUuiGEDHT85IGrwYQGBkZ7eGzBhAM6+D8gbrGEDxa682uO8YQK8o23pp9BhAbeUGvxr5GED23\\u002f1OES8ZQFa+E\\u002fFpMRlA7tKsX9ZBGUBqTAToOEsZQHjNo+\\u002fMdxlAsgMnvOCFGUCq9tXMpZgZQGizARFXnRlAaLMBEVedGUDHkRezr58ZQIZOQ\\u002fdgpBlAfUHyBya3GUD5ukmQiMAZQDPxzFyczhlAr2ok5f7XGUDik1bC1\\u002fgZQO4U9slrJRpAiCmPONg1GkAYMde3CVkaQH6DO3K7mhpAdXbqgoCtGkAjGXTou9caQIzfJrvGWBtA\\u002frIqfQzHG0AWHGe1UnIcQP4xy9yKRSBA\"},\"yaxis\":\"y\",\"type\":\"scatter\"}],                        {\"template\":{\"data\":{\"histogram2dcontour\":[{\"type\":\"histogram2dcontour\",\"colorbar\":{\"outlinewidth\":0,\"ticks\":\"\"},\"colorscale\":[[0.0,\"#0d0887\"],[0.1111111111111111,\"#46039f\"],[0.2222222222222222,\"#7201a8\"],[0.3333333333333333,\"#9c179e\"],[0.4444444444444444,\"#bd3786\"],[0.5555555555555556,\"#d8576b\"],[0.6666666666666666,\"#ed7953\"],[0.7777777777777778,\"#fb9f3a\"],[0.8888888888888888,\"#fdca26\"],[1.0,\"#f0f921\"]]}],\"choropleth\":[{\"type\":\"choropleth\",\"colorbar\":{\"outlinewidth\":0,\"ticks\":\"\"}}],\"histogram2d\":[{\"type\":\"histogram2d\",\"colorbar\":{\"outlinewidth\":0,\"ticks\":\"\"},\"colorscale\":[[0.0,\"#0d0887\"],[0.1111111111111111,\"#46039f\"],[0.2222222222222222,\"#7201a8\"],[0.3333333333333333,\"#9c179e\"],[0.4444444444444444,\"#bd3786\"],[0.5555555555555556,\"#d8576b\"],[0.6666666666666666,\"#ed7953\"],[0.7777777777777778,\"#fb9f3a\"],[0.8888888888888888,\"#fdca26\"],[1.0,\"#f0f921\"]]}],\"heatmap\":[{\"type\":\"heatmap\",\"colorbar\":{\"outlinewidth\":0,\"ticks\":\"\"},\"colorscale\":[[0.0,\"#0d0887\"],[0.1111111111111111,\"#46039f\"],[0.2222222222222222,\"#7201a8\"],[0.3333333333333333,\"#9c179e\"],[0.4444444444444444,\"#bd3786\"],[0.5555555555555556,\"#d8576b\"],[0.6666666666666666,\"#ed7953\"],[0.7777777777777778,\"#fb9f3a\"],[0.8888888888888888,\"#fdca26\"],[1.0,\"#f0f921\"]]}],\"contourcarpet\":[{\"type\":\"contourcarpet\",\"colorbar\":{\"outlinewidth\":0,\"ticks\":\"\"}}],\"contour\":[{\"type\":\"contour\",\"colorbar\":{\"outlinewidth\":0,\"ticks\":\"\"},\"colorscale\":[[0.0,\"#0d0887\"],[0.1111111111111111,\"#46039f\"],[0.2222222222222222,\"#7201a8\"],[0.3333333333333333,\"#9c179e\"],[0.4444444444444444,\"#bd3786\"],[0.5555555555555556,\"#d8576b\"],[0.6666666666666666,\"#ed7953\"],[0.7777777777777778,\"#fb9f3a\"],[0.8888888888888888,\"#fdca26\"],[1.0,\"#f0f921\"]]}],\"surface\":[{\"type\":\"surface\",\"colorbar\":{\"outlinewidth\":0,\"ticks\":\"\"},\"colorscale\":[[0.0,\"#0d0887\"],[0.1111111111111111,\"#46039f\"],[0.2222222222222222,\"#7201a8\"],[0.3333333333333333,\"#9c179e\"],[0.4444444444444444,\"#bd3786\"],[0.5555555555555556,\"#d8576b\"],[0.6666666666666666,\"#ed7953\"],[0.7777777777777778,\"#fb9f3a\"],[0.8888888888888888,\"#fdca26\"],[1.0,\"#f0f921\"]]}],\"mesh3d\":[{\"type\":\"mesh3d\",\"colorbar\":{\"outlinewidth\":0,\"ticks\":\"\"}}],\"scatter\":[{\"fillpattern\":{\"fillmode\":\"overlay\",\"size\":10,\"solidity\":0.2},\"type\":\"scatter\"}],\"parcoords\":[{\"type\":\"parcoords\",\"line\":{\"colorbar\":{\"outlinewidth\":0,\"ticks\":\"\"}}}],\"scatterpolargl\":[{\"type\":\"scatterpolargl\",\"marker\":{\"colorbar\":{\"outlinewidth\":0,\"ticks\":\"\"}}}],\"bar\":[{\"error_x\":{\"color\":\"#2a3f5f\"},\"error_y\":{\"color\":\"#2a3f5f\"},\"marker\":{\"line\":{\"color\":\"#E5ECF6\",\"width\":0.5},\"pattern\":{\"fillmode\":\"overlay\",\"size\":10,\"solidity\":0.2}},\"type\":\"bar\"}],\"scattergeo\":[{\"type\":\"scattergeo\",\"marker\":{\"colorbar\":{\"outlinewidth\":0,\"ticks\":\"\"}}}],\"scatterpolar\":[{\"type\":\"scatterpolar\",\"marker\":{\"colorbar\":{\"outlinewidth\":0,\"ticks\":\"\"}}}],\"histogram\":[{\"marker\":{\"pattern\":{\"fillmode\":\"overlay\",\"size\":10,\"solidity\":0.2}},\"type\":\"histogram\"}],\"scattergl\":[{\"type\":\"scattergl\",\"marker\":{\"colorbar\":{\"outlinewidth\":0,\"ticks\":\"\"}}}],\"scatter3d\":[{\"type\":\"scatter3d\",\"line\":{\"colorbar\":{\"outlinewidth\":0,\"ticks\":\"\"}},\"marker\":{\"colorbar\":{\"outlinewidth\":0,\"ticks\":\"\"}}}],\"scattermap\":[{\"type\":\"scattermap\",\"marker\":{\"colorbar\":{\"outlinewidth\":0,\"ticks\":\"\"}}}],\"scattermapbox\":[{\"type\":\"scattermapbox\",\"marker\":{\"colorbar\":{\"outlinewidth\":0,\"ticks\":\"\"}}}],\"scatterternary\":[{\"type\":\"scatterternary\",\"marker\":{\"colorbar\":{\"outlinewidth\":0,\"ticks\":\"\"}}}],\"scattercarpet\":[{\"type\":\"scattercarpet\",\"marker\":{\"colorbar\":{\"outlinewidth\":0,\"ticks\":\"\"}}}],\"carpet\":[{\"aaxis\":{\"endlinecolor\":\"#2a3f5f\",\"gridcolor\":\"white\",\"linecolor\":\"white\",\"minorgridcolor\":\"white\",\"startlinecolor\":\"#2a3f5f\"},\"baxis\":{\"endlinecolor\":\"#2a3f5f\",\"gridcolor\":\"white\",\"linecolor\":\"white\",\"minorgridcolor\":\"white\",\"startlinecolor\":\"#2a3f5f\"},\"type\":\"carpet\"}],\"table\":[{\"cells\":{\"fill\":{\"color\":\"#EBF0F8\"},\"line\":{\"color\":\"white\"}},\"header\":{\"fill\":{\"color\":\"#C8D4E3\"},\"line\":{\"color\":\"white\"}},\"type\":\"table\"}],\"barpolar\":[{\"marker\":{\"line\":{\"color\":\"#E5ECF6\",\"width\":0.5},\"pattern\":{\"fillmode\":\"overlay\",\"size\":10,\"solidity\":0.2}},\"type\":\"barpolar\"}],\"pie\":[{\"automargin\":true,\"type\":\"pie\"}]},\"layout\":{\"autotypenumbers\":\"strict\",\"colorway\":[\"#636efa\",\"#EF553B\",\"#00cc96\",\"#ab63fa\",\"#FFA15A\",\"#19d3f3\",\"#FF6692\",\"#B6E880\",\"#FF97FF\",\"#FECB52\"],\"font\":{\"color\":\"#2a3f5f\"},\"hovermode\":\"closest\",\"hoverlabel\":{\"align\":\"left\"},\"paper_bgcolor\":\"white\",\"plot_bgcolor\":\"#E5ECF6\",\"polar\":{\"bgcolor\":\"#E5ECF6\",\"angularaxis\":{\"gridcolor\":\"white\",\"linecolor\":\"white\",\"ticks\":\"\"},\"radialaxis\":{\"gridcolor\":\"white\",\"linecolor\":\"white\",\"ticks\":\"\"}},\"ternary\":{\"bgcolor\":\"#E5ECF6\",\"aaxis\":{\"gridcolor\":\"white\",\"linecolor\":\"white\",\"ticks\":\"\"},\"baxis\":{\"gridcolor\":\"white\",\"linecolor\":\"white\",\"ticks\":\"\"},\"caxis\":{\"gridcolor\":\"white\",\"linecolor\":\"white\",\"ticks\":\"\"}},\"coloraxis\":{\"colorbar\":{\"outlinewidth\":0,\"ticks\":\"\"}},\"colorscale\":{\"sequential\":[[0.0,\"#0d0887\"],[0.1111111111111111,\"#46039f\"],[0.2222222222222222,\"#7201a8\"],[0.3333333333333333,\"#9c179e\"],[0.4444444444444444,\"#bd3786\"],[0.5555555555555556,\"#d8576b\"],[0.6666666666666666,\"#ed7953\"],[0.7777777777777778,\"#fb9f3a\"],[0.8888888888888888,\"#fdca26\"],[1.0,\"#f0f921\"]],\"sequentialminus\":[[0.0,\"#0d0887\"],[0.1111111111111111,\"#46039f\"],[0.2222222222222222,\"#7201a8\"],[0.3333333333333333,\"#9c179e\"],[0.4444444444444444,\"#bd3786\"],[0.5555555555555556,\"#d8576b\"],[0.6666666666666666,\"#ed7953\"],[0.7777777777777778,\"#fb9f3a\"],[0.8888888888888888,\"#fdca26\"],[1.0,\"#f0f921\"]],\"diverging\":[[0,\"#8e0152\"],[0.1,\"#c51b7d\"],[0.2,\"#de77ae\"],[0.3,\"#f1b6da\"],[0.4,\"#fde0ef\"],[0.5,\"#f7f7f7\"],[0.6,\"#e6f5d0\"],[0.7,\"#b8e186\"],[0.8,\"#7fbc41\"],[0.9,\"#4d9221\"],[1,\"#276419\"]]},\"xaxis\":{\"gridcolor\":\"white\",\"linecolor\":\"white\",\"ticks\":\"\",\"title\":{\"standoff\":15},\"zerolinecolor\":\"white\",\"automargin\":true,\"zerolinewidth\":2},\"yaxis\":{\"gridcolor\":\"white\",\"linecolor\":\"white\",\"ticks\":\"\",\"title\":{\"standoff\":15},\"zerolinecolor\":\"white\",\"automargin\":true,\"zerolinewidth\":2},\"scene\":{\"xaxis\":{\"backgroundcolor\":\"#E5ECF6\",\"gridcolor\":\"white\",\"linecolor\":\"white\",\"showbackground\":true,\"ticks\":\"\",\"zerolinecolor\":\"white\",\"gridwidth\":2},\"yaxis\":{\"backgroundcolor\":\"#E5ECF6\",\"gridcolor\":\"white\",\"linecolor\":\"white\",\"showbackground\":true,\"ticks\":\"\",\"zerolinecolor\":\"white\",\"gridwidth\":2},\"zaxis\":{\"backgroundcolor\":\"#E5ECF6\",\"gridcolor\":\"white\",\"linecolor\":\"white\",\"showbackground\":true,\"ticks\":\"\",\"zerolinecolor\":\"white\",\"gridwidth\":2}},\"shapedefaults\":{\"line\":{\"color\":\"#2a3f5f\"}},\"annotationdefaults\":{\"arrowcolor\":\"#2a3f5f\",\"arrowhead\":0,\"arrowwidth\":1},\"geo\":{\"bgcolor\":\"white\",\"landcolor\":\"#E5ECF6\",\"subunitcolor\":\"white\",\"showland\":true,\"showlakes\":true,\"lakecolor\":\"white\"},\"title\":{\"x\":0.05},\"mapbox\":{\"style\":\"light\"}}},\"xaxis\":{\"anchor\":\"y\",\"domain\":[0.0,1.0],\"title\":{\"text\":\"GDP per capita\"}},\"yaxis\":{\"anchor\":\"x\",\"domain\":[0.0,1.0],\"title\":{\"text\":\"Score\"}},\"coloraxis\":{\"colorbar\":{\"title\":{\"text\":\"GDP per capita\"}},\"colorscale\":[[0.0,\"#0d0887\"],[0.1111111111111111,\"#46039f\"],[0.2222222222222222,\"#7201a8\"],[0.3333333333333333,\"#9c179e\"],[0.4444444444444444,\"#bd3786\"],[0.5555555555555556,\"#d8576b\"],[0.6666666666666666,\"#ed7953\"],[0.7777777777777778,\"#fb9f3a\"],[0.8888888888888888,\"#fdca26\"],[1.0,\"#f0f921\"]]},\"legend\":{\"tracegroupgap\":0},\"title\":{\"text\":\"2018\",\"x\":0.5}},                        {\"responsive\": true}                    ).then(function(){\n",
       "                            \n",
       "var gd = document.getElementById('e374982b-98cb-45db-8d7c-4f51b320d774');\n",
       "var x = new MutationObserver(function (mutations, observer) {{\n",
       "        var display = window.getComputedStyle(gd).display;\n",
       "        if (!display || display === 'none') {{\n",
       "            console.log([gd, 'removed!']);\n",
       "            Plotly.purge(gd);\n",
       "            observer.disconnect();\n",
       "        }}\n",
       "}});\n",
       "\n",
       "// Listen for the removal of the full notebook cells\n",
       "var notebookContainer = gd.closest('#notebook-container');\n",
       "if (notebookContainer) {{\n",
       "    x.observe(notebookContainer, {childList: true});\n",
       "}}\n",
       "\n",
       "// Listen for the clearing of the current output cell\n",
       "var outputEl = gd.closest('.output');\n",
       "if (outputEl) {{\n",
       "    x.observe(outputEl, {childList: true});\n",
       "}}\n",
       "\n",
       "                        })                };            </script>        </div>\n",
       "</body>\n",
       "</html>"
      ]
     },
     "metadata": {},
     "output_type": "display_data"
    }
   ],
   "source": [
    "fig=px.scatter(df_2018, x=\"GDP per capita\", y=\"Score\", title=\"2018\", color=\"GDP per capita\", trendline='ols', hover_data='Freedom to make life choices')\n",
    "fig.update_layout(title_x=0.5)\n",
    "fig.show()"
   ]
  },
  {
   "cell_type": "code",
   "execution_count": 196,
   "metadata": {},
   "outputs": [
    {
     "data": {
      "text/html": [
       "<html>\n",
       "<head><meta charset=\"utf-8\" /></head>\n",
       "<body>\n",
       "    <div>            <script src=\"https://cdnjs.cloudflare.com/ajax/libs/mathjax/2.7.5/MathJax.js?config=TeX-AMS-MML_SVG\"></script><script type=\"text/javascript\">if (window.MathJax && window.MathJax.Hub && window.MathJax.Hub.Config) {window.MathJax.Hub.Config({SVG: {font: \"STIX-Web\"}});}</script>                <script type=\"text/javascript\">window.PlotlyConfig = {MathJaxConfig: 'local'};</script>\n",
       "        <script charset=\"utf-8\" src=\"https://cdn.plot.ly/plotly-3.1.0.min.js\" integrity=\"sha256-Ei4740bWZhaUTQuD6q9yQlgVCMPBz6CZWhevDYPv93A=\" crossorigin=\"anonymous\"></script>                <div id=\"9b603b88-1e99-47d1-8493-668d96d3cfc1\" class=\"plotly-graph-div\" style=\"height:525px; width:100%;\"></div>            <script type=\"text/javascript\">                window.PLOTLYENV=window.PLOTLYENV || {};                                if (document.getElementById(\"9b603b88-1e99-47d1-8493-668d96d3cfc1\")) {                    Plotly.newPlot(                        \"9b603b88-1e99-47d1-8493-668d96d3cfc1\",                        [{\"hovertemplate\":\"GDP per capita=%{marker.color}\\u003cbr\\u003eScore=%{y}\\u003cextra\\u003e\\u003c\\u002fextra\\u003e\",\"legendgroup\":\"\",\"marker\":{\"color\":{\"dtype\":\"f8\",\"bdata\":\"lkOLbOf7+z8zMzMzMzP9P2IQWDm0yPw\\u002fukkMAiuH\\u002fD\\u002f0\\u002fdR46Sb9P6wcWmQ73\\u002fc\\u002fO99PjZdu\\u002fj8fhetRuB77P9NNYhBYOQBA9ihcj8L19j8Sg8DKoUX8P166SQwCK\\u002fs\\u002f7FG4HoXr\\u002fT+6SQwCK4f8PwIrhxbZzv8\\u002fi2zn+6nx+j8OLbKd76f8P5ZDi2zn+\\u002fs\\u002f30+Nl24S+z\\u002ffT42XbhL7P8uhRbbz\\u002ffw\\u002fj8L1KFyP\\u002fD+amZmZmZn7PwaBlUOLbP0\\u002ff2q8dJMY9D8OLbKd76f6P65H4XoUrvs\\u002fd76fGi\\u002fd+D\\u002fl0CLb+X70P3WTGARWDvs\\u002fbef7qfHS9z8X2c73U+P7P+58PzVeuvs\\u002fkxgEVg4tAECTGARWDi36P6jGSzeJQfY\\u002fWmQ730+N8z8K16NwPQr7P2ZmZmZmZvo\\u002fL90kBoGV+z8bL90kBoH5P6rx0k1iEPg\\u002fx0s3iUFg+T+WQ4ts5\\u002fvzP2Q730+Nl\\u002fg\\u002fppvEILBy9D\\u002fy0k1iEFjxPylcj8L1KPw\\u002fN4lBYOXQ9j+q8dJNYhD6P4GVQ4ts5\\u002fk\\u002f2c73U+Ol+T93vp8aL93yP90kBoGVQ\\u002fU\\u002fDAIrhxbZ+j97FK5H4Xr2P6JFtvP91PI\\u002f8tJNYhBY+z\\u002fVeOkmMQj8P7x0kxgEVvo\\u002fFK5H4XoU9j9iEFg5tMj0P\\u002fp+arx0k\\u002fA\\u002fiUFg5dAi+T9eukkMAiv1PxSuR+F6FPo\\u002fhetRuB6F+z8fhetRuB73P2iR7Xw\\u002fNfo\\u002fYhBYObTI+D\\u002fpJjEIrBz4P+f7qfHSTfo\\u002ftvP91Hjp8j\\u002f4U+Olm8TyP1CNl24Sg\\u002fA\\u002fHVpkO99P9z\\u002fHSzeJQWD1P5ZDi2zn+\\u002fc\\u002fwcqhRbbz8z8dWmQ730\\u002f1P+58PzVeuvk\\u002fAAAAAAAAAADP91PjpZv0PwrXo3A9CvU\\u002fXrpJDAIr+T+HFtnO91P3P6jGSzeJQfY\\u002fpHA9Ctej\\u002fD9WDi2yne\\u002f1P3Noke18P+0\\u002ftMh2vp8a9z9oke18PzXuP8HKoUW28\\u002fE\\u002fHVpkO99P+T+6SQwCK4f0PxfZzvdT4+E\\u002fkxgEVg4t9j\\u002fP91PjpZvwP0jhehSuR\\u002fU\\u002fke18PzVe8D+TGARWDi30P1YOLbKd7+s\\u002ftvP91Hjp8j9oke18PzXuP9nO91Pjpe8\\u002fDAIrhxbZ9j+gGi\\u002fdJAbtP42XbhKDwPA\\u002fBoGVQ4ts7z8xCKwcWmTjP3Noke18P\\u002fU\\u002f001iEFg58j\\u002fpJjEIrBz0P5HtfD81XvA\\u002fAiuHFtnO7z\\u002f8qfHSTWLoP0w3iUFg5eg\\u002f\\u002fKnx0k1i8j+LbOf7qfHiP166SQwCK+c\\u002fXI\\u002fC9Shc6z8fhetRuB7hP+Olm8QgsOY\\u002fYhBYObTI8D8MAiuHFtnwPzMzMzMzM+8\\u002f001iEFg56D+6SQwCK4fyPzm0yHa+n+I\\u002fN4lBYOXQ4j+JQWDl0CLrP9NNYhBYOeg\\u002fvHSTGARW9D9CYOXQItvxP1pkO99PjfU\\u002ftMh2vp8a6z8hsHJoke3yPy\\u002fdJAaBlec\\u002fuB6F61G46j\\u002f+1HjpJjHkP5zEILByaOE\\u002faJHtfD819j8QWDm0yHbqPzeJQWDl0OI\\u002fxSCwcmiR8z\\u002f0\\u002fdR46SbpP\\u002fhT46WbxOQ\\u002f\"},\"coloraxis\":\"coloraxis\",\"symbol\":\"circle\"},\"mode\":\"markers\",\"name\":\"\",\"orientation\":\"v\",\"showlegend\":false,\"x\":{\"dtype\":\"f8\",\"bdata\":\"lkOLbOf7+z8zMzMzMzP9P2IQWDm0yPw\\u002fukkMAiuH\\u002fD\\u002f0\\u002fdR46Sb9P6wcWmQ73\\u002fc\\u002fO99PjZdu\\u002fj8fhetRuB77P9NNYhBYOQBA9ihcj8L19j8Sg8DKoUX8P166SQwCK\\u002fs\\u002f7FG4HoXr\\u002fT+6SQwCK4f8PwIrhxbZzv8\\u002fi2zn+6nx+j8OLbKd76f8P5ZDi2zn+\\u002fs\\u002f30+Nl24S+z\\u002ffT42XbhL7P8uhRbbz\\u002ffw\\u002fj8L1KFyP\\u002fD+amZmZmZn7PwaBlUOLbP0\\u002ff2q8dJMY9D8OLbKd76f6P65H4XoUrvs\\u002fd76fGi\\u002fd+D\\u002fl0CLb+X70P3WTGARWDvs\\u002fbef7qfHS9z8X2c73U+P7P+58PzVeuvs\\u002fkxgEVg4tAECTGARWDi36P6jGSzeJQfY\\u002fWmQ730+N8z8K16NwPQr7P2ZmZmZmZvo\\u002fL90kBoGV+z8bL90kBoH5P6rx0k1iEPg\\u002fx0s3iUFg+T+WQ4ts5\\u002fvzP2Q730+Nl\\u002fg\\u002fppvEILBy9D\\u002fy0k1iEFjxPylcj8L1KPw\\u002fN4lBYOXQ9j+q8dJNYhD6P4GVQ4ts5\\u002fk\\u002f2c73U+Ol+T93vp8aL93yP90kBoGVQ\\u002fU\\u002fDAIrhxbZ+j97FK5H4Xr2P6JFtvP91PI\\u002f8tJNYhBY+z\\u002fVeOkmMQj8P7x0kxgEVvo\\u002fFK5H4XoU9j9iEFg5tMj0P\\u002fp+arx0k\\u002fA\\u002fiUFg5dAi+T9eukkMAiv1PxSuR+F6FPo\\u002fhetRuB6F+z8fhetRuB73P2iR7Xw\\u002fNfo\\u002fYhBYObTI+D\\u002fpJjEIrBz4P+f7qfHSTfo\\u002ftvP91Hjp8j\\u002f4U+Olm8TyP1CNl24Sg\\u002fA\\u002fHVpkO99P9z\\u002fHSzeJQWD1P5ZDi2zn+\\u002fc\\u002fwcqhRbbz8z8dWmQ730\\u002f1P+58PzVeuvk\\u002fAAAAAAAAAADP91PjpZv0PwrXo3A9CvU\\u002fXrpJDAIr+T+HFtnO91P3P6jGSzeJQfY\\u002fpHA9Ctej\\u002fD9WDi2yne\\u002f1P3Noke18P+0\\u002ftMh2vp8a9z9oke18PzXuP8HKoUW28\\u002fE\\u002fHVpkO99P+T+6SQwCK4f0PxfZzvdT4+E\\u002fkxgEVg4t9j\\u002fP91PjpZvwP0jhehSuR\\u002fU\\u002fke18PzVe8D+TGARWDi30P1YOLbKd7+s\\u002ftvP91Hjp8j9oke18PzXuP9nO91Pjpe8\\u002fDAIrhxbZ9j+gGi\\u002fdJAbtP42XbhKDwPA\\u002fBoGVQ4ts7z8xCKwcWmTjP3Noke18P\\u002fU\\u002f001iEFg58j\\u002fpJjEIrBz0P5HtfD81XvA\\u002fAiuHFtnO7z\\u002f8qfHSTWLoP0w3iUFg5eg\\u002f\\u002fKnx0k1i8j+LbOf7qfHiP166SQwCK+c\\u002fXI\\u002fC9Shc6z8fhetRuB7hP+Olm8QgsOY\\u002fYhBYObTI8D8MAiuHFtnwPzMzMzMzM+8\\u002f001iEFg56D+6SQwCK4fyPzm0yHa+n+I\\u002fN4lBYOXQ4j+JQWDl0CLrP9NNYhBYOeg\\u002fvHSTGARW9D9CYOXQItvxP1pkO99PjfU\\u002ftMh2vp8a6z8hsHJoke3yPy\\u002fdJAaBlec\\u002fuB6F61G46j\\u002f+1HjpJjHkP5zEILByaOE\\u002faJHtfD819j8QWDm0yHbqPzeJQWDl0OI\\u002fxSCwcmiR8z\\u002f0\\u002fdR46SbpP\\u002fhT46WbxOQ\\u002f\"},\"xaxis\":\"x\",\"y\":{\"dtype\":\"f8\",\"bdata\":\"i2zn+6nxHkAv3SQGgRUeQI\\u002fC9ShcDx5A4XoUrkdhHUDTTWIQWDkdQH9qvHSTGB1APzVeukkMHUBWDi2yne8cQLByaJHtfBxA0SLb+X7qG0BMN4lBYOUbQAIrhxbZzhtAPQrXo3C9G0CkcD0K16MbQHWTGARWjhtAN4lBYOVQG0A9CtejcD0bQIPAyqFFNhtAXrpJDAIrG0CamZmZmRkbQPCnxks3CRtAUI2XbhIDG0C28\\u002f3UeOkaQEw3iUFg5RpA8tJNYhDYGkD+1HjpJrEaQJMYBFYOrRpAvp8aL92kGkCJQWDl0KIaQGq8dJMYhBpABoGVQ4tsGkBmZmZmZmYaQKwcWmQ7XxpAw\\u002fUoXI9CGkCNl24Sg0AaQGDl0CLb+RlAK4cW2c73GUB3vp8aL90ZQF66SQwCqxlAKVyPwvWoGUBU46WbxKAZQEoMAiuHlhlAUI2XbhKDGUCmm8QgsHIZQIts5\\u002fupcRlAnMQgsHJoGUBSuB6F61EZQN0kBoGVQxlAF9nO91PjGED8qfHSTeIYQIcW2c730xhAfT81XrrJGEASg8DKocUYQOOlm8QgsBhASgwCK4eWGEAlBoGVQ4sYQCGwcmiRbRhA9P3UeOkmGEAfhetRuB4YQFpkO99PDRhAarx0kxgEGEBcj8L1KNwXQEJg5dAi2xdAUrgehevRF0B9PzVeuskXQEjhehSuxxdA+FPjpZvEF0DJdr6fGq8XQClcj8L1qBdAH4XrUbieF0A1XrpJDIIXQHsUrkfhehdAexSuR+F6F0BGtvP91HgXQDvfT42XbhdA\\u002fKnx0k1iF0CiRbbz\\u002fVQXQIcW2c73UxdASOF6FK5HF0Atsp3vp0YXQLTIdr6fGhdACKwcWmS7FkArhxbZzncWQGIQWDm0SBZAnu+nxks3FkBQjZduEgMWQGDl0CLb+RVAEFg5tMj2FUC+nxov3aQVQL6fGi\\u002fdpBVAmpmZmZmZFUBYObTIdj4VQE5iEFg5NBVAPzVeukkMFUAnMQisHNoUQMP1KFyPwhRAexSuR+F6FECcxCCwcmgUQKwcWmQ7XxRAH4XrUbgeFECBlUOLbOcTQJ7vp8ZLtxNAvp8aL92kE0A\\u002fNV66SYwTQArXo3A9ihNAAAAAAACAE0AGgZVDi2wTQB+F61G4HhNA30+Nl24SE0BmZmZmZuYSQLgehetRuBJAsHJoke18EkBoke18PzUSQF66SQwCKxJACtejcD0KEkDy0k1iENgRQP7UeOkmsRFAdZMYBFaOEUDwp8ZLN4kRQNV46SYxiBFAIbByaJFtEUAX2c73U2MRQOF6FK5HYRFAd76fGi9dEUBcj8L1KFwRQGIQWDm0SBFAw\\u002fUoXI9CEUA9CtejcD0RQM\\u002f3U+OlGxFAVOOlm8SgEECyne+nxksPQMl2vp8aLw9AVOOlm8QgD0ACK4cW2c4OQPCnxks3iQ5AZmZmZmZmDkD+1HjpJjEOQHWTGARWDg5A1XjpJjEIDkCwcmiR7XwMQI2XbhKDwAtAGy\\u002fdJAaBC0BeukkMAisLQBSuR+F6FApAGy\\u002fdJAaBCUCWQ4ts5\\u002fsHQG3n+6nx0vU\\u002f\"},\"yaxis\":\"y\",\"type\":\"scatter\"},{\"hovertemplate\":\"\\u003cb\\u003eOLS trendline\\u003c\\u002fb\\u003e\\u003cbr\\u003eScore = 2.24464 * GDP per capita + 2.61817\\u003cbr\\u003eR\\u003csup\\u003e2\\u003c\\u002fsup\\u003e=0.582579\\u003cbr\\u003e\\u003cbr\\u003eGDP per capita=%{x}\\u003cbr\\u003eScore=%{y} \\u003cb\\u003e(trend)\\u003c\\u002fb\\u003e\\u003cextra\\u003e\\u003c\\u002fextra\\u003e\",\"legendgroup\":\"\",\"marker\":{\"symbol\":\"circle\"},\"mode\":\"lines\",\"name\":\"\",\"showlegend\":false,\"x\":{\"dtype\":\"f8\",\"bdata\":\"AAAAAAAAAAAfhetRuB7hP5zEILByaOE\\u002fF9nO91Pj4T85tMh2vp\\u002fiPzeJQWDl0OI\\u002fN4lBYOXQ4j+LbOf7qfHiPzEIrBxaZOM\\u002f\\u002ftR46SYx5D\\u002f4U+Olm8TkP+Olm8QgsOY\\u002fXrpJDAIr5z8v3SQGgZXnP9NNYhBYOeg\\u002f001iEFg56D\\u002f8qfHSTWLoP0w3iUFg5eg\\u002f9P3UeOkm6T8QWDm0yHbqP7gehetRuOo\\u002ftMh2vp8a6z+JQWDl0CLrP1yPwvUoXOs\\u002fVg4tsp3v6z+gGi\\u002fdJAbtP3Noke18P+0\\u002faJHtfD817j9oke18PzXuPzMzMzMzM+8\\u002fBoGVQ4ts7z\\u002fZzvdT46XvPwIrhxbZzu8\\u002fke18PzVe8D+R7Xw\\u002fNV7wP1CNl24Sg\\u002fA\\u002f+n5qvHST8D\\u002fP91PjpZvwP42XbhKDwPA\\u002fYhBYObTI8D8MAiuHFtnwP\\u002fLSTWIQWPE\\u002fQmDl0CLb8T\\u002fByqFFtvPxP9NNYhBYOfI\\u002f\\u002fKnx0k1i8j+6SQwCK4fyP\\u002fhT46WbxPI\\u002fokW28\\u002f3U8j93vp8aL93yP7bz\\u002fdR46fI\\u002ftvP91Hjp8j8hsHJoke3yP1pkO99PjfM\\u002fxSCwcmiR8z\\u002fByqFFtvPzP5ZDi2zn+\\u002fM\\u002ff2q8dJMY9D\\u002fpJjEIrBz0P5MYBFYOLfQ\\u002fvHSTGARW9D+mm8QgsHL0P+XQItv5fvQ\\u002fukkMAiuH9D\\u002fP91PjpZv0P2IQWDm0yPQ\\u002fCtejcD0K9T9eukkMAiv1P3Noke18P\\u002fU\\u002f3SQGgZVD9T9I4XoUrkf1Px1aZDvfT\\u002fU\\u002fx0s3iUFg9T9aZDvfT431P1YOLbKd7\\u002fU\\u002fFK5H4XoU9j+TGARWDi32P2iR7Xw\\u002fNfY\\u002fqMZLN4lB9j+oxks3iUH2P3sUrkfhevY\\u002fN4lBYOXQ9j8MAiuHFtn2P\\u002fYoXI\\u002fC9fY\\u002ftMh2vp8a9z8fhetRuB73Px1aZDvfT\\u002fc\\u002fhxbZzvdT9z9t5\\u002fup8dL3P6wcWmQ73\\u002fc\\u002flkOLbOf79z+q8dJNYhD4P+kmMQisHPg\\u002fZDvfT42X+D9iEFg5tMj4P3e+nxov3fg\\u002fiUFg5dAi+T9eukkMAiv5Px1aZDvfT\\u002fk\\u002fx0s3iUFg+T8bL90kBoH5P9nO91Pjpfk\\u002f7nw\\u002fNV66+T+BlUOLbOf5P6rx0k1iEPo\\u002fFK5H4XoU+j+TGARWDi36P2iR7Xw\\u002fNfo\\u002f5\\u002fup8dJN+j+8dJMYBFb6P2ZmZmZmZvo\\u002fDi2yne+n+j8MAiuHFtn6P4ts5\\u002fup8fo\\u002fCtejcD0K+z91kxgEVg77P99PjZduEvs\\u002f30+Nl24S+z8fhetRuB77P166SQwCK\\u002fs\\u002f8tJNYhBY+z+F61G4HoX7Py\\u002fdJAaBlfs\\u002fmpmZmZmZ+z+uR+F6FK77P+58PzVeuvs\\u002fF9nO91Pj+z+WQ4ts5\\u002fv7P5ZDi2zn+\\u002fs\\u002f1XjpJjEI\\u002fD8pXI\\u002fC9Sj8PxKDwMqhRfw\\u002fukkMAiuH\\u002fD+6SQwCK4f8P4\\u002fC9Shcj\\u002fw\\u002fpHA9Ctej\\u002fD8OLbKd76f8P2IQWDm0yPw\\u002fy6FFtvP9\\u002fD\\u002f0\\u002fdR46Sb9PzMzMzMzM\\u002f0\\u002fBoGVQ4ts\\u002fT\\u002fsUbgehev9PzvfT42Xbv4\\u002fAiuHFtnO\\u002fz+TGARWDi0AQNNNYhBYOQBA\"},\"xaxis\":\"x\",\"y\":{\"dtype\":\"f8\",\"bdata\":\"K2sekwHyBEDf7TquaI0OQPDntTPItg5AYDPYvLz7DkCmQIT1d2UPQAaSK\\u002fkMgQ9ABpIr+QyBD0DycvBQcJMPQCiGIQTM0w9A8gFYdFwjEEAC\\u002fNL5u0wQQOSSFwyl1hBAnLioUB\\u002f5EEAapki\\u002fABcRQGXYtBr5RBFAZdi0GvlEEUD45I8xd1ARQM2mGeE9dRFAuIfeOKGHEUBsiK9a3uURQFZpdLJB+BFAt7obttYTEkDUVhQhIxYSQKKb4A06JhJAspVbk5lPEkCYUWDIv50SQGaWLLXWrRJA1uFOPsvyEkDW4U4+y\\u002fISQGTJaTIMOhNAMg42HyNKE0AAUwIMOloTQJJf3SK4ZRNA5g4HQWCoE0DmDgdBYKgTQO6LxAMQvRNAZPymr0HGE0CeNJiF2soTQKaxVUiK3xNA4elGHiPkE0BWWinKVO0TQORBRL6VNBRAkMVXHSN+FEBAbiuf7YsUQDPMrbkAsxRAWOVj5\\u002fzJFEBgYiGqrN4UQBqIsu4mARVAj\\u002fiUmlgKFUDKMIZw8Q4VQCIFcLHWFRVAIgVwsdYVFUA\\u002foWgcIxgVQLhpSGjHcRVA1gVB0xN0FUCWqI\\u002faPasVQNDggLDWrxVAniVNne2\\u002fFUC7wUUIOsIVQDAyKLRryxVAVkve4WfiFUAkkKrOfvIVQHxklA9k+RVAtpyF5fz9FUBKqWD8egkWQIxeD5XDIhZAYiCZRIpHFkBMAV6c7VkWQOANObNrZRZA\\u002fakxHrhnFkAaRiqJBGoWQFV+G1+dbhZAyu79Cs93FkAOpKyjF5EWQM5G+6pByBZA1sO4bfHcFkCGbIzvu+oWQMGkfcVU7xZAGXlnBjr2FkAZeWcGOvYWQLQCAOBnFhdAHNFkpqxGF0BXCVZ8RUsXQCVOImlcWxdALcvfKwxwF0BKZ9iWWHIXQKu4f5rtjRdAyFR4BTqQF0BWPJP5etcXQK4QfTpg3hdAfFVJJ3fuF0AOYiQ+9fkXQGY2Dn\\u002faABhA14EwCM9FGEA409cLZGEYQMrfsiLibBhAvT01PfWTGED4dSYTjpgYQADz49U9rRhAdmPGgW+2GEBhRIvZ0sgYQGjBSJyC3RhA\\u002fM0jswDpGEA+g9JLSQIZQGSciHlFGRlAgTiB5JEbGUAy4VRmXCkZQGwZRjz1LRlAHMIZvr87GUBX+gqUWEAZQMxq7T+KSRlAoix371BuGUACfh7z5YkZQLIm8nSwlxlAYs\\u002fF9nqlGUCAa75hx6cZQJ4Ht8wTqhlAnge3zBOqGUD226AN+bAZQE6wik7etxlAkWU55ybRGUDUGuh\\u002fb+oZQEmLyiuh8xlAZifDlu31GUD5M56tawEaQFIIiO5QCBpAdyE+HE0fGkAnyhGeFy0aQCfKEZ4XLRpAf5773vwzGkBqf8A2YEYaQDfEjCN3VhpADIYW0z17GkAMhhbTPXsaQEi+B6nWfxpA2sriv1SLGkD4ZtsqoY0aQOJHoIIEoBpAYDVA8eW9GkCGTvYe4tQaQN4i4F\\u002fH2xpAeKx4OfX7GkAIlJMtNkMbQLIXp4zDjBtAkIkrfG9SHEB0RTCxlaAcQCbuAzNgrhxA\"},\"yaxis\":\"y\",\"type\":\"scatter\"}],                        {\"template\":{\"data\":{\"histogram2dcontour\":[{\"type\":\"histogram2dcontour\",\"colorbar\":{\"outlinewidth\":0,\"ticks\":\"\"},\"colorscale\":[[0.0,\"#0d0887\"],[0.1111111111111111,\"#46039f\"],[0.2222222222222222,\"#7201a8\"],[0.3333333333333333,\"#9c179e\"],[0.4444444444444444,\"#bd3786\"],[0.5555555555555556,\"#d8576b\"],[0.6666666666666666,\"#ed7953\"],[0.7777777777777778,\"#fb9f3a\"],[0.8888888888888888,\"#fdca26\"],[1.0,\"#f0f921\"]]}],\"choropleth\":[{\"type\":\"choropleth\",\"colorbar\":{\"outlinewidth\":0,\"ticks\":\"\"}}],\"histogram2d\":[{\"type\":\"histogram2d\",\"colorbar\":{\"outlinewidth\":0,\"ticks\":\"\"},\"colorscale\":[[0.0,\"#0d0887\"],[0.1111111111111111,\"#46039f\"],[0.2222222222222222,\"#7201a8\"],[0.3333333333333333,\"#9c179e\"],[0.4444444444444444,\"#bd3786\"],[0.5555555555555556,\"#d8576b\"],[0.6666666666666666,\"#ed7953\"],[0.7777777777777778,\"#fb9f3a\"],[0.8888888888888888,\"#fdca26\"],[1.0,\"#f0f921\"]]}],\"heatmap\":[{\"type\":\"heatmap\",\"colorbar\":{\"outlinewidth\":0,\"ticks\":\"\"},\"colorscale\":[[0.0,\"#0d0887\"],[0.1111111111111111,\"#46039f\"],[0.2222222222222222,\"#7201a8\"],[0.3333333333333333,\"#9c179e\"],[0.4444444444444444,\"#bd3786\"],[0.5555555555555556,\"#d8576b\"],[0.6666666666666666,\"#ed7953\"],[0.7777777777777778,\"#fb9f3a\"],[0.8888888888888888,\"#fdca26\"],[1.0,\"#f0f921\"]]}],\"contourcarpet\":[{\"type\":\"contourcarpet\",\"colorbar\":{\"outlinewidth\":0,\"ticks\":\"\"}}],\"contour\":[{\"type\":\"contour\",\"colorbar\":{\"outlinewidth\":0,\"ticks\":\"\"},\"colorscale\":[[0.0,\"#0d0887\"],[0.1111111111111111,\"#46039f\"],[0.2222222222222222,\"#7201a8\"],[0.3333333333333333,\"#9c179e\"],[0.4444444444444444,\"#bd3786\"],[0.5555555555555556,\"#d8576b\"],[0.6666666666666666,\"#ed7953\"],[0.7777777777777778,\"#fb9f3a\"],[0.8888888888888888,\"#fdca26\"],[1.0,\"#f0f921\"]]}],\"surface\":[{\"type\":\"surface\",\"colorbar\":{\"outlinewidth\":0,\"ticks\":\"\"},\"colorscale\":[[0.0,\"#0d0887\"],[0.1111111111111111,\"#46039f\"],[0.2222222222222222,\"#7201a8\"],[0.3333333333333333,\"#9c179e\"],[0.4444444444444444,\"#bd3786\"],[0.5555555555555556,\"#d8576b\"],[0.6666666666666666,\"#ed7953\"],[0.7777777777777778,\"#fb9f3a\"],[0.8888888888888888,\"#fdca26\"],[1.0,\"#f0f921\"]]}],\"mesh3d\":[{\"type\":\"mesh3d\",\"colorbar\":{\"outlinewidth\":0,\"ticks\":\"\"}}],\"scatter\":[{\"fillpattern\":{\"fillmode\":\"overlay\",\"size\":10,\"solidity\":0.2},\"type\":\"scatter\"}],\"parcoords\":[{\"type\":\"parcoords\",\"line\":{\"colorbar\":{\"outlinewidth\":0,\"ticks\":\"\"}}}],\"scatterpolargl\":[{\"type\":\"scatterpolargl\",\"marker\":{\"colorbar\":{\"outlinewidth\":0,\"ticks\":\"\"}}}],\"bar\":[{\"error_x\":{\"color\":\"#2a3f5f\"},\"error_y\":{\"color\":\"#2a3f5f\"},\"marker\":{\"line\":{\"color\":\"#E5ECF6\",\"width\":0.5},\"pattern\":{\"fillmode\":\"overlay\",\"size\":10,\"solidity\":0.2}},\"type\":\"bar\"}],\"scattergeo\":[{\"type\":\"scattergeo\",\"marker\":{\"colorbar\":{\"outlinewidth\":0,\"ticks\":\"\"}}}],\"scatterpolar\":[{\"type\":\"scatterpolar\",\"marker\":{\"colorbar\":{\"outlinewidth\":0,\"ticks\":\"\"}}}],\"histogram\":[{\"marker\":{\"pattern\":{\"fillmode\":\"overlay\",\"size\":10,\"solidity\":0.2}},\"type\":\"histogram\"}],\"scattergl\":[{\"type\":\"scattergl\",\"marker\":{\"colorbar\":{\"outlinewidth\":0,\"ticks\":\"\"}}}],\"scatter3d\":[{\"type\":\"scatter3d\",\"line\":{\"colorbar\":{\"outlinewidth\":0,\"ticks\":\"\"}},\"marker\":{\"colorbar\":{\"outlinewidth\":0,\"ticks\":\"\"}}}],\"scattermap\":[{\"type\":\"scattermap\",\"marker\":{\"colorbar\":{\"outlinewidth\":0,\"ticks\":\"\"}}}],\"scattermapbox\":[{\"type\":\"scattermapbox\",\"marker\":{\"colorbar\":{\"outlinewidth\":0,\"ticks\":\"\"}}}],\"scatterternary\":[{\"type\":\"scatterternary\",\"marker\":{\"colorbar\":{\"outlinewidth\":0,\"ticks\":\"\"}}}],\"scattercarpet\":[{\"type\":\"scattercarpet\",\"marker\":{\"colorbar\":{\"outlinewidth\":0,\"ticks\":\"\"}}}],\"carpet\":[{\"aaxis\":{\"endlinecolor\":\"#2a3f5f\",\"gridcolor\":\"white\",\"linecolor\":\"white\",\"minorgridcolor\":\"white\",\"startlinecolor\":\"#2a3f5f\"},\"baxis\":{\"endlinecolor\":\"#2a3f5f\",\"gridcolor\":\"white\",\"linecolor\":\"white\",\"minorgridcolor\":\"white\",\"startlinecolor\":\"#2a3f5f\"},\"type\":\"carpet\"}],\"table\":[{\"cells\":{\"fill\":{\"color\":\"#EBF0F8\"},\"line\":{\"color\":\"white\"}},\"header\":{\"fill\":{\"color\":\"#C8D4E3\"},\"line\":{\"color\":\"white\"}},\"type\":\"table\"}],\"barpolar\":[{\"marker\":{\"line\":{\"color\":\"#E5ECF6\",\"width\":0.5},\"pattern\":{\"fillmode\":\"overlay\",\"size\":10,\"solidity\":0.2}},\"type\":\"barpolar\"}],\"pie\":[{\"automargin\":true,\"type\":\"pie\"}]},\"layout\":{\"autotypenumbers\":\"strict\",\"colorway\":[\"#636efa\",\"#EF553B\",\"#00cc96\",\"#ab63fa\",\"#FFA15A\",\"#19d3f3\",\"#FF6692\",\"#B6E880\",\"#FF97FF\",\"#FECB52\"],\"font\":{\"color\":\"#2a3f5f\"},\"hovermode\":\"closest\",\"hoverlabel\":{\"align\":\"left\"},\"paper_bgcolor\":\"white\",\"plot_bgcolor\":\"#E5ECF6\",\"polar\":{\"bgcolor\":\"#E5ECF6\",\"angularaxis\":{\"gridcolor\":\"white\",\"linecolor\":\"white\",\"ticks\":\"\"},\"radialaxis\":{\"gridcolor\":\"white\",\"linecolor\":\"white\",\"ticks\":\"\"}},\"ternary\":{\"bgcolor\":\"#E5ECF6\",\"aaxis\":{\"gridcolor\":\"white\",\"linecolor\":\"white\",\"ticks\":\"\"},\"baxis\":{\"gridcolor\":\"white\",\"linecolor\":\"white\",\"ticks\":\"\"},\"caxis\":{\"gridcolor\":\"white\",\"linecolor\":\"white\",\"ticks\":\"\"}},\"coloraxis\":{\"colorbar\":{\"outlinewidth\":0,\"ticks\":\"\"}},\"colorscale\":{\"sequential\":[[0.0,\"#0d0887\"],[0.1111111111111111,\"#46039f\"],[0.2222222222222222,\"#7201a8\"],[0.3333333333333333,\"#9c179e\"],[0.4444444444444444,\"#bd3786\"],[0.5555555555555556,\"#d8576b\"],[0.6666666666666666,\"#ed7953\"],[0.7777777777777778,\"#fb9f3a\"],[0.8888888888888888,\"#fdca26\"],[1.0,\"#f0f921\"]],\"sequentialminus\":[[0.0,\"#0d0887\"],[0.1111111111111111,\"#46039f\"],[0.2222222222222222,\"#7201a8\"],[0.3333333333333333,\"#9c179e\"],[0.4444444444444444,\"#bd3786\"],[0.5555555555555556,\"#d8576b\"],[0.6666666666666666,\"#ed7953\"],[0.7777777777777778,\"#fb9f3a\"],[0.8888888888888888,\"#fdca26\"],[1.0,\"#f0f921\"]],\"diverging\":[[0,\"#8e0152\"],[0.1,\"#c51b7d\"],[0.2,\"#de77ae\"],[0.3,\"#f1b6da\"],[0.4,\"#fde0ef\"],[0.5,\"#f7f7f7\"],[0.6,\"#e6f5d0\"],[0.7,\"#b8e186\"],[0.8,\"#7fbc41\"],[0.9,\"#4d9221\"],[1,\"#276419\"]]},\"xaxis\":{\"gridcolor\":\"white\",\"linecolor\":\"white\",\"ticks\":\"\",\"title\":{\"standoff\":15},\"zerolinecolor\":\"white\",\"automargin\":true,\"zerolinewidth\":2},\"yaxis\":{\"gridcolor\":\"white\",\"linecolor\":\"white\",\"ticks\":\"\",\"title\":{\"standoff\":15},\"zerolinecolor\":\"white\",\"automargin\":true,\"zerolinewidth\":2},\"scene\":{\"xaxis\":{\"backgroundcolor\":\"#E5ECF6\",\"gridcolor\":\"white\",\"linecolor\":\"white\",\"showbackground\":true,\"ticks\":\"\",\"zerolinecolor\":\"white\",\"gridwidth\":2},\"yaxis\":{\"backgroundcolor\":\"#E5ECF6\",\"gridcolor\":\"white\",\"linecolor\":\"white\",\"showbackground\":true,\"ticks\":\"\",\"zerolinecolor\":\"white\",\"gridwidth\":2},\"zaxis\":{\"backgroundcolor\":\"#E5ECF6\",\"gridcolor\":\"white\",\"linecolor\":\"white\",\"showbackground\":true,\"ticks\":\"\",\"zerolinecolor\":\"white\",\"gridwidth\":2}},\"shapedefaults\":{\"line\":{\"color\":\"#2a3f5f\"}},\"annotationdefaults\":{\"arrowcolor\":\"#2a3f5f\",\"arrowhead\":0,\"arrowwidth\":1},\"geo\":{\"bgcolor\":\"white\",\"landcolor\":\"#E5ECF6\",\"subunitcolor\":\"white\",\"showland\":true,\"showlakes\":true,\"lakecolor\":\"white\"},\"title\":{\"x\":0.05},\"mapbox\":{\"style\":\"light\"}}},\"xaxis\":{\"anchor\":\"y\",\"domain\":[0.0,1.0],\"title\":{\"text\":\"GDP per capita\"}},\"yaxis\":{\"anchor\":\"x\",\"domain\":[0.0,1.0],\"title\":{\"text\":\"Score\"}},\"coloraxis\":{\"colorbar\":{\"title\":{\"text\":\"GDP per capita\"}},\"colorscale\":[[0.0,\"#0d0887\"],[0.1111111111111111,\"#46039f\"],[0.2222222222222222,\"#7201a8\"],[0.3333333333333333,\"#9c179e\"],[0.4444444444444444,\"#bd3786\"],[0.5555555555555556,\"#d8576b\"],[0.6666666666666666,\"#ed7953\"],[0.7777777777777778,\"#fb9f3a\"],[0.8888888888888888,\"#fdca26\"],[1.0,\"#f0f921\"]]},\"legend\":{\"tracegroupgap\":0},\"title\":{\"text\":\"2024\",\"x\":0.5}},                        {\"responsive\": true}                    ).then(function(){\n",
       "                            \n",
       "var gd = document.getElementById('9b603b88-1e99-47d1-8493-668d96d3cfc1');\n",
       "var x = new MutationObserver(function (mutations, observer) {{\n",
       "        var display = window.getComputedStyle(gd).display;\n",
       "        if (!display || display === 'none') {{\n",
       "            console.log([gd, 'removed!']);\n",
       "            Plotly.purge(gd);\n",
       "            observer.disconnect();\n",
       "        }}\n",
       "}});\n",
       "\n",
       "// Listen for the removal of the full notebook cells\n",
       "var notebookContainer = gd.closest('#notebook-container');\n",
       "if (notebookContainer) {{\n",
       "    x.observe(notebookContainer, {childList: true});\n",
       "}}\n",
       "\n",
       "// Listen for the clearing of the current output cell\n",
       "var outputEl = gd.closest('.output');\n",
       "if (outputEl) {{\n",
       "    x.observe(outputEl, {childList: true});\n",
       "}}\n",
       "\n",
       "                        })                };            </script>        </div>\n",
       "</body>\n",
       "</html>"
      ]
     },
     "metadata": {},
     "output_type": "display_data"
    }
   ],
   "source": [
    "fig=px.scatter(df_2024, x=\"GDP per capita\", y=\"Score\", title=\"2024\", color=\"GDP per capita\", trendline=\"ols\")\n",
    "fig.update_layout(title_x=0.5)\n",
    "fig.show()"
   ]
  },
  {
   "cell_type": "code",
   "execution_count": 197,
   "metadata": {},
   "outputs": [
    {
     "data": {
      "text/plain": [
       "Text(0, 0.5, 'Generosity')"
      ]
     },
     "execution_count": 197,
     "metadata": {},
     "output_type": "execute_result"
    },
    {
     "data": {
      "image/png": "[encoded data removed]",
      "text/plain": [
       "<Figure size 640x480 with 1 Axes>"
      ]
     },
     "metadata": {},
     "output_type": "display_data"
    }
   ],
   "source": [
    "sns.regplot(\n",
    "    x=df_2024['GDP per capita'],\n",
    "    y=df_2024['Generosity'],\n",
    "    color='dodgerblue',\n",
    "    scatter_kws={'s': 80, 'alpha': 0.6},\n",
    "    line_kws={'color': 'red', 'linestyle': '--', 'linewidth': 2},\n",
    "    ci=99\n",
    ")\n",
    "\n",
    "# Add titles and labels for clarity\n",
    "plt.title('2024')\n",
    "plt.xlabel('GDP per capita')\n",
    "plt.ylabel('Generosity')"
   ]
  },
  {
   "cell_type": "code",
   "execution_count": null,
   "metadata": {},
   "outputs": [
    {
     "data": {
      "text/plain": [
       "Text(0, 0.5, 'Generosity')"
      ]
     },
     "execution_count": 198,
     "metadata": {},
     "output_type": "execute_result"
    }
   ],
   "source": [
    "sns.regplot(\n",
    "    x=df_2018['GDP per capita'],\n",
    "    y=df_2018['Generosity'],\n",
    "    color='dodgerblue',\n",
    "    scatter_kws={'s': 80, 'alpha': 0.6},\n",
    "    line_kws={'color': 'red', 'linestyle': '--', 'linewidth': 2},\n",
    "    ci=99\n",
    ")\n",
    "\n",
    "# Add titles and labels for clarity\n",
    "plt.title('2018')\n",
    "plt.xlabel('GDP per capita')\n",
    "plt.ylabel('Generosity')"
   ]
  },
  {
   "cell_type": "code",
   "execution_count": null,
   "metadata": {},
   "outputs": [],
   "source": [
    "df_top_5_2018 = happiest_countries_2018.head(5).copy()\n",
    "df_bottom_5_2018 =saddest_countries_2018.head(5).copy()\n",
    "df_middle_5_2018 =middle_countries_2018.head(5).copy()"
   ]
  },
  {
   "cell_type": "code",
   "execution_count": null,
   "metadata": {},
   "outputs": [],
   "source": [
    "df_top_10_2018 = happiest_countries_2018.head(10).copy()\n",
    "df_bottom_10_2018 =saddest_countries_2018.head(10).copy()\n",
    "df_middle_10_2018 =middle_countries_2018.head(10).copy()\n"
   ]
  },
  {
   "cell_type": "code",
   "execution_count": null,
   "metadata": {},
   "outputs": [],
   "source": [
    "df_top_10_2024 = happiest_countries_2024.head(10).copy()\n",
    "df_bottom_10_2024 =saddest_countries_2024.head(10).copy()\n",
    "df_middle_10_2024 =middle_countries_2024.head(10).copy()"
   ]
  },
  {
   "cell_type": "code",
   "execution_count": null,
   "metadata": {},
   "outputs": [],
   "source": [
    "df_top_5_2024 = happiest_countries_2024.head(5).copy()\n",
    "df_bottom_5_2024 =saddest_countries_2024.head(5).copy()\n",
    "df_middle_5_2024 =middle_countries_2024.head(5).copy()"
   ]
  },
  {
   "cell_type": "code",
   "execution_count": null,
   "metadata": {},
   "outputs": [],
   "source": [
    "df_top_10_2018['Group'] = 'High score of happiness'\n",
    "df_bottom_10_2018['Group'] = 'Low score of happiness'\n",
    "df_middle_10_2018['Group'] = 'Middle score of happiness'"
   ]
  },
  {
   "cell_type": "code",
   "execution_count": null,
   "metadata": {},
   "outputs": [],
   "source": [
    "df_top_10_2024['Group'] = 'High score of happiness'\n",
    "df_bottom_10_2024['Group'] = 'Low score of happiness'\n",
    "df_middle_10_2024['Group'] = 'Middle score of happiness'"
   ]
  },
  {
   "cell_type": "code",
   "execution_count": null,
   "metadata": {},
   "outputs": [],
   "source": [
    "df_combined_2024_5 = pd.concat([df_top_5_2024, df_middle_5_2024, df_bottom_5_2024]).sort_values(by='Score', ascending=True)\n",
    "df_combined_2024_10 = pd.concat([df_top_10_2024, df_middle_10_2024, df_bottom_10_2024]).sort_values(by='Score', ascending=True)"
   ]
  },
  {
   "cell_type": "code",
   "execution_count": null,
   "metadata": {},
   "outputs": [],
   "source": [
    "df_combined_2018_5 = pd.concat([df_top_5_2018, df_middle_5_2018, df_bottom_5_2018]).sort_values(by='Score', ascending=True)\n",
    "df_combined_2018_10 = pd.concat([df_top_10_2018, df_middle_10_2018, df_bottom_10_2018]).sort_values(by='Score', ascending=True)\n"
   ]
  },
  {
   "cell_type": "code",
   "execution_count": null,
   "metadata": {},
   "outputs": [],
   "source": [
    "custom_color_map = { 'High score of happiness': 'green',\n",
    "                        'Low score of happiness': 'red',\n",
    "                        'Middle score of happiness': 'lightpink'}"
   ]
  },
  {
   "cell_type": "code",
   "execution_count": null,
   "metadata": {},
   "outputs": [],
   "source": [
    "df_combined_2018_5.head()"
   ]
  },
  {
   "cell_type": "code",
   "execution_count": null,
   "metadata": {},
   "outputs": [],
   "source": [
    "fig = px.bar(\n",
    "    df_combined_2018_5.sort_values(by='Social support'),\n",
    "    y='Country or region',  # Primary categorical variable\n",
    "    x='Social support',   # Numerical variable\n",
    "    color='Group', # Secondary categorical variable for grouping\n",
    "    barmode='group', # Group the bars\n",
    "    title='2018',\n",
    "    color_discrete_map=custom_color_map\n",
    ")\n",
    "custom_color_map = {'High score of happiness': 'green',\n",
    "                        'Low score of happiness': 'red',\n",
    "                        'Middle score of happiness': 'lightpink'\n",
    "}\n",
    "fig.update_xaxes(\n",
    "    tickfont_weight='bold',  # Make the numbers bold\n",
    "    tickfont_size=12         # Adjust the font size\n",
    ")\n",
    "fig.update_yaxes(\n",
    "    tickfont_weight='bold',  # Make the numbers bold\n",
    "    tickfont_size=12)      # Adjust the font size\n",
    "fig.update_layout(title_x=0.5, title_font=dict(weight='bold',  size=24), showlegend=False)\n",
    "fig.show()"
   ]
  },
  {
   "cell_type": "code",
   "execution_count": null,
   "metadata": {},
   "outputs": [],
   "source": [
    "fig = px.bar(\n",
    "    df_combined_2024_5.sort_values(by='Social support'),\n",
    "    y='Country or region',  # Primary categorical variable\n",
    "    x='Social support',   # Numerical variable\n",
    "    color='Group', # Secondary categorical variable for grouping\n",
    "    barmode='group', # Group the bars\n",
    "    title='2024',\n",
    "    color_discrete_map=custom_color_map\n",
    ")\n",
    "custom_color_map = {'High score of happiness': 'green',\n",
    "                        'Low score of happiness': 'red',\n",
    "                        'Middle score of happiness': 'lightpink'\n",
    "}\n",
    "fig.update_xaxes(\n",
    "    tickfont_weight='bold',  # Make the numbers bold\n",
    "    tickfont_size=12         # Adjust the font size\n",
    ")\n",
    "fig.update_yaxes(\n",
    "    tickfont_weight='bold',  # Make the numbers bold\n",
    "    tickfont_size=12)      # Adjust the font size\n",
    "fig.update_layout(title_x=0.5, title_font=dict(weight='bold',  size=24), showlegend=False)\n",
    "fig.show()"
   ]
  },
  {
   "cell_type": "code",
   "execution_count": null,
   "metadata": {},
   "outputs": [],
   "source": [
    "fig=px.scatter(df_combined_2018_10, x='Country or region', y='Generosity', color='Group', title='2018', color_discrete_map=custom_color_map)\n",
    "fig.update_layout(showlegend=False,title_x=0.5, title_font=dict(\n",
    "        size=24, weight='bold'\n",
    "    ))\n",
    "fig.update_traces(marker=dict(size=10))\n",
    "custom_color_map = {'High score of happiness': 'green',\n",
    "                        'Low score of happiness': 'red',\n",
    "                        'Middle score of happiness': 'lightpink'}\n",
    "fig.update_yaxes(\n",
    "    tickfont_weight='bold',  # Make the numbers bold\n",
    "    tickfont_size=12         # Adjust the font size\n",
    ")\n",
    "fig.update_xaxes(\n",
    "    tickangle=45 # <--- Rotate the x-axis labels\n",
    ")\n",
    "fig.update_yaxes(\n",
    "    tickfont_weight='bold',  # Make the numbers bold\n",
    "    tickfont_size=12)      # Adjust the font size\n",
    "\n",
    "fig.update_layout(title_x=0.5)\n",
    "fig.show()"
   ]
  },
  {
   "cell_type": "code",
   "execution_count": null,
   "metadata": {},
   "outputs": [],
   "source": [
    "fig=px.scatter(df_combined_2024_10, x='Country or region', y='Generosity', color='Group', title='2024', color_discrete_map=custom_color_map)\n",
    "fig.update_layout(showlegend=False,title_x=0.5, title_font=dict(\n",
    "        size=24, weight='bold'\n",
    "    ))\n",
    "fig.update_traces(marker=dict(size=10))\n",
    "custom_color_map = {'High score of happiness': 'green',\n",
    "                        'Low score of happiness': 'red',\n",
    "                        'Middle score of happiness': 'lightpink'}\n",
    "fig.update_yaxes(\n",
    "    tickfont_weight='bold',  # Make the numbers bold\n",
    "    tickfont_size=12         # Adjust the font size\n",
    ")\n",
    "fig.update_xaxes(\n",
    "    tickangle=45 # <--- Rotate the x-axis labels\n",
    ")\n",
    "fig.update_yaxes(\n",
    "    tickfont_weight='bold',  # Make the numbers bold\n",
    "    tickfont_size=12)      # Adjust the font size\n",
    "\n",
    "fig.update_layout(title_x=0.5)\n",
    "fig.show()"
   ]
  },
  {
   "cell_type": "code",
   "execution_count": null,
   "metadata": {},
   "outputs": [],
   "source": [
    "fig=px.scatter(df_2018, x=\"Score\", y=\"Social support\", title=\"2018\", color=\"GDP per capita\", trendline=\"ols\")\n",
    "fig.update_layout(title_x=0.5, title_font=dict(\n",
    "        size=24, \n",
    "        weight='bold'\n",
    "    ))\n",
    "fig.update_layout(showlegend=True)\n",
    "fig.update_xaxes(\n",
    "    tickfont_weight='bold',  # Make the numbers bold\n",
    "    tickfont_size=12)        # Adjust the font size\n",
    "fig.update_yaxes(\n",
    "    tickfont_weight='bold',  # Make the numbers bold\n",
    "    tickfont_size=12)\n",
    "fig.show()"
   ]
  },
  {
   "cell_type": "code",
   "execution_count": null,
   "metadata": {},
   "outputs": [],
   "source": [
    "fig=px.scatter(df_2024, x=\"Score\", y=\"Social support\", title=\"2024\", color=\"GDP per capita\", trendline=\"ols\")\n",
    "fig.update_layout(title_x=0.5, title_font=dict(\n",
    "        size=24, weight='bold'\n",
    "    ))\n",
    "fig.update_layout(showlegend=True)\n",
    "fig.update_xaxes(\n",
    "    tickfont_weight='bold',  # Make the numbers bold\n",
    "    tickfont_size=12)        # Adjust the font size\n",
    "fig.update_yaxes(\n",
    "    tickfont_weight='bold',  # Make the numbers bold\n",
    "    tickfont_size=12)  # Adjust the font size\n",
    "fig.show()"
   ]
  },
  {
   "cell_type": "code",
   "execution_count": null,
   "metadata": {},
   "outputs": [],
   "source": [
    "sns.barplot(\n",
    "    data=df_combined_2024_5.sort_values(by='Social support'),\n",
    "    y='Country or region',\n",
    "    x='Social support',\n",
    "    hue='Group',\n",
    "    palette=custom_color_map,    legend=False, width=0.4\n",
    ")\n",
    "plt.xticks(fontweight='bold')\n",
    "plt.yticks(fontweight='bold')\n",
    "plt.title('2024', fontweight='bold', y=1.05)\n",
    "plt.show()"
   ]
  },
  {
   "cell_type": "code",
   "execution_count": null,
   "metadata": {},
   "outputs": [],
   "source": [
    "sns.barplot(\n",
    "    data=df_combined_2018_5.sort_values(by='Social support'),\n",
    "    y='Country or region',\n",
    "    x='Social support',\n",
    "    hue='Group',\n",
    "    legend=False, width=0.4, palette=custom_color_map\n",
    ")\n",
    "plt.xticks(fontweight='bold')\n",
    "plt.yticks(fontweight='bold')\n",
    "plt.title('2018', fontweight='bold', y=1.05)\n",
    "plt.show()"
   ]
  },
  {
   "cell_type": "code",
   "execution_count": null,
   "metadata": {},
   "outputs": [],
   "source": [
    "df_bottom_5_2018"
   ]
  },
  {
   "cell_type": "code",
   "execution_count": null,
   "metadata": {},
   "outputs": [],
   "source": [
    "fig = px.violin(\n",
    "    df_2018,\n",
    "    x='Group',\n",
    "    y='Freedom to make life choices',\n",
    "    color='Group', \n",
    "    box=True, # Show a box plot inside the violin\n",
    "    points='all')\n",
    "fig.update_xaxes(\n",
    "    tickfont_weight='bold',  # Make the numbers bold\n",
    "    tickfont_size=12)        # Adjust the font size\n",
    "fig.update_yaxes(\n",
    "    tickfont_weight='bold',  # Make the numbers bold\n",
    "    tickfont_size=12)\n",
    "fig.update_layout(title_font=dict(size=24, weight='bold'), showlegend=False,\n",
    "    title_text='2018',\n",
    "    title_x=0.5, # Center the title\n",
    "    xaxis_title='Happiness Group',\n",
    "    yaxis_title='Freedom Score' # Set the plot background to white\n",
    ")"
   ]
  },
  {
   "cell_type": "code",
   "execution_count": null,
   "metadata": {},
   "outputs": [],
   "source": [
    "fig = px.violin(\n",
    "    df_2024,\n",
    "    x='Group',\n",
    "    y='Freedom to make life choices',\n",
    "    color='Group',\n",
    "    box=True, # Show a box plot inside the violin\n",
    "    points='all')\n",
    "fig.update_xaxes(\n",
    "    tickfont_weight='bold',  # Make the numbers bold\n",
    "    tickfont_size=12)        # Adjust the font size\n",
    "fig.update_yaxes(\n",
    "    tickfont_weight='bold',  # Make the numbers bold\n",
    "    tickfont_size=12)\n",
    "fig.update_layout(title_font=dict(size=24, weight='bold'), showlegend=False,\n",
    "    title_text='2024',\n",
    "    title_x=0.5, # Center the title\n",
    "    xaxis_title='Happiness Group',\n",
    "    yaxis_title='Freedom Score' # Set the plot background to white\n",
    ")"
   ]
  },
  {
   "cell_type": "code",
   "execution_count": null,
   "metadata": {},
   "outputs": [],
   "source": [
    "fig = px.box(\n",
    "    df_2024,\n",
    "    x='Group',\n",
    "    y='Perceptions of corruption',\n",
    "    color='Group', # Show a box plot inside the violin\n",
    "    points='all')\n",
    "fig.update_xaxes(\n",
    "    tickfont_weight='bold',  # Make the numbers bold\n",
    "    tickfont_size=12)        # Adjust the font size\n",
    "fig.update_yaxes(\n",
    "    tickfont_weight='bold',  # Make the numbers bold\n",
    "    tickfont_size=12)\n",
    "fig.update_layout(title_font=dict(size=24, weight='bold'), showlegend=False,\n",
    "    title_text='2024',\n",
    "    title_x=0.5, # Center the title\n",
    "    xaxis_title='Happiness Group',\n",
    "    yaxis_title='Perception of corruption' # Set the plot background to white\n",
    ")"
   ]
  },
  {
   "cell_type": "code",
   "execution_count": null,
   "metadata": {},
   "outputs": [],
   "source": [
    "fig = px.box(\n",
    "    df_2018,\n",
    "    x='Group',\n",
    "    y='Perceptions of corruption',\n",
    "    color='Group', # Show a box plot inside the violin\n",
    "    points='all')\n",
    "fig.update_xaxes(\n",
    "    tickfont_weight='bold',  # Make the numbers bold\n",
    "    tickfont_size=12)        # Adjust the font size\n",
    "fig.update_yaxes(\n",
    "    tickfont_weight='bold',  # Make the numbers bold\n",
    "    tickfont_size=12)\n",
    "fig.update_layout(title_font=dict(size=24, weight='bold'), showlegend=False,\n",
    "    title_text='2018',\n",
    "    title_x=0.5, # Center the title\n",
    "    xaxis_title='Happiness Group',\n",
    "    yaxis_title='Perception of corruption' # Set the plot background to white\n",
    ")"
   ]
  },
  {
   "cell_type": "code",
   "execution_count": null,
   "metadata": {},
   "outputs": [],
   "source": [
    "fig = px.scatter(\n",
    "    df_2018,\n",
    "    x='Score',\n",
    "    y='Perceptions of corruption',\n",
    "    color='Group',\n",
    "    size='Perceptions of corruption', # <--- Determines the size of the bubbles\n",
    "    hover_name='Group',\n",
    "    title='2018'\n",
    ")\n",
    "fig.update_xaxes(\n",
    "    tickfont_weight='bold',  # Make the numbers bold\n",
    "    tickfont_size=12)        # Adjust the font size\n",
    "fig.update_yaxes(\n",
    "    tickfont_weight='bold',  # Make the numbers bold\n",
    "    tickfont_size=12)\n",
    "fig.update_layout(title_font=dict(size=24, weight='bold'), showlegend=False,\n",
    "    title_text='2018',\n",
    "    title_x=0.5)\n",
    "fig.show()"
   ]
  },
  {
   "cell_type": "code",
   "execution_count": null,
   "metadata": {},
   "outputs": [],
   "source": [
    "df_2024.isnull().sum()"
   ]
  },
  {
   "cell_type": "code",
   "execution_count": null,
   "metadata": {},
   "outputs": [],
   "source": [
    "df_2024.fillna({'Perceptions of corruption':df_2024['Perceptions of corruption'].mean()}, inplace=True)\n",
    "df_2024.isnull().sum()"
   ]
  },
  {
   "cell_type": "code",
   "execution_count": null,
   "metadata": {},
   "outputs": [],
   "source": [
    "df_2024.fillna({'Freedom to make life choices':df_2024['Freedom to make life choices'].mean()}, inplace=True)\n",
    "df_2024.isnull().sum()"
   ]
  },
  {
   "cell_type": "code",
   "execution_count": null,
   "metadata": {},
   "outputs": [],
   "source": [
    "fig = px.scatter(\n",
    "    df_2024,\n",
    "    x='Score',\n",
    "    y='Perceptions of corruption',\n",
    "    color='Group',\n",
    "    size='Perceptions of corruption', # <--- Determines the size of the bubbles\n",
    "    hover_name='Group',\n",
    "    title='2024'\n",
    ")\n",
    "fig.update_xaxes(\n",
    "    tickfont_weight='bold',  # Make the numbers bold\n",
    "    tickfont_size=12)        # Adjust the font size\n",
    "fig.update_yaxes(\n",
    "    tickfont_weight='bold',  # Make the numbers bold\n",
    "    tickfont_size=12)\n",
    "fig.update_layout(title_font=dict(size=24, weight='bold'), showlegend=False,\n",
    "    title_text='2024',\n",
    "    title_x=0.5)\n",
    "\n",
    "fig.show()"
   ]
  },
  {
   "cell_type": "code",
   "execution_count": null,
   "metadata": {},
   "outputs": [],
   "source": [
    "df_2018.groupby('Country or region').agg(count=('Country or region', 'count'), freedom_mean =('Freedom to make life choices','min'))"
   ]
  },
  {
   "cell_type": "code",
   "execution_count": null,
   "metadata": {},
   "outputs": [],
   "source": [
    "df_2018.groupby('Group').agg(freedom=('Freedom to make life choices', 'min'))"
   ]
  },
  {
   "cell_type": "code",
   "execution_count": null,
   "metadata": {},
   "outputs": [],
   "source": [
    "df_2024.groupby('Group').agg(freedom=('Freedom to make life choices', 'min'))"
   ]
  }
 ],
 "metadata": {
  "colab": {
   "provenance": []
  },
  "hide_input": false,
  "kernelspec": {
   "display_name": "Python 3 (ipykernel)",
   "language": "python",
   "name": "python3"
  },
  "language_info": {
   "codemirror_mode": {
    "name": "ipython",
    "version": 3
   },
   "file_extension": ".py",
   "mimetype": "text/x-python",
   "name": "python",
   "nbconvert_exporter": "python",
   "pygments_lexer": "ipython3",
   "version": "3.12.4"
  },
  "toc": {
   "base_numbering": 1,
   "nav_menu": {},
   "number_sections": true,
   "sideBar": true,
   "skip_h1_title": false,
   "title_cell": "Table of Contents",
   "title_sidebar": "Contents",
   "toc_cell": false,
   "toc_position": {},
   "toc_section_display": true,
   "toc_window_display": false
  }
 },
 "nbformat": 4,
 "nbformat_minor": 4
}
