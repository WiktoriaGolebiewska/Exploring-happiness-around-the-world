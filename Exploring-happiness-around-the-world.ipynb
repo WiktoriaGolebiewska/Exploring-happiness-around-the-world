{
 "cells": [
  {
   "cell_type": "markdown",
   "metadata": {
    "id": "A4qcqYUy5YkM"
   },
   "source": [
    "# What makes people happy? Can you find Dytopia?\n",
    "\n",
    "The `World Happiness Report` is a landmark survey of the state of global happiness that ranks 156 countries by how happy their citizens perceive themselves to be. Over the last year’s, `World Happiness Report` focuses on happiness and the community: how happiness has evolved over the past dozen years, with a focus on the technologies, social norms, conflicts and government policies that have driven those changes.\n",
    "\n",
    "<img src=\"https://allthatsinteresting.com/wordpress/wp-content/uploads/2016/03/giphy-4.gif\" width=\"700px\">\n",
    "\n",
    "**Dataset information**\n",
    "\n",
    "    The information in the datasets is based on answers to the most life evaluation address inquired within the survey. This address, known as the Cantril step, asks respondents to think of a step with the most excellent conceivable life for them being a 10 and the most exceedingly bad conceivable life being a and to rate their claim current lives on that scale.\n",
    "\n",
    "\n",
    "The Happiness Score is explained by the following factors:\n",
    "\n",
    "- `Overall rank`: happiness rank of the different countries\n",
    "- `Country o region`\n",
    "- `Score`:  is a national average of the responses to the main life evaluation question asked in the Gallup World Poll (GWP), which uses the Cantril Ladder. Ranges from [0-10]\n",
    "- `GDP per capita`\n",
    "- `Healthy Life Expectancy`: score that goes from [0-1], being 1 the ones that have more confidence in terms of healthy life\n",
    "- `Social support`: it indicates how people are appreciating the social support by governments, and it that ranges from [0-2]\n",
    "- `Freedom to make life choices` score that ranges from 0 to 1, being 1 the ones that feel more free\n",
    "- `Generosity`:score that ranges from 0 to 1, being 1 the ones that feel more generosity\n",
    "- `Perceptions of corruption`: perception of corruption on the country that it goes from  0 to 1. The higher this value is the lower perception of corruption\n",
    "- `year`  \n",
    "\n",
    "\n",
    ">dataset: `Ex2.2._Happiness-Score.csv`"
   ]
  },
  {
   "cell_type": "code",
   "execution_count": 348,
   "metadata": {
    "executionInfo": {
     "elapsed": 4,
     "status": "ok",
     "timestamp": 1756733836446,
     "user": {
      "displayName": "Wiktoria Gołębiewska",
      "userId": "05863011323994705695"
     },
     "user_tz": -120
    },
    "id": "kLy2gu2egPIF"
   },
   "outputs": [],
   "source": [
    "import numpy as np\n",
    "import pandas as pd\n",
    "\n",
    "import plotly.graph_objs as go\n",
    "from wordcloud import WordCloud\n",
    "import plotly.express as px\n",
    "import matplotlib.pyplot as plt\n",
    "import plotly.io as pio\n",
    "\n",
    "pio.renderers.default = 'colab'\n",
    "\n",
    "import warnings\n",
    "warnings.filterwarnings('ignore')"
   ]
  },
  {
   "cell_type": "code",
   "execution_count": 349,
   "metadata": {
    "executionInfo": {
     "elapsed": 1,
     "status": "ok",
     "timestamp": 1756733836448,
     "user": {
      "displayName": "Wiktoria Gołębiewska",
      "userId": "05863011323994705695"
     },
     "user_tz": -120
    },
    "id": "y7GARtQv4L-Z",
    "scrolled": true
   },
   "outputs": [],
   "source": [
    "import pandas as pd\n",
    "pd.options.mode.chained_assignment = None\n",
    "\n",
    "import numpy as np\n",
    "import seaborn as sns\n",
    "import matplotlib.pyplot as plt\n",
    "\n",
    "import warnings\n",
    "warnings.filterwarnings('ignore')"
   ]
  },
  {
   "cell_type": "code",
   "execution_count": 350,
   "metadata": {
    "executionInfo": {
     "elapsed": 1,
     "status": "ok",
     "timestamp": 1756733836451,
     "user": {
      "displayName": "Wiktoria Gołębiewska",
      "userId": "05863011323994705695"
     },
     "user_tz": -120
    },
    "id": "GyGFx88PgPII"
   },
   "outputs": [],
   "source": [
    "df1 = pd.read_csv(r\"C:\\Users\\wikto\\Documents\\DA-All Women\\_module2_\\datasets\\Students_turn\\Ex2.2._Happiness-Score.csv\")"
   ]
  },
  {
   "cell_type": "code",
   "execution_count": 351,
   "metadata": {},
   "outputs": [],
   "source": [
    "df2 = pd.read_excel(r\"C:\\Users\\wikto\\Documents\\DA-All Women\\_module2_\\datasets\\WHR25_Data_Figure_2.1 (1).xlsx\")"
   ]
  },
  {
   "cell_type": "markdown",
   "metadata": {
    "id": "xg5aTWPsfd6U",
    "outputId": "af6ac151-a7a0-42ec-a3a9-82591a432466"
   },
   "source": [
    "### Exercise 1.Tell a story with your dataset, to try to answer the following question:\n",
    "\n",
    ">\"Which factors are more important to live a happier life? As a result, people and countries can focus on the more significant factors to achieve a higher happiness level \"\n",
    "\n",
    "To achieve this goal, use the different funcionalities from the visualization libraries that you have seen in the module."
   ]
  },
  {
   "cell_type": "code",
   "execution_count": 352,
   "metadata": {},
   "outputs": [
    {
     "data": {
      "text/plain": [
       "Index(['Year', 'Rank', 'Country name', 'Ladder score', 'upperwhisker',\n",
       "       'lowerwhisker', 'Explained by: Log GDP per capita',\n",
       "       'Explained by: Social support', 'Explained by: Healthy life expectancy',\n",
       "       'Explained by: Freedom to make life choices',\n",
       "       'Explained by: Generosity', 'Explained by: Perceptions of corruption',\n",
       "       'Dystopia + residual'],\n",
       "      dtype='object')"
      ]
     },
     "execution_count": 352,
     "metadata": {},
     "output_type": "execute_result"
    }
   ],
   "source": [
    "df2.columns"
   ]
  },
  {
   "cell_type": "code",
   "execution_count": 353,
   "metadata": {},
   "outputs": [],
   "source": [
    "df2.rename(columns={'Country name': 'Country or region'}, inplace=True)"
   ]
  },
  {
   "cell_type": "code",
   "execution_count": 354,
   "metadata": {},
   "outputs": [],
   "source": [
    "df2.rename(columns={'Ladder score': 'Score'}, inplace=True)"
   ]
  },
  {
   "cell_type": "code",
   "execution_count": 355,
   "metadata": {},
   "outputs": [],
   "source": [
    "df2.rename(columns={'Explained by: Log GDP per capita': 'GDP per capita'}, inplace=True)"
   ]
  },
  {
   "cell_type": "code",
   "execution_count": 356,
   "metadata": {},
   "outputs": [],
   "source": [
    "df2.rename(columns={'Explained by: Social support': 'Social support'}, inplace=True)"
   ]
  },
  {
   "cell_type": "code",
   "execution_count": 357,
   "metadata": {},
   "outputs": [],
   "source": [
    "df2.rename(columns={'Explained by: Perceptions of corruption': 'Perceptions of corruption'}, inplace=True)"
   ]
  },
  {
   "cell_type": "code",
   "execution_count": 358,
   "metadata": {},
   "outputs": [],
   "source": [
    "df2.rename(columns={'Explained by: Freedom to make life choices': 'Freedom to make life choices'}, inplace=True)"
   ]
  },
  {
   "cell_type": "code",
   "execution_count": 359,
   "metadata": {},
   "outputs": [],
   "source": [
    "df2.rename(columns={'Explained by: Generosity': 'Generosity'}, inplace=True)"
   ]
  },
  {
   "cell_type": "code",
   "execution_count": 360,
   "metadata": {},
   "outputs": [],
   "source": [
    "df2.rename(columns={'Explained by: Generosity': 'Generosity'}, inplace=True)"
   ]
  },
  {
   "cell_type": "code",
   "execution_count": 361,
   "metadata": {},
   "outputs": [],
   "source": [
    "df2.drop('Explained by: Healthy life expectancy', axis=1, inplace=True)"
   ]
  },
  {
   "cell_type": "code",
   "execution_count": 362,
   "metadata": {},
   "outputs": [],
   "source": [
    "df2.drop('Rank', axis=1, inplace=True)"
   ]
  },
  {
   "cell_type": "code",
   "execution_count": 363,
   "metadata": {},
   "outputs": [],
   "source": [
    "df2.drop('upperwhisker', axis=1, inplace=True)"
   ]
  },
  {
   "cell_type": "code",
   "execution_count": 364,
   "metadata": {},
   "outputs": [],
   "source": [
    "df2.drop('lowerwhisker', axis=1, inplace=True)"
   ]
  },
  {
   "cell_type": "code",
   "execution_count": 365,
   "metadata": {},
   "outputs": [],
   "source": [
    "df2.drop('Dystopia + residual', axis=1, inplace=True)"
   ]
  },
  {
   "cell_type": "code",
   "execution_count": 366,
   "metadata": {},
   "outputs": [
    {
     "data": {
      "text/plain": [
       "Index(['Year', 'Country or region', 'Score', 'GDP per capita',\n",
       "       'Social support', 'Freedom to make life choices', 'Generosity',\n",
       "       'Perceptions of corruption'],\n",
       "      dtype='object')"
      ]
     },
     "execution_count": 366,
     "metadata": {},
     "output_type": "execute_result"
    }
   ],
   "source": [
    "df2.columns"
   ]
  },
  {
   "cell_type": "code",
   "execution_count": 367,
   "metadata": {},
   "outputs": [],
   "source": [
    "df_2024=df2[df2['Year']==2024]"
   ]
  },
  {
   "cell_type": "code",
   "execution_count": 368,
   "metadata": {
    "colab": {
     "base_uri": "https://localhost:8080/"
    },
    "executionInfo": {
     "elapsed": 9,
     "status": "ok",
     "timestamp": 1756733836461,
     "user": {
      "displayName": "Wiktoria Gołębiewska",
      "userId": "05863011323994705695"
     },
     "user_tz": -120
    },
    "id": "KjZVCIU1gPIJ",
    "outputId": "3e5f99f1-2ed0-49f0-de6d-be8265340578"
   },
   "outputs": [
    {
     "name": "stdout",
     "output_type": "stream",
     "text": [
      "<class 'pandas.core.frame.DataFrame'>\n",
      "RangeIndex: 312 entries, 0 to 311\n",
      "Data columns (total 12 columns):\n",
      " #   Column                        Non-Null Count  Dtype  \n",
      "---  ------                        --------------  -----  \n",
      " 0   Unnamed: 0.1                  312 non-null    int64  \n",
      " 1   Unnamed: 0                    312 non-null    int64  \n",
      " 2   Overall rank                  312 non-null    int64  \n",
      " 3   Country or region             312 non-null    object \n",
      " 4   Score                         312 non-null    float64\n",
      " 5   GDP per capita                312 non-null    float64\n",
      " 6   Social support                312 non-null    float64\n",
      " 7   Healthy life expectancy       7 non-null      float64\n",
      " 8   Freedom to make life choices  312 non-null    float64\n",
      " 9   Generosity                    312 non-null    float64\n",
      " 10  Perceptions of corruption     311 non-null    float64\n",
      " 11  year                          312 non-null    int64  \n",
      "dtypes: float64(7), int64(4), object(1)\n",
      "memory usage: 29.4+ KB\n"
     ]
    }
   ],
   "source": [
    "df=df1\n",
    "df.info()"
   ]
  },
  {
   "cell_type": "code",
   "execution_count": 369,
   "metadata": {},
   "outputs": [],
   "source": [
    "df.drop('Unnamed: 0.1', axis=1, inplace=True)"
   ]
  },
  {
   "cell_type": "code",
   "execution_count": 370,
   "metadata": {},
   "outputs": [],
   "source": [
    "df.drop('Unnamed: 0', axis=1, inplace=True)"
   ]
  },
  {
   "cell_type": "code",
   "execution_count": 371,
   "metadata": {},
   "outputs": [],
   "source": [
    "df.drop('Overall rank', axis=1, inplace=True)"
   ]
  },
  {
   "cell_type": "code",
   "execution_count": 372,
   "metadata": {},
   "outputs": [],
   "source": [
    "df.drop('Healthy life expectancy', axis=1, inplace=True)"
   ]
  },
  {
   "cell_type": "raw",
   "metadata": {
    "colab": {
     "base_uri": "https://localhost:8080/"
    },
    "executionInfo": {
     "elapsed": 6,
     "status": "ok",
     "timestamp": 1756733836468,
     "user": {
      "displayName": "Wiktoria Gołębiewska",
      "userId": "05863011323994705695"
     },
     "user_tz": -120
    },
    "id": "bw6XRAuegPIK",
    "outputId": "29a38c13-6741-4e36-ab81-6ca422f6a2d1"
   },
   "source": [
    "df.shape"
   ]
  },
  {
   "cell_type": "code",
   "execution_count": 373,
   "metadata": {
    "colab": {
     "base_uri": "https://localhost:8080/"
    },
    "executionInfo": {
     "elapsed": 10,
     "status": "ok",
     "timestamp": 1756733836480,
     "user": {
      "displayName": "Wiktoria Gołębiewska",
      "userId": "05863011323994705695"
     },
     "user_tz": -120
    },
    "id": "59_AIQ0jgPIK",
    "outputId": "6994c569-4c9d-4480-fcd8-1ebc4c4119e3"
   },
   "outputs": [
    {
     "data": {
      "text/plain": [
       "Index(['Country or region', 'Score', 'GDP per capita', 'Social support',\n",
       "       'Freedom to make life choices', 'Generosity',\n",
       "       'Perceptions of corruption', 'year'],\n",
       "      dtype='object')"
      ]
     },
     "execution_count": 373,
     "metadata": {},
     "output_type": "execute_result"
    }
   ],
   "source": [
    "df.columns"
   ]
  },
  {
   "cell_type": "code",
   "execution_count": 374,
   "metadata": {
    "colab": {
     "base_uri": "https://localhost:8080/",
     "height": 224
    },
    "executionInfo": {
     "elapsed": 27,
     "status": "ok",
     "timestamp": 1756733836508,
     "user": {
      "displayName": "Wiktoria Gołębiewska",
      "userId": "05863011323994705695"
     },
     "user_tz": -120
    },
    "id": "FwqPNg-4gPIL",
    "outputId": "ea4b0a2b-4a18-4647-885d-ccc01075e556"
   },
   "outputs": [
    {
     "data": {
      "text/html": [
       "<div>\n",
       "<style scoped>\n",
       "    .dataframe tbody tr th:only-of-type {\n",
       "        vertical-align: middle;\n",
       "    }\n",
       "\n",
       "    .dataframe tbody tr th {\n",
       "        vertical-align: top;\n",
       "    }\n",
       "\n",
       "    .dataframe thead th {\n",
       "        text-align: right;\n",
       "    }\n",
       "</style>\n",
       "<table border=\"1\" class=\"dataframe\">\n",
       "  <thead>\n",
       "    <tr style=\"text-align: right;\">\n",
       "      <th></th>\n",
       "      <th>Country or region</th>\n",
       "      <th>Score</th>\n",
       "      <th>GDP per capita</th>\n",
       "      <th>Social support</th>\n",
       "      <th>Freedom to make life choices</th>\n",
       "      <th>Generosity</th>\n",
       "      <th>Perceptions of corruption</th>\n",
       "      <th>year</th>\n",
       "    </tr>\n",
       "  </thead>\n",
       "  <tbody>\n",
       "    <tr>\n",
       "      <th>0</th>\n",
       "      <td>Finland</td>\n",
       "      <td>7.632</td>\n",
       "      <td>1.305</td>\n",
       "      <td>1.592</td>\n",
       "      <td>0.681</td>\n",
       "      <td>0.202</td>\n",
       "      <td>0.393</td>\n",
       "      <td>2018</td>\n",
       "    </tr>\n",
       "    <tr>\n",
       "      <th>1</th>\n",
       "      <td>Norway</td>\n",
       "      <td>7.594</td>\n",
       "      <td>1.456</td>\n",
       "      <td>1.582</td>\n",
       "      <td>0.686</td>\n",
       "      <td>0.286</td>\n",
       "      <td>0.340</td>\n",
       "      <td>2018</td>\n",
       "    </tr>\n",
       "    <tr>\n",
       "      <th>2</th>\n",
       "      <td>Denmark</td>\n",
       "      <td>7.555</td>\n",
       "      <td>1.351</td>\n",
       "      <td>1.590</td>\n",
       "      <td>0.683</td>\n",
       "      <td>0.284</td>\n",
       "      <td>0.408</td>\n",
       "      <td>2018</td>\n",
       "    </tr>\n",
       "    <tr>\n",
       "      <th>3</th>\n",
       "      <td>Iceland</td>\n",
       "      <td>7.495</td>\n",
       "      <td>1.343</td>\n",
       "      <td>1.644</td>\n",
       "      <td>0.677</td>\n",
       "      <td>0.353</td>\n",
       "      <td>0.138</td>\n",
       "      <td>2018</td>\n",
       "    </tr>\n",
       "    <tr>\n",
       "      <th>4</th>\n",
       "      <td>Switzerland</td>\n",
       "      <td>7.487</td>\n",
       "      <td>1.420</td>\n",
       "      <td>1.549</td>\n",
       "      <td>0.660</td>\n",
       "      <td>0.256</td>\n",
       "      <td>0.357</td>\n",
       "      <td>2018</td>\n",
       "    </tr>\n",
       "  </tbody>\n",
       "</table>\n",
       "</div>"
      ],
      "text/plain": [
       "  Country or region  Score  GDP per capita  Social support  \\\n",
       "0           Finland  7.632           1.305           1.592   \n",
       "1            Norway  7.594           1.456           1.582   \n",
       "2           Denmark  7.555           1.351           1.590   \n",
       "3           Iceland  7.495           1.343           1.644   \n",
       "4       Switzerland  7.487           1.420           1.549   \n",
       "\n",
       "   Freedom to make life choices  Generosity  Perceptions of corruption  year  \n",
       "0                         0.681       0.202                      0.393  2018  \n",
       "1                         0.686       0.286                      0.340  2018  \n",
       "2                         0.683       0.284                      0.408  2018  \n",
       "3                         0.677       0.353                      0.138  2018  \n",
       "4                         0.660       0.256                      0.357  2018  "
      ]
     },
     "execution_count": 374,
     "metadata": {},
     "output_type": "execute_result"
    }
   ],
   "source": [
    "df.head()"
   ]
  },
  {
   "cell_type": "code",
   "execution_count": 375,
   "metadata": {
    "colab": {
     "base_uri": "https://localhost:8080/",
     "height": 458
    },
    "executionInfo": {
     "elapsed": 23,
     "status": "ok",
     "timestamp": 1756733836533,
     "user": {
      "displayName": "Wiktoria Gołębiewska",
      "userId": "05863011323994705695"
     },
     "user_tz": -120
    },
    "id": "Is6oesaWgPIL",
    "outputId": "7a7a3c9d-59b6-4753-82fe-a7237230d200"
   },
   "outputs": [
    {
     "data": {
      "text/html": [
       "<div>\n",
       "<style scoped>\n",
       "    .dataframe tbody tr th:only-of-type {\n",
       "        vertical-align: middle;\n",
       "    }\n",
       "\n",
       "    .dataframe tbody tr th {\n",
       "        vertical-align: top;\n",
       "    }\n",
       "\n",
       "    .dataframe thead th {\n",
       "        text-align: right;\n",
       "    }\n",
       "</style>\n",
       "<table border=\"1\" class=\"dataframe\">\n",
       "  <thead>\n",
       "    <tr style=\"text-align: right;\">\n",
       "      <th></th>\n",
       "      <th>Country or region</th>\n",
       "      <th>Score</th>\n",
       "      <th>GDP per capita</th>\n",
       "      <th>Social support</th>\n",
       "      <th>Freedom to make life choices</th>\n",
       "      <th>Generosity</th>\n",
       "      <th>Perceptions of corruption</th>\n",
       "      <th>year</th>\n",
       "    </tr>\n",
       "  </thead>\n",
       "  <tbody>\n",
       "    <tr>\n",
       "      <th>0</th>\n",
       "      <td>Finland</td>\n",
       "      <td>7.632</td>\n",
       "      <td>1.305</td>\n",
       "      <td>1.592</td>\n",
       "      <td>0.681</td>\n",
       "      <td>0.202</td>\n",
       "      <td>0.393</td>\n",
       "      <td>2018</td>\n",
       "    </tr>\n",
       "    <tr>\n",
       "      <th>1</th>\n",
       "      <td>Norway</td>\n",
       "      <td>7.594</td>\n",
       "      <td>1.456</td>\n",
       "      <td>1.582</td>\n",
       "      <td>0.686</td>\n",
       "      <td>0.286</td>\n",
       "      <td>0.340</td>\n",
       "      <td>2018</td>\n",
       "    </tr>\n",
       "    <tr>\n",
       "      <th>2</th>\n",
       "      <td>Denmark</td>\n",
       "      <td>7.555</td>\n",
       "      <td>1.351</td>\n",
       "      <td>1.590</td>\n",
       "      <td>0.683</td>\n",
       "      <td>0.284</td>\n",
       "      <td>0.408</td>\n",
       "      <td>2018</td>\n",
       "    </tr>\n",
       "    <tr>\n",
       "      <th>3</th>\n",
       "      <td>Iceland</td>\n",
       "      <td>7.495</td>\n",
       "      <td>1.343</td>\n",
       "      <td>1.644</td>\n",
       "      <td>0.677</td>\n",
       "      <td>0.353</td>\n",
       "      <td>0.138</td>\n",
       "      <td>2018</td>\n",
       "    </tr>\n",
       "    <tr>\n",
       "      <th>4</th>\n",
       "      <td>Switzerland</td>\n",
       "      <td>7.487</td>\n",
       "      <td>1.420</td>\n",
       "      <td>1.549</td>\n",
       "      <td>0.660</td>\n",
       "      <td>0.256</td>\n",
       "      <td>0.357</td>\n",
       "      <td>2018</td>\n",
       "    </tr>\n",
       "    <tr>\n",
       "      <th>...</th>\n",
       "      <td>...</td>\n",
       "      <td>...</td>\n",
       "      <td>...</td>\n",
       "      <td>...</td>\n",
       "      <td>...</td>\n",
       "      <td>...</td>\n",
       "      <td>...</td>\n",
       "      <td>...</td>\n",
       "    </tr>\n",
       "    <tr>\n",
       "      <th>307</th>\n",
       "      <td>Rwanda</td>\n",
       "      <td>3.334</td>\n",
       "      <td>0.359</td>\n",
       "      <td>0.711</td>\n",
       "      <td>0.555</td>\n",
       "      <td>0.217</td>\n",
       "      <td>0.411</td>\n",
       "      <td>2019</td>\n",
       "    </tr>\n",
       "    <tr>\n",
       "      <th>308</th>\n",
       "      <td>Tanzania</td>\n",
       "      <td>3.231</td>\n",
       "      <td>0.476</td>\n",
       "      <td>0.885</td>\n",
       "      <td>0.417</td>\n",
       "      <td>0.276</td>\n",
       "      <td>0.147</td>\n",
       "      <td>2019</td>\n",
       "    </tr>\n",
       "    <tr>\n",
       "      <th>309</th>\n",
       "      <td>Afghanistan</td>\n",
       "      <td>3.203</td>\n",
       "      <td>0.350</td>\n",
       "      <td>0.517</td>\n",
       "      <td>0.000</td>\n",
       "      <td>0.158</td>\n",
       "      <td>0.025</td>\n",
       "      <td>2019</td>\n",
       "    </tr>\n",
       "    <tr>\n",
       "      <th>310</th>\n",
       "      <td>Central African Republic</td>\n",
       "      <td>3.083</td>\n",
       "      <td>0.026</td>\n",
       "      <td>0.000</td>\n",
       "      <td>0.225</td>\n",
       "      <td>0.235</td>\n",
       "      <td>0.035</td>\n",
       "      <td>2019</td>\n",
       "    </tr>\n",
       "    <tr>\n",
       "      <th>311</th>\n",
       "      <td>South Sudan</td>\n",
       "      <td>2.853</td>\n",
       "      <td>0.306</td>\n",
       "      <td>0.575</td>\n",
       "      <td>0.010</td>\n",
       "      <td>0.202</td>\n",
       "      <td>0.091</td>\n",
       "      <td>2019</td>\n",
       "    </tr>\n",
       "  </tbody>\n",
       "</table>\n",
       "<p>312 rows × 8 columns</p>\n",
       "</div>"
      ],
      "text/plain": [
       "            Country or region  Score  GDP per capita  Social support  \\\n",
       "0                     Finland  7.632           1.305           1.592   \n",
       "1                      Norway  7.594           1.456           1.582   \n",
       "2                     Denmark  7.555           1.351           1.590   \n",
       "3                     Iceland  7.495           1.343           1.644   \n",
       "4                 Switzerland  7.487           1.420           1.549   \n",
       "..                        ...    ...             ...             ...   \n",
       "307                    Rwanda  3.334           0.359           0.711   \n",
       "308                  Tanzania  3.231           0.476           0.885   \n",
       "309               Afghanistan  3.203           0.350           0.517   \n",
       "310  Central African Republic  3.083           0.026           0.000   \n",
       "311               South Sudan  2.853           0.306           0.575   \n",
       "\n",
       "     Freedom to make life choices  Generosity  Perceptions of corruption  year  \n",
       "0                           0.681       0.202                      0.393  2018  \n",
       "1                           0.686       0.286                      0.340  2018  \n",
       "2                           0.683       0.284                      0.408  2018  \n",
       "3                           0.677       0.353                      0.138  2018  \n",
       "4                           0.660       0.256                      0.357  2018  \n",
       "..                            ...         ...                        ...   ...  \n",
       "307                         0.555       0.217                      0.411  2019  \n",
       "308                         0.417       0.276                      0.147  2019  \n",
       "309                         0.000       0.158                      0.025  2019  \n",
       "310                         0.225       0.235                      0.035  2019  \n",
       "311                         0.010       0.202                      0.091  2019  \n",
       "\n",
       "[312 rows x 8 columns]"
      ]
     },
     "execution_count": 375,
     "metadata": {},
     "output_type": "execute_result"
    }
   ],
   "source": [
    "df"
   ]
  },
  {
   "cell_type": "code",
   "execution_count": 376,
   "metadata": {
    "colab": {
     "base_uri": "https://localhost:8080/"
    },
    "executionInfo": {
     "elapsed": 7,
     "status": "ok",
     "timestamp": 1756733836541,
     "user": {
      "displayName": "Wiktoria Gołębiewska",
      "userId": "05863011323994705695"
     },
     "user_tz": -120
    },
    "id": "R2No56l7gPIM",
    "outputId": "1993ceb6-854f-4d95-d27a-341971cf22db"
   },
   "outputs": [
    {
     "data": {
      "text/plain": [
       "Index(['Country or region', 'Score', 'GDP per capita', 'Social support',\n",
       "       'Freedom to make life choices', 'Generosity',\n",
       "       'Perceptions of corruption', 'year'],\n",
       "      dtype='object')"
      ]
     },
     "execution_count": 376,
     "metadata": {},
     "output_type": "execute_result"
    }
   ],
   "source": [
    "df.columns"
   ]
  },
  {
   "cell_type": "code",
   "execution_count": 377,
   "metadata": {
    "colab": {
     "base_uri": "https://localhost:8080/",
     "height": 366
    },
    "executionInfo": {
     "elapsed": 34,
     "status": "ok",
     "timestamp": 1756733836601,
     "user": {
      "displayName": "Wiktoria Gołębiewska",
      "userId": "05863011323994705695"
     },
     "user_tz": -120
    },
    "id": "BAFW8OKMgPIM",
    "outputId": "6ebcb287-3274-4bd2-b58e-71a296fe9226"
   },
   "outputs": [
    {
     "data": {
      "text/plain": [
       "Country or region               0\n",
       "Score                           0\n",
       "GDP per capita                  0\n",
       "Social support                  0\n",
       "Freedom to make life choices    0\n",
       "Generosity                      0\n",
       "Perceptions of corruption       1\n",
       "year                            0\n",
       "dtype: int64"
      ]
     },
     "execution_count": 377,
     "metadata": {},
     "output_type": "execute_result"
    }
   ],
   "source": [
    "df.isnull().sum()"
   ]
  },
  {
   "cell_type": "code",
   "execution_count": 378,
   "metadata": {},
   "outputs": [
    {
     "data": {
      "text/plain": [
       "Country or region               0\n",
       "Score                           0\n",
       "GDP per capita                  0\n",
       "Social support                  0\n",
       "Freedom to make life choices    0\n",
       "Generosity                      0\n",
       "Perceptions of corruption       0\n",
       "year                            0\n",
       "dtype: int64"
      ]
     },
     "execution_count": 378,
     "metadata": {},
     "output_type": "execute_result"
    }
   ],
   "source": [
    "df.fillna({'Perceptions of corruption':df['Perceptions of corruption'].mean()}, inplace=True)\n",
    "df.isnull().sum()"
   ]
  },
  {
   "cell_type": "code",
   "execution_count": 379,
   "metadata": {
    "colab": {
     "base_uri": "https://localhost:8080/",
     "height": 206
    },
    "executionInfo": {
     "elapsed": 25,
     "status": "ok",
     "timestamp": 1756733836601,
     "user": {
      "displayName": "Wiktoria Gołębiewska",
      "userId": "05863011323994705695"
     },
     "user_tz": -120
    },
    "id": "BmVSxqYDgPIM",
    "outputId": "9dded581-03c8-422b-e3cd-a27468708e64"
   },
   "outputs": [
    {
     "data": {
      "text/html": [
       "<div>\n",
       "<style scoped>\n",
       "    .dataframe tbody tr th:only-of-type {\n",
       "        vertical-align: middle;\n",
       "    }\n",
       "\n",
       "    .dataframe tbody tr th {\n",
       "        vertical-align: top;\n",
       "    }\n",
       "\n",
       "    .dataframe thead th {\n",
       "        text-align: right;\n",
       "    }\n",
       "</style>\n",
       "<table border=\"1\" class=\"dataframe\">\n",
       "  <thead>\n",
       "    <tr style=\"text-align: right;\">\n",
       "      <th></th>\n",
       "      <th>Country or region</th>\n",
       "      <th>Score</th>\n",
       "      <th>GDP per capita</th>\n",
       "      <th>Social support</th>\n",
       "      <th>Freedom to make life choices</th>\n",
       "      <th>Generosity</th>\n",
       "      <th>Perceptions of corruption</th>\n",
       "      <th>year</th>\n",
       "    </tr>\n",
       "  </thead>\n",
       "  <tbody>\n",
       "    <tr>\n",
       "      <th>0</th>\n",
       "      <td>Finland</td>\n",
       "      <td>7.632</td>\n",
       "      <td>1.305</td>\n",
       "      <td>1.592</td>\n",
       "      <td>0.681</td>\n",
       "      <td>0.202</td>\n",
       "      <td>0.393</td>\n",
       "      <td>2018</td>\n",
       "    </tr>\n",
       "    <tr>\n",
       "      <th>1</th>\n",
       "      <td>Norway</td>\n",
       "      <td>7.594</td>\n",
       "      <td>1.456</td>\n",
       "      <td>1.582</td>\n",
       "      <td>0.686</td>\n",
       "      <td>0.286</td>\n",
       "      <td>0.340</td>\n",
       "      <td>2018</td>\n",
       "    </tr>\n",
       "    <tr>\n",
       "      <th>2</th>\n",
       "      <td>Denmark</td>\n",
       "      <td>7.555</td>\n",
       "      <td>1.351</td>\n",
       "      <td>1.590</td>\n",
       "      <td>0.683</td>\n",
       "      <td>0.284</td>\n",
       "      <td>0.408</td>\n",
       "      <td>2018</td>\n",
       "    </tr>\n",
       "    <tr>\n",
       "      <th>3</th>\n",
       "      <td>Iceland</td>\n",
       "      <td>7.495</td>\n",
       "      <td>1.343</td>\n",
       "      <td>1.644</td>\n",
       "      <td>0.677</td>\n",
       "      <td>0.353</td>\n",
       "      <td>0.138</td>\n",
       "      <td>2018</td>\n",
       "    </tr>\n",
       "    <tr>\n",
       "      <th>4</th>\n",
       "      <td>Switzerland</td>\n",
       "      <td>7.487</td>\n",
       "      <td>1.420</td>\n",
       "      <td>1.549</td>\n",
       "      <td>0.660</td>\n",
       "      <td>0.256</td>\n",
       "      <td>0.357</td>\n",
       "      <td>2018</td>\n",
       "    </tr>\n",
       "  </tbody>\n",
       "</table>\n",
       "</div>"
      ],
      "text/plain": [
       "  Country or region  Score  GDP per capita  Social support  \\\n",
       "0           Finland  7.632           1.305           1.592   \n",
       "1            Norway  7.594           1.456           1.582   \n",
       "2           Denmark  7.555           1.351           1.590   \n",
       "3           Iceland  7.495           1.343           1.644   \n",
       "4       Switzerland  7.487           1.420           1.549   \n",
       "\n",
       "   Freedom to make life choices  Generosity  Perceptions of corruption  year  \n",
       "0                         0.681       0.202                      0.393  2018  \n",
       "1                         0.686       0.286                      0.340  2018  \n",
       "2                         0.683       0.284                      0.408  2018  \n",
       "3                         0.677       0.353                      0.138  2018  \n",
       "4                         0.660       0.256                      0.357  2018  "
      ]
     },
     "execution_count": 379,
     "metadata": {},
     "output_type": "execute_result"
    }
   ],
   "source": [
    "df.head()"
   ]
  },
  {
   "cell_type": "code",
   "execution_count": 380,
   "metadata": {
    "colab": {
     "base_uri": "https://localhost:8080/",
     "height": 206
    },
    "executionInfo": {
     "elapsed": 36,
     "status": "ok",
     "timestamp": 1756733836626,
     "user": {
      "displayName": "Wiktoria Gołębiewska",
      "userId": "05863011323994705695"
     },
     "user_tz": -120
    },
    "id": "kn2dzJ7WgPIM",
    "outputId": "c91c1dd8-c183-4670-cd64-51483f6adad1"
   },
   "outputs": [
    {
     "data": {
      "text/html": [
       "<div>\n",
       "<style scoped>\n",
       "    .dataframe tbody tr th:only-of-type {\n",
       "        vertical-align: middle;\n",
       "    }\n",
       "\n",
       "    .dataframe tbody tr th {\n",
       "        vertical-align: top;\n",
       "    }\n",
       "\n",
       "    .dataframe thead th {\n",
       "        text-align: right;\n",
       "    }\n",
       "</style>\n",
       "<table border=\"1\" class=\"dataframe\">\n",
       "  <thead>\n",
       "    <tr style=\"text-align: right;\">\n",
       "      <th></th>\n",
       "      <th>Country or region</th>\n",
       "      <th>Score</th>\n",
       "      <th>GDP per capita</th>\n",
       "      <th>Social support</th>\n",
       "      <th>Freedom to make life choices</th>\n",
       "      <th>Generosity</th>\n",
       "      <th>Perceptions of corruption</th>\n",
       "      <th>Year</th>\n",
       "    </tr>\n",
       "  </thead>\n",
       "  <tbody>\n",
       "    <tr>\n",
       "      <th>0</th>\n",
       "      <td>Finland</td>\n",
       "      <td>7.632</td>\n",
       "      <td>1.305</td>\n",
       "      <td>1.592</td>\n",
       "      <td>0.681</td>\n",
       "      <td>0.202</td>\n",
       "      <td>0.393</td>\n",
       "      <td>2018</td>\n",
       "    </tr>\n",
       "    <tr>\n",
       "      <th>1</th>\n",
       "      <td>Norway</td>\n",
       "      <td>7.594</td>\n",
       "      <td>1.456</td>\n",
       "      <td>1.582</td>\n",
       "      <td>0.686</td>\n",
       "      <td>0.286</td>\n",
       "      <td>0.340</td>\n",
       "      <td>2018</td>\n",
       "    </tr>\n",
       "    <tr>\n",
       "      <th>2</th>\n",
       "      <td>Denmark</td>\n",
       "      <td>7.555</td>\n",
       "      <td>1.351</td>\n",
       "      <td>1.590</td>\n",
       "      <td>0.683</td>\n",
       "      <td>0.284</td>\n",
       "      <td>0.408</td>\n",
       "      <td>2018</td>\n",
       "    </tr>\n",
       "    <tr>\n",
       "      <th>3</th>\n",
       "      <td>Iceland</td>\n",
       "      <td>7.495</td>\n",
       "      <td>1.343</td>\n",
       "      <td>1.644</td>\n",
       "      <td>0.677</td>\n",
       "      <td>0.353</td>\n",
       "      <td>0.138</td>\n",
       "      <td>2018</td>\n",
       "    </tr>\n",
       "    <tr>\n",
       "      <th>4</th>\n",
       "      <td>Switzerland</td>\n",
       "      <td>7.487</td>\n",
       "      <td>1.420</td>\n",
       "      <td>1.549</td>\n",
       "      <td>0.660</td>\n",
       "      <td>0.256</td>\n",
       "      <td>0.357</td>\n",
       "      <td>2018</td>\n",
       "    </tr>\n",
       "  </tbody>\n",
       "</table>\n",
       "</div>"
      ],
      "text/plain": [
       "  Country or region  Score  GDP per capita  Social support  \\\n",
       "0           Finland  7.632           1.305           1.592   \n",
       "1            Norway  7.594           1.456           1.582   \n",
       "2           Denmark  7.555           1.351           1.590   \n",
       "3           Iceland  7.495           1.343           1.644   \n",
       "4       Switzerland  7.487           1.420           1.549   \n",
       "\n",
       "   Freedom to make life choices  Generosity  Perceptions of corruption  Year  \n",
       "0                         0.681       0.202                      0.393  2018  \n",
       "1                         0.686       0.286                      0.340  2018  \n",
       "2                         0.683       0.284                      0.408  2018  \n",
       "3                         0.677       0.353                      0.138  2018  \n",
       "4                         0.660       0.256                      0.357  2018  "
      ]
     },
     "execution_count": 380,
     "metadata": {},
     "output_type": "execute_result"
    }
   ],
   "source": [
    "df.rename(columns={'year': 'Year'}, inplace=True)\n",
    "df.head()"
   ]
  },
  {
   "cell_type": "code",
   "execution_count": 381,
   "metadata": {
    "colab": {
     "base_uri": "https://localhost:8080/",
     "height": 178
    },
    "executionInfo": {
     "elapsed": 23,
     "status": "ok",
     "timestamp": 1756733836663,
     "user": {
      "displayName": "Wiktoria Gołębiewska",
      "userId": "05863011323994705695"
     },
     "user_tz": -120
    },
    "id": "lAezpeGfgPIM",
    "outputId": "ffc09fab-e831-4d60-b2fb-8c2456fae841"
   },
   "outputs": [
    {
     "data": {
      "text/plain": [
       "Year\n",
       "2018    156\n",
       "2019    156\n",
       "Name: count, dtype: int64"
      ]
     },
     "execution_count": 381,
     "metadata": {},
     "output_type": "execute_result"
    }
   ],
   "source": [
    "df.Year.value_counts()"
   ]
  },
  {
   "cell_type": "code",
   "execution_count": 382,
   "metadata": {},
   "outputs": [],
   "source": [
    "df_2018=df[df['Year']==2018]"
   ]
  },
  {
   "cell_type": "code",
   "execution_count": 383,
   "metadata": {},
   "outputs": [
    {
     "name": "stdout",
     "output_type": "stream",
     "text": [
      "<class 'pandas.core.frame.DataFrame'>\n",
      "Index: 147 entries, 0 to 1956\n",
      "Data columns (total 8 columns):\n",
      " #   Column                        Non-Null Count  Dtype  \n",
      "---  ------                        --------------  -----  \n",
      " 0   Year                          147 non-null    int64  \n",
      " 1   Country or region             147 non-null    object \n",
      " 2   Score                         147 non-null    float64\n",
      " 3   GDP per capita                147 non-null    float64\n",
      " 4   Social support                147 non-null    float64\n",
      " 5   Freedom to make life choices  146 non-null    float64\n",
      " 6   Generosity                    147 non-null    float64\n",
      " 7   Perceptions of corruption     146 non-null    float64\n",
      "dtypes: float64(6), int64(1), object(1)\n",
      "memory usage: 10.3+ KB\n"
     ]
    }
   ],
   "source": [
    "df_2024.info()"
   ]
  },
  {
   "cell_type": "code",
   "execution_count": 384,
   "metadata": {},
   "outputs": [
    {
     "data": {
      "text/html": [
       "<div>\n",
       "<style scoped>\n",
       "    .dataframe tbody tr th:only-of-type {\n",
       "        vertical-align: middle;\n",
       "    }\n",
       "\n",
       "    .dataframe tbody tr th {\n",
       "        vertical-align: top;\n",
       "    }\n",
       "\n",
       "    .dataframe thead th {\n",
       "        text-align: right;\n",
       "    }\n",
       "</style>\n",
       "<table border=\"1\" class=\"dataframe\">\n",
       "  <thead>\n",
       "    <tr style=\"text-align: right;\">\n",
       "      <th></th>\n",
       "      <th>Year</th>\n",
       "      <th>Country or region</th>\n",
       "      <th>Score</th>\n",
       "      <th>GDP per capita</th>\n",
       "      <th>Social support</th>\n",
       "      <th>Freedom to make life choices</th>\n",
       "      <th>Generosity</th>\n",
       "      <th>Perceptions of corruption</th>\n",
       "    </tr>\n",
       "  </thead>\n",
       "  <tbody>\n",
       "    <tr>\n",
       "      <th>0</th>\n",
       "      <td>2024</td>\n",
       "      <td>Finland</td>\n",
       "      <td>7.736</td>\n",
       "      <td>1.749</td>\n",
       "      <td>1.783</td>\n",
       "      <td>0.986</td>\n",
       "      <td>0.110</td>\n",
       "      <td>0.502</td>\n",
       "    </tr>\n",
       "    <tr>\n",
       "      <th>13</th>\n",
       "      <td>2024</td>\n",
       "      <td>Denmark</td>\n",
       "      <td>7.521</td>\n",
       "      <td>1.825</td>\n",
       "      <td>1.748</td>\n",
       "      <td>0.955</td>\n",
       "      <td>0.150</td>\n",
       "      <td>0.488</td>\n",
       "    </tr>\n",
       "    <tr>\n",
       "      <th>26</th>\n",
       "      <td>2024</td>\n",
       "      <td>Iceland</td>\n",
       "      <td>7.515</td>\n",
       "      <td>1.799</td>\n",
       "      <td>1.840</td>\n",
       "      <td>0.971</td>\n",
       "      <td>0.201</td>\n",
       "      <td>0.173</td>\n",
       "    </tr>\n",
       "    <tr>\n",
       "      <th>45</th>\n",
       "      <td>2024</td>\n",
       "      <td>Sweden</td>\n",
       "      <td>7.345</td>\n",
       "      <td>1.783</td>\n",
       "      <td>1.698</td>\n",
       "      <td>0.952</td>\n",
       "      <td>0.170</td>\n",
       "      <td>0.467</td>\n",
       "    </tr>\n",
       "    <tr>\n",
       "      <th>58</th>\n",
       "      <td>2024</td>\n",
       "      <td>Netherlands</td>\n",
       "      <td>7.306</td>\n",
       "      <td>1.822</td>\n",
       "      <td>1.667</td>\n",
       "      <td>0.860</td>\n",
       "      <td>0.186</td>\n",
       "      <td>0.344</td>\n",
       "    </tr>\n",
       "  </tbody>\n",
       "</table>\n",
       "</div>"
      ],
      "text/plain": [
       "    Year Country or region  Score  GDP per capita  Social support  \\\n",
       "0   2024           Finland  7.736           1.749           1.783   \n",
       "13  2024           Denmark  7.521           1.825           1.748   \n",
       "26  2024           Iceland  7.515           1.799           1.840   \n",
       "45  2024            Sweden  7.345           1.783           1.698   \n",
       "58  2024       Netherlands  7.306           1.822           1.667   \n",
       "\n",
       "    Freedom to make life choices  Generosity  Perceptions of corruption  \n",
       "0                          0.986       0.110                      0.502  \n",
       "13                         0.955       0.150                      0.488  \n",
       "26                         0.971       0.201                      0.173  \n",
       "45                         0.952       0.170                      0.467  \n",
       "58                         0.860       0.186                      0.344  "
      ]
     },
     "execution_count": 384,
     "metadata": {},
     "output_type": "execute_result"
    }
   ],
   "source": [
    "df_2024.rename(columns={'Country name': 'Country or region'}, inplace=True)\n",
    "df_2024.head()"
   ]
  },
  {
   "cell_type": "code",
   "execution_count": 385,
   "metadata": {},
   "outputs": [
    {
     "data": {
      "text/html": [
       "<div>\n",
       "<style scoped>\n",
       "    .dataframe tbody tr th:only-of-type {\n",
       "        vertical-align: middle;\n",
       "    }\n",
       "\n",
       "    .dataframe tbody tr th {\n",
       "        vertical-align: top;\n",
       "    }\n",
       "\n",
       "    .dataframe thead th {\n",
       "        text-align: right;\n",
       "    }\n",
       "</style>\n",
       "<table border=\"1\" class=\"dataframe\">\n",
       "  <thead>\n",
       "    <tr style=\"text-align: right;\">\n",
       "      <th></th>\n",
       "      <th>Year</th>\n",
       "      <th>Country or region</th>\n",
       "      <th>Score</th>\n",
       "      <th>GDP per capita</th>\n",
       "      <th>Social support</th>\n",
       "      <th>Freedom to make life choices</th>\n",
       "      <th>Generosity</th>\n",
       "      <th>Perceptions of corruption</th>\n",
       "    </tr>\n",
       "  </thead>\n",
       "  <tbody>\n",
       "    <tr>\n",
       "      <th>0</th>\n",
       "      <td>2024</td>\n",
       "      <td>Finland</td>\n",
       "      <td>7.736</td>\n",
       "      <td>1.749</td>\n",
       "      <td>1.783</td>\n",
       "      <td>0.986</td>\n",
       "      <td>0.110</td>\n",
       "      <td>0.502</td>\n",
       "    </tr>\n",
       "    <tr>\n",
       "      <th>13</th>\n",
       "      <td>2024</td>\n",
       "      <td>Denmark</td>\n",
       "      <td>7.521</td>\n",
       "      <td>1.825</td>\n",
       "      <td>1.748</td>\n",
       "      <td>0.955</td>\n",
       "      <td>0.150</td>\n",
       "      <td>0.488</td>\n",
       "    </tr>\n",
       "    <tr>\n",
       "      <th>26</th>\n",
       "      <td>2024</td>\n",
       "      <td>Iceland</td>\n",
       "      <td>7.515</td>\n",
       "      <td>1.799</td>\n",
       "      <td>1.840</td>\n",
       "      <td>0.971</td>\n",
       "      <td>0.201</td>\n",
       "      <td>0.173</td>\n",
       "    </tr>\n",
       "    <tr>\n",
       "      <th>45</th>\n",
       "      <td>2024</td>\n",
       "      <td>Sweden</td>\n",
       "      <td>7.345</td>\n",
       "      <td>1.783</td>\n",
       "      <td>1.698</td>\n",
       "      <td>0.952</td>\n",
       "      <td>0.170</td>\n",
       "      <td>0.467</td>\n",
       "    </tr>\n",
       "    <tr>\n",
       "      <th>58</th>\n",
       "      <td>2024</td>\n",
       "      <td>Netherlands</td>\n",
       "      <td>7.306</td>\n",
       "      <td>1.822</td>\n",
       "      <td>1.667</td>\n",
       "      <td>0.860</td>\n",
       "      <td>0.186</td>\n",
       "      <td>0.344</td>\n",
       "    </tr>\n",
       "  </tbody>\n",
       "</table>\n",
       "</div>"
      ],
      "text/plain": [
       "    Year Country or region  Score  GDP per capita  Social support  \\\n",
       "0   2024           Finland  7.736           1.749           1.783   \n",
       "13  2024           Denmark  7.521           1.825           1.748   \n",
       "26  2024           Iceland  7.515           1.799           1.840   \n",
       "45  2024            Sweden  7.345           1.783           1.698   \n",
       "58  2024       Netherlands  7.306           1.822           1.667   \n",
       "\n",
       "    Freedom to make life choices  Generosity  Perceptions of corruption  \n",
       "0                          0.986       0.110                      0.502  \n",
       "13                         0.955       0.150                      0.488  \n",
       "26                         0.971       0.201                      0.173  \n",
       "45                         0.952       0.170                      0.467  \n",
       "58                         0.860       0.186                      0.344  "
      ]
     },
     "execution_count": 385,
     "metadata": {},
     "output_type": "execute_result"
    }
   ],
   "source": [
    "df_2024.rename(columns={'Ladder score': 'Score'}, inplace=True)\n",
    "df_2024.head()"
   ]
  },
  {
   "cell_type": "code",
   "execution_count": 386,
   "metadata": {},
   "outputs": [
    {
     "data": {
      "text/html": [
       "<div>\n",
       "<style scoped>\n",
       "    .dataframe tbody tr th:only-of-type {\n",
       "        vertical-align: middle;\n",
       "    }\n",
       "\n",
       "    .dataframe tbody tr th {\n",
       "        vertical-align: top;\n",
       "    }\n",
       "\n",
       "    .dataframe thead th {\n",
       "        text-align: right;\n",
       "    }\n",
       "</style>\n",
       "<table border=\"1\" class=\"dataframe\">\n",
       "  <thead>\n",
       "    <tr style=\"text-align: right;\">\n",
       "      <th></th>\n",
       "      <th>Year</th>\n",
       "      <th>Country or region</th>\n",
       "      <th>Score</th>\n",
       "      <th>GDP per capita</th>\n",
       "      <th>Social support</th>\n",
       "      <th>Freedom to make life choices</th>\n",
       "      <th>Generosity</th>\n",
       "      <th>Perceptions of corruption</th>\n",
       "    </tr>\n",
       "  </thead>\n",
       "  <tbody>\n",
       "    <tr>\n",
       "      <th>0</th>\n",
       "      <td>2024</td>\n",
       "      <td>Finland</td>\n",
       "      <td>7.736</td>\n",
       "      <td>1.749</td>\n",
       "      <td>1.783</td>\n",
       "      <td>0.986</td>\n",
       "      <td>0.110</td>\n",
       "      <td>0.502</td>\n",
       "    </tr>\n",
       "    <tr>\n",
       "      <th>13</th>\n",
       "      <td>2024</td>\n",
       "      <td>Denmark</td>\n",
       "      <td>7.521</td>\n",
       "      <td>1.825</td>\n",
       "      <td>1.748</td>\n",
       "      <td>0.955</td>\n",
       "      <td>0.150</td>\n",
       "      <td>0.488</td>\n",
       "    </tr>\n",
       "    <tr>\n",
       "      <th>26</th>\n",
       "      <td>2024</td>\n",
       "      <td>Iceland</td>\n",
       "      <td>7.515</td>\n",
       "      <td>1.799</td>\n",
       "      <td>1.840</td>\n",
       "      <td>0.971</td>\n",
       "      <td>0.201</td>\n",
       "      <td>0.173</td>\n",
       "    </tr>\n",
       "    <tr>\n",
       "      <th>45</th>\n",
       "      <td>2024</td>\n",
       "      <td>Sweden</td>\n",
       "      <td>7.345</td>\n",
       "      <td>1.783</td>\n",
       "      <td>1.698</td>\n",
       "      <td>0.952</td>\n",
       "      <td>0.170</td>\n",
       "      <td>0.467</td>\n",
       "    </tr>\n",
       "    <tr>\n",
       "      <th>58</th>\n",
       "      <td>2024</td>\n",
       "      <td>Netherlands</td>\n",
       "      <td>7.306</td>\n",
       "      <td>1.822</td>\n",
       "      <td>1.667</td>\n",
       "      <td>0.860</td>\n",
       "      <td>0.186</td>\n",
       "      <td>0.344</td>\n",
       "    </tr>\n",
       "  </tbody>\n",
       "</table>\n",
       "</div>"
      ],
      "text/plain": [
       "    Year Country or region  Score  GDP per capita  Social support  \\\n",
       "0   2024           Finland  7.736           1.749           1.783   \n",
       "13  2024           Denmark  7.521           1.825           1.748   \n",
       "26  2024           Iceland  7.515           1.799           1.840   \n",
       "45  2024            Sweden  7.345           1.783           1.698   \n",
       "58  2024       Netherlands  7.306           1.822           1.667   \n",
       "\n",
       "    Freedom to make life choices  Generosity  Perceptions of corruption  \n",
       "0                          0.986       0.110                      0.502  \n",
       "13                         0.955       0.150                      0.488  \n",
       "26                         0.971       0.201                      0.173  \n",
       "45                         0.952       0.170                      0.467  \n",
       "58                         0.860       0.186                      0.344  "
      ]
     },
     "execution_count": 386,
     "metadata": {},
     "output_type": "execute_result"
    }
   ],
   "source": [
    "df_2024.rename(columns={'Explained by: Log GDP per capita': 'GDP per capita'}, inplace=True)\n",
    "df_2024.head()"
   ]
  },
  {
   "cell_type": "code",
   "execution_count": 387,
   "metadata": {},
   "outputs": [
    {
     "data": {
      "text/html": [
       "<div>\n",
       "<style scoped>\n",
       "    .dataframe tbody tr th:only-of-type {\n",
       "        vertical-align: middle;\n",
       "    }\n",
       "\n",
       "    .dataframe tbody tr th {\n",
       "        vertical-align: top;\n",
       "    }\n",
       "\n",
       "    .dataframe thead th {\n",
       "        text-align: right;\n",
       "    }\n",
       "</style>\n",
       "<table border=\"1\" class=\"dataframe\">\n",
       "  <thead>\n",
       "    <tr style=\"text-align: right;\">\n",
       "      <th></th>\n",
       "      <th>Year</th>\n",
       "      <th>Country or region</th>\n",
       "      <th>Score</th>\n",
       "      <th>GDP per capita</th>\n",
       "      <th>Social support</th>\n",
       "      <th>Freedom to make life choices</th>\n",
       "      <th>Generosity</th>\n",
       "      <th>Perceptions of corruption</th>\n",
       "    </tr>\n",
       "  </thead>\n",
       "  <tbody>\n",
       "    <tr>\n",
       "      <th>0</th>\n",
       "      <td>2024</td>\n",
       "      <td>Finland</td>\n",
       "      <td>7.736</td>\n",
       "      <td>1.749</td>\n",
       "      <td>1.783</td>\n",
       "      <td>0.986</td>\n",
       "      <td>0.110</td>\n",
       "      <td>0.502</td>\n",
       "    </tr>\n",
       "    <tr>\n",
       "      <th>13</th>\n",
       "      <td>2024</td>\n",
       "      <td>Denmark</td>\n",
       "      <td>7.521</td>\n",
       "      <td>1.825</td>\n",
       "      <td>1.748</td>\n",
       "      <td>0.955</td>\n",
       "      <td>0.150</td>\n",
       "      <td>0.488</td>\n",
       "    </tr>\n",
       "    <tr>\n",
       "      <th>26</th>\n",
       "      <td>2024</td>\n",
       "      <td>Iceland</td>\n",
       "      <td>7.515</td>\n",
       "      <td>1.799</td>\n",
       "      <td>1.840</td>\n",
       "      <td>0.971</td>\n",
       "      <td>0.201</td>\n",
       "      <td>0.173</td>\n",
       "    </tr>\n",
       "    <tr>\n",
       "      <th>45</th>\n",
       "      <td>2024</td>\n",
       "      <td>Sweden</td>\n",
       "      <td>7.345</td>\n",
       "      <td>1.783</td>\n",
       "      <td>1.698</td>\n",
       "      <td>0.952</td>\n",
       "      <td>0.170</td>\n",
       "      <td>0.467</td>\n",
       "    </tr>\n",
       "    <tr>\n",
       "      <th>58</th>\n",
       "      <td>2024</td>\n",
       "      <td>Netherlands</td>\n",
       "      <td>7.306</td>\n",
       "      <td>1.822</td>\n",
       "      <td>1.667</td>\n",
       "      <td>0.860</td>\n",
       "      <td>0.186</td>\n",
       "      <td>0.344</td>\n",
       "    </tr>\n",
       "  </tbody>\n",
       "</table>\n",
       "</div>"
      ],
      "text/plain": [
       "    Year Country or region  Score  GDP per capita  Social support  \\\n",
       "0   2024           Finland  7.736           1.749           1.783   \n",
       "13  2024           Denmark  7.521           1.825           1.748   \n",
       "26  2024           Iceland  7.515           1.799           1.840   \n",
       "45  2024            Sweden  7.345           1.783           1.698   \n",
       "58  2024       Netherlands  7.306           1.822           1.667   \n",
       "\n",
       "    Freedom to make life choices  Generosity  Perceptions of corruption  \n",
       "0                          0.986       0.110                      0.502  \n",
       "13                         0.955       0.150                      0.488  \n",
       "26                         0.971       0.201                      0.173  \n",
       "45                         0.952       0.170                      0.467  \n",
       "58                         0.860       0.186                      0.344  "
      ]
     },
     "execution_count": 387,
     "metadata": {},
     "output_type": "execute_result"
    }
   ],
   "source": [
    "df_2024.rename(columns={'Explained by: Social support': 'Social support'}, inplace=True)\n",
    "df_2024.head()"
   ]
  },
  {
   "cell_type": "code",
   "execution_count": 388,
   "metadata": {},
   "outputs": [
    {
     "data": {
      "text/html": [
       "<div>\n",
       "<style scoped>\n",
       "    .dataframe tbody tr th:only-of-type {\n",
       "        vertical-align: middle;\n",
       "    }\n",
       "\n",
       "    .dataframe tbody tr th {\n",
       "        vertical-align: top;\n",
       "    }\n",
       "\n",
       "    .dataframe thead th {\n",
       "        text-align: right;\n",
       "    }\n",
       "</style>\n",
       "<table border=\"1\" class=\"dataframe\">\n",
       "  <thead>\n",
       "    <tr style=\"text-align: right;\">\n",
       "      <th></th>\n",
       "      <th>Year</th>\n",
       "      <th>Country or region</th>\n",
       "      <th>Score</th>\n",
       "      <th>GDP per capita</th>\n",
       "      <th>Social support</th>\n",
       "      <th>Freedom to make life choices</th>\n",
       "      <th>Generosity</th>\n",
       "      <th>Perceptions of corruption</th>\n",
       "    </tr>\n",
       "  </thead>\n",
       "  <tbody>\n",
       "    <tr>\n",
       "      <th>0</th>\n",
       "      <td>2024</td>\n",
       "      <td>Finland</td>\n",
       "      <td>7.736</td>\n",
       "      <td>1.749</td>\n",
       "      <td>1.783</td>\n",
       "      <td>0.986</td>\n",
       "      <td>0.110</td>\n",
       "      <td>0.502</td>\n",
       "    </tr>\n",
       "    <tr>\n",
       "      <th>13</th>\n",
       "      <td>2024</td>\n",
       "      <td>Denmark</td>\n",
       "      <td>7.521</td>\n",
       "      <td>1.825</td>\n",
       "      <td>1.748</td>\n",
       "      <td>0.955</td>\n",
       "      <td>0.150</td>\n",
       "      <td>0.488</td>\n",
       "    </tr>\n",
       "    <tr>\n",
       "      <th>26</th>\n",
       "      <td>2024</td>\n",
       "      <td>Iceland</td>\n",
       "      <td>7.515</td>\n",
       "      <td>1.799</td>\n",
       "      <td>1.840</td>\n",
       "      <td>0.971</td>\n",
       "      <td>0.201</td>\n",
       "      <td>0.173</td>\n",
       "    </tr>\n",
       "    <tr>\n",
       "      <th>45</th>\n",
       "      <td>2024</td>\n",
       "      <td>Sweden</td>\n",
       "      <td>7.345</td>\n",
       "      <td>1.783</td>\n",
       "      <td>1.698</td>\n",
       "      <td>0.952</td>\n",
       "      <td>0.170</td>\n",
       "      <td>0.467</td>\n",
       "    </tr>\n",
       "    <tr>\n",
       "      <th>58</th>\n",
       "      <td>2024</td>\n",
       "      <td>Netherlands</td>\n",
       "      <td>7.306</td>\n",
       "      <td>1.822</td>\n",
       "      <td>1.667</td>\n",
       "      <td>0.860</td>\n",
       "      <td>0.186</td>\n",
       "      <td>0.344</td>\n",
       "    </tr>\n",
       "  </tbody>\n",
       "</table>\n",
       "</div>"
      ],
      "text/plain": [
       "    Year Country or region  Score  GDP per capita  Social support  \\\n",
       "0   2024           Finland  7.736           1.749           1.783   \n",
       "13  2024           Denmark  7.521           1.825           1.748   \n",
       "26  2024           Iceland  7.515           1.799           1.840   \n",
       "45  2024            Sweden  7.345           1.783           1.698   \n",
       "58  2024       Netherlands  7.306           1.822           1.667   \n",
       "\n",
       "    Freedom to make life choices  Generosity  Perceptions of corruption  \n",
       "0                          0.986       0.110                      0.502  \n",
       "13                         0.955       0.150                      0.488  \n",
       "26                         0.971       0.201                      0.173  \n",
       "45                         0.952       0.170                      0.467  \n",
       "58                         0.860       0.186                      0.344  "
      ]
     },
     "execution_count": 388,
     "metadata": {},
     "output_type": "execute_result"
    }
   ],
   "source": [
    "df_2024.rename(columns={'Explained by: Generosity': 'Generosity'}, inplace=True)\n",
    "df_2024.head()"
   ]
  },
  {
   "cell_type": "code",
   "execution_count": 389,
   "metadata": {},
   "outputs": [
    {
     "data": {
      "text/html": [
       "<div>\n",
       "<style scoped>\n",
       "    .dataframe tbody tr th:only-of-type {\n",
       "        vertical-align: middle;\n",
       "    }\n",
       "\n",
       "    .dataframe tbody tr th {\n",
       "        vertical-align: top;\n",
       "    }\n",
       "\n",
       "    .dataframe thead th {\n",
       "        text-align: right;\n",
       "    }\n",
       "</style>\n",
       "<table border=\"1\" class=\"dataframe\">\n",
       "  <thead>\n",
       "    <tr style=\"text-align: right;\">\n",
       "      <th></th>\n",
       "      <th>Year</th>\n",
       "      <th>Country or region</th>\n",
       "      <th>Score</th>\n",
       "      <th>GDP per capita</th>\n",
       "      <th>Social support</th>\n",
       "      <th>Freedom to make life choices</th>\n",
       "      <th>Generosity</th>\n",
       "      <th>Perceptions of corruption</th>\n",
       "    </tr>\n",
       "  </thead>\n",
       "  <tbody>\n",
       "    <tr>\n",
       "      <th>0</th>\n",
       "      <td>2024</td>\n",
       "      <td>Finland</td>\n",
       "      <td>7.736</td>\n",
       "      <td>1.749</td>\n",
       "      <td>1.783</td>\n",
       "      <td>0.986</td>\n",
       "      <td>0.110</td>\n",
       "      <td>0.502</td>\n",
       "    </tr>\n",
       "    <tr>\n",
       "      <th>13</th>\n",
       "      <td>2024</td>\n",
       "      <td>Denmark</td>\n",
       "      <td>7.521</td>\n",
       "      <td>1.825</td>\n",
       "      <td>1.748</td>\n",
       "      <td>0.955</td>\n",
       "      <td>0.150</td>\n",
       "      <td>0.488</td>\n",
       "    </tr>\n",
       "    <tr>\n",
       "      <th>26</th>\n",
       "      <td>2024</td>\n",
       "      <td>Iceland</td>\n",
       "      <td>7.515</td>\n",
       "      <td>1.799</td>\n",
       "      <td>1.840</td>\n",
       "      <td>0.971</td>\n",
       "      <td>0.201</td>\n",
       "      <td>0.173</td>\n",
       "    </tr>\n",
       "    <tr>\n",
       "      <th>45</th>\n",
       "      <td>2024</td>\n",
       "      <td>Sweden</td>\n",
       "      <td>7.345</td>\n",
       "      <td>1.783</td>\n",
       "      <td>1.698</td>\n",
       "      <td>0.952</td>\n",
       "      <td>0.170</td>\n",
       "      <td>0.467</td>\n",
       "    </tr>\n",
       "    <tr>\n",
       "      <th>58</th>\n",
       "      <td>2024</td>\n",
       "      <td>Netherlands</td>\n",
       "      <td>7.306</td>\n",
       "      <td>1.822</td>\n",
       "      <td>1.667</td>\n",
       "      <td>0.860</td>\n",
       "      <td>0.186</td>\n",
       "      <td>0.344</td>\n",
       "    </tr>\n",
       "  </tbody>\n",
       "</table>\n",
       "</div>"
      ],
      "text/plain": [
       "    Year Country or region  Score  GDP per capita  Social support  \\\n",
       "0   2024           Finland  7.736           1.749           1.783   \n",
       "13  2024           Denmark  7.521           1.825           1.748   \n",
       "26  2024           Iceland  7.515           1.799           1.840   \n",
       "45  2024            Sweden  7.345           1.783           1.698   \n",
       "58  2024       Netherlands  7.306           1.822           1.667   \n",
       "\n",
       "    Freedom to make life choices  Generosity  Perceptions of corruption  \n",
       "0                          0.986       0.110                      0.502  \n",
       "13                         0.955       0.150                      0.488  \n",
       "26                         0.971       0.201                      0.173  \n",
       "45                         0.952       0.170                      0.467  \n",
       "58                         0.860       0.186                      0.344  "
      ]
     },
     "execution_count": 389,
     "metadata": {},
     "output_type": "execute_result"
    }
   ],
   "source": [
    "df_2024.rename(columns={'Explained by: Freedom to make life choices': 'Freedom to make life choices'}, inplace=True)\n",
    "df_2024.head()"
   ]
  },
  {
   "cell_type": "code",
   "execution_count": 390,
   "metadata": {},
   "outputs": [
    {
     "name": "stdout",
     "output_type": "stream",
     "text": [
      "<class 'pandas.core.frame.DataFrame'>\n",
      "Index: 147 entries, 0 to 1956\n",
      "Data columns (total 8 columns):\n",
      " #   Column                        Non-Null Count  Dtype  \n",
      "---  ------                        --------------  -----  \n",
      " 0   Year                          147 non-null    int64  \n",
      " 1   Country or region             147 non-null    object \n",
      " 2   Score                         147 non-null    float64\n",
      " 3   GDP per capita                147 non-null    float64\n",
      " 4   Social support                147 non-null    float64\n",
      " 5   Freedom to make life choices  146 non-null    float64\n",
      " 6   Generosity                    147 non-null    float64\n",
      " 7   Perceptions of corruption     146 non-null    float64\n",
      "dtypes: float64(6), int64(1), object(1)\n",
      "memory usage: 10.3+ KB\n"
     ]
    }
   ],
   "source": [
    "df_2024.info()"
   ]
  },
  {
   "cell_type": "code",
   "execution_count": 391,
   "metadata": {},
   "outputs": [
    {
     "data": {
      "text/html": [
       "<div>\n",
       "<style scoped>\n",
       "    .dataframe tbody tr th:only-of-type {\n",
       "        vertical-align: middle;\n",
       "    }\n",
       "\n",
       "    .dataframe tbody tr th {\n",
       "        vertical-align: top;\n",
       "    }\n",
       "\n",
       "    .dataframe thead th {\n",
       "        text-align: right;\n",
       "    }\n",
       "</style>\n",
       "<table border=\"1\" class=\"dataframe\">\n",
       "  <thead>\n",
       "    <tr style=\"text-align: right;\">\n",
       "      <th></th>\n",
       "      <th>Year</th>\n",
       "      <th>Country or region</th>\n",
       "      <th>Score</th>\n",
       "      <th>GDP per capita</th>\n",
       "      <th>Social support</th>\n",
       "      <th>Freedom to make life choices</th>\n",
       "      <th>Generosity</th>\n",
       "      <th>Perceptions of corruption</th>\n",
       "    </tr>\n",
       "  </thead>\n",
       "  <tbody>\n",
       "    <tr>\n",
       "      <th>0</th>\n",
       "      <td>2024</td>\n",
       "      <td>Finland</td>\n",
       "      <td>7.736</td>\n",
       "      <td>1.749</td>\n",
       "      <td>1.783</td>\n",
       "      <td>0.986</td>\n",
       "      <td>0.110</td>\n",
       "      <td>0.502</td>\n",
       "    </tr>\n",
       "    <tr>\n",
       "      <th>13</th>\n",
       "      <td>2024</td>\n",
       "      <td>Denmark</td>\n",
       "      <td>7.521</td>\n",
       "      <td>1.825</td>\n",
       "      <td>1.748</td>\n",
       "      <td>0.955</td>\n",
       "      <td>0.150</td>\n",
       "      <td>0.488</td>\n",
       "    </tr>\n",
       "    <tr>\n",
       "      <th>26</th>\n",
       "      <td>2024</td>\n",
       "      <td>Iceland</td>\n",
       "      <td>7.515</td>\n",
       "      <td>1.799</td>\n",
       "      <td>1.840</td>\n",
       "      <td>0.971</td>\n",
       "      <td>0.201</td>\n",
       "      <td>0.173</td>\n",
       "    </tr>\n",
       "    <tr>\n",
       "      <th>45</th>\n",
       "      <td>2024</td>\n",
       "      <td>Sweden</td>\n",
       "      <td>7.345</td>\n",
       "      <td>1.783</td>\n",
       "      <td>1.698</td>\n",
       "      <td>0.952</td>\n",
       "      <td>0.170</td>\n",
       "      <td>0.467</td>\n",
       "    </tr>\n",
       "    <tr>\n",
       "      <th>58</th>\n",
       "      <td>2024</td>\n",
       "      <td>Netherlands</td>\n",
       "      <td>7.306</td>\n",
       "      <td>1.822</td>\n",
       "      <td>1.667</td>\n",
       "      <td>0.860</td>\n",
       "      <td>0.186</td>\n",
       "      <td>0.344</td>\n",
       "    </tr>\n",
       "  </tbody>\n",
       "</table>\n",
       "</div>"
      ],
      "text/plain": [
       "    Year Country or region  Score  GDP per capita  Social support  \\\n",
       "0   2024           Finland  7.736           1.749           1.783   \n",
       "13  2024           Denmark  7.521           1.825           1.748   \n",
       "26  2024           Iceland  7.515           1.799           1.840   \n",
       "45  2024            Sweden  7.345           1.783           1.698   \n",
       "58  2024       Netherlands  7.306           1.822           1.667   \n",
       "\n",
       "    Freedom to make life choices  Generosity  Perceptions of corruption  \n",
       "0                          0.986       0.110                      0.502  \n",
       "13                         0.955       0.150                      0.488  \n",
       "26                         0.971       0.201                      0.173  \n",
       "45                         0.952       0.170                      0.467  \n",
       "58                         0.860       0.186                      0.344  "
      ]
     },
     "execution_count": 391,
     "metadata": {},
     "output_type": "execute_result"
    }
   ],
   "source": [
    "df_2024.head()"
   ]
  },
  {
   "cell_type": "code",
   "execution_count": 392,
   "metadata": {},
   "outputs": [
    {
     "data": {
      "text/plain": [
       "Index(['Country or region', 'Score', 'GDP per capita', 'Social support',\n",
       "       'Freedom to make life choices', 'Generosity',\n",
       "       'Perceptions of corruption', 'Year'],\n",
       "      dtype='object')"
      ]
     },
     "execution_count": 392,
     "metadata": {},
     "output_type": "execute_result"
    }
   ],
   "source": [
    "df_2018.columns"
   ]
  },
  {
   "cell_type": "code",
   "execution_count": 393,
   "metadata": {},
   "outputs": [
    {
     "data": {
      "text/plain": [
       "Index(['Year', 'Country or region', 'Score', 'GDP per capita',\n",
       "       'Social support', 'Freedom to make life choices', 'Generosity',\n",
       "       'Perceptions of corruption'],\n",
       "      dtype='object')"
      ]
     },
     "execution_count": 393,
     "metadata": {},
     "output_type": "execute_result"
    }
   ],
   "source": [
    "df_2024.columns"
   ]
  },
  {
   "cell_type": "code",
   "execution_count": 394,
   "metadata": {},
   "outputs": [],
   "source": [
    "new_order = ['Country or region', 'Score', 'GDP per capita', 'Social support',\n",
    "       'Freedom to make life choices', 'Generosity',\n",
    "       'Perceptions of corruption', 'Year']"
   ]
  },
  {
   "cell_type": "code",
   "execution_count": 395,
   "metadata": {},
   "outputs": [],
   "source": [
    "df_2024_reordered = df_2024[new_order]"
   ]
  },
  {
   "cell_type": "code",
   "execution_count": 396,
   "metadata": {},
   "outputs": [
    {
     "data": {
      "text/html": [
       "<div>\n",
       "<style scoped>\n",
       "    .dataframe tbody tr th:only-of-type {\n",
       "        vertical-align: middle;\n",
       "    }\n",
       "\n",
       "    .dataframe tbody tr th {\n",
       "        vertical-align: top;\n",
       "    }\n",
       "\n",
       "    .dataframe thead th {\n",
       "        text-align: right;\n",
       "    }\n",
       "</style>\n",
       "<table border=\"1\" class=\"dataframe\">\n",
       "  <thead>\n",
       "    <tr style=\"text-align: right;\">\n",
       "      <th></th>\n",
       "      <th>Country or region</th>\n",
       "      <th>Score</th>\n",
       "      <th>GDP per capita</th>\n",
       "      <th>Social support</th>\n",
       "      <th>Freedom to make life choices</th>\n",
       "      <th>Generosity</th>\n",
       "      <th>Perceptions of corruption</th>\n",
       "      <th>Year</th>\n",
       "    </tr>\n",
       "  </thead>\n",
       "  <tbody>\n",
       "    <tr>\n",
       "      <th>0</th>\n",
       "      <td>Finland</td>\n",
       "      <td>7.736</td>\n",
       "      <td>1.749</td>\n",
       "      <td>1.783</td>\n",
       "      <td>0.986</td>\n",
       "      <td>0.110</td>\n",
       "      <td>0.502</td>\n",
       "      <td>2024</td>\n",
       "    </tr>\n",
       "    <tr>\n",
       "      <th>13</th>\n",
       "      <td>Denmark</td>\n",
       "      <td>7.521</td>\n",
       "      <td>1.825</td>\n",
       "      <td>1.748</td>\n",
       "      <td>0.955</td>\n",
       "      <td>0.150</td>\n",
       "      <td>0.488</td>\n",
       "      <td>2024</td>\n",
       "    </tr>\n",
       "    <tr>\n",
       "      <th>26</th>\n",
       "      <td>Iceland</td>\n",
       "      <td>7.515</td>\n",
       "      <td>1.799</td>\n",
       "      <td>1.840</td>\n",
       "      <td>0.971</td>\n",
       "      <td>0.201</td>\n",
       "      <td>0.173</td>\n",
       "      <td>2024</td>\n",
       "    </tr>\n",
       "    <tr>\n",
       "      <th>45</th>\n",
       "      <td>Sweden</td>\n",
       "      <td>7.345</td>\n",
       "      <td>1.783</td>\n",
       "      <td>1.698</td>\n",
       "      <td>0.952</td>\n",
       "      <td>0.170</td>\n",
       "      <td>0.467</td>\n",
       "      <td>2024</td>\n",
       "    </tr>\n",
       "    <tr>\n",
       "      <th>58</th>\n",
       "      <td>Netherlands</td>\n",
       "      <td>7.306</td>\n",
       "      <td>1.822</td>\n",
       "      <td>1.667</td>\n",
       "      <td>0.860</td>\n",
       "      <td>0.186</td>\n",
       "      <td>0.344</td>\n",
       "      <td>2024</td>\n",
       "    </tr>\n",
       "  </tbody>\n",
       "</table>\n",
       "</div>"
      ],
      "text/plain": [
       "   Country or region  Score  GDP per capita  Social support  \\\n",
       "0            Finland  7.736           1.749           1.783   \n",
       "13           Denmark  7.521           1.825           1.748   \n",
       "26           Iceland  7.515           1.799           1.840   \n",
       "45            Sweden  7.345           1.783           1.698   \n",
       "58       Netherlands  7.306           1.822           1.667   \n",
       "\n",
       "    Freedom to make life choices  Generosity  Perceptions of corruption  Year  \n",
       "0                          0.986       0.110                      0.502  2024  \n",
       "13                         0.955       0.150                      0.488  2024  \n",
       "26                         0.971       0.201                      0.173  2024  \n",
       "45                         0.952       0.170                      0.467  2024  \n",
       "58                         0.860       0.186                      0.344  2024  "
      ]
     },
     "execution_count": 396,
     "metadata": {},
     "output_type": "execute_result"
    }
   ],
   "source": [
    "df_2024=df_2024_reordered\n",
    "df_2024.head()"
   ]
  },
  {
   "cell_type": "code",
   "execution_count": 397,
   "metadata": {
    "executionInfo": {
     "elapsed": 8,
     "status": "ok",
     "timestamp": 1756733836678,
     "user": {
      "displayName": "Wiktoria Gołębiewska",
      "userId": "05863011323994705695"
     },
     "user_tz": -120
    },
    "id": "t_3wb1CigPIO"
   },
   "outputs": [],
   "source": [
    "numeric_only_2024=df_2024.select_dtypes(include='number')"
   ]
  },
  {
   "cell_type": "code",
   "execution_count": 398,
   "metadata": {},
   "outputs": [],
   "source": [
    "numeric_only_2018=df_2018.select_dtypes(include='number')"
   ]
  },
  {
   "cell_type": "code",
   "execution_count": 399,
   "metadata": {
    "colab": {
     "base_uri": "https://localhost:8080/",
     "height": 300
    },
    "executionInfo": {
     "elapsed": 20,
     "status": "ok",
     "timestamp": 1756733836697,
     "user": {
      "displayName": "Wiktoria Gołębiewska",
      "userId": "05863011323994705695"
     },
     "user_tz": -120
    },
    "id": "j_ZIXhAwgPIO",
    "outputId": "ec0d0d26-3e54-4ac5-dbb3-bfa396fa060a"
   },
   "outputs": [
    {
     "data": {
      "text/html": [
       "<div>\n",
       "<style scoped>\n",
       "    .dataframe tbody tr th:only-of-type {\n",
       "        vertical-align: middle;\n",
       "    }\n",
       "\n",
       "    .dataframe tbody tr th {\n",
       "        vertical-align: top;\n",
       "    }\n",
       "\n",
       "    .dataframe thead th {\n",
       "        text-align: right;\n",
       "    }\n",
       "</style>\n",
       "<table border=\"1\" class=\"dataframe\">\n",
       "  <thead>\n",
       "    <tr style=\"text-align: right;\">\n",
       "      <th></th>\n",
       "      <th>Score</th>\n",
       "      <th>GDP per capita</th>\n",
       "      <th>Social support</th>\n",
       "      <th>Freedom to make life choices</th>\n",
       "      <th>Generosity</th>\n",
       "      <th>Perceptions of corruption</th>\n",
       "      <th>Year</th>\n",
       "    </tr>\n",
       "  </thead>\n",
       "  <tbody>\n",
       "    <tr>\n",
       "      <th>Score</th>\n",
       "      <td>1.000000</td>\n",
       "      <td>0.763269</td>\n",
       "      <td>0.812122</td>\n",
       "      <td>0.634400</td>\n",
       "      <td>0.054351</td>\n",
       "      <td>0.412457</td>\n",
       "      <td>NaN</td>\n",
       "    </tr>\n",
       "    <tr>\n",
       "      <th>GDP per capita</th>\n",
       "      <td>0.763269</td>\n",
       "      <td>1.000000</td>\n",
       "      <td>0.709762</td>\n",
       "      <td>0.381369</td>\n",
       "      <td>-0.072993</td>\n",
       "      <td>0.384901</td>\n",
       "      <td>NaN</td>\n",
       "    </tr>\n",
       "    <tr>\n",
       "      <th>Social support</th>\n",
       "      <td>0.812122</td>\n",
       "      <td>0.709762</td>\n",
       "      <td>1.000000</td>\n",
       "      <td>0.448095</td>\n",
       "      <td>0.004289</td>\n",
       "      <td>0.217215</td>\n",
       "      <td>NaN</td>\n",
       "    </tr>\n",
       "    <tr>\n",
       "      <th>Freedom to make life choices</th>\n",
       "      <td>0.634400</td>\n",
       "      <td>0.381369</td>\n",
       "      <td>0.448095</td>\n",
       "      <td>1.000000</td>\n",
       "      <td>0.187788</td>\n",
       "      <td>0.314872</td>\n",
       "      <td>NaN</td>\n",
       "    </tr>\n",
       "    <tr>\n",
       "      <th>Generosity</th>\n",
       "      <td>0.054351</td>\n",
       "      <td>-0.072993</td>\n",
       "      <td>0.004289</td>\n",
       "      <td>0.187788</td>\n",
       "      <td>1.000000</td>\n",
       "      <td>0.192828</td>\n",
       "      <td>NaN</td>\n",
       "    </tr>\n",
       "    <tr>\n",
       "      <th>Perceptions of corruption</th>\n",
       "      <td>0.412457</td>\n",
       "      <td>0.384901</td>\n",
       "      <td>0.217215</td>\n",
       "      <td>0.314872</td>\n",
       "      <td>0.192828</td>\n",
       "      <td>1.000000</td>\n",
       "      <td>NaN</td>\n",
       "    </tr>\n",
       "    <tr>\n",
       "      <th>Year</th>\n",
       "      <td>NaN</td>\n",
       "      <td>NaN</td>\n",
       "      <td>NaN</td>\n",
       "      <td>NaN</td>\n",
       "      <td>NaN</td>\n",
       "      <td>NaN</td>\n",
       "      <td>NaN</td>\n",
       "    </tr>\n",
       "  </tbody>\n",
       "</table>\n",
       "</div>"
      ],
      "text/plain": [
       "                                 Score  GDP per capita  Social support  \\\n",
       "Score                         1.000000        0.763269        0.812122   \n",
       "GDP per capita                0.763269        1.000000        0.709762   \n",
       "Social support                0.812122        0.709762        1.000000   \n",
       "Freedom to make life choices  0.634400        0.381369        0.448095   \n",
       "Generosity                    0.054351       -0.072993        0.004289   \n",
       "Perceptions of corruption     0.412457        0.384901        0.217215   \n",
       "Year                               NaN             NaN             NaN   \n",
       "\n",
       "                              Freedom to make life choices  Generosity  \\\n",
       "Score                                             0.634400    0.054351   \n",
       "GDP per capita                                    0.381369   -0.072993   \n",
       "Social support                                    0.448095    0.004289   \n",
       "Freedom to make life choices                      1.000000    0.187788   \n",
       "Generosity                                        0.187788    1.000000   \n",
       "Perceptions of corruption                         0.314872    0.192828   \n",
       "Year                                                   NaN         NaN   \n",
       "\n",
       "                              Perceptions of corruption  Year  \n",
       "Score                                          0.412457   NaN  \n",
       "GDP per capita                                 0.384901   NaN  \n",
       "Social support                                 0.217215   NaN  \n",
       "Freedom to make life choices                   0.314872   NaN  \n",
       "Generosity                                     0.192828   NaN  \n",
       "Perceptions of corruption                      1.000000   NaN  \n",
       "Year                                                NaN   NaN  "
      ]
     },
     "execution_count": 399,
     "metadata": {},
     "output_type": "execute_result"
    }
   ],
   "source": [
    "df_2024_corr=numeric_only_2024.corr()\n",
    "df_2024_corr"
   ]
  },
  {
   "cell_type": "code",
   "execution_count": 400,
   "metadata": {},
   "outputs": [
    {
     "data": {
      "text/html": [
       "<div>\n",
       "<style scoped>\n",
       "    .dataframe tbody tr th:only-of-type {\n",
       "        vertical-align: middle;\n",
       "    }\n",
       "\n",
       "    .dataframe tbody tr th {\n",
       "        vertical-align: top;\n",
       "    }\n",
       "\n",
       "    .dataframe thead th {\n",
       "        text-align: right;\n",
       "    }\n",
       "</style>\n",
       "<table border=\"1\" class=\"dataframe\">\n",
       "  <thead>\n",
       "    <tr style=\"text-align: right;\">\n",
       "      <th></th>\n",
       "      <th>Score</th>\n",
       "      <th>GDP per capita</th>\n",
       "      <th>Social support</th>\n",
       "      <th>Freedom to make life choices</th>\n",
       "      <th>Generosity</th>\n",
       "      <th>Perceptions of corruption</th>\n",
       "      <th>Year</th>\n",
       "    </tr>\n",
       "  </thead>\n",
       "  <tbody>\n",
       "    <tr>\n",
       "      <th>Score</th>\n",
       "      <td>1.000000</td>\n",
       "      <td>0.802124</td>\n",
       "      <td>0.745760</td>\n",
       "      <td>0.544280</td>\n",
       "      <td>0.135825</td>\n",
       "      <td>0.403175</td>\n",
       "      <td>NaN</td>\n",
       "    </tr>\n",
       "    <tr>\n",
       "      <th>GDP per capita</th>\n",
       "      <td>0.802124</td>\n",
       "      <td>1.000000</td>\n",
       "      <td>0.672080</td>\n",
       "      <td>0.332275</td>\n",
       "      <td>-0.011241</td>\n",
       "      <td>0.309481</td>\n",
       "      <td>NaN</td>\n",
       "    </tr>\n",
       "    <tr>\n",
       "      <th>Social support</th>\n",
       "      <td>0.745760</td>\n",
       "      <td>0.672080</td>\n",
       "      <td>1.000000</td>\n",
       "      <td>0.411087</td>\n",
       "      <td>0.018226</td>\n",
       "      <td>0.216945</td>\n",
       "      <td>NaN</td>\n",
       "    </tr>\n",
       "    <tr>\n",
       "      <th>Freedom to make life choices</th>\n",
       "      <td>0.544280</td>\n",
       "      <td>0.332275</td>\n",
       "      <td>0.411087</td>\n",
       "      <td>1.000000</td>\n",
       "      <td>0.297988</td>\n",
       "      <td>0.460837</td>\n",
       "      <td>NaN</td>\n",
       "    </tr>\n",
       "    <tr>\n",
       "      <th>Generosity</th>\n",
       "      <td>0.135825</td>\n",
       "      <td>-0.011241</td>\n",
       "      <td>0.018226</td>\n",
       "      <td>0.297988</td>\n",
       "      <td>1.000000</td>\n",
       "      <td>0.362243</td>\n",
       "      <td>NaN</td>\n",
       "    </tr>\n",
       "    <tr>\n",
       "      <th>Perceptions of corruption</th>\n",
       "      <td>0.403175</td>\n",
       "      <td>0.309481</td>\n",
       "      <td>0.216945</td>\n",
       "      <td>0.460837</td>\n",
       "      <td>0.362243</td>\n",
       "      <td>1.000000</td>\n",
       "      <td>NaN</td>\n",
       "    </tr>\n",
       "    <tr>\n",
       "      <th>Year</th>\n",
       "      <td>NaN</td>\n",
       "      <td>NaN</td>\n",
       "      <td>NaN</td>\n",
       "      <td>NaN</td>\n",
       "      <td>NaN</td>\n",
       "      <td>NaN</td>\n",
       "      <td>NaN</td>\n",
       "    </tr>\n",
       "  </tbody>\n",
       "</table>\n",
       "</div>"
      ],
      "text/plain": [
       "                                 Score  GDP per capita  Social support  \\\n",
       "Score                         1.000000        0.802124        0.745760   \n",
       "GDP per capita                0.802124        1.000000        0.672080   \n",
       "Social support                0.745760        0.672080        1.000000   \n",
       "Freedom to make life choices  0.544280        0.332275        0.411087   \n",
       "Generosity                    0.135825       -0.011241        0.018226   \n",
       "Perceptions of corruption     0.403175        0.309481        0.216945   \n",
       "Year                               NaN             NaN             NaN   \n",
       "\n",
       "                              Freedom to make life choices  Generosity  \\\n",
       "Score                                             0.544280    0.135825   \n",
       "GDP per capita                                    0.332275   -0.011241   \n",
       "Social support                                    0.411087    0.018226   \n",
       "Freedom to make life choices                      1.000000    0.297988   \n",
       "Generosity                                        0.297988    1.000000   \n",
       "Perceptions of corruption                         0.460837    0.362243   \n",
       "Year                                                   NaN         NaN   \n",
       "\n",
       "                              Perceptions of corruption  Year  \n",
       "Score                                          0.403175   NaN  \n",
       "GDP per capita                                 0.309481   NaN  \n",
       "Social support                                 0.216945   NaN  \n",
       "Freedom to make life choices                   0.460837   NaN  \n",
       "Generosity                                     0.362243   NaN  \n",
       "Perceptions of corruption                      1.000000   NaN  \n",
       "Year                                                NaN   NaN  "
      ]
     },
     "execution_count": 400,
     "metadata": {},
     "output_type": "execute_result"
    }
   ],
   "source": [
    "df_2018_corr=numeric_only_2018.corr()\n",
    "df_2018_corr"
   ]
  },
  {
   "cell_type": "code",
   "execution_count": 401,
   "metadata": {},
   "outputs": [],
   "source": [
    "list_happy_2018=list(df_2018.sort_values(by='Score', ascending=False).head(52)['Country or region'])"
   ]
  },
  {
   "cell_type": "code",
   "execution_count": 402,
   "metadata": {},
   "outputs": [],
   "source": [
    "list_happy_2024=list(df_2024.sort_values(by='Score', ascending=False).head(52)['Country or region'])"
   ]
  },
  {
   "cell_type": "code",
   "execution_count": 403,
   "metadata": {},
   "outputs": [],
   "source": [
    "list_sad_2018=list(df_2018.sort_values(by='Score', ascending=False).tail(52)['Country or region'])"
   ]
  },
  {
   "cell_type": "code",
   "execution_count": 404,
   "metadata": {},
   "outputs": [],
   "source": [
    "list_sad_2024=list(df_2024.sort_values(by='Score', ascending=False).tail(52)['Country or region'])"
   ]
  },
  {
   "cell_type": "code",
   "execution_count": 405,
   "metadata": {},
   "outputs": [],
   "source": [
    "list_middle_2018=list(df_2018[(df_2018['Score']<5.945)&(df_2018['Score']>4.724)].sort_values(by='Score', ascending= False)['Country or region'])"
   ]
  },
  {
   "cell_type": "code",
   "execution_count": 406,
   "metadata": {},
   "outputs": [],
   "source": [
    "list_middle_2024=list(df_2024[(df_2024['Score']<6.197)&(df_2024['Score']>5.190)].sort_values(by='Score', ascending= False)['Country or region'])"
   ]
  },
  {
   "cell_type": "code",
   "execution_count": 407,
   "metadata": {},
   "outputs": [],
   "source": [
    "def assign_group(country):\n",
    "    if country in list_happy_2018:\n",
    "        return 'High score of happiness'\n",
    "    elif country in list_sad_2018:\n",
    "        return 'Low score of happiness'\n",
    "    else:\n",
    "        return 'Middle score of happiness'\n",
    "\n",
    "df_2018['Group'] = df_2018['Country or region'].apply(assign_group)"
   ]
  },
  {
   "cell_type": "code",
   "execution_count": 408,
   "metadata": {},
   "outputs": [],
   "source": [
    "def assign_group(country):\n",
    "    if country in list_happy_2024:\n",
    "        return 'High score of happiness'\n",
    "    elif country in list_sad_2024:\n",
    "        return 'Low score of happiness'\n",
    "    else:\n",
    "        return 'Middle score of happiness'\n",
    "\n",
    "df_2024['Group'] = df_2024['Country or region'].apply(assign_group)"
   ]
  },
  {
   "cell_type": "code",
   "execution_count": 409,
   "metadata": {},
   "outputs": [],
   "source": [
    "happiest_countries_2018=df_2018.sort_values(by='Score', ascending=False).head(52)"
   ]
  },
  {
   "cell_type": "code",
   "execution_count": 410,
   "metadata": {
    "colab": {
     "base_uri": "https://localhost:8080/",
     "height": 677
    },
    "executionInfo": {
     "elapsed": 12,
     "status": "ok",
     "timestamp": 1756733836709,
     "user": {
      "displayName": "Wiktoria Gołębiewska",
      "userId": "05863011323994705695"
     },
     "user_tz": -120
    },
    "id": "OomcY8azgPIO",
    "outputId": "7a3e1a92-919f-49c6-f149-9d88d188536c"
   },
   "outputs": [],
   "source": [
    "happiest_countries_2024=df_2024.sort_values(by='Score', ascending=False).head(52)"
   ]
  },
  {
   "cell_type": "code",
   "execution_count": 411,
   "metadata": {},
   "outputs": [],
   "source": [
    "saddest_countries_2018=df_2018.sort_values(by='Score', ascending=False).tail(52)"
   ]
  },
  {
   "cell_type": "code",
   "execution_count": 412,
   "metadata": {
    "colab": {
     "base_uri": "https://localhost:8080/",
     "height": 677
    },
    "executionInfo": {
     "elapsed": 20,
     "status": "ok",
     "timestamp": 1756733836731,
     "user": {
      "displayName": "Wiktoria Gołębiewska",
      "userId": "05863011323994705695"
     },
     "user_tz": -120
    },
    "id": "H_hbx_whgPIO",
    "outputId": "cda0a4bd-caa8-449f-a85c-51386c95863d"
   },
   "outputs": [],
   "source": [
    "saddest_countries_2024=df_2024.sort_values(by='Score', ascending=False).tail(52)"
   ]
  },
  {
   "cell_type": "code",
   "execution_count": 413,
   "metadata": {},
   "outputs": [],
   "source": [
    "middle_countries_2018=df_2018[(df_2018['Score']<5.945)&(df_2018['Score']>4.724)].sort_values(by='Score', ascending= False)"
   ]
  },
  {
   "cell_type": "code",
   "execution_count": 414,
   "metadata": {},
   "outputs": [
    {
     "data": {
      "text/html": [
       "<div>\n",
       "<style scoped>\n",
       "    .dataframe tbody tr th:only-of-type {\n",
       "        vertical-align: middle;\n",
       "    }\n",
       "\n",
       "    .dataframe tbody tr th {\n",
       "        vertical-align: top;\n",
       "    }\n",
       "\n",
       "    .dataframe thead th {\n",
       "        text-align: right;\n",
       "    }\n",
       "</style>\n",
       "<table border=\"1\" class=\"dataframe\">\n",
       "  <thead>\n",
       "    <tr style=\"text-align: right;\">\n",
       "      <th></th>\n",
       "      <th>Country or region</th>\n",
       "      <th>Score</th>\n",
       "      <th>GDP per capita</th>\n",
       "      <th>Social support</th>\n",
       "      <th>Freedom to make life choices</th>\n",
       "      <th>Generosity</th>\n",
       "      <th>Perceptions of corruption</th>\n",
       "      <th>Year</th>\n",
       "      <th>Group</th>\n",
       "    </tr>\n",
       "  </thead>\n",
       "  <tbody>\n",
       "    <tr>\n",
       "      <th>696</th>\n",
       "      <td>Uzbekistan</td>\n",
       "      <td>6.193</td>\n",
       "      <td>1.179</td>\n",
       "      <td>1.615</td>\n",
       "      <td>0.977</td>\n",
       "      <td>0.195</td>\n",
       "      <td>0.208</td>\n",
       "      <td>2024</td>\n",
       "      <td>Middle score of happiness</td>\n",
       "    </tr>\n",
       "    <tr>\n",
       "      <th>709</th>\n",
       "      <td>Paraguay</td>\n",
       "      <td>6.172</td>\n",
       "      <td>1.329</td>\n",
       "      <td>1.615</td>\n",
       "      <td>0.921</td>\n",
       "      <td>0.097</td>\n",
       "      <td>0.063</td>\n",
       "      <td>2024</td>\n",
       "      <td>Middle score of happiness</td>\n",
       "    </tr>\n",
       "    <tr>\n",
       "      <th>722</th>\n",
       "      <td>Japan</td>\n",
       "      <td>6.147</td>\n",
       "      <td>1.678</td>\n",
       "      <td>1.550</td>\n",
       "      <td>0.746</td>\n",
       "      <td>0.014</td>\n",
       "      <td>0.200</td>\n",
       "      <td>2024</td>\n",
       "      <td>Middle score of happiness</td>\n",
       "    </tr>\n",
       "    <tr>\n",
       "      <th>735</th>\n",
       "      <td>Bosnia and Herzegovina</td>\n",
       "      <td>6.136</td>\n",
       "      <td>1.405</td>\n",
       "      <td>1.545</td>\n",
       "      <td>0.749</td>\n",
       "      <td>0.178</td>\n",
       "      <td>0.009</td>\n",
       "      <td>2024</td>\n",
       "      <td>Middle score of happiness</td>\n",
       "    </tr>\n",
       "    <tr>\n",
       "      <th>748</th>\n",
       "      <td>Philippines</td>\n",
       "      <td>6.107</td>\n",
       "      <td>1.177</td>\n",
       "      <td>1.385</td>\n",
       "      <td>0.966</td>\n",
       "      <td>0.075</td>\n",
       "      <td>0.110</td>\n",
       "      <td>2024</td>\n",
       "      <td>Middle score of happiness</td>\n",
       "    </tr>\n",
       "  </tbody>\n",
       "</table>\n",
       "</div>"
      ],
      "text/plain": [
       "          Country or region  Score  GDP per capita  Social support  \\\n",
       "696              Uzbekistan  6.193           1.179           1.615   \n",
       "709                Paraguay  6.172           1.329           1.615   \n",
       "722                   Japan  6.147           1.678           1.550   \n",
       "735  Bosnia and Herzegovina  6.136           1.405           1.545   \n",
       "748             Philippines  6.107           1.177           1.385   \n",
       "\n",
       "     Freedom to make life choices  Generosity  Perceptions of corruption  \\\n",
       "696                         0.977       0.195                      0.208   \n",
       "709                         0.921       0.097                      0.063   \n",
       "722                         0.746       0.014                      0.200   \n",
       "735                         0.749       0.178                      0.009   \n",
       "748                         0.966       0.075                      0.110   \n",
       "\n",
       "     Year                      Group  \n",
       "696  2024  Middle score of happiness  \n",
       "709  2024  Middle score of happiness  \n",
       "722  2024  Middle score of happiness  \n",
       "735  2024  Middle score of happiness  \n",
       "748  2024  Middle score of happiness  "
      ]
     },
     "execution_count": 414,
     "metadata": {},
     "output_type": "execute_result"
    }
   ],
   "source": [
    "middle_countries_2024=df_2024[(df_2024['Score']<6.197)&(df_2024['Score']>5.190)].sort_values(by='Score', ascending= False)\n",
    "middle_countries_2024.head()"
   ]
  },
  {
   "cell_type": "code",
   "execution_count": 415,
   "metadata": {},
   "outputs": [
    {
     "data": {
      "text/plain": [
       "147"
      ]
     },
     "execution_count": 415,
     "metadata": {},
     "output_type": "execute_result"
    }
   ],
   "source": [
    "len(df_2024)"
   ]
  },
  {
   "cell_type": "code",
   "execution_count": 416,
   "metadata": {},
   "outputs": [
    {
     "data": {
      "text/plain": [
       "52"
      ]
     },
     "execution_count": 416,
     "metadata": {},
     "output_type": "execute_result"
    }
   ],
   "source": [
    "len(list_happy_2024)"
   ]
  },
  {
   "cell_type": "code",
   "execution_count": 417,
   "metadata": {},
   "outputs": [],
   "source": [
    "def assign_group(country):\n",
    "    if country in list_happy_2018:\n",
    "        return 'High score of happiness'\n",
    "    elif country in list_sad_2018:\n",
    "        return 'Low score of happiness'\n",
    "    else:\n",
    "        return 'Middle score of happiness'\n",
    "\n",
    "df_2018['Group'] = df_2018['Country or region'].apply(assign_group)"
   ]
  },
  {
   "cell_type": "code",
   "execution_count": 418,
   "metadata": {},
   "outputs": [
    {
     "data": {
      "text/html": [
       "<html>\n",
       "<head><meta charset=\"utf-8\" /></head>\n",
       "<body>\n",
       "    <div>            <script src=\"https://cdnjs.cloudflare.com/ajax/libs/mathjax/2.7.5/MathJax.js?config=TeX-AMS-MML_SVG\"></script><script type=\"text/javascript\">if (window.MathJax && window.MathJax.Hub && window.MathJax.Hub.Config) {window.MathJax.Hub.Config({SVG: {font: \"STIX-Web\"}});}</script>                <script type=\"text/javascript\">window.PlotlyConfig = {MathJaxConfig: 'local'};</script>\n",
       "        <script charset=\"utf-8\" src=\"https://cdn.plot.ly/plotly-3.1.0.min.js\" integrity=\"sha256-Ei4740bWZhaUTQuD6q9yQlgVCMPBz6CZWhevDYPv93A=\" crossorigin=\"anonymous\"></script>                <div id=\"2a6b09a7-d7d2-417b-a9e2-4c41697db602\" class=\"plotly-graph-div\" style=\"height:525px; width:100%;\"></div>            <script type=\"text/javascript\">                window.PLOTLYENV=window.PLOTLYENV || {};                                if (document.getElementById(\"2a6b09a7-d7d2-417b-a9e2-4c41697db602\")) {                    Plotly.newPlot(                        \"2a6b09a7-d7d2-417b-a9e2-4c41697db602\",                        [{\"colorscale\":[[0.0,\"green\"],[1.0,\"green\"]],\"customdata\":{\"dtype\":\"f8\",\"bdata\":\"vEkMAiuHHkDFSzeJQWAeQLgehetROB5AexSuR+H6HUCmm8QgsPIdQN0kBoGVwx1AG1pkO99PHUCyne+nxksdQKjGSzeJQR1ASgwCK4cWHUDD9Shcj8IcQHSTGARWjhxAfT81XrpJHECcxCCwcugbQFyPwvUo3BtAaZHtfD+1G0CkcD0K16MbQCUGgZVDixtAqMZLN4lBG0B\\u002farx0kxgbQPLSTWIQ2BpAN166SQyCGkDb+X5qvPQZQMHKoUW28xlAgZVDi2znGUDdJAaBlcMZQLgehetRuBlAkxgEVg6tGUBaZDvfT40ZQLxJDAIrhxlAarx0kxiEGUDl0CLb+X4ZQJZDi2znexlArBxaZDtfGUB9PzVeukkZQD0K16NwPRlACtejcD0KGUD4U+Olm8QYQP3UeOkmsRhAYLpJDAKrGECq8dJNYpAYQMmhRbbzfRhA7FG4HoVrGED8qfHSTWIYQKBFtvP9VBhAfT81XrpJGEAAAAAAAAAYQDEIrBxa5BdAbef7qfHSF0ADK4cW2c4XQJhuEoPAyhdASOF6FK7HF0A=\",\"shape\":\"52, 1\"},\"geo\":\"geo\",\"hovertemplate\":\"Group=High score of happiness\\u003cbr\\u003eCountry or region=%{location}\\u003cbr\\u003eScore=%{customdata[0]}\\u003cextra\\u003e\\u003c\\u002fextra\\u003e\",\"locationmode\":\"country names\",\"locations\":[\"Finland\",\"Norway\",\"Denmark\",\"Iceland\",\"Switzerland\",\"Netherlands\",\"Canada\",\"New Zealand\",\"Sweden\",\"Australia\",\"United Kingdom\",\"Austria\",\"Costa Rica\",\"Ireland\",\"Germany\",\"Belgium\",\"Luxembourg\",\"United States\",\"Israel\",\"United Arab Emirates\",\"Czech Republic\",\"Malta\",\"France\",\"Mexico\",\"Chile\",\"Taiwan\",\"Panama\",\"Brazil\",\"Argentina\",\"Guatemala\",\"Uruguay\",\"Qatar\",\"Saudi Arabia\",\"Singapore\",\"Malaysia\",\"Spain\",\"Colombia\",\"Trinidad & Tobago\",\"Slovakia\",\"El Salvador\",\"Nicaragua\",\"Poland\",\"Bahrain\",\"Uzbekistan\",\"Kuwait\",\"Thailand\",\"Italy\",\"Ecuador\",\"Belize\",\"Lithuania\",\"Slovenia\",\"Romania\"],\"name\":\"High score of happiness\",\"showlegend\":true,\"showscale\":false,\"z\":[1,1,1,1,1,1,1,1,1,1,1,1,1,1,1,1,1,1,1,1,1,1,1,1,1,1,1,1,1,1,1,1,1,1,1,1,1,1,1,1,1,1,1,1,1,1,1,1,1,1,1,1],\"type\":\"choropleth\"},{\"colorscale\":[[0.0,\"lightpink\"],[1.0,\"lightpink\"]],\"customdata\":{\"dtype\":\"f8\",\"bdata\":\"CKwcWmS7F0ApXI\\u002fC9agXQKrx0k1ikBdAj8L1KFyPF0AAAAAAAIAXQNejcD0KVxdAPQrXo3A9F0ApXI\\u002fC9SgXQEA1XrpJDBdAN166SQwCF0Db+X5qvPQWQNNNYhBYuRZA8\\u002f3UeOmmFkDazvdT46UWQI\\u002fC9ShcjxZAJQaBlUOLFkB7FK5H4XoWQN0kBoGVQxZAf2q8dJMYFkBqvHSTGAQWQDvfT42X7hVAO99PjZfuFUAX2c73U+MVQLgehetRuBVApHA9CtejFUBkO99PjZcVQDvfT42XbhVAO99PjZduFUAX2c73U2MVQGQQWDm0SBVAaZHtfD81FUCuR+F6FC4VQGq8dJMYBBVAlkOLbOf7FEDo+6nx0s0UQLKd76fGyxRAPQrXo3C9FEC\\u002fnxov3aQUQB+F61G4nhRAoBov3SSGFEBqvHSTGIQUQAAAAAAAgBRAtvP91HhpFECsHFpkO18UQIcW2c73UxRAIbByaJHtE0BmZmZmZuYTQAisHFpkuxNAhetRuB6FE0DTTWIQWDkTQNV46SYxCBNARrbz\\u002fdT4EkA=\",\"shape\":\"52, 1\"},\"geo\":\"geo\",\"hovertemplate\":\"Group=Middle score of happiness\\u003cbr\\u003eCountry or region=%{location}\\u003cbr\\u003eScore=%{customdata[0]}\\u003cextra\\u003e\\u003c\\u002fextra\\u003e\",\"locationmode\":\"country names\",\"locations\":[\"Latvia\",\"Japan\",\"Mauritius\",\"Jamaica\",\"South Korea\",\"Northern Cyprus\",\"Russia\",\"Kazakhstan\",\"Cyprus\",\"Bolivia\",\"Estonia\",\"Paraguay\",\"Peru\",\"Kosovo\",\"Moldova\",\"Turkmenistan\",\"Hungary\",\"Libya\",\"Philippines\",\"Honduras\",\"Belarus\",\"Turkey\",\"Pakistan\",\"Hong Kong\",\"Portugal\",\"Serbia\",\"Greece\",\"Lebanon\",\"Montenegro\",\"Croatia\",\"Dominican Republic\",\"Algeria\",\"Morocco\",\"China\",\"Azerbaijan\",\"Tajikistan\",\"Macedonia\",\"Jordan\",\"Nigeria\",\"Kyrgyzstan\",\"Bosnia and Herzegovina\",\"Mongolia\",\"Vietnam\",\"Indonesia\",\"Bhutan\",\"Somalia\",\"Cameroon\",\"Bulgaria\",\"Nepal\",\"Venezuela\",\"Gabon\",\"Palestinian Territories\"],\"name\":\"Middle score of happiness\",\"showlegend\":true,\"showscale\":false,\"z\":[1,1,1,1,1,1,1,1,1,1,1,1,1,1,1,1,1,1,1,1,1,1,1,1,1,1,1,1,1,1,1,1,1,1,1,1,1,1,1,1,1,1,1,1,1,1,1,1,1,1,1,1],\"type\":\"choropleth\"},{\"colorscale\":[[0.0,\"red\"],[1.0,\"red\"]],\"customdata\":{\"dtype\":\"f8\",\"bdata\":\"TDeJQWDlEkCHFtnO99MSQMl2vp8arxJAVOOlm8SgEkCgGi\\u002fdJIYSQMuhRbbzfRJAke18PzVeEkDy0k1iEFgSQGQQWDm0SBJAI9v5fmo8EkAAAAAAAAASQPyp8dJN4hFAbef7qfHSEUB9PzVeuskRQN0kBoGVwxFACKwcWmS7EUAZBFYOLbIRQJMYBFYOrRFAXrpJDAKrEUCkcD0K16MRQDVeukkMghFABoGVQ4tsEUBmZmZmZmYRQFyPwvUoXBFAZBBYObRIEUAIrBxaZDsRQE5iEFg5NBFAexSuR+H6EEDD9Shcj8IQQESLbOf7qRBAv58aL92kEECq8dJNYpAQQHSTGARWjhBAtvP91HhpEEDLoUW28\\u002f0PQIPAyqFFtg9AEFg5tMh2DkBcj8L1KFwOQP7UeOkmMQ5A8KfGSzeJDUB1kxgEVg4NQLgehetRuAxAGQRWDi2yDEAOLbKd76cMQPYoXI\\u002fC9QtAGQRWDi2yC0DdJAaBlUMLQNejcD0K1wpABoGVQ4tsCkDVeOkmMQgKQESLbOf7qQhAPQrXo3A9B0A=\",\"shape\":\"52, 1\"},\"geo\":\"geo\",\"hovertemplate\":\"Group=Low score of happiness\\u003cbr\\u003eCountry or region=%{location}\\u003cbr\\u003eScore=%{customdata[0]}\\u003cextra\\u003e\\u003c\\u002fextra\\u003e\",\"locationmode\":\"country names\",\"locations\":[\"South Africa\",\"Iran\",\"Ivory Coast\",\"Ghana\",\"Senegal\",\"Laos\",\"Tunisia\",\"Albania\",\"Sierra Leone\",\"Congo (Brazzaville)\",\"Bangladesh\",\"Sri Lanka\",\"Iraq\",\"Mali\",\"Namibia\",\"Cambodia\",\"Burkina Faso\",\"Egypt\",\"Mozambique\",\"Kenya\",\"Zambia\",\"Mauritania\",\"Ethiopia\",\"Georgia\",\"Armenia\",\"Myanmar\",\"Chad\",\"Congo (Kinshasa)\",\"India\",\"Niger\",\"Uganda\",\"Benin\",\"Sudan\",\"Ukraine\",\"Togo\",\"Guinea\",\"Lesotho\",\"Angola\",\"Madagascar\",\"Zimbabwe\",\"Afghanistan\",\"Botswana\",\"Malawi\",\"Haiti\",\"Liberia\",\"Syria\",\"Rwanda\",\"Yemen\",\"Tanzania\",\"South Sudan\",\"Central African Republic\",\"Burundi\"],\"name\":\"Low score of happiness\",\"showlegend\":true,\"showscale\":false,\"z\":[1,1,1,1,1,1,1,1,1,1,1,1,1,1,1,1,1,1,1,1,1,1,1,1,1,1,1,1,1,1,1,1,1,1,1,1,1,1,1,1,1,1,1,1,1,1,1,1,1,1,1,1],\"type\":\"choropleth\"}],                        {\"template\":{\"data\":{\"histogram2dcontour\":[{\"type\":\"histogram2dcontour\",\"colorbar\":{\"outlinewidth\":0,\"ticks\":\"\"},\"colorscale\":[[0.0,\"#0d0887\"],[0.1111111111111111,\"#46039f\"],[0.2222222222222222,\"#7201a8\"],[0.3333333333333333,\"#9c179e\"],[0.4444444444444444,\"#bd3786\"],[0.5555555555555556,\"#d8576b\"],[0.6666666666666666,\"#ed7953\"],[0.7777777777777778,\"#fb9f3a\"],[0.8888888888888888,\"#fdca26\"],[1.0,\"#f0f921\"]]}],\"choropleth\":[{\"type\":\"choropleth\",\"colorbar\":{\"outlinewidth\":0,\"ticks\":\"\"}}],\"histogram2d\":[{\"type\":\"histogram2d\",\"colorbar\":{\"outlinewidth\":0,\"ticks\":\"\"},\"colorscale\":[[0.0,\"#0d0887\"],[0.1111111111111111,\"#46039f\"],[0.2222222222222222,\"#7201a8\"],[0.3333333333333333,\"#9c179e\"],[0.4444444444444444,\"#bd3786\"],[0.5555555555555556,\"#d8576b\"],[0.6666666666666666,\"#ed7953\"],[0.7777777777777778,\"#fb9f3a\"],[0.8888888888888888,\"#fdca26\"],[1.0,\"#f0f921\"]]}],\"heatmap\":[{\"type\":\"heatmap\",\"colorbar\":{\"outlinewidth\":0,\"ticks\":\"\"},\"colorscale\":[[0.0,\"#0d0887\"],[0.1111111111111111,\"#46039f\"],[0.2222222222222222,\"#7201a8\"],[0.3333333333333333,\"#9c179e\"],[0.4444444444444444,\"#bd3786\"],[0.5555555555555556,\"#d8576b\"],[0.6666666666666666,\"#ed7953\"],[0.7777777777777778,\"#fb9f3a\"],[0.8888888888888888,\"#fdca26\"],[1.0,\"#f0f921\"]]}],\"contourcarpet\":[{\"type\":\"contourcarpet\",\"colorbar\":{\"outlinewidth\":0,\"ticks\":\"\"}}],\"contour\":[{\"type\":\"contour\",\"colorbar\":{\"outlinewidth\":0,\"ticks\":\"\"},\"colorscale\":[[0.0,\"#0d0887\"],[0.1111111111111111,\"#46039f\"],[0.2222222222222222,\"#7201a8\"],[0.3333333333333333,\"#9c179e\"],[0.4444444444444444,\"#bd3786\"],[0.5555555555555556,\"#d8576b\"],[0.6666666666666666,\"#ed7953\"],[0.7777777777777778,\"#fb9f3a\"],[0.8888888888888888,\"#fdca26\"],[1.0,\"#f0f921\"]]}],\"surface\":[{\"type\":\"surface\",\"colorbar\":{\"outlinewidth\":0,\"ticks\":\"\"},\"colorscale\":[[0.0,\"#0d0887\"],[0.1111111111111111,\"#46039f\"],[0.2222222222222222,\"#7201a8\"],[0.3333333333333333,\"#9c179e\"],[0.4444444444444444,\"#bd3786\"],[0.5555555555555556,\"#d8576b\"],[0.6666666666666666,\"#ed7953\"],[0.7777777777777778,\"#fb9f3a\"],[0.8888888888888888,\"#fdca26\"],[1.0,\"#f0f921\"]]}],\"mesh3d\":[{\"type\":\"mesh3d\",\"colorbar\":{\"outlinewidth\":0,\"ticks\":\"\"}}],\"scatter\":[{\"fillpattern\":{\"fillmode\":\"overlay\",\"size\":10,\"solidity\":0.2},\"type\":\"scatter\"}],\"parcoords\":[{\"type\":\"parcoords\",\"line\":{\"colorbar\":{\"outlinewidth\":0,\"ticks\":\"\"}}}],\"scatterpolargl\":[{\"type\":\"scatterpolargl\",\"marker\":{\"colorbar\":{\"outlinewidth\":0,\"ticks\":\"\"}}}],\"bar\":[{\"error_x\":{\"color\":\"#2a3f5f\"},\"error_y\":{\"color\":\"#2a3f5f\"},\"marker\":{\"line\":{\"color\":\"#E5ECF6\",\"width\":0.5},\"pattern\":{\"fillmode\":\"overlay\",\"size\":10,\"solidity\":0.2}},\"type\":\"bar\"}],\"scattergeo\":[{\"type\":\"scattergeo\",\"marker\":{\"colorbar\":{\"outlinewidth\":0,\"ticks\":\"\"}}}],\"scatterpolar\":[{\"type\":\"scatterpolar\",\"marker\":{\"colorbar\":{\"outlinewidth\":0,\"ticks\":\"\"}}}],\"histogram\":[{\"marker\":{\"pattern\":{\"fillmode\":\"overlay\",\"size\":10,\"solidity\":0.2}},\"type\":\"histogram\"}],\"scattergl\":[{\"type\":\"scattergl\",\"marker\":{\"colorbar\":{\"outlinewidth\":0,\"ticks\":\"\"}}}],\"scatter3d\":[{\"type\":\"scatter3d\",\"line\":{\"colorbar\":{\"outlinewidth\":0,\"ticks\":\"\"}},\"marker\":{\"colorbar\":{\"outlinewidth\":0,\"ticks\":\"\"}}}],\"scattermap\":[{\"type\":\"scattermap\",\"marker\":{\"colorbar\":{\"outlinewidth\":0,\"ticks\":\"\"}}}],\"scattermapbox\":[{\"type\":\"scattermapbox\",\"marker\":{\"colorbar\":{\"outlinewidth\":0,\"ticks\":\"\"}}}],\"scatterternary\":[{\"type\":\"scatterternary\",\"marker\":{\"colorbar\":{\"outlinewidth\":0,\"ticks\":\"\"}}}],\"scattercarpet\":[{\"type\":\"scattercarpet\",\"marker\":{\"colorbar\":{\"outlinewidth\":0,\"ticks\":\"\"}}}],\"carpet\":[{\"aaxis\":{\"endlinecolor\":\"#2a3f5f\",\"gridcolor\":\"white\",\"linecolor\":\"white\",\"minorgridcolor\":\"white\",\"startlinecolor\":\"#2a3f5f\"},\"baxis\":{\"endlinecolor\":\"#2a3f5f\",\"gridcolor\":\"white\",\"linecolor\":\"white\",\"minorgridcolor\":\"white\",\"startlinecolor\":\"#2a3f5f\"},\"type\":\"carpet\"}],\"table\":[{\"cells\":{\"fill\":{\"color\":\"#EBF0F8\"},\"line\":{\"color\":\"white\"}},\"header\":{\"fill\":{\"color\":\"#C8D4E3\"},\"line\":{\"color\":\"white\"}},\"type\":\"table\"}],\"barpolar\":[{\"marker\":{\"line\":{\"color\":\"#E5ECF6\",\"width\":0.5},\"pattern\":{\"fillmode\":\"overlay\",\"size\":10,\"solidity\":0.2}},\"type\":\"barpolar\"}],\"pie\":[{\"automargin\":true,\"type\":\"pie\"}]},\"layout\":{\"autotypenumbers\":\"strict\",\"colorway\":[\"#636efa\",\"#EF553B\",\"#00cc96\",\"#ab63fa\",\"#FFA15A\",\"#19d3f3\",\"#FF6692\",\"#B6E880\",\"#FF97FF\",\"#FECB52\"],\"font\":{\"color\":\"#2a3f5f\"},\"hovermode\":\"closest\",\"hoverlabel\":{\"align\":\"left\"},\"paper_bgcolor\":\"white\",\"plot_bgcolor\":\"#E5ECF6\",\"polar\":{\"bgcolor\":\"#E5ECF6\",\"angularaxis\":{\"gridcolor\":\"white\",\"linecolor\":\"white\",\"ticks\":\"\"},\"radialaxis\":{\"gridcolor\":\"white\",\"linecolor\":\"white\",\"ticks\":\"\"}},\"ternary\":{\"bgcolor\":\"#E5ECF6\",\"aaxis\":{\"gridcolor\":\"white\",\"linecolor\":\"white\",\"ticks\":\"\"},\"baxis\":{\"gridcolor\":\"white\",\"linecolor\":\"white\",\"ticks\":\"\"},\"caxis\":{\"gridcolor\":\"white\",\"linecolor\":\"white\",\"ticks\":\"\"}},\"coloraxis\":{\"colorbar\":{\"outlinewidth\":0,\"ticks\":\"\"}},\"colorscale\":{\"sequential\":[[0.0,\"#0d0887\"],[0.1111111111111111,\"#46039f\"],[0.2222222222222222,\"#7201a8\"],[0.3333333333333333,\"#9c179e\"],[0.4444444444444444,\"#bd3786\"],[0.5555555555555556,\"#d8576b\"],[0.6666666666666666,\"#ed7953\"],[0.7777777777777778,\"#fb9f3a\"],[0.8888888888888888,\"#fdca26\"],[1.0,\"#f0f921\"]],\"sequentialminus\":[[0.0,\"#0d0887\"],[0.1111111111111111,\"#46039f\"],[0.2222222222222222,\"#7201a8\"],[0.3333333333333333,\"#9c179e\"],[0.4444444444444444,\"#bd3786\"],[0.5555555555555556,\"#d8576b\"],[0.6666666666666666,\"#ed7953\"],[0.7777777777777778,\"#fb9f3a\"],[0.8888888888888888,\"#fdca26\"],[1.0,\"#f0f921\"]],\"diverging\":[[0,\"#8e0152\"],[0.1,\"#c51b7d\"],[0.2,\"#de77ae\"],[0.3,\"#f1b6da\"],[0.4,\"#fde0ef\"],[0.5,\"#f7f7f7\"],[0.6,\"#e6f5d0\"],[0.7,\"#b8e186\"],[0.8,\"#7fbc41\"],[0.9,\"#4d9221\"],[1,\"#276419\"]]},\"xaxis\":{\"gridcolor\":\"white\",\"linecolor\":\"white\",\"ticks\":\"\",\"title\":{\"standoff\":15},\"zerolinecolor\":\"white\",\"automargin\":true,\"zerolinewidth\":2},\"yaxis\":{\"gridcolor\":\"white\",\"linecolor\":\"white\",\"ticks\":\"\",\"title\":{\"standoff\":15},\"zerolinecolor\":\"white\",\"automargin\":true,\"zerolinewidth\":2},\"scene\":{\"xaxis\":{\"backgroundcolor\":\"#E5ECF6\",\"gridcolor\":\"white\",\"linecolor\":\"white\",\"showbackground\":true,\"ticks\":\"\",\"zerolinecolor\":\"white\",\"gridwidth\":2},\"yaxis\":{\"backgroundcolor\":\"#E5ECF6\",\"gridcolor\":\"white\",\"linecolor\":\"white\",\"showbackground\":true,\"ticks\":\"\",\"zerolinecolor\":\"white\",\"gridwidth\":2},\"zaxis\":{\"backgroundcolor\":\"#E5ECF6\",\"gridcolor\":\"white\",\"linecolor\":\"white\",\"showbackground\":true,\"ticks\":\"\",\"zerolinecolor\":\"white\",\"gridwidth\":2}},\"shapedefaults\":{\"line\":{\"color\":\"#2a3f5f\"}},\"annotationdefaults\":{\"arrowcolor\":\"#2a3f5f\",\"arrowhead\":0,\"arrowwidth\":1},\"geo\":{\"bgcolor\":\"white\",\"landcolor\":\"#E5ECF6\",\"subunitcolor\":\"white\",\"showland\":true,\"showlakes\":true,\"lakecolor\":\"white\"},\"title\":{\"x\":0.05},\"mapbox\":{\"style\":\"light\"}}},\"geo\":{\"domain\":{\"x\":[0.0,1.0],\"y\":[0.0,1.0]},\"center\":{},\"projection\":{\"type\":\"natural earth\"},\"showcountries\":true,\"countrycolor\":\"black\",\"showocean\":true,\"oceancolor\":\"lightblue\",\"showland\":true,\"landcolor\":\"lightgrey\"},\"legend\":{\"title\":{\"text\":\"Group\"},\"tracegroupgap\":0},\"title\":{\"text\":\"2018\",\"font\":{\"weight\":\"bold\",\"size\":24},\"x\":0.5},\"showlegend\":false},                        {\"responsive\": true}                    ).then(function(){\n",
       "                            \n",
       "var gd = document.getElementById('2a6b09a7-d7d2-417b-a9e2-4c41697db602');\n",
       "var x = new MutationObserver(function (mutations, observer) {{\n",
       "        var display = window.getComputedStyle(gd).display;\n",
       "        if (!display || display === 'none') {{\n",
       "            console.log([gd, 'removed!']);\n",
       "            Plotly.purge(gd);\n",
       "            observer.disconnect();\n",
       "        }}\n",
       "}});\n",
       "\n",
       "// Listen for the removal of the full notebook cells\n",
       "var notebookContainer = gd.closest('#notebook-container');\n",
       "if (notebookContainer) {{\n",
       "    x.observe(notebookContainer, {childList: true});\n",
       "}}\n",
       "\n",
       "// Listen for the clearing of the current output cell\n",
       "var outputEl = gd.closest('.output');\n",
       "if (outputEl) {{\n",
       "    x.observe(outputEl, {childList: true});\n",
       "}}\n",
       "\n",
       "                        })                };            </script>        </div>\n",
       "</body>\n",
       "</html>"
      ]
     },
     "metadata": {},
     "output_type": "display_data"
    }
   ],
   "source": [
    "fig = px.choropleth(df_2018,\n",
    "                    locations='Country or region',\n",
    "                    locationmode='country names',\n",
    "                    color='Group',\n",
    "                    hover_data=['Score'],\n",
    "                    title='2018',\n",
    "                    color_discrete_map={\n",
    "                        'High score of happiness': 'green',\n",
    "                        'Low score of happiness': 'red',\n",
    "                        'Middle score of happiness': 'lightpink'\n",
    "                    }\n",
    "                   )\n",
    "fig.update_layout(showlegend=False, title_x=0.5, title_font_weight='bold',title_font_size=24)\n",
    "fig.update_geos(\n",
    "    # Change the map's projection style\n",
    "    projection_type=\"natural earth\",\n",
    "    \n",
    "    # Customize the country borders\n",
    "    showcountries=True,\n",
    "    countrycolor=\"black\",\n",
    "    \n",
    "    # Customize the ocean and land colors\n",
    "    showocean=True,\n",
    "    oceancolor=\"lightblue\",\n",
    "    showland=True,\n",
    "    landcolor=\"lightgrey\"\n",
    ")\n",
    "fig.show()"
   ]
  },
  {
   "cell_type": "code",
   "execution_count": 419,
   "metadata": {},
   "outputs": [],
   "source": [
    "def assign_group(country):\n",
    "    if country in list_happy_2024:\n",
    "        return 'High score of happiness'\n",
    "    elif country in list_sad_2024:\n",
    "        return 'Low score of happiness'\n",
    "    else:\n",
    "        return 'Middle score of happiness'\n",
    "\n",
    "df_2024['Group'] = df_2024['Country or region'].apply(assign_group)"
   ]
  },
  {
   "cell_type": "code",
   "execution_count": 420,
   "metadata": {
    "colab": {
     "base_uri": "https://localhost:8080/",
     "height": 542
    },
    "executionInfo": {
     "elapsed": 32,
     "status": "ok",
     "timestamp": 1756733836811,
     "user": {
      "displayName": "Wiktoria Gołębiewska",
      "userId": "05863011323994705695"
     },
     "user_tz": -120
    },
    "id": "z-4CyZlfLb2U",
    "outputId": "87072712-c8b8-41f8-c4a0-855eee916d13"
   },
   "outputs": [
    {
     "data": {
      "text/html": [
       "<html>\n",
       "<head><meta charset=\"utf-8\" /></head>\n",
       "<body>\n",
       "    <div>            <script src=\"https://cdnjs.cloudflare.com/ajax/libs/mathjax/2.7.5/MathJax.js?config=TeX-AMS-MML_SVG\"></script><script type=\"text/javascript\">if (window.MathJax && window.MathJax.Hub && window.MathJax.Hub.Config) {window.MathJax.Hub.Config({SVG: {font: \"STIX-Web\"}});}</script>                <script type=\"text/javascript\">window.PlotlyConfig = {MathJaxConfig: 'local'};</script>\n",
       "        <script charset=\"utf-8\" src=\"https://cdn.plot.ly/plotly-3.1.0.min.js\" integrity=\"sha256-Ei4740bWZhaUTQuD6q9yQlgVCMPBz6CZWhevDYPv93A=\" crossorigin=\"anonymous\"></script>                <div id=\"16588450-8929-41a8-9cec-a75846834cf0\" class=\"plotly-graph-div\" style=\"height:525px; width:100%;\"></div>            <script type=\"text/javascript\">                window.PLOTLYENV=window.PLOTLYENV || {};                                if (document.getElementById(\"16588450-8929-41a8-9cec-a75846834cf0\")) {                    Plotly.newPlot(                        \"16588450-8929-41a8-9cec-a75846834cf0\",                        [{\"colorscale\":[[0.0,\"green\"],[1.0,\"green\"]],\"customdata\":{\"dtype\":\"f8\",\"bdata\":\"i2zn+6nxHkAv3SQGgRUeQI\\u002fC9ShcDx5A4XoUrkdhHUDTTWIQWDkdQH9qvHSTGB1APzVeukkMHUBWDi2yne8cQLByaJHtfBxA0SLb+X7qG0BMN4lBYOUbQAIrhxbZzhtAPQrXo3C9G0CkcD0K16MbQHWTGARWjhtAN4lBYOVQG0A9CtejcD0bQIPAyqFFNhtAXrpJDAIrG0CamZmZmRkbQPCnxks3CRtAUI2XbhIDG0C28\\u002f3UeOkaQEw3iUFg5RpA8tJNYhDYGkD+1HjpJrEaQJMYBFYOrRpAvp8aL92kGkCJQWDl0KIaQGq8dJMYhBpABoGVQ4tsGkBmZmZmZmYaQKwcWmQ7XxpAw\\u002fUoXI9CGkCNl24Sg0AaQGDl0CLb+RlAK4cW2c73GUB3vp8aL90ZQF66SQwCqxlAKVyPwvWoGUBU46WbxKAZQEoMAiuHlhlAUI2XbhKDGUCmm8QgsHIZQIts5\\u002fupcRlAnMQgsHJoGUBSuB6F61EZQN0kBoGVQxlAF9nO91PjGED8qfHSTeIYQIcW2c730xhAfT81XrrJGEA=\",\"shape\":\"52, 1\"},\"geo\":\"geo\",\"hovertemplate\":\"Group=High score of happiness\\u003cbr\\u003eCountry or region=%{location}\\u003cbr\\u003eScore=%{customdata[0]}\\u003cextra\\u003e\\u003c\\u002fextra\\u003e\",\"locationmode\":\"country names\",\"locations\":[\"Finland\",\"Denmark\",\"Iceland\",\"Sweden\",\"Netherlands\",\"Costa Rica\",\"Norway\",\"Israel\",\"Luxembourg\",\"Mexico\",\"Australia\",\"New Zealand\",\"Switzerland\",\"Belgium\",\"Ireland\",\"Lithuania\",\"Austria\",\"Canada\",\"Slovenia\",\"Czechia\",\"United Arab Emirates\",\"Germany\",\"United Kingdom\",\"United States\",\"Belize\",\"Poland\",\"Taiwan Province of China\",\"Uruguay\",\"Kosovo\",\"Kuwait\",\"Serbia\",\"Saudi Arabia\",\"France\",\"Singapore\",\"Romania\",\"Brazil\",\"El Salvador\",\"Spain\",\"Estonia\",\"Italy\",\"Panama\",\"Argentina\",\"Kazakhstan\",\"Guatemala\",\"Chile\",\"Viet Nam\",\"Nicaragua\",\"Malta\",\"Thailand\",\"Slovakia\",\"Latvia\",\"Oman\"],\"name\":\"High score of happiness\",\"showlegend\":true,\"showscale\":false,\"z\":[1,1,1,1,1,1,1,1,1,1,1,1,1,1,1,1,1,1,1,1,1,1,1,1,1,1,1,1,1,1,1,1,1,1,1,1,1,1,1,1,1,1,1,1,1,1,1,1,1,1,1,1],\"type\":\"choropleth\"},{\"colorscale\":[[0.0,\"lightpink\"],[1.0,\"lightpink\"]],\"customdata\":{\"dtype\":\"f8\",\"bdata\":\"EoPAyqHFGEDjpZvEILAYQEoMAiuHlhhAJQaBlUOLGEAhsHJokW0YQPT91HjpJhhAH4XrUbgeGEBaZDvfTw0YQGq8dJMYBBhAXI\\u002fC9SjcF0BCYOXQItsXQFK4HoXr0RdAfT81XrrJF0BI4XoUrscXQPhT46WbxBdAyXa+nxqvF0ApXI\\u002fC9agXQB+F61G4nhdANV66SQyCF0B7FK5H4XoXQHsUrkfhehdARrbz\\u002fdR4F0A730+Nl24XQPyp8dJNYhdAokW28\\u002f1UF0CHFtnO91MXQEjhehSuRxdALbKd76dGF0C0yHa+nxoXQAisHFpkuxZAK4cW2c53FkBiEFg5tEgWQJ7vp8ZLNxZAUI2XbhIDFkBg5dAi2\\u002fkVQBBYObTI9hVAvp8aL92kFUC+nxov3aQVQJqZmZmZmRVAWDm0yHY+FUBOYhBYOTQVQD81XrpJDBVAJzEIrBzaFEA=\",\"shape\":\"43, 1\"},\"geo\":\"geo\",\"hovertemplate\":\"Group=Middle score of happiness\\u003cbr\\u003eCountry or region=%{location}\\u003cbr\\u003eScore=%{customdata[0]}\\u003cextra\\u003e\\u003c\\u002fextra\\u003e\",\"locationmode\":\"country names\",\"locations\":[\"Uzbekistan\",\"Paraguay\",\"Japan\",\"Bosnia and Herzegovina\",\"Philippines\",\"Republic of Korea\",\"Bahrain\",\"Portugal\",\"Colombia\",\"Ecuador\",\"Honduras\",\"Malaysia\",\"Peru\",\"Russian Federation\",\"Cyprus\",\"China\",\"Hungary\",\"Trinidad and Tobago\",\"Montenegro\",\"Croatia\",\"Jamaica\",\"Bolivia\",\"Kyrgyzstan\",\"Dominican Republic\",\"Mongolia\",\"Mauritius\",\"Libya\",\"Republic of Moldova\",\"Greece\",\"Venezuela\",\"Indonesia\",\"Algeria\",\"Bulgaria\",\"North Macedonia\",\"Armenia\",\"Hong Kong SAR of China\",\"Albania\",\"Tajikistan\",\"Georgia\",\"Nepal\",\"Lao PDR\",\"T\\u00fcrkiye\",\"South Africa\"],\"name\":\"Middle score of happiness\",\"showlegend\":true,\"showscale\":false,\"z\":[1,1,1,1,1,1,1,1,1,1,1,1,1,1,1,1,1,1,1,1,1,1,1,1,1,1,1,1,1,1,1,1,1,1,1,1,1,1,1,1,1,1,1],\"type\":\"choropleth\"},{\"colorscale\":[[0.0,\"red\"],[1.0,\"red\"]],\"customdata\":{\"dtype\":\"f8\",\"bdata\":\"w\\u002fUoXI\\u002fCFEB7FK5H4XoUQJzEILByaBRArBxaZDtfFEAfhetRuB4UQIGVQ4ts5xNAnu+nxku3E0C+nxov3aQTQD81XrpJjBNACtejcD2KE0AAAAAAAIATQAaBlUOLbBNAH4XrUbgeE0DfT42XbhITQGZmZmZm5hJAuB6F61G4EkCwcmiR7XwSQGiR7Xw\\u002fNRJAXrpJDAIrEkAK16NwPQoSQPLSTWIQ2BFA\\u002ftR46SaxEUB1kxgEVo4RQPCnxks3iRFA1XjpJjGIEUAhsHJokW0RQBfZzvdTYxFA4XoUrkdhEUB3vp8aL10RQFyPwvUoXBFAYhBYObRIEUDD9Shcj0IRQD0K16NwPRFAz\\u002fdT46UbEUBU46WbxKAQQLKd76fGSw9AyXa+nxovD0BU46WbxCAPQAIrhxbZzg5A8KfGSzeJDkBmZmZmZmYOQP7UeOkmMQ5AdZMYBFYODkDVeOkmMQgOQLByaJHtfAxAjZduEoPAC0AbL90kBoELQF66SQwCKwtAFK5H4XoUCkAbL90kBoEJQJZDi2zn+wdAbef7qfHS9T8=\",\"shape\":\"52, 1\"},\"geo\":\"geo\",\"hovertemplate\":\"Group=Low score of happiness\\u003cbr\\u003eCountry or region=%{location}\\u003cbr\\u003eScore=%{customdata[0]}\\u003cextra\\u003e\\u003c\\u002fextra\\u003e\",\"locationmode\":\"country names\",\"locations\":[\"Mozambique\",\"Gabon\",\"C\\u00f4te d\\u2019Ivoire\",\"Iran\",\"Congo\",\"Iraq\",\"Guinea\",\"Namibia\",\"Cameroon\",\"Nigeria\",\"Azerbaijan\",\"Senegal\",\"State of Palestine\",\"Pakistan\",\"Niger\",\"Ukraine\",\"Morocco\",\"Tunisia\",\"Mauritania\",\"Kenya\",\"Uganda\",\"Gambia\",\"India\",\"Chad\",\"Burkina Faso\",\"Benin\",\"Somalia\",\"Mali\",\"Cambodia\",\"Ghana\",\"Myanmar\",\"Togo\",\"Jordan\",\"Liberia\",\"Madagascar\",\"Zambia\",\"Ethiopia\",\"Sri Lanka\",\"Bangladesh\",\"Egypt\",\"Tanzania\",\"Eswatini\",\"Lesotho\",\"Comoros\",\"Yemen\",\"DR Congo\",\"Botswana\",\"Zimbabwe\",\"Malawi\",\"Lebanon\",\"Sierra Leone\",\"Afghanistan\"],\"name\":\"Low score of happiness\",\"showlegend\":true,\"showscale\":false,\"z\":[1,1,1,1,1,1,1,1,1,1,1,1,1,1,1,1,1,1,1,1,1,1,1,1,1,1,1,1,1,1,1,1,1,1,1,1,1,1,1,1,1,1,1,1,1,1,1,1,1,1,1,1],\"type\":\"choropleth\"}],                        {\"template\":{\"data\":{\"histogram2dcontour\":[{\"type\":\"histogram2dcontour\",\"colorbar\":{\"outlinewidth\":0,\"ticks\":\"\"},\"colorscale\":[[0.0,\"#0d0887\"],[0.1111111111111111,\"#46039f\"],[0.2222222222222222,\"#7201a8\"],[0.3333333333333333,\"#9c179e\"],[0.4444444444444444,\"#bd3786\"],[0.5555555555555556,\"#d8576b\"],[0.6666666666666666,\"#ed7953\"],[0.7777777777777778,\"#fb9f3a\"],[0.8888888888888888,\"#fdca26\"],[1.0,\"#f0f921\"]]}],\"choropleth\":[{\"type\":\"choropleth\",\"colorbar\":{\"outlinewidth\":0,\"ticks\":\"\"}}],\"histogram2d\":[{\"type\":\"histogram2d\",\"colorbar\":{\"outlinewidth\":0,\"ticks\":\"\"},\"colorscale\":[[0.0,\"#0d0887\"],[0.1111111111111111,\"#46039f\"],[0.2222222222222222,\"#7201a8\"],[0.3333333333333333,\"#9c179e\"],[0.4444444444444444,\"#bd3786\"],[0.5555555555555556,\"#d8576b\"],[0.6666666666666666,\"#ed7953\"],[0.7777777777777778,\"#fb9f3a\"],[0.8888888888888888,\"#fdca26\"],[1.0,\"#f0f921\"]]}],\"heatmap\":[{\"type\":\"heatmap\",\"colorbar\":{\"outlinewidth\":0,\"ticks\":\"\"},\"colorscale\":[[0.0,\"#0d0887\"],[0.1111111111111111,\"#46039f\"],[0.2222222222222222,\"#7201a8\"],[0.3333333333333333,\"#9c179e\"],[0.4444444444444444,\"#bd3786\"],[0.5555555555555556,\"#d8576b\"],[0.6666666666666666,\"#ed7953\"],[0.7777777777777778,\"#fb9f3a\"],[0.8888888888888888,\"#fdca26\"],[1.0,\"#f0f921\"]]}],\"contourcarpet\":[{\"type\":\"contourcarpet\",\"colorbar\":{\"outlinewidth\":0,\"ticks\":\"\"}}],\"contour\":[{\"type\":\"contour\",\"colorbar\":{\"outlinewidth\":0,\"ticks\":\"\"},\"colorscale\":[[0.0,\"#0d0887\"],[0.1111111111111111,\"#46039f\"],[0.2222222222222222,\"#7201a8\"],[0.3333333333333333,\"#9c179e\"],[0.4444444444444444,\"#bd3786\"],[0.5555555555555556,\"#d8576b\"],[0.6666666666666666,\"#ed7953\"],[0.7777777777777778,\"#fb9f3a\"],[0.8888888888888888,\"#fdca26\"],[1.0,\"#f0f921\"]]}],\"surface\":[{\"type\":\"surface\",\"colorbar\":{\"outlinewidth\":0,\"ticks\":\"\"},\"colorscale\":[[0.0,\"#0d0887\"],[0.1111111111111111,\"#46039f\"],[0.2222222222222222,\"#7201a8\"],[0.3333333333333333,\"#9c179e\"],[0.4444444444444444,\"#bd3786\"],[0.5555555555555556,\"#d8576b\"],[0.6666666666666666,\"#ed7953\"],[0.7777777777777778,\"#fb9f3a\"],[0.8888888888888888,\"#fdca26\"],[1.0,\"#f0f921\"]]}],\"mesh3d\":[{\"type\":\"mesh3d\",\"colorbar\":{\"outlinewidth\":0,\"ticks\":\"\"}}],\"scatter\":[{\"fillpattern\":{\"fillmode\":\"overlay\",\"size\":10,\"solidity\":0.2},\"type\":\"scatter\"}],\"parcoords\":[{\"type\":\"parcoords\",\"line\":{\"colorbar\":{\"outlinewidth\":0,\"ticks\":\"\"}}}],\"scatterpolargl\":[{\"type\":\"scatterpolargl\",\"marker\":{\"colorbar\":{\"outlinewidth\":0,\"ticks\":\"\"}}}],\"bar\":[{\"error_x\":{\"color\":\"#2a3f5f\"},\"error_y\":{\"color\":\"#2a3f5f\"},\"marker\":{\"line\":{\"color\":\"#E5ECF6\",\"width\":0.5},\"pattern\":{\"fillmode\":\"overlay\",\"size\":10,\"solidity\":0.2}},\"type\":\"bar\"}],\"scattergeo\":[{\"type\":\"scattergeo\",\"marker\":{\"colorbar\":{\"outlinewidth\":0,\"ticks\":\"\"}}}],\"scatterpolar\":[{\"type\":\"scatterpolar\",\"marker\":{\"colorbar\":{\"outlinewidth\":0,\"ticks\":\"\"}}}],\"histogram\":[{\"marker\":{\"pattern\":{\"fillmode\":\"overlay\",\"size\":10,\"solidity\":0.2}},\"type\":\"histogram\"}],\"scattergl\":[{\"type\":\"scattergl\",\"marker\":{\"colorbar\":{\"outlinewidth\":0,\"ticks\":\"\"}}}],\"scatter3d\":[{\"type\":\"scatter3d\",\"line\":{\"colorbar\":{\"outlinewidth\":0,\"ticks\":\"\"}},\"marker\":{\"colorbar\":{\"outlinewidth\":0,\"ticks\":\"\"}}}],\"scattermap\":[{\"type\":\"scattermap\",\"marker\":{\"colorbar\":{\"outlinewidth\":0,\"ticks\":\"\"}}}],\"scattermapbox\":[{\"type\":\"scattermapbox\",\"marker\":{\"colorbar\":{\"outlinewidth\":0,\"ticks\":\"\"}}}],\"scatterternary\":[{\"type\":\"scatterternary\",\"marker\":{\"colorbar\":{\"outlinewidth\":0,\"ticks\":\"\"}}}],\"scattercarpet\":[{\"type\":\"scattercarpet\",\"marker\":{\"colorbar\":{\"outlinewidth\":0,\"ticks\":\"\"}}}],\"carpet\":[{\"aaxis\":{\"endlinecolor\":\"#2a3f5f\",\"gridcolor\":\"white\",\"linecolor\":\"white\",\"minorgridcolor\":\"white\",\"startlinecolor\":\"#2a3f5f\"},\"baxis\":{\"endlinecolor\":\"#2a3f5f\",\"gridcolor\":\"white\",\"linecolor\":\"white\",\"minorgridcolor\":\"white\",\"startlinecolor\":\"#2a3f5f\"},\"type\":\"carpet\"}],\"table\":[{\"cells\":{\"fill\":{\"color\":\"#EBF0F8\"},\"line\":{\"color\":\"white\"}},\"header\":{\"fill\":{\"color\":\"#C8D4E3\"},\"line\":{\"color\":\"white\"}},\"type\":\"table\"}],\"barpolar\":[{\"marker\":{\"line\":{\"color\":\"#E5ECF6\",\"width\":0.5},\"pattern\":{\"fillmode\":\"overlay\",\"size\":10,\"solidity\":0.2}},\"type\":\"barpolar\"}],\"pie\":[{\"automargin\":true,\"type\":\"pie\"}]},\"layout\":{\"autotypenumbers\":\"strict\",\"colorway\":[\"#636efa\",\"#EF553B\",\"#00cc96\",\"#ab63fa\",\"#FFA15A\",\"#19d3f3\",\"#FF6692\",\"#B6E880\",\"#FF97FF\",\"#FECB52\"],\"font\":{\"color\":\"#2a3f5f\"},\"hovermode\":\"closest\",\"hoverlabel\":{\"align\":\"left\"},\"paper_bgcolor\":\"white\",\"plot_bgcolor\":\"#E5ECF6\",\"polar\":{\"bgcolor\":\"#E5ECF6\",\"angularaxis\":{\"gridcolor\":\"white\",\"linecolor\":\"white\",\"ticks\":\"\"},\"radialaxis\":{\"gridcolor\":\"white\",\"linecolor\":\"white\",\"ticks\":\"\"}},\"ternary\":{\"bgcolor\":\"#E5ECF6\",\"aaxis\":{\"gridcolor\":\"white\",\"linecolor\":\"white\",\"ticks\":\"\"},\"baxis\":{\"gridcolor\":\"white\",\"linecolor\":\"white\",\"ticks\":\"\"},\"caxis\":{\"gridcolor\":\"white\",\"linecolor\":\"white\",\"ticks\":\"\"}},\"coloraxis\":{\"colorbar\":{\"outlinewidth\":0,\"ticks\":\"\"}},\"colorscale\":{\"sequential\":[[0.0,\"#0d0887\"],[0.1111111111111111,\"#46039f\"],[0.2222222222222222,\"#7201a8\"],[0.3333333333333333,\"#9c179e\"],[0.4444444444444444,\"#bd3786\"],[0.5555555555555556,\"#d8576b\"],[0.6666666666666666,\"#ed7953\"],[0.7777777777777778,\"#fb9f3a\"],[0.8888888888888888,\"#fdca26\"],[1.0,\"#f0f921\"]],\"sequentialminus\":[[0.0,\"#0d0887\"],[0.1111111111111111,\"#46039f\"],[0.2222222222222222,\"#7201a8\"],[0.3333333333333333,\"#9c179e\"],[0.4444444444444444,\"#bd3786\"],[0.5555555555555556,\"#d8576b\"],[0.6666666666666666,\"#ed7953\"],[0.7777777777777778,\"#fb9f3a\"],[0.8888888888888888,\"#fdca26\"],[1.0,\"#f0f921\"]],\"diverging\":[[0,\"#8e0152\"],[0.1,\"#c51b7d\"],[0.2,\"#de77ae\"],[0.3,\"#f1b6da\"],[0.4,\"#fde0ef\"],[0.5,\"#f7f7f7\"],[0.6,\"#e6f5d0\"],[0.7,\"#b8e186\"],[0.8,\"#7fbc41\"],[0.9,\"#4d9221\"],[1,\"#276419\"]]},\"xaxis\":{\"gridcolor\":\"white\",\"linecolor\":\"white\",\"ticks\":\"\",\"title\":{\"standoff\":15},\"zerolinecolor\":\"white\",\"automargin\":true,\"zerolinewidth\":2},\"yaxis\":{\"gridcolor\":\"white\",\"linecolor\":\"white\",\"ticks\":\"\",\"title\":{\"standoff\":15},\"zerolinecolor\":\"white\",\"automargin\":true,\"zerolinewidth\":2},\"scene\":{\"xaxis\":{\"backgroundcolor\":\"#E5ECF6\",\"gridcolor\":\"white\",\"linecolor\":\"white\",\"showbackground\":true,\"ticks\":\"\",\"zerolinecolor\":\"white\",\"gridwidth\":2},\"yaxis\":{\"backgroundcolor\":\"#E5ECF6\",\"gridcolor\":\"white\",\"linecolor\":\"white\",\"showbackground\":true,\"ticks\":\"\",\"zerolinecolor\":\"white\",\"gridwidth\":2},\"zaxis\":{\"backgroundcolor\":\"#E5ECF6\",\"gridcolor\":\"white\",\"linecolor\":\"white\",\"showbackground\":true,\"ticks\":\"\",\"zerolinecolor\":\"white\",\"gridwidth\":2}},\"shapedefaults\":{\"line\":{\"color\":\"#2a3f5f\"}},\"annotationdefaults\":{\"arrowcolor\":\"#2a3f5f\",\"arrowhead\":0,\"arrowwidth\":1},\"geo\":{\"bgcolor\":\"white\",\"landcolor\":\"#E5ECF6\",\"subunitcolor\":\"white\",\"showland\":true,\"showlakes\":true,\"lakecolor\":\"white\"},\"title\":{\"x\":0.05},\"mapbox\":{\"style\":\"light\"}}},\"geo\":{\"domain\":{\"x\":[0.0,1.0],\"y\":[0.0,1.0]},\"center\":{},\"projection\":{\"type\":\"natural earth\"},\"showcountries\":true,\"countrycolor\":\"black\",\"showocean\":true,\"oceancolor\":\"lightblue\",\"showland\":true,\"landcolor\":\"lightgrey\"},\"legend\":{\"title\":{\"text\":\"Group\"},\"tracegroupgap\":0},\"title\":{\"text\":\"2024\",\"font\":{\"weight\":\"bold\",\"size\":24},\"x\":0.5},\"showlegend\":false},                        {\"responsive\": true}                    ).then(function(){\n",
       "                            \n",
       "var gd = document.getElementById('16588450-8929-41a8-9cec-a75846834cf0');\n",
       "var x = new MutationObserver(function (mutations, observer) {{\n",
       "        var display = window.getComputedStyle(gd).display;\n",
       "        if (!display || display === 'none') {{\n",
       "            console.log([gd, 'removed!']);\n",
       "            Plotly.purge(gd);\n",
       "            observer.disconnect();\n",
       "        }}\n",
       "}});\n",
       "\n",
       "// Listen for the removal of the full notebook cells\n",
       "var notebookContainer = gd.closest('#notebook-container');\n",
       "if (notebookContainer) {{\n",
       "    x.observe(notebookContainer, {childList: true});\n",
       "}}\n",
       "\n",
       "// Listen for the clearing of the current output cell\n",
       "var outputEl = gd.closest('.output');\n",
       "if (outputEl) {{\n",
       "    x.observe(outputEl, {childList: true});\n",
       "}}\n",
       "\n",
       "                        })                };            </script>        </div>\n",
       "</body>\n",
       "</html>"
      ]
     },
     "metadata": {},
     "output_type": "display_data"
    }
   ],
   "source": [
    "fig = px.choropleth(df_2024,\n",
    "                    locations='Country or region',\n",
    "                    locationmode='country names',\n",
    "                    color='Group',\n",
    "                    hover_data=['Score'],\n",
    "                    title='2024',\n",
    "                    color_discrete_map={\n",
    "                        'High score of happiness': 'green',\n",
    "                        'Low score of happiness': 'red',\n",
    "                        'Middle score of happiness': 'lightpink'\n",
    "                    }\n",
    "                   )\n",
    "fig.update_layout(showlegend=False, title_x=0.5, title_font_weight='bold',title_font_size=24)\n",
    "fig.update_geos(\n",
    "    # Change the map's projection style\n",
    "    projection_type=\"natural earth\",\n",
    "    \n",
    "    # Customize the country borders\n",
    "    showcountries=True,\n",
    "    countrycolor=\"black\",\n",
    "    \n",
    "    # Customize the ocean and land colors\n",
    "    showocean=True,\n",
    "    oceancolor=\"lightblue\",\n",
    "    showland=True,\n",
    "    landcolor=\"lightgrey\"\n",
    ")\n",
    "fig.show()"
   ]
  },
  {
   "cell_type": "code",
   "execution_count": 421,
   "metadata": {},
   "outputs": [],
   "source": [
    "full_corr_18 = numeric_only_2018.corr()\n",
    "score_corr_18 = full_corr_18[['Score']].T"
   ]
  },
  {
   "cell_type": "code",
   "execution_count": 422,
   "metadata": {},
   "outputs": [],
   "source": [
    "full_corr_24 = numeric_only_2024.corr()\n",
    "score_corr_24 = full_corr_24[['Score']].T"
   ]
  },
  {
   "cell_type": "code",
   "execution_count": 423,
   "metadata": {},
   "outputs": [
    {
     "data": {
      "text/plain": [
       "Text(0.5, 1.2, '2018')"
      ]
     },
     "execution_count": 423,
     "metadata": {},
     "output_type": "execute_result"
    },
    {
     "data": {
      "image/png": "[encoded data removed]",
      "text/plain": [
       "<Figure size 500x200 with 1 Axes>"
      ]
     },
     "metadata": {},
     "output_type": "display_data"
    }
   ],
   "source": [
    "plt.figure(figsize=(5,2)) # Adjust the figure size for better readability\n",
    "sns.heatmap(\n",
    "full_corr_18,\n",
    "    annot=True,\n",
    "    cmap='coolwarm',\n",
    "    fmt=\".2f\",\n",
    "    cbar=False,\n",
    "    linewidths=.5)\n",
    "plt.xticks(fontsize=6, rotation=-70,\n",
    "    fontweight='bold')\n",
    "plt.yticks(fontsize=6, fontweight='bold')\n",
    "plt.title('2018', fontsize='12',\n",
    "    loc='center',fontweight='bold',y=1.2)\n"
   ]
  },
  {
   "cell_type": "code",
   "execution_count": 424,
   "metadata": {},
   "outputs": [
    {
     "data": {
      "text/plain": [
       "Text(0.5, 1.2, '2018')"
      ]
     },
     "execution_count": 424,
     "metadata": {},
     "output_type": "execute_result"
    },
    {
     "data": {
      "image/png": "[encoded data removed]",
      "text/plain": [
       "<Figure size 500x200 with 1 Axes>"
      ]
     },
     "metadata": {},
     "output_type": "display_data"
    }
   ],
   "source": [
    "plt.figure(figsize=(5,2)) # Adjust the figure size for better readability\n",
    "sns.heatmap(\n",
    "full_corr_24,\n",
    "    annot=True,\n",
    "    cmap='coolwarm',\n",
    "    fmt=\".2f\",\n",
    "    cbar=False,\n",
    "    linewidths=.5)\n",
    "plt.xticks(fontsize=6, rotation=-70,\n",
    "    fontweight='bold')\n",
    "plt.yticks(fontsize=6, fontweight='bold')\n",
    "plt.title('2018', fontsize='12',\n",
    "    loc='center',fontweight='bold',y=1.2)"
   ]
  },
  {
   "cell_type": "code",
   "execution_count": 425,
   "metadata": {},
   "outputs": [
    {
     "data": {
      "text/plain": [
       "Text(0.5, 1.2, '2018')"
      ]
     },
     "execution_count": 425,
     "metadata": {},
     "output_type": "execute_result"
    },
    {
     "data": {
      "image/png": "[encoded data removed]",
      "text/plain": [
       "<Figure size 500x200 with 1 Axes>"
      ]
     },
     "metadata": {},
     "output_type": "display_data"
    }
   ],
   "source": [
    "plt.figure(figsize=(5,2)) # Adjust the figure size for better readability\n",
    "sns.heatmap(\n",
    "score_corr_18,\n",
    "    annot=True,\n",
    "    cmap='coolwarm',\n",
    "    fmt=\".2f\",\n",
    "    cbar=False,\n",
    "    linewidths=.5)\n",
    "plt.xticks(fontsize=6, rotation=-70,\n",
    "    fontweight='bold')\n",
    "plt.yticks(fontsize=6, fontweight='bold')\n",
    "plt.title('2018', fontsize='12',\n",
    "    loc='center',fontweight='bold',y=1.2)\n",
    "\n"
   ]
  },
  {
   "cell_type": "markdown",
   "metadata": {},
   "source": [
    "### corr_2024=numeric_only_2024.corr()"
   ]
  },
  {
   "cell_type": "code",
   "execution_count": 426,
   "metadata": {},
   "outputs": [
    {
     "data": {
      "text/plain": [
       "Text(0.5, 1.2, '2024')"
      ]
     },
     "execution_count": 426,
     "metadata": {},
     "output_type": "execute_result"
    },
    {
     "data": {
      "image/png": "[encoded data removed]",
      "text/plain": [
       "<Figure size 500x200 with 1 Axes>"
      ]
     },
     "metadata": {},
     "output_type": "display_data"
    }
   ],
   "source": [
    "plt.figure(figsize=(5,2)) # Adjust the figure size for better readability\n",
    "sns.heatmap(\n",
    "score_corr_24,\n",
    "    annot=True,\n",
    "    cmap='coolwarm',\n",
    "    fmt=\".2f\",\n",
    "    cbar=False,\n",
    "    linewidths=.5)\n",
    "plt.xticks(fontsize=6, rotation=-70,\n",
    "    fontweight='bold')\n",
    "plt.yticks(fontsize=6, fontweight='bold')\n",
    "plt.title('2024', fontsize='12',\n",
    "    loc='center',fontweight='bold',y=1.2)"
   ]
  },
  {
   "cell_type": "code",
   "execution_count": 427,
   "metadata": {},
   "outputs": [
    {
     "data": {
      "text/html": [
       "<html>\n",
       "<head><meta charset=\"utf-8\" /></head>\n",
       "<body>\n",
       "    <div>            <script src=\"https://cdnjs.cloudflare.com/ajax/libs/mathjax/2.7.5/MathJax.js?config=TeX-AMS-MML_SVG\"></script><script type=\"text/javascript\">if (window.MathJax && window.MathJax.Hub && window.MathJax.Hub.Config) {window.MathJax.Hub.Config({SVG: {font: \"STIX-Web\"}});}</script>                <script type=\"text/javascript\">window.PlotlyConfig = {MathJaxConfig: 'local'};</script>\n",
       "        <script charset=\"utf-8\" src=\"https://cdn.plot.ly/plotly-3.1.0.min.js\" integrity=\"sha256-Ei4740bWZhaUTQuD6q9yQlgVCMPBz6CZWhevDYPv93A=\" crossorigin=\"anonymous\"></script>                <div id=\"83a0aef4-2507-4bd7-8c97-0561b0b95c57\" class=\"plotly-graph-div\" style=\"height:525px; width:100%;\"></div>            <script type=\"text/javascript\">                window.PLOTLYENV=window.PLOTLYENV || {};                                if (document.getElementById(\"83a0aef4-2507-4bd7-8c97-0561b0b95c57\")) {                    Plotly.newPlot(                        \"83a0aef4-2507-4bd7-8c97-0561b0b95c57\",                        [{\"customdata\":{\"dtype\":\"f8\",\"bdata\":\"l24Sg8DK5T\\u002fAyqFFtvPlP0Fg5dAi2+U\\u002fRIts5\\u002fup5T8fhetRuB7lP9Ei2\\u002fl+auQ\\u002fTDeJQWDl5D+cxCCwcmjlP0oMAiuHFuU\\u002fTmIQWDm05D8ZBFYOLbLdP1g5tMh2vuM\\u002f001iEFg55D\\u002fZzvdT46XjP42XbhKDwOI\\u002fDi2yne+n4j\\u002fTTWIQWDnkPxsv3SQGgeE\\u002fdJMYBFYO4T+TGARWDi3SP8ZLN4lBYOE\\u002fpHA9Ctej5D+kcD0K16PgPw4tsp3vp94\\u002fL90kBoGV2z+Nl24Sg8DaP7TIdr6fGuM\\u002fWmQ730+N3z89CtejcD3iP4cW2c73U+M\\u002fAAAAAAAA5D8hsHJoke3kP30\\u002fNV66SeA\\u002f\\u002ftR46SYx5D9iEFg5tMjWPyPb+X5qvNw\\u002fy6FFtvP94D9mZmZmZmbiPw4tsp3vp9Y\\u002fGy\\u002fdJAaB3T93vp8aL93gP0a28\\u002f3UeOE\\u002fNV66SQwC4z9fukkMAivnP+18PzVeuuE\\u002f\\u002fKnx0k1i5D+WQ4ts5\\u002fvRP5huEoPAyuE\\u002fYOXQItv54j9mZmZmZmbWP6jGSzeJQeQ\\u002fTDeJQWDl4D8IrBxaZDvXPxgEVg4tsuE\\u002f46WbxCCw4j9mZmZmZmbiPwisHFpkO88\\u002frkfhehSu3z\\u002fwp8ZLN4nZP3WTGARWDt0\\u002f30+Nl24S2z8xCKwcWmTjPxgEVg4tsuE\\u002fHVpkO99P4T\\u002f2KFyPwvXgP3npJjEIrNw\\u002fGQRWDi2yzT\\u002fjpZvEILDaP\\u002fp+arx0k9A\\u002fWDm0yHa+3z\\u002f6fmq8dJPkP8dLN4lBYN0\\u002f2c73U+Ol0z8j2\\u002fl+arzUP8dLN4lBYNU\\u002f+FPjpZvE4D+WQ4ts5\\u002fvhPzvfT42XbtI\\u002f+FPjpZvEwD9\\u002farx0kxjgP\\u002fp+arx0k9A\\u002fUrgehetR2D\\u002fl0CLb+X7iP4PAyqFFtrM\\u002fcT0K16Nw3T+0yHa+nxrjP4XrUbgehds\\u002f46WbxCCw0j+e76fGSzfZP8HKoUW2890\\u002fxSCwcmiR3T9I4XoUrkfhP+xRuB6F69E\\u002fSOF6FK5H2T8tsp3vp8bjP53vp8ZLN+E\\u002fHVpkO99P4T\\u002fFILByaJHlP3WTGARWDt0\\u002fYOXQItv51j+iRbbz\\u002fdTgP6AaL90kBsE\\u002fYhBYObTI1j+gGi\\u002fdJAbRP1CNl24Sg+A\\u002fx0s3iUFg3T8X2c73U+PdP1YOLbKd798\\u002flkOLbOf72T\\u002fVeOkmMQjkP\\u002fLSTWIQWNE\\u002fN4lBYOXQ2j+4HoXrUbjWP6abxCCwcuA\\u002fj8L1KFyP4j+4HoXrUbjiP9v5fmq8dNM\\u002fsnJoke181z\\u002fP91PjpZvgPxKDwMqhReY\\u002fK4cW2c730z8rhxbZzvfTP8uhRbbz\\u002feA\\u002fVOOlm8Qg4D9\\u002farx0kxjgP1CNl24Sg8A\\u002fIbByaJHt3D8AAAAAAADYP6RwPQrXo9A\\u002fj8L1KFyP4j\\u002f+1HjpJjHIPyuHFtnO99M\\u002fc2iR7Xw\\u002f4T\\u002f2KFyPwvXYP83MzMzMzNw\\u002fKVyPwvUo3D\\u002f8qfHSTWKQP3e+nxov3cQ\\u002fLbKd76fG2z+e76fGSzfZP99PjZduEts\\u002fAAAAAAAAAAB9PzVeuknMP5ZDi2zn+9k\\u002fw\\u002fUoXI\\u002fCtT9t5\\u002fup8dLhP8uhRbbz\\u002feA\\u002fmpmZmZmZmT83iUFg5dDaP7pJDAIrh7Y\\u002fJzEIrBxa5D8IrBxaZDvPP2IQWDm0yN4\\u002feekmMQisvD+F61G4HoXTP6RwPQrXo7A\\u002f\",\"shape\":\"156, 1\"},\"hovertemplate\":\"GDP per capita=%{marker.color}\\u003cbr\\u003eScore=%{y}\\u003cbr\\u003eFreedom to make life choices=%{customdata[0]}\\u003cextra\\u003e\\u003c\\u002fextra\\u003e\",\"legendgroup\":\"\",\"marker\":{\"color\":{\"dtype\":\"f8\",\"bdata\":\"4XoUrkfh9D+yne+nxkv3PwRWDi2ynfU\\u002fsXJoke189T+4HoXrUbj2Py2yne+nxvU\\u002fSOF6FK5H9T99PzVeukn0P65H4XoUrvU\\u002fcT0K16Nw9T+BlUOLbOfzP9v5fmq8dPU\\u002fKVyPwvUo8D9fukkMAiv3P3E9CtejcPU\\u002fyXa+nxov9T+d76fGSzf5P5HtfD81XvY\\u002fN4lBYOXQ9D\\u002f4U+Olm8QAQO58PzVeuvM\\u002fUrgehetR9D\\u002fjpZvEILD0P8\\u002f3U+Olm\\u002fA\\u002ff2q8dJMY8j\\u002fXo3A9Ctf1P5huEoPAyvE\\u002fWmQ730+N7z9eukkMAivxP8qhRbbz\\u002feg\\u002fsHJoke188T\\u002f8qfHSTWL6P6rx0k1iEPY\\u002fEFg5tMh2+D\\u002f6fmq8dJPyP2q8dJMYBPQ\\u002fuB6F61G47j\\u002fFILByaJHzP1yPwvUoXPM\\u002fl24Sg8DK6T\\u002fGSzeJQWDlPzeJQWDl0PI\\u002fnMQgsHJo9T82XrpJDALnPy\\u002fdJAaBlfc\\u002fqMZLN4lB8D\\u002fTTWIQWDn0P6abxCCwcuw\\u002fbef7qfHS6T\\u002f0\\u002fdR46SbzPxsv3SQGgfM\\u002fQmDl0CLb8T+R7Xw\\u002fNV7yP05iEFg5tPQ\\u002fcT0K16Nw8T9pke18PzXqP6jGSzeJQfQ\\u002fRIts5\\u002fup8z\\u002fRItv5fmryP30\\u002fNV66SfI\\u002fRIts5\\u002fup8z\\u002fUeOkmMQjoPzMzMzMzM\\u002fM\\u002fuB6F61G46j8X2c73U+PtP1yPwvUoXOs\\u002foBov3SQG5T+oxks3iUHwPyPb+X5qvPI\\u002fhetRuB6F7z\\u002fNzMzMzMzoP9ejcD0K1+M\\u002fObTIdr6f8D+R7Xw\\u002fNV7yP3e+nxov3eQ\\u002fexSuR+F69j81XrpJDALzPzMzMzMzM+8\\u002fEFg5tMh28j\\u002fhehSuR+HuPxKDwMqhRfA\\u002f16NwPQrX8T8GgZVDi2zvP4cW2c73U+8\\u002fIbByaJHt6D\\u002fZzvdT46XvP\\u002fyp8dJNYvA\\u002fvHSTGARW3j\\u002fjpZvEILDuP+j7qfHSTeo\\u002fQDVeukkM5j\\u002f2KFyPwvXgP0jhehSuR+0\\u002fc2iR7Xw\\u002f7T\\u002fhehSuR+HmP\\u002fhT46WbxOw\\u002fRbbz\\u002fdR46T8AAAAAAAAAAB+F61G4HuE\\u002fd76fGi\\u002fd8D8zMzMzMzPbP6wcWmQ73+8\\u002f+n5qvHST8D8lBoGVQ4vkPxSuR+F6FO4\\u002fjGzn+6nx8D8dWmQ730\\u002fhP4xs5\\u002fup8eI\\u002f2\\u002fl+arx02z8K16NwPQrnP83MzMzMzOw\\u002fHVpkO99P7T\\u002f8qfHSTWLQP23n+6nx0uU\\u002foBov3SQG4T\\u002fHSzeJQWDtPylcj8L1KPA\\u002frkfhehSu1z8shxbZzvfrP8QgsHJokeE\\u002ff2q8dJMY1D9SuB6F61HsP\\u002fLSTWIQWMk\\u002fWmQ730+N3z+WQ4ts5\\u002fvhP23n+6nx0uE\\u002fg8DKoUW20z+yne+nxkvrP+kmMQisHOo\\u002fbef7qfHS5T+28\\u002f3UeOnWP0SLbOf7qbE\\u002f30+Nl24S5z\\u002f4U+Olm8TAP8\\u002f3U+Olm9Q\\u002f\\u002ftR46SYx2D9cj8L1KFzjP8ZLN4lBYOk\\u002f+n5qvHST0D9qvHSTGATWP2iR7Xw\\u002fNd4\\u002fXI\\u002fC9Shc5z\\u002f4U+Olm8TQPwwCK4cW2dY\\u002fc2iR7Xw\\u002f1T8Sg8DKoUXwPwIrhxbZzsc\\u002fKVyPwvUo1D\\u002fb+X5qvHSzP0A1XrpJDOY\\u002fc2iR7Xw\\u002f1T99PzVeukncPx+F61G4Ht0\\u002fxSCwcmiR1T\\u002f6fmq8dJOYP7Kd76fGS7c\\u002f\"},\"coloraxis\":\"coloraxis\",\"symbol\":\"circle\"},\"mode\":\"markers\",\"name\":\"\",\"orientation\":\"v\",\"showlegend\":false,\"x\":{\"dtype\":\"f8\",\"bdata\":\"4XoUrkfh9D+yne+nxkv3PwRWDi2ynfU\\u002fsXJoke189T+4HoXrUbj2Py2yne+nxvU\\u002fSOF6FK5H9T99PzVeukn0P65H4XoUrvU\\u002fcT0K16Nw9T+BlUOLbOfzP9v5fmq8dPU\\u002fKVyPwvUo8D9fukkMAiv3P3E9CtejcPU\\u002fyXa+nxov9T+d76fGSzf5P5HtfD81XvY\\u002fN4lBYOXQ9D\\u002f4U+Olm8QAQO58PzVeuvM\\u002fUrgehetR9D\\u002fjpZvEILD0P8\\u002f3U+Olm\\u002fA\\u002ff2q8dJMY8j\\u002fXo3A9Ctf1P5huEoPAyvE\\u002fWmQ730+N7z9eukkMAivxP8qhRbbz\\u002feg\\u002fsHJoke188T\\u002f8qfHSTWL6P6rx0k1iEPY\\u002fEFg5tMh2+D\\u002f6fmq8dJPyP2q8dJMYBPQ\\u002fuB6F61G47j\\u002fFILByaJHzP1yPwvUoXPM\\u002fl24Sg8DK6T\\u002fGSzeJQWDlPzeJQWDl0PI\\u002fnMQgsHJo9T82XrpJDALnPy\\u002fdJAaBlfc\\u002fqMZLN4lB8D\\u002fTTWIQWDn0P6abxCCwcuw\\u002fbef7qfHS6T\\u002f0\\u002fdR46SbzPxsv3SQGgfM\\u002fQmDl0CLb8T+R7Xw\\u002fNV7yP05iEFg5tPQ\\u002fcT0K16Nw8T9pke18PzXqP6jGSzeJQfQ\\u002fRIts5\\u002fup8z\\u002fRItv5fmryP30\\u002fNV66SfI\\u002fRIts5\\u002fup8z\\u002fUeOkmMQjoPzMzMzMzM\\u002fM\\u002fuB6F61G46j8X2c73U+PtP1yPwvUoXOs\\u002foBov3SQG5T+oxks3iUHwPyPb+X5qvPI\\u002fhetRuB6F7z\\u002fNzMzMzMzoP9ejcD0K1+M\\u002fObTIdr6f8D+R7Xw\\u002fNV7yP3e+nxov3eQ\\u002fexSuR+F69j81XrpJDALzPzMzMzMzM+8\\u002fEFg5tMh28j\\u002fhehSuR+HuPxKDwMqhRfA\\u002f16NwPQrX8T8GgZVDi2zvP4cW2c73U+8\\u002fIbByaJHt6D\\u002fZzvdT46XvP\\u002fyp8dJNYvA\\u002fvHSTGARW3j\\u002fjpZvEILDuP+j7qfHSTeo\\u002fQDVeukkM5j\\u002f2KFyPwvXgP0jhehSuR+0\\u002fc2iR7Xw\\u002f7T\\u002fhehSuR+HmP\\u002fhT46WbxOw\\u002fRbbz\\u002fdR46T8AAAAAAAAAAB+F61G4HuE\\u002fd76fGi\\u002fd8D8zMzMzMzPbP6wcWmQ73+8\\u002f+n5qvHST8D8lBoGVQ4vkPxSuR+F6FO4\\u002fjGzn+6nx8D8dWmQ730\\u002fhP4xs5\\u002fup8eI\\u002f2\\u002fl+arx02z8K16NwPQrnP83MzMzMzOw\\u002fHVpkO99P7T\\u002f8qfHSTWLQP23n+6nx0uU\\u002foBov3SQG4T\\u002fHSzeJQWDtPylcj8L1KPA\\u002frkfhehSu1z8shxbZzvfrP8QgsHJokeE\\u002ff2q8dJMY1D9SuB6F61HsP\\u002fLSTWIQWMk\\u002fWmQ730+N3z+WQ4ts5\\u002fvhP23n+6nx0uE\\u002fg8DKoUW20z+yne+nxkvrP+kmMQisHOo\\u002fbef7qfHS5T+28\\u002f3UeOnWP0SLbOf7qbE\\u002f30+Nl24S5z\\u002f4U+Olm8TAP8\\u002f3U+Olm9Q\\u002f\\u002ftR46SYx2D9cj8L1KFzjP8ZLN4lBYOk\\u002f+n5qvHST0D9qvHSTGATWP2iR7Xw\\u002fNd4\\u002fXI\\u002fC9Shc5z\\u002f4U+Olm8TQPwwCK4cW2dY\\u002fc2iR7Xw\\u002f1T8Sg8DKoUXwPwIrhxbZzsc\\u002fKVyPwvUo1D\\u002fb+X5qvHSzP0A1XrpJDOY\\u002fc2iR7Xw\\u002f1T99PzVeukncPx+F61G4Ht0\\u002fxSCwcmiR1T\\u002f6fmq8dJOYP7Kd76fGS7c\\u002f\"},\"xaxis\":\"x\",\"y\":{\"dtype\":\"f8\",\"bdata\":\"vEkMAiuHHkDFSzeJQWAeQLgehetROB5AexSuR+H6HUCmm8QgsPIdQN0kBoGVwx1AG1pkO99PHUCyne+nxksdQKjGSzeJQR1ASgwCK4cWHUDD9Shcj8IcQHSTGARWjhxAfT81XrpJHECcxCCwcugbQFyPwvUo3BtAaZHtfD+1G0CkcD0K16MbQCUGgZVDixtAqMZLN4lBG0B\\u002farx0kxgbQPLSTWIQ2BpAN166SQyCGkDb+X5qvPQZQMHKoUW28xlAgZVDi2znGUDdJAaBlcMZQLgehetRuBlAkxgEVg6tGUBaZDvfT40ZQLxJDAIrhxlAarx0kxiEGUDl0CLb+X4ZQJZDi2znexlArBxaZDtfGUB9PzVeukkZQD0K16NwPRlACtejcD0KGUD4U+Olm8QYQP3UeOkmsRhAYLpJDAKrGECq8dJNYpAYQMmhRbbzfRhA7FG4HoVrGED8qfHSTWIYQKBFtvP9VBhAfT81XrpJGEAAAAAAAAAYQDEIrBxa5BdAbef7qfHSF0ADK4cW2c4XQJhuEoPAyhdASOF6FK7HF0AIrBxaZLsXQClcj8L1qBdAqvHSTWKQF0CPwvUoXI8XQAAAAAAAgBdA16NwPQpXF0A9CtejcD0XQClcj8L1KBdAQDVeukkMF0A3XrpJDAIXQNv5fmq89BZA001iEFi5FkDz\\u002fdR46aYWQNrO91PjpRZAj8L1KFyPFkAlBoGVQ4sWQHsUrkfhehZA3SQGgZVDFkB\\u002farx0kxgWQGq8dJMYBBZAO99PjZfuFUA730+Nl+4VQBfZzvdT4xVAuB6F61G4FUCkcD0K16MVQGQ730+NlxVAO99PjZduFUA730+Nl24VQBfZzvdTYxVAZBBYObRIFUBpke18PzUVQK5H4XoULhVAarx0kxgEFUCWQ4ts5\\u002fsUQOj7qfHSzRRAsp3vp8bLFEA9CtejcL0UQL+fGi\\u002fdpBRAH4XrUbieFECgGi\\u002fdJIYUQGq8dJMYhBRAAAAAAACAFEC28\\u002f3UeGkUQKwcWmQ7XxRAhxbZzvdTFEAhsHJoke0TQGZmZmZm5hNACKwcWmS7E0CF61G4HoUTQNNNYhBYORNA1XjpJjEIE0BGtvP91PgSQEw3iUFg5RJAhxbZzvfTEkDJdr6fGq8SQFTjpZvEoBJAoBov3SSGEkDLoUW2830SQJHtfD81XhJA8tJNYhBYEkBkEFg5tEgSQCPb+X5qPBJAAAAAAAAAEkD8qfHSTeIRQG3n+6nx0hFAfT81XrrJEUDdJAaBlcMRQAisHFpkuxFAGQRWDi2yEUCTGARWDq0RQF66SQwCqxFApHA9CtejEUA1XrpJDIIRQAaBlUOLbBFAZmZmZmZmEUBcj8L1KFwRQGQQWDm0SBFACKwcWmQ7EUBOYhBYOTQRQHsUrkfh+hBAw\\u002fUoXI\\u002fCEEBEi2zn+6kQQL+fGi\\u002fdpBBAqvHSTWKQEEB0kxgEVo4QQLbz\\u002fdR4aRBAy6FFtvP9D0CDwMqhRbYPQBBYObTIdg5AXI\\u002fC9ShcDkD+1HjpJjEOQPCnxks3iQ1AdZMYBFYODUC4HoXrUbgMQBkEVg4tsgxADi2yne+nDED2KFyPwvULQBkEVg4tsgtA3SQGgZVDC0DXo3A9CtcKQAaBlUOLbApA1XjpJjEICkBEi2zn+6kIQD0K16NwPQdA\"},\"yaxis\":\"y\",\"type\":\"scatter\"},{\"hovertemplate\":\"\\u003cb\\u003eOLS trendline\\u003c\\u002fb\\u003e\\u003cbr\\u003eScore = 2.29123 * GDP per capita + 3.3334\\u003cbr\\u003eR\\u003csup\\u003e2\\u003c\\u002fsup\\u003e=0.643403\\u003cbr\\u003e\\u003cbr\\u003eGDP per capita=%{x}\\u003cbr\\u003eScore=%{y} \\u003cb\\u003e(trend)\\u003c\\u002fb\\u003e\\u003cextra\\u003e\\u003c\\u002fextra\\u003e\",\"legendgroup\":\"\",\"marker\":{\"symbol\":\"circle\"},\"mode\":\"lines\",\"name\":\"\",\"showlegend\":false,\"x\":{\"dtype\":\"f8\",\"bdata\":\"AAAAAAAAAAD6fmq8dJOYP0SLbOf7qbE\\u002f2\\u002fl+arx0sz+yne+nxku3P\\u002fhT46WbxMA\\u002fAiuHFtnOxz\\u002fy0k1iEFjJP\\u002fyp8dJNYtA\\u002f+n5qvHST0D\\u002f4U+Olm8TQP4PAyqFFttM\\u002ff2q8dJMY1D8pXI\\u002fC9SjUP8\\u002f3U+Olm9Q\\u002fc2iR7Xw\\u002f1T9zaJHtfD\\u002fVP8UgsHJokdU\\u002farx0kxgE1j8MAiuHFtnWP7bz\\u002fdR46dY\\u002frkfhehSu1z\\u002f+1HjpJjHYPzMzMzMzM9s\\u002f2\\u002fl+arx02z99PzVeukncPx+F61G4Ht0\\u002faJHtfD813j+8dJMYBFbeP1pkO99Pjd8\\u002f9ihcj8L14D+gGi\\u002fdJAbhPx+F61G4HuE\\u002fHVpkO99P4T\\u002fEILByaJHhP23n+6nx0uE\\u002flkOLbOf74T+MbOf7qfHiP1yPwvUoXOM\\u002f16NwPQrX4z8lBoGVQ4vkP3e+nxov3eQ\\u002foBov3SQG5T\\u002fGSzeJQWDlP23n+6nx0uU\\u002fbef7qfHS5T9ANV66SQzmP0A1XrpJDOY\\u002f4XoUrkfh5j82XrpJDALnPwrXo3A9Cuc\\u002f30+Nl24S5z9cj8L1KFznP9R46SYxCOg\\u002fzczMzMzM6D8hsHJoke3oP8qhRbbz\\u002feg\\u002fxks3iUFg6T9FtvP91HjpP5duEoPAyuk\\u002fbef7qfHS6T\\u002fpJjEIrBzqP2mR7Xw\\u002fNeo\\u002f6Pup8dJN6j+4HoXrUbjqP7Kd76fGS+s\\u002fXI\\u002fC9Shc6z8shxbZzvfrP1K4HoXrUew\\u002fppvEILBy7D\\u002f4U+Olm8TsP83MzMzMzOw\\u002fc2iR7Xw\\u002f7T9I4XoUrkftPx1aZDvfT+0\\u002fx0s3iUFg7T8X2c73U+PtPxSuR+F6FO4\\u002f46WbxCCw7j+4HoXrUbjuP+F6FK5H4e4\\u002fMzMzMzMz7z+HFtnO91PvPwaBlUOLbO8\\u002fhetRuB6F7z9aZDvfT43vP9nO91Pjpe8\\u002frBxaZDvf7z8pXI\\u002fC9SjwPylcj8L1KPA\\u002fqMZLN4lB8D+oxks3iUHwPxKDwMqhRfA\\u002fEoPAyqFF8D\\u002f8qfHSTWLwP\\u002fp+arx0k\\u002fA\\u002fz\\u002fdT46Wb8D85tMh2vp\\u002fwP3e+nxov3fA\\u002fjGzn+6nx8D9eukkMAivxP3E9CtejcPE\\u002fsHJoke188T+YbhKDwMrxP9ejcD0K1\\u002fE\\u002fQmDl0CLb8T9\\u002farx0kxjyP30\\u002fNV66SfI\\u002fke18PzVe8j+R7Xw\\u002fNV7yP9Ei2\\u002fl+avI\\u002fEFg5tMh28j\\u002f6fmq8dJPyPyPb+X5qvPI\\u002fN4lBYOXQ8j81XrpJDALzP\\u002fT91HjpJvM\\u002fMzMzMzMz8z9cj8L1KFzzPxsv3SQGgfM\\u002fxSCwcmiR8z9Ei2zn+6nzP0SLbOf7qfM\\u002f7nw\\u002fNV668z+BlUOLbOfzP2q8dJMYBPQ\\u002f001iEFg59D+oxks3iUH0P30\\u002fNV66SfQ\\u002fUrgehetR9D\\u002fjpZvEILD0P05iEFg5tPQ\\u002fN4lBYOXQ9D\\u002fhehSuR+H0P8l2vp8aL\\u002fU\\u002fSOF6FK5H9T+cxCCwcmj1P3E9CtejcPU\\u002fcT0K16Nw9T\\u002fb+X5qvHT1P7FyaJHtfPU\\u002fBFYOLbKd9T+uR+F6FK71Py2yne+nxvU\\u002f16NwPQrX9T+q8dJNYhD2P5HtfD81XvY\\u002fexSuR+F69j+4HoXrUbj2P1+6SQwCK\\u002fc\\u002fsp3vp8ZL9z8v3SQGgZX3PxBYObTIdvg\\u002fne+nxks3+T\\u002f8qfHSTWL6P\\u002fhT46WbxABA\"},\"xaxis\":\"x\",\"y\":{\"dtype\":\"f8\",\"bdata\":\"LXQTTc2qCkD9JS2xaxsLQGRT3ayU7gtAlnwPim0PDEC5i5+I0FUMQGoJdS+DEQ1APZba1JgTDkAlb+cG6EsOQDIy0HgRXA9AbGhTRSVqD0CmntYROXgPQGZE2agJKBBAoHpcdR02EED\\u002fWHIXdjgQQJhtC4biSBBATh3m2lhgEEBOHebaWGAQQCl1UwUUbBBAwonsc4B8EECV1AivAJsQQPSyHlFZnRBAaB8l6oC5EEBgEtT6RcwQQNLl17yLOhFATl8vRe5DEUAhqkuAbmIRQPT0Z7vugBFAQ7nbftGoEUABdgfDgq0RQA73psoW2hFAyhrQN+YwEkCI1\\u002ft7lzUSQKVyPWKhPBJA36jALrVKEkDXm28\\u002fel0SQM+OHlA\\u002fcBJAquaLevp7EkDN9Rt5XcISQKBAOLTd4BJAMUiAMw8EE0BbZGEhrTcTQBEUPHYjTxNA7GupoN5aE0AB+pmXrXQTQDQjzHSGlRNANCPMdIaVE0DMN2Xj8qUTQMw3ZePypRNAcs2dWfPiE0DvRvXhVewTQE4lC4Su7hNArQMhJgfxE0AE1eXYJAYUQM8SsSRqNxRAt+u9VrlvFEAzZRXfG3kUQPEhQSPNfRRAZY5HvPSZFECCKYmi\\u002fqAUQDjZY\\u002fd0uBRAmLd5mc26FEDuiD5M688UQAwkgDL11hRAKb\\u002fBGP\\u002fdFED8Cd5Tf\\u002fwUQKqsZ7m6JhVAaGmT\\u002fWsrFUB26jIFAFgVQIp4I\\u002fzOcRVABvJ6hDF7FUC8oVXZp5IVQByAa3sAlRVATqmdWNm1FUCsh7P6MbgVQAxmyZyKuhVAyiL14Du\\u002fFUC6CFMCxuQVQPQ+1s7Z8hVAAcB11m0fFkBgnot4xiEWQDv2+KKBLRZA8aXT9\\u002fdEFkBtHyuAWk4WQIq6bGZkVRZAqFWuTG5cFkAGNMTuxl4WQCTPBdXQZRZAvOOeQz12FkDuDNEgFpcWQO4M0SAWlxZAKENU7SmlFkAoQ1TtKaUWQIghao+CpxZAiCFqj4KnFkAhNgP+7rcWQJWiCZcW1BZAU18128fYFkCyPUt9INsWQENFk\\u002fxR\\u002fhZAHp0AJw0KF0BQxjIE5ioXQKCKpsfIUhdAvCXordJZF0DKpoe1ZoYXQOZByZtwjRdARiDfPcmPF0DXJye9+rIXQEuULVYizxdAJuyagN3aF0Am7JqA3doXQEOH3Gbn4RdAYCIeTfHoF0D5Nre7XfkXQLDmkRDUEBhAij7\\u002fOo8cGED+qgXUtjgYQFZ8yobUTRhAchcMbd5UGEAox+bBVGwYQICYq3RygRhA\\u002fBED\\u002fdSKGEA2SIbJ6JgYQDZIhsnomBhAssHdUUuiGEDHT85IGrwYQGBkZ7eGzBhAM6+D8gbrGEDxa682uO8YQK8o23pp9BhAbeUGvxr5GED23\\u002f1OES8ZQFa+E\\u002fFpMRlA7tKsX9ZBGUBqTAToOEsZQHjNo+\\u002fMdxlAsgMnvOCFGUCq9tXMpZgZQGizARFXnRlAaLMBEVedGUDHkRezr58ZQIZOQ\\u002fdgpBlAfUHyBya3GUD5ukmQiMAZQDPxzFyczhlAr2ok5f7XGUDik1bC1\\u002fgZQO4U9slrJRpAiCmPONg1GkAYMde3CVkaQH6DO3K7mhpAdXbqgoCtGkAjGXTou9caQIzfJrvGWBtA\\u002frIqfQzHG0AWHGe1UnIcQP4xy9yKRSBA\"},\"yaxis\":\"y\",\"type\":\"scatter\"}],                        {\"template\":{\"data\":{\"histogram2dcontour\":[{\"type\":\"histogram2dcontour\",\"colorbar\":{\"outlinewidth\":0,\"ticks\":\"\"},\"colorscale\":[[0.0,\"#0d0887\"],[0.1111111111111111,\"#46039f\"],[0.2222222222222222,\"#7201a8\"],[0.3333333333333333,\"#9c179e\"],[0.4444444444444444,\"#bd3786\"],[0.5555555555555556,\"#d8576b\"],[0.6666666666666666,\"#ed7953\"],[0.7777777777777778,\"#fb9f3a\"],[0.8888888888888888,\"#fdca26\"],[1.0,\"#f0f921\"]]}],\"choropleth\":[{\"type\":\"choropleth\",\"colorbar\":{\"outlinewidth\":0,\"ticks\":\"\"}}],\"histogram2d\":[{\"type\":\"histogram2d\",\"colorbar\":{\"outlinewidth\":0,\"ticks\":\"\"},\"colorscale\":[[0.0,\"#0d0887\"],[0.1111111111111111,\"#46039f\"],[0.2222222222222222,\"#7201a8\"],[0.3333333333333333,\"#9c179e\"],[0.4444444444444444,\"#bd3786\"],[0.5555555555555556,\"#d8576b\"],[0.6666666666666666,\"#ed7953\"],[0.7777777777777778,\"#fb9f3a\"],[0.8888888888888888,\"#fdca26\"],[1.0,\"#f0f921\"]]}],\"heatmap\":[{\"type\":\"heatmap\",\"colorbar\":{\"outlinewidth\":0,\"ticks\":\"\"},\"colorscale\":[[0.0,\"#0d0887\"],[0.1111111111111111,\"#46039f\"],[0.2222222222222222,\"#7201a8\"],[0.3333333333333333,\"#9c179e\"],[0.4444444444444444,\"#bd3786\"],[0.5555555555555556,\"#d8576b\"],[0.6666666666666666,\"#ed7953\"],[0.7777777777777778,\"#fb9f3a\"],[0.8888888888888888,\"#fdca26\"],[1.0,\"#f0f921\"]]}],\"contourcarpet\":[{\"type\":\"contourcarpet\",\"colorbar\":{\"outlinewidth\":0,\"ticks\":\"\"}}],\"contour\":[{\"type\":\"contour\",\"colorbar\":{\"outlinewidth\":0,\"ticks\":\"\"},\"colorscale\":[[0.0,\"#0d0887\"],[0.1111111111111111,\"#46039f\"],[0.2222222222222222,\"#7201a8\"],[0.3333333333333333,\"#9c179e\"],[0.4444444444444444,\"#bd3786\"],[0.5555555555555556,\"#d8576b\"],[0.6666666666666666,\"#ed7953\"],[0.7777777777777778,\"#fb9f3a\"],[0.8888888888888888,\"#fdca26\"],[1.0,\"#f0f921\"]]}],\"surface\":[{\"type\":\"surface\",\"colorbar\":{\"outlinewidth\":0,\"ticks\":\"\"},\"colorscale\":[[0.0,\"#0d0887\"],[0.1111111111111111,\"#46039f\"],[0.2222222222222222,\"#7201a8\"],[0.3333333333333333,\"#9c179e\"],[0.4444444444444444,\"#bd3786\"],[0.5555555555555556,\"#d8576b\"],[0.6666666666666666,\"#ed7953\"],[0.7777777777777778,\"#fb9f3a\"],[0.8888888888888888,\"#fdca26\"],[1.0,\"#f0f921\"]]}],\"mesh3d\":[{\"type\":\"mesh3d\",\"colorbar\":{\"outlinewidth\":0,\"ticks\":\"\"}}],\"scatter\":[{\"fillpattern\":{\"fillmode\":\"overlay\",\"size\":10,\"solidity\":0.2},\"type\":\"scatter\"}],\"parcoords\":[{\"type\":\"parcoords\",\"line\":{\"colorbar\":{\"outlinewidth\":0,\"ticks\":\"\"}}}],\"scatterpolargl\":[{\"type\":\"scatterpolargl\",\"marker\":{\"colorbar\":{\"outlinewidth\":0,\"ticks\":\"\"}}}],\"bar\":[{\"error_x\":{\"color\":\"#2a3f5f\"},\"error_y\":{\"color\":\"#2a3f5f\"},\"marker\":{\"line\":{\"color\":\"#E5ECF6\",\"width\":0.5},\"pattern\":{\"fillmode\":\"overlay\",\"size\":10,\"solidity\":0.2}},\"type\":\"bar\"}],\"scattergeo\":[{\"type\":\"scattergeo\",\"marker\":{\"colorbar\":{\"outlinewidth\":0,\"ticks\":\"\"}}}],\"scatterpolar\":[{\"type\":\"scatterpolar\",\"marker\":{\"colorbar\":{\"outlinewidth\":0,\"ticks\":\"\"}}}],\"histogram\":[{\"marker\":{\"pattern\":{\"fillmode\":\"overlay\",\"size\":10,\"solidity\":0.2}},\"type\":\"histogram\"}],\"scattergl\":[{\"type\":\"scattergl\",\"marker\":{\"colorbar\":{\"outlinewidth\":0,\"ticks\":\"\"}}}],\"scatter3d\":[{\"type\":\"scatter3d\",\"line\":{\"colorbar\":{\"outlinewidth\":0,\"ticks\":\"\"}},\"marker\":{\"colorbar\":{\"outlinewidth\":0,\"ticks\":\"\"}}}],\"scattermap\":[{\"type\":\"scattermap\",\"marker\":{\"colorbar\":{\"outlinewidth\":0,\"ticks\":\"\"}}}],\"scattermapbox\":[{\"type\":\"scattermapbox\",\"marker\":{\"colorbar\":{\"outlinewidth\":0,\"ticks\":\"\"}}}],\"scatterternary\":[{\"type\":\"scatterternary\",\"marker\":{\"colorbar\":{\"outlinewidth\":0,\"ticks\":\"\"}}}],\"scattercarpet\":[{\"type\":\"scattercarpet\",\"marker\":{\"colorbar\":{\"outlinewidth\":0,\"ticks\":\"\"}}}],\"carpet\":[{\"aaxis\":{\"endlinecolor\":\"#2a3f5f\",\"gridcolor\":\"white\",\"linecolor\":\"white\",\"minorgridcolor\":\"white\",\"startlinecolor\":\"#2a3f5f\"},\"baxis\":{\"endlinecolor\":\"#2a3f5f\",\"gridcolor\":\"white\",\"linecolor\":\"white\",\"minorgridcolor\":\"white\",\"startlinecolor\":\"#2a3f5f\"},\"type\":\"carpet\"}],\"table\":[{\"cells\":{\"fill\":{\"color\":\"#EBF0F8\"},\"line\":{\"color\":\"white\"}},\"header\":{\"fill\":{\"color\":\"#C8D4E3\"},\"line\":{\"color\":\"white\"}},\"type\":\"table\"}],\"barpolar\":[{\"marker\":{\"line\":{\"color\":\"#E5ECF6\",\"width\":0.5},\"pattern\":{\"fillmode\":\"overlay\",\"size\":10,\"solidity\":0.2}},\"type\":\"barpolar\"}],\"pie\":[{\"automargin\":true,\"type\":\"pie\"}]},\"layout\":{\"autotypenumbers\":\"strict\",\"colorway\":[\"#636efa\",\"#EF553B\",\"#00cc96\",\"#ab63fa\",\"#FFA15A\",\"#19d3f3\",\"#FF6692\",\"#B6E880\",\"#FF97FF\",\"#FECB52\"],\"font\":{\"color\":\"#2a3f5f\"},\"hovermode\":\"closest\",\"hoverlabel\":{\"align\":\"left\"},\"paper_bgcolor\":\"white\",\"plot_bgcolor\":\"#E5ECF6\",\"polar\":{\"bgcolor\":\"#E5ECF6\",\"angularaxis\":{\"gridcolor\":\"white\",\"linecolor\":\"white\",\"ticks\":\"\"},\"radialaxis\":{\"gridcolor\":\"white\",\"linecolor\":\"white\",\"ticks\":\"\"}},\"ternary\":{\"bgcolor\":\"#E5ECF6\",\"aaxis\":{\"gridcolor\":\"white\",\"linecolor\":\"white\",\"ticks\":\"\"},\"baxis\":{\"gridcolor\":\"white\",\"linecolor\":\"white\",\"ticks\":\"\"},\"caxis\":{\"gridcolor\":\"white\",\"linecolor\":\"white\",\"ticks\":\"\"}},\"coloraxis\":{\"colorbar\":{\"outlinewidth\":0,\"ticks\":\"\"}},\"colorscale\":{\"sequential\":[[0.0,\"#0d0887\"],[0.1111111111111111,\"#46039f\"],[0.2222222222222222,\"#7201a8\"],[0.3333333333333333,\"#9c179e\"],[0.4444444444444444,\"#bd3786\"],[0.5555555555555556,\"#d8576b\"],[0.6666666666666666,\"#ed7953\"],[0.7777777777777778,\"#fb9f3a\"],[0.8888888888888888,\"#fdca26\"],[1.0,\"#f0f921\"]],\"sequentialminus\":[[0.0,\"#0d0887\"],[0.1111111111111111,\"#46039f\"],[0.2222222222222222,\"#7201a8\"],[0.3333333333333333,\"#9c179e\"],[0.4444444444444444,\"#bd3786\"],[0.5555555555555556,\"#d8576b\"],[0.6666666666666666,\"#ed7953\"],[0.7777777777777778,\"#fb9f3a\"],[0.8888888888888888,\"#fdca26\"],[1.0,\"#f0f921\"]],\"diverging\":[[0,\"#8e0152\"],[0.1,\"#c51b7d\"],[0.2,\"#de77ae\"],[0.3,\"#f1b6da\"],[0.4,\"#fde0ef\"],[0.5,\"#f7f7f7\"],[0.6,\"#e6f5d0\"],[0.7,\"#b8e186\"],[0.8,\"#7fbc41\"],[0.9,\"#4d9221\"],[1,\"#276419\"]]},\"xaxis\":{\"gridcolor\":\"white\",\"linecolor\":\"white\",\"ticks\":\"\",\"title\":{\"standoff\":15},\"zerolinecolor\":\"white\",\"automargin\":true,\"zerolinewidth\":2},\"yaxis\":{\"gridcolor\":\"white\",\"linecolor\":\"white\",\"ticks\":\"\",\"title\":{\"standoff\":15},\"zerolinecolor\":\"white\",\"automargin\":true,\"zerolinewidth\":2},\"scene\":{\"xaxis\":{\"backgroundcolor\":\"#E5ECF6\",\"gridcolor\":\"white\",\"linecolor\":\"white\",\"showbackground\":true,\"ticks\":\"\",\"zerolinecolor\":\"white\",\"gridwidth\":2},\"yaxis\":{\"backgroundcolor\":\"#E5ECF6\",\"gridcolor\":\"white\",\"linecolor\":\"white\",\"showbackground\":true,\"ticks\":\"\",\"zerolinecolor\":\"white\",\"gridwidth\":2},\"zaxis\":{\"backgroundcolor\":\"#E5ECF6\",\"gridcolor\":\"white\",\"linecolor\":\"white\",\"showbackground\":true,\"ticks\":\"\",\"zerolinecolor\":\"white\",\"gridwidth\":2}},\"shapedefaults\":{\"line\":{\"color\":\"#2a3f5f\"}},\"annotationdefaults\":{\"arrowcolor\":\"#2a3f5f\",\"arrowhead\":0,\"arrowwidth\":1},\"geo\":{\"bgcolor\":\"white\",\"landcolor\":\"#E5ECF6\",\"subunitcolor\":\"white\",\"showland\":true,\"showlakes\":true,\"lakecolor\":\"white\"},\"title\":{\"x\":0.05},\"mapbox\":{\"style\":\"light\"}}},\"xaxis\":{\"anchor\":\"y\",\"domain\":[0.0,1.0],\"title\":{\"text\":\"GDP per capita\"}},\"yaxis\":{\"anchor\":\"x\",\"domain\":[0.0,1.0],\"title\":{\"text\":\"Score\"}},\"coloraxis\":{\"colorbar\":{\"title\":{\"text\":\"GDP per capita\"}},\"colorscale\":[[0.0,\"#0d0887\"],[0.1111111111111111,\"#46039f\"],[0.2222222222222222,\"#7201a8\"],[0.3333333333333333,\"#9c179e\"],[0.4444444444444444,\"#bd3786\"],[0.5555555555555556,\"#d8576b\"],[0.6666666666666666,\"#ed7953\"],[0.7777777777777778,\"#fb9f3a\"],[0.8888888888888888,\"#fdca26\"],[1.0,\"#f0f921\"]]},\"legend\":{\"tracegroupgap\":0},\"title\":{\"text\":\"2018\",\"x\":0.5}},                        {\"responsive\": true}                    ).then(function(){\n",
       "                            \n",
       "var gd = document.getElementById('83a0aef4-2507-4bd7-8c97-0561b0b95c57');\n",
       "var x = new MutationObserver(function (mutations, observer) {{\n",
       "        var display = window.getComputedStyle(gd).display;\n",
       "        if (!display || display === 'none') {{\n",
       "            console.log([gd, 'removed!']);\n",
       "            Plotly.purge(gd);\n",
       "            observer.disconnect();\n",
       "        }}\n",
       "}});\n",
       "\n",
       "// Listen for the removal of the full notebook cells\n",
       "var notebookContainer = gd.closest('#notebook-container');\n",
       "if (notebookContainer) {{\n",
       "    x.observe(notebookContainer, {childList: true});\n",
       "}}\n",
       "\n",
       "// Listen for the clearing of the current output cell\n",
       "var outputEl = gd.closest('.output');\n",
       "if (outputEl) {{\n",
       "    x.observe(outputEl, {childList: true});\n",
       "}}\n",
       "\n",
       "                        })                };            </script>        </div>\n",
       "</body>\n",
       "</html>"
      ]
     },
     "metadata": {},
     "output_type": "display_data"
    }
   ],
   "source": [
    "fig=px.scatter(df_2018, x=\"GDP per capita\", y=\"Score\", title=\"2018\", color=\"GDP per capita\", trendline='ols', hover_data='Freedom to make life choices')\n",
    "fig.update_layout(title_x=0.5)\n",
    "fig.show()"
   ]
  },
  {
   "cell_type": "code",
   "execution_count": 428,
   "metadata": {},
   "outputs": [
    {
     "data": {
      "text/html": [
       "<html>\n",
       "<head><meta charset=\"utf-8\" /></head>\n",
       "<body>\n",
       "    <div>            <script src=\"https://cdnjs.cloudflare.com/ajax/libs/mathjax/2.7.5/MathJax.js?config=TeX-AMS-MML_SVG\"></script><script type=\"text/javascript\">if (window.MathJax && window.MathJax.Hub && window.MathJax.Hub.Config) {window.MathJax.Hub.Config({SVG: {font: \"STIX-Web\"}});}</script>                <script type=\"text/javascript\">window.PlotlyConfig = {MathJaxConfig: 'local'};</script>\n",
       "        <script charset=\"utf-8\" src=\"https://cdn.plot.ly/plotly-3.1.0.min.js\" integrity=\"sha256-Ei4740bWZhaUTQuD6q9yQlgVCMPBz6CZWhevDYPv93A=\" crossorigin=\"anonymous\"></script>                <div id=\"3804b813-d559-4935-83f9-ade750f214e6\" class=\"plotly-graph-div\" style=\"height:525px; width:100%;\"></div>            <script type=\"text/javascript\">                window.PLOTLYENV=window.PLOTLYENV || {};                                if (document.getElementById(\"3804b813-d559-4935-83f9-ade750f214e6\")) {                    Plotly.newPlot(                        \"3804b813-d559-4935-83f9-ade750f214e6\",                        [{\"hovertemplate\":\"GDP per capita=%{marker.color}\\u003cbr\\u003eScore=%{y}\\u003cextra\\u003e\\u003c\\u002fextra\\u003e\",\"legendgroup\":\"\",\"marker\":{\"color\":{\"dtype\":\"f8\",\"bdata\":\"lkOLbOf7+z8zMzMzMzP9P2IQWDm0yPw\\u002fukkMAiuH\\u002fD\\u002f0\\u002fdR46Sb9P6wcWmQ73\\u002fc\\u002fO99PjZdu\\u002fj8fhetRuB77P9NNYhBYOQBA9ihcj8L19j8Sg8DKoUX8P166SQwCK\\u002fs\\u002f7FG4HoXr\\u002fT+6SQwCK4f8PwIrhxbZzv8\\u002fi2zn+6nx+j8OLbKd76f8P5ZDi2zn+\\u002fs\\u002f30+Nl24S+z\\u002ffT42XbhL7P8uhRbbz\\u002ffw\\u002fj8L1KFyP\\u002fD+amZmZmZn7PwaBlUOLbP0\\u002ff2q8dJMY9D8OLbKd76f6P65H4XoUrvs\\u002fd76fGi\\u002fd+D\\u002fl0CLb+X70P3WTGARWDvs\\u002fbef7qfHS9z8X2c73U+P7P+58PzVeuvs\\u002fkxgEVg4tAECTGARWDi36P6jGSzeJQfY\\u002fWmQ730+N8z8K16NwPQr7P2ZmZmZmZvo\\u002fL90kBoGV+z8bL90kBoH5P6rx0k1iEPg\\u002fx0s3iUFg+T+WQ4ts5\\u002fvzP2Q730+Nl\\u002fg\\u002fppvEILBy9D\\u002fy0k1iEFjxPylcj8L1KPw\\u002fN4lBYOXQ9j+q8dJNYhD6P4GVQ4ts5\\u002fk\\u002f2c73U+Ol+T93vp8aL93yP90kBoGVQ\\u002fU\\u002fDAIrhxbZ+j97FK5H4Xr2P6JFtvP91PI\\u002f8tJNYhBY+z\\u002fVeOkmMQj8P7x0kxgEVvo\\u002fFK5H4XoU9j9iEFg5tMj0P\\u002fp+arx0k\\u002fA\\u002fiUFg5dAi+T9eukkMAiv1PxSuR+F6FPo\\u002fhetRuB6F+z8fhetRuB73P2iR7Xw\\u002fNfo\\u002fYhBYObTI+D\\u002fpJjEIrBz4P+f7qfHSTfo\\u002ftvP91Hjp8j\\u002f4U+Olm8TyP1CNl24Sg\\u002fA\\u002fHVpkO99P9z\\u002fHSzeJQWD1P5ZDi2zn+\\u002fc\\u002fwcqhRbbz8z8dWmQ730\\u002f1P+58PzVeuvk\\u002fAAAAAAAAAADP91PjpZv0PwrXo3A9CvU\\u002fXrpJDAIr+T+HFtnO91P3P6jGSzeJQfY\\u002fpHA9Ctej\\u002fD9WDi2yne\\u002f1P3Noke18P+0\\u002ftMh2vp8a9z9oke18PzXuP8HKoUW28\\u002fE\\u002fHVpkO99P+T+6SQwCK4f0PxfZzvdT4+E\\u002fkxgEVg4t9j\\u002fP91PjpZvwP0jhehSuR\\u002fU\\u002fke18PzVe8D+TGARWDi30P1YOLbKd7+s\\u002ftvP91Hjp8j9oke18PzXuP9nO91Pjpe8\\u002fDAIrhxbZ9j+gGi\\u002fdJAbtP42XbhKDwPA\\u002fBoGVQ4ts7z8xCKwcWmTjP3Noke18P\\u002fU\\u002f001iEFg58j\\u002fpJjEIrBz0P5HtfD81XvA\\u002fAiuHFtnO7z\\u002f8qfHSTWLoP0w3iUFg5eg\\u002f\\u002fKnx0k1i8j+LbOf7qfHiP166SQwCK+c\\u002fXI\\u002fC9Shc6z8fhetRuB7hP+Olm8QgsOY\\u002fYhBYObTI8D8MAiuHFtnwPzMzMzMzM+8\\u002f001iEFg56D+6SQwCK4fyPzm0yHa+n+I\\u002fN4lBYOXQ4j+JQWDl0CLrP9NNYhBYOeg\\u002fvHSTGARW9D9CYOXQItvxP1pkO99PjfU\\u002ftMh2vp8a6z8hsHJoke3yPy\\u002fdJAaBlec\\u002fuB6F61G46j\\u002f+1HjpJjHkP5zEILByaOE\\u002faJHtfD819j8QWDm0yHbqPzeJQWDl0OI\\u002fxSCwcmiR8z\\u002f0\\u002fdR46SbpP\\u002fhT46WbxOQ\\u002f\"},\"coloraxis\":\"coloraxis\",\"symbol\":\"circle\"},\"mode\":\"markers\",\"name\":\"\",\"orientation\":\"v\",\"showlegend\":false,\"x\":{\"dtype\":\"f8\",\"bdata\":\"lkOLbOf7+z8zMzMzMzP9P2IQWDm0yPw\\u002fukkMAiuH\\u002fD\\u002f0\\u002fdR46Sb9P6wcWmQ73\\u002fc\\u002fO99PjZdu\\u002fj8fhetRuB77P9NNYhBYOQBA9ihcj8L19j8Sg8DKoUX8P166SQwCK\\u002fs\\u002f7FG4HoXr\\u002fT+6SQwCK4f8PwIrhxbZzv8\\u002fi2zn+6nx+j8OLbKd76f8P5ZDi2zn+\\u002fs\\u002f30+Nl24S+z\\u002ffT42XbhL7P8uhRbbz\\u002ffw\\u002fj8L1KFyP\\u002fD+amZmZmZn7PwaBlUOLbP0\\u002ff2q8dJMY9D8OLbKd76f6P65H4XoUrvs\\u002fd76fGi\\u002fd+D\\u002fl0CLb+X70P3WTGARWDvs\\u002fbef7qfHS9z8X2c73U+P7P+58PzVeuvs\\u002fkxgEVg4tAECTGARWDi36P6jGSzeJQfY\\u002fWmQ730+N8z8K16NwPQr7P2ZmZmZmZvo\\u002fL90kBoGV+z8bL90kBoH5P6rx0k1iEPg\\u002fx0s3iUFg+T+WQ4ts5\\u002fvzP2Q730+Nl\\u002fg\\u002fppvEILBy9D\\u002fy0k1iEFjxPylcj8L1KPw\\u002fN4lBYOXQ9j+q8dJNYhD6P4GVQ4ts5\\u002fk\\u002f2c73U+Ol+T93vp8aL93yP90kBoGVQ\\u002fU\\u002fDAIrhxbZ+j97FK5H4Xr2P6JFtvP91PI\\u002f8tJNYhBY+z\\u002fVeOkmMQj8P7x0kxgEVvo\\u002fFK5H4XoU9j9iEFg5tMj0P\\u002fp+arx0k\\u002fA\\u002fiUFg5dAi+T9eukkMAiv1PxSuR+F6FPo\\u002fhetRuB6F+z8fhetRuB73P2iR7Xw\\u002fNfo\\u002fYhBYObTI+D\\u002fpJjEIrBz4P+f7qfHSTfo\\u002ftvP91Hjp8j\\u002f4U+Olm8TyP1CNl24Sg\\u002fA\\u002fHVpkO99P9z\\u002fHSzeJQWD1P5ZDi2zn+\\u002fc\\u002fwcqhRbbz8z8dWmQ730\\u002f1P+58PzVeuvk\\u002fAAAAAAAAAADP91PjpZv0PwrXo3A9CvU\\u002fXrpJDAIr+T+HFtnO91P3P6jGSzeJQfY\\u002fpHA9Ctej\\u002fD9WDi2yne\\u002f1P3Noke18P+0\\u002ftMh2vp8a9z9oke18PzXuP8HKoUW28\\u002fE\\u002fHVpkO99P+T+6SQwCK4f0PxfZzvdT4+E\\u002fkxgEVg4t9j\\u002fP91PjpZvwP0jhehSuR\\u002fU\\u002fke18PzVe8D+TGARWDi30P1YOLbKd7+s\\u002ftvP91Hjp8j9oke18PzXuP9nO91Pjpe8\\u002fDAIrhxbZ9j+gGi\\u002fdJAbtP42XbhKDwPA\\u002fBoGVQ4ts7z8xCKwcWmTjP3Noke18P\\u002fU\\u002f001iEFg58j\\u002fpJjEIrBz0P5HtfD81XvA\\u002fAiuHFtnO7z\\u002f8qfHSTWLoP0w3iUFg5eg\\u002f\\u002fKnx0k1i8j+LbOf7qfHiP166SQwCK+c\\u002fXI\\u002fC9Shc6z8fhetRuB7hP+Olm8QgsOY\\u002fYhBYObTI8D8MAiuHFtnwPzMzMzMzM+8\\u002f001iEFg56D+6SQwCK4fyPzm0yHa+n+I\\u002fN4lBYOXQ4j+JQWDl0CLrP9NNYhBYOeg\\u002fvHSTGARW9D9CYOXQItvxP1pkO99PjfU\\u002ftMh2vp8a6z8hsHJoke3yPy\\u002fdJAaBlec\\u002fuB6F61G46j\\u002f+1HjpJjHkP5zEILByaOE\\u002faJHtfD819j8QWDm0yHbqPzeJQWDl0OI\\u002fxSCwcmiR8z\\u002f0\\u002fdR46SbpP\\u002fhT46WbxOQ\\u002f\"},\"xaxis\":\"x\",\"y\":{\"dtype\":\"f8\",\"bdata\":\"i2zn+6nxHkAv3SQGgRUeQI\\u002fC9ShcDx5A4XoUrkdhHUDTTWIQWDkdQH9qvHSTGB1APzVeukkMHUBWDi2yne8cQLByaJHtfBxA0SLb+X7qG0BMN4lBYOUbQAIrhxbZzhtAPQrXo3C9G0CkcD0K16MbQHWTGARWjhtAN4lBYOVQG0A9CtejcD0bQIPAyqFFNhtAXrpJDAIrG0CamZmZmRkbQPCnxks3CRtAUI2XbhIDG0C28\\u002f3UeOkaQEw3iUFg5RpA8tJNYhDYGkD+1HjpJrEaQJMYBFYOrRpAvp8aL92kGkCJQWDl0KIaQGq8dJMYhBpABoGVQ4tsGkBmZmZmZmYaQKwcWmQ7XxpAw\\u002fUoXI9CGkCNl24Sg0AaQGDl0CLb+RlAK4cW2c73GUB3vp8aL90ZQF66SQwCqxlAKVyPwvWoGUBU46WbxKAZQEoMAiuHlhlAUI2XbhKDGUCmm8QgsHIZQIts5\\u002fupcRlAnMQgsHJoGUBSuB6F61EZQN0kBoGVQxlAF9nO91PjGED8qfHSTeIYQIcW2c730xhAfT81XrrJGEASg8DKocUYQOOlm8QgsBhASgwCK4eWGEAlBoGVQ4sYQCGwcmiRbRhA9P3UeOkmGEAfhetRuB4YQFpkO99PDRhAarx0kxgEGEBcj8L1KNwXQEJg5dAi2xdAUrgehevRF0B9PzVeuskXQEjhehSuxxdA+FPjpZvEF0DJdr6fGq8XQClcj8L1qBdAH4XrUbieF0A1XrpJDIIXQHsUrkfhehdAexSuR+F6F0BGtvP91HgXQDvfT42XbhdA\\u002fKnx0k1iF0CiRbbz\\u002fVQXQIcW2c73UxdASOF6FK5HF0Atsp3vp0YXQLTIdr6fGhdACKwcWmS7FkArhxbZzncWQGIQWDm0SBZAnu+nxks3FkBQjZduEgMWQGDl0CLb+RVAEFg5tMj2FUC+nxov3aQVQL6fGi\\u002fdpBVAmpmZmZmZFUBYObTIdj4VQE5iEFg5NBVAPzVeukkMFUAnMQisHNoUQMP1KFyPwhRAexSuR+F6FECcxCCwcmgUQKwcWmQ7XxRAH4XrUbgeFECBlUOLbOcTQJ7vp8ZLtxNAvp8aL92kE0A\\u002fNV66SYwTQArXo3A9ihNAAAAAAACAE0AGgZVDi2wTQB+F61G4HhNA30+Nl24SE0BmZmZmZuYSQLgehetRuBJAsHJoke18EkBoke18PzUSQF66SQwCKxJACtejcD0KEkDy0k1iENgRQP7UeOkmsRFAdZMYBFaOEUDwp8ZLN4kRQNV46SYxiBFAIbByaJFtEUAX2c73U2MRQOF6FK5HYRFAd76fGi9dEUBcj8L1KFwRQGIQWDm0SBFAw\\u002fUoXI9CEUA9CtejcD0RQM\\u002f3U+OlGxFAVOOlm8SgEECyne+nxksPQMl2vp8aLw9AVOOlm8QgD0ACK4cW2c4OQPCnxks3iQ5AZmZmZmZmDkD+1HjpJjEOQHWTGARWDg5A1XjpJjEIDkCwcmiR7XwMQI2XbhKDwAtAGy\\u002fdJAaBC0BeukkMAisLQBSuR+F6FApAGy\\u002fdJAaBCUCWQ4ts5\\u002fsHQG3n+6nx0vU\\u002f\"},\"yaxis\":\"y\",\"type\":\"scatter\"},{\"hovertemplate\":\"\\u003cb\\u003eOLS trendline\\u003c\\u002fb\\u003e\\u003cbr\\u003eScore = 2.24464 * GDP per capita + 2.61817\\u003cbr\\u003eR\\u003csup\\u003e2\\u003c\\u002fsup\\u003e=0.582579\\u003cbr\\u003e\\u003cbr\\u003eGDP per capita=%{x}\\u003cbr\\u003eScore=%{y} \\u003cb\\u003e(trend)\\u003c\\u002fb\\u003e\\u003cextra\\u003e\\u003c\\u002fextra\\u003e\",\"legendgroup\":\"\",\"marker\":{\"symbol\":\"circle\"},\"mode\":\"lines\",\"name\":\"\",\"showlegend\":false,\"x\":{\"dtype\":\"f8\",\"bdata\":\"AAAAAAAAAAAfhetRuB7hP5zEILByaOE\\u002fF9nO91Pj4T85tMh2vp\\u002fiPzeJQWDl0OI\\u002fN4lBYOXQ4j+LbOf7qfHiPzEIrBxaZOM\\u002f\\u002ftR46SYx5D\\u002f4U+Olm8TkP+Olm8QgsOY\\u002fXrpJDAIr5z8v3SQGgZXnP9NNYhBYOeg\\u002f001iEFg56D\\u002f8qfHSTWLoP0w3iUFg5eg\\u002f9P3UeOkm6T8QWDm0yHbqP7gehetRuOo\\u002ftMh2vp8a6z+JQWDl0CLrP1yPwvUoXOs\\u002fVg4tsp3v6z+gGi\\u002fdJAbtP3Noke18P+0\\u002faJHtfD817j9oke18PzXuPzMzMzMzM+8\\u002fBoGVQ4ts7z\\u002fZzvdT46XvPwIrhxbZzu8\\u002fke18PzVe8D+R7Xw\\u002fNV7wP1CNl24Sg\\u002fA\\u002f+n5qvHST8D\\u002fP91PjpZvwP42XbhKDwPA\\u002fYhBYObTI8D8MAiuHFtnwP\\u002fLSTWIQWPE\\u002fQmDl0CLb8T\\u002fByqFFtvPxP9NNYhBYOfI\\u002f\\u002fKnx0k1i8j+6SQwCK4fyP\\u002fhT46WbxPI\\u002fokW28\\u002f3U8j93vp8aL93yP7bz\\u002fdR46fI\\u002ftvP91Hjp8j8hsHJoke3yP1pkO99PjfM\\u002fxSCwcmiR8z\\u002fByqFFtvPzP5ZDi2zn+\\u002fM\\u002ff2q8dJMY9D\\u002fpJjEIrBz0P5MYBFYOLfQ\\u002fvHSTGARW9D+mm8QgsHL0P+XQItv5fvQ\\u002fukkMAiuH9D\\u002fP91PjpZv0P2IQWDm0yPQ\\u002fCtejcD0K9T9eukkMAiv1P3Noke18P\\u002fU\\u002f3SQGgZVD9T9I4XoUrkf1Px1aZDvfT\\u002fU\\u002fx0s3iUFg9T9aZDvfT431P1YOLbKd7\\u002fU\\u002fFK5H4XoU9j+TGARWDi32P2iR7Xw\\u002fNfY\\u002fqMZLN4lB9j+oxks3iUH2P3sUrkfhevY\\u002fN4lBYOXQ9j8MAiuHFtn2P\\u002fYoXI\\u002fC9fY\\u002ftMh2vp8a9z8fhetRuB73Px1aZDvfT\\u002fc\\u002fhxbZzvdT9z9t5\\u002fup8dL3P6wcWmQ73\\u002fc\\u002flkOLbOf79z+q8dJNYhD4P+kmMQisHPg\\u002fZDvfT42X+D9iEFg5tMj4P3e+nxov3fg\\u002fiUFg5dAi+T9eukkMAiv5Px1aZDvfT\\u002fk\\u002fx0s3iUFg+T8bL90kBoH5P9nO91Pjpfk\\u002f7nw\\u002fNV66+T+BlUOLbOf5P6rx0k1iEPo\\u002fFK5H4XoU+j+TGARWDi36P2iR7Xw\\u002fNfo\\u002f5\\u002fup8dJN+j+8dJMYBFb6P2ZmZmZmZvo\\u002fDi2yne+n+j8MAiuHFtn6P4ts5\\u002fup8fo\\u002fCtejcD0K+z91kxgEVg77P99PjZduEvs\\u002f30+Nl24S+z8fhetRuB77P166SQwCK\\u002fs\\u002f8tJNYhBY+z+F61G4HoX7Py\\u002fdJAaBlfs\\u002fmpmZmZmZ+z+uR+F6FK77P+58PzVeuvs\\u002fF9nO91Pj+z+WQ4ts5\\u002fv7P5ZDi2zn+\\u002fs\\u002f1XjpJjEI\\u002fD8pXI\\u002fC9Sj8PxKDwMqhRfw\\u002fukkMAiuH\\u002fD+6SQwCK4f8P4\\u002fC9Shcj\\u002fw\\u002fpHA9Ctej\\u002fD8OLbKd76f8P2IQWDm0yPw\\u002fy6FFtvP9\\u002fD\\u002f0\\u002fdR46Sb9PzMzMzMzM\\u002f0\\u002fBoGVQ4ts\\u002fT\\u002fsUbgehev9PzvfT42Xbv4\\u002fAiuHFtnO\\u002fz+TGARWDi0AQNNNYhBYOQBA\"},\"xaxis\":\"x\",\"y\":{\"dtype\":\"f8\",\"bdata\":\"K2sekwHyBEDf7TquaI0OQPDntTPItg5AYDPYvLz7DkCmQIT1d2UPQAaSK\\u002fkMgQ9ABpIr+QyBD0DycvBQcJMPQCiGIQTM0w9A8gFYdFwjEEAC\\u002fNL5u0wQQOSSFwyl1hBAnLioUB\\u002f5EEAapki\\u002fABcRQGXYtBr5RBFAZdi0GvlEEUD45I8xd1ARQM2mGeE9dRFAuIfeOKGHEUBsiK9a3uURQFZpdLJB+BFAt7obttYTEkDUVhQhIxYSQKKb4A06JhJAspVbk5lPEkCYUWDIv50SQGaWLLXWrRJA1uFOPsvyEkDW4U4+y\\u002fISQGTJaTIMOhNAMg42HyNKE0AAUwIMOloTQJJf3SK4ZRNA5g4HQWCoE0DmDgdBYKgTQO6LxAMQvRNAZPymr0HGE0CeNJiF2soTQKaxVUiK3xNA4elGHiPkE0BWWinKVO0TQORBRL6VNBRAkMVXHSN+FEBAbiuf7YsUQDPMrbkAsxRAWOVj5\\u002fzJFEBgYiGqrN4UQBqIsu4mARVAj\\u002fiUmlgKFUDKMIZw8Q4VQCIFcLHWFRVAIgVwsdYVFUA\\u002foWgcIxgVQLhpSGjHcRVA1gVB0xN0FUCWqI\\u002faPasVQNDggLDWrxVAniVNne2\\u002fFUC7wUUIOsIVQDAyKLRryxVAVkve4WfiFUAkkKrOfvIVQHxklA9k+RVAtpyF5fz9FUBKqWD8egkWQIxeD5XDIhZAYiCZRIpHFkBMAV6c7VkWQOANObNrZRZA\\u002fakxHrhnFkAaRiqJBGoWQFV+G1+dbhZAyu79Cs93FkAOpKyjF5EWQM5G+6pByBZA1sO4bfHcFkCGbIzvu+oWQMGkfcVU7xZAGXlnBjr2FkAZeWcGOvYWQLQCAOBnFhdAHNFkpqxGF0BXCVZ8RUsXQCVOImlcWxdALcvfKwxwF0BKZ9iWWHIXQKu4f5rtjRdAyFR4BTqQF0BWPJP5etcXQK4QfTpg3hdAfFVJJ3fuF0AOYiQ+9fkXQGY2Dn\\u002faABhA14EwCM9FGEA409cLZGEYQMrfsiLibBhAvT01PfWTGED4dSYTjpgYQADz49U9rRhAdmPGgW+2GEBhRIvZ0sgYQGjBSJyC3RhA\\u002fM0jswDpGEA+g9JLSQIZQGSciHlFGRlAgTiB5JEbGUAy4VRmXCkZQGwZRjz1LRlAHMIZvr87GUBX+gqUWEAZQMxq7T+KSRlAoix371BuGUACfh7z5YkZQLIm8nSwlxlAYs\\u002fF9nqlGUCAa75hx6cZQJ4Ht8wTqhlAnge3zBOqGUD226AN+bAZQE6wik7etxlAkWU55ybRGUDUGuh\\u002fb+oZQEmLyiuh8xlAZifDlu31GUD5M56tawEaQFIIiO5QCBpAdyE+HE0fGkAnyhGeFy0aQCfKEZ4XLRpAf5773vwzGkBqf8A2YEYaQDfEjCN3VhpADIYW0z17GkAMhhbTPXsaQEi+B6nWfxpA2sriv1SLGkD4ZtsqoY0aQOJHoIIEoBpAYDVA8eW9GkCGTvYe4tQaQN4i4F\\u002fH2xpAeKx4OfX7GkAIlJMtNkMbQLIXp4zDjBtAkIkrfG9SHEB0RTCxlaAcQCbuAzNgrhxA\"},\"yaxis\":\"y\",\"type\":\"scatter\"}],                        {\"template\":{\"data\":{\"histogram2dcontour\":[{\"type\":\"histogram2dcontour\",\"colorbar\":{\"outlinewidth\":0,\"ticks\":\"\"},\"colorscale\":[[0.0,\"#0d0887\"],[0.1111111111111111,\"#46039f\"],[0.2222222222222222,\"#7201a8\"],[0.3333333333333333,\"#9c179e\"],[0.4444444444444444,\"#bd3786\"],[0.5555555555555556,\"#d8576b\"],[0.6666666666666666,\"#ed7953\"],[0.7777777777777778,\"#fb9f3a\"],[0.8888888888888888,\"#fdca26\"],[1.0,\"#f0f921\"]]}],\"choropleth\":[{\"type\":\"choropleth\",\"colorbar\":{\"outlinewidth\":0,\"ticks\":\"\"}}],\"histogram2d\":[{\"type\":\"histogram2d\",\"colorbar\":{\"outlinewidth\":0,\"ticks\":\"\"},\"colorscale\":[[0.0,\"#0d0887\"],[0.1111111111111111,\"#46039f\"],[0.2222222222222222,\"#7201a8\"],[0.3333333333333333,\"#9c179e\"],[0.4444444444444444,\"#bd3786\"],[0.5555555555555556,\"#d8576b\"],[0.6666666666666666,\"#ed7953\"],[0.7777777777777778,\"#fb9f3a\"],[0.8888888888888888,\"#fdca26\"],[1.0,\"#f0f921\"]]}],\"heatmap\":[{\"type\":\"heatmap\",\"colorbar\":{\"outlinewidth\":0,\"ticks\":\"\"},\"colorscale\":[[0.0,\"#0d0887\"],[0.1111111111111111,\"#46039f\"],[0.2222222222222222,\"#7201a8\"],[0.3333333333333333,\"#9c179e\"],[0.4444444444444444,\"#bd3786\"],[0.5555555555555556,\"#d8576b\"],[0.6666666666666666,\"#ed7953\"],[0.7777777777777778,\"#fb9f3a\"],[0.8888888888888888,\"#fdca26\"],[1.0,\"#f0f921\"]]}],\"contourcarpet\":[{\"type\":\"contourcarpet\",\"colorbar\":{\"outlinewidth\":0,\"ticks\":\"\"}}],\"contour\":[{\"type\":\"contour\",\"colorbar\":{\"outlinewidth\":0,\"ticks\":\"\"},\"colorscale\":[[0.0,\"#0d0887\"],[0.1111111111111111,\"#46039f\"],[0.2222222222222222,\"#7201a8\"],[0.3333333333333333,\"#9c179e\"],[0.4444444444444444,\"#bd3786\"],[0.5555555555555556,\"#d8576b\"],[0.6666666666666666,\"#ed7953\"],[0.7777777777777778,\"#fb9f3a\"],[0.8888888888888888,\"#fdca26\"],[1.0,\"#f0f921\"]]}],\"surface\":[{\"type\":\"surface\",\"colorbar\":{\"outlinewidth\":0,\"ticks\":\"\"},\"colorscale\":[[0.0,\"#0d0887\"],[0.1111111111111111,\"#46039f\"],[0.2222222222222222,\"#7201a8\"],[0.3333333333333333,\"#9c179e\"],[0.4444444444444444,\"#bd3786\"],[0.5555555555555556,\"#d8576b\"],[0.6666666666666666,\"#ed7953\"],[0.7777777777777778,\"#fb9f3a\"],[0.8888888888888888,\"#fdca26\"],[1.0,\"#f0f921\"]]}],\"mesh3d\":[{\"type\":\"mesh3d\",\"colorbar\":{\"outlinewidth\":0,\"ticks\":\"\"}}],\"scatter\":[{\"fillpattern\":{\"fillmode\":\"overlay\",\"size\":10,\"solidity\":0.2},\"type\":\"scatter\"}],\"parcoords\":[{\"type\":\"parcoords\",\"line\":{\"colorbar\":{\"outlinewidth\":0,\"ticks\":\"\"}}}],\"scatterpolargl\":[{\"type\":\"scatterpolargl\",\"marker\":{\"colorbar\":{\"outlinewidth\":0,\"ticks\":\"\"}}}],\"bar\":[{\"error_x\":{\"color\":\"#2a3f5f\"},\"error_y\":{\"color\":\"#2a3f5f\"},\"marker\":{\"line\":{\"color\":\"#E5ECF6\",\"width\":0.5},\"pattern\":{\"fillmode\":\"overlay\",\"size\":10,\"solidity\":0.2}},\"type\":\"bar\"}],\"scattergeo\":[{\"type\":\"scattergeo\",\"marker\":{\"colorbar\":{\"outlinewidth\":0,\"ticks\":\"\"}}}],\"scatterpolar\":[{\"type\":\"scatterpolar\",\"marker\":{\"colorbar\":{\"outlinewidth\":0,\"ticks\":\"\"}}}],\"histogram\":[{\"marker\":{\"pattern\":{\"fillmode\":\"overlay\",\"size\":10,\"solidity\":0.2}},\"type\":\"histogram\"}],\"scattergl\":[{\"type\":\"scattergl\",\"marker\":{\"colorbar\":{\"outlinewidth\":0,\"ticks\":\"\"}}}],\"scatter3d\":[{\"type\":\"scatter3d\",\"line\":{\"colorbar\":{\"outlinewidth\":0,\"ticks\":\"\"}},\"marker\":{\"colorbar\":{\"outlinewidth\":0,\"ticks\":\"\"}}}],\"scattermap\":[{\"type\":\"scattermap\",\"marker\":{\"colorbar\":{\"outlinewidth\":0,\"ticks\":\"\"}}}],\"scattermapbox\":[{\"type\":\"scattermapbox\",\"marker\":{\"colorbar\":{\"outlinewidth\":0,\"ticks\":\"\"}}}],\"scatterternary\":[{\"type\":\"scatterternary\",\"marker\":{\"colorbar\":{\"outlinewidth\":0,\"ticks\":\"\"}}}],\"scattercarpet\":[{\"type\":\"scattercarpet\",\"marker\":{\"colorbar\":{\"outlinewidth\":0,\"ticks\":\"\"}}}],\"carpet\":[{\"aaxis\":{\"endlinecolor\":\"#2a3f5f\",\"gridcolor\":\"white\",\"linecolor\":\"white\",\"minorgridcolor\":\"white\",\"startlinecolor\":\"#2a3f5f\"},\"baxis\":{\"endlinecolor\":\"#2a3f5f\",\"gridcolor\":\"white\",\"linecolor\":\"white\",\"minorgridcolor\":\"white\",\"startlinecolor\":\"#2a3f5f\"},\"type\":\"carpet\"}],\"table\":[{\"cells\":{\"fill\":{\"color\":\"#EBF0F8\"},\"line\":{\"color\":\"white\"}},\"header\":{\"fill\":{\"color\":\"#C8D4E3\"},\"line\":{\"color\":\"white\"}},\"type\":\"table\"}],\"barpolar\":[{\"marker\":{\"line\":{\"color\":\"#E5ECF6\",\"width\":0.5},\"pattern\":{\"fillmode\":\"overlay\",\"size\":10,\"solidity\":0.2}},\"type\":\"barpolar\"}],\"pie\":[{\"automargin\":true,\"type\":\"pie\"}]},\"layout\":{\"autotypenumbers\":\"strict\",\"colorway\":[\"#636efa\",\"#EF553B\",\"#00cc96\",\"#ab63fa\",\"#FFA15A\",\"#19d3f3\",\"#FF6692\",\"#B6E880\",\"#FF97FF\",\"#FECB52\"],\"font\":{\"color\":\"#2a3f5f\"},\"hovermode\":\"closest\",\"hoverlabel\":{\"align\":\"left\"},\"paper_bgcolor\":\"white\",\"plot_bgcolor\":\"#E5ECF6\",\"polar\":{\"bgcolor\":\"#E5ECF6\",\"angularaxis\":{\"gridcolor\":\"white\",\"linecolor\":\"white\",\"ticks\":\"\"},\"radialaxis\":{\"gridcolor\":\"white\",\"linecolor\":\"white\",\"ticks\":\"\"}},\"ternary\":{\"bgcolor\":\"#E5ECF6\",\"aaxis\":{\"gridcolor\":\"white\",\"linecolor\":\"white\",\"ticks\":\"\"},\"baxis\":{\"gridcolor\":\"white\",\"linecolor\":\"white\",\"ticks\":\"\"},\"caxis\":{\"gridcolor\":\"white\",\"linecolor\":\"white\",\"ticks\":\"\"}},\"coloraxis\":{\"colorbar\":{\"outlinewidth\":0,\"ticks\":\"\"}},\"colorscale\":{\"sequential\":[[0.0,\"#0d0887\"],[0.1111111111111111,\"#46039f\"],[0.2222222222222222,\"#7201a8\"],[0.3333333333333333,\"#9c179e\"],[0.4444444444444444,\"#bd3786\"],[0.5555555555555556,\"#d8576b\"],[0.6666666666666666,\"#ed7953\"],[0.7777777777777778,\"#fb9f3a\"],[0.8888888888888888,\"#fdca26\"],[1.0,\"#f0f921\"]],\"sequentialminus\":[[0.0,\"#0d0887\"],[0.1111111111111111,\"#46039f\"],[0.2222222222222222,\"#7201a8\"],[0.3333333333333333,\"#9c179e\"],[0.4444444444444444,\"#bd3786\"],[0.5555555555555556,\"#d8576b\"],[0.6666666666666666,\"#ed7953\"],[0.7777777777777778,\"#fb9f3a\"],[0.8888888888888888,\"#fdca26\"],[1.0,\"#f0f921\"]],\"diverging\":[[0,\"#8e0152\"],[0.1,\"#c51b7d\"],[0.2,\"#de77ae\"],[0.3,\"#f1b6da\"],[0.4,\"#fde0ef\"],[0.5,\"#f7f7f7\"],[0.6,\"#e6f5d0\"],[0.7,\"#b8e186\"],[0.8,\"#7fbc41\"],[0.9,\"#4d9221\"],[1,\"#276419\"]]},\"xaxis\":{\"gridcolor\":\"white\",\"linecolor\":\"white\",\"ticks\":\"\",\"title\":{\"standoff\":15},\"zerolinecolor\":\"white\",\"automargin\":true,\"zerolinewidth\":2},\"yaxis\":{\"gridcolor\":\"white\",\"linecolor\":\"white\",\"ticks\":\"\",\"title\":{\"standoff\":15},\"zerolinecolor\":\"white\",\"automargin\":true,\"zerolinewidth\":2},\"scene\":{\"xaxis\":{\"backgroundcolor\":\"#E5ECF6\",\"gridcolor\":\"white\",\"linecolor\":\"white\",\"showbackground\":true,\"ticks\":\"\",\"zerolinecolor\":\"white\",\"gridwidth\":2},\"yaxis\":{\"backgroundcolor\":\"#E5ECF6\",\"gridcolor\":\"white\",\"linecolor\":\"white\",\"showbackground\":true,\"ticks\":\"\",\"zerolinecolor\":\"white\",\"gridwidth\":2},\"zaxis\":{\"backgroundcolor\":\"#E5ECF6\",\"gridcolor\":\"white\",\"linecolor\":\"white\",\"showbackground\":true,\"ticks\":\"\",\"zerolinecolor\":\"white\",\"gridwidth\":2}},\"shapedefaults\":{\"line\":{\"color\":\"#2a3f5f\"}},\"annotationdefaults\":{\"arrowcolor\":\"#2a3f5f\",\"arrowhead\":0,\"arrowwidth\":1},\"geo\":{\"bgcolor\":\"white\",\"landcolor\":\"#E5ECF6\",\"subunitcolor\":\"white\",\"showland\":true,\"showlakes\":true,\"lakecolor\":\"white\"},\"title\":{\"x\":0.05},\"mapbox\":{\"style\":\"light\"}}},\"xaxis\":{\"anchor\":\"y\",\"domain\":[0.0,1.0],\"title\":{\"text\":\"GDP per capita\"}},\"yaxis\":{\"anchor\":\"x\",\"domain\":[0.0,1.0],\"title\":{\"text\":\"Score\"}},\"coloraxis\":{\"colorbar\":{\"title\":{\"text\":\"GDP per capita\"}},\"colorscale\":[[0.0,\"#0d0887\"],[0.1111111111111111,\"#46039f\"],[0.2222222222222222,\"#7201a8\"],[0.3333333333333333,\"#9c179e\"],[0.4444444444444444,\"#bd3786\"],[0.5555555555555556,\"#d8576b\"],[0.6666666666666666,\"#ed7953\"],[0.7777777777777778,\"#fb9f3a\"],[0.8888888888888888,\"#fdca26\"],[1.0,\"#f0f921\"]]},\"legend\":{\"tracegroupgap\":0},\"title\":{\"text\":\"2024\",\"x\":0.5}},                        {\"responsive\": true}                    ).then(function(){\n",
       "                            \n",
       "var gd = document.getElementById('3804b813-d559-4935-83f9-ade750f214e6');\n",
       "var x = new MutationObserver(function (mutations, observer) {{\n",
       "        var display = window.getComputedStyle(gd).display;\n",
       "        if (!display || display === 'none') {{\n",
       "            console.log([gd, 'removed!']);\n",
       "            Plotly.purge(gd);\n",
       "            observer.disconnect();\n",
       "        }}\n",
       "}});\n",
       "\n",
       "// Listen for the removal of the full notebook cells\n",
       "var notebookContainer = gd.closest('#notebook-container');\n",
       "if (notebookContainer) {{\n",
       "    x.observe(notebookContainer, {childList: true});\n",
       "}}\n",
       "\n",
       "// Listen for the clearing of the current output cell\n",
       "var outputEl = gd.closest('.output');\n",
       "if (outputEl) {{\n",
       "    x.observe(outputEl, {childList: true});\n",
       "}}\n",
       "\n",
       "                        })                };            </script>        </div>\n",
       "</body>\n",
       "</html>"
      ]
     },
     "metadata": {},
     "output_type": "display_data"
    }
   ],
   "source": [
    "fig=px.scatter(df_2024, x=\"GDP per capita\", y=\"Score\", title=\"2024\", color=\"GDP per capita\", trendline=\"ols\")\n",
    "fig.update_layout(title_x=0.5)\n",
    "fig.show()"
   ]
  },
  {
   "cell_type": "code",
   "execution_count": 429,
   "metadata": {},
   "outputs": [
    {
     "data": {
      "text/plain": [
       "Text(0, 0.5, 'Generosity')"
      ]
     },
     "execution_count": 429,
     "metadata": {},
     "output_type": "execute_result"
    },
    {
     "data": {
      "image/png": "[encoded data removed]",
      "text/plain": [
       "<Figure size 640x480 with 1 Axes>"
      ]
     },
     "metadata": {},
     "output_type": "display_data"
    }
   ],
   "source": [
    "sns.regplot(\n",
    "    x=df_2024['GDP per capita'],\n",
    "    y=df_2024['Generosity'],\n",
    "    color='dodgerblue',\n",
    "    scatter_kws={'s': 80, 'alpha': 0.6},\n",
    "    line_kws={'color': 'red', 'linestyle': '--', 'linewidth': 2},\n",
    "    ci=99\n",
    ")\n",
    "\n",
    "# Add titles and labels for clarity\n",
    "plt.title('2024')\n",
    "plt.xlabel('GDP per capita')\n",
    "plt.ylabel('Generosity')"
   ]
  },
  {
   "cell_type": "code",
   "execution_count": 430,
   "metadata": {},
   "outputs": [
    {
     "data": {
      "text/plain": [
       "Text(0, 0.5, 'Generosity')"
      ]
     },
     "execution_count": 430,
     "metadata": {},
     "output_type": "execute_result"
    },
    {
     "data": {
      "image/png": "[encoded data removed]",
      "text/plain": [
       "<Figure size 640x480 with 1 Axes>"
      ]
     },
     "metadata": {},
     "output_type": "display_data"
    }
   ],
   "source": [
    "sns.regplot(\n",
    "    x=df_2018['GDP per capita'],\n",
    "    y=df_2018['Generosity'],\n",
    "    color='dodgerblue',\n",
    "    scatter_kws={'s': 80, 'alpha': 0.6},\n",
    "    line_kws={'color': 'red', 'linestyle': '--', 'linewidth': 2},\n",
    "    ci=99\n",
    ")\n",
    "\n",
    "# Add titles and labels for clarity\n",
    "plt.title('2018')\n",
    "plt.xlabel('GDP per capita')\n",
    "plt.ylabel('Generosity')"
   ]
  },
  {
   "cell_type": "code",
   "execution_count": 431,
   "metadata": {},
   "outputs": [],
   "source": [
    "df_top_5_2018 = happiest_countries_2018.head(5).copy()\n",
    "df_bottom_5_2018 =saddest_countries_2018.head(5).copy()\n",
    "df_middle_5_2018 =middle_countries_2018.head(5).copy()"
   ]
  },
  {
   "cell_type": "code",
   "execution_count": 432,
   "metadata": {},
   "outputs": [],
   "source": [
    "df_top_10_2018 = happiest_countries_2018.head(10).copy()\n",
    "df_bottom_10_2018 =saddest_countries_2018.head(10).copy()\n",
    "df_middle_10_2018 =middle_countries_2018.head(10).copy()\n"
   ]
  },
  {
   "cell_type": "code",
   "execution_count": 433,
   "metadata": {},
   "outputs": [],
   "source": [
    "df_top_10_2024 = happiest_countries_2024.head(10).copy()\n",
    "df_bottom_10_2024 =saddest_countries_2024.head(10).copy()\n",
    "df_middle_10_2024 =middle_countries_2024.head(10).copy()"
   ]
  },
  {
   "cell_type": "code",
   "execution_count": 434,
   "metadata": {},
   "outputs": [],
   "source": [
    "df_top_5_2024 = happiest_countries_2024.head(5).copy()\n",
    "df_bottom_5_2024 =saddest_countries_2024.head(5).copy()\n",
    "df_middle_5_2024 =middle_countries_2024.head(5).copy()"
   ]
  },
  {
   "cell_type": "code",
   "execution_count": 435,
   "metadata": {},
   "outputs": [],
   "source": [
    "df_top_10_2018['Group'] = 'High score of happiness'\n",
    "df_bottom_10_2018['Group'] = 'Low score of happiness'\n",
    "df_middle_10_2018['Group'] = 'Middle score of happiness'"
   ]
  },
  {
   "cell_type": "code",
   "execution_count": 436,
   "metadata": {},
   "outputs": [],
   "source": [
    "df_top_10_2024['Group'] = 'High score of happiness'\n",
    "df_bottom_10_2024['Group'] = 'Low score of happiness'\n",
    "df_middle_10_2024['Group'] = 'Middle score of happiness'"
   ]
  },
  {
   "cell_type": "code",
   "execution_count": 437,
   "metadata": {},
   "outputs": [],
   "source": [
    "df_combined_2024_5 = pd.concat([df_top_5_2024, df_middle_5_2024, df_bottom_5_2024]).sort_values(by='Score', ascending=True)\n",
    "df_combined_2024_10 = pd.concat([df_top_10_2024, df_middle_10_2024, df_bottom_10_2024]).sort_values(by='Score', ascending=True)"
   ]
  },
  {
   "cell_type": "code",
   "execution_count": 438,
   "metadata": {},
   "outputs": [],
   "source": [
    "df_combined_2018_5 = pd.concat([df_top_5_2018, df_middle_5_2018, df_bottom_5_2018]).sort_values(by='Score', ascending=True)\n",
    "df_combined_2018_10 = pd.concat([df_top_10_2018, df_middle_10_2018, df_bottom_10_2018]).sort_values(by='Score', ascending=True)\n"
   ]
  },
  {
   "cell_type": "code",
   "execution_count": 439,
   "metadata": {},
   "outputs": [],
   "source": [
    "custom_color_map = { 'High score of happiness': 'green',\n",
    "                        'Low score of happiness': 'red',\n",
    "                        'Middle score of happiness': 'lightpink'}"
   ]
  },
  {
   "cell_type": "code",
   "execution_count": 440,
   "metadata": {},
   "outputs": [
    {
     "data": {
      "text/html": [
       "<div>\n",
       "<style scoped>\n",
       "    .dataframe tbody tr th:only-of-type {\n",
       "        vertical-align: middle;\n",
       "    }\n",
       "\n",
       "    .dataframe tbody tr th {\n",
       "        vertical-align: top;\n",
       "    }\n",
       "\n",
       "    .dataframe thead th {\n",
       "        text-align: right;\n",
       "    }\n",
       "</style>\n",
       "<table border=\"1\" class=\"dataframe\">\n",
       "  <thead>\n",
       "    <tr style=\"text-align: right;\">\n",
       "      <th></th>\n",
       "      <th>Country or region</th>\n",
       "      <th>Score</th>\n",
       "      <th>GDP per capita</th>\n",
       "      <th>Social support</th>\n",
       "      <th>Freedom to make life choices</th>\n",
       "      <th>Generosity</th>\n",
       "      <th>Perceptions of corruption</th>\n",
       "      <th>Year</th>\n",
       "      <th>Group</th>\n",
       "    </tr>\n",
       "  </thead>\n",
       "  <tbody>\n",
       "    <tr>\n",
       "      <th>108</th>\n",
       "      <td>Senegal</td>\n",
       "      <td>4.631</td>\n",
       "      <td>0.429</td>\n",
       "      <td>1.117</td>\n",
       "      <td>0.406</td>\n",
       "      <td>0.138</td>\n",
       "      <td>0.082</td>\n",
       "      <td>2018</td>\n",
       "      <td>Low score of happiness</td>\n",
       "    </tr>\n",
       "    <tr>\n",
       "      <th>107</th>\n",
       "      <td>Ghana</td>\n",
       "      <td>4.657</td>\n",
       "      <td>0.592</td>\n",
       "      <td>0.896</td>\n",
       "      <td>0.499</td>\n",
       "      <td>0.212</td>\n",
       "      <td>0.029</td>\n",
       "      <td>2018</td>\n",
       "      <td>Low score of happiness</td>\n",
       "    </tr>\n",
       "    <tr>\n",
       "      <th>106</th>\n",
       "      <td>Ivory Coast</td>\n",
       "      <td>4.671</td>\n",
       "      <td>0.541</td>\n",
       "      <td>0.872</td>\n",
       "      <td>0.467</td>\n",
       "      <td>0.146</td>\n",
       "      <td>0.103</td>\n",
       "      <td>2018</td>\n",
       "      <td>Low score of happiness</td>\n",
       "    </tr>\n",
       "    <tr>\n",
       "      <th>105</th>\n",
       "      <td>Iran</td>\n",
       "      <td>4.707</td>\n",
       "      <td>1.059</td>\n",
       "      <td>0.771</td>\n",
       "      <td>0.459</td>\n",
       "      <td>0.282</td>\n",
       "      <td>0.129</td>\n",
       "      <td>2018</td>\n",
       "      <td>Low score of happiness</td>\n",
       "    </tr>\n",
       "    <tr>\n",
       "      <th>104</th>\n",
       "      <td>South Africa</td>\n",
       "      <td>4.724</td>\n",
       "      <td>0.940</td>\n",
       "      <td>1.410</td>\n",
       "      <td>0.516</td>\n",
       "      <td>0.103</td>\n",
       "      <td>0.056</td>\n",
       "      <td>2018</td>\n",
       "      <td>Low score of happiness</td>\n",
       "    </tr>\n",
       "  </tbody>\n",
       "</table>\n",
       "</div>"
      ],
      "text/plain": [
       "    Country or region  Score  GDP per capita  Social support  \\\n",
       "108           Senegal  4.631           0.429           1.117   \n",
       "107             Ghana  4.657           0.592           0.896   \n",
       "106       Ivory Coast  4.671           0.541           0.872   \n",
       "105              Iran  4.707           1.059           0.771   \n",
       "104      South Africa  4.724           0.940           1.410   \n",
       "\n",
       "     Freedom to make life choices  Generosity  Perceptions of corruption  \\\n",
       "108                         0.406       0.138                      0.082   \n",
       "107                         0.499       0.212                      0.029   \n",
       "106                         0.467       0.146                      0.103   \n",
       "105                         0.459       0.282                      0.129   \n",
       "104                         0.516       0.103                      0.056   \n",
       "\n",
       "     Year                   Group  \n",
       "108  2018  Low score of happiness  \n",
       "107  2018  Low score of happiness  \n",
       "106  2018  Low score of happiness  \n",
       "105  2018  Low score of happiness  \n",
       "104  2018  Low score of happiness  "
      ]
     },
     "execution_count": 440,
     "metadata": {},
     "output_type": "execute_result"
    }
   ],
   "source": [
    "df_combined_2018_5.head()"
   ]
  },
  {
   "cell_type": "code",
   "execution_count": 441,
   "metadata": {},
   "outputs": [
    {
     "data": {
      "text/html": [
       "<html>\n",
       "<head><meta charset=\"utf-8\" /></head>\n",
       "<body>\n",
       "    <div>            <script src=\"https://cdnjs.cloudflare.com/ajax/libs/mathjax/2.7.5/MathJax.js?config=TeX-AMS-MML_SVG\"></script><script type=\"text/javascript\">if (window.MathJax && window.MathJax.Hub && window.MathJax.Hub.Config) {window.MathJax.Hub.Config({SVG: {font: \"STIX-Web\"}});}</script>                <script type=\"text/javascript\">window.PlotlyConfig = {MathJaxConfig: 'local'};</script>\n",
       "        <script charset=\"utf-8\" src=\"https://cdn.plot.ly/plotly-3.1.0.min.js\" integrity=\"sha256-Ei4740bWZhaUTQuD6q9yQlgVCMPBz6CZWhevDYPv93A=\" crossorigin=\"anonymous\"></script>                <div id=\"5c800efe-4b35-40fc-8809-999394fb641b\" class=\"plotly-graph-div\" style=\"height:525px; width:100%;\"></div>            <script type=\"text/javascript\">                window.PLOTLYENV=window.PLOTLYENV || {};                                if (document.getElementById(\"5c800efe-4b35-40fc-8809-999394fb641b\")) {                    Plotly.newPlot(                        \"5c800efe-4b35-40fc-8809-999394fb641b\",                        [{\"alignmentgroup\":\"True\",\"hovertemplate\":\"Group=Low score of happiness\\u003cbr\\u003eSocial support=%{x}\\u003cbr\\u003eCountry or region=%{y}\\u003cextra\\u003e\\u003c\\u002fextra\\u003e\",\"legendgroup\":\"Low score of happiness\",\"marker\":{\"color\":\"red\",\"pattern\":{\"shape\":\"\"}},\"name\":\"Low score of happiness\",\"offsetgroup\":\"Low score of happiness\",\"orientation\":\"h\",\"showlegend\":true,\"textposition\":\"auto\",\"x\":{\"dtype\":\"f8\",\"bdata\":\"eOkmMQis6D+BlUOLbOfrP3jpJjEIrOw\\u002frBxaZDvf8T+PwvUoXI\\u002f2Pw==\"},\"xaxis\":\"x\",\"y\":[\"Iran\",\"Ivory Coast\",\"Ghana\",\"Senegal\",\"South Africa\"],\"yaxis\":\"y\",\"type\":\"bar\"},{\"alignmentgroup\":\"True\",\"hovertemplate\":\"Group=Middle score of happiness\\u003cbr\\u003eSocial support=%{x}\\u003cbr\\u003eCountry or region=%{y}\\u003cextra\\u003e\\u003c\\u002fextra\\u003e\",\"legendgroup\":\"Middle score of happiness\",\"marker\":{\"color\":\"lightpink\",\"pattern\":{\"shape\":\"\"}},\"name\":\"Middle score of happiness\",\"offsetgroup\":\"Middle score of happiness\",\"orientation\":\"h\",\"showlegend\":true,\"textposition\":\"auto\",\"x\":{\"dtype\":\"f8\",\"bdata\":\"3SQGgZVD8z\\u002f91HjpJjH2P90kBoGVQ\\u002fc\\u002fMQisHFpk9z8X2c73U+P3Pw==\"},\"xaxis\":\"x\",\"y\":[\"South Korea\",\"Mauritius\",\"Latvia\",\"Japan\",\"Jamaica\"],\"yaxis\":\"y\",\"type\":\"bar\"},{\"alignmentgroup\":\"True\",\"hovertemplate\":\"Group=High score of happiness\\u003cbr\\u003eSocial support=%{x}\\u003cbr\\u003eCountry or region=%{y}\\u003cextra\\u003e\\u003c\\u002fextra\\u003e\",\"legendgroup\":\"High score of happiness\",\"marker\":{\"color\":\"green\",\"pattern\":{\"shape\":\"\"}},\"name\":\"High score of happiness\",\"offsetgroup\":\"High score of happiness\",\"orientation\":\"h\",\"showlegend\":true,\"textposition\":\"auto\",\"x\":{\"dtype\":\"f8\",\"bdata\":\"YxBYObTI+D8dWmQ730\\u002f5P3E9CtejcPk\\u002fRrbz\\u002fdR4+T\\u002fn+6nx0k36Pw==\"},\"xaxis\":\"x\",\"y\":[\"Switzerland\",\"Norway\",\"Denmark\",\"Finland\",\"Iceland\"],\"yaxis\":\"y\",\"type\":\"bar\"}],                        {\"template\":{\"data\":{\"histogram2dcontour\":[{\"type\":\"histogram2dcontour\",\"colorbar\":{\"outlinewidth\":0,\"ticks\":\"\"},\"colorscale\":[[0.0,\"#0d0887\"],[0.1111111111111111,\"#46039f\"],[0.2222222222222222,\"#7201a8\"],[0.3333333333333333,\"#9c179e\"],[0.4444444444444444,\"#bd3786\"],[0.5555555555555556,\"#d8576b\"],[0.6666666666666666,\"#ed7953\"],[0.7777777777777778,\"#fb9f3a\"],[0.8888888888888888,\"#fdca26\"],[1.0,\"#f0f921\"]]}],\"choropleth\":[{\"type\":\"choropleth\",\"colorbar\":{\"outlinewidth\":0,\"ticks\":\"\"}}],\"histogram2d\":[{\"type\":\"histogram2d\",\"colorbar\":{\"outlinewidth\":0,\"ticks\":\"\"},\"colorscale\":[[0.0,\"#0d0887\"],[0.1111111111111111,\"#46039f\"],[0.2222222222222222,\"#7201a8\"],[0.3333333333333333,\"#9c179e\"],[0.4444444444444444,\"#bd3786\"],[0.5555555555555556,\"#d8576b\"],[0.6666666666666666,\"#ed7953\"],[0.7777777777777778,\"#fb9f3a\"],[0.8888888888888888,\"#fdca26\"],[1.0,\"#f0f921\"]]}],\"heatmap\":[{\"type\":\"heatmap\",\"colorbar\":{\"outlinewidth\":0,\"ticks\":\"\"},\"colorscale\":[[0.0,\"#0d0887\"],[0.1111111111111111,\"#46039f\"],[0.2222222222222222,\"#7201a8\"],[0.3333333333333333,\"#9c179e\"],[0.4444444444444444,\"#bd3786\"],[0.5555555555555556,\"#d8576b\"],[0.6666666666666666,\"#ed7953\"],[0.7777777777777778,\"#fb9f3a\"],[0.8888888888888888,\"#fdca26\"],[1.0,\"#f0f921\"]]}],\"contourcarpet\":[{\"type\":\"contourcarpet\",\"colorbar\":{\"outlinewidth\":0,\"ticks\":\"\"}}],\"contour\":[{\"type\":\"contour\",\"colorbar\":{\"outlinewidth\":0,\"ticks\":\"\"},\"colorscale\":[[0.0,\"#0d0887\"],[0.1111111111111111,\"#46039f\"],[0.2222222222222222,\"#7201a8\"],[0.3333333333333333,\"#9c179e\"],[0.4444444444444444,\"#bd3786\"],[0.5555555555555556,\"#d8576b\"],[0.6666666666666666,\"#ed7953\"],[0.7777777777777778,\"#fb9f3a\"],[0.8888888888888888,\"#fdca26\"],[1.0,\"#f0f921\"]]}],\"surface\":[{\"type\":\"surface\",\"colorbar\":{\"outlinewidth\":0,\"ticks\":\"\"},\"colorscale\":[[0.0,\"#0d0887\"],[0.1111111111111111,\"#46039f\"],[0.2222222222222222,\"#7201a8\"],[0.3333333333333333,\"#9c179e\"],[0.4444444444444444,\"#bd3786\"],[0.5555555555555556,\"#d8576b\"],[0.6666666666666666,\"#ed7953\"],[0.7777777777777778,\"#fb9f3a\"],[0.8888888888888888,\"#fdca26\"],[1.0,\"#f0f921\"]]}],\"mesh3d\":[{\"type\":\"mesh3d\",\"colorbar\":{\"outlinewidth\":0,\"ticks\":\"\"}}],\"scatter\":[{\"fillpattern\":{\"fillmode\":\"overlay\",\"size\":10,\"solidity\":0.2},\"type\":\"scatter\"}],\"parcoords\":[{\"type\":\"parcoords\",\"line\":{\"colorbar\":{\"outlinewidth\":0,\"ticks\":\"\"}}}],\"scatterpolargl\":[{\"type\":\"scatterpolargl\",\"marker\":{\"colorbar\":{\"outlinewidth\":0,\"ticks\":\"\"}}}],\"bar\":[{\"error_x\":{\"color\":\"#2a3f5f\"},\"error_y\":{\"color\":\"#2a3f5f\"},\"marker\":{\"line\":{\"color\":\"#E5ECF6\",\"width\":0.5},\"pattern\":{\"fillmode\":\"overlay\",\"size\":10,\"solidity\":0.2}},\"type\":\"bar\"}],\"scattergeo\":[{\"type\":\"scattergeo\",\"marker\":{\"colorbar\":{\"outlinewidth\":0,\"ticks\":\"\"}}}],\"scatterpolar\":[{\"type\":\"scatterpolar\",\"marker\":{\"colorbar\":{\"outlinewidth\":0,\"ticks\":\"\"}}}],\"histogram\":[{\"marker\":{\"pattern\":{\"fillmode\":\"overlay\",\"size\":10,\"solidity\":0.2}},\"type\":\"histogram\"}],\"scattergl\":[{\"type\":\"scattergl\",\"marker\":{\"colorbar\":{\"outlinewidth\":0,\"ticks\":\"\"}}}],\"scatter3d\":[{\"type\":\"scatter3d\",\"line\":{\"colorbar\":{\"outlinewidth\":0,\"ticks\":\"\"}},\"marker\":{\"colorbar\":{\"outlinewidth\":0,\"ticks\":\"\"}}}],\"scattermap\":[{\"type\":\"scattermap\",\"marker\":{\"colorbar\":{\"outlinewidth\":0,\"ticks\":\"\"}}}],\"scattermapbox\":[{\"type\":\"scattermapbox\",\"marker\":{\"colorbar\":{\"outlinewidth\":0,\"ticks\":\"\"}}}],\"scatterternary\":[{\"type\":\"scatterternary\",\"marker\":{\"colorbar\":{\"outlinewidth\":0,\"ticks\":\"\"}}}],\"scattercarpet\":[{\"type\":\"scattercarpet\",\"marker\":{\"colorbar\":{\"outlinewidth\":0,\"ticks\":\"\"}}}],\"carpet\":[{\"aaxis\":{\"endlinecolor\":\"#2a3f5f\",\"gridcolor\":\"white\",\"linecolor\":\"white\",\"minorgridcolor\":\"white\",\"startlinecolor\":\"#2a3f5f\"},\"baxis\":{\"endlinecolor\":\"#2a3f5f\",\"gridcolor\":\"white\",\"linecolor\":\"white\",\"minorgridcolor\":\"white\",\"startlinecolor\":\"#2a3f5f\"},\"type\":\"carpet\"}],\"table\":[{\"cells\":{\"fill\":{\"color\":\"#EBF0F8\"},\"line\":{\"color\":\"white\"}},\"header\":{\"fill\":{\"color\":\"#C8D4E3\"},\"line\":{\"color\":\"white\"}},\"type\":\"table\"}],\"barpolar\":[{\"marker\":{\"line\":{\"color\":\"#E5ECF6\",\"width\":0.5},\"pattern\":{\"fillmode\":\"overlay\",\"size\":10,\"solidity\":0.2}},\"type\":\"barpolar\"}],\"pie\":[{\"automargin\":true,\"type\":\"pie\"}]},\"layout\":{\"autotypenumbers\":\"strict\",\"colorway\":[\"#636efa\",\"#EF553B\",\"#00cc96\",\"#ab63fa\",\"#FFA15A\",\"#19d3f3\",\"#FF6692\",\"#B6E880\",\"#FF97FF\",\"#FECB52\"],\"font\":{\"color\":\"#2a3f5f\"},\"hovermode\":\"closest\",\"hoverlabel\":{\"align\":\"left\"},\"paper_bgcolor\":\"white\",\"plot_bgcolor\":\"#E5ECF6\",\"polar\":{\"bgcolor\":\"#E5ECF6\",\"angularaxis\":{\"gridcolor\":\"white\",\"linecolor\":\"white\",\"ticks\":\"\"},\"radialaxis\":{\"gridcolor\":\"white\",\"linecolor\":\"white\",\"ticks\":\"\"}},\"ternary\":{\"bgcolor\":\"#E5ECF6\",\"aaxis\":{\"gridcolor\":\"white\",\"linecolor\":\"white\",\"ticks\":\"\"},\"baxis\":{\"gridcolor\":\"white\",\"linecolor\":\"white\",\"ticks\":\"\"},\"caxis\":{\"gridcolor\":\"white\",\"linecolor\":\"white\",\"ticks\":\"\"}},\"coloraxis\":{\"colorbar\":{\"outlinewidth\":0,\"ticks\":\"\"}},\"colorscale\":{\"sequential\":[[0.0,\"#0d0887\"],[0.1111111111111111,\"#46039f\"],[0.2222222222222222,\"#7201a8\"],[0.3333333333333333,\"#9c179e\"],[0.4444444444444444,\"#bd3786\"],[0.5555555555555556,\"#d8576b\"],[0.6666666666666666,\"#ed7953\"],[0.7777777777777778,\"#fb9f3a\"],[0.8888888888888888,\"#fdca26\"],[1.0,\"#f0f921\"]],\"sequentialminus\":[[0.0,\"#0d0887\"],[0.1111111111111111,\"#46039f\"],[0.2222222222222222,\"#7201a8\"],[0.3333333333333333,\"#9c179e\"],[0.4444444444444444,\"#bd3786\"],[0.5555555555555556,\"#d8576b\"],[0.6666666666666666,\"#ed7953\"],[0.7777777777777778,\"#fb9f3a\"],[0.8888888888888888,\"#fdca26\"],[1.0,\"#f0f921\"]],\"diverging\":[[0,\"#8e0152\"],[0.1,\"#c51b7d\"],[0.2,\"#de77ae\"],[0.3,\"#f1b6da\"],[0.4,\"#fde0ef\"],[0.5,\"#f7f7f7\"],[0.6,\"#e6f5d0\"],[0.7,\"#b8e186\"],[0.8,\"#7fbc41\"],[0.9,\"#4d9221\"],[1,\"#276419\"]]},\"xaxis\":{\"gridcolor\":\"white\",\"linecolor\":\"white\",\"ticks\":\"\",\"title\":{\"standoff\":15},\"zerolinecolor\":\"white\",\"automargin\":true,\"zerolinewidth\":2},\"yaxis\":{\"gridcolor\":\"white\",\"linecolor\":\"white\",\"ticks\":\"\",\"title\":{\"standoff\":15},\"zerolinecolor\":\"white\",\"automargin\":true,\"zerolinewidth\":2},\"scene\":{\"xaxis\":{\"backgroundcolor\":\"#E5ECF6\",\"gridcolor\":\"white\",\"linecolor\":\"white\",\"showbackground\":true,\"ticks\":\"\",\"zerolinecolor\":\"white\",\"gridwidth\":2},\"yaxis\":{\"backgroundcolor\":\"#E5ECF6\",\"gridcolor\":\"white\",\"linecolor\":\"white\",\"showbackground\":true,\"ticks\":\"\",\"zerolinecolor\":\"white\",\"gridwidth\":2},\"zaxis\":{\"backgroundcolor\":\"#E5ECF6\",\"gridcolor\":\"white\",\"linecolor\":\"white\",\"showbackground\":true,\"ticks\":\"\",\"zerolinecolor\":\"white\",\"gridwidth\":2}},\"shapedefaults\":{\"line\":{\"color\":\"#2a3f5f\"}},\"annotationdefaults\":{\"arrowcolor\":\"#2a3f5f\",\"arrowhead\":0,\"arrowwidth\":1},\"geo\":{\"bgcolor\":\"white\",\"landcolor\":\"#E5ECF6\",\"subunitcolor\":\"white\",\"showland\":true,\"showlakes\":true,\"lakecolor\":\"white\"},\"title\":{\"x\":0.05},\"mapbox\":{\"style\":\"light\"}}},\"xaxis\":{\"anchor\":\"y\",\"domain\":[0.0,1.0],\"title\":{\"text\":\"Social support\"},\"tickfont\":{\"weight\":\"bold\",\"size\":12}},\"yaxis\":{\"anchor\":\"x\",\"domain\":[0.0,1.0],\"title\":{\"text\":\"Country or region\"},\"tickfont\":{\"weight\":\"bold\",\"size\":12}},\"legend\":{\"title\":{\"text\":\"Group\"},\"tracegroupgap\":0},\"title\":{\"text\":\"2018\",\"font\":{\"weight\":\"bold\",\"size\":24},\"x\":0.5},\"barmode\":\"group\",\"showlegend\":false},                        {\"responsive\": true}                    ).then(function(){\n",
       "                            \n",
       "var gd = document.getElementById('5c800efe-4b35-40fc-8809-999394fb641b');\n",
       "var x = new MutationObserver(function (mutations, observer) {{\n",
       "        var display = window.getComputedStyle(gd).display;\n",
       "        if (!display || display === 'none') {{\n",
       "            console.log([gd, 'removed!']);\n",
       "            Plotly.purge(gd);\n",
       "            observer.disconnect();\n",
       "        }}\n",
       "}});\n",
       "\n",
       "// Listen for the removal of the full notebook cells\n",
       "var notebookContainer = gd.closest('#notebook-container');\n",
       "if (notebookContainer) {{\n",
       "    x.observe(notebookContainer, {childList: true});\n",
       "}}\n",
       "\n",
       "// Listen for the clearing of the current output cell\n",
       "var outputEl = gd.closest('.output');\n",
       "if (outputEl) {{\n",
       "    x.observe(outputEl, {childList: true});\n",
       "}}\n",
       "\n",
       "                        })                };            </script>        </div>\n",
       "</body>\n",
       "</html>"
      ]
     },
     "metadata": {},
     "output_type": "display_data"
    }
   ],
   "source": [
    "fig = px.bar(\n",
    "    df_combined_2018_5.sort_values(by='Social support'),\n",
    "    y='Country or region',  # Primary categorical variable\n",
    "    x='Social support',   # Numerical variable\n",
    "    color='Group', # Secondary categorical variable for grouping\n",
    "    barmode='group', # Group the bars\n",
    "    title='2018',\n",
    "    color_discrete_map=custom_color_map\n",
    ")\n",
    "custom_color_map = {'High score of happiness': 'green',\n",
    "                        'Low score of happiness': 'red',\n",
    "                        'Middle score of happiness': 'lightpink'\n",
    "}\n",
    "fig.update_xaxes(\n",
    "    tickfont_weight='bold',  # Make the numbers bold\n",
    "    tickfont_size=12         # Adjust the font size\n",
    ")\n",
    "fig.update_yaxes(\n",
    "    tickfont_weight='bold',  # Make the numbers bold\n",
    "    tickfont_size=12)      # Adjust the font size\n",
    "fig.update_layout(title_x=0.5, title_font=dict(weight='bold',  size=24), showlegend=False)\n",
    "fig.show()"
   ]
  },
  {
   "cell_type": "code",
   "execution_count": 442,
   "metadata": {},
   "outputs": [
    {
     "data": {
      "text/html": [
       "<html>\n",
       "<head><meta charset=\"utf-8\" /></head>\n",
       "<body>\n",
       "    <div>            <script src=\"https://cdnjs.cloudflare.com/ajax/libs/mathjax/2.7.5/MathJax.js?config=TeX-AMS-MML_SVG\"></script><script type=\"text/javascript\">if (window.MathJax && window.MathJax.Hub && window.MathJax.Hub.Config) {window.MathJax.Hub.Config({SVG: {font: \"STIX-Web\"}});}</script>                <script type=\"text/javascript\">window.PlotlyConfig = {MathJaxConfig: 'local'};</script>\n",
       "        <script charset=\"utf-8\" src=\"https://cdn.plot.ly/plotly-3.1.0.min.js\" integrity=\"sha256-Ei4740bWZhaUTQuD6q9yQlgVCMPBz6CZWhevDYPv93A=\" crossorigin=\"anonymous\"></script>                <div id=\"72ccca8c-04f3-4c57-969d-1995fbf0833c\" class=\"plotly-graph-div\" style=\"height:525px; width:100%;\"></div>            <script type=\"text/javascript\">                window.PLOTLYENV=window.PLOTLYENV || {};                                if (document.getElementById(\"72ccca8c-04f3-4c57-969d-1995fbf0833c\")) {                    Plotly.newPlot(                        \"72ccca8c-04f3-4c57-969d-1995fbf0833c\",                        [{\"alignmentgroup\":\"True\",\"hovertemplate\":\"Group=Low score of happiness\\u003cbr\\u003eSocial support=%{x}\\u003cbr\\u003eCountry or region=%{y}\\u003cextra\\u003e\\u003c\\u002fextra\\u003e\",\"legendgroup\":\"Low score of happiness\",\"marker\":{\"color\":\"red\",\"pattern\":{\"shape\":\"\"}},\"name\":\"Low score of happiness\",\"offsetgroup\":\"Low score of happiness\",\"orientation\":\"h\",\"showlegend\":true,\"textposition\":\"auto\",\"x\":{\"dtype\":\"f8\",\"bdata\":\"UrgehetR6D9GtvP91HjpP39qvHSTGPI\\u002fL90kBoGV8z+sHFpkO9\\u002f1Pw==\"},\"xaxis\":\"x\",\"y\":[\"C\\u00f4te d\\u2019Ivoire\",\"Congo\",\"Mozambique\",\"Gabon\",\"Iran\"],\"yaxis\":\"y\",\"type\":\"bar\"},{\"alignmentgroup\":\"True\",\"hovertemplate\":\"Group=Middle score of happiness\\u003cbr\\u003eSocial support=%{x}\\u003cbr\\u003eCountry or region=%{y}\\u003cextra\\u003e\\u003c\\u002fextra\\u003e\",\"legendgroup\":\"Middle score of happiness\",\"marker\":{\"color\":\"lightpink\",\"pattern\":{\"shape\":\"\"}},\"name\":\"Middle score of happiness\",\"offsetgroup\":\"Middle score of happiness\",\"orientation\":\"h\",\"showlegend\":true,\"textposition\":\"auto\",\"x\":{\"dtype\":\"f8\",\"bdata\":\"KVyPwvUo9j+4HoXrUbj4P83MzMzMzPg\\u002f16NwPQrX+T\\u002fXo3A9Ctf5Pw==\"},\"xaxis\":\"x\",\"y\":[\"Philippines\",\"Bosnia and Herzegovina\",\"Japan\",\"Paraguay\",\"Uzbekistan\"],\"yaxis\":\"y\",\"type\":\"bar\"},{\"alignmentgroup\":\"True\",\"hovertemplate\":\"Group=High score of happiness\\u003cbr\\u003eSocial support=%{x}\\u003cbr\\u003eCountry or region=%{y}\\u003cextra\\u003e\\u003c\\u002fextra\\u003e\",\"legendgroup\":\"High score of happiness\",\"marker\":{\"color\":\"green\",\"pattern\":{\"shape\":\"\"}},\"name\":\"High score of happiness\",\"offsetgroup\":\"High score of happiness\",\"orientation\":\"h\",\"showlegend\":true,\"textposition\":\"auto\",\"x\":{\"dtype\":\"f8\",\"bdata\":\"eekmMQis+j9eukkMAiv7PyuHFtnO9\\u002fs\\u002fukkMAiuH\\u002fD9xPQrXo3D9Pw==\"},\"xaxis\":\"x\",\"y\":[\"Netherlands\",\"Sweden\",\"Denmark\",\"Finland\",\"Iceland\"],\"yaxis\":\"y\",\"type\":\"bar\"}],                        {\"template\":{\"data\":{\"histogram2dcontour\":[{\"type\":\"histogram2dcontour\",\"colorbar\":{\"outlinewidth\":0,\"ticks\":\"\"},\"colorscale\":[[0.0,\"#0d0887\"],[0.1111111111111111,\"#46039f\"],[0.2222222222222222,\"#7201a8\"],[0.3333333333333333,\"#9c179e\"],[0.4444444444444444,\"#bd3786\"],[0.5555555555555556,\"#d8576b\"],[0.6666666666666666,\"#ed7953\"],[0.7777777777777778,\"#fb9f3a\"],[0.8888888888888888,\"#fdca26\"],[1.0,\"#f0f921\"]]}],\"choropleth\":[{\"type\":\"choropleth\",\"colorbar\":{\"outlinewidth\":0,\"ticks\":\"\"}}],\"histogram2d\":[{\"type\":\"histogram2d\",\"colorbar\":{\"outlinewidth\":0,\"ticks\":\"\"},\"colorscale\":[[0.0,\"#0d0887\"],[0.1111111111111111,\"#46039f\"],[0.2222222222222222,\"#7201a8\"],[0.3333333333333333,\"#9c179e\"],[0.4444444444444444,\"#bd3786\"],[0.5555555555555556,\"#d8576b\"],[0.6666666666666666,\"#ed7953\"],[0.7777777777777778,\"#fb9f3a\"],[0.8888888888888888,\"#fdca26\"],[1.0,\"#f0f921\"]]}],\"heatmap\":[{\"type\":\"heatmap\",\"colorbar\":{\"outlinewidth\":0,\"ticks\":\"\"},\"colorscale\":[[0.0,\"#0d0887\"],[0.1111111111111111,\"#46039f\"],[0.2222222222222222,\"#7201a8\"],[0.3333333333333333,\"#9c179e\"],[0.4444444444444444,\"#bd3786\"],[0.5555555555555556,\"#d8576b\"],[0.6666666666666666,\"#ed7953\"],[0.7777777777777778,\"#fb9f3a\"],[0.8888888888888888,\"#fdca26\"],[1.0,\"#f0f921\"]]}],\"contourcarpet\":[{\"type\":\"contourcarpet\",\"colorbar\":{\"outlinewidth\":0,\"ticks\":\"\"}}],\"contour\":[{\"type\":\"contour\",\"colorbar\":{\"outlinewidth\":0,\"ticks\":\"\"},\"colorscale\":[[0.0,\"#0d0887\"],[0.1111111111111111,\"#46039f\"],[0.2222222222222222,\"#7201a8\"],[0.3333333333333333,\"#9c179e\"],[0.4444444444444444,\"#bd3786\"],[0.5555555555555556,\"#d8576b\"],[0.6666666666666666,\"#ed7953\"],[0.7777777777777778,\"#fb9f3a\"],[0.8888888888888888,\"#fdca26\"],[1.0,\"#f0f921\"]]}],\"surface\":[{\"type\":\"surface\",\"colorbar\":{\"outlinewidth\":0,\"ticks\":\"\"},\"colorscale\":[[0.0,\"#0d0887\"],[0.1111111111111111,\"#46039f\"],[0.2222222222222222,\"#7201a8\"],[0.3333333333333333,\"#9c179e\"],[0.4444444444444444,\"#bd3786\"],[0.5555555555555556,\"#d8576b\"],[0.6666666666666666,\"#ed7953\"],[0.7777777777777778,\"#fb9f3a\"],[0.8888888888888888,\"#fdca26\"],[1.0,\"#f0f921\"]]}],\"mesh3d\":[{\"type\":\"mesh3d\",\"colorbar\":{\"outlinewidth\":0,\"ticks\":\"\"}}],\"scatter\":[{\"fillpattern\":{\"fillmode\":\"overlay\",\"size\":10,\"solidity\":0.2},\"type\":\"scatter\"}],\"parcoords\":[{\"type\":\"parcoords\",\"line\":{\"colorbar\":{\"outlinewidth\":0,\"ticks\":\"\"}}}],\"scatterpolargl\":[{\"type\":\"scatterpolargl\",\"marker\":{\"colorbar\":{\"outlinewidth\":0,\"ticks\":\"\"}}}],\"bar\":[{\"error_x\":{\"color\":\"#2a3f5f\"},\"error_y\":{\"color\":\"#2a3f5f\"},\"marker\":{\"line\":{\"color\":\"#E5ECF6\",\"width\":0.5},\"pattern\":{\"fillmode\":\"overlay\",\"size\":10,\"solidity\":0.2}},\"type\":\"bar\"}],\"scattergeo\":[{\"type\":\"scattergeo\",\"marker\":{\"colorbar\":{\"outlinewidth\":0,\"ticks\":\"\"}}}],\"scatterpolar\":[{\"type\":\"scatterpolar\",\"marker\":{\"colorbar\":{\"outlinewidth\":0,\"ticks\":\"\"}}}],\"histogram\":[{\"marker\":{\"pattern\":{\"fillmode\":\"overlay\",\"size\":10,\"solidity\":0.2}},\"type\":\"histogram\"}],\"scattergl\":[{\"type\":\"scattergl\",\"marker\":{\"colorbar\":{\"outlinewidth\":0,\"ticks\":\"\"}}}],\"scatter3d\":[{\"type\":\"scatter3d\",\"line\":{\"colorbar\":{\"outlinewidth\":0,\"ticks\":\"\"}},\"marker\":{\"colorbar\":{\"outlinewidth\":0,\"ticks\":\"\"}}}],\"scattermap\":[{\"type\":\"scattermap\",\"marker\":{\"colorbar\":{\"outlinewidth\":0,\"ticks\":\"\"}}}],\"scattermapbox\":[{\"type\":\"scattermapbox\",\"marker\":{\"colorbar\":{\"outlinewidth\":0,\"ticks\":\"\"}}}],\"scatterternary\":[{\"type\":\"scatterternary\",\"marker\":{\"colorbar\":{\"outlinewidth\":0,\"ticks\":\"\"}}}],\"scattercarpet\":[{\"type\":\"scattercarpet\",\"marker\":{\"colorbar\":{\"outlinewidth\":0,\"ticks\":\"\"}}}],\"carpet\":[{\"aaxis\":{\"endlinecolor\":\"#2a3f5f\",\"gridcolor\":\"white\",\"linecolor\":\"white\",\"minorgridcolor\":\"white\",\"startlinecolor\":\"#2a3f5f\"},\"baxis\":{\"endlinecolor\":\"#2a3f5f\",\"gridcolor\":\"white\",\"linecolor\":\"white\",\"minorgridcolor\":\"white\",\"startlinecolor\":\"#2a3f5f\"},\"type\":\"carpet\"}],\"table\":[{\"cells\":{\"fill\":{\"color\":\"#EBF0F8\"},\"line\":{\"color\":\"white\"}},\"header\":{\"fill\":{\"color\":\"#C8D4E3\"},\"line\":{\"color\":\"white\"}},\"type\":\"table\"}],\"barpolar\":[{\"marker\":{\"line\":{\"color\":\"#E5ECF6\",\"width\":0.5},\"pattern\":{\"fillmode\":\"overlay\",\"size\":10,\"solidity\":0.2}},\"type\":\"barpolar\"}],\"pie\":[{\"automargin\":true,\"type\":\"pie\"}]},\"layout\":{\"autotypenumbers\":\"strict\",\"colorway\":[\"#636efa\",\"#EF553B\",\"#00cc96\",\"#ab63fa\",\"#FFA15A\",\"#19d3f3\",\"#FF6692\",\"#B6E880\",\"#FF97FF\",\"#FECB52\"],\"font\":{\"color\":\"#2a3f5f\"},\"hovermode\":\"closest\",\"hoverlabel\":{\"align\":\"left\"},\"paper_bgcolor\":\"white\",\"plot_bgcolor\":\"#E5ECF6\",\"polar\":{\"bgcolor\":\"#E5ECF6\",\"angularaxis\":{\"gridcolor\":\"white\",\"linecolor\":\"white\",\"ticks\":\"\"},\"radialaxis\":{\"gridcolor\":\"white\",\"linecolor\":\"white\",\"ticks\":\"\"}},\"ternary\":{\"bgcolor\":\"#E5ECF6\",\"aaxis\":{\"gridcolor\":\"white\",\"linecolor\":\"white\",\"ticks\":\"\"},\"baxis\":{\"gridcolor\":\"white\",\"linecolor\":\"white\",\"ticks\":\"\"},\"caxis\":{\"gridcolor\":\"white\",\"linecolor\":\"white\",\"ticks\":\"\"}},\"coloraxis\":{\"colorbar\":{\"outlinewidth\":0,\"ticks\":\"\"}},\"colorscale\":{\"sequential\":[[0.0,\"#0d0887\"],[0.1111111111111111,\"#46039f\"],[0.2222222222222222,\"#7201a8\"],[0.3333333333333333,\"#9c179e\"],[0.4444444444444444,\"#bd3786\"],[0.5555555555555556,\"#d8576b\"],[0.6666666666666666,\"#ed7953\"],[0.7777777777777778,\"#fb9f3a\"],[0.8888888888888888,\"#fdca26\"],[1.0,\"#f0f921\"]],\"sequentialminus\":[[0.0,\"#0d0887\"],[0.1111111111111111,\"#46039f\"],[0.2222222222222222,\"#7201a8\"],[0.3333333333333333,\"#9c179e\"],[0.4444444444444444,\"#bd3786\"],[0.5555555555555556,\"#d8576b\"],[0.6666666666666666,\"#ed7953\"],[0.7777777777777778,\"#fb9f3a\"],[0.8888888888888888,\"#fdca26\"],[1.0,\"#f0f921\"]],\"diverging\":[[0,\"#8e0152\"],[0.1,\"#c51b7d\"],[0.2,\"#de77ae\"],[0.3,\"#f1b6da\"],[0.4,\"#fde0ef\"],[0.5,\"#f7f7f7\"],[0.6,\"#e6f5d0\"],[0.7,\"#b8e186\"],[0.8,\"#7fbc41\"],[0.9,\"#4d9221\"],[1,\"#276419\"]]},\"xaxis\":{\"gridcolor\":\"white\",\"linecolor\":\"white\",\"ticks\":\"\",\"title\":{\"standoff\":15},\"zerolinecolor\":\"white\",\"automargin\":true,\"zerolinewidth\":2},\"yaxis\":{\"gridcolor\":\"white\",\"linecolor\":\"white\",\"ticks\":\"\",\"title\":{\"standoff\":15},\"zerolinecolor\":\"white\",\"automargin\":true,\"zerolinewidth\":2},\"scene\":{\"xaxis\":{\"backgroundcolor\":\"#E5ECF6\",\"gridcolor\":\"white\",\"linecolor\":\"white\",\"showbackground\":true,\"ticks\":\"\",\"zerolinecolor\":\"white\",\"gridwidth\":2},\"yaxis\":{\"backgroundcolor\":\"#E5ECF6\",\"gridcolor\":\"white\",\"linecolor\":\"white\",\"showbackground\":true,\"ticks\":\"\",\"zerolinecolor\":\"white\",\"gridwidth\":2},\"zaxis\":{\"backgroundcolor\":\"#E5ECF6\",\"gridcolor\":\"white\",\"linecolor\":\"white\",\"showbackground\":true,\"ticks\":\"\",\"zerolinecolor\":\"white\",\"gridwidth\":2}},\"shapedefaults\":{\"line\":{\"color\":\"#2a3f5f\"}},\"annotationdefaults\":{\"arrowcolor\":\"#2a3f5f\",\"arrowhead\":0,\"arrowwidth\":1},\"geo\":{\"bgcolor\":\"white\",\"landcolor\":\"#E5ECF6\",\"subunitcolor\":\"white\",\"showland\":true,\"showlakes\":true,\"lakecolor\":\"white\"},\"title\":{\"x\":0.05},\"mapbox\":{\"style\":\"light\"}}},\"xaxis\":{\"anchor\":\"y\",\"domain\":[0.0,1.0],\"title\":{\"text\":\"Social support\"},\"tickfont\":{\"weight\":\"bold\",\"size\":12}},\"yaxis\":{\"anchor\":\"x\",\"domain\":[0.0,1.0],\"title\":{\"text\":\"Country or region\"},\"tickfont\":{\"weight\":\"bold\",\"size\":12}},\"legend\":{\"title\":{\"text\":\"Group\"},\"tracegroupgap\":0},\"title\":{\"text\":\"2024\",\"font\":{\"weight\":\"bold\",\"size\":24},\"x\":0.5},\"barmode\":\"group\",\"showlegend\":false},                        {\"responsive\": true}                    ).then(function(){\n",
       "                            \n",
       "var gd = document.getElementById('72ccca8c-04f3-4c57-969d-1995fbf0833c');\n",
       "var x = new MutationObserver(function (mutations, observer) {{\n",
       "        var display = window.getComputedStyle(gd).display;\n",
       "        if (!display || display === 'none') {{\n",
       "            console.log([gd, 'removed!']);\n",
       "            Plotly.purge(gd);\n",
       "            observer.disconnect();\n",
       "        }}\n",
       "}});\n",
       "\n",
       "// Listen for the removal of the full notebook cells\n",
       "var notebookContainer = gd.closest('#notebook-container');\n",
       "if (notebookContainer) {{\n",
       "    x.observe(notebookContainer, {childList: true});\n",
       "}}\n",
       "\n",
       "// Listen for the clearing of the current output cell\n",
       "var outputEl = gd.closest('.output');\n",
       "if (outputEl) {{\n",
       "    x.observe(outputEl, {childList: true});\n",
       "}}\n",
       "\n",
       "                        })                };            </script>        </div>\n",
       "</body>\n",
       "</html>"
      ]
     },
     "metadata": {},
     "output_type": "display_data"
    }
   ],
   "source": [
    "fig = px.bar(\n",
    "    df_combined_2024_5.sort_values(by='Social support'),\n",
    "    y='Country or region',  # Primary categorical variable\n",
    "    x='Social support',   # Numerical variable\n",
    "    color='Group', # Secondary categorical variable for grouping\n",
    "    barmode='group', # Group the bars\n",
    "    title='2024',\n",
    "    color_discrete_map=custom_color_map\n",
    ")\n",
    "custom_color_map = {'High score of happiness': 'green',\n",
    "                        'Low score of happiness': 'red',\n",
    "                        'Middle score of happiness': 'lightpink'\n",
    "}\n",
    "fig.update_xaxes(\n",
    "    tickfont_weight='bold',  # Make the numbers bold\n",
    "    tickfont_size=12         # Adjust the font size\n",
    ")\n",
    "fig.update_yaxes(\n",
    "    tickfont_weight='bold',  # Make the numbers bold\n",
    "    tickfont_size=12)      # Adjust the font size\n",
    "fig.update_layout(title_x=0.5, title_font=dict(weight='bold',  size=24), showlegend=False)\n",
    "fig.show()"
   ]
  },
  {
   "cell_type": "code",
   "execution_count": 443,
   "metadata": {},
   "outputs": [
    {
     "data": {
      "text/html": [
       "<html>\n",
       "<head><meta charset=\"utf-8\" /></head>\n",
       "<body>\n",
       "    <div>            <script src=\"https://cdnjs.cloudflare.com/ajax/libs/mathjax/2.7.5/MathJax.js?config=TeX-AMS-MML_SVG\"></script><script type=\"text/javascript\">if (window.MathJax && window.MathJax.Hub && window.MathJax.Hub.Config) {window.MathJax.Hub.Config({SVG: {font: \"STIX-Web\"}});}</script>                <script type=\"text/javascript\">window.PlotlyConfig = {MathJaxConfig: 'local'};</script>\n",
       "        <script charset=\"utf-8\" src=\"https://cdn.plot.ly/plotly-3.1.0.min.js\" integrity=\"sha256-Ei4740bWZhaUTQuD6q9yQlgVCMPBz6CZWhevDYPv93A=\" crossorigin=\"anonymous\"></script>                <div id=\"c92a1d50-c7c8-4d2a-a58d-ce2b7af7eea2\" class=\"plotly-graph-div\" style=\"height:525px; width:100%;\"></div>            <script type=\"text/javascript\">                window.PLOTLYENV=window.PLOTLYENV || {};                                if (document.getElementById(\"c92a1d50-c7c8-4d2a-a58d-ce2b7af7eea2\")) {                    Plotly.newPlot(                        \"c92a1d50-c7c8-4d2a-a58d-ce2b7af7eea2\",                        [{\"hovertemplate\":\"Group=Low score of happiness\\u003cbr\\u003eCountry or region=%{x}\\u003cbr\\u003eGenerosity=%{y}\\u003cextra\\u003e\\u003c\\u002fextra\\u003e\",\"legendgroup\":\"Low score of happiness\",\"marker\":{\"color\":\"red\",\"symbol\":\"circle\",\"size\":10},\"mode\":\"markers\",\"name\":\"Low score of happiness\",\"orientation\":\"v\",\"showlegend\":true,\"x\":[\"Congo (Brazzaville)\",\"Sierra Leone\",\"Albania\",\"Tunisia\",\"Laos\",\"Senegal\",\"Ghana\",\"Ivory Coast\",\"Iran\",\"South Africa\"],\"xaxis\":\"x\",\"y\":{\"dtype\":\"f8\",\"bdata\":\"sp3vp8ZLtz8QWDm0yHbOP99PjZduEsM\\u002fexSuR+F6pD9xPQrXo3DNP0SLbOf7qcE\\u002fiUFg5dAiyz\\u002fjpZvEILDCPz81XrpJDNI\\u002fke18PzVeuj8=\"},\"yaxis\":\"y\",\"type\":\"scatter\"},{\"hovertemplate\":\"Group=Middle score of happiness\\u003cbr\\u003eCountry or region=%{x}\\u003cbr\\u003eGenerosity=%{y}\\u003cextra\\u003e\\u003c\\u002fextra\\u003e\",\"legendgroup\":\"Middle score of happiness\",\"marker\":{\"color\":\"lightpink\",\"symbol\":\"circle\",\"size\":10},\"mode\":\"markers\",\"name\":\"Middle score of happiness\",\"orientation\":\"v\",\"showlegend\":true,\"x\":[\"Bolivia\",\"Cyprus\",\"Kazakhstan\",\"Russia\",\"Northern Cyprus\",\"South Korea\",\"Jamaica\",\"Mauritius\",\"Japan\",\"Latvia\"],\"xaxis\":\"x\",\"y\":{\"dtype\":\"f8\",\"bdata\":\"PzVeukkMwj9CYOXQItvJP4ts5\\u002fup8cI\\u002fpHA9CtejsD+28\\u002f3UeOnGP2ZmZmZmZsY\\u002f+n5qvHSTuD9cj8L1KFzPP9NNYhBYObQ\\u002fWmQ730+Ntz8=\"},\"yaxis\":\"y\",\"type\":\"scatter\"},{\"hovertemplate\":\"Group=High score of happiness\\u003cbr\\u003eCountry or region=%{x}\\u003cbr\\u003eGenerosity=%{y}\\u003cextra\\u003e\\u003c\\u002fextra\\u003e\",\"legendgroup\":\"High score of happiness\",\"marker\":{\"color\":\"green\",\"symbol\":\"circle\",\"size\":10},\"mode\":\"markers\",\"name\":\"High score of happiness\",\"orientation\":\"v\",\"showlegend\":true,\"x\":[\"Australia\",\"Sweden\",\"New Zealand\",\"Canada\",\"Netherlands\",\"Switzerland\",\"Iceland\",\"Denmark\",\"Norway\",\"Finland\"],\"xaxis\":\"x\",\"y\":{\"dtype\":\"f8\",\"bdata\":\"tMh2vp8a1z89CtejcD3SP1yPwvUoXNc\\u002fJQaBlUOL1D8dWmQ730\\u002fVP\\u002fyp8dJNYtA\\u002fZDvfT42X1j+TGARWDi3SP+f7qfHSTdI\\u002fQmDl0CLbyT8=\"},\"yaxis\":\"y\",\"type\":\"scatter\"}],                        {\"template\":{\"data\":{\"histogram2dcontour\":[{\"type\":\"histogram2dcontour\",\"colorbar\":{\"outlinewidth\":0,\"ticks\":\"\"},\"colorscale\":[[0.0,\"#0d0887\"],[0.1111111111111111,\"#46039f\"],[0.2222222222222222,\"#7201a8\"],[0.3333333333333333,\"#9c179e\"],[0.4444444444444444,\"#bd3786\"],[0.5555555555555556,\"#d8576b\"],[0.6666666666666666,\"#ed7953\"],[0.7777777777777778,\"#fb9f3a\"],[0.8888888888888888,\"#fdca26\"],[1.0,\"#f0f921\"]]}],\"choropleth\":[{\"type\":\"choropleth\",\"colorbar\":{\"outlinewidth\":0,\"ticks\":\"\"}}],\"histogram2d\":[{\"type\":\"histogram2d\",\"colorbar\":{\"outlinewidth\":0,\"ticks\":\"\"},\"colorscale\":[[0.0,\"#0d0887\"],[0.1111111111111111,\"#46039f\"],[0.2222222222222222,\"#7201a8\"],[0.3333333333333333,\"#9c179e\"],[0.4444444444444444,\"#bd3786\"],[0.5555555555555556,\"#d8576b\"],[0.6666666666666666,\"#ed7953\"],[0.7777777777777778,\"#fb9f3a\"],[0.8888888888888888,\"#fdca26\"],[1.0,\"#f0f921\"]]}],\"heatmap\":[{\"type\":\"heatmap\",\"colorbar\":{\"outlinewidth\":0,\"ticks\":\"\"},\"colorscale\":[[0.0,\"#0d0887\"],[0.1111111111111111,\"#46039f\"],[0.2222222222222222,\"#7201a8\"],[0.3333333333333333,\"#9c179e\"],[0.4444444444444444,\"#bd3786\"],[0.5555555555555556,\"#d8576b\"],[0.6666666666666666,\"#ed7953\"],[0.7777777777777778,\"#fb9f3a\"],[0.8888888888888888,\"#fdca26\"],[1.0,\"#f0f921\"]]}],\"contourcarpet\":[{\"type\":\"contourcarpet\",\"colorbar\":{\"outlinewidth\":0,\"ticks\":\"\"}}],\"contour\":[{\"type\":\"contour\",\"colorbar\":{\"outlinewidth\":0,\"ticks\":\"\"},\"colorscale\":[[0.0,\"#0d0887\"],[0.1111111111111111,\"#46039f\"],[0.2222222222222222,\"#7201a8\"],[0.3333333333333333,\"#9c179e\"],[0.4444444444444444,\"#bd3786\"],[0.5555555555555556,\"#d8576b\"],[0.6666666666666666,\"#ed7953\"],[0.7777777777777778,\"#fb9f3a\"],[0.8888888888888888,\"#fdca26\"],[1.0,\"#f0f921\"]]}],\"surface\":[{\"type\":\"surface\",\"colorbar\":{\"outlinewidth\":0,\"ticks\":\"\"},\"colorscale\":[[0.0,\"#0d0887\"],[0.1111111111111111,\"#46039f\"],[0.2222222222222222,\"#7201a8\"],[0.3333333333333333,\"#9c179e\"],[0.4444444444444444,\"#bd3786\"],[0.5555555555555556,\"#d8576b\"],[0.6666666666666666,\"#ed7953\"],[0.7777777777777778,\"#fb9f3a\"],[0.8888888888888888,\"#fdca26\"],[1.0,\"#f0f921\"]]}],\"mesh3d\":[{\"type\":\"mesh3d\",\"colorbar\":{\"outlinewidth\":0,\"ticks\":\"\"}}],\"scatter\":[{\"fillpattern\":{\"fillmode\":\"overlay\",\"size\":10,\"solidity\":0.2},\"type\":\"scatter\"}],\"parcoords\":[{\"type\":\"parcoords\",\"line\":{\"colorbar\":{\"outlinewidth\":0,\"ticks\":\"\"}}}],\"scatterpolargl\":[{\"type\":\"scatterpolargl\",\"marker\":{\"colorbar\":{\"outlinewidth\":0,\"ticks\":\"\"}}}],\"bar\":[{\"error_x\":{\"color\":\"#2a3f5f\"},\"error_y\":{\"color\":\"#2a3f5f\"},\"marker\":{\"line\":{\"color\":\"#E5ECF6\",\"width\":0.5},\"pattern\":{\"fillmode\":\"overlay\",\"size\":10,\"solidity\":0.2}},\"type\":\"bar\"}],\"scattergeo\":[{\"type\":\"scattergeo\",\"marker\":{\"colorbar\":{\"outlinewidth\":0,\"ticks\":\"\"}}}],\"scatterpolar\":[{\"type\":\"scatterpolar\",\"marker\":{\"colorbar\":{\"outlinewidth\":0,\"ticks\":\"\"}}}],\"histogram\":[{\"marker\":{\"pattern\":{\"fillmode\":\"overlay\",\"size\":10,\"solidity\":0.2}},\"type\":\"histogram\"}],\"scattergl\":[{\"type\":\"scattergl\",\"marker\":{\"colorbar\":{\"outlinewidth\":0,\"ticks\":\"\"}}}],\"scatter3d\":[{\"type\":\"scatter3d\",\"line\":{\"colorbar\":{\"outlinewidth\":0,\"ticks\":\"\"}},\"marker\":{\"colorbar\":{\"outlinewidth\":0,\"ticks\":\"\"}}}],\"scattermap\":[{\"type\":\"scattermap\",\"marker\":{\"colorbar\":{\"outlinewidth\":0,\"ticks\":\"\"}}}],\"scattermapbox\":[{\"type\":\"scattermapbox\",\"marker\":{\"colorbar\":{\"outlinewidth\":0,\"ticks\":\"\"}}}],\"scatterternary\":[{\"type\":\"scatterternary\",\"marker\":{\"colorbar\":{\"outlinewidth\":0,\"ticks\":\"\"}}}],\"scattercarpet\":[{\"type\":\"scattercarpet\",\"marker\":{\"colorbar\":{\"outlinewidth\":0,\"ticks\":\"\"}}}],\"carpet\":[{\"aaxis\":{\"endlinecolor\":\"#2a3f5f\",\"gridcolor\":\"white\",\"linecolor\":\"white\",\"minorgridcolor\":\"white\",\"startlinecolor\":\"#2a3f5f\"},\"baxis\":{\"endlinecolor\":\"#2a3f5f\",\"gridcolor\":\"white\",\"linecolor\":\"white\",\"minorgridcolor\":\"white\",\"startlinecolor\":\"#2a3f5f\"},\"type\":\"carpet\"}],\"table\":[{\"cells\":{\"fill\":{\"color\":\"#EBF0F8\"},\"line\":{\"color\":\"white\"}},\"header\":{\"fill\":{\"color\":\"#C8D4E3\"},\"line\":{\"color\":\"white\"}},\"type\":\"table\"}],\"barpolar\":[{\"marker\":{\"line\":{\"color\":\"#E5ECF6\",\"width\":0.5},\"pattern\":{\"fillmode\":\"overlay\",\"size\":10,\"solidity\":0.2}},\"type\":\"barpolar\"}],\"pie\":[{\"automargin\":true,\"type\":\"pie\"}]},\"layout\":{\"autotypenumbers\":\"strict\",\"colorway\":[\"#636efa\",\"#EF553B\",\"#00cc96\",\"#ab63fa\",\"#FFA15A\",\"#19d3f3\",\"#FF6692\",\"#B6E880\",\"#FF97FF\",\"#FECB52\"],\"font\":{\"color\":\"#2a3f5f\"},\"hovermode\":\"closest\",\"hoverlabel\":{\"align\":\"left\"},\"paper_bgcolor\":\"white\",\"plot_bgcolor\":\"#E5ECF6\",\"polar\":{\"bgcolor\":\"#E5ECF6\",\"angularaxis\":{\"gridcolor\":\"white\",\"linecolor\":\"white\",\"ticks\":\"\"},\"radialaxis\":{\"gridcolor\":\"white\",\"linecolor\":\"white\",\"ticks\":\"\"}},\"ternary\":{\"bgcolor\":\"#E5ECF6\",\"aaxis\":{\"gridcolor\":\"white\",\"linecolor\":\"white\",\"ticks\":\"\"},\"baxis\":{\"gridcolor\":\"white\",\"linecolor\":\"white\",\"ticks\":\"\"},\"caxis\":{\"gridcolor\":\"white\",\"linecolor\":\"white\",\"ticks\":\"\"}},\"coloraxis\":{\"colorbar\":{\"outlinewidth\":0,\"ticks\":\"\"}},\"colorscale\":{\"sequential\":[[0.0,\"#0d0887\"],[0.1111111111111111,\"#46039f\"],[0.2222222222222222,\"#7201a8\"],[0.3333333333333333,\"#9c179e\"],[0.4444444444444444,\"#bd3786\"],[0.5555555555555556,\"#d8576b\"],[0.6666666666666666,\"#ed7953\"],[0.7777777777777778,\"#fb9f3a\"],[0.8888888888888888,\"#fdca26\"],[1.0,\"#f0f921\"]],\"sequentialminus\":[[0.0,\"#0d0887\"],[0.1111111111111111,\"#46039f\"],[0.2222222222222222,\"#7201a8\"],[0.3333333333333333,\"#9c179e\"],[0.4444444444444444,\"#bd3786\"],[0.5555555555555556,\"#d8576b\"],[0.6666666666666666,\"#ed7953\"],[0.7777777777777778,\"#fb9f3a\"],[0.8888888888888888,\"#fdca26\"],[1.0,\"#f0f921\"]],\"diverging\":[[0,\"#8e0152\"],[0.1,\"#c51b7d\"],[0.2,\"#de77ae\"],[0.3,\"#f1b6da\"],[0.4,\"#fde0ef\"],[0.5,\"#f7f7f7\"],[0.6,\"#e6f5d0\"],[0.7,\"#b8e186\"],[0.8,\"#7fbc41\"],[0.9,\"#4d9221\"],[1,\"#276419\"]]},\"xaxis\":{\"gridcolor\":\"white\",\"linecolor\":\"white\",\"ticks\":\"\",\"title\":{\"standoff\":15},\"zerolinecolor\":\"white\",\"automargin\":true,\"zerolinewidth\":2},\"yaxis\":{\"gridcolor\":\"white\",\"linecolor\":\"white\",\"ticks\":\"\",\"title\":{\"standoff\":15},\"zerolinecolor\":\"white\",\"automargin\":true,\"zerolinewidth\":2},\"scene\":{\"xaxis\":{\"backgroundcolor\":\"#E5ECF6\",\"gridcolor\":\"white\",\"linecolor\":\"white\",\"showbackground\":true,\"ticks\":\"\",\"zerolinecolor\":\"white\",\"gridwidth\":2},\"yaxis\":{\"backgroundcolor\":\"#E5ECF6\",\"gridcolor\":\"white\",\"linecolor\":\"white\",\"showbackground\":true,\"ticks\":\"\",\"zerolinecolor\":\"white\",\"gridwidth\":2},\"zaxis\":{\"backgroundcolor\":\"#E5ECF6\",\"gridcolor\":\"white\",\"linecolor\":\"white\",\"showbackground\":true,\"ticks\":\"\",\"zerolinecolor\":\"white\",\"gridwidth\":2}},\"shapedefaults\":{\"line\":{\"color\":\"#2a3f5f\"}},\"annotationdefaults\":{\"arrowcolor\":\"#2a3f5f\",\"arrowhead\":0,\"arrowwidth\":1},\"geo\":{\"bgcolor\":\"white\",\"landcolor\":\"#E5ECF6\",\"subunitcolor\":\"white\",\"showland\":true,\"showlakes\":true,\"lakecolor\":\"white\"},\"title\":{\"x\":0.05},\"mapbox\":{\"style\":\"light\"}}},\"xaxis\":{\"anchor\":\"y\",\"domain\":[0.0,1.0],\"title\":{\"text\":\"Country or region\"},\"tickangle\":45},\"yaxis\":{\"anchor\":\"x\",\"domain\":[0.0,1.0],\"title\":{\"text\":\"Generosity\"},\"tickfont\":{\"weight\":\"bold\",\"size\":12}},\"legend\":{\"title\":{\"text\":\"Group\"},\"tracegroupgap\":0},\"title\":{\"text\":\"2018\",\"font\":{\"size\":24,\"weight\":\"bold\"},\"x\":0.5},\"showlegend\":false},                        {\"responsive\": true}                    ).then(function(){\n",
       "                            \n",
       "var gd = document.getElementById('c92a1d50-c7c8-4d2a-a58d-ce2b7af7eea2');\n",
       "var x = new MutationObserver(function (mutations, observer) {{\n",
       "        var display = window.getComputedStyle(gd).display;\n",
       "        if (!display || display === 'none') {{\n",
       "            console.log([gd, 'removed!']);\n",
       "            Plotly.purge(gd);\n",
       "            observer.disconnect();\n",
       "        }}\n",
       "}});\n",
       "\n",
       "// Listen for the removal of the full notebook cells\n",
       "var notebookContainer = gd.closest('#notebook-container');\n",
       "if (notebookContainer) {{\n",
       "    x.observe(notebookContainer, {childList: true});\n",
       "}}\n",
       "\n",
       "// Listen for the clearing of the current output cell\n",
       "var outputEl = gd.closest('.output');\n",
       "if (outputEl) {{\n",
       "    x.observe(outputEl, {childList: true});\n",
       "}}\n",
       "\n",
       "                        })                };            </script>        </div>\n",
       "</body>\n",
       "</html>"
      ]
     },
     "metadata": {},
     "output_type": "display_data"
    }
   ],
   "source": [
    "fig=px.scatter(df_combined_2018_10, x='Country or region', y='Generosity', color='Group', title='2018', color_discrete_map=custom_color_map)\n",
    "fig.update_layout(showlegend=False,title_x=0.5, title_font=dict(\n",
    "        size=24, weight='bold'\n",
    "    ))\n",
    "fig.update_traces(marker=dict(size=10))\n",
    "custom_color_map = {'High score of happiness': 'green',\n",
    "                        'Low score of happiness': 'red',\n",
    "                        'Middle score of happiness': 'lightpink'}\n",
    "fig.update_yaxes(\n",
    "    tickfont_weight='bold',  # Make the numbers bold\n",
    "    tickfont_size=12         # Adjust the font size\n",
    ")\n",
    "fig.update_xaxes(\n",
    "    tickangle=45 # <--- Rotate the x-axis labels\n",
    ")\n",
    "fig.update_yaxes(\n",
    "    tickfont_weight='bold',  # Make the numbers bold\n",
    "    tickfont_size=12)      # Adjust the font size\n",
    "\n",
    "fig.update_layout(title_x=0.5)\n",
    "fig.show()"
   ]
  },
  {
   "cell_type": "code",
   "execution_count": 444,
   "metadata": {},
   "outputs": [
    {
     "data": {
      "text/html": [
       "<html>\n",
       "<head><meta charset=\"utf-8\" /></head>\n",
       "<body>\n",
       "    <div>            <script src=\"https://cdnjs.cloudflare.com/ajax/libs/mathjax/2.7.5/MathJax.js?config=TeX-AMS-MML_SVG\"></script><script type=\"text/javascript\">if (window.MathJax && window.MathJax.Hub && window.MathJax.Hub.Config) {window.MathJax.Hub.Config({SVG: {font: \"STIX-Web\"}});}</script>                <script type=\"text/javascript\">window.PlotlyConfig = {MathJaxConfig: 'local'};</script>\n",
       "        <script charset=\"utf-8\" src=\"https://cdn.plot.ly/plotly-3.1.0.min.js\" integrity=\"sha256-Ei4740bWZhaUTQuD6q9yQlgVCMPBz6CZWhevDYPv93A=\" crossorigin=\"anonymous\"></script>                <div id=\"c79a658e-fe77-4bf7-9b42-297652f7605c\" class=\"plotly-graph-div\" style=\"height:525px; width:100%;\"></div>            <script type=\"text/javascript\">                window.PLOTLYENV=window.PLOTLYENV || {};                                if (document.getElementById(\"c79a658e-fe77-4bf7-9b42-297652f7605c\")) {                    Plotly.newPlot(                        \"c79a658e-fe77-4bf7-9b42-297652f7605c\",                        [{\"hovertemplate\":\"Group=Low score of happiness\\u003cbr\\u003eCountry or region=%{x}\\u003cbr\\u003eGenerosity=%{y}\\u003cextra\\u003e\\u003c\\u002fextra\\u003e\",\"legendgroup\":\"Low score of happiness\",\"marker\":{\"color\":\"red\",\"symbol\":\"circle\",\"size\":10},\"mode\":\"markers\",\"name\":\"Low score of happiness\",\"orientation\":\"v\",\"showlegend\":true,\"x\":[\"Nigeria\",\"Cameroon\",\"Namibia\",\"Guinea\",\"Iraq\",\"Congo\",\"Iran\",\"C\\u00f4te d\\u2019Ivoire\",\"Gabon\",\"Mozambique\"],\"xaxis\":\"x\",\"y\":{\"dtype\":\"f8\",\"bdata\":\"w\\u002fUoXI\\u002fCxT\\u002fy0k1iEFi5Pzm0yHa+n6o\\u002ff2q8dJMYxD+amZmZmZm5P8uhRbbz\\u002fbQ\\u002fQmDl0CLbyT+amZmZmZm5Pxsv3SQGgaU\\u002fqMZLN4lBwD8=\"},\"yaxis\":\"y\",\"type\":\"scatter\"},{\"hovertemplate\":\"Group=Middle score of happiness\\u003cbr\\u003eCountry or region=%{x}\\u003cbr\\u003eGenerosity=%{y}\\u003cextra\\u003e\\u003c\\u002fextra\\u003e\",\"legendgroup\":\"Middle score of happiness\",\"marker\":{\"color\":\"lightpink\",\"symbol\":\"circle\",\"size\":10},\"mode\":\"markers\",\"name\":\"Middle score of happiness\",\"orientation\":\"v\",\"showlegend\":true,\"x\":[\"Ecuador\",\"Colombia\",\"Portugal\",\"Bahrain\",\"Republic of Korea\",\"Philippines\",\"Bosnia and Herzegovina\",\"Japan\",\"Paraguay\",\"Uzbekistan\"],\"xaxis\":\"x\",\"y\":{\"dtype\":\"f8\",\"bdata\":\"GQRWDi2yrT8rhxbZzvejP3sUrkfheqQ\\u002fi2zn+6nxwj+amZmZmZm5PzMzMzMzM7M\\u002fYhBYObTIxj956SYxCKyMP6JFtvP91Lg\\u002f9ihcj8L1yD8=\"},\"yaxis\":\"y\",\"type\":\"scatter\"},{\"hovertemplate\":\"Group=High score of happiness\\u003cbr\\u003eCountry or region=%{x}\\u003cbr\\u003eGenerosity=%{y}\\u003cextra\\u003e\\u003c\\u002fextra\\u003e\",\"legendgroup\":\"High score of happiness\",\"marker\":{\"color\":\"green\",\"symbol\":\"circle\",\"size\":10},\"mode\":\"markers\",\"name\":\"High score of happiness\",\"orientation\":\"v\",\"showlegend\":true,\"x\":[\"Mexico\",\"Luxembourg\",\"Israel\",\"Norway\",\"Costa Rica\",\"Netherlands\",\"Sweden\",\"Iceland\",\"Denmark\",\"Finland\"],\"xaxis\":\"x\",\"y\":{\"dtype\":\"f8\",\"bdata\":\"yXa+nxovrT\\u002fByqFFtvO9PzvfT42XbsI\\u002fGy\\u002fdJAaBxT\\u002f0\\u002fdR46SaxPwIrhxbZzsc\\u002fw\\u002fUoXI\\u002fCxT\\u002fufD81XrrJPzMzMzMzM8M\\u002fKVyPwvUovD8=\"},\"yaxis\":\"y\",\"type\":\"scatter\"}],                        {\"template\":{\"data\":{\"histogram2dcontour\":[{\"type\":\"histogram2dcontour\",\"colorbar\":{\"outlinewidth\":0,\"ticks\":\"\"},\"colorscale\":[[0.0,\"#0d0887\"],[0.1111111111111111,\"#46039f\"],[0.2222222222222222,\"#7201a8\"],[0.3333333333333333,\"#9c179e\"],[0.4444444444444444,\"#bd3786\"],[0.5555555555555556,\"#d8576b\"],[0.6666666666666666,\"#ed7953\"],[0.7777777777777778,\"#fb9f3a\"],[0.8888888888888888,\"#fdca26\"],[1.0,\"#f0f921\"]]}],\"choropleth\":[{\"type\":\"choropleth\",\"colorbar\":{\"outlinewidth\":0,\"ticks\":\"\"}}],\"histogram2d\":[{\"type\":\"histogram2d\",\"colorbar\":{\"outlinewidth\":0,\"ticks\":\"\"},\"colorscale\":[[0.0,\"#0d0887\"],[0.1111111111111111,\"#46039f\"],[0.2222222222222222,\"#7201a8\"],[0.3333333333333333,\"#9c179e\"],[0.4444444444444444,\"#bd3786\"],[0.5555555555555556,\"#d8576b\"],[0.6666666666666666,\"#ed7953\"],[0.7777777777777778,\"#fb9f3a\"],[0.8888888888888888,\"#fdca26\"],[1.0,\"#f0f921\"]]}],\"heatmap\":[{\"type\":\"heatmap\",\"colorbar\":{\"outlinewidth\":0,\"ticks\":\"\"},\"colorscale\":[[0.0,\"#0d0887\"],[0.1111111111111111,\"#46039f\"],[0.2222222222222222,\"#7201a8\"],[0.3333333333333333,\"#9c179e\"],[0.4444444444444444,\"#bd3786\"],[0.5555555555555556,\"#d8576b\"],[0.6666666666666666,\"#ed7953\"],[0.7777777777777778,\"#fb9f3a\"],[0.8888888888888888,\"#fdca26\"],[1.0,\"#f0f921\"]]}],\"contourcarpet\":[{\"type\":\"contourcarpet\",\"colorbar\":{\"outlinewidth\":0,\"ticks\":\"\"}}],\"contour\":[{\"type\":\"contour\",\"colorbar\":{\"outlinewidth\":0,\"ticks\":\"\"},\"colorscale\":[[0.0,\"#0d0887\"],[0.1111111111111111,\"#46039f\"],[0.2222222222222222,\"#7201a8\"],[0.3333333333333333,\"#9c179e\"],[0.4444444444444444,\"#bd3786\"],[0.5555555555555556,\"#d8576b\"],[0.6666666666666666,\"#ed7953\"],[0.7777777777777778,\"#fb9f3a\"],[0.8888888888888888,\"#fdca26\"],[1.0,\"#f0f921\"]]}],\"surface\":[{\"type\":\"surface\",\"colorbar\":{\"outlinewidth\":0,\"ticks\":\"\"},\"colorscale\":[[0.0,\"#0d0887\"],[0.1111111111111111,\"#46039f\"],[0.2222222222222222,\"#7201a8\"],[0.3333333333333333,\"#9c179e\"],[0.4444444444444444,\"#bd3786\"],[0.5555555555555556,\"#d8576b\"],[0.6666666666666666,\"#ed7953\"],[0.7777777777777778,\"#fb9f3a\"],[0.8888888888888888,\"#fdca26\"],[1.0,\"#f0f921\"]]}],\"mesh3d\":[{\"type\":\"mesh3d\",\"colorbar\":{\"outlinewidth\":0,\"ticks\":\"\"}}],\"scatter\":[{\"fillpattern\":{\"fillmode\":\"overlay\",\"size\":10,\"solidity\":0.2},\"type\":\"scatter\"}],\"parcoords\":[{\"type\":\"parcoords\",\"line\":{\"colorbar\":{\"outlinewidth\":0,\"ticks\":\"\"}}}],\"scatterpolargl\":[{\"type\":\"scatterpolargl\",\"marker\":{\"colorbar\":{\"outlinewidth\":0,\"ticks\":\"\"}}}],\"bar\":[{\"error_x\":{\"color\":\"#2a3f5f\"},\"error_y\":{\"color\":\"#2a3f5f\"},\"marker\":{\"line\":{\"color\":\"#E5ECF6\",\"width\":0.5},\"pattern\":{\"fillmode\":\"overlay\",\"size\":10,\"solidity\":0.2}},\"type\":\"bar\"}],\"scattergeo\":[{\"type\":\"scattergeo\",\"marker\":{\"colorbar\":{\"outlinewidth\":0,\"ticks\":\"\"}}}],\"scatterpolar\":[{\"type\":\"scatterpolar\",\"marker\":{\"colorbar\":{\"outlinewidth\":0,\"ticks\":\"\"}}}],\"histogram\":[{\"marker\":{\"pattern\":{\"fillmode\":\"overlay\",\"size\":10,\"solidity\":0.2}},\"type\":\"histogram\"}],\"scattergl\":[{\"type\":\"scattergl\",\"marker\":{\"colorbar\":{\"outlinewidth\":0,\"ticks\":\"\"}}}],\"scatter3d\":[{\"type\":\"scatter3d\",\"line\":{\"colorbar\":{\"outlinewidth\":0,\"ticks\":\"\"}},\"marker\":{\"colorbar\":{\"outlinewidth\":0,\"ticks\":\"\"}}}],\"scattermap\":[{\"type\":\"scattermap\",\"marker\":{\"colorbar\":{\"outlinewidth\":0,\"ticks\":\"\"}}}],\"scattermapbox\":[{\"type\":\"scattermapbox\",\"marker\":{\"colorbar\":{\"outlinewidth\":0,\"ticks\":\"\"}}}],\"scatterternary\":[{\"type\":\"scatterternary\",\"marker\":{\"colorbar\":{\"outlinewidth\":0,\"ticks\":\"\"}}}],\"scattercarpet\":[{\"type\":\"scattercarpet\",\"marker\":{\"colorbar\":{\"outlinewidth\":0,\"ticks\":\"\"}}}],\"carpet\":[{\"aaxis\":{\"endlinecolor\":\"#2a3f5f\",\"gridcolor\":\"white\",\"linecolor\":\"white\",\"minorgridcolor\":\"white\",\"startlinecolor\":\"#2a3f5f\"},\"baxis\":{\"endlinecolor\":\"#2a3f5f\",\"gridcolor\":\"white\",\"linecolor\":\"white\",\"minorgridcolor\":\"white\",\"startlinecolor\":\"#2a3f5f\"},\"type\":\"carpet\"}],\"table\":[{\"cells\":{\"fill\":{\"color\":\"#EBF0F8\"},\"line\":{\"color\":\"white\"}},\"header\":{\"fill\":{\"color\":\"#C8D4E3\"},\"line\":{\"color\":\"white\"}},\"type\":\"table\"}],\"barpolar\":[{\"marker\":{\"line\":{\"color\":\"#E5ECF6\",\"width\":0.5},\"pattern\":{\"fillmode\":\"overlay\",\"size\":10,\"solidity\":0.2}},\"type\":\"barpolar\"}],\"pie\":[{\"automargin\":true,\"type\":\"pie\"}]},\"layout\":{\"autotypenumbers\":\"strict\",\"colorway\":[\"#636efa\",\"#EF553B\",\"#00cc96\",\"#ab63fa\",\"#FFA15A\",\"#19d3f3\",\"#FF6692\",\"#B6E880\",\"#FF97FF\",\"#FECB52\"],\"font\":{\"color\":\"#2a3f5f\"},\"hovermode\":\"closest\",\"hoverlabel\":{\"align\":\"left\"},\"paper_bgcolor\":\"white\",\"plot_bgcolor\":\"#E5ECF6\",\"polar\":{\"bgcolor\":\"#E5ECF6\",\"angularaxis\":{\"gridcolor\":\"white\",\"linecolor\":\"white\",\"ticks\":\"\"},\"radialaxis\":{\"gridcolor\":\"white\",\"linecolor\":\"white\",\"ticks\":\"\"}},\"ternary\":{\"bgcolor\":\"#E5ECF6\",\"aaxis\":{\"gridcolor\":\"white\",\"linecolor\":\"white\",\"ticks\":\"\"},\"baxis\":{\"gridcolor\":\"white\",\"linecolor\":\"white\",\"ticks\":\"\"},\"caxis\":{\"gridcolor\":\"white\",\"linecolor\":\"white\",\"ticks\":\"\"}},\"coloraxis\":{\"colorbar\":{\"outlinewidth\":0,\"ticks\":\"\"}},\"colorscale\":{\"sequential\":[[0.0,\"#0d0887\"],[0.1111111111111111,\"#46039f\"],[0.2222222222222222,\"#7201a8\"],[0.3333333333333333,\"#9c179e\"],[0.4444444444444444,\"#bd3786\"],[0.5555555555555556,\"#d8576b\"],[0.6666666666666666,\"#ed7953\"],[0.7777777777777778,\"#fb9f3a\"],[0.8888888888888888,\"#fdca26\"],[1.0,\"#f0f921\"]],\"sequentialminus\":[[0.0,\"#0d0887\"],[0.1111111111111111,\"#46039f\"],[0.2222222222222222,\"#7201a8\"],[0.3333333333333333,\"#9c179e\"],[0.4444444444444444,\"#bd3786\"],[0.5555555555555556,\"#d8576b\"],[0.6666666666666666,\"#ed7953\"],[0.7777777777777778,\"#fb9f3a\"],[0.8888888888888888,\"#fdca26\"],[1.0,\"#f0f921\"]],\"diverging\":[[0,\"#8e0152\"],[0.1,\"#c51b7d\"],[0.2,\"#de77ae\"],[0.3,\"#f1b6da\"],[0.4,\"#fde0ef\"],[0.5,\"#f7f7f7\"],[0.6,\"#e6f5d0\"],[0.7,\"#b8e186\"],[0.8,\"#7fbc41\"],[0.9,\"#4d9221\"],[1,\"#276419\"]]},\"xaxis\":{\"gridcolor\":\"white\",\"linecolor\":\"white\",\"ticks\":\"\",\"title\":{\"standoff\":15},\"zerolinecolor\":\"white\",\"automargin\":true,\"zerolinewidth\":2},\"yaxis\":{\"gridcolor\":\"white\",\"linecolor\":\"white\",\"ticks\":\"\",\"title\":{\"standoff\":15},\"zerolinecolor\":\"white\",\"automargin\":true,\"zerolinewidth\":2},\"scene\":{\"xaxis\":{\"backgroundcolor\":\"#E5ECF6\",\"gridcolor\":\"white\",\"linecolor\":\"white\",\"showbackground\":true,\"ticks\":\"\",\"zerolinecolor\":\"white\",\"gridwidth\":2},\"yaxis\":{\"backgroundcolor\":\"#E5ECF6\",\"gridcolor\":\"white\",\"linecolor\":\"white\",\"showbackground\":true,\"ticks\":\"\",\"zerolinecolor\":\"white\",\"gridwidth\":2},\"zaxis\":{\"backgroundcolor\":\"#E5ECF6\",\"gridcolor\":\"white\",\"linecolor\":\"white\",\"showbackground\":true,\"ticks\":\"\",\"zerolinecolor\":\"white\",\"gridwidth\":2}},\"shapedefaults\":{\"line\":{\"color\":\"#2a3f5f\"}},\"annotationdefaults\":{\"arrowcolor\":\"#2a3f5f\",\"arrowhead\":0,\"arrowwidth\":1},\"geo\":{\"bgcolor\":\"white\",\"landcolor\":\"#E5ECF6\",\"subunitcolor\":\"white\",\"showland\":true,\"showlakes\":true,\"lakecolor\":\"white\"},\"title\":{\"x\":0.05},\"mapbox\":{\"style\":\"light\"}}},\"xaxis\":{\"anchor\":\"y\",\"domain\":[0.0,1.0],\"title\":{\"text\":\"Country or region\"},\"tickangle\":45},\"yaxis\":{\"anchor\":\"x\",\"domain\":[0.0,1.0],\"title\":{\"text\":\"Generosity\"},\"tickfont\":{\"weight\":\"bold\",\"size\":12}},\"legend\":{\"title\":{\"text\":\"Group\"},\"tracegroupgap\":0},\"title\":{\"text\":\"2024\",\"font\":{\"size\":24,\"weight\":\"bold\"},\"x\":0.5},\"showlegend\":false},                        {\"responsive\": true}                    ).then(function(){\n",
       "                            \n",
       "var gd = document.getElementById('c79a658e-fe77-4bf7-9b42-297652f7605c');\n",
       "var x = new MutationObserver(function (mutations, observer) {{\n",
       "        var display = window.getComputedStyle(gd).display;\n",
       "        if (!display || display === 'none') {{\n",
       "            console.log([gd, 'removed!']);\n",
       "            Plotly.purge(gd);\n",
       "            observer.disconnect();\n",
       "        }}\n",
       "}});\n",
       "\n",
       "// Listen for the removal of the full notebook cells\n",
       "var notebookContainer = gd.closest('#notebook-container');\n",
       "if (notebookContainer) {{\n",
       "    x.observe(notebookContainer, {childList: true});\n",
       "}}\n",
       "\n",
       "// Listen for the clearing of the current output cell\n",
       "var outputEl = gd.closest('.output');\n",
       "if (outputEl) {{\n",
       "    x.observe(outputEl, {childList: true});\n",
       "}}\n",
       "\n",
       "                        })                };            </script>        </div>\n",
       "</body>\n",
       "</html>"
      ]
     },
     "metadata": {},
     "output_type": "display_data"
    }
   ],
   "source": [
    "fig=px.scatter(df_combined_2024_10, x='Country or region', y='Generosity', color='Group', title='2024', color_discrete_map=custom_color_map)\n",
    "fig.update_layout(showlegend=False,title_x=0.5, title_font=dict(\n",
    "        size=24, weight='bold'\n",
    "    ))\n",
    "fig.update_traces(marker=dict(size=10))\n",
    "custom_color_map = {'High score of happiness': 'green',\n",
    "                        'Low score of happiness': 'red',\n",
    "                        'Middle score of happiness': 'lightpink'}\n",
    "fig.update_yaxes(\n",
    "    tickfont_weight='bold',  # Make the numbers bold\n",
    "    tickfont_size=12         # Adjust the font size\n",
    ")\n",
    "fig.update_xaxes(\n",
    "    tickangle=45 # <--- Rotate the x-axis labels\n",
    ")\n",
    "fig.update_yaxes(\n",
    "    tickfont_weight='bold',  # Make the numbers bold\n",
    "    tickfont_size=12)      # Adjust the font size\n",
    "\n",
    "fig.update_layout(title_x=0.5)\n",
    "fig.show()"
   ]
  },
  {
   "cell_type": "code",
   "execution_count": 445,
   "metadata": {},
   "outputs": [
    {
     "data": {
      "text/html": [
       "<html>\n",
       "<head><meta charset=\"utf-8\" /></head>\n",
       "<body>\n",
       "    <div>            <script src=\"https://cdnjs.cloudflare.com/ajax/libs/mathjax/2.7.5/MathJax.js?config=TeX-AMS-MML_SVG\"></script><script type=\"text/javascript\">if (window.MathJax && window.MathJax.Hub && window.MathJax.Hub.Config) {window.MathJax.Hub.Config({SVG: {font: \"STIX-Web\"}});}</script>                <script type=\"text/javascript\">window.PlotlyConfig = {MathJaxConfig: 'local'};</script>\n",
       "        <script charset=\"utf-8\" src=\"https://cdn.plot.ly/plotly-3.1.0.min.js\" integrity=\"sha256-Ei4740bWZhaUTQuD6q9yQlgVCMPBz6CZWhevDYPv93A=\" crossorigin=\"anonymous\"></script>                <div id=\"8972b501-9b58-4789-9668-29fb3c87cf19\" class=\"plotly-graph-div\" style=\"height:525px; width:100%;\"></div>            <script type=\"text/javascript\">                window.PLOTLYENV=window.PLOTLYENV || {};                                if (document.getElementById(\"8972b501-9b58-4789-9668-29fb3c87cf19\")) {                    Plotly.newPlot(                        \"8972b501-9b58-4789-9668-29fb3c87cf19\",                        [{\"hovertemplate\":\"Score=%{x}\\u003cbr\\u003eSocial support=%{y}\\u003cbr\\u003eGDP per capita=%{marker.color}\\u003cextra\\u003e\\u003c\\u002fextra\\u003e\",\"legendgroup\":\"\",\"marker\":{\"color\":{\"dtype\":\"f8\",\"bdata\":\"4XoUrkfh9D+yne+nxkv3PwRWDi2ynfU\\u002fsXJoke189T+4HoXrUbj2Py2yne+nxvU\\u002fSOF6FK5H9T99PzVeukn0P65H4XoUrvU\\u002fcT0K16Nw9T+BlUOLbOfzP9v5fmq8dPU\\u002fKVyPwvUo8D9fukkMAiv3P3E9CtejcPU\\u002fyXa+nxov9T+d76fGSzf5P5HtfD81XvY\\u002fN4lBYOXQ9D\\u002f4U+Olm8QAQO58PzVeuvM\\u002fUrgehetR9D\\u002fjpZvEILD0P8\\u002f3U+Olm\\u002fA\\u002ff2q8dJMY8j\\u002fXo3A9Ctf1P5huEoPAyvE\\u002fWmQ730+N7z9eukkMAivxP8qhRbbz\\u002feg\\u002fsHJoke188T\\u002f8qfHSTWL6P6rx0k1iEPY\\u002fEFg5tMh2+D\\u002f6fmq8dJPyP2q8dJMYBPQ\\u002fuB6F61G47j\\u002fFILByaJHzP1yPwvUoXPM\\u002fl24Sg8DK6T\\u002fGSzeJQWDlPzeJQWDl0PI\\u002fnMQgsHJo9T82XrpJDALnPy\\u002fdJAaBlfc\\u002fqMZLN4lB8D\\u002fTTWIQWDn0P6abxCCwcuw\\u002fbef7qfHS6T\\u002f0\\u002fdR46SbzPxsv3SQGgfM\\u002fQmDl0CLb8T+R7Xw\\u002fNV7yP05iEFg5tPQ\\u002fcT0K16Nw8T9pke18PzXqP6jGSzeJQfQ\\u002fRIts5\\u002fup8z\\u002fRItv5fmryP30\\u002fNV66SfI\\u002fRIts5\\u002fup8z\\u002fUeOkmMQjoPzMzMzMzM\\u002fM\\u002fuB6F61G46j8X2c73U+PtP1yPwvUoXOs\\u002foBov3SQG5T+oxks3iUHwPyPb+X5qvPI\\u002fhetRuB6F7z\\u002fNzMzMzMzoP9ejcD0K1+M\\u002fObTIdr6f8D+R7Xw\\u002fNV7yP3e+nxov3eQ\\u002fexSuR+F69j81XrpJDALzPzMzMzMzM+8\\u002fEFg5tMh28j\\u002fhehSuR+HuPxKDwMqhRfA\\u002f16NwPQrX8T8GgZVDi2zvP4cW2c73U+8\\u002fIbByaJHt6D\\u002fZzvdT46XvP\\u002fyp8dJNYvA\\u002fvHSTGARW3j\\u002fjpZvEILDuP+j7qfHSTeo\\u002fQDVeukkM5j\\u002f2KFyPwvXgP0jhehSuR+0\\u002fc2iR7Xw\\u002f7T\\u002fhehSuR+HmP\\u002fhT46WbxOw\\u002fRbbz\\u002fdR46T8AAAAAAAAAAB+F61G4HuE\\u002fd76fGi\\u002fd8D8zMzMzMzPbP6wcWmQ73+8\\u002f+n5qvHST8D8lBoGVQ4vkPxSuR+F6FO4\\u002fjGzn+6nx8D8dWmQ730\\u002fhP4xs5\\u002fup8eI\\u002f2\\u002fl+arx02z8K16NwPQrnP83MzMzMzOw\\u002fHVpkO99P7T\\u002f8qfHSTWLQP23n+6nx0uU\\u002foBov3SQG4T\\u002fHSzeJQWDtPylcj8L1KPA\\u002frkfhehSu1z8shxbZzvfrP8QgsHJokeE\\u002ff2q8dJMY1D9SuB6F61HsP\\u002fLSTWIQWMk\\u002fWmQ730+N3z+WQ4ts5\\u002fvhP23n+6nx0uE\\u002fg8DKoUW20z+yne+nxkvrP+kmMQisHOo\\u002fbef7qfHS5T+28\\u002f3UeOnWP0SLbOf7qbE\\u002f30+Nl24S5z\\u002f4U+Olm8TAP8\\u002f3U+Olm9Q\\u002f\\u002ftR46SYx2D9cj8L1KFzjP8ZLN4lBYOk\\u002f+n5qvHST0D9qvHSTGATWP2iR7Xw\\u002fNd4\\u002fXI\\u002fC9Shc5z\\u002f4U+Olm8TQPwwCK4cW2dY\\u002fc2iR7Xw\\u002f1T8Sg8DKoUXwPwIrhxbZzsc\\u002fKVyPwvUo1D\\u002fb+X5qvHSzP0A1XrpJDOY\\u002fc2iR7Xw\\u002f1T99PzVeukncPx+F61G4Ht0\\u002fxSCwcmiR1T\\u002f6fmq8dJOYP7Kd76fGS7c\\u002f\"},\"coloraxis\":\"coloraxis\",\"symbol\":\"circle\"},\"mode\":\"markers\",\"name\":\"\",\"orientation\":\"v\",\"showlegend\":false,\"x\":{\"dtype\":\"f8\",\"bdata\":\"vEkMAiuHHkDFSzeJQWAeQLgehetROB5AexSuR+H6HUCmm8QgsPIdQN0kBoGVwx1AG1pkO99PHUCyne+nxksdQKjGSzeJQR1ASgwCK4cWHUDD9Shcj8IcQHSTGARWjhxAfT81XrpJHECcxCCwcugbQFyPwvUo3BtAaZHtfD+1G0CkcD0K16MbQCUGgZVDixtAqMZLN4lBG0B\\u002farx0kxgbQPLSTWIQ2BpAN166SQyCGkDb+X5qvPQZQMHKoUW28xlAgZVDi2znGUDdJAaBlcMZQLgehetRuBlAkxgEVg6tGUBaZDvfT40ZQLxJDAIrhxlAarx0kxiEGUDl0CLb+X4ZQJZDi2znexlArBxaZDtfGUB9PzVeukkZQD0K16NwPRlACtejcD0KGUD4U+Olm8QYQP3UeOkmsRhAYLpJDAKrGECq8dJNYpAYQMmhRbbzfRhA7FG4HoVrGED8qfHSTWIYQKBFtvP9VBhAfT81XrpJGEAAAAAAAAAYQDEIrBxa5BdAbef7qfHSF0ADK4cW2c4XQJhuEoPAyhdASOF6FK7HF0AIrBxaZLsXQClcj8L1qBdAqvHSTWKQF0CPwvUoXI8XQAAAAAAAgBdA16NwPQpXF0A9CtejcD0XQClcj8L1KBdAQDVeukkMF0A3XrpJDAIXQNv5fmq89BZA001iEFi5FkDz\\u002fdR46aYWQNrO91PjpRZAj8L1KFyPFkAlBoGVQ4sWQHsUrkfhehZA3SQGgZVDFkB\\u002farx0kxgWQGq8dJMYBBZAO99PjZfuFUA730+Nl+4VQBfZzvdT4xVAuB6F61G4FUCkcD0K16MVQGQ730+NlxVAO99PjZduFUA730+Nl24VQBfZzvdTYxVAZBBYObRIFUBpke18PzUVQK5H4XoULhVAarx0kxgEFUCWQ4ts5\\u002fsUQOj7qfHSzRRAsp3vp8bLFEA9CtejcL0UQL+fGi\\u002fdpBRAH4XrUbieFECgGi\\u002fdJIYUQGq8dJMYhBRAAAAAAACAFEC28\\u002f3UeGkUQKwcWmQ7XxRAhxbZzvdTFEAhsHJoke0TQGZmZmZm5hNACKwcWmS7E0CF61G4HoUTQNNNYhBYORNA1XjpJjEIE0BGtvP91PgSQEw3iUFg5RJAhxbZzvfTEkDJdr6fGq8SQFTjpZvEoBJAoBov3SSGEkDLoUW2830SQJHtfD81XhJA8tJNYhBYEkBkEFg5tEgSQCPb+X5qPBJAAAAAAAAAEkD8qfHSTeIRQG3n+6nx0hFAfT81XrrJEUDdJAaBlcMRQAisHFpkuxFAGQRWDi2yEUCTGARWDq0RQF66SQwCqxFApHA9CtejEUA1XrpJDIIRQAaBlUOLbBFAZmZmZmZmEUBcj8L1KFwRQGQQWDm0SBFACKwcWmQ7EUBOYhBYOTQRQHsUrkfh+hBAw\\u002fUoXI\\u002fCEEBEi2zn+6kQQL+fGi\\u002fdpBBAqvHSTWKQEEB0kxgEVo4QQLbz\\u002fdR4aRBAy6FFtvP9D0CDwMqhRbYPQBBYObTIdg5AXI\\u002fC9ShcDkD+1HjpJjEOQPCnxks3iQ1AdZMYBFYODUC4HoXrUbgMQBkEVg4tsgxADi2yne+nDED2KFyPwvULQBkEVg4tsgtA3SQGgZVDC0DXo3A9CtcKQAaBlUOLbApA1XjpJjEICkBEi2zn+6kIQD0K16NwPQdA\"},\"xaxis\":\"x\",\"y\":{\"dtype\":\"f8\",\"bdata\":\"Rrbz\\u002fdR4+T8dWmQ730\\u002f5P3E9CtejcPk\\u002f5\\u002fup8dJN+j9jEFg5tMj4PwMrhxbZzvc\\u002fT42XbhKD+D8EVg4tsp35P2q8dJMYBPg\\u002fX7pJDAIr+T8hsHJoke32P6rx0k1iEPg\\u002f8tJNYhBY9z+IFtnO91P5Py\\u002fdJAaBlfc\\u002f7nw\\u002fNV669z9SuB6F61H4P\\u002fCnxks3ifc\\u002fjGzn+6nx+D+hRbbz\\u002fdToP23n+6nx0vc\\u002fZmZmZmZm+D\\u002fb+X5qvHT3P9V46SYxCPQ\\u002fsp3vp8ZL9T9g5dAi2\\u002fn2PzZeukkMAvc\\u002fL90kBoGV9z+xcmiR7Xz3P30\\u002fNV66SfQ\\u002f8tJNYhBY9z8NAiuHFtn0P7Kd76fGS\\u002fU\\u002fne+nxks39z9U46WbxCD0P8\\u002f3U+Olm\\u002fg\\u002foBov3SQG9z+sHFpkO9\\u002f3P2Q730+Nl\\u002fg\\u002fGQRWDi2y8z+0yHa+nxr1P1+6SQwCK\\u002fc\\u002fQmDl0CLb9T\\u002fy0k1iEFj5PzeJQWDl0PQ\\u002feOkmMQis9j9qvHSTGAT4P0jhehSuR\\u002fU\\u002fBFYOLbKd8T8730+Nl274P39qvHSTGPg\\u002fGy\\u002fdJAaB8z\\u002fdJAaBlUP3PzEIrBxaZPc\\u002f\\u002fdR46SYx9j8X2c73U+P3P90kBoGVQ\\u002fM\\u002fx0s3iUFg8z9Ei2zn+6n3P6jGSzeJQfg\\u002fdJMYBFYO8z\\u002fFILByaJHzP0+Nl24Sg\\u002fg\\u002fJjEIrBxa+D+WQ4ts5\\u002fvzP65H4XoUrvM\\u002fN4lBYOXQ9D+6SQwCK4f4P9Ei2\\u002fl+avY\\u002fmpmZmZmZ9T\\u002fKoUW28\\u002f30P0jhehSuR\\u002fM\\u002fLIcW2c739z8UrkfhehT2P+xRuB6F6+k\\u002fpHA9Ctej9D93vp8aL932P4GVQ4ts5\\u002fU\\u002fCKwcWmQ78z93vp8aL93yPxBYObTIdvQ\\u002f+n5qvHST8j90kxgEVg73PxBYObTIdvI\\u002fGy\\u002fdJAaB6T8Sg8DKoUXyP\\u002fp+arx0k\\u002fI\\u002fDi2yne+n8j9t5\\u002fup8dLzPz0K16NwPfQ\\u002fjZduEoPA8j8OLbKd76f2P3Noke18P\\u002fE\\u002fEoPAyqFF+D\\u002fXo3A9Ctf1P3E9CtejcPM\\u002fXI\\u002fC9Shc9T9jEFg5tMjmP0+Nl24Sg+w\\u002fPQrXo3A9+D\\u002fZzvdT46XzPxsv3SQGgfc\\u002fObTIdr6f8j9GtvP91HjzP4\\u002fC9Shcj\\u002fY\\u002feOkmMQis6D+BlUOLbOfrP3jpJjEIrOw\\u002frBxaZDvf8T8lBoGVQ4vwP8uhRbbz\\u002few\\u002fv58aL90k6j9qvHSTGATqP8DKoUW28+k\\u002fMzMzMzMz6z+gGi\\u002fdJAb1P99PjZduEu8\\u002f7nw\\u002fNV668z\\u002fl0CLb+X70P5zEILByaPE\\u002fWmQ730+N8T9mZmZmZmbwP3e+nxov3ew\\u002f+FPjpZvE8D+Nl24Sg8DwP+xRuB6F6\\u002fM\\u002fZmZmZmZm7j+MbOf7qfHiP65H4XoUru8\\u002fYxBYObTI8j+gGi\\u002fdJAbtP5MYBFYOLfI\\u002fgZVDi2zn5z9YObTIdr7rP3E9CtejcPE\\u002fBCuHFtnO1z\\u002fXo3A9CtfzP8\\u002f3U+Olm\\u002fY\\u002fvHSTGARW3j\\u002fy0k1iEFjpP3E9CtejcPM\\u002fAAAAAAAA8j91kxgEVg7tPxsv3SQGgfE\\u002fyXa+nxov4T9jEFg5tMjyPx1aZDvfT+E\\u002fDQIrhxbZ5j\\u002fb+X5qvHTrP6abxCCwctg\\u002feOkmMQis7D9eukkMAivxP4PAyqFFtu8\\u002f2\\u002fl+arx04z8AAAAAAAAAAKrx0k1iEOQ\\u002f\"},\"yaxis\":\"y\",\"type\":\"scatter\"},{\"hovertemplate\":\"\\u003cb\\u003eOLS trendline\\u003c\\u002fb\\u003e\\u003cbr\\u003eSocial support = 0.201425 * Score + 0.130391\\u003cbr\\u003eR\\u003csup\\u003e2\\u003c\\u002fsup\\u003e=0.556158\\u003cbr\\u003e\\u003cbr\\u003eScore=%{x}\\u003cbr\\u003eSocial support=%{y} \\u003cb\\u003e(trend)\\u003c\\u002fb\\u003e\\u003cextra\\u003e\\u003c\\u002fextra\\u003e\",\"legendgroup\":\"\",\"marker\":{\"symbol\":\"circle\"},\"mode\":\"lines\",\"name\":\"\",\"showlegend\":false,\"x\":{\"dtype\":\"f8\",\"bdata\":\"PQrXo3A9B0BEi2zn+6kIQNV46SYxCApABoGVQ4tsCkDXo3A9CtcKQN0kBoGVQwtAGQRWDi2yC0D2KFyPwvULQA4tsp3vpwxAGQRWDi2yDEC4HoXrUbgMQHWTGARWDg1A8KfGSzeJDUD+1HjpJjEOQFyPwvUoXA5AEFg5tMh2DkCDwMqhRbYPQMuhRbbz\\u002fQ9AtvP91HhpEEB0kxgEVo4QQKrx0k1ikBBAv58aL92kEEBEi2zn+6kQQMP1KFyPwhBAexSuR+H6EEBOYhBYOTQRQAisHFpkOxFAZBBYObRIEUBcj8L1KFwRQGZmZmZmZhFABoGVQ4tsEUA1XrpJDIIRQKRwPQrXoxFAXrpJDAKrEUCTGARWDq0RQBkEVg4tshFACKwcWmS7EUDdJAaBlcMRQH0\\u002fNV66yRFAbef7qfHSEUD8qfHSTeIRQAAAAAAAABJAI9v5fmo8EkBkEFg5tEgSQPLSTWIQWBJAke18PzVeEkDLoUW2830SQKAaL90khhJAVOOlm8SgEkDJdr6fGq8SQIcW2c730xJATDeJQWDlEkBGtvP91PgSQNV46SYxCBNA001iEFg5E0CF61G4HoUTQAisHFpkuxNAZmZmZmbmE0AhsHJoke0TQIcW2c73UxRArBxaZDtfFEC28\\u002f3UeGkUQAAAAAAAgBRAarx0kxiEFECgGi\\u002fdJIYUQB+F61G4nhRAv58aL92kFEA9CtejcL0UQLKd76fGyxRA6Pup8dLNFECWQ4ts5\\u002fsUQGq8dJMYBBVArkfhehQuFUBpke18PzUVQGQQWDm0SBVAF9nO91NjFUA730+Nl24VQDvfT42XbhVAZDvfT42XFUCkcD0K16MVQLgehetRuBVAF9nO91PjFUA730+Nl+4VQDvfT42X7hVAarx0kxgEFkB\\u002farx0kxgWQN0kBoGVQxZAexSuR+F6FkAlBoGVQ4sWQI\\u002fC9ShcjxZA2s73U+OlFkDz\\u002fdR46aYWQNNNYhBYuRZA2\\u002fl+arz0FkA3XrpJDAIXQEA1XrpJDBdAKVyPwvUoF0A9CtejcD0XQNejcD0KVxdAAAAAAACAF0CPwvUoXI8XQKrx0k1ikBdAKVyPwvWoF0AIrBxaZLsXQEjhehSuxxdAmG4Sg8DKF0ADK4cW2c4XQG3n+6nx0hdAMQisHFrkF0AAAAAAAAAYQH0\\u002fNV66SRhAoEW28\\u002f1UGED8qfHSTWIYQOxRuB6FaxhAyaFFtvN9GECq8dJNYpAYQGC6SQwCqxhA\\u002fdR46SaxGED4U+Olm8QYQArXo3A9ChlAPQrXo3A9GUB9PzVeukkZQKwcWmQ7XxlAlkOLbOd7GUDl0CLb+X4ZQGq8dJMYhBlAvEkMAiuHGUBaZDvfT40ZQJMYBFYOrRlAuB6F61G4GUDdJAaBlcMZQIGVQ4ts5xlAwcqhRbbzGUDb+X5qvPQZQDdeukkMghpA8tJNYhDYGkB\\u002farx0kxgbQKjGSzeJQRtAJQaBlUOLG0CkcD0K16MbQGmR7Xw\\u002ftRtAXI\\u002fC9SjcG0CcxCCwcugbQH0\\u002fNV66SRxAdJMYBFaOHEDD9Shcj8IcQEoMAiuHFh1AqMZLN4lBHUCyne+nxksdQBtaZDvfTx1A3SQGgZXDHUCmm8QgsPIdQHsUrkfh+h1AuB6F61E4HkDFSzeJQWAeQLxJDAIrhx5A\"},\"xaxis\":\"x\",\"y\":{\"dtype\":\"f8\",\"bdata\":\"gE\\u002fMBaPl5j+ay264WQvoP0TEDXuDJek\\u002fXFwmC1526T+AmondK8zpP\\u002f4PWxugI+o\\u002f1ryaxLp86j9Y38+dLrPqP7KuRCC9Qus\\u002fcsNrOf1K6z98abZ78E\\u002frPyR+yxs+les\\u002fFHegST\\u002f46z+wMe6yjX\\u002fsPwK8+II0ouw\\u002fjIuR96e37D\\u002f6RbtuEbntPzDXzB7S8u0\\u002feFOTw22e7j8GHBPf1NnuP7qK77Uh3e4\\u002ftt2LGiL+7j908rIzYgbvP9QiCEb8Le8\\u002fAge2Wr2I7z+MItLaJOXvP\\u002f6l1cqx8O8\\u002fxTq3nxID8D+USE6cvxLwP1JddbX\\u002fGvA\\u002fXgPA9\\u002fIf8D+ISMVfRjHwP8rZX0yATPA\\u002fgpthxEZS8D\\u002fb0s8v7VPwPztdYzwNWPA\\u002fTVbTH3pf8D+yM4zNE2bwP77Z1g8Ha\\u002fA\\u002f0dJG83Ny8D\\u002fucQEZ1H7wP32Uvy7BlvA\\u002fSPXyj27H8D9hQYgUVdHwP37gQjq13fA\\u002fiYaNfKji8D9y4Ln9O\\u002fzwP9e9cqvVAvE\\u002fYI0LIEkY8T\\u002fSEA8Q1iPxPxn1zp2JQfE\\u002fkcv3LpBP8T9h2Y4rPV\\u002fxP394SVGda\\u002fE\\u002f3qieYzeT8T\\u002fHqIzqRNDxP4ZjdQn\\u002f+\\u002fE\\u002f2e1\\u002f2aUe8j+Sr4FRbCTyPwR\\u002fCE3tdvI\\u002fb6\\u002fmmwCA8j8txA21QIjyPwQlylJnmvI\\u002ftpOmKbSd8j8QyxSVWp\\u002fyP0BjP54ns\\u002fI\\u002fTAmK4Bq48j97obTp58vyP+0kuNl01\\u002fI\\u002fRlwmRRvZ8j+gOVa2O\\u002f7yPwQXD2TVBPM\\u002frIVi\\u002fqgm8z9lR2R2byzzPzZV+3IcPPM\\u002fviSU549R8z8pVXI2o1rzPylVcjajWvM\\u002fI6gOm6N78z889KMfioXzP7gd8lEKlvM\\u002fDaj8IbG48z932NpwxMHzP3fY2nDEwfM\\u002foR3g2BfT8z8eRy4LmOPzP3LRONs+BvQ\\u002f3qfYL8wy9D+oYkqL\\u002fz\\u002f0P1rRJmJMQ\\u002fQ\\u002fMjLj\\u002f3JV9D\\u002fdTZo1Rlb0PwJAevwfZfQ\\u002fIIX2J\\u002fqU9D\\u002fm7ELis5\\u002f0P6MBavvzp\\u002fQ\\u002fhQhx2w2\\u002f9D8CMr8Njs\\u002f0P9\\u002floEwu5PQ\\u002f2Tg9sS4F9T\\u002f31\\u002ffWjhH1P6TzrgxiEvU\\u002f1IvZFS8m9T\\u002f3fbncCDX1PxDKTmHvPvU\\u002fFh10AmlB9T\\u002fJi1DZtUT1P3v6LLACSPU\\u002f8tBVQQlW9T8nvKXrT2z1P7eEJQe3p\\u002fU\\u002fIbUDVsqw9T\\u002fnHFAQhLv1P\\u002fkVwPPwwvU\\u002fGwigusrR9T9A+n+BpOD1P8vJGPYX9vU\\u002f1W9jOAv79T+mffo0uAr2P4LXnXnSQvY\\u002fOz9h9xJs9j9Ti\\u002fZ7+XX2P33Q++NMh\\u002fY\\u002fYNcCxGae9j9lKihl4KD2P8S0u3EApfY\\u002fzAfhEnqn9j\\u002fXrStVbaz2P78HWNYAxvY\\u002fKjg2JRTP9j+VaBR0J9j2PzExHcwH9fY\\u002fSX2yUO7+9j\\u002f1mGmGwf\\u002f2PwmEHnuccfc\\u002fr5gzG+q29z8taENT5Or3Pye737fkC\\u002fg\\u002ftoNf00tH+D\\u002fmG4rcGFv4P17ysm0fafg\\u002f\\u002fg3hZnmI+D8WWnbrX5L4PymfadrA4Pg\\u002fWN1V6QcY+T+\\u002fYNCcG0L5Pww+d9HChfk\\u002fYMiBoWmo+T8e3ai6qbD5P9BLhZH2s\\u002fk\\u002fB4NYRzER+j8OfD\\u002fuJDf6P3NZ+Ju+Pfo\\u002f6tXiMj9v+j83DchhbI\\u002f6P9oo9lrGrvo\\u002f\"},\"yaxis\":\"y\",\"type\":\"scatter\"}],                        {\"template\":{\"data\":{\"histogram2dcontour\":[{\"type\":\"histogram2dcontour\",\"colorbar\":{\"outlinewidth\":0,\"ticks\":\"\"},\"colorscale\":[[0.0,\"#0d0887\"],[0.1111111111111111,\"#46039f\"],[0.2222222222222222,\"#7201a8\"],[0.3333333333333333,\"#9c179e\"],[0.4444444444444444,\"#bd3786\"],[0.5555555555555556,\"#d8576b\"],[0.6666666666666666,\"#ed7953\"],[0.7777777777777778,\"#fb9f3a\"],[0.8888888888888888,\"#fdca26\"],[1.0,\"#f0f921\"]]}],\"choropleth\":[{\"type\":\"choropleth\",\"colorbar\":{\"outlinewidth\":0,\"ticks\":\"\"}}],\"histogram2d\":[{\"type\":\"histogram2d\",\"colorbar\":{\"outlinewidth\":0,\"ticks\":\"\"},\"colorscale\":[[0.0,\"#0d0887\"],[0.1111111111111111,\"#46039f\"],[0.2222222222222222,\"#7201a8\"],[0.3333333333333333,\"#9c179e\"],[0.4444444444444444,\"#bd3786\"],[0.5555555555555556,\"#d8576b\"],[0.6666666666666666,\"#ed7953\"],[0.7777777777777778,\"#fb9f3a\"],[0.8888888888888888,\"#fdca26\"],[1.0,\"#f0f921\"]]}],\"heatmap\":[{\"type\":\"heatmap\",\"colorbar\":{\"outlinewidth\":0,\"ticks\":\"\"},\"colorscale\":[[0.0,\"#0d0887\"],[0.1111111111111111,\"#46039f\"],[0.2222222222222222,\"#7201a8\"],[0.3333333333333333,\"#9c179e\"],[0.4444444444444444,\"#bd3786\"],[0.5555555555555556,\"#d8576b\"],[0.6666666666666666,\"#ed7953\"],[0.7777777777777778,\"#fb9f3a\"],[0.8888888888888888,\"#fdca26\"],[1.0,\"#f0f921\"]]}],\"contourcarpet\":[{\"type\":\"contourcarpet\",\"colorbar\":{\"outlinewidth\":0,\"ticks\":\"\"}}],\"contour\":[{\"type\":\"contour\",\"colorbar\":{\"outlinewidth\":0,\"ticks\":\"\"},\"colorscale\":[[0.0,\"#0d0887\"],[0.1111111111111111,\"#46039f\"],[0.2222222222222222,\"#7201a8\"],[0.3333333333333333,\"#9c179e\"],[0.4444444444444444,\"#bd3786\"],[0.5555555555555556,\"#d8576b\"],[0.6666666666666666,\"#ed7953\"],[0.7777777777777778,\"#fb9f3a\"],[0.8888888888888888,\"#fdca26\"],[1.0,\"#f0f921\"]]}],\"surface\":[{\"type\":\"surface\",\"colorbar\":{\"outlinewidth\":0,\"ticks\":\"\"},\"colorscale\":[[0.0,\"#0d0887\"],[0.1111111111111111,\"#46039f\"],[0.2222222222222222,\"#7201a8\"],[0.3333333333333333,\"#9c179e\"],[0.4444444444444444,\"#bd3786\"],[0.5555555555555556,\"#d8576b\"],[0.6666666666666666,\"#ed7953\"],[0.7777777777777778,\"#fb9f3a\"],[0.8888888888888888,\"#fdca26\"],[1.0,\"#f0f921\"]]}],\"mesh3d\":[{\"type\":\"mesh3d\",\"colorbar\":{\"outlinewidth\":0,\"ticks\":\"\"}}],\"scatter\":[{\"fillpattern\":{\"fillmode\":\"overlay\",\"size\":10,\"solidity\":0.2},\"type\":\"scatter\"}],\"parcoords\":[{\"type\":\"parcoords\",\"line\":{\"colorbar\":{\"outlinewidth\":0,\"ticks\":\"\"}}}],\"scatterpolargl\":[{\"type\":\"scatterpolargl\",\"marker\":{\"colorbar\":{\"outlinewidth\":0,\"ticks\":\"\"}}}],\"bar\":[{\"error_x\":{\"color\":\"#2a3f5f\"},\"error_y\":{\"color\":\"#2a3f5f\"},\"marker\":{\"line\":{\"color\":\"#E5ECF6\",\"width\":0.5},\"pattern\":{\"fillmode\":\"overlay\",\"size\":10,\"solidity\":0.2}},\"type\":\"bar\"}],\"scattergeo\":[{\"type\":\"scattergeo\",\"marker\":{\"colorbar\":{\"outlinewidth\":0,\"ticks\":\"\"}}}],\"scatterpolar\":[{\"type\":\"scatterpolar\",\"marker\":{\"colorbar\":{\"outlinewidth\":0,\"ticks\":\"\"}}}],\"histogram\":[{\"marker\":{\"pattern\":{\"fillmode\":\"overlay\",\"size\":10,\"solidity\":0.2}},\"type\":\"histogram\"}],\"scattergl\":[{\"type\":\"scattergl\",\"marker\":{\"colorbar\":{\"outlinewidth\":0,\"ticks\":\"\"}}}],\"scatter3d\":[{\"type\":\"scatter3d\",\"line\":{\"colorbar\":{\"outlinewidth\":0,\"ticks\":\"\"}},\"marker\":{\"colorbar\":{\"outlinewidth\":0,\"ticks\":\"\"}}}],\"scattermap\":[{\"type\":\"scattermap\",\"marker\":{\"colorbar\":{\"outlinewidth\":0,\"ticks\":\"\"}}}],\"scattermapbox\":[{\"type\":\"scattermapbox\",\"marker\":{\"colorbar\":{\"outlinewidth\":0,\"ticks\":\"\"}}}],\"scatterternary\":[{\"type\":\"scatterternary\",\"marker\":{\"colorbar\":{\"outlinewidth\":0,\"ticks\":\"\"}}}],\"scattercarpet\":[{\"type\":\"scattercarpet\",\"marker\":{\"colorbar\":{\"outlinewidth\":0,\"ticks\":\"\"}}}],\"carpet\":[{\"aaxis\":{\"endlinecolor\":\"#2a3f5f\",\"gridcolor\":\"white\",\"linecolor\":\"white\",\"minorgridcolor\":\"white\",\"startlinecolor\":\"#2a3f5f\"},\"baxis\":{\"endlinecolor\":\"#2a3f5f\",\"gridcolor\":\"white\",\"linecolor\":\"white\",\"minorgridcolor\":\"white\",\"startlinecolor\":\"#2a3f5f\"},\"type\":\"carpet\"}],\"table\":[{\"cells\":{\"fill\":{\"color\":\"#EBF0F8\"},\"line\":{\"color\":\"white\"}},\"header\":{\"fill\":{\"color\":\"#C8D4E3\"},\"line\":{\"color\":\"white\"}},\"type\":\"table\"}],\"barpolar\":[{\"marker\":{\"line\":{\"color\":\"#E5ECF6\",\"width\":0.5},\"pattern\":{\"fillmode\":\"overlay\",\"size\":10,\"solidity\":0.2}},\"type\":\"barpolar\"}],\"pie\":[{\"automargin\":true,\"type\":\"pie\"}]},\"layout\":{\"autotypenumbers\":\"strict\",\"colorway\":[\"#636efa\",\"#EF553B\",\"#00cc96\",\"#ab63fa\",\"#FFA15A\",\"#19d3f3\",\"#FF6692\",\"#B6E880\",\"#FF97FF\",\"#FECB52\"],\"font\":{\"color\":\"#2a3f5f\"},\"hovermode\":\"closest\",\"hoverlabel\":{\"align\":\"left\"},\"paper_bgcolor\":\"white\",\"plot_bgcolor\":\"#E5ECF6\",\"polar\":{\"bgcolor\":\"#E5ECF6\",\"angularaxis\":{\"gridcolor\":\"white\",\"linecolor\":\"white\",\"ticks\":\"\"},\"radialaxis\":{\"gridcolor\":\"white\",\"linecolor\":\"white\",\"ticks\":\"\"}},\"ternary\":{\"bgcolor\":\"#E5ECF6\",\"aaxis\":{\"gridcolor\":\"white\",\"linecolor\":\"white\",\"ticks\":\"\"},\"baxis\":{\"gridcolor\":\"white\",\"linecolor\":\"white\",\"ticks\":\"\"},\"caxis\":{\"gridcolor\":\"white\",\"linecolor\":\"white\",\"ticks\":\"\"}},\"coloraxis\":{\"colorbar\":{\"outlinewidth\":0,\"ticks\":\"\"}},\"colorscale\":{\"sequential\":[[0.0,\"#0d0887\"],[0.1111111111111111,\"#46039f\"],[0.2222222222222222,\"#7201a8\"],[0.3333333333333333,\"#9c179e\"],[0.4444444444444444,\"#bd3786\"],[0.5555555555555556,\"#d8576b\"],[0.6666666666666666,\"#ed7953\"],[0.7777777777777778,\"#fb9f3a\"],[0.8888888888888888,\"#fdca26\"],[1.0,\"#f0f921\"]],\"sequentialminus\":[[0.0,\"#0d0887\"],[0.1111111111111111,\"#46039f\"],[0.2222222222222222,\"#7201a8\"],[0.3333333333333333,\"#9c179e\"],[0.4444444444444444,\"#bd3786\"],[0.5555555555555556,\"#d8576b\"],[0.6666666666666666,\"#ed7953\"],[0.7777777777777778,\"#fb9f3a\"],[0.8888888888888888,\"#fdca26\"],[1.0,\"#f0f921\"]],\"diverging\":[[0,\"#8e0152\"],[0.1,\"#c51b7d\"],[0.2,\"#de77ae\"],[0.3,\"#f1b6da\"],[0.4,\"#fde0ef\"],[0.5,\"#f7f7f7\"],[0.6,\"#e6f5d0\"],[0.7,\"#b8e186\"],[0.8,\"#7fbc41\"],[0.9,\"#4d9221\"],[1,\"#276419\"]]},\"xaxis\":{\"gridcolor\":\"white\",\"linecolor\":\"white\",\"ticks\":\"\",\"title\":{\"standoff\":15},\"zerolinecolor\":\"white\",\"automargin\":true,\"zerolinewidth\":2},\"yaxis\":{\"gridcolor\":\"white\",\"linecolor\":\"white\",\"ticks\":\"\",\"title\":{\"standoff\":15},\"zerolinecolor\":\"white\",\"automargin\":true,\"zerolinewidth\":2},\"scene\":{\"xaxis\":{\"backgroundcolor\":\"#E5ECF6\",\"gridcolor\":\"white\",\"linecolor\":\"white\",\"showbackground\":true,\"ticks\":\"\",\"zerolinecolor\":\"white\",\"gridwidth\":2},\"yaxis\":{\"backgroundcolor\":\"#E5ECF6\",\"gridcolor\":\"white\",\"linecolor\":\"white\",\"showbackground\":true,\"ticks\":\"\",\"zerolinecolor\":\"white\",\"gridwidth\":2},\"zaxis\":{\"backgroundcolor\":\"#E5ECF6\",\"gridcolor\":\"white\",\"linecolor\":\"white\",\"showbackground\":true,\"ticks\":\"\",\"zerolinecolor\":\"white\",\"gridwidth\":2}},\"shapedefaults\":{\"line\":{\"color\":\"#2a3f5f\"}},\"annotationdefaults\":{\"arrowcolor\":\"#2a3f5f\",\"arrowhead\":0,\"arrowwidth\":1},\"geo\":{\"bgcolor\":\"white\",\"landcolor\":\"#E5ECF6\",\"subunitcolor\":\"white\",\"showland\":true,\"showlakes\":true,\"lakecolor\":\"white\"},\"title\":{\"x\":0.05},\"mapbox\":{\"style\":\"light\"}}},\"xaxis\":{\"anchor\":\"y\",\"domain\":[0.0,1.0],\"title\":{\"text\":\"Score\"},\"tickfont\":{\"weight\":\"bold\",\"size\":12}},\"yaxis\":{\"anchor\":\"x\",\"domain\":[0.0,1.0],\"title\":{\"text\":\"Social support\"},\"tickfont\":{\"weight\":\"bold\",\"size\":12}},\"coloraxis\":{\"colorbar\":{\"title\":{\"text\":\"GDP per capita\"}},\"colorscale\":[[0.0,\"#0d0887\"],[0.1111111111111111,\"#46039f\"],[0.2222222222222222,\"#7201a8\"],[0.3333333333333333,\"#9c179e\"],[0.4444444444444444,\"#bd3786\"],[0.5555555555555556,\"#d8576b\"],[0.6666666666666666,\"#ed7953\"],[0.7777777777777778,\"#fb9f3a\"],[0.8888888888888888,\"#fdca26\"],[1.0,\"#f0f921\"]]},\"legend\":{\"tracegroupgap\":0},\"title\":{\"text\":\"2018\",\"font\":{\"size\":24,\"weight\":\"bold\"},\"x\":0.5},\"showlegend\":true},                        {\"responsive\": true}                    ).then(function(){\n",
       "                            \n",
       "var gd = document.getElementById('8972b501-9b58-4789-9668-29fb3c87cf19');\n",
       "var x = new MutationObserver(function (mutations, observer) {{\n",
       "        var display = window.getComputedStyle(gd).display;\n",
       "        if (!display || display === 'none') {{\n",
       "            console.log([gd, 'removed!']);\n",
       "            Plotly.purge(gd);\n",
       "            observer.disconnect();\n",
       "        }}\n",
       "}});\n",
       "\n",
       "// Listen for the removal of the full notebook cells\n",
       "var notebookContainer = gd.closest('#notebook-container');\n",
       "if (notebookContainer) {{\n",
       "    x.observe(notebookContainer, {childList: true});\n",
       "}}\n",
       "\n",
       "// Listen for the clearing of the current output cell\n",
       "var outputEl = gd.closest('.output');\n",
       "if (outputEl) {{\n",
       "    x.observe(outputEl, {childList: true});\n",
       "}}\n",
       "\n",
       "                        })                };            </script>        </div>\n",
       "</body>\n",
       "</html>"
      ]
     },
     "metadata": {},
     "output_type": "display_data"
    }
   ],
   "source": [
    "fig=px.scatter(df_2018, x=\"Score\", y=\"Social support\", title=\"2018\", color=\"GDP per capita\", trendline=\"ols\")\n",
    "fig.update_layout(title_x=0.5, title_font=dict(\n",
    "        size=24, \n",
    "        weight='bold'\n",
    "    ))\n",
    "fig.update_layout(showlegend=True)\n",
    "fig.update_xaxes(\n",
    "    tickfont_weight='bold',  # Make the numbers bold\n",
    "    tickfont_size=12)        # Adjust the font size\n",
    "fig.update_yaxes(\n",
    "    tickfont_weight='bold',  # Make the numbers bold\n",
    "    tickfont_size=12)\n",
    "fig.show()"
   ]
  },
  {
   "cell_type": "code",
   "execution_count": 446,
   "metadata": {},
   "outputs": [
    {
     "data": {
      "text/html": [
       "<html>\n",
       "<head><meta charset=\"utf-8\" /></head>\n",
       "<body>\n",
       "    <div>            <script src=\"https://cdnjs.cloudflare.com/ajax/libs/mathjax/2.7.5/MathJax.js?config=TeX-AMS-MML_SVG\"></script><script type=\"text/javascript\">if (window.MathJax && window.MathJax.Hub && window.MathJax.Hub.Config) {window.MathJax.Hub.Config({SVG: {font: \"STIX-Web\"}});}</script>                <script type=\"text/javascript\">window.PlotlyConfig = {MathJaxConfig: 'local'};</script>\n",
       "        <script charset=\"utf-8\" src=\"https://cdn.plot.ly/plotly-3.1.0.min.js\" integrity=\"sha256-Ei4740bWZhaUTQuD6q9yQlgVCMPBz6CZWhevDYPv93A=\" crossorigin=\"anonymous\"></script>                <div id=\"844e09f6-4051-4dc6-b6bb-79d442ff46fd\" class=\"plotly-graph-div\" style=\"height:525px; width:100%;\"></div>            <script type=\"text/javascript\">                window.PLOTLYENV=window.PLOTLYENV || {};                                if (document.getElementById(\"844e09f6-4051-4dc6-b6bb-79d442ff46fd\")) {                    Plotly.newPlot(                        \"844e09f6-4051-4dc6-b6bb-79d442ff46fd\",                        [{\"hovertemplate\":\"Score=%{x}\\u003cbr\\u003eSocial support=%{y}\\u003cbr\\u003eGDP per capita=%{marker.color}\\u003cextra\\u003e\\u003c\\u002fextra\\u003e\",\"legendgroup\":\"\",\"marker\":{\"color\":{\"dtype\":\"f8\",\"bdata\":\"lkOLbOf7+z8zMzMzMzP9P2IQWDm0yPw\\u002fukkMAiuH\\u002fD\\u002f0\\u002fdR46Sb9P6wcWmQ73\\u002fc\\u002fO99PjZdu\\u002fj8fhetRuB77P9NNYhBYOQBA9ihcj8L19j8Sg8DKoUX8P166SQwCK\\u002fs\\u002f7FG4HoXr\\u002fT+6SQwCK4f8PwIrhxbZzv8\\u002fi2zn+6nx+j8OLbKd76f8P5ZDi2zn+\\u002fs\\u002f30+Nl24S+z\\u002ffT42XbhL7P8uhRbbz\\u002ffw\\u002fj8L1KFyP\\u002fD+amZmZmZn7PwaBlUOLbP0\\u002ff2q8dJMY9D8OLbKd76f6P65H4XoUrvs\\u002fd76fGi\\u002fd+D\\u002fl0CLb+X70P3WTGARWDvs\\u002fbef7qfHS9z8X2c73U+P7P+58PzVeuvs\\u002fkxgEVg4tAECTGARWDi36P6jGSzeJQfY\\u002fWmQ730+N8z8K16NwPQr7P2ZmZmZmZvo\\u002fL90kBoGV+z8bL90kBoH5P6rx0k1iEPg\\u002fx0s3iUFg+T+WQ4ts5\\u002fvzP2Q730+Nl\\u002fg\\u002fppvEILBy9D\\u002fy0k1iEFjxPylcj8L1KPw\\u002fN4lBYOXQ9j+q8dJNYhD6P4GVQ4ts5\\u002fk\\u002f2c73U+Ol+T93vp8aL93yP90kBoGVQ\\u002fU\\u002fDAIrhxbZ+j97FK5H4Xr2P6JFtvP91PI\\u002f8tJNYhBY+z\\u002fVeOkmMQj8P7x0kxgEVvo\\u002fFK5H4XoU9j9iEFg5tMj0P\\u002fp+arx0k\\u002fA\\u002fiUFg5dAi+T9eukkMAiv1PxSuR+F6FPo\\u002fhetRuB6F+z8fhetRuB73P2iR7Xw\\u002fNfo\\u002fYhBYObTI+D\\u002fpJjEIrBz4P+f7qfHSTfo\\u002ftvP91Hjp8j\\u002f4U+Olm8TyP1CNl24Sg\\u002fA\\u002fHVpkO99P9z\\u002fHSzeJQWD1P5ZDi2zn+\\u002fc\\u002fwcqhRbbz8z8dWmQ730\\u002f1P+58PzVeuvk\\u002fAAAAAAAAAADP91PjpZv0PwrXo3A9CvU\\u002fXrpJDAIr+T+HFtnO91P3P6jGSzeJQfY\\u002fpHA9Ctej\\u002fD9WDi2yne\\u002f1P3Noke18P+0\\u002ftMh2vp8a9z9oke18PzXuP8HKoUW28\\u002fE\\u002fHVpkO99P+T+6SQwCK4f0PxfZzvdT4+E\\u002fkxgEVg4t9j\\u002fP91PjpZvwP0jhehSuR\\u002fU\\u002fke18PzVe8D+TGARWDi30P1YOLbKd7+s\\u002ftvP91Hjp8j9oke18PzXuP9nO91Pjpe8\\u002fDAIrhxbZ9j+gGi\\u002fdJAbtP42XbhKDwPA\\u002fBoGVQ4ts7z8xCKwcWmTjP3Noke18P\\u002fU\\u002f001iEFg58j\\u002fpJjEIrBz0P5HtfD81XvA\\u002fAiuHFtnO7z\\u002f8qfHSTWLoP0w3iUFg5eg\\u002f\\u002fKnx0k1i8j+LbOf7qfHiP166SQwCK+c\\u002fXI\\u002fC9Shc6z8fhetRuB7hP+Olm8QgsOY\\u002fYhBYObTI8D8MAiuHFtnwPzMzMzMzM+8\\u002f001iEFg56D+6SQwCK4fyPzm0yHa+n+I\\u002fN4lBYOXQ4j+JQWDl0CLrP9NNYhBYOeg\\u002fvHSTGARW9D9CYOXQItvxP1pkO99PjfU\\u002ftMh2vp8a6z8hsHJoke3yPy\\u002fdJAaBlec\\u002fuB6F61G46j\\u002f+1HjpJjHkP5zEILByaOE\\u002faJHtfD819j8QWDm0yHbqPzeJQWDl0OI\\u002fxSCwcmiR8z\\u002f0\\u002fdR46SbpP\\u002fhT46WbxOQ\\u002f\"},\"coloraxis\":\"coloraxis\",\"symbol\":\"circle\"},\"mode\":\"markers\",\"name\":\"\",\"orientation\":\"v\",\"showlegend\":false,\"x\":{\"dtype\":\"f8\",\"bdata\":\"i2zn+6nxHkAv3SQGgRUeQI\\u002fC9ShcDx5A4XoUrkdhHUDTTWIQWDkdQH9qvHSTGB1APzVeukkMHUBWDi2yne8cQLByaJHtfBxA0SLb+X7qG0BMN4lBYOUbQAIrhxbZzhtAPQrXo3C9G0CkcD0K16MbQHWTGARWjhtAN4lBYOVQG0A9CtejcD0bQIPAyqFFNhtAXrpJDAIrG0CamZmZmRkbQPCnxks3CRtAUI2XbhIDG0C28\\u002f3UeOkaQEw3iUFg5RpA8tJNYhDYGkD+1HjpJrEaQJMYBFYOrRpAvp8aL92kGkCJQWDl0KIaQGq8dJMYhBpABoGVQ4tsGkBmZmZmZmYaQKwcWmQ7XxpAw\\u002fUoXI9CGkCNl24Sg0AaQGDl0CLb+RlAK4cW2c73GUB3vp8aL90ZQF66SQwCqxlAKVyPwvWoGUBU46WbxKAZQEoMAiuHlhlAUI2XbhKDGUCmm8QgsHIZQIts5\\u002fupcRlAnMQgsHJoGUBSuB6F61EZQN0kBoGVQxlAF9nO91PjGED8qfHSTeIYQIcW2c730xhAfT81XrrJGEASg8DKocUYQOOlm8QgsBhASgwCK4eWGEAlBoGVQ4sYQCGwcmiRbRhA9P3UeOkmGEAfhetRuB4YQFpkO99PDRhAarx0kxgEGEBcj8L1KNwXQEJg5dAi2xdAUrgehevRF0B9PzVeuskXQEjhehSuxxdA+FPjpZvEF0DJdr6fGq8XQClcj8L1qBdAH4XrUbieF0A1XrpJDIIXQHsUrkfhehdAexSuR+F6F0BGtvP91HgXQDvfT42XbhdA\\u002fKnx0k1iF0CiRbbz\\u002fVQXQIcW2c73UxdASOF6FK5HF0Atsp3vp0YXQLTIdr6fGhdACKwcWmS7FkArhxbZzncWQGIQWDm0SBZAnu+nxks3FkBQjZduEgMWQGDl0CLb+RVAEFg5tMj2FUC+nxov3aQVQL6fGi\\u002fdpBVAmpmZmZmZFUBYObTIdj4VQE5iEFg5NBVAPzVeukkMFUAnMQisHNoUQMP1KFyPwhRAexSuR+F6FECcxCCwcmgUQKwcWmQ7XxRAH4XrUbgeFECBlUOLbOcTQJ7vp8ZLtxNAvp8aL92kE0A\\u002fNV66SYwTQArXo3A9ihNAAAAAAACAE0AGgZVDi2wTQB+F61G4HhNA30+Nl24SE0BmZmZmZuYSQLgehetRuBJAsHJoke18EkBoke18PzUSQF66SQwCKxJACtejcD0KEkDy0k1iENgRQP7UeOkmsRFAdZMYBFaOEUDwp8ZLN4kRQNV46SYxiBFAIbByaJFtEUAX2c73U2MRQOF6FK5HYRFAd76fGi9dEUBcj8L1KFwRQGIQWDm0SBFAw\\u002fUoXI9CEUA9CtejcD0RQM\\u002f3U+OlGxFAVOOlm8SgEECyne+nxksPQMl2vp8aLw9AVOOlm8QgD0ACK4cW2c4OQPCnxks3iQ5AZmZmZmZmDkD+1HjpJjEOQHWTGARWDg5A1XjpJjEIDkCwcmiR7XwMQI2XbhKDwAtAGy\\u002fdJAaBC0BeukkMAisLQBSuR+F6FApAGy\\u002fdJAaBCUCWQ4ts5\\u002fsHQG3n+6nx0vU\\u002f\"},\"xaxis\":\"x\",\"y\":{\"dtype\":\"f8\",\"bdata\":\"ukkMAiuH\\u002fD8rhxbZzvf7P3E9CtejcP0\\u002fXrpJDAIr+z956SYxCKz6P5qZmZmZmfk\\u002fx0s3iUFg+z8X2c73U+P7PyGwcmiR7fg\\u002fqvHSTWIQ+D8nMQisHFr6PzEIrBxaZPs\\u002fwcqhRbbz+T+8dJMYBFb6PyUGgZVDi\\u002fo\\u002fyXa+nxov+z9GtvP91Hj5PycxCKwcWvo\\u002fsHJoke18+z\\u002fb+X5qvHT7P05iEFg5tPQ\\u002fAAAAAAAA+j\\u002fLoUW28\\u002f34P23n+6nx0vk\\u002fpHA9Ctej+D+F61G4HoX5P4cW2c73U\\u002fk\\u002fEFg5tMh2+j\\u002fdJAaBlUP3PxkEVg4tsvc\\u002f7FG4HoXr+T91kxgEVg75P4\\u002fC9Shcj\\u002fg\\u002fCtejcD0K+T\\u002fRItv5fmr2P+f7qfHSTfg\\u002f2c73U+Ol8z\\u002f2KFyPwvX6P9v5fmq8dPs\\u002f0SLb+X5q+D+amZmZmZn5P8HKoUW28\\u002fk\\u002fNV66SQwC+z9I4XoUrkf1PwisHFpkO\\u002fk\\u002fukkMAiuH+D+F61G4HoX3PyPb+X5qvPo\\u002fN4lBYOXQ+D\\u002f+1HjpJjH8P8dLN4lBYPs\\u002f+n5qvHST9j\\u002fXo3A9Ctf5P9ejcD0K1\\u002fk\\u002fzczMzMzM+D+4HoXrUbj4Pylcj8L1KPY\\u002fg8DKoUW29T+oxks3iUH2P\\u002fYoXI\\u002fC9fg\\u002faJHtfD81+D8fhetRuB71P8uhRbbz\\u002ffI\\u002fCtejcD0K9T9t5\\u002fup8dL1P2IQWDm0yPg\\u002fxSCwcmiR9T+28\\u002f3UeOn0P6wcWmQ73\\u002fs\\u002fUI2XbhKD+D83iUFg5dD4P\\u002fhT46WbxPo\\u002fuB6F61G4+D8ZBFYOLbL1P3E9CtejcPs\\u002fAAAAAAAA+D8ZBFYOLbL7P7x0kxgEVvg\\u002fi2zn+6nx9D\\u002fhehSuR+H2PzVeukkMAvc\\u002fF9nO91Pj9z\\u002fByqFFtvP1PwIrhxbZzvU\\u002fmpmZmZmZ+z9kO99PjZf4Py\\u002fdJAaBlfU\\u002fj8L1KFyP9j\\u002fByqFFtvPxP+F6FK5H4fg\\u002fZmZmZmZm9D9cj8L1KFzzPylcj8L1KPA\\u002ftMh2vp8a9z9xPQrXo3D3P39qvHSTGPI\\u002fL90kBoGV8z9SuB6F61HoP6wcWmQ73\\u002fU\\u002fRrbz\\u002fdR46T9mZmZmZmb0Px1aZDvfT+k\\u002fg8DKoUW29z9aZDvfT43vP+xRuB6F6\\u002fM\\u002fexSuR+F68D\\u002fdJAaBlUPvP7Kd76fGS\\u002fc\\u002ffT81XrpJ6D9GtvP91HjpP1pkO99Pjfc\\u002fUrgehetR5D8v3SQGgZXzP5zEILByaO0\\u002fjZduEoPA8D9GtvP91Hj1Pw4tsp3vp+4\\u002fhetRuB6F6z93vp8aL93sP+XQItv5fuo\\u002fyXa+nxovzT+q8dJNYhDsP3WTGARWDu0\\u002fcT0K16Nw8z8pXI\\u002fC9SjwP+f7qfHSTfI\\u002fWmQ730+N5z8IrBxaZDvzP9Ei2\\u002fl+auw\\u002farx0kxgE7j9oke18PzXwPzeJQWDl0PA\\u002fIbByaJHt9D\\u002fn+6nx0k3SPzMzMzMzM\\u002fE\\u002fdZMYBFYO7T8730+Nl27yP39qvHSTGPI\\u002f1XjpJjEI4D+DwMqhRbb3P+58PzVeuu0\\u002fvHSTGARW8j+Nl24Sg8DuP7Kd76fGS98\\u002fsHJoke187z++nxov3STmPwAAAAAAAAAA\"},\"yaxis\":\"y\",\"type\":\"scatter\"},{\"hovertemplate\":\"\\u003cb\\u003eOLS trendline\\u003c\\u002fb\\u003e\\u003cbr\\u003eSocial support = 0.245368 * Score + -0.0353092\\u003cbr\\u003eR\\u003csup\\u003e2\\u003c\\u002fsup\\u003e=0.659543\\u003cbr\\u003e\\u003cbr\\u003eScore=%{x}\\u003cbr\\u003eSocial support=%{y} \\u003cb\\u003e(trend)\\u003c\\u002fb\\u003e\\u003cextra\\u003e\\u003c\\u002fextra\\u003e\",\"legendgroup\":\"\",\"marker\":{\"symbol\":\"circle\"},\"mode\":\"lines\",\"name\":\"\",\"showlegend\":false,\"x\":{\"dtype\":\"f8\",\"bdata\":\"bef7qfHS9T+WQ4ts5\\u002fsHQBsv3SQGgQlAFK5H4XoUCkBeukkMAisLQBsv3SQGgQtAjZduEoPAC0CwcmiR7XwMQNV46SYxCA5AdZMYBFYODkD+1HjpJjEOQGZmZmZmZg5A8KfGSzeJDkACK4cW2c4OQFTjpZvEIA9AyXa+nxovD0Cyne+nxksPQFTjpZvEoBBAz\\u002fdT46UbEUA9CtejcD0RQMP1KFyPQhFAYhBYObRIEUBcj8L1KFwRQHe+nxovXRFA4XoUrkdhEUAX2c73U2MRQCGwcmiRbRFA1XjpJjGIEUDwp8ZLN4kRQHWTGARWjhFA\\u002ftR46SaxEUDy0k1iENgRQArXo3A9ChJAXrpJDAIrEkBoke18PzUSQLByaJHtfBJAuB6F61G4EkBmZmZmZuYSQN9PjZduEhNAH4XrUbgeE0AGgZVDi2wTQAAAAAAAgBNACtejcD2KE0A\\u002fNV66SYwTQL6fGi\\u002fdpBNAnu+nxku3E0CBlUOLbOcTQB+F61G4HhRArBxaZDtfFECcxCCwcmgUQHsUrkfhehRAw\\u002fUoXI\\u002fCFEAnMQisHNoUQD81XrpJDBVATmIQWDk0FUBYObTIdj4VQJqZmZmZmRVAvp8aL92kFUC+nxov3aQVQBBYObTI9hVAYOXQItv5FUBQjZduEgMWQJ7vp8ZLNxZAYhBYObRIFkArhxbZzncWQAisHFpkuxZAtMh2vp8aF0Atsp3vp0YXQEjhehSuRxdAhxbZzvdTF0CiRbbz\\u002fVQXQPyp8dJNYhdAO99PjZduF0BGtvP91HgXQHsUrkfhehdAexSuR+F6F0A1XrpJDIIXQB+F61G4nhdAKVyPwvWoF0DJdr6fGq8XQPhT46WbxBdASOF6FK7HF0B9PzVeuskXQFK4HoXr0RdAQmDl0CLbF0Bcj8L1KNwXQGq8dJMYBBhAWmQ7308NGEAfhetRuB4YQPT91HjpJhhAIbByaJFtGEAlBoGVQ4sYQEoMAiuHlhhA46WbxCCwGEASg8DKocUYQH0\\u002fNV66yRhAhxbZzvfTGED8qfHSTeIYQBfZzvdT4xhA3SQGgZVDGUBSuB6F61EZQJzEILByaBlAi2zn+6lxGUCmm8QgsHIZQFCNl24SgxlASgwCK4eWGUBU46WbxKAZQClcj8L1qBlAXrpJDAKrGUB3vp8aL90ZQCuHFtnO9xlAYOXQItv5GUCNl24Sg0AaQMP1KFyPQhpArBxaZDtfGkBmZmZmZmYaQAaBlUOLbBpAarx0kxiEGkCJQWDl0KIaQL6fGi\\u002fdpBpAkxgEVg6tGkD+1HjpJrEaQPLSTWIQ2BpATDeJQWDlGkC28\\u002f3UeOkaQFCNl24SAxtA8KfGSzcJG0CamZmZmRkbQF66SQwCKxtAg8DKoUU2G0A9CtejcD0bQDeJQWDlUBtAdZMYBFaOG0CkcD0K16MbQD0K16NwvRtAAiuHFtnOG0BMN4lBYOUbQNEi2\\u002fl+6htAsHJoke18HEBWDi2yne8cQD81XrpJDB1Af2q8dJMYHUDTTWIQWDkdQOF6FK5HYR1Aj8L1KFwPHkAv3SQGgRUeQIts5\\u002fup8R5A\"},\"xaxis\":\"x\",\"y\":{\"dtype\":\"f8\",\"bdata\":\"Z6SupOso0z+IFwFP42jmPzrPl1HM5uc\\u002fvKu4oIV36D8Kvvan44jpP1jpycBP3ek\\u002fZA\\u002f4iZ8b6j+4DKJSjNTqP+4i2g19WOw\\u002fdIF7xoRe7D++Q2OHsIDsP5YhL3LztOw\\u002f4uMWMx\\u002fX7D90aOa0dhvtPxKq+Kfda+0\\u002f9tsbrO957T+6P2K0E5btP6QRMkWKgu8\\u002fQGs0j9858D8e86sGClvwPzgX3XUQYPA\\u002fvXV+Lhhm8D+5y9KhMHnwPyUGQ+sxevA\\u002f0+8DETd+8D+rZOSjOYDwP96sRoJGivA\\u002fy5us92ek8D831hxBaaXwP1H6TbBvqvA\\u002fm7w1cZvM8D+TaN5XzPLwPyqXWWYLJPE\\u002fnORglDRE8T\\u002fQLMNyQU7xPzsmc4eblPE\\u002fmmLgKubO8T+Dp5oTIPzxP5Z3dGlXJ\\u002fI\\u002foTS32mYz8j+RjAioyH\\u002fyP43iXBvhkvI\\u002fwSq\\u002f+e2c8j+Xn5+M8J7yP60ZJW8Pt\\u002fI\\u002fPzUJmSbJ8j\\u002f\\u002f7qMUY\\u002fjyP7BBUJKoLvM\\u002fKaLupPlt8z\\u002fyr+A5BXfzP4LLxGMcifM\\u002f7cR0eHbP8z+XBIoRlObzPy4zBSDTF\\u002fQ\\u002fkhkeUAU\\u002f9D\\u002fGYYAuEkn0Py2xhLaEovQ\\u002fzDNX3pKt9D\\u002fMM1fekq30P2p1adH5\\u002ffQ\\u002frSS6rf0A9T92MqxCCQr1P+TVB+RKPfU\\u002fCbd7xGBO9T9eNqb2m3z1PxpGleXwvvU\\u002fL39ak2gc9j9BTzTpn0f2P62JpDKhSPY\\u002ft0bno7BU9j8jgVftsVX2P5p4CqjCYvY\\u002fpDVNGdJu9j\\u002fZfa\\u002f33nj2P7Dyj4rhevY\\u002fsPKPiuF69j+gi6GM6oH2P2Xv55QOnvY\\u002fmTdKcxuo9j8elusrI672P\\u002fJgIDI+w\\u002fY\\u002fNBBxDkLG9j8LhVGhRMj2P2hY0+xO0PY\\u002fMWbFgVrZ9j+coDXLW9r2P\\u002f+GTvuNAfc\\u002fx5RAkJkK9z\\u002ftdbRwrxv3P0lJNry5I\\u002fc\\u002fSAh2hxJp9z94pizZN4b3Pxgp\\u002fwBGkfc\\u002fmd30LGaq9z9sqCkzgb\\u002f3PxqS6liGw\\u002fc\\u002fTtpMN5PN9z8wDHA7pdv3P5xG4ISm3Pc\\u002fHLoVfB87+D\\u002f\\u002f6ziAMUn4Pz7x3c9NX\\u002fg\\u002fBf\\u002fPZFlo+D9xOUCuWmn4PyvgQ0Vvefg\\u002fJzaYuIeM+D9afvqWlJb4P7dRfOKenvg\\u002fjsZcdaGg+D8m9deD4NH4PxPkPfkB7Pg\\u002f6lgejATu+D\\u002fpF15XXTP5P8CMPupfNfk\\u002fhPCE8oNR+T91iZb0jFj5P\\u002fvnN62UXvk\\u002fpSdNRrJ1+T9AAHTh2JP5Pxd1VHTblfk\\u002fdEjWv+Wd+T8jMpfl6qH5PxveP8wbyPk\\u002fktXyhizV+T8\\u002fv7OsMdn5P8FzqdhR8vk\\u002fR9JKkVn4+T8AeU4obgj6PyVawgiEGfo\\u002fxNyUMJIk+j+1daYymyv6P7HL+qWzPvo\\u002f6HxI3AB7+j+7R33iG5D6Pzz8cg48qfo\\u002fYt3m7lG6+j+h4os+btD6P7oGva101fo\\u002f0qhtsyxl+z\\u002fjN4fUvNX7P6ebzdzg8fs\\u002fs1gQTvD9+z8lphd8GR78P4iMMKxLRfw\\u002f+Ve3cCbw\\u002fD9\\u002ftlgpLvb8P9jGmdZCzv0\\u002f\"},\"yaxis\":\"y\",\"type\":\"scatter\"}],                        {\"template\":{\"data\":{\"histogram2dcontour\":[{\"type\":\"histogram2dcontour\",\"colorbar\":{\"outlinewidth\":0,\"ticks\":\"\"},\"colorscale\":[[0.0,\"#0d0887\"],[0.1111111111111111,\"#46039f\"],[0.2222222222222222,\"#7201a8\"],[0.3333333333333333,\"#9c179e\"],[0.4444444444444444,\"#bd3786\"],[0.5555555555555556,\"#d8576b\"],[0.6666666666666666,\"#ed7953\"],[0.7777777777777778,\"#fb9f3a\"],[0.8888888888888888,\"#fdca26\"],[1.0,\"#f0f921\"]]}],\"choropleth\":[{\"type\":\"choropleth\",\"colorbar\":{\"outlinewidth\":0,\"ticks\":\"\"}}],\"histogram2d\":[{\"type\":\"histogram2d\",\"colorbar\":{\"outlinewidth\":0,\"ticks\":\"\"},\"colorscale\":[[0.0,\"#0d0887\"],[0.1111111111111111,\"#46039f\"],[0.2222222222222222,\"#7201a8\"],[0.3333333333333333,\"#9c179e\"],[0.4444444444444444,\"#bd3786\"],[0.5555555555555556,\"#d8576b\"],[0.6666666666666666,\"#ed7953\"],[0.7777777777777778,\"#fb9f3a\"],[0.8888888888888888,\"#fdca26\"],[1.0,\"#f0f921\"]]}],\"heatmap\":[{\"type\":\"heatmap\",\"colorbar\":{\"outlinewidth\":0,\"ticks\":\"\"},\"colorscale\":[[0.0,\"#0d0887\"],[0.1111111111111111,\"#46039f\"],[0.2222222222222222,\"#7201a8\"],[0.3333333333333333,\"#9c179e\"],[0.4444444444444444,\"#bd3786\"],[0.5555555555555556,\"#d8576b\"],[0.6666666666666666,\"#ed7953\"],[0.7777777777777778,\"#fb9f3a\"],[0.8888888888888888,\"#fdca26\"],[1.0,\"#f0f921\"]]}],\"contourcarpet\":[{\"type\":\"contourcarpet\",\"colorbar\":{\"outlinewidth\":0,\"ticks\":\"\"}}],\"contour\":[{\"type\":\"contour\",\"colorbar\":{\"outlinewidth\":0,\"ticks\":\"\"},\"colorscale\":[[0.0,\"#0d0887\"],[0.1111111111111111,\"#46039f\"],[0.2222222222222222,\"#7201a8\"],[0.3333333333333333,\"#9c179e\"],[0.4444444444444444,\"#bd3786\"],[0.5555555555555556,\"#d8576b\"],[0.6666666666666666,\"#ed7953\"],[0.7777777777777778,\"#fb9f3a\"],[0.8888888888888888,\"#fdca26\"],[1.0,\"#f0f921\"]]}],\"surface\":[{\"type\":\"surface\",\"colorbar\":{\"outlinewidth\":0,\"ticks\":\"\"},\"colorscale\":[[0.0,\"#0d0887\"],[0.1111111111111111,\"#46039f\"],[0.2222222222222222,\"#7201a8\"],[0.3333333333333333,\"#9c179e\"],[0.4444444444444444,\"#bd3786\"],[0.5555555555555556,\"#d8576b\"],[0.6666666666666666,\"#ed7953\"],[0.7777777777777778,\"#fb9f3a\"],[0.8888888888888888,\"#fdca26\"],[1.0,\"#f0f921\"]]}],\"mesh3d\":[{\"type\":\"mesh3d\",\"colorbar\":{\"outlinewidth\":0,\"ticks\":\"\"}}],\"scatter\":[{\"fillpattern\":{\"fillmode\":\"overlay\",\"size\":10,\"solidity\":0.2},\"type\":\"scatter\"}],\"parcoords\":[{\"type\":\"parcoords\",\"line\":{\"colorbar\":{\"outlinewidth\":0,\"ticks\":\"\"}}}],\"scatterpolargl\":[{\"type\":\"scatterpolargl\",\"marker\":{\"colorbar\":{\"outlinewidth\":0,\"ticks\":\"\"}}}],\"bar\":[{\"error_x\":{\"color\":\"#2a3f5f\"},\"error_y\":{\"color\":\"#2a3f5f\"},\"marker\":{\"line\":{\"color\":\"#E5ECF6\",\"width\":0.5},\"pattern\":{\"fillmode\":\"overlay\",\"size\":10,\"solidity\":0.2}},\"type\":\"bar\"}],\"scattergeo\":[{\"type\":\"scattergeo\",\"marker\":{\"colorbar\":{\"outlinewidth\":0,\"ticks\":\"\"}}}],\"scatterpolar\":[{\"type\":\"scatterpolar\",\"marker\":{\"colorbar\":{\"outlinewidth\":0,\"ticks\":\"\"}}}],\"histogram\":[{\"marker\":{\"pattern\":{\"fillmode\":\"overlay\",\"size\":10,\"solidity\":0.2}},\"type\":\"histogram\"}],\"scattergl\":[{\"type\":\"scattergl\",\"marker\":{\"colorbar\":{\"outlinewidth\":0,\"ticks\":\"\"}}}],\"scatter3d\":[{\"type\":\"scatter3d\",\"line\":{\"colorbar\":{\"outlinewidth\":0,\"ticks\":\"\"}},\"marker\":{\"colorbar\":{\"outlinewidth\":0,\"ticks\":\"\"}}}],\"scattermap\":[{\"type\":\"scattermap\",\"marker\":{\"colorbar\":{\"outlinewidth\":0,\"ticks\":\"\"}}}],\"scattermapbox\":[{\"type\":\"scattermapbox\",\"marker\":{\"colorbar\":{\"outlinewidth\":0,\"ticks\":\"\"}}}],\"scatterternary\":[{\"type\":\"scatterternary\",\"marker\":{\"colorbar\":{\"outlinewidth\":0,\"ticks\":\"\"}}}],\"scattercarpet\":[{\"type\":\"scattercarpet\",\"marker\":{\"colorbar\":{\"outlinewidth\":0,\"ticks\":\"\"}}}],\"carpet\":[{\"aaxis\":{\"endlinecolor\":\"#2a3f5f\",\"gridcolor\":\"white\",\"linecolor\":\"white\",\"minorgridcolor\":\"white\",\"startlinecolor\":\"#2a3f5f\"},\"baxis\":{\"endlinecolor\":\"#2a3f5f\",\"gridcolor\":\"white\",\"linecolor\":\"white\",\"minorgridcolor\":\"white\",\"startlinecolor\":\"#2a3f5f\"},\"type\":\"carpet\"}],\"table\":[{\"cells\":{\"fill\":{\"color\":\"#EBF0F8\"},\"line\":{\"color\":\"white\"}},\"header\":{\"fill\":{\"color\":\"#C8D4E3\"},\"line\":{\"color\":\"white\"}},\"type\":\"table\"}],\"barpolar\":[{\"marker\":{\"line\":{\"color\":\"#E5ECF6\",\"width\":0.5},\"pattern\":{\"fillmode\":\"overlay\",\"size\":10,\"solidity\":0.2}},\"type\":\"barpolar\"}],\"pie\":[{\"automargin\":true,\"type\":\"pie\"}]},\"layout\":{\"autotypenumbers\":\"strict\",\"colorway\":[\"#636efa\",\"#EF553B\",\"#00cc96\",\"#ab63fa\",\"#FFA15A\",\"#19d3f3\",\"#FF6692\",\"#B6E880\",\"#FF97FF\",\"#FECB52\"],\"font\":{\"color\":\"#2a3f5f\"},\"hovermode\":\"closest\",\"hoverlabel\":{\"align\":\"left\"},\"paper_bgcolor\":\"white\",\"plot_bgcolor\":\"#E5ECF6\",\"polar\":{\"bgcolor\":\"#E5ECF6\",\"angularaxis\":{\"gridcolor\":\"white\",\"linecolor\":\"white\",\"ticks\":\"\"},\"radialaxis\":{\"gridcolor\":\"white\",\"linecolor\":\"white\",\"ticks\":\"\"}},\"ternary\":{\"bgcolor\":\"#E5ECF6\",\"aaxis\":{\"gridcolor\":\"white\",\"linecolor\":\"white\",\"ticks\":\"\"},\"baxis\":{\"gridcolor\":\"white\",\"linecolor\":\"white\",\"ticks\":\"\"},\"caxis\":{\"gridcolor\":\"white\",\"linecolor\":\"white\",\"ticks\":\"\"}},\"coloraxis\":{\"colorbar\":{\"outlinewidth\":0,\"ticks\":\"\"}},\"colorscale\":{\"sequential\":[[0.0,\"#0d0887\"],[0.1111111111111111,\"#46039f\"],[0.2222222222222222,\"#7201a8\"],[0.3333333333333333,\"#9c179e\"],[0.4444444444444444,\"#bd3786\"],[0.5555555555555556,\"#d8576b\"],[0.6666666666666666,\"#ed7953\"],[0.7777777777777778,\"#fb9f3a\"],[0.8888888888888888,\"#fdca26\"],[1.0,\"#f0f921\"]],\"sequentialminus\":[[0.0,\"#0d0887\"],[0.1111111111111111,\"#46039f\"],[0.2222222222222222,\"#7201a8\"],[0.3333333333333333,\"#9c179e\"],[0.4444444444444444,\"#bd3786\"],[0.5555555555555556,\"#d8576b\"],[0.6666666666666666,\"#ed7953\"],[0.7777777777777778,\"#fb9f3a\"],[0.8888888888888888,\"#fdca26\"],[1.0,\"#f0f921\"]],\"diverging\":[[0,\"#8e0152\"],[0.1,\"#c51b7d\"],[0.2,\"#de77ae\"],[0.3,\"#f1b6da\"],[0.4,\"#fde0ef\"],[0.5,\"#f7f7f7\"],[0.6,\"#e6f5d0\"],[0.7,\"#b8e186\"],[0.8,\"#7fbc41\"],[0.9,\"#4d9221\"],[1,\"#276419\"]]},\"xaxis\":{\"gridcolor\":\"white\",\"linecolor\":\"white\",\"ticks\":\"\",\"title\":{\"standoff\":15},\"zerolinecolor\":\"white\",\"automargin\":true,\"zerolinewidth\":2},\"yaxis\":{\"gridcolor\":\"white\",\"linecolor\":\"white\",\"ticks\":\"\",\"title\":{\"standoff\":15},\"zerolinecolor\":\"white\",\"automargin\":true,\"zerolinewidth\":2},\"scene\":{\"xaxis\":{\"backgroundcolor\":\"#E5ECF6\",\"gridcolor\":\"white\",\"linecolor\":\"white\",\"showbackground\":true,\"ticks\":\"\",\"zerolinecolor\":\"white\",\"gridwidth\":2},\"yaxis\":{\"backgroundcolor\":\"#E5ECF6\",\"gridcolor\":\"white\",\"linecolor\":\"white\",\"showbackground\":true,\"ticks\":\"\",\"zerolinecolor\":\"white\",\"gridwidth\":2},\"zaxis\":{\"backgroundcolor\":\"#E5ECF6\",\"gridcolor\":\"white\",\"linecolor\":\"white\",\"showbackground\":true,\"ticks\":\"\",\"zerolinecolor\":\"white\",\"gridwidth\":2}},\"shapedefaults\":{\"line\":{\"color\":\"#2a3f5f\"}},\"annotationdefaults\":{\"arrowcolor\":\"#2a3f5f\",\"arrowhead\":0,\"arrowwidth\":1},\"geo\":{\"bgcolor\":\"white\",\"landcolor\":\"#E5ECF6\",\"subunitcolor\":\"white\",\"showland\":true,\"showlakes\":true,\"lakecolor\":\"white\"},\"title\":{\"x\":0.05},\"mapbox\":{\"style\":\"light\"}}},\"xaxis\":{\"anchor\":\"y\",\"domain\":[0.0,1.0],\"title\":{\"text\":\"Score\"},\"tickfont\":{\"weight\":\"bold\",\"size\":12}},\"yaxis\":{\"anchor\":\"x\",\"domain\":[0.0,1.0],\"title\":{\"text\":\"Social support\"},\"tickfont\":{\"weight\":\"bold\",\"size\":12}},\"coloraxis\":{\"colorbar\":{\"title\":{\"text\":\"GDP per capita\"}},\"colorscale\":[[0.0,\"#0d0887\"],[0.1111111111111111,\"#46039f\"],[0.2222222222222222,\"#7201a8\"],[0.3333333333333333,\"#9c179e\"],[0.4444444444444444,\"#bd3786\"],[0.5555555555555556,\"#d8576b\"],[0.6666666666666666,\"#ed7953\"],[0.7777777777777778,\"#fb9f3a\"],[0.8888888888888888,\"#fdca26\"],[1.0,\"#f0f921\"]]},\"legend\":{\"tracegroupgap\":0},\"title\":{\"text\":\"2024\",\"font\":{\"size\":24,\"weight\":\"bold\"},\"x\":0.5},\"showlegend\":true},                        {\"responsive\": true}                    ).then(function(){\n",
       "                            \n",
       "var gd = document.getElementById('844e09f6-4051-4dc6-b6bb-79d442ff46fd');\n",
       "var x = new MutationObserver(function (mutations, observer) {{\n",
       "        var display = window.getComputedStyle(gd).display;\n",
       "        if (!display || display === 'none') {{\n",
       "            console.log([gd, 'removed!']);\n",
       "            Plotly.purge(gd);\n",
       "            observer.disconnect();\n",
       "        }}\n",
       "}});\n",
       "\n",
       "// Listen for the removal of the full notebook cells\n",
       "var notebookContainer = gd.closest('#notebook-container');\n",
       "if (notebookContainer) {{\n",
       "    x.observe(notebookContainer, {childList: true});\n",
       "}}\n",
       "\n",
       "// Listen for the clearing of the current output cell\n",
       "var outputEl = gd.closest('.output');\n",
       "if (outputEl) {{\n",
       "    x.observe(outputEl, {childList: true});\n",
       "}}\n",
       "\n",
       "                        })                };            </script>        </div>\n",
       "</body>\n",
       "</html>"
      ]
     },
     "metadata": {},
     "output_type": "display_data"
    }
   ],
   "source": [
    "fig=px.scatter(df_2024, x=\"Score\", y=\"Social support\", title=\"2024\", color=\"GDP per capita\", trendline=\"ols\")\n",
    "fig.update_layout(title_x=0.5, title_font=dict(\n",
    "        size=24, weight='bold'\n",
    "    ))\n",
    "fig.update_layout(showlegend=True)\n",
    "fig.update_xaxes(\n",
    "    tickfont_weight='bold',  # Make the numbers bold\n",
    "    tickfont_size=12)        # Adjust the font size\n",
    "fig.update_yaxes(\n",
    "    tickfont_weight='bold',  # Make the numbers bold\n",
    "    tickfont_size=12)  # Adjust the font size\n",
    "fig.show()"
   ]
  },
  {
   "cell_type": "code",
   "execution_count": 447,
   "metadata": {},
   "outputs": [
    {
     "data": {
      "image/png": "[encoded data removed]",
      "text/plain": [
       "<Figure size 640x480 with 1 Axes>"
      ]
     },
     "metadata": {},
     "output_type": "display_data"
    }
   ],
   "source": [
    "sns.barplot(\n",
    "    data=df_combined_2024_5.sort_values(by='Social support'),\n",
    "    y='Country or region',\n",
    "    x='Social support',\n",
    "    hue='Group',\n",
    "    palette=custom_color_map,    legend=False, width=0.4\n",
    ")\n",
    "plt.xticks(fontweight='bold')\n",
    "plt.yticks(fontweight='bold')\n",
    "plt.title('2024', fontweight='bold', y=1.05)\n",
    "plt.show()"
   ]
  },
  {
   "cell_type": "code",
   "execution_count": 448,
   "metadata": {},
   "outputs": [
    {
     "data": {
      "image/png": "[encoded data removed]",
      "text/plain": [
       "<Figure size 640x480 with 1 Axes>"
      ]
     },
     "metadata": {},
     "output_type": "display_data"
    }
   ],
   "source": [
    "sns.barplot(\n",
    "    data=df_combined_2018_5.sort_values(by='Social support'),\n",
    "    y='Country or region',\n",
    "    x='Social support',\n",
    "    hue='Group',\n",
    "    legend=False, width=0.4, palette=custom_color_map\n",
    ")\n",
    "plt.xticks(fontweight='bold')\n",
    "plt.yticks(fontweight='bold')\n",
    "plt.title('2018', fontweight='bold', y=1.05)\n",
    "plt.show()"
   ]
  },
  {
   "cell_type": "code",
   "execution_count": 449,
   "metadata": {},
   "outputs": [
    {
     "data": {
      "text/html": [
       "<div>\n",
       "<style scoped>\n",
       "    .dataframe tbody tr th:only-of-type {\n",
       "        vertical-align: middle;\n",
       "    }\n",
       "\n",
       "    .dataframe tbody tr th {\n",
       "        vertical-align: top;\n",
       "    }\n",
       "\n",
       "    .dataframe thead th {\n",
       "        text-align: right;\n",
       "    }\n",
       "</style>\n",
       "<table border=\"1\" class=\"dataframe\">\n",
       "  <thead>\n",
       "    <tr style=\"text-align: right;\">\n",
       "      <th></th>\n",
       "      <th>Country or region</th>\n",
       "      <th>Score</th>\n",
       "      <th>GDP per capita</th>\n",
       "      <th>Social support</th>\n",
       "      <th>Freedom to make life choices</th>\n",
       "      <th>Generosity</th>\n",
       "      <th>Perceptions of corruption</th>\n",
       "      <th>Year</th>\n",
       "      <th>Group</th>\n",
       "    </tr>\n",
       "  </thead>\n",
       "  <tbody>\n",
       "    <tr>\n",
       "      <th>104</th>\n",
       "      <td>South Africa</td>\n",
       "      <td>4.724</td>\n",
       "      <td>0.940</td>\n",
       "      <td>1.410</td>\n",
       "      <td>0.516</td>\n",
       "      <td>0.103</td>\n",
       "      <td>0.056</td>\n",
       "      <td>2018</td>\n",
       "      <td>Low score of happiness</td>\n",
       "    </tr>\n",
       "    <tr>\n",
       "      <th>105</th>\n",
       "      <td>Iran</td>\n",
       "      <td>4.707</td>\n",
       "      <td>1.059</td>\n",
       "      <td>0.771</td>\n",
       "      <td>0.459</td>\n",
       "      <td>0.282</td>\n",
       "      <td>0.129</td>\n",
       "      <td>2018</td>\n",
       "      <td>Low score of happiness</td>\n",
       "    </tr>\n",
       "    <tr>\n",
       "      <th>106</th>\n",
       "      <td>Ivory Coast</td>\n",
       "      <td>4.671</td>\n",
       "      <td>0.541</td>\n",
       "      <td>0.872</td>\n",
       "      <td>0.467</td>\n",
       "      <td>0.146</td>\n",
       "      <td>0.103</td>\n",
       "      <td>2018</td>\n",
       "      <td>Low score of happiness</td>\n",
       "    </tr>\n",
       "    <tr>\n",
       "      <th>107</th>\n",
       "      <td>Ghana</td>\n",
       "      <td>4.657</td>\n",
       "      <td>0.592</td>\n",
       "      <td>0.896</td>\n",
       "      <td>0.499</td>\n",
       "      <td>0.212</td>\n",
       "      <td>0.029</td>\n",
       "      <td>2018</td>\n",
       "      <td>Low score of happiness</td>\n",
       "    </tr>\n",
       "    <tr>\n",
       "      <th>108</th>\n",
       "      <td>Senegal</td>\n",
       "      <td>4.631</td>\n",
       "      <td>0.429</td>\n",
       "      <td>1.117</td>\n",
       "      <td>0.406</td>\n",
       "      <td>0.138</td>\n",
       "      <td>0.082</td>\n",
       "      <td>2018</td>\n",
       "      <td>Low score of happiness</td>\n",
       "    </tr>\n",
       "  </tbody>\n",
       "</table>\n",
       "</div>"
      ],
      "text/plain": [
       "    Country or region  Score  GDP per capita  Social support  \\\n",
       "104      South Africa  4.724           0.940           1.410   \n",
       "105              Iran  4.707           1.059           0.771   \n",
       "106       Ivory Coast  4.671           0.541           0.872   \n",
       "107             Ghana  4.657           0.592           0.896   \n",
       "108           Senegal  4.631           0.429           1.117   \n",
       "\n",
       "     Freedom to make life choices  Generosity  Perceptions of corruption  \\\n",
       "104                         0.516       0.103                      0.056   \n",
       "105                         0.459       0.282                      0.129   \n",
       "106                         0.467       0.146                      0.103   \n",
       "107                         0.499       0.212                      0.029   \n",
       "108                         0.406       0.138                      0.082   \n",
       "\n",
       "     Year                   Group  \n",
       "104  2018  Low score of happiness  \n",
       "105  2018  Low score of happiness  \n",
       "106  2018  Low score of happiness  \n",
       "107  2018  Low score of happiness  \n",
       "108  2018  Low score of happiness  "
      ]
     },
     "execution_count": 449,
     "metadata": {},
     "output_type": "execute_result"
    }
   ],
   "source": [
    "df_bottom_5_2018"
   ]
  },
  {
   "cell_type": "code",
   "execution_count": 450,
   "metadata": {},
   "outputs": [
    {
     "data": {
      "text/html": [
       "<html>\n",
       "<head><meta charset=\"utf-8\" /></head>\n",
       "<body>\n",
       "    <div>            <script src=\"https://cdnjs.cloudflare.com/ajax/libs/mathjax/2.7.5/MathJax.js?config=TeX-AMS-MML_SVG\"></script><script type=\"text/javascript\">if (window.MathJax && window.MathJax.Hub && window.MathJax.Hub.Config) {window.MathJax.Hub.Config({SVG: {font: \"STIX-Web\"}});}</script>                <script type=\"text/javascript\">window.PlotlyConfig = {MathJaxConfig: 'local'};</script>\n",
       "        <script charset=\"utf-8\" src=\"https://cdn.plot.ly/plotly-3.1.0.min.js\" integrity=\"sha256-Ei4740bWZhaUTQuD6q9yQlgVCMPBz6CZWhevDYPv93A=\" crossorigin=\"anonymous\"></script>                <div id=\"23c1e327-35ac-4c0c-a53f-65ccc569f9d8\" class=\"plotly-graph-div\" style=\"height:525px; width:100%;\"></div>            <script type=\"text/javascript\">                window.PLOTLYENV=window.PLOTLYENV || {};                                if (document.getElementById(\"23c1e327-35ac-4c0c-a53f-65ccc569f9d8\")) {                    Plotly.newPlot(                        \"23c1e327-35ac-4c0c-a53f-65ccc569f9d8\",                        [{\"alignmentgroup\":\"True\",\"box\":{\"visible\":true},\"hovertemplate\":\"Group=%{x}\\u003cbr\\u003eFreedom to make life choices=%{y}\\u003cextra\\u003e\\u003c\\u002fextra\\u003e\",\"legendgroup\":\"High score of happiness\",\"marker\":{\"color\":\"#636efa\"},\"name\":\"High score of happiness\",\"offsetgroup\":\"High score of happiness\",\"orientation\":\"v\",\"points\":\"all\",\"scalegroup\":\"True\",\"showlegend\":true,\"x\":[\"High score of happiness\",\"High score of happiness\",\"High score of happiness\",\"High score of happiness\",\"High score of happiness\",\"High score of happiness\",\"High score of happiness\",\"High score of happiness\",\"High score of happiness\",\"High score of happiness\",\"High score of happiness\",\"High score of happiness\",\"High score of happiness\",\"High score of happiness\",\"High score of happiness\",\"High score of happiness\",\"High score of happiness\",\"High score of happiness\",\"High score of happiness\",\"High score of happiness\",\"High score of happiness\",\"High score of happiness\",\"High score of happiness\",\"High score of happiness\",\"High score of happiness\",\"High score of happiness\",\"High score of happiness\",\"High score of happiness\",\"High score of happiness\",\"High score of happiness\",\"High score of happiness\",\"High score of happiness\",\"High score of happiness\",\"High score of happiness\",\"High score of happiness\",\"High score of happiness\",\"High score of happiness\",\"High score of happiness\",\"High score of happiness\",\"High score of happiness\",\"High score of happiness\",\"High score of happiness\",\"High score of happiness\",\"High score of happiness\",\"High score of happiness\",\"High score of happiness\",\"High score of happiness\",\"High score of happiness\",\"High score of happiness\",\"High score of happiness\",\"High score of happiness\",\"High score of happiness\"],\"x0\":\" \",\"xaxis\":\"x\",\"y\":{\"dtype\":\"f8\",\"bdata\":\"l24Sg8DK5T\\u002fAyqFFtvPlP0Fg5dAi2+U\\u002fRIts5\\u002fup5T8fhetRuB7lP9Ei2\\u002fl+auQ\\u002fTDeJQWDl5D+cxCCwcmjlP0oMAiuHFuU\\u002fTmIQWDm05D8ZBFYOLbLdP1g5tMh2vuM\\u002f001iEFg55D\\u002fZzvdT46XjP42XbhKDwOI\\u002fDi2yne+n4j\\u002fTTWIQWDnkPxsv3SQGgeE\\u002fdJMYBFYO4T+TGARWDi3SP8ZLN4lBYOE\\u002fpHA9Ctej5D+kcD0K16PgPw4tsp3vp94\\u002fL90kBoGV2z+Nl24Sg8DaP7TIdr6fGuM\\u002fWmQ730+N3z89CtejcD3iP4cW2c73U+M\\u002fAAAAAAAA5D8hsHJoke3kP30\\u002fNV66SeA\\u002f\\u002ftR46SYx5D9iEFg5tMjWPyPb+X5qvNw\\u002fy6FFtvP94D9mZmZmZmbiPw4tsp3vp9Y\\u002fGy\\u002fdJAaB3T93vp8aL93gP0a28\\u002f3UeOE\\u002fNV66SQwC4z9fukkMAivnP+18PzVeuuE\\u002f\\u002fKnx0k1i5D+WQ4ts5\\u002fvRP5huEoPAyuE\\u002fYOXQItv54j9mZmZmZmbWP6jGSzeJQeQ\\u002fTDeJQWDl4D8=\"},\"y0\":\" \",\"yaxis\":\"y\",\"type\":\"violin\"},{\"alignmentgroup\":\"True\",\"box\":{\"visible\":true},\"hovertemplate\":\"Group=%{x}\\u003cbr\\u003eFreedom to make life choices=%{y}\\u003cextra\\u003e\\u003c\\u002fextra\\u003e\",\"legendgroup\":\"Middle score of happiness\",\"marker\":{\"color\":\"#EF553B\"},\"name\":\"Middle score of happiness\",\"offsetgroup\":\"Middle score of happiness\",\"orientation\":\"v\",\"points\":\"all\",\"scalegroup\":\"True\",\"showlegend\":true,\"x\":[\"Middle score of happiness\",\"Middle score of happiness\",\"Middle score of happiness\",\"Middle score of happiness\",\"Middle score of happiness\",\"Middle score of happiness\",\"Middle score of happiness\",\"Middle score of happiness\",\"Middle score of happiness\",\"Middle score of happiness\",\"Middle score of happiness\",\"Middle score of happiness\",\"Middle score of happiness\",\"Middle score of happiness\",\"Middle score of happiness\",\"Middle score of happiness\",\"Middle score of happiness\",\"Middle score of happiness\",\"Middle score of happiness\",\"Middle score of happiness\",\"Middle score of happiness\",\"Middle score of happiness\",\"Middle score of happiness\",\"Middle score of happiness\",\"Middle score of happiness\",\"Middle score of happiness\",\"Middle score of happiness\",\"Middle score of happiness\",\"Middle score of happiness\",\"Middle score of happiness\",\"Middle score of happiness\",\"Middle score of happiness\",\"Middle score of happiness\",\"Middle score of happiness\",\"Middle score of happiness\",\"Middle score of happiness\",\"Middle score of happiness\",\"Middle score of happiness\",\"Middle score of happiness\",\"Middle score of happiness\",\"Middle score of happiness\",\"Middle score of happiness\",\"Middle score of happiness\",\"Middle score of happiness\",\"Middle score of happiness\",\"Middle score of happiness\",\"Middle score of happiness\",\"Middle score of happiness\",\"Middle score of happiness\",\"Middle score of happiness\",\"Middle score of happiness\",\"Middle score of happiness\"],\"x0\":\" \",\"xaxis\":\"x\",\"y\":{\"dtype\":\"f8\",\"bdata\":\"CKwcWmQ71z8YBFYOLbLhP+Olm8QgsOI\\u002fZmZmZmZm4j8IrBxaZDvPP65H4XoUrt8\\u002f8KfGSzeJ2T91kxgEVg7dP99PjZduEts\\u002fMQisHFpk4z8YBFYOLbLhPx1aZDvfT+E\\u002f9ihcj8L14D956SYxCKzcPxkEVg4tss0\\u002f46WbxCCw2j\\u002f6fmq8dJPQP1g5tMh2vt8\\u002f+n5qvHST5D\\u002fHSzeJQWDdP9nO91PjpdM\\u002fI9v5fmq81D\\u002fHSzeJQWDVP\\u002fhT46WbxOA\\u002flkOLbOf74T8730+Nl27SP\\u002fhT46WbxMA\\u002ff2q8dJMY4D\\u002f6fmq8dJPQP1K4HoXrUdg\\u002f5dAi2\\u002fl+4j+DwMqhRbazP3E9CtejcN0\\u002ftMh2vp8a4z+F61G4HoXbP+Olm8QgsNI\\u002fnu+nxks32T\\u002fByqFFtvPdP8UgsHJokd0\\u002fSOF6FK5H4T\\u002fsUbgehevRP0jhehSuR9k\\u002fLbKd76fG4z+d76fGSzfhPx1aZDvfT+E\\u002fxSCwcmiR5T91kxgEVg7dP2Dl0CLb+dY\\u002fokW28\\u002f3U4D+gGi\\u002fdJAbBP2IQWDm0yNY\\u002foBov3SQG0T8=\"},\"y0\":\" \",\"yaxis\":\"y\",\"type\":\"violin\"},{\"alignmentgroup\":\"True\",\"box\":{\"visible\":true},\"hovertemplate\":\"Group=%{x}\\u003cbr\\u003eFreedom to make life choices=%{y}\\u003cextra\\u003e\\u003c\\u002fextra\\u003e\",\"legendgroup\":\"Low score of happiness\",\"marker\":{\"color\":\"#00cc96\"},\"name\":\"Low score of happiness\",\"offsetgroup\":\"Low score of happiness\",\"orientation\":\"v\",\"points\":\"all\",\"scalegroup\":\"True\",\"showlegend\":true,\"x\":[\"Low score of happiness\",\"Low score of happiness\",\"Low score of happiness\",\"Low score of happiness\",\"Low score of happiness\",\"Low score of happiness\",\"Low score of happiness\",\"Low score of happiness\",\"Low score of happiness\",\"Low score of happiness\",\"Low score of happiness\",\"Low score of happiness\",\"Low score of happiness\",\"Low score of happiness\",\"Low score of happiness\",\"Low score of happiness\",\"Low score of happiness\",\"Low score of happiness\",\"Low score of happiness\",\"Low score of happiness\",\"Low score of happiness\",\"Low score of happiness\",\"Low score of happiness\",\"Low score of happiness\",\"Low score of happiness\",\"Low score of happiness\",\"Low score of happiness\",\"Low score of happiness\",\"Low score of happiness\",\"Low score of happiness\",\"Low score of happiness\",\"Low score of happiness\",\"Low score of happiness\",\"Low score of happiness\",\"Low score of happiness\",\"Low score of happiness\",\"Low score of happiness\",\"Low score of happiness\",\"Low score of happiness\",\"Low score of happiness\",\"Low score of happiness\",\"Low score of happiness\",\"Low score of happiness\",\"Low score of happiness\",\"Low score of happiness\",\"Low score of happiness\",\"Low score of happiness\",\"Low score of happiness\",\"Low score of happiness\",\"Low score of happiness\",\"Low score of happiness\",\"Low score of happiness\"],\"x0\":\" \",\"xaxis\":\"x\",\"y\":{\"dtype\":\"f8\",\"bdata\":\"UI2XbhKD4D\\u002fHSzeJQWDdPxfZzvdT490\\u002fVg4tsp3v3z+WQ4ts5\\u002fvZP9V46SYxCOQ\\u002f8tJNYhBY0T83iUFg5dDaP7gehetRuNY\\u002fppvEILBy4D+PwvUoXI\\u002fiP7gehetRuOI\\u002f2\\u002fl+arx00z+ycmiR7XzXP8\\u002f3U+Olm+A\\u002fEoPAyqFF5j8rhxbZzvfTPyuHFtnO99M\\u002fy6FFtvP94D9U46WbxCDgP39qvHSTGOA\\u002fUI2XbhKDwD8hsHJoke3cPwAAAAAAANg\\u002fpHA9Ctej0D+PwvUoXI\\u002fiP\\u002f7UeOkmMcg\\u002fK4cW2c730z9zaJHtfD\\u002fhP\\u002fYoXI\\u002fC9dg\\u002fzczMzMzM3D8pXI\\u002fC9SjcP\\u002fyp8dJNYpA\\u002fd76fGi\\u002fdxD8tsp3vp8bbP57vp8ZLN9k\\u002f30+Nl24S2z8AAAAAAAAAAH0\\u002fNV66Scw\\u002flkOLbOf72T\\u002fD9Shcj8K1P23n+6nx0uE\\u002fy6FFtvP94D+amZmZmZmZPzeJQWDl0No\\u002fukkMAiuHtj8nMQisHFrkPwisHFpkO88\\u002fYhBYObTI3j956SYxCKy8P4XrUbgehdM\\u002fpHA9CtejsD8=\"},\"y0\":\" \",\"yaxis\":\"y\",\"type\":\"violin\"}],                        {\"template\":{\"data\":{\"histogram2dcontour\":[{\"type\":\"histogram2dcontour\",\"colorbar\":{\"outlinewidth\":0,\"ticks\":\"\"},\"colorscale\":[[0.0,\"#0d0887\"],[0.1111111111111111,\"#46039f\"],[0.2222222222222222,\"#7201a8\"],[0.3333333333333333,\"#9c179e\"],[0.4444444444444444,\"#bd3786\"],[0.5555555555555556,\"#d8576b\"],[0.6666666666666666,\"#ed7953\"],[0.7777777777777778,\"#fb9f3a\"],[0.8888888888888888,\"#fdca26\"],[1.0,\"#f0f921\"]]}],\"choropleth\":[{\"type\":\"choropleth\",\"colorbar\":{\"outlinewidth\":0,\"ticks\":\"\"}}],\"histogram2d\":[{\"type\":\"histogram2d\",\"colorbar\":{\"outlinewidth\":0,\"ticks\":\"\"},\"colorscale\":[[0.0,\"#0d0887\"],[0.1111111111111111,\"#46039f\"],[0.2222222222222222,\"#7201a8\"],[0.3333333333333333,\"#9c179e\"],[0.4444444444444444,\"#bd3786\"],[0.5555555555555556,\"#d8576b\"],[0.6666666666666666,\"#ed7953\"],[0.7777777777777778,\"#fb9f3a\"],[0.8888888888888888,\"#fdca26\"],[1.0,\"#f0f921\"]]}],\"heatmap\":[{\"type\":\"heatmap\",\"colorbar\":{\"outlinewidth\":0,\"ticks\":\"\"},\"colorscale\":[[0.0,\"#0d0887\"],[0.1111111111111111,\"#46039f\"],[0.2222222222222222,\"#7201a8\"],[0.3333333333333333,\"#9c179e\"],[0.4444444444444444,\"#bd3786\"],[0.5555555555555556,\"#d8576b\"],[0.6666666666666666,\"#ed7953\"],[0.7777777777777778,\"#fb9f3a\"],[0.8888888888888888,\"#fdca26\"],[1.0,\"#f0f921\"]]}],\"contourcarpet\":[{\"type\":\"contourcarpet\",\"colorbar\":{\"outlinewidth\":0,\"ticks\":\"\"}}],\"contour\":[{\"type\":\"contour\",\"colorbar\":{\"outlinewidth\":0,\"ticks\":\"\"},\"colorscale\":[[0.0,\"#0d0887\"],[0.1111111111111111,\"#46039f\"],[0.2222222222222222,\"#7201a8\"],[0.3333333333333333,\"#9c179e\"],[0.4444444444444444,\"#bd3786\"],[0.5555555555555556,\"#d8576b\"],[0.6666666666666666,\"#ed7953\"],[0.7777777777777778,\"#fb9f3a\"],[0.8888888888888888,\"#fdca26\"],[1.0,\"#f0f921\"]]}],\"surface\":[{\"type\":\"surface\",\"colorbar\":{\"outlinewidth\":0,\"ticks\":\"\"},\"colorscale\":[[0.0,\"#0d0887\"],[0.1111111111111111,\"#46039f\"],[0.2222222222222222,\"#7201a8\"],[0.3333333333333333,\"#9c179e\"],[0.4444444444444444,\"#bd3786\"],[0.5555555555555556,\"#d8576b\"],[0.6666666666666666,\"#ed7953\"],[0.7777777777777778,\"#fb9f3a\"],[0.8888888888888888,\"#fdca26\"],[1.0,\"#f0f921\"]]}],\"mesh3d\":[{\"type\":\"mesh3d\",\"colorbar\":{\"outlinewidth\":0,\"ticks\":\"\"}}],\"scatter\":[{\"fillpattern\":{\"fillmode\":\"overlay\",\"size\":10,\"solidity\":0.2},\"type\":\"scatter\"}],\"parcoords\":[{\"type\":\"parcoords\",\"line\":{\"colorbar\":{\"outlinewidth\":0,\"ticks\":\"\"}}}],\"scatterpolargl\":[{\"type\":\"scatterpolargl\",\"marker\":{\"colorbar\":{\"outlinewidth\":0,\"ticks\":\"\"}}}],\"bar\":[{\"error_x\":{\"color\":\"#2a3f5f\"},\"error_y\":{\"color\":\"#2a3f5f\"},\"marker\":{\"line\":{\"color\":\"#E5ECF6\",\"width\":0.5},\"pattern\":{\"fillmode\":\"overlay\",\"size\":10,\"solidity\":0.2}},\"type\":\"bar\"}],\"scattergeo\":[{\"type\":\"scattergeo\",\"marker\":{\"colorbar\":{\"outlinewidth\":0,\"ticks\":\"\"}}}],\"scatterpolar\":[{\"type\":\"scatterpolar\",\"marker\":{\"colorbar\":{\"outlinewidth\":0,\"ticks\":\"\"}}}],\"histogram\":[{\"marker\":{\"pattern\":{\"fillmode\":\"overlay\",\"size\":10,\"solidity\":0.2}},\"type\":\"histogram\"}],\"scattergl\":[{\"type\":\"scattergl\",\"marker\":{\"colorbar\":{\"outlinewidth\":0,\"ticks\":\"\"}}}],\"scatter3d\":[{\"type\":\"scatter3d\",\"line\":{\"colorbar\":{\"outlinewidth\":0,\"ticks\":\"\"}},\"marker\":{\"colorbar\":{\"outlinewidth\":0,\"ticks\":\"\"}}}],\"scattermap\":[{\"type\":\"scattermap\",\"marker\":{\"colorbar\":{\"outlinewidth\":0,\"ticks\":\"\"}}}],\"scattermapbox\":[{\"type\":\"scattermapbox\",\"marker\":{\"colorbar\":{\"outlinewidth\":0,\"ticks\":\"\"}}}],\"scatterternary\":[{\"type\":\"scatterternary\",\"marker\":{\"colorbar\":{\"outlinewidth\":0,\"ticks\":\"\"}}}],\"scattercarpet\":[{\"type\":\"scattercarpet\",\"marker\":{\"colorbar\":{\"outlinewidth\":0,\"ticks\":\"\"}}}],\"carpet\":[{\"aaxis\":{\"endlinecolor\":\"#2a3f5f\",\"gridcolor\":\"white\",\"linecolor\":\"white\",\"minorgridcolor\":\"white\",\"startlinecolor\":\"#2a3f5f\"},\"baxis\":{\"endlinecolor\":\"#2a3f5f\",\"gridcolor\":\"white\",\"linecolor\":\"white\",\"minorgridcolor\":\"white\",\"startlinecolor\":\"#2a3f5f\"},\"type\":\"carpet\"}],\"table\":[{\"cells\":{\"fill\":{\"color\":\"#EBF0F8\"},\"line\":{\"color\":\"white\"}},\"header\":{\"fill\":{\"color\":\"#C8D4E3\"},\"line\":{\"color\":\"white\"}},\"type\":\"table\"}],\"barpolar\":[{\"marker\":{\"line\":{\"color\":\"#E5ECF6\",\"width\":0.5},\"pattern\":{\"fillmode\":\"overlay\",\"size\":10,\"solidity\":0.2}},\"type\":\"barpolar\"}],\"pie\":[{\"automargin\":true,\"type\":\"pie\"}]},\"layout\":{\"autotypenumbers\":\"strict\",\"colorway\":[\"#636efa\",\"#EF553B\",\"#00cc96\",\"#ab63fa\",\"#FFA15A\",\"#19d3f3\",\"#FF6692\",\"#B6E880\",\"#FF97FF\",\"#FECB52\"],\"font\":{\"color\":\"#2a3f5f\"},\"hovermode\":\"closest\",\"hoverlabel\":{\"align\":\"left\"},\"paper_bgcolor\":\"white\",\"plot_bgcolor\":\"#E5ECF6\",\"polar\":{\"bgcolor\":\"#E5ECF6\",\"angularaxis\":{\"gridcolor\":\"white\",\"linecolor\":\"white\",\"ticks\":\"\"},\"radialaxis\":{\"gridcolor\":\"white\",\"linecolor\":\"white\",\"ticks\":\"\"}},\"ternary\":{\"bgcolor\":\"#E5ECF6\",\"aaxis\":{\"gridcolor\":\"white\",\"linecolor\":\"white\",\"ticks\":\"\"},\"baxis\":{\"gridcolor\":\"white\",\"linecolor\":\"white\",\"ticks\":\"\"},\"caxis\":{\"gridcolor\":\"white\",\"linecolor\":\"white\",\"ticks\":\"\"}},\"coloraxis\":{\"colorbar\":{\"outlinewidth\":0,\"ticks\":\"\"}},\"colorscale\":{\"sequential\":[[0.0,\"#0d0887\"],[0.1111111111111111,\"#46039f\"],[0.2222222222222222,\"#7201a8\"],[0.3333333333333333,\"#9c179e\"],[0.4444444444444444,\"#bd3786\"],[0.5555555555555556,\"#d8576b\"],[0.6666666666666666,\"#ed7953\"],[0.7777777777777778,\"#fb9f3a\"],[0.8888888888888888,\"#fdca26\"],[1.0,\"#f0f921\"]],\"sequentialminus\":[[0.0,\"#0d0887\"],[0.1111111111111111,\"#46039f\"],[0.2222222222222222,\"#7201a8\"],[0.3333333333333333,\"#9c179e\"],[0.4444444444444444,\"#bd3786\"],[0.5555555555555556,\"#d8576b\"],[0.6666666666666666,\"#ed7953\"],[0.7777777777777778,\"#fb9f3a\"],[0.8888888888888888,\"#fdca26\"],[1.0,\"#f0f921\"]],\"diverging\":[[0,\"#8e0152\"],[0.1,\"#c51b7d\"],[0.2,\"#de77ae\"],[0.3,\"#f1b6da\"],[0.4,\"#fde0ef\"],[0.5,\"#f7f7f7\"],[0.6,\"#e6f5d0\"],[0.7,\"#b8e186\"],[0.8,\"#7fbc41\"],[0.9,\"#4d9221\"],[1,\"#276419\"]]},\"xaxis\":{\"gridcolor\":\"white\",\"linecolor\":\"white\",\"ticks\":\"\",\"title\":{\"standoff\":15},\"zerolinecolor\":\"white\",\"automargin\":true,\"zerolinewidth\":2},\"yaxis\":{\"gridcolor\":\"white\",\"linecolor\":\"white\",\"ticks\":\"\",\"title\":{\"standoff\":15},\"zerolinecolor\":\"white\",\"automargin\":true,\"zerolinewidth\":2},\"scene\":{\"xaxis\":{\"backgroundcolor\":\"#E5ECF6\",\"gridcolor\":\"white\",\"linecolor\":\"white\",\"showbackground\":true,\"ticks\":\"\",\"zerolinecolor\":\"white\",\"gridwidth\":2},\"yaxis\":{\"backgroundcolor\":\"#E5ECF6\",\"gridcolor\":\"white\",\"linecolor\":\"white\",\"showbackground\":true,\"ticks\":\"\",\"zerolinecolor\":\"white\",\"gridwidth\":2},\"zaxis\":{\"backgroundcolor\":\"#E5ECF6\",\"gridcolor\":\"white\",\"linecolor\":\"white\",\"showbackground\":true,\"ticks\":\"\",\"zerolinecolor\":\"white\",\"gridwidth\":2}},\"shapedefaults\":{\"line\":{\"color\":\"#2a3f5f\"}},\"annotationdefaults\":{\"arrowcolor\":\"#2a3f5f\",\"arrowhead\":0,\"arrowwidth\":1},\"geo\":{\"bgcolor\":\"white\",\"landcolor\":\"#E5ECF6\",\"subunitcolor\":\"white\",\"showland\":true,\"showlakes\":true,\"lakecolor\":\"white\"},\"title\":{\"x\":0.05},\"mapbox\":{\"style\":\"light\"}}},\"xaxis\":{\"anchor\":\"y\",\"domain\":[0.0,1.0],\"title\":{\"text\":\"Happiness Group\"},\"categoryorder\":\"array\",\"categoryarray\":[\"High score of happiness\",\"Middle score of happiness\",\"Low score of happiness\"],\"tickfont\":{\"weight\":\"bold\",\"size\":12}},\"yaxis\":{\"anchor\":\"x\",\"domain\":[0.0,1.0],\"title\":{\"text\":\"Freedom Score\"},\"tickfont\":{\"weight\":\"bold\",\"size\":12}},\"legend\":{\"title\":{\"text\":\"Group\"},\"tracegroupgap\":0},\"margin\":{\"t\":60},\"violinmode\":\"overlay\",\"title\":{\"font\":{\"size\":24,\"weight\":\"bold\"},\"text\":\"2018\",\"x\":0.5},\"showlegend\":false},                        {\"responsive\": true}                    ).then(function(){\n",
       "                            \n",
       "var gd = document.getElementById('23c1e327-35ac-4c0c-a53f-65ccc569f9d8');\n",
       "var x = new MutationObserver(function (mutations, observer) {{\n",
       "        var display = window.getComputedStyle(gd).display;\n",
       "        if (!display || display === 'none') {{\n",
       "            console.log([gd, 'removed!']);\n",
       "            Plotly.purge(gd);\n",
       "            observer.disconnect();\n",
       "        }}\n",
       "}});\n",
       "\n",
       "// Listen for the removal of the full notebook cells\n",
       "var notebookContainer = gd.closest('#notebook-container');\n",
       "if (notebookContainer) {{\n",
       "    x.observe(notebookContainer, {childList: true});\n",
       "}}\n",
       "\n",
       "// Listen for the clearing of the current output cell\n",
       "var outputEl = gd.closest('.output');\n",
       "if (outputEl) {{\n",
       "    x.observe(outputEl, {childList: true});\n",
       "}}\n",
       "\n",
       "                        })                };            </script>        </div>\n",
       "</body>\n",
       "</html>"
      ]
     },
     "metadata": {},
     "output_type": "display_data"
    }
   ],
   "source": [
    "fig = px.violin(\n",
    "    df_2018,\n",
    "    x='Group',\n",
    "    y='Freedom to make life choices',\n",
    "    color='Group', \n",
    "    box=True, # Show a box plot inside the violin\n",
    "    points='all')\n",
    "fig.update_xaxes(\n",
    "    tickfont_weight='bold',  # Make the numbers bold\n",
    "    tickfont_size=12)        # Adjust the font size\n",
    "fig.update_yaxes(\n",
    "    tickfont_weight='bold',  # Make the numbers bold\n",
    "    tickfont_size=12)\n",
    "fig.update_layout(title_font=dict(size=24, weight='bold'), showlegend=False,\n",
    "    title_text='2018',\n",
    "    title_x=0.5, # Center the title\n",
    "    xaxis_title='Happiness Group',\n",
    "    yaxis_title='Freedom Score' # Set the plot background to white\n",
    ")"
   ]
  },
  {
   "cell_type": "code",
   "execution_count": 451,
   "metadata": {},
   "outputs": [
    {
     "data": {
      "text/html": [
       "<html>\n",
       "<head><meta charset=\"utf-8\" /></head>\n",
       "<body>\n",
       "    <div>            <script src=\"https://cdnjs.cloudflare.com/ajax/libs/mathjax/2.7.5/MathJax.js?config=TeX-AMS-MML_SVG\"></script><script type=\"text/javascript\">if (window.MathJax && window.MathJax.Hub && window.MathJax.Hub.Config) {window.MathJax.Hub.Config({SVG: {font: \"STIX-Web\"}});}</script>                <script type=\"text/javascript\">window.PlotlyConfig = {MathJaxConfig: 'local'};</script>\n",
       "        <script charset=\"utf-8\" src=\"https://cdn.plot.ly/plotly-3.1.0.min.js\" integrity=\"sha256-Ei4740bWZhaUTQuD6q9yQlgVCMPBz6CZWhevDYPv93A=\" crossorigin=\"anonymous\"></script>                <div id=\"e93bc03d-39ee-4efb-92eb-ff5d7976a7ce\" class=\"plotly-graph-div\" style=\"height:525px; width:100%;\"></div>            <script type=\"text/javascript\">                window.PLOTLYENV=window.PLOTLYENV || {};                                if (document.getElementById(\"e93bc03d-39ee-4efb-92eb-ff5d7976a7ce\")) {                    Plotly.newPlot(                        \"e93bc03d-39ee-4efb-92eb-ff5d7976a7ce\",                        [{\"alignmentgroup\":\"True\",\"box\":{\"visible\":true},\"hovertemplate\":\"Group=%{x}\\u003cbr\\u003eFreedom to make life choices=%{y}\\u003cextra\\u003e\\u003c\\u002fextra\\u003e\",\"legendgroup\":\"High score of happiness\",\"marker\":{\"color\":\"#636efa\"},\"name\":\"High score of happiness\",\"offsetgroup\":\"High score of happiness\",\"orientation\":\"v\",\"points\":\"all\",\"scalegroup\":\"True\",\"showlegend\":true,\"x\":[\"High score of happiness\",\"High score of happiness\",\"High score of happiness\",\"High score of happiness\",\"High score of happiness\",\"High score of happiness\",\"High score of happiness\",\"High score of happiness\",\"High score of happiness\",\"High score of happiness\",\"High score of happiness\",\"High score of happiness\",\"High score of happiness\",\"High score of happiness\",\"High score of happiness\",\"High score of happiness\",\"High score of happiness\",\"High score of happiness\",\"High score of happiness\",\"High score of happiness\",\"High score of happiness\",\"High score of happiness\",\"High score of happiness\",\"High score of happiness\",\"High score of happiness\",\"High score of happiness\",\"High score of happiness\",\"High score of happiness\",\"High score of happiness\",\"High score of happiness\",\"High score of happiness\",\"High score of happiness\",\"High score of happiness\",\"High score of happiness\",\"High score of happiness\",\"High score of happiness\",\"High score of happiness\",\"High score of happiness\",\"High score of happiness\",\"High score of happiness\",\"High score of happiness\",\"High score of happiness\",\"High score of happiness\",\"High score of happiness\",\"High score of happiness\",\"High score of happiness\",\"High score of happiness\",\"High score of happiness\",\"High score of happiness\",\"High score of happiness\",\"High score of happiness\",\"High score of happiness\"],\"x0\":\" \",\"xaxis\":\"x\",\"y\":{\"dtype\":\"f8\",\"bdata\":\"WmQ730+N7z+PwvUoXI\\u002fuP99PjZduEu8\\u002fEFg5tMh27j+F61G4HoXrP7x0kxgEVu4\\u002fYhBYObTI7j+uR+F6FK7nP5huEoPAyu0\\u002fVOOlm8Qg7D8GgZVDi2zrP1pkO99Pjes\\u002fppvEILBy7D+kcD0K16PsP8uhRbbz\\u002few\\u002fEFg5tMh25j8xCKwcWmTrP2q8dJMYBOo\\u002fjZduEoPA7j8dWmQ730\\u002ftPxfZzvdT4+0\\u002f2\\u002fl+arx06z+BlUOLbOfrP8\\u002f3U+Olm+Q\\u002ffT81XrpJ8D9I4XoUrkfpP1K4HoXrUeg\\u002fnu+nxks37T\\u002f6fmq8dJPsPxfZzvdT4+0\\u002fJQaBlUOL6D9I4XoUrkftPy2yne+nxuc\\u002fMQisHFpk6z+0yHa+nxrrP4\\u002fC9Shcj+o\\u002fj8L1KFyP7j+wcmiR7XznP3e+nxov3ew\\u002fUI2XbhKD5D\\u002fVeOkmMQjsP5HtfD81Xuo\\u002ff2q8dJMY7D\\u002fTTWIQWDnsPyGwcmiR7eg\\u002f\\u002ftR46SYx8D\\u002fJdr6fGi\\u002ftP2IQWDm0yOo\\u002fRIts5\\u002fup7T+6SQwCK4fmP3Noke18P+k\\u002fw\\u002fUoXI\\u002fC7T8=\"},\"y0\":\" \",\"yaxis\":\"y\",\"type\":\"violin\"},{\"alignmentgroup\":\"True\",\"box\":{\"visible\":true},\"hovertemplate\":\"Group=%{x}\\u003cbr\\u003eFreedom to make life choices=%{y}\\u003cextra\\u003e\\u003c\\u002fextra\\u003e\",\"legendgroup\":\"Middle score of happiness\",\"marker\":{\"color\":\"#EF553B\"},\"name\":\"Middle score of happiness\",\"offsetgroup\":\"Middle score of happiness\",\"orientation\":\"v\",\"points\":\"all\",\"scalegroup\":\"True\",\"showlegend\":true,\"x\":[\"Middle score of happiness\",\"Middle score of happiness\",\"Middle score of happiness\",\"Middle score of happiness\",\"Middle score of happiness\",\"Middle score of happiness\",\"Middle score of happiness\",\"Middle score of happiness\",\"Middle score of happiness\",\"Middle score of happiness\",\"Middle score of happiness\",\"Middle score of happiness\",\"Middle score of happiness\",\"Middle score of happiness\",\"Middle score of happiness\",\"Middle score of happiness\",\"Middle score of happiness\",\"Middle score of happiness\",\"Middle score of happiness\",\"Middle score of happiness\",\"Middle score of happiness\",\"Middle score of happiness\",\"Middle score of happiness\",\"Middle score of happiness\",\"Middle score of happiness\",\"Middle score of happiness\",\"Middle score of happiness\",\"Middle score of happiness\",\"Middle score of happiness\",\"Middle score of happiness\",\"Middle score of happiness\",\"Middle score of happiness\",\"Middle score of happiness\",\"Middle score of happiness\",\"Middle score of happiness\",\"Middle score of happiness\",\"Middle score of happiness\",\"Middle score of happiness\",\"Middle score of happiness\",\"Middle score of happiness\",\"Middle score of happiness\",\"Middle score of happiness\",\"Middle score of happiness\"],\"x0\":\" \",\"xaxis\":\"x\",\"y\":{\"dtype\":\"f8\",\"bdata\":\"3SQGgZVD7z9GtvP91HjtP6wcWmQ73+c\\u002fK4cW2c735z+28\\u002f3UeOnuPxkEVg4tsuU\\u002foBov3SQG7T9U46WbxCDsP3e+nxov3eg\\u002fYhBYObTI5j8v3SQGgZXrP4PAyqFFtu8\\u002fuB6F61G45j8QWDm0yHbmPy\\u002fdJAaBleM\\u002fppvEILBy6D+YbhKDwMrlP1K4HoXrUeg\\u002f+n5qvHST6D9kO99PjZfePwIrhxbZzus\\u002fvp8aL90k6j8xCKwcWmTvP4PAyqFFtus\\u002fVOOlm8Qg5D8nMQisHFroP166SQwCK+c\\u002fj8L1KFyP6j\\u002fy0k1iEFjZPxBYObTIduY\\u002fx0s3iUFg7T9OYhBYObTgPw4tsp3vp+Y\\u002f\\u002fKnx0k1i5D\\u002f0\\u002fdR46SbpP8UgsHJokeU\\u002ftvP91Hjp6j8AAAAAAAD4fzVeukkMAus\\u002fppvEILBy6D8dWmQ730\\u002ftPwisHFpkO88\\u002fbxKDwMqh5T8=\"},\"y0\":\" \",\"yaxis\":\"y\",\"type\":\"violin\"},{\"alignmentgroup\":\"True\",\"box\":{\"visible\":true},\"hovertemplate\":\"Group=%{x}\\u003cbr\\u003eFreedom to make life choices=%{y}\\u003cextra\\u003e\\u003c\\u002fextra\\u003e\",\"legendgroup\":\"Low score of happiness\",\"marker\":{\"color\":\"#00cc96\"},\"name\":\"Low score of happiness\",\"offsetgroup\":\"Low score of happiness\",\"orientation\":\"v\",\"points\":\"all\",\"scalegroup\":\"True\",\"showlegend\":true,\"x\":[\"Low score of happiness\",\"Low score of happiness\",\"Low score of happiness\",\"Low score of happiness\",\"Low score of happiness\",\"Low score of happiness\",\"Low score of happiness\",\"Low score of happiness\",\"Low score of happiness\",\"Low score of happiness\",\"Low score of happiness\",\"Low score of happiness\",\"Low score of happiness\",\"Low score of happiness\",\"Low score of happiness\",\"Low score of happiness\",\"Low score of happiness\",\"Low score of happiness\",\"Low score of happiness\",\"Low score of happiness\",\"Low score of happiness\",\"Low score of happiness\",\"Low score of happiness\",\"Low score of happiness\",\"Low score of happiness\",\"Low score of happiness\",\"Low score of happiness\",\"Low score of happiness\",\"Low score of happiness\",\"Low score of happiness\",\"Low score of happiness\",\"Low score of happiness\",\"Low score of happiness\",\"Low score of happiness\",\"Low score of happiness\",\"Low score of happiness\",\"Low score of happiness\",\"Low score of happiness\",\"Low score of happiness\",\"Low score of happiness\",\"Low score of happiness\",\"Low score of happiness\",\"Low score of happiness\",\"Low score of happiness\",\"Low score of happiness\",\"Low score of happiness\",\"Low score of happiness\",\"Low score of happiness\",\"Low score of happiness\",\"Low score of happiness\",\"Low score of happiness\",\"Low score of happiness\"],\"x0\":\" \",\"xaxis\":\"x\",\"y\":{\"dtype\":\"f8\",\"bdata\":\"arx0kxgE6j+iRbbz\\u002fdTkP\\u002fT91HjpJuU\\u002fyXa+nxov3T\\u002fVeOkmMQjkP39qvHSTGOA\\u002fbxKDwMqh5T8\\u002fNV66SQziP8l2vp8aL+U\\u002fppvEILBy5D8fhetRuB7pPyUGgZVDi+g\\u002fLbKd76fG4z8hsHJoke3gP30\\u002fNV66Seg\\u002fPzVeukkM5j9WDi2yne\\u002fnP6abxCCwctg\\u002fdZMYBFYO3T\\u002f4U+Olm8TkP9V46SYxCOg\\u002fWmQ730+N4z9zaJHtfD\\u002ftP7pJDAIrh94\\u002fRrbz\\u002fdR45T\\u002fufD81XrrlPx1aZDvfT+0\\u002fJQaBlUOL6D8EVg4tsp3vP3npJjEIrOg\\u002faJHtfD814j8730+Nl27iP2ZmZmZmZuY\\u002fTDeJQWDl5D\\u002fjpZvEILDSP4GVQ4ts5+s\\u002fSOF6FK5H4T8Sg8DKoUXmP3E9CtejcO0\\u002fYOXQItv54j\\u002fb+X5qvHTrPzEIrBxaZNs\\u002fMQisHFpk4z+kcD0K16PQP8\\u002f3U+Olm9w\\u002fMzMzMzMz4z\\u002fn+6nx0k3mP4lBYOXQIuM\\u002fRIts5\\u002fup5T9CYOXQItvRPwRWDi2yneM\\u002fAAAAAAAAAAA=\"},\"y0\":\" \",\"yaxis\":\"y\",\"type\":\"violin\"}],                        {\"template\":{\"data\":{\"histogram2dcontour\":[{\"type\":\"histogram2dcontour\",\"colorbar\":{\"outlinewidth\":0,\"ticks\":\"\"},\"colorscale\":[[0.0,\"#0d0887\"],[0.1111111111111111,\"#46039f\"],[0.2222222222222222,\"#7201a8\"],[0.3333333333333333,\"#9c179e\"],[0.4444444444444444,\"#bd3786\"],[0.5555555555555556,\"#d8576b\"],[0.6666666666666666,\"#ed7953\"],[0.7777777777777778,\"#fb9f3a\"],[0.8888888888888888,\"#fdca26\"],[1.0,\"#f0f921\"]]}],\"choropleth\":[{\"type\":\"choropleth\",\"colorbar\":{\"outlinewidth\":0,\"ticks\":\"\"}}],\"histogram2d\":[{\"type\":\"histogram2d\",\"colorbar\":{\"outlinewidth\":0,\"ticks\":\"\"},\"colorscale\":[[0.0,\"#0d0887\"],[0.1111111111111111,\"#46039f\"],[0.2222222222222222,\"#7201a8\"],[0.3333333333333333,\"#9c179e\"],[0.4444444444444444,\"#bd3786\"],[0.5555555555555556,\"#d8576b\"],[0.6666666666666666,\"#ed7953\"],[0.7777777777777778,\"#fb9f3a\"],[0.8888888888888888,\"#fdca26\"],[1.0,\"#f0f921\"]]}],\"heatmap\":[{\"type\":\"heatmap\",\"colorbar\":{\"outlinewidth\":0,\"ticks\":\"\"},\"colorscale\":[[0.0,\"#0d0887\"],[0.1111111111111111,\"#46039f\"],[0.2222222222222222,\"#7201a8\"],[0.3333333333333333,\"#9c179e\"],[0.4444444444444444,\"#bd3786\"],[0.5555555555555556,\"#d8576b\"],[0.6666666666666666,\"#ed7953\"],[0.7777777777777778,\"#fb9f3a\"],[0.8888888888888888,\"#fdca26\"],[1.0,\"#f0f921\"]]}],\"contourcarpet\":[{\"type\":\"contourcarpet\",\"colorbar\":{\"outlinewidth\":0,\"ticks\":\"\"}}],\"contour\":[{\"type\":\"contour\",\"colorbar\":{\"outlinewidth\":0,\"ticks\":\"\"},\"colorscale\":[[0.0,\"#0d0887\"],[0.1111111111111111,\"#46039f\"],[0.2222222222222222,\"#7201a8\"],[0.3333333333333333,\"#9c179e\"],[0.4444444444444444,\"#bd3786\"],[0.5555555555555556,\"#d8576b\"],[0.6666666666666666,\"#ed7953\"],[0.7777777777777778,\"#fb9f3a\"],[0.8888888888888888,\"#fdca26\"],[1.0,\"#f0f921\"]]}],\"surface\":[{\"type\":\"surface\",\"colorbar\":{\"outlinewidth\":0,\"ticks\":\"\"},\"colorscale\":[[0.0,\"#0d0887\"],[0.1111111111111111,\"#46039f\"],[0.2222222222222222,\"#7201a8\"],[0.3333333333333333,\"#9c179e\"],[0.4444444444444444,\"#bd3786\"],[0.5555555555555556,\"#d8576b\"],[0.6666666666666666,\"#ed7953\"],[0.7777777777777778,\"#fb9f3a\"],[0.8888888888888888,\"#fdca26\"],[1.0,\"#f0f921\"]]}],\"mesh3d\":[{\"type\":\"mesh3d\",\"colorbar\":{\"outlinewidth\":0,\"ticks\":\"\"}}],\"scatter\":[{\"fillpattern\":{\"fillmode\":\"overlay\",\"size\":10,\"solidity\":0.2},\"type\":\"scatter\"}],\"parcoords\":[{\"type\":\"parcoords\",\"line\":{\"colorbar\":{\"outlinewidth\":0,\"ticks\":\"\"}}}],\"scatterpolargl\":[{\"type\":\"scatterpolargl\",\"marker\":{\"colorbar\":{\"outlinewidth\":0,\"ticks\":\"\"}}}],\"bar\":[{\"error_x\":{\"color\":\"#2a3f5f\"},\"error_y\":{\"color\":\"#2a3f5f\"},\"marker\":{\"line\":{\"color\":\"#E5ECF6\",\"width\":0.5},\"pattern\":{\"fillmode\":\"overlay\",\"size\":10,\"solidity\":0.2}},\"type\":\"bar\"}],\"scattergeo\":[{\"type\":\"scattergeo\",\"marker\":{\"colorbar\":{\"outlinewidth\":0,\"ticks\":\"\"}}}],\"scatterpolar\":[{\"type\":\"scatterpolar\",\"marker\":{\"colorbar\":{\"outlinewidth\":0,\"ticks\":\"\"}}}],\"histogram\":[{\"marker\":{\"pattern\":{\"fillmode\":\"overlay\",\"size\":10,\"solidity\":0.2}},\"type\":\"histogram\"}],\"scattergl\":[{\"type\":\"scattergl\",\"marker\":{\"colorbar\":{\"outlinewidth\":0,\"ticks\":\"\"}}}],\"scatter3d\":[{\"type\":\"scatter3d\",\"line\":{\"colorbar\":{\"outlinewidth\":0,\"ticks\":\"\"}},\"marker\":{\"colorbar\":{\"outlinewidth\":0,\"ticks\":\"\"}}}],\"scattermap\":[{\"type\":\"scattermap\",\"marker\":{\"colorbar\":{\"outlinewidth\":0,\"ticks\":\"\"}}}],\"scattermapbox\":[{\"type\":\"scattermapbox\",\"marker\":{\"colorbar\":{\"outlinewidth\":0,\"ticks\":\"\"}}}],\"scatterternary\":[{\"type\":\"scatterternary\",\"marker\":{\"colorbar\":{\"outlinewidth\":0,\"ticks\":\"\"}}}],\"scattercarpet\":[{\"type\":\"scattercarpet\",\"marker\":{\"colorbar\":{\"outlinewidth\":0,\"ticks\":\"\"}}}],\"carpet\":[{\"aaxis\":{\"endlinecolor\":\"#2a3f5f\",\"gridcolor\":\"white\",\"linecolor\":\"white\",\"minorgridcolor\":\"white\",\"startlinecolor\":\"#2a3f5f\"},\"baxis\":{\"endlinecolor\":\"#2a3f5f\",\"gridcolor\":\"white\",\"linecolor\":\"white\",\"minorgridcolor\":\"white\",\"startlinecolor\":\"#2a3f5f\"},\"type\":\"carpet\"}],\"table\":[{\"cells\":{\"fill\":{\"color\":\"#EBF0F8\"},\"line\":{\"color\":\"white\"}},\"header\":{\"fill\":{\"color\":\"#C8D4E3\"},\"line\":{\"color\":\"white\"}},\"type\":\"table\"}],\"barpolar\":[{\"marker\":{\"line\":{\"color\":\"#E5ECF6\",\"width\":0.5},\"pattern\":{\"fillmode\":\"overlay\",\"size\":10,\"solidity\":0.2}},\"type\":\"barpolar\"}],\"pie\":[{\"automargin\":true,\"type\":\"pie\"}]},\"layout\":{\"autotypenumbers\":\"strict\",\"colorway\":[\"#636efa\",\"#EF553B\",\"#00cc96\",\"#ab63fa\",\"#FFA15A\",\"#19d3f3\",\"#FF6692\",\"#B6E880\",\"#FF97FF\",\"#FECB52\"],\"font\":{\"color\":\"#2a3f5f\"},\"hovermode\":\"closest\",\"hoverlabel\":{\"align\":\"left\"},\"paper_bgcolor\":\"white\",\"plot_bgcolor\":\"#E5ECF6\",\"polar\":{\"bgcolor\":\"#E5ECF6\",\"angularaxis\":{\"gridcolor\":\"white\",\"linecolor\":\"white\",\"ticks\":\"\"},\"radialaxis\":{\"gridcolor\":\"white\",\"linecolor\":\"white\",\"ticks\":\"\"}},\"ternary\":{\"bgcolor\":\"#E5ECF6\",\"aaxis\":{\"gridcolor\":\"white\",\"linecolor\":\"white\",\"ticks\":\"\"},\"baxis\":{\"gridcolor\":\"white\",\"linecolor\":\"white\",\"ticks\":\"\"},\"caxis\":{\"gridcolor\":\"white\",\"linecolor\":\"white\",\"ticks\":\"\"}},\"coloraxis\":{\"colorbar\":{\"outlinewidth\":0,\"ticks\":\"\"}},\"colorscale\":{\"sequential\":[[0.0,\"#0d0887\"],[0.1111111111111111,\"#46039f\"],[0.2222222222222222,\"#7201a8\"],[0.3333333333333333,\"#9c179e\"],[0.4444444444444444,\"#bd3786\"],[0.5555555555555556,\"#d8576b\"],[0.6666666666666666,\"#ed7953\"],[0.7777777777777778,\"#fb9f3a\"],[0.8888888888888888,\"#fdca26\"],[1.0,\"#f0f921\"]],\"sequentialminus\":[[0.0,\"#0d0887\"],[0.1111111111111111,\"#46039f\"],[0.2222222222222222,\"#7201a8\"],[0.3333333333333333,\"#9c179e\"],[0.4444444444444444,\"#bd3786\"],[0.5555555555555556,\"#d8576b\"],[0.6666666666666666,\"#ed7953\"],[0.7777777777777778,\"#fb9f3a\"],[0.8888888888888888,\"#fdca26\"],[1.0,\"#f0f921\"]],\"diverging\":[[0,\"#8e0152\"],[0.1,\"#c51b7d\"],[0.2,\"#de77ae\"],[0.3,\"#f1b6da\"],[0.4,\"#fde0ef\"],[0.5,\"#f7f7f7\"],[0.6,\"#e6f5d0\"],[0.7,\"#b8e186\"],[0.8,\"#7fbc41\"],[0.9,\"#4d9221\"],[1,\"#276419\"]]},\"xaxis\":{\"gridcolor\":\"white\",\"linecolor\":\"white\",\"ticks\":\"\",\"title\":{\"standoff\":15},\"zerolinecolor\":\"white\",\"automargin\":true,\"zerolinewidth\":2},\"yaxis\":{\"gridcolor\":\"white\",\"linecolor\":\"white\",\"ticks\":\"\",\"title\":{\"standoff\":15},\"zerolinecolor\":\"white\",\"automargin\":true,\"zerolinewidth\":2},\"scene\":{\"xaxis\":{\"backgroundcolor\":\"#E5ECF6\",\"gridcolor\":\"white\",\"linecolor\":\"white\",\"showbackground\":true,\"ticks\":\"\",\"zerolinecolor\":\"white\",\"gridwidth\":2},\"yaxis\":{\"backgroundcolor\":\"#E5ECF6\",\"gridcolor\":\"white\",\"linecolor\":\"white\",\"showbackground\":true,\"ticks\":\"\",\"zerolinecolor\":\"white\",\"gridwidth\":2},\"zaxis\":{\"backgroundcolor\":\"#E5ECF6\",\"gridcolor\":\"white\",\"linecolor\":\"white\",\"showbackground\":true,\"ticks\":\"\",\"zerolinecolor\":\"white\",\"gridwidth\":2}},\"shapedefaults\":{\"line\":{\"color\":\"#2a3f5f\"}},\"annotationdefaults\":{\"arrowcolor\":\"#2a3f5f\",\"arrowhead\":0,\"arrowwidth\":1},\"geo\":{\"bgcolor\":\"white\",\"landcolor\":\"#E5ECF6\",\"subunitcolor\":\"white\",\"showland\":true,\"showlakes\":true,\"lakecolor\":\"white\"},\"title\":{\"x\":0.05},\"mapbox\":{\"style\":\"light\"}}},\"xaxis\":{\"anchor\":\"y\",\"domain\":[0.0,1.0],\"title\":{\"text\":\"Happiness Group\"},\"categoryorder\":\"array\",\"categoryarray\":[\"High score of happiness\",\"Middle score of happiness\",\"Low score of happiness\"],\"tickfont\":{\"weight\":\"bold\",\"size\":12}},\"yaxis\":{\"anchor\":\"x\",\"domain\":[0.0,1.0],\"title\":{\"text\":\"Freedom Score\"},\"tickfont\":{\"weight\":\"bold\",\"size\":12}},\"legend\":{\"title\":{\"text\":\"Group\"},\"tracegroupgap\":0},\"margin\":{\"t\":60},\"violinmode\":\"overlay\",\"title\":{\"font\":{\"size\":24,\"weight\":\"bold\"},\"text\":\"2024\",\"x\":0.5},\"showlegend\":false},                        {\"responsive\": true}                    ).then(function(){\n",
       "                            \n",
       "var gd = document.getElementById('e93bc03d-39ee-4efb-92eb-ff5d7976a7ce');\n",
       "var x = new MutationObserver(function (mutations, observer) {{\n",
       "        var display = window.getComputedStyle(gd).display;\n",
       "        if (!display || display === 'none') {{\n",
       "            console.log([gd, 'removed!']);\n",
       "            Plotly.purge(gd);\n",
       "            observer.disconnect();\n",
       "        }}\n",
       "}});\n",
       "\n",
       "// Listen for the removal of the full notebook cells\n",
       "var notebookContainer = gd.closest('#notebook-container');\n",
       "if (notebookContainer) {{\n",
       "    x.observe(notebookContainer, {childList: true});\n",
       "}}\n",
       "\n",
       "// Listen for the clearing of the current output cell\n",
       "var outputEl = gd.closest('.output');\n",
       "if (outputEl) {{\n",
       "    x.observe(outputEl, {childList: true});\n",
       "}}\n",
       "\n",
       "                        })                };            </script>        </div>\n",
       "</body>\n",
       "</html>"
      ]
     },
     "metadata": {},
     "output_type": "display_data"
    }
   ],
   "source": [
    "fig = px.violin(\n",
    "    df_2024,\n",
    "    x='Group',\n",
    "    y='Freedom to make life choices',\n",
    "    color='Group',\n",
    "    box=True, # Show a box plot inside the violin\n",
    "    points='all')\n",
    "fig.update_xaxes(\n",
    "    tickfont_weight='bold',  # Make the numbers bold\n",
    "    tickfont_size=12)        # Adjust the font size\n",
    "fig.update_yaxes(\n",
    "    tickfont_weight='bold',  # Make the numbers bold\n",
    "    tickfont_size=12)\n",
    "fig.update_layout(title_font=dict(size=24, weight='bold'), showlegend=False,\n",
    "    title_text='2024',\n",
    "    title_x=0.5, # Center the title\n",
    "    xaxis_title='Happiness Group',\n",
    "    yaxis_title='Freedom Score' # Set the plot background to white\n",
    ")"
   ]
  },
  {
   "cell_type": "code",
   "execution_count": 452,
   "metadata": {},
   "outputs": [
    {
     "data": {
      "text/html": [
       "<html>\n",
       "<head><meta charset=\"utf-8\" /></head>\n",
       "<body>\n",
       "    <div>            <script src=\"https://cdnjs.cloudflare.com/ajax/libs/mathjax/2.7.5/MathJax.js?config=TeX-AMS-MML_SVG\"></script><script type=\"text/javascript\">if (window.MathJax && window.MathJax.Hub && window.MathJax.Hub.Config) {window.MathJax.Hub.Config({SVG: {font: \"STIX-Web\"}});}</script>                <script type=\"text/javascript\">window.PlotlyConfig = {MathJaxConfig: 'local'};</script>\n",
       "        <script charset=\"utf-8\" src=\"https://cdn.plot.ly/plotly-3.1.0.min.js\" integrity=\"sha256-Ei4740bWZhaUTQuD6q9yQlgVCMPBz6CZWhevDYPv93A=\" crossorigin=\"anonymous\"></script>                <div id=\"2b80979a-64a0-49c9-bfb2-3d74e55f680e\" class=\"plotly-graph-div\" style=\"height:525px; width:100%;\"></div>            <script type=\"text/javascript\">                window.PLOTLYENV=window.PLOTLYENV || {};                                if (document.getElementById(\"2b80979a-64a0-49c9-bfb2-3d74e55f680e\")) {                    Plotly.newPlot(                        \"2b80979a-64a0-49c9-bfb2-3d74e55f680e\",                        [{\"alignmentgroup\":\"True\",\"boxpoints\":\"all\",\"hovertemplate\":\"Group=%{x}\\u003cbr\\u003ePerceptions of corruption=%{y}\\u003cextra\\u003e\\u003c\\u002fextra\\u003e\",\"legendgroup\":\"High score of happiness\",\"marker\":{\"color\":\"#636efa\"},\"name\":\"High score of happiness\",\"notched\":false,\"offsetgroup\":\"High score of happiness\",\"orientation\":\"v\",\"showlegend\":true,\"x\":[\"High score of happiness\",\"High score of happiness\",\"High score of happiness\",\"High score of happiness\",\"High score of happiness\",\"High score of happiness\",\"High score of happiness\",\"High score of happiness\",\"High score of happiness\",\"High score of happiness\",\"High score of happiness\",\"High score of happiness\",\"High score of happiness\",\"High score of happiness\",\"High score of happiness\",\"High score of happiness\",\"High score of happiness\",\"High score of happiness\",\"High score of happiness\",\"High score of happiness\",\"High score of happiness\",\"High score of happiness\",\"High score of happiness\",\"High score of happiness\",\"High score of happiness\",\"High score of happiness\",\"High score of happiness\",\"High score of happiness\",\"High score of happiness\",\"High score of happiness\",\"High score of happiness\",\"High score of happiness\",\"High score of happiness\",\"High score of happiness\",\"High score of happiness\",\"High score of happiness\",\"High score of happiness\",\"High score of happiness\",\"High score of happiness\",\"High score of happiness\",\"High score of happiness\",\"High score of happiness\",\"High score of happiness\",\"High score of happiness\",\"High score of happiness\",\"High score of happiness\",\"High score of happiness\",\"High score of happiness\",\"High score of happiness\",\"High score of happiness\",\"High score of happiness\",\"High score of happiness\"],\"x0\":\" \",\"xaxis\":\"x\",\"y\":{\"dtype\":\"f8\",\"bdata\":\"qvHSTWIQ4D8IrBxaZDvfP76fGi\\u002fdJMY\\u002fF9nO91Pj3T9qvHSTGATWP2iR7Xw\\u002fNb4\\u002fMzMzMzMz2z9OYhBYObTIP5zEILByaNk\\u002faJHtfD81vj89CtejcD3SP9v5fmq8dNs\\u002fwcqhRbbz3T8v3SQGgZXTP6abxCCwctg\\u002fsHJoke18vz\\u002fsUbgehevRP3npJjEIrNQ\\u002fIbByaJHtvD8bL90kBoG1PxSuR+F6FM4\\u002fEFg5tMh21j8nMQisHFrUP8\\u002f3U+Olm8Q\\u002fy6FFtvP9tD9vEoPAyqHFP1YOLbKd78c\\u002fnu+nxks3yT8Sg8DKoUW2P8dLN4lBYMU\\u002fMQisHFpkuz9WDi2yne\\u002fHP0w3iUFg5dA\\u002fTmIQWDm04D+4HoXrUbiOP6jGSzeJQcA\\u002fTDeJQWDl0D8K16NwPQrHP\\u002f7UeOkmMdg\\u002fkxgEVg4tsj8bL90kBoGlP3Noke18P7U\\u002faJHtfD81vj\\u002fD9Shcj8K1P8P1KFyPwrU\\u002fEoPAyqFFxj\\u002fy0k1iEFjRP3E9CtejcL0\\u002fK4cW2c73oz\\u002fsUbgeheuxP8uhRbbz\\u002fbQ\\u002fAAAAAAAA+H8=\"},\"y0\":\" \",\"yaxis\":\"y\",\"type\":\"box\"},{\"alignmentgroup\":\"True\",\"boxpoints\":\"all\",\"hovertemplate\":\"Group=%{x}\\u003cbr\\u003ePerceptions of corruption=%{y}\\u003cextra\\u003e\\u003c\\u002fextra\\u003e\",\"legendgroup\":\"Middle score of happiness\",\"marker\":{\"color\":\"#EF553B\"},\"name\":\"Middle score of happiness\",\"notched\":false,\"offsetgroup\":\"Middle score of happiness\",\"orientation\":\"v\",\"showlegend\":true,\"x\":[\"Middle score of happiness\",\"Middle score of happiness\",\"Middle score of happiness\",\"Middle score of happiness\",\"Middle score of happiness\",\"Middle score of happiness\",\"Middle score of happiness\",\"Middle score of happiness\",\"Middle score of happiness\",\"Middle score of happiness\",\"Middle score of happiness\",\"Middle score of happiness\",\"Middle score of happiness\",\"Middle score of happiness\",\"Middle score of happiness\",\"Middle score of happiness\",\"Middle score of happiness\",\"Middle score of happiness\",\"Middle score of happiness\",\"Middle score of happiness\",\"Middle score of happiness\",\"Middle score of happiness\",\"Middle score of happiness\",\"Middle score of happiness\",\"Middle score of happiness\",\"Middle score of happiness\",\"Middle score of happiness\",\"Middle score of happiness\",\"Middle score of happiness\",\"Middle score of happiness\",\"Middle score of happiness\",\"Middle score of happiness\",\"Middle score of happiness\",\"Middle score of happiness\",\"Middle score of happiness\",\"Middle score of happiness\",\"Middle score of happiness\",\"Middle score of happiness\",\"Middle score of happiness\",\"Middle score of happiness\",\"Middle score of happiness\",\"Middle score of happiness\",\"Middle score of happiness\"],\"x0\":\" \",\"xaxis\":\"x\",\"y\":{\"dtype\":\"f8\",\"bdata\":\"ObTIdr6fyj9U46WbxCCwP5qZmZmZmck\\u002fO99PjZdugj8pXI\\u002fC9Si8P5huEoPAysE\\u002fx0s3iUFgxT+cxCCwcmihP+kmMQisHKo\\u002fTDeJQWDlsD\\u002fTTWIQWDm0Pylcj8L1KLw\\u002fGy\\u002fdJAaBlT8AAAAAAADAP8uhRbbz\\u002faQ\\u002fg8DKoUW2wz\\u002fJdr6fGi+tP\\u002fyp8dJNYlA\\u002fRIts5\\u002fupwT+kcD0K16OwP9v5fmq8dJM\\u002fObTIdr6fqj+JQWDl0CKrPwIrhxbZzsc\\u002fiUFg5dAiqz+kcD0K16PAPzEIrBxaZMs\\u002fi2zn+6nxoj9U46WbxCCwP8HKoUW2870\\u002fukkMAiuHpj\\u002fVeOkmMQjMPwAAAAAAAAAAeekmMQisfD\\u002fTTWIQWDnEP05iEFg5tNg\\u002fyXa+nxovrT8X2c73U+PVP2q8dJMYBMY\\u002f8tJNYhBYuT\\u002fLoUW28\\u002f3EPzm0yHa+n7o\\u002farx0kxgEpj8=\"},\"y0\":\" \",\"yaxis\":\"y\",\"type\":\"box\"},{\"alignmentgroup\":\"True\",\"boxpoints\":\"all\",\"hovertemplate\":\"Group=%{x}\\u003cbr\\u003ePerceptions of corruption=%{y}\\u003cextra\\u003e\\u003c\\u002fextra\\u003e\",\"legendgroup\":\"Low score of happiness\",\"marker\":{\"color\":\"#00cc96\"},\"name\":\"Low score of happiness\",\"notched\":false,\"offsetgroup\":\"Low score of happiness\",\"orientation\":\"v\",\"showlegend\":true,\"x\":[\"Low score of happiness\",\"Low score of happiness\",\"Low score of happiness\",\"Low score of happiness\",\"Low score of happiness\",\"Low score of happiness\",\"Low score of happiness\",\"Low score of happiness\",\"Low score of happiness\",\"Low score of happiness\",\"Low score of happiness\",\"Low score of happiness\",\"Low score of happiness\",\"Low score of happiness\",\"Low score of happiness\",\"Low score of happiness\",\"Low score of happiness\",\"Low score of happiness\",\"Low score of happiness\",\"Low score of happiness\",\"Low score of happiness\",\"Low score of happiness\",\"Low score of happiness\",\"Low score of happiness\",\"Low score of happiness\",\"Low score of happiness\",\"Low score of happiness\",\"Low score of happiness\",\"Low score of happiness\",\"Low score of happiness\",\"Low score of happiness\",\"Low score of happiness\",\"Low score of happiness\",\"Low score of happiness\",\"Low score of happiness\",\"Low score of happiness\",\"Low score of happiness\",\"Low score of happiness\",\"Low score of happiness\",\"Low score of happiness\",\"Low score of happiness\",\"Low score of happiness\",\"Low score of happiness\",\"Low score of happiness\",\"Low score of happiness\",\"Low score of happiness\",\"Low score of happiness\",\"Low score of happiness\",\"Low score of happiness\",\"Low score of happiness\",\"Low score of happiness\",\"Low score of happiness\"],\"x0\":\" \",\"xaxis\":\"x\",\"y\":{\"dtype\":\"f8\",\"bdata\":\"vp8aL90kxj9qvHSTGAS2PyPb+X5qvMQ\\u002fCKwcWmQ7vz9U46WbxCDAP0SLbOf7qbE\\u002fSgwCK4cWuT956SYxCKysP7gehetRuK4\\u002feekmMQisnD+28\\u002f3UeOnGPwrXo3A9Crc\\u002fI9v5fmq8tD9aZDvfT42nP\\u002fCnxks3icE\\u002fWmQ730+Nlz9SuB6F61G4P5qZmZmZmak\\u002f9ihcj8L1yD\\u002fjpZvEILCyP5qZmZmZmak\\u002fCtejcD0Kpz+4HoXrUbi+P9Ei2\\u002fl+arw\\u002fgZVDi2znyz8QWDm0yHbOP\\u002fp+arx0k8g\\u002fyXa+nxovvT8rhxbZzvezP5qZmZmZmZk\\u002fd76fGi\\u002fdxD8v3SQGgZXDP8uhRbbz\\u002fcQ\\u002fnMQgsHJosT9oke18PzW+PzEIrBxaZLs\\u002fmpmZmZmZuT+amZmZmZmZP0w3iUFg5cA\\u002fke18PzVeuj+0yHa+nxrPP6RwPQrXo8A\\u002fO99PjZdusj\\u002fLoUW28\\u002f3EP4lBYOXQIrs\\u002fCKwcWmQ7rz9zaJHtfD+1P\\u002fhT46WbxMA\\u002fnMQgsHJowT\\u002fLoUW28\\u002f2kPzm0yHa+n6o\\u002fSOF6FK5HwT8=\"},\"y0\":\" \",\"yaxis\":\"y\",\"type\":\"box\"}],                        {\"template\":{\"data\":{\"histogram2dcontour\":[{\"type\":\"histogram2dcontour\",\"colorbar\":{\"outlinewidth\":0,\"ticks\":\"\"},\"colorscale\":[[0.0,\"#0d0887\"],[0.1111111111111111,\"#46039f\"],[0.2222222222222222,\"#7201a8\"],[0.3333333333333333,\"#9c179e\"],[0.4444444444444444,\"#bd3786\"],[0.5555555555555556,\"#d8576b\"],[0.6666666666666666,\"#ed7953\"],[0.7777777777777778,\"#fb9f3a\"],[0.8888888888888888,\"#fdca26\"],[1.0,\"#f0f921\"]]}],\"choropleth\":[{\"type\":\"choropleth\",\"colorbar\":{\"outlinewidth\":0,\"ticks\":\"\"}}],\"histogram2d\":[{\"type\":\"histogram2d\",\"colorbar\":{\"outlinewidth\":0,\"ticks\":\"\"},\"colorscale\":[[0.0,\"#0d0887\"],[0.1111111111111111,\"#46039f\"],[0.2222222222222222,\"#7201a8\"],[0.3333333333333333,\"#9c179e\"],[0.4444444444444444,\"#bd3786\"],[0.5555555555555556,\"#d8576b\"],[0.6666666666666666,\"#ed7953\"],[0.7777777777777778,\"#fb9f3a\"],[0.8888888888888888,\"#fdca26\"],[1.0,\"#f0f921\"]]}],\"heatmap\":[{\"type\":\"heatmap\",\"colorbar\":{\"outlinewidth\":0,\"ticks\":\"\"},\"colorscale\":[[0.0,\"#0d0887\"],[0.1111111111111111,\"#46039f\"],[0.2222222222222222,\"#7201a8\"],[0.3333333333333333,\"#9c179e\"],[0.4444444444444444,\"#bd3786\"],[0.5555555555555556,\"#d8576b\"],[0.6666666666666666,\"#ed7953\"],[0.7777777777777778,\"#fb9f3a\"],[0.8888888888888888,\"#fdca26\"],[1.0,\"#f0f921\"]]}],\"contourcarpet\":[{\"type\":\"contourcarpet\",\"colorbar\":{\"outlinewidth\":0,\"ticks\":\"\"}}],\"contour\":[{\"type\":\"contour\",\"colorbar\":{\"outlinewidth\":0,\"ticks\":\"\"},\"colorscale\":[[0.0,\"#0d0887\"],[0.1111111111111111,\"#46039f\"],[0.2222222222222222,\"#7201a8\"],[0.3333333333333333,\"#9c179e\"],[0.4444444444444444,\"#bd3786\"],[0.5555555555555556,\"#d8576b\"],[0.6666666666666666,\"#ed7953\"],[0.7777777777777778,\"#fb9f3a\"],[0.8888888888888888,\"#fdca26\"],[1.0,\"#f0f921\"]]}],\"surface\":[{\"type\":\"surface\",\"colorbar\":{\"outlinewidth\":0,\"ticks\":\"\"},\"colorscale\":[[0.0,\"#0d0887\"],[0.1111111111111111,\"#46039f\"],[0.2222222222222222,\"#7201a8\"],[0.3333333333333333,\"#9c179e\"],[0.4444444444444444,\"#bd3786\"],[0.5555555555555556,\"#d8576b\"],[0.6666666666666666,\"#ed7953\"],[0.7777777777777778,\"#fb9f3a\"],[0.8888888888888888,\"#fdca26\"],[1.0,\"#f0f921\"]]}],\"mesh3d\":[{\"type\":\"mesh3d\",\"colorbar\":{\"outlinewidth\":0,\"ticks\":\"\"}}],\"scatter\":[{\"fillpattern\":{\"fillmode\":\"overlay\",\"size\":10,\"solidity\":0.2},\"type\":\"scatter\"}],\"parcoords\":[{\"type\":\"parcoords\",\"line\":{\"colorbar\":{\"outlinewidth\":0,\"ticks\":\"\"}}}],\"scatterpolargl\":[{\"type\":\"scatterpolargl\",\"marker\":{\"colorbar\":{\"outlinewidth\":0,\"ticks\":\"\"}}}],\"bar\":[{\"error_x\":{\"color\":\"#2a3f5f\"},\"error_y\":{\"color\":\"#2a3f5f\"},\"marker\":{\"line\":{\"color\":\"#E5ECF6\",\"width\":0.5},\"pattern\":{\"fillmode\":\"overlay\",\"size\":10,\"solidity\":0.2}},\"type\":\"bar\"}],\"scattergeo\":[{\"type\":\"scattergeo\",\"marker\":{\"colorbar\":{\"outlinewidth\":0,\"ticks\":\"\"}}}],\"scatterpolar\":[{\"type\":\"scatterpolar\",\"marker\":{\"colorbar\":{\"outlinewidth\":0,\"ticks\":\"\"}}}],\"histogram\":[{\"marker\":{\"pattern\":{\"fillmode\":\"overlay\",\"size\":10,\"solidity\":0.2}},\"type\":\"histogram\"}],\"scattergl\":[{\"type\":\"scattergl\",\"marker\":{\"colorbar\":{\"outlinewidth\":0,\"ticks\":\"\"}}}],\"scatter3d\":[{\"type\":\"scatter3d\",\"line\":{\"colorbar\":{\"outlinewidth\":0,\"ticks\":\"\"}},\"marker\":{\"colorbar\":{\"outlinewidth\":0,\"ticks\":\"\"}}}],\"scattermap\":[{\"type\":\"scattermap\",\"marker\":{\"colorbar\":{\"outlinewidth\":0,\"ticks\":\"\"}}}],\"scattermapbox\":[{\"type\":\"scattermapbox\",\"marker\":{\"colorbar\":{\"outlinewidth\":0,\"ticks\":\"\"}}}],\"scatterternary\":[{\"type\":\"scatterternary\",\"marker\":{\"colorbar\":{\"outlinewidth\":0,\"ticks\":\"\"}}}],\"scattercarpet\":[{\"type\":\"scattercarpet\",\"marker\":{\"colorbar\":{\"outlinewidth\":0,\"ticks\":\"\"}}}],\"carpet\":[{\"aaxis\":{\"endlinecolor\":\"#2a3f5f\",\"gridcolor\":\"white\",\"linecolor\":\"white\",\"minorgridcolor\":\"white\",\"startlinecolor\":\"#2a3f5f\"},\"baxis\":{\"endlinecolor\":\"#2a3f5f\",\"gridcolor\":\"white\",\"linecolor\":\"white\",\"minorgridcolor\":\"white\",\"startlinecolor\":\"#2a3f5f\"},\"type\":\"carpet\"}],\"table\":[{\"cells\":{\"fill\":{\"color\":\"#EBF0F8\"},\"line\":{\"color\":\"white\"}},\"header\":{\"fill\":{\"color\":\"#C8D4E3\"},\"line\":{\"color\":\"white\"}},\"type\":\"table\"}],\"barpolar\":[{\"marker\":{\"line\":{\"color\":\"#E5ECF6\",\"width\":0.5},\"pattern\":{\"fillmode\":\"overlay\",\"size\":10,\"solidity\":0.2}},\"type\":\"barpolar\"}],\"pie\":[{\"automargin\":true,\"type\":\"pie\"}]},\"layout\":{\"autotypenumbers\":\"strict\",\"colorway\":[\"#636efa\",\"#EF553B\",\"#00cc96\",\"#ab63fa\",\"#FFA15A\",\"#19d3f3\",\"#FF6692\",\"#B6E880\",\"#FF97FF\",\"#FECB52\"],\"font\":{\"color\":\"#2a3f5f\"},\"hovermode\":\"closest\",\"hoverlabel\":{\"align\":\"left\"},\"paper_bgcolor\":\"white\",\"plot_bgcolor\":\"#E5ECF6\",\"polar\":{\"bgcolor\":\"#E5ECF6\",\"angularaxis\":{\"gridcolor\":\"white\",\"linecolor\":\"white\",\"ticks\":\"\"},\"radialaxis\":{\"gridcolor\":\"white\",\"linecolor\":\"white\",\"ticks\":\"\"}},\"ternary\":{\"bgcolor\":\"#E5ECF6\",\"aaxis\":{\"gridcolor\":\"white\",\"linecolor\":\"white\",\"ticks\":\"\"},\"baxis\":{\"gridcolor\":\"white\",\"linecolor\":\"white\",\"ticks\":\"\"},\"caxis\":{\"gridcolor\":\"white\",\"linecolor\":\"white\",\"ticks\":\"\"}},\"coloraxis\":{\"colorbar\":{\"outlinewidth\":0,\"ticks\":\"\"}},\"colorscale\":{\"sequential\":[[0.0,\"#0d0887\"],[0.1111111111111111,\"#46039f\"],[0.2222222222222222,\"#7201a8\"],[0.3333333333333333,\"#9c179e\"],[0.4444444444444444,\"#bd3786\"],[0.5555555555555556,\"#d8576b\"],[0.6666666666666666,\"#ed7953\"],[0.7777777777777778,\"#fb9f3a\"],[0.8888888888888888,\"#fdca26\"],[1.0,\"#f0f921\"]],\"sequentialminus\":[[0.0,\"#0d0887\"],[0.1111111111111111,\"#46039f\"],[0.2222222222222222,\"#7201a8\"],[0.3333333333333333,\"#9c179e\"],[0.4444444444444444,\"#bd3786\"],[0.5555555555555556,\"#d8576b\"],[0.6666666666666666,\"#ed7953\"],[0.7777777777777778,\"#fb9f3a\"],[0.8888888888888888,\"#fdca26\"],[1.0,\"#f0f921\"]],\"diverging\":[[0,\"#8e0152\"],[0.1,\"#c51b7d\"],[0.2,\"#de77ae\"],[0.3,\"#f1b6da\"],[0.4,\"#fde0ef\"],[0.5,\"#f7f7f7\"],[0.6,\"#e6f5d0\"],[0.7,\"#b8e186\"],[0.8,\"#7fbc41\"],[0.9,\"#4d9221\"],[1,\"#276419\"]]},\"xaxis\":{\"gridcolor\":\"white\",\"linecolor\":\"white\",\"ticks\":\"\",\"title\":{\"standoff\":15},\"zerolinecolor\":\"white\",\"automargin\":true,\"zerolinewidth\":2},\"yaxis\":{\"gridcolor\":\"white\",\"linecolor\":\"white\",\"ticks\":\"\",\"title\":{\"standoff\":15},\"zerolinecolor\":\"white\",\"automargin\":true,\"zerolinewidth\":2},\"scene\":{\"xaxis\":{\"backgroundcolor\":\"#E5ECF6\",\"gridcolor\":\"white\",\"linecolor\":\"white\",\"showbackground\":true,\"ticks\":\"\",\"zerolinecolor\":\"white\",\"gridwidth\":2},\"yaxis\":{\"backgroundcolor\":\"#E5ECF6\",\"gridcolor\":\"white\",\"linecolor\":\"white\",\"showbackground\":true,\"ticks\":\"\",\"zerolinecolor\":\"white\",\"gridwidth\":2},\"zaxis\":{\"backgroundcolor\":\"#E5ECF6\",\"gridcolor\":\"white\",\"linecolor\":\"white\",\"showbackground\":true,\"ticks\":\"\",\"zerolinecolor\":\"white\",\"gridwidth\":2}},\"shapedefaults\":{\"line\":{\"color\":\"#2a3f5f\"}},\"annotationdefaults\":{\"arrowcolor\":\"#2a3f5f\",\"arrowhead\":0,\"arrowwidth\":1},\"geo\":{\"bgcolor\":\"white\",\"landcolor\":\"#E5ECF6\",\"subunitcolor\":\"white\",\"showland\":true,\"showlakes\":true,\"lakecolor\":\"white\"},\"title\":{\"x\":0.05},\"mapbox\":{\"style\":\"light\"}}},\"xaxis\":{\"anchor\":\"y\",\"domain\":[0.0,1.0],\"title\":{\"text\":\"Happiness Group\"},\"categoryorder\":\"array\",\"categoryarray\":[\"High score of happiness\",\"Middle score of happiness\",\"Low score of happiness\"],\"tickfont\":{\"weight\":\"bold\",\"size\":12}},\"yaxis\":{\"anchor\":\"x\",\"domain\":[0.0,1.0],\"title\":{\"text\":\"Perception of corruption\"},\"tickfont\":{\"weight\":\"bold\",\"size\":12}},\"legend\":{\"title\":{\"text\":\"Group\"},\"tracegroupgap\":0},\"margin\":{\"t\":60},\"boxmode\":\"overlay\",\"title\":{\"font\":{\"size\":24,\"weight\":\"bold\"},\"text\":\"2024\",\"x\":0.5},\"showlegend\":false},                        {\"responsive\": true}                    ).then(function(){\n",
       "                            \n",
       "var gd = document.getElementById('2b80979a-64a0-49c9-bfb2-3d74e55f680e');\n",
       "var x = new MutationObserver(function (mutations, observer) {{\n",
       "        var display = window.getComputedStyle(gd).display;\n",
       "        if (!display || display === 'none') {{\n",
       "            console.log([gd, 'removed!']);\n",
       "            Plotly.purge(gd);\n",
       "            observer.disconnect();\n",
       "        }}\n",
       "}});\n",
       "\n",
       "// Listen for the removal of the full notebook cells\n",
       "var notebookContainer = gd.closest('#notebook-container');\n",
       "if (notebookContainer) {{\n",
       "    x.observe(notebookContainer, {childList: true});\n",
       "}}\n",
       "\n",
       "// Listen for the clearing of the current output cell\n",
       "var outputEl = gd.closest('.output');\n",
       "if (outputEl) {{\n",
       "    x.observe(outputEl, {childList: true});\n",
       "}}\n",
       "\n",
       "                        })                };            </script>        </div>\n",
       "</body>\n",
       "</html>"
      ]
     },
     "metadata": {},
     "output_type": "display_data"
    }
   ],
   "source": [
    "fig = px.box(\n",
    "    df_2024,\n",
    "    x='Group',\n",
    "    y='Perceptions of corruption',\n",
    "    color='Group', # Show a box plot inside the violin\n",
    "    points='all')\n",
    "fig.update_xaxes(\n",
    "    tickfont_weight='bold',  # Make the numbers bold\n",
    "    tickfont_size=12)        # Adjust the font size\n",
    "fig.update_yaxes(\n",
    "    tickfont_weight='bold',  # Make the numbers bold\n",
    "    tickfont_size=12)\n",
    "fig.update_layout(title_font=dict(size=24, weight='bold'), showlegend=False,\n",
    "    title_text='2024',\n",
    "    title_x=0.5, # Center the title\n",
    "    xaxis_title='Happiness Group',\n",
    "    yaxis_title='Perception of corruption' # Set the plot background to white\n",
    ")"
   ]
  },
  {
   "cell_type": "code",
   "execution_count": 453,
   "metadata": {},
   "outputs": [
    {
     "data": {
      "text/html": [
       "<html>\n",
       "<head><meta charset=\"utf-8\" /></head>\n",
       "<body>\n",
       "    <div>            <script src=\"https://cdnjs.cloudflare.com/ajax/libs/mathjax/2.7.5/MathJax.js?config=TeX-AMS-MML_SVG\"></script><script type=\"text/javascript\">if (window.MathJax && window.MathJax.Hub && window.MathJax.Hub.Config) {window.MathJax.Hub.Config({SVG: {font: \"STIX-Web\"}});}</script>                <script type=\"text/javascript\">window.PlotlyConfig = {MathJaxConfig: 'local'};</script>\n",
       "        <script charset=\"utf-8\" src=\"https://cdn.plot.ly/plotly-3.1.0.min.js\" integrity=\"sha256-Ei4740bWZhaUTQuD6q9yQlgVCMPBz6CZWhevDYPv93A=\" crossorigin=\"anonymous\"></script>                <div id=\"7de54112-3072-4d9c-b158-5d492f6e5195\" class=\"plotly-graph-div\" style=\"height:525px; width:100%;\"></div>            <script type=\"text/javascript\">                window.PLOTLYENV=window.PLOTLYENV || {};                                if (document.getElementById(\"7de54112-3072-4d9c-b158-5d492f6e5195\")) {                    Plotly.newPlot(                        \"7de54112-3072-4d9c-b158-5d492f6e5195\",                        [{\"alignmentgroup\":\"True\",\"boxpoints\":\"all\",\"hovertemplate\":\"Group=%{x}\\u003cbr\\u003ePerceptions of corruption=%{y}\\u003cextra\\u003e\\u003c\\u002fextra\\u003e\",\"legendgroup\":\"High score of happiness\",\"marker\":{\"color\":\"#636efa\"},\"name\":\"High score of happiness\",\"notched\":false,\"offsetgroup\":\"High score of happiness\",\"orientation\":\"v\",\"showlegend\":true,\"x\":[\"High score of happiness\",\"High score of happiness\",\"High score of happiness\",\"High score of happiness\",\"High score of happiness\",\"High score of happiness\",\"High score of happiness\",\"High score of happiness\",\"High score of happiness\",\"High score of happiness\",\"High score of happiness\",\"High score of happiness\",\"High score of happiness\",\"High score of happiness\",\"High score of happiness\",\"High score of happiness\",\"High score of happiness\",\"High score of happiness\",\"High score of happiness\",\"High score of happiness\",\"High score of happiness\",\"High score of happiness\",\"High score of happiness\",\"High score of happiness\",\"High score of happiness\",\"High score of happiness\",\"High score of happiness\",\"High score of happiness\",\"High score of happiness\",\"High score of happiness\",\"High score of happiness\",\"High score of happiness\",\"High score of happiness\",\"High score of happiness\",\"High score of happiness\",\"High score of happiness\",\"High score of happiness\",\"High score of happiness\",\"High score of happiness\",\"High score of happiness\",\"High score of happiness\",\"High score of happiness\",\"High score of happiness\",\"High score of happiness\",\"High score of happiness\",\"High score of happiness\",\"High score of happiness\",\"High score of happiness\",\"High score of happiness\",\"High score of happiness\",\"High score of happiness\",\"High score of happiness\"],\"x0\":\" \",\"xaxis\":\"x\",\"y\":{\"dtype\":\"f8\",\"bdata\":\"9P3UeOkm2T\\u002fD9Shcj8LVP+kmMQisHNo\\u002fRIts5\\u002fupwT8MAiuHFtnWP+F6FK5H4dI\\u002fObTIdr6f0j9MN4lBYOXYP1CNl24Sg9g\\u002fhxbZzvdT0z\\u002fEoUW28\\u002f20P3npJjEIrMw\\u002fQmDl0CLbuT8v3SQGgZXTP+xRuB6F69E\\u002fuB6F61G4zj8lBoGVQ4vUP6AaL90kBsE\\u002fnMQgsHJo0T\\u002fhUf30F368P5zEILByaKE\\u002fkxgEVg4twj+6SQwCK4fGP1K4HoXrUbg\\u002fCKwcWmQ7rz8rhxbZzvezP1TjpZvEILA\\u002fukkMAiuHtj\\u002fZzvdT46WrP5MYBFYOLbI\\u002f16NwPQrXwz8X2c73U+PFP6jGSzeJQcA\\u002fc2iR7Xw\\u002f3T9oke18PzWuP4ts5\\u002fup8bI\\u002fK4cW2c73oz\\u002fb+X5qvHSTP3npJjEIrIw\\u002fxKFFtvP9tD\\u002f8qfHSTWLAP\\u002fyp8dJNYrA\\u002fsHJoke18vz\\u002f6fmq8dJPQP4lBYOXQIrs\\u002fGQRWDi2ynT956SYxCKycP7gehetRuL4\\u002fYhBYObTItj\\u002f6fmq8dJN4P+kmMQisHKo\\u002f\\u002fKnx0k1iUD8=\"},\"y0\":\" \",\"yaxis\":\"y\",\"type\":\"box\"},{\"alignmentgroup\":\"True\",\"boxpoints\":\"all\",\"hovertemplate\":\"Group=%{x}\\u003cbr\\u003ePerceptions of corruption=%{y}\\u003cextra\\u003e\\u003c\\u002fextra\\u003e\",\"legendgroup\":\"Middle score of happiness\",\"marker\":{\"color\":\"#EF553B\"},\"name\":\"Middle score of happiness\",\"notched\":false,\"offsetgroup\":\"Middle score of happiness\",\"orientation\":\"v\",\"showlegend\":true,\"x\":[\"Middle score of happiness\",\"Middle score of happiness\",\"Middle score of happiness\",\"Middle score of happiness\",\"Middle score of happiness\",\"Middle score of happiness\",\"Middle score of happiness\",\"Middle score of happiness\",\"Middle score of happiness\",\"Middle score of happiness\",\"Middle score of happiness\",\"Middle score of happiness\",\"Middle score of happiness\",\"Middle score of happiness\",\"Middle score of happiness\",\"Middle score of happiness\",\"Middle score of happiness\",\"Middle score of happiness\",\"Middle score of happiness\",\"Middle score of happiness\",\"Middle score of happiness\",\"Middle score of happiness\",\"Middle score of happiness\",\"Middle score of happiness\",\"Middle score of happiness\",\"Middle score of happiness\",\"Middle score of happiness\",\"Middle score of happiness\",\"Middle score of happiness\",\"Middle score of happiness\",\"Middle score of happiness\",\"Middle score of happiness\",\"Middle score of happiness\",\"Middle score of happiness\",\"Middle score of happiness\",\"Middle score of happiness\",\"Middle score of happiness\",\"Middle score of happiness\",\"Middle score of happiness\",\"Middle score of happiness\",\"Middle score of happiness\",\"Middle score of happiness\",\"Middle score of happiness\",\"Middle score of happiness\",\"Middle score of happiness\",\"Middle score of happiness\",\"Middle score of happiness\",\"Middle score of happiness\",\"Middle score of happiness\",\"Middle score of happiness\",\"Middle score of happiness\",\"Middle score of happiness\"],\"x0\":\" \",\"xaxis\":\"x\",\"y\":{\"dtype\":\"f8\",\"bdata\":\"TDeJQWDlsD8zMzMzMzPDP5qZmZmZmak\\u002fWDm0yHa+nz\\u002fpJjEIrByqP4PAyqFFtsM\\u002fmpmZmZmZmT9g5dAi2\\u002fm+P+xRuB6F66E\\u002f2c73U+Olqz8Sg8DKoUXGP4ts5\\u002fup8bI\\u002fnMQgsHJooT9aZDvfT42XPwAAAAAAAAAAi2zn+6nxoj+6SQwCK4eWP4ts5\\u002fup8cI\\u002f4XoUrkfhuj+LbOf7qfGyP4PAyqFFtsM\\u002fgZVDi2znuz8hsHJoke28Pzm0yHa+n9I\\u002fnMQgsHJokT9qvHSTGASmP7pJDAIrh6Y\\u002fnMQgsHJowT8j2\\u002fl+ary0PyuHFtnO96M\\u002fiUFg5dAiuz9I4XoUrkfBP4ts5\\u002fup8bI\\u002fke18PzVeuj+6SQwCK4fGP5zEILByaKE\\u002fObTIdr6fqj\\u002f0\\u002fdR46SbBP\\u002fyp8dJNYqA\\u002f7FG4HoXroT8AAAAAAAAAAPyp8dJNYqA\\u002f001iEFg5tD8730+Nl26SPxfZzvdT48U\\u002fPzVeukkM0j9qvHSTGASmPzvfT42XboI\\u002fK4cW2c73sz85tMh2vp+qPzm0yHa+n6o\\u002f2\\u002fl+arx0sz8=\"},\"y0\":\" \",\"yaxis\":\"y\",\"type\":\"box\"},{\"alignmentgroup\":\"True\",\"boxpoints\":\"all\",\"hovertemplate\":\"Group=%{x}\\u003cbr\\u003ePerceptions of corruption=%{y}\\u003cextra\\u003e\\u003c\\u002fextra\\u003e\",\"legendgroup\":\"Low score of happiness\",\"marker\":{\"color\":\"#00cc96\"},\"name\":\"Low score of happiness\",\"notched\":false,\"offsetgroup\":\"Low score of happiness\",\"orientation\":\"v\",\"showlegend\":true,\"x\":[\"Low score of happiness\",\"Low score of happiness\",\"Low score of happiness\",\"Low score of happiness\",\"Low score of happiness\",\"Low score of happiness\",\"Low score of happiness\",\"Low score of happiness\",\"Low score of happiness\",\"Low score of happiness\",\"Low score of happiness\",\"Low score of happiness\",\"Low score of happiness\",\"Low score of happiness\",\"Low score of happiness\",\"Low score of happiness\",\"Low score of happiness\",\"Low score of happiness\",\"Low score of happiness\",\"Low score of happiness\",\"Low score of happiness\",\"Low score of happiness\",\"Low score of happiness\",\"Low score of happiness\",\"Low score of happiness\",\"Low score of happiness\",\"Low score of happiness\",\"Low score of happiness\",\"Low score of happiness\",\"Low score of happiness\",\"Low score of happiness\",\"Low score of happiness\",\"Low score of happiness\",\"Low score of happiness\",\"Low score of happiness\",\"Low score of happiness\",\"Low score of happiness\",\"Low score of happiness\",\"Low score of happiness\",\"Low score of happiness\",\"Low score of happiness\",\"Low score of happiness\",\"Low score of happiness\",\"Low score of happiness\",\"Low score of happiness\",\"Low score of happiness\",\"Low score of happiness\",\"Low score of happiness\",\"Low score of happiness\",\"Low score of happiness\",\"Low score of happiness\",\"Low score of happiness\"],\"x0\":\" \",\"xaxis\":\"x\",\"y\":{\"dtype\":\"f8\",\"bdata\":\"eekmMQisrD9QjZduEoPAP5HtfD81Xro\\u002fGQRWDi2ynT\\u002fEoUW28\\u002f20PxKDwMqhRcY\\u002fVOOlm8QgsD\\u002f8qfHSTWKgP4lBYOXQIqs\\u002fg8DKoUW2sz8730+Nl27CP5qZmZmZmak\\u002fUrgehetRuD956SYxCKysP\\u002fyp8dJNYrA\\u002fpHA9CtejsD\\u002f8qfHSTWLAPzEIrBxaZLs\\u002f001iEFg5xD8pXI\\u002fC9SisP8ShRbbz\\u002fbQ\\u002fAiuHFtnOtz\\u002fjpZvEILDCP4XrUbgehcs\\u002feekmMQisnD9iEFg5tMjGP7gehetRuK4\\u002fObTIdr6fqj8CK4cW2c63P\\u002fLSTWIQWLk\\u002fCKwcWmQ7rz\\u002f0\\u002fdR46SaxP8ShRbbz\\u002fbQ\\u002fukkMAiuHhj9CYOXQItu5P6rx0k1iELg\\u002feekmMQisvD8IrBxaZDuvP0oMAiuHFqk\\u002f8tJNYhBYuT8730+Nl26iP1pkO99Pjbc\\u002fexSuR+F6tD85tMh2vp+6P7gehetRuJ4\\u002fO99PjZduwj\\u002fRItv5fmrcP\\u002fyp8dJNYrA\\u002fokW28\\u002f3UuD+JQWDl0CK7P9v5fmq8dKM\\u002f2\\u002fl+arx0sz8=\"},\"y0\":\" \",\"yaxis\":\"y\",\"type\":\"box\"}],                        {\"template\":{\"data\":{\"histogram2dcontour\":[{\"type\":\"histogram2dcontour\",\"colorbar\":{\"outlinewidth\":0,\"ticks\":\"\"},\"colorscale\":[[0.0,\"#0d0887\"],[0.1111111111111111,\"#46039f\"],[0.2222222222222222,\"#7201a8\"],[0.3333333333333333,\"#9c179e\"],[0.4444444444444444,\"#bd3786\"],[0.5555555555555556,\"#d8576b\"],[0.6666666666666666,\"#ed7953\"],[0.7777777777777778,\"#fb9f3a\"],[0.8888888888888888,\"#fdca26\"],[1.0,\"#f0f921\"]]}],\"choropleth\":[{\"type\":\"choropleth\",\"colorbar\":{\"outlinewidth\":0,\"ticks\":\"\"}}],\"histogram2d\":[{\"type\":\"histogram2d\",\"colorbar\":{\"outlinewidth\":0,\"ticks\":\"\"},\"colorscale\":[[0.0,\"#0d0887\"],[0.1111111111111111,\"#46039f\"],[0.2222222222222222,\"#7201a8\"],[0.3333333333333333,\"#9c179e\"],[0.4444444444444444,\"#bd3786\"],[0.5555555555555556,\"#d8576b\"],[0.6666666666666666,\"#ed7953\"],[0.7777777777777778,\"#fb9f3a\"],[0.8888888888888888,\"#fdca26\"],[1.0,\"#f0f921\"]]}],\"heatmap\":[{\"type\":\"heatmap\",\"colorbar\":{\"outlinewidth\":0,\"ticks\":\"\"},\"colorscale\":[[0.0,\"#0d0887\"],[0.1111111111111111,\"#46039f\"],[0.2222222222222222,\"#7201a8\"],[0.3333333333333333,\"#9c179e\"],[0.4444444444444444,\"#bd3786\"],[0.5555555555555556,\"#d8576b\"],[0.6666666666666666,\"#ed7953\"],[0.7777777777777778,\"#fb9f3a\"],[0.8888888888888888,\"#fdca26\"],[1.0,\"#f0f921\"]]}],\"contourcarpet\":[{\"type\":\"contourcarpet\",\"colorbar\":{\"outlinewidth\":0,\"ticks\":\"\"}}],\"contour\":[{\"type\":\"contour\",\"colorbar\":{\"outlinewidth\":0,\"ticks\":\"\"},\"colorscale\":[[0.0,\"#0d0887\"],[0.1111111111111111,\"#46039f\"],[0.2222222222222222,\"#7201a8\"],[0.3333333333333333,\"#9c179e\"],[0.4444444444444444,\"#bd3786\"],[0.5555555555555556,\"#d8576b\"],[0.6666666666666666,\"#ed7953\"],[0.7777777777777778,\"#fb9f3a\"],[0.8888888888888888,\"#fdca26\"],[1.0,\"#f0f921\"]]}],\"surface\":[{\"type\":\"surface\",\"colorbar\":{\"outlinewidth\":0,\"ticks\":\"\"},\"colorscale\":[[0.0,\"#0d0887\"],[0.1111111111111111,\"#46039f\"],[0.2222222222222222,\"#7201a8\"],[0.3333333333333333,\"#9c179e\"],[0.4444444444444444,\"#bd3786\"],[0.5555555555555556,\"#d8576b\"],[0.6666666666666666,\"#ed7953\"],[0.7777777777777778,\"#fb9f3a\"],[0.8888888888888888,\"#fdca26\"],[1.0,\"#f0f921\"]]}],\"mesh3d\":[{\"type\":\"mesh3d\",\"colorbar\":{\"outlinewidth\":0,\"ticks\":\"\"}}],\"scatter\":[{\"fillpattern\":{\"fillmode\":\"overlay\",\"size\":10,\"solidity\":0.2},\"type\":\"scatter\"}],\"parcoords\":[{\"type\":\"parcoords\",\"line\":{\"colorbar\":{\"outlinewidth\":0,\"ticks\":\"\"}}}],\"scatterpolargl\":[{\"type\":\"scatterpolargl\",\"marker\":{\"colorbar\":{\"outlinewidth\":0,\"ticks\":\"\"}}}],\"bar\":[{\"error_x\":{\"color\":\"#2a3f5f\"},\"error_y\":{\"color\":\"#2a3f5f\"},\"marker\":{\"line\":{\"color\":\"#E5ECF6\",\"width\":0.5},\"pattern\":{\"fillmode\":\"overlay\",\"size\":10,\"solidity\":0.2}},\"type\":\"bar\"}],\"scattergeo\":[{\"type\":\"scattergeo\",\"marker\":{\"colorbar\":{\"outlinewidth\":0,\"ticks\":\"\"}}}],\"scatterpolar\":[{\"type\":\"scatterpolar\",\"marker\":{\"colorbar\":{\"outlinewidth\":0,\"ticks\":\"\"}}}],\"histogram\":[{\"marker\":{\"pattern\":{\"fillmode\":\"overlay\",\"size\":10,\"solidity\":0.2}},\"type\":\"histogram\"}],\"scattergl\":[{\"type\":\"scattergl\",\"marker\":{\"colorbar\":{\"outlinewidth\":0,\"ticks\":\"\"}}}],\"scatter3d\":[{\"type\":\"scatter3d\",\"line\":{\"colorbar\":{\"outlinewidth\":0,\"ticks\":\"\"}},\"marker\":{\"colorbar\":{\"outlinewidth\":0,\"ticks\":\"\"}}}],\"scattermap\":[{\"type\":\"scattermap\",\"marker\":{\"colorbar\":{\"outlinewidth\":0,\"ticks\":\"\"}}}],\"scattermapbox\":[{\"type\":\"scattermapbox\",\"marker\":{\"colorbar\":{\"outlinewidth\":0,\"ticks\":\"\"}}}],\"scatterternary\":[{\"type\":\"scatterternary\",\"marker\":{\"colorbar\":{\"outlinewidth\":0,\"ticks\":\"\"}}}],\"scattercarpet\":[{\"type\":\"scattercarpet\",\"marker\":{\"colorbar\":{\"outlinewidth\":0,\"ticks\":\"\"}}}],\"carpet\":[{\"aaxis\":{\"endlinecolor\":\"#2a3f5f\",\"gridcolor\":\"white\",\"linecolor\":\"white\",\"minorgridcolor\":\"white\",\"startlinecolor\":\"#2a3f5f\"},\"baxis\":{\"endlinecolor\":\"#2a3f5f\",\"gridcolor\":\"white\",\"linecolor\":\"white\",\"minorgridcolor\":\"white\",\"startlinecolor\":\"#2a3f5f\"},\"type\":\"carpet\"}],\"table\":[{\"cells\":{\"fill\":{\"color\":\"#EBF0F8\"},\"line\":{\"color\":\"white\"}},\"header\":{\"fill\":{\"color\":\"#C8D4E3\"},\"line\":{\"color\":\"white\"}},\"type\":\"table\"}],\"barpolar\":[{\"marker\":{\"line\":{\"color\":\"#E5ECF6\",\"width\":0.5},\"pattern\":{\"fillmode\":\"overlay\",\"size\":10,\"solidity\":0.2}},\"type\":\"barpolar\"}],\"pie\":[{\"automargin\":true,\"type\":\"pie\"}]},\"layout\":{\"autotypenumbers\":\"strict\",\"colorway\":[\"#636efa\",\"#EF553B\",\"#00cc96\",\"#ab63fa\",\"#FFA15A\",\"#19d3f3\",\"#FF6692\",\"#B6E880\",\"#FF97FF\",\"#FECB52\"],\"font\":{\"color\":\"#2a3f5f\"},\"hovermode\":\"closest\",\"hoverlabel\":{\"align\":\"left\"},\"paper_bgcolor\":\"white\",\"plot_bgcolor\":\"#E5ECF6\",\"polar\":{\"bgcolor\":\"#E5ECF6\",\"angularaxis\":{\"gridcolor\":\"white\",\"linecolor\":\"white\",\"ticks\":\"\"},\"radialaxis\":{\"gridcolor\":\"white\",\"linecolor\":\"white\",\"ticks\":\"\"}},\"ternary\":{\"bgcolor\":\"#E5ECF6\",\"aaxis\":{\"gridcolor\":\"white\",\"linecolor\":\"white\",\"ticks\":\"\"},\"baxis\":{\"gridcolor\":\"white\",\"linecolor\":\"white\",\"ticks\":\"\"},\"caxis\":{\"gridcolor\":\"white\",\"linecolor\":\"white\",\"ticks\":\"\"}},\"coloraxis\":{\"colorbar\":{\"outlinewidth\":0,\"ticks\":\"\"}},\"colorscale\":{\"sequential\":[[0.0,\"#0d0887\"],[0.1111111111111111,\"#46039f\"],[0.2222222222222222,\"#7201a8\"],[0.3333333333333333,\"#9c179e\"],[0.4444444444444444,\"#bd3786\"],[0.5555555555555556,\"#d8576b\"],[0.6666666666666666,\"#ed7953\"],[0.7777777777777778,\"#fb9f3a\"],[0.8888888888888888,\"#fdca26\"],[1.0,\"#f0f921\"]],\"sequentialminus\":[[0.0,\"#0d0887\"],[0.1111111111111111,\"#46039f\"],[0.2222222222222222,\"#7201a8\"],[0.3333333333333333,\"#9c179e\"],[0.4444444444444444,\"#bd3786\"],[0.5555555555555556,\"#d8576b\"],[0.6666666666666666,\"#ed7953\"],[0.7777777777777778,\"#fb9f3a\"],[0.8888888888888888,\"#fdca26\"],[1.0,\"#f0f921\"]],\"diverging\":[[0,\"#8e0152\"],[0.1,\"#c51b7d\"],[0.2,\"#de77ae\"],[0.3,\"#f1b6da\"],[0.4,\"#fde0ef\"],[0.5,\"#f7f7f7\"],[0.6,\"#e6f5d0\"],[0.7,\"#b8e186\"],[0.8,\"#7fbc41\"],[0.9,\"#4d9221\"],[1,\"#276419\"]]},\"xaxis\":{\"gridcolor\":\"white\",\"linecolor\":\"white\",\"ticks\":\"\",\"title\":{\"standoff\":15},\"zerolinecolor\":\"white\",\"automargin\":true,\"zerolinewidth\":2},\"yaxis\":{\"gridcolor\":\"white\",\"linecolor\":\"white\",\"ticks\":\"\",\"title\":{\"standoff\":15},\"zerolinecolor\":\"white\",\"automargin\":true,\"zerolinewidth\":2},\"scene\":{\"xaxis\":{\"backgroundcolor\":\"#E5ECF6\",\"gridcolor\":\"white\",\"linecolor\":\"white\",\"showbackground\":true,\"ticks\":\"\",\"zerolinecolor\":\"white\",\"gridwidth\":2},\"yaxis\":{\"backgroundcolor\":\"#E5ECF6\",\"gridcolor\":\"white\",\"linecolor\":\"white\",\"showbackground\":true,\"ticks\":\"\",\"zerolinecolor\":\"white\",\"gridwidth\":2},\"zaxis\":{\"backgroundcolor\":\"#E5ECF6\",\"gridcolor\":\"white\",\"linecolor\":\"white\",\"showbackground\":true,\"ticks\":\"\",\"zerolinecolor\":\"white\",\"gridwidth\":2}},\"shapedefaults\":{\"line\":{\"color\":\"#2a3f5f\"}},\"annotationdefaults\":{\"arrowcolor\":\"#2a3f5f\",\"arrowhead\":0,\"arrowwidth\":1},\"geo\":{\"bgcolor\":\"white\",\"landcolor\":\"#E5ECF6\",\"subunitcolor\":\"white\",\"showland\":true,\"showlakes\":true,\"lakecolor\":\"white\"},\"title\":{\"x\":0.05},\"mapbox\":{\"style\":\"light\"}}},\"xaxis\":{\"anchor\":\"y\",\"domain\":[0.0,1.0],\"title\":{\"text\":\"Happiness Group\"},\"categoryorder\":\"array\",\"categoryarray\":[\"High score of happiness\",\"Middle score of happiness\",\"Low score of happiness\"],\"tickfont\":{\"weight\":\"bold\",\"size\":12}},\"yaxis\":{\"anchor\":\"x\",\"domain\":[0.0,1.0],\"title\":{\"text\":\"Perception of corruption\"},\"tickfont\":{\"weight\":\"bold\",\"size\":12}},\"legend\":{\"title\":{\"text\":\"Group\"},\"tracegroupgap\":0},\"margin\":{\"t\":60},\"boxmode\":\"overlay\",\"title\":{\"font\":{\"size\":24,\"weight\":\"bold\"},\"text\":\"2018\",\"x\":0.5},\"showlegend\":false},                        {\"responsive\": true}                    ).then(function(){\n",
       "                            \n",
       "var gd = document.getElementById('7de54112-3072-4d9c-b158-5d492f6e5195');\n",
       "var x = new MutationObserver(function (mutations, observer) {{\n",
       "        var display = window.getComputedStyle(gd).display;\n",
       "        if (!display || display === 'none') {{\n",
       "            console.log([gd, 'removed!']);\n",
       "            Plotly.purge(gd);\n",
       "            observer.disconnect();\n",
       "        }}\n",
       "}});\n",
       "\n",
       "// Listen for the removal of the full notebook cells\n",
       "var notebookContainer = gd.closest('#notebook-container');\n",
       "if (notebookContainer) {{\n",
       "    x.observe(notebookContainer, {childList: true});\n",
       "}}\n",
       "\n",
       "// Listen for the clearing of the current output cell\n",
       "var outputEl = gd.closest('.output');\n",
       "if (outputEl) {{\n",
       "    x.observe(outputEl, {childList: true});\n",
       "}}\n",
       "\n",
       "                        })                };            </script>        </div>\n",
       "</body>\n",
       "</html>"
      ]
     },
     "metadata": {},
     "output_type": "display_data"
    }
   ],
   "source": [
    "fig = px.box(\n",
    "    df_2018,\n",
    "    x='Group',\n",
    "    y='Perceptions of corruption',\n",
    "    color='Group', # Show a box plot inside the violin\n",
    "    points='all')\n",
    "fig.update_xaxes(\n",
    "    tickfont_weight='bold',  # Make the numbers bold\n",
    "    tickfont_size=12)        # Adjust the font size\n",
    "fig.update_yaxes(\n",
    "    tickfont_weight='bold',  # Make the numbers bold\n",
    "    tickfont_size=12)\n",
    "fig.update_layout(title_font=dict(size=24, weight='bold'), showlegend=False,\n",
    "    title_text='2018',\n",
    "    title_x=0.5, # Center the title\n",
    "    xaxis_title='Happiness Group',\n",
    "    yaxis_title='Perception of corruption' # Set the plot background to white\n",
    ")"
   ]
  },
  {
   "cell_type": "code",
   "execution_count": 454,
   "metadata": {},
   "outputs": [
    {
     "data": {
      "text/html": [
       "<html>\n",
       "<head><meta charset=\"utf-8\" /></head>\n",
       "<body>\n",
       "    <div>            <script src=\"https://cdnjs.cloudflare.com/ajax/libs/mathjax/2.7.5/MathJax.js?config=TeX-AMS-MML_SVG\"></script><script type=\"text/javascript\">if (window.MathJax && window.MathJax.Hub && window.MathJax.Hub.Config) {window.MathJax.Hub.Config({SVG: {font: \"STIX-Web\"}});}</script>                <script type=\"text/javascript\">window.PlotlyConfig = {MathJaxConfig: 'local'};</script>\n",
       "        <script charset=\"utf-8\" src=\"https://cdn.plot.ly/plotly-3.1.0.min.js\" integrity=\"sha256-Ei4740bWZhaUTQuD6q9yQlgVCMPBz6CZWhevDYPv93A=\" crossorigin=\"anonymous\"></script>                <div id=\"64f136cc-b198-41ae-901d-4bf5c8763b95\" class=\"plotly-graph-div\" style=\"height:525px; width:100%;\"></div>            <script type=\"text/javascript\">                window.PLOTLYENV=window.PLOTLYENV || {};                                if (document.getElementById(\"64f136cc-b198-41ae-901d-4bf5c8763b95\")) {                    Plotly.newPlot(                        \"64f136cc-b198-41ae-901d-4bf5c8763b95\",                        [{\"hovertemplate\":\"\\u003cb\\u003e%{hovertext}\\u003c\\u002fb\\u003e\\u003cbr\\u003e\\u003cbr\\u003eGroup=High score of happiness\\u003cbr\\u003eScore=%{x}\\u003cbr\\u003ePerceptions of corruption=%{marker.size}\\u003cextra\\u003e\\u003c\\u002fextra\\u003e\",\"hovertext\":[\"High score of happiness\",\"High score of happiness\",\"High score of happiness\",\"High score of happiness\",\"High score of happiness\",\"High score of happiness\",\"High score of happiness\",\"High score of happiness\",\"High score of happiness\",\"High score of happiness\",\"High score of happiness\",\"High score of happiness\",\"High score of happiness\",\"High score of happiness\",\"High score of happiness\",\"High score of happiness\",\"High score of happiness\",\"High score of happiness\",\"High score of happiness\",\"High score of happiness\",\"High score of happiness\",\"High score of happiness\",\"High score of happiness\",\"High score of happiness\",\"High score of happiness\",\"High score of happiness\",\"High score of happiness\",\"High score of happiness\",\"High score of happiness\",\"High score of happiness\",\"High score of happiness\",\"High score of happiness\",\"High score of happiness\",\"High score of happiness\",\"High score of happiness\",\"High score of happiness\",\"High score of happiness\",\"High score of happiness\",\"High score of happiness\",\"High score of happiness\",\"High score of happiness\",\"High score of happiness\",\"High score of happiness\",\"High score of happiness\",\"High score of happiness\",\"High score of happiness\",\"High score of happiness\",\"High score of happiness\",\"High score of happiness\",\"High score of happiness\",\"High score of happiness\",\"High score of happiness\"],\"legendgroup\":\"High score of happiness\",\"marker\":{\"color\":\"#636efa\",\"size\":{\"dtype\":\"f8\",\"bdata\":\"9P3UeOkm2T\\u002fD9Shcj8LVP+kmMQisHNo\\u002fRIts5\\u002fupwT8MAiuHFtnWP+F6FK5H4dI\\u002fObTIdr6f0j9MN4lBYOXYP1CNl24Sg9g\\u002fhxbZzvdT0z\\u002fEoUW28\\u002f20P3npJjEIrMw\\u002fQmDl0CLbuT8v3SQGgZXTP+xRuB6F69E\\u002fuB6F61G4zj8lBoGVQ4vUP6AaL90kBsE\\u002fnMQgsHJo0T\\u002fhUf30F368P5zEILByaKE\\u002fkxgEVg4twj+6SQwCK4fGP1K4HoXrUbg\\u002fCKwcWmQ7rz8rhxbZzvezP1TjpZvEILA\\u002fukkMAiuHtj\\u002fZzvdT46WrP5MYBFYOLbI\\u002f16NwPQrXwz8X2c73U+PFP6jGSzeJQcA\\u002fc2iR7Xw\\u002f3T9oke18PzWuP4ts5\\u002fup8bI\\u002fK4cW2c73oz\\u002fb+X5qvHSTP3npJjEIrIw\\u002fxKFFtvP9tD\\u002f8qfHSTWLAP\\u002fyp8dJNYrA\\u002fsHJoke18vz\\u002f6fmq8dJPQP4lBYOXQIrs\\u002fGQRWDi2ynT956SYxCKycP7gehetRuL4\\u002fYhBYObTItj\\u002f6fmq8dJN4P+kmMQisHKo\\u002f\\u002fKnx0k1iUD8=\"},\"sizemode\":\"area\",\"sizeref\":0.0011425,\"symbol\":\"circle\"},\"mode\":\"markers\",\"name\":\"High score of happiness\",\"orientation\":\"v\",\"showlegend\":true,\"x\":{\"dtype\":\"f8\",\"bdata\":\"vEkMAiuHHkDFSzeJQWAeQLgehetROB5AexSuR+H6HUCmm8QgsPIdQN0kBoGVwx1AG1pkO99PHUCyne+nxksdQKjGSzeJQR1ASgwCK4cWHUDD9Shcj8IcQHSTGARWjhxAfT81XrpJHECcxCCwcugbQFyPwvUo3BtAaZHtfD+1G0CkcD0K16MbQCUGgZVDixtAqMZLN4lBG0B\\u002farx0kxgbQPLSTWIQ2BpAN166SQyCGkDb+X5qvPQZQMHKoUW28xlAgZVDi2znGUDdJAaBlcMZQLgehetRuBlAkxgEVg6tGUBaZDvfT40ZQLxJDAIrhxlAarx0kxiEGUDl0CLb+X4ZQJZDi2znexlArBxaZDtfGUB9PzVeukkZQD0K16NwPRlACtejcD0KGUD4U+Olm8QYQP3UeOkmsRhAYLpJDAKrGECq8dJNYpAYQMmhRbbzfRhA7FG4HoVrGED8qfHSTWIYQKBFtvP9VBhAfT81XrpJGEAAAAAAAAAYQDEIrBxa5BdAbef7qfHSF0ADK4cW2c4XQJhuEoPAyhdASOF6FK7HF0A=\"},\"xaxis\":\"x\",\"y\":{\"dtype\":\"f8\",\"bdata\":\"9P3UeOkm2T\\u002fD9Shcj8LVP+kmMQisHNo\\u002fRIts5\\u002fupwT8MAiuHFtnWP+F6FK5H4dI\\u002fObTIdr6f0j9MN4lBYOXYP1CNl24Sg9g\\u002fhxbZzvdT0z\\u002fEoUW28\\u002f20P3npJjEIrMw\\u002fQmDl0CLbuT8v3SQGgZXTP+xRuB6F69E\\u002fuB6F61G4zj8lBoGVQ4vUP6AaL90kBsE\\u002fnMQgsHJo0T\\u002fhUf30F368P5zEILByaKE\\u002fkxgEVg4twj+6SQwCK4fGP1K4HoXrUbg\\u002fCKwcWmQ7rz8rhxbZzvezP1TjpZvEILA\\u002fukkMAiuHtj\\u002fZzvdT46WrP5MYBFYOLbI\\u002f16NwPQrXwz8X2c73U+PFP6jGSzeJQcA\\u002fc2iR7Xw\\u002f3T9oke18PzWuP4ts5\\u002fup8bI\\u002fK4cW2c73oz\\u002fb+X5qvHSTP3npJjEIrIw\\u002fxKFFtvP9tD\\u002f8qfHSTWLAP\\u002fyp8dJNYrA\\u002fsHJoke18vz\\u002f6fmq8dJPQP4lBYOXQIrs\\u002fGQRWDi2ynT956SYxCKycP7gehetRuL4\\u002fYhBYObTItj\\u002f6fmq8dJN4P+kmMQisHKo\\u002f\\u002fKnx0k1iUD8=\"},\"yaxis\":\"y\",\"type\":\"scatter\"},{\"hovertemplate\":\"\\u003cb\\u003e%{hovertext}\\u003c\\u002fb\\u003e\\u003cbr\\u003e\\u003cbr\\u003eGroup=Middle score of happiness\\u003cbr\\u003eScore=%{x}\\u003cbr\\u003ePerceptions of corruption=%{marker.size}\\u003cextra\\u003e\\u003c\\u002fextra\\u003e\",\"hovertext\":[\"Middle score of happiness\",\"Middle score of happiness\",\"Middle score of happiness\",\"Middle score of happiness\",\"Middle score of happiness\",\"Middle score of happiness\",\"Middle score of happiness\",\"Middle score of happiness\",\"Middle score of happiness\",\"Middle score of happiness\",\"Middle score of happiness\",\"Middle score of happiness\",\"Middle score of happiness\",\"Middle score of happiness\",\"Middle score of happiness\",\"Middle score of happiness\",\"Middle score of happiness\",\"Middle score of happiness\",\"Middle score of happiness\",\"Middle score of happiness\",\"Middle score of happiness\",\"Middle score of happiness\",\"Middle score of happiness\",\"Middle score of happiness\",\"Middle score of happiness\",\"Middle score of happiness\",\"Middle score of happiness\",\"Middle score of happiness\",\"Middle score of happiness\",\"Middle score of happiness\",\"Middle score of happiness\",\"Middle score of happiness\",\"Middle score of happiness\",\"Middle score of happiness\",\"Middle score of happiness\",\"Middle score of happiness\",\"Middle score of happiness\",\"Middle score of happiness\",\"Middle score of happiness\",\"Middle score of happiness\",\"Middle score of happiness\",\"Middle score of happiness\",\"Middle score of happiness\",\"Middle score of happiness\",\"Middle score of happiness\",\"Middle score of happiness\",\"Middle score of happiness\",\"Middle score of happiness\",\"Middle score of happiness\",\"Middle score of happiness\",\"Middle score of happiness\",\"Middle score of happiness\"],\"legendgroup\":\"Middle score of happiness\",\"marker\":{\"color\":\"#EF553B\",\"size\":{\"dtype\":\"f8\",\"bdata\":\"TDeJQWDlsD8zMzMzMzPDP5qZmZmZmak\\u002fWDm0yHa+nz\\u002fpJjEIrByqP4PAyqFFtsM\\u002fmpmZmZmZmT9g5dAi2\\u002fm+P+xRuB6F66E\\u002f2c73U+Olqz8Sg8DKoUXGP4ts5\\u002fup8bI\\u002fnMQgsHJooT9aZDvfT42XPwAAAAAAAAAAi2zn+6nxoj+6SQwCK4eWP4ts5\\u002fup8cI\\u002f4XoUrkfhuj+LbOf7qfGyP4PAyqFFtsM\\u002fgZVDi2znuz8hsHJoke28Pzm0yHa+n9I\\u002fnMQgsHJokT9qvHSTGASmP7pJDAIrh6Y\\u002fnMQgsHJowT8j2\\u002fl+ary0PyuHFtnO96M\\u002fiUFg5dAiuz9I4XoUrkfBP4ts5\\u002fup8bI\\u002fke18PzVeuj+6SQwCK4fGP5zEILByaKE\\u002fObTIdr6fqj\\u002f0\\u002fdR46SbBP\\u002fyp8dJNYqA\\u002f7FG4HoXroT8AAAAAAAAAAPyp8dJNYqA\\u002f001iEFg5tD8730+Nl26SPxfZzvdT48U\\u002fPzVeukkM0j9qvHSTGASmPzvfT42XboI\\u002fK4cW2c73sz85tMh2vp+qPzm0yHa+n6o\\u002f2\\u002fl+arx0sz8=\"},\"sizemode\":\"area\",\"sizeref\":0.0011425,\"symbol\":\"circle\"},\"mode\":\"markers\",\"name\":\"Middle score of happiness\",\"orientation\":\"v\",\"showlegend\":true,\"x\":{\"dtype\":\"f8\",\"bdata\":\"CKwcWmS7F0ApXI\\u002fC9agXQKrx0k1ikBdAj8L1KFyPF0AAAAAAAIAXQNejcD0KVxdAPQrXo3A9F0ApXI\\u002fC9SgXQEA1XrpJDBdAN166SQwCF0Db+X5qvPQWQNNNYhBYuRZA8\\u002f3UeOmmFkDazvdT46UWQI\\u002fC9ShcjxZAJQaBlUOLFkB7FK5H4XoWQN0kBoGVQxZAf2q8dJMYFkBqvHSTGAQWQDvfT42X7hVAO99PjZfuFUAX2c73U+MVQLgehetRuBVApHA9CtejFUBkO99PjZcVQDvfT42XbhVAO99PjZduFUAX2c73U2MVQGQQWDm0SBVAaZHtfD81FUCuR+F6FC4VQGq8dJMYBBVAlkOLbOf7FEDo+6nx0s0UQLKd76fGyxRAPQrXo3C9FEC\\u002fnxov3aQUQB+F61G4nhRAoBov3SSGFEBqvHSTGIQUQAAAAAAAgBRAtvP91HhpFECsHFpkO18UQIcW2c73UxRAIbByaJHtE0BmZmZmZuYTQAisHFpkuxNAhetRuB6FE0DTTWIQWDkTQNV46SYxCBNARrbz\\u002fdT4EkA=\"},\"xaxis\":\"x\",\"y\":{\"dtype\":\"f8\",\"bdata\":\"TDeJQWDlsD8zMzMzMzPDP5qZmZmZmak\\u002fWDm0yHa+nz\\u002fpJjEIrByqP4PAyqFFtsM\\u002fmpmZmZmZmT9g5dAi2\\u002fm+P+xRuB6F66E\\u002f2c73U+Olqz8Sg8DKoUXGP4ts5\\u002fup8bI\\u002fnMQgsHJooT9aZDvfT42XPwAAAAAAAAAAi2zn+6nxoj+6SQwCK4eWP4ts5\\u002fup8cI\\u002f4XoUrkfhuj+LbOf7qfGyP4PAyqFFtsM\\u002fgZVDi2znuz8hsHJoke28Pzm0yHa+n9I\\u002fnMQgsHJokT9qvHSTGASmP7pJDAIrh6Y\\u002fnMQgsHJowT8j2\\u002fl+ary0PyuHFtnO96M\\u002fiUFg5dAiuz9I4XoUrkfBP4ts5\\u002fup8bI\\u002fke18PzVeuj+6SQwCK4fGP5zEILByaKE\\u002fObTIdr6fqj\\u002f0\\u002fdR46SbBP\\u002fyp8dJNYqA\\u002f7FG4HoXroT8AAAAAAAAAAPyp8dJNYqA\\u002f001iEFg5tD8730+Nl26SPxfZzvdT48U\\u002fPzVeukkM0j9qvHSTGASmPzvfT42XboI\\u002fK4cW2c73sz85tMh2vp+qPzm0yHa+n6o\\u002f2\\u002fl+arx0sz8=\"},\"yaxis\":\"y\",\"type\":\"scatter\"},{\"hovertemplate\":\"\\u003cb\\u003e%{hovertext}\\u003c\\u002fb\\u003e\\u003cbr\\u003e\\u003cbr\\u003eGroup=Low score of happiness\\u003cbr\\u003eScore=%{x}\\u003cbr\\u003ePerceptions of corruption=%{marker.size}\\u003cextra\\u003e\\u003c\\u002fextra\\u003e\",\"hovertext\":[\"Low score of happiness\",\"Low score of happiness\",\"Low score of happiness\",\"Low score of happiness\",\"Low score of happiness\",\"Low score of happiness\",\"Low score of happiness\",\"Low score of happiness\",\"Low score of happiness\",\"Low score of happiness\",\"Low score of happiness\",\"Low score of happiness\",\"Low score of happiness\",\"Low score of happiness\",\"Low score of happiness\",\"Low score of happiness\",\"Low score of happiness\",\"Low score of happiness\",\"Low score of happiness\",\"Low score of happiness\",\"Low score of happiness\",\"Low score of happiness\",\"Low score of happiness\",\"Low score of happiness\",\"Low score of happiness\",\"Low score of happiness\",\"Low score of happiness\",\"Low score of happiness\",\"Low score of happiness\",\"Low score of happiness\",\"Low score of happiness\",\"Low score of happiness\",\"Low score of happiness\",\"Low score of happiness\",\"Low score of happiness\",\"Low score of happiness\",\"Low score of happiness\",\"Low score of happiness\",\"Low score of happiness\",\"Low score of happiness\",\"Low score of happiness\",\"Low score of happiness\",\"Low score of happiness\",\"Low score of happiness\",\"Low score of happiness\",\"Low score of happiness\",\"Low score of happiness\",\"Low score of happiness\",\"Low score of happiness\",\"Low score of happiness\",\"Low score of happiness\",\"Low score of happiness\"],\"legendgroup\":\"Low score of happiness\",\"marker\":{\"color\":\"#00cc96\",\"size\":{\"dtype\":\"f8\",\"bdata\":\"eekmMQisrD9QjZduEoPAP5HtfD81Xro\\u002fGQRWDi2ynT\\u002fEoUW28\\u002f20PxKDwMqhRcY\\u002fVOOlm8QgsD\\u002f8qfHSTWKgP4lBYOXQIqs\\u002fg8DKoUW2sz8730+Nl27CP5qZmZmZmak\\u002fUrgehetRuD956SYxCKysP\\u002fyp8dJNYrA\\u002fpHA9CtejsD\\u002f8qfHSTWLAPzEIrBxaZLs\\u002f001iEFg5xD8pXI\\u002fC9SisP8ShRbbz\\u002fbQ\\u002fAiuHFtnOtz\\u002fjpZvEILDCP4XrUbgehcs\\u002feekmMQisnD9iEFg5tMjGP7gehetRuK4\\u002fObTIdr6fqj8CK4cW2c63P\\u002fLSTWIQWLk\\u002fCKwcWmQ7rz\\u002f0\\u002fdR46SaxP8ShRbbz\\u002fbQ\\u002fukkMAiuHhj9CYOXQItu5P6rx0k1iELg\\u002feekmMQisvD8IrBxaZDuvP0oMAiuHFqk\\u002f8tJNYhBYuT8730+Nl26iP1pkO99Pjbc\\u002fexSuR+F6tD85tMh2vp+6P7gehetRuJ4\\u002fO99PjZduwj\\u002fRItv5fmrcP\\u002fyp8dJNYrA\\u002fokW28\\u002f3UuD+JQWDl0CK7P9v5fmq8dKM\\u002f2\\u002fl+arx0sz8=\"},\"sizemode\":\"area\",\"sizeref\":0.0011425,\"symbol\":\"circle\"},\"mode\":\"markers\",\"name\":\"Low score of happiness\",\"orientation\":\"v\",\"showlegend\":true,\"x\":{\"dtype\":\"f8\",\"bdata\":\"TDeJQWDlEkCHFtnO99MSQMl2vp8arxJAVOOlm8SgEkCgGi\\u002fdJIYSQMuhRbbzfRJAke18PzVeEkDy0k1iEFgSQGQQWDm0SBJAI9v5fmo8EkAAAAAAAAASQPyp8dJN4hFAbef7qfHSEUB9PzVeuskRQN0kBoGVwxFACKwcWmS7EUAZBFYOLbIRQJMYBFYOrRFAXrpJDAKrEUCkcD0K16MRQDVeukkMghFABoGVQ4tsEUBmZmZmZmYRQFyPwvUoXBFAZBBYObRIEUAIrBxaZDsRQE5iEFg5NBFAexSuR+H6EEDD9Shcj8IQQESLbOf7qRBAv58aL92kEECq8dJNYpAQQHSTGARWjhBAtvP91HhpEEDLoUW28\\u002f0PQIPAyqFFtg9AEFg5tMh2DkBcj8L1KFwOQP7UeOkmMQ5A8KfGSzeJDUB1kxgEVg4NQLgehetRuAxAGQRWDi2yDEAOLbKd76cMQPYoXI\\u002fC9QtAGQRWDi2yC0DdJAaBlUMLQNejcD0K1wpABoGVQ4tsCkDVeOkmMQgKQESLbOf7qQhAPQrXo3A9B0A=\"},\"xaxis\":\"x\",\"y\":{\"dtype\":\"f8\",\"bdata\":\"eekmMQisrD9QjZduEoPAP5HtfD81Xro\\u002fGQRWDi2ynT\\u002fEoUW28\\u002f20PxKDwMqhRcY\\u002fVOOlm8QgsD\\u002f8qfHSTWKgP4lBYOXQIqs\\u002fg8DKoUW2sz8730+Nl27CP5qZmZmZmak\\u002fUrgehetRuD956SYxCKysP\\u002fyp8dJNYrA\\u002fpHA9CtejsD\\u002f8qfHSTWLAPzEIrBxaZLs\\u002f001iEFg5xD8pXI\\u002fC9SisP8ShRbbz\\u002fbQ\\u002fAiuHFtnOtz\\u002fjpZvEILDCP4XrUbgehcs\\u002feekmMQisnD9iEFg5tMjGP7gehetRuK4\\u002fObTIdr6fqj8CK4cW2c63P\\u002fLSTWIQWLk\\u002fCKwcWmQ7rz\\u002f0\\u002fdR46SaxP8ShRbbz\\u002fbQ\\u002fukkMAiuHhj9CYOXQItu5P6rx0k1iELg\\u002feekmMQisvD8IrBxaZDuvP0oMAiuHFqk\\u002f8tJNYhBYuT8730+Nl26iP1pkO99Pjbc\\u002fexSuR+F6tD85tMh2vp+6P7gehetRuJ4\\u002fO99PjZduwj\\u002fRItv5fmrcP\\u002fyp8dJNYrA\\u002fokW28\\u002f3UuD+JQWDl0CK7P9v5fmq8dKM\\u002f2\\u002fl+arx0sz8=\"},\"yaxis\":\"y\",\"type\":\"scatter\"}],                        {\"template\":{\"data\":{\"histogram2dcontour\":[{\"type\":\"histogram2dcontour\",\"colorbar\":{\"outlinewidth\":0,\"ticks\":\"\"},\"colorscale\":[[0.0,\"#0d0887\"],[0.1111111111111111,\"#46039f\"],[0.2222222222222222,\"#7201a8\"],[0.3333333333333333,\"#9c179e\"],[0.4444444444444444,\"#bd3786\"],[0.5555555555555556,\"#d8576b\"],[0.6666666666666666,\"#ed7953\"],[0.7777777777777778,\"#fb9f3a\"],[0.8888888888888888,\"#fdca26\"],[1.0,\"#f0f921\"]]}],\"choropleth\":[{\"type\":\"choropleth\",\"colorbar\":{\"outlinewidth\":0,\"ticks\":\"\"}}],\"histogram2d\":[{\"type\":\"histogram2d\",\"colorbar\":{\"outlinewidth\":0,\"ticks\":\"\"},\"colorscale\":[[0.0,\"#0d0887\"],[0.1111111111111111,\"#46039f\"],[0.2222222222222222,\"#7201a8\"],[0.3333333333333333,\"#9c179e\"],[0.4444444444444444,\"#bd3786\"],[0.5555555555555556,\"#d8576b\"],[0.6666666666666666,\"#ed7953\"],[0.7777777777777778,\"#fb9f3a\"],[0.8888888888888888,\"#fdca26\"],[1.0,\"#f0f921\"]]}],\"heatmap\":[{\"type\":\"heatmap\",\"colorbar\":{\"outlinewidth\":0,\"ticks\":\"\"},\"colorscale\":[[0.0,\"#0d0887\"],[0.1111111111111111,\"#46039f\"],[0.2222222222222222,\"#7201a8\"],[0.3333333333333333,\"#9c179e\"],[0.4444444444444444,\"#bd3786\"],[0.5555555555555556,\"#d8576b\"],[0.6666666666666666,\"#ed7953\"],[0.7777777777777778,\"#fb9f3a\"],[0.8888888888888888,\"#fdca26\"],[1.0,\"#f0f921\"]]}],\"contourcarpet\":[{\"type\":\"contourcarpet\",\"colorbar\":{\"outlinewidth\":0,\"ticks\":\"\"}}],\"contour\":[{\"type\":\"contour\",\"colorbar\":{\"outlinewidth\":0,\"ticks\":\"\"},\"colorscale\":[[0.0,\"#0d0887\"],[0.1111111111111111,\"#46039f\"],[0.2222222222222222,\"#7201a8\"],[0.3333333333333333,\"#9c179e\"],[0.4444444444444444,\"#bd3786\"],[0.5555555555555556,\"#d8576b\"],[0.6666666666666666,\"#ed7953\"],[0.7777777777777778,\"#fb9f3a\"],[0.8888888888888888,\"#fdca26\"],[1.0,\"#f0f921\"]]}],\"surface\":[{\"type\":\"surface\",\"colorbar\":{\"outlinewidth\":0,\"ticks\":\"\"},\"colorscale\":[[0.0,\"#0d0887\"],[0.1111111111111111,\"#46039f\"],[0.2222222222222222,\"#7201a8\"],[0.3333333333333333,\"#9c179e\"],[0.4444444444444444,\"#bd3786\"],[0.5555555555555556,\"#d8576b\"],[0.6666666666666666,\"#ed7953\"],[0.7777777777777778,\"#fb9f3a\"],[0.8888888888888888,\"#fdca26\"],[1.0,\"#f0f921\"]]}],\"mesh3d\":[{\"type\":\"mesh3d\",\"colorbar\":{\"outlinewidth\":0,\"ticks\":\"\"}}],\"scatter\":[{\"fillpattern\":{\"fillmode\":\"overlay\",\"size\":10,\"solidity\":0.2},\"type\":\"scatter\"}],\"parcoords\":[{\"type\":\"parcoords\",\"line\":{\"colorbar\":{\"outlinewidth\":0,\"ticks\":\"\"}}}],\"scatterpolargl\":[{\"type\":\"scatterpolargl\",\"marker\":{\"colorbar\":{\"outlinewidth\":0,\"ticks\":\"\"}}}],\"bar\":[{\"error_x\":{\"color\":\"#2a3f5f\"},\"error_y\":{\"color\":\"#2a3f5f\"},\"marker\":{\"line\":{\"color\":\"#E5ECF6\",\"width\":0.5},\"pattern\":{\"fillmode\":\"overlay\",\"size\":10,\"solidity\":0.2}},\"type\":\"bar\"}],\"scattergeo\":[{\"type\":\"scattergeo\",\"marker\":{\"colorbar\":{\"outlinewidth\":0,\"ticks\":\"\"}}}],\"scatterpolar\":[{\"type\":\"scatterpolar\",\"marker\":{\"colorbar\":{\"outlinewidth\":0,\"ticks\":\"\"}}}],\"histogram\":[{\"marker\":{\"pattern\":{\"fillmode\":\"overlay\",\"size\":10,\"solidity\":0.2}},\"type\":\"histogram\"}],\"scattergl\":[{\"type\":\"scattergl\",\"marker\":{\"colorbar\":{\"outlinewidth\":0,\"ticks\":\"\"}}}],\"scatter3d\":[{\"type\":\"scatter3d\",\"line\":{\"colorbar\":{\"outlinewidth\":0,\"ticks\":\"\"}},\"marker\":{\"colorbar\":{\"outlinewidth\":0,\"ticks\":\"\"}}}],\"scattermap\":[{\"type\":\"scattermap\",\"marker\":{\"colorbar\":{\"outlinewidth\":0,\"ticks\":\"\"}}}],\"scattermapbox\":[{\"type\":\"scattermapbox\",\"marker\":{\"colorbar\":{\"outlinewidth\":0,\"ticks\":\"\"}}}],\"scatterternary\":[{\"type\":\"scatterternary\",\"marker\":{\"colorbar\":{\"outlinewidth\":0,\"ticks\":\"\"}}}],\"scattercarpet\":[{\"type\":\"scattercarpet\",\"marker\":{\"colorbar\":{\"outlinewidth\":0,\"ticks\":\"\"}}}],\"carpet\":[{\"aaxis\":{\"endlinecolor\":\"#2a3f5f\",\"gridcolor\":\"white\",\"linecolor\":\"white\",\"minorgridcolor\":\"white\",\"startlinecolor\":\"#2a3f5f\"},\"baxis\":{\"endlinecolor\":\"#2a3f5f\",\"gridcolor\":\"white\",\"linecolor\":\"white\",\"minorgridcolor\":\"white\",\"startlinecolor\":\"#2a3f5f\"},\"type\":\"carpet\"}],\"table\":[{\"cells\":{\"fill\":{\"color\":\"#EBF0F8\"},\"line\":{\"color\":\"white\"}},\"header\":{\"fill\":{\"color\":\"#C8D4E3\"},\"line\":{\"color\":\"white\"}},\"type\":\"table\"}],\"barpolar\":[{\"marker\":{\"line\":{\"color\":\"#E5ECF6\",\"width\":0.5},\"pattern\":{\"fillmode\":\"overlay\",\"size\":10,\"solidity\":0.2}},\"type\":\"barpolar\"}],\"pie\":[{\"automargin\":true,\"type\":\"pie\"}]},\"layout\":{\"autotypenumbers\":\"strict\",\"colorway\":[\"#636efa\",\"#EF553B\",\"#00cc96\",\"#ab63fa\",\"#FFA15A\",\"#19d3f3\",\"#FF6692\",\"#B6E880\",\"#FF97FF\",\"#FECB52\"],\"font\":{\"color\":\"#2a3f5f\"},\"hovermode\":\"closest\",\"hoverlabel\":{\"align\":\"left\"},\"paper_bgcolor\":\"white\",\"plot_bgcolor\":\"#E5ECF6\",\"polar\":{\"bgcolor\":\"#E5ECF6\",\"angularaxis\":{\"gridcolor\":\"white\",\"linecolor\":\"white\",\"ticks\":\"\"},\"radialaxis\":{\"gridcolor\":\"white\",\"linecolor\":\"white\",\"ticks\":\"\"}},\"ternary\":{\"bgcolor\":\"#E5ECF6\",\"aaxis\":{\"gridcolor\":\"white\",\"linecolor\":\"white\",\"ticks\":\"\"},\"baxis\":{\"gridcolor\":\"white\",\"linecolor\":\"white\",\"ticks\":\"\"},\"caxis\":{\"gridcolor\":\"white\",\"linecolor\":\"white\",\"ticks\":\"\"}},\"coloraxis\":{\"colorbar\":{\"outlinewidth\":0,\"ticks\":\"\"}},\"colorscale\":{\"sequential\":[[0.0,\"#0d0887\"],[0.1111111111111111,\"#46039f\"],[0.2222222222222222,\"#7201a8\"],[0.3333333333333333,\"#9c179e\"],[0.4444444444444444,\"#bd3786\"],[0.5555555555555556,\"#d8576b\"],[0.6666666666666666,\"#ed7953\"],[0.7777777777777778,\"#fb9f3a\"],[0.8888888888888888,\"#fdca26\"],[1.0,\"#f0f921\"]],\"sequentialminus\":[[0.0,\"#0d0887\"],[0.1111111111111111,\"#46039f\"],[0.2222222222222222,\"#7201a8\"],[0.3333333333333333,\"#9c179e\"],[0.4444444444444444,\"#bd3786\"],[0.5555555555555556,\"#d8576b\"],[0.6666666666666666,\"#ed7953\"],[0.7777777777777778,\"#fb9f3a\"],[0.8888888888888888,\"#fdca26\"],[1.0,\"#f0f921\"]],\"diverging\":[[0,\"#8e0152\"],[0.1,\"#c51b7d\"],[0.2,\"#de77ae\"],[0.3,\"#f1b6da\"],[0.4,\"#fde0ef\"],[0.5,\"#f7f7f7\"],[0.6,\"#e6f5d0\"],[0.7,\"#b8e186\"],[0.8,\"#7fbc41\"],[0.9,\"#4d9221\"],[1,\"#276419\"]]},\"xaxis\":{\"gridcolor\":\"white\",\"linecolor\":\"white\",\"ticks\":\"\",\"title\":{\"standoff\":15},\"zerolinecolor\":\"white\",\"automargin\":true,\"zerolinewidth\":2},\"yaxis\":{\"gridcolor\":\"white\",\"linecolor\":\"white\",\"ticks\":\"\",\"title\":{\"standoff\":15},\"zerolinecolor\":\"white\",\"automargin\":true,\"zerolinewidth\":2},\"scene\":{\"xaxis\":{\"backgroundcolor\":\"#E5ECF6\",\"gridcolor\":\"white\",\"linecolor\":\"white\",\"showbackground\":true,\"ticks\":\"\",\"zerolinecolor\":\"white\",\"gridwidth\":2},\"yaxis\":{\"backgroundcolor\":\"#E5ECF6\",\"gridcolor\":\"white\",\"linecolor\":\"white\",\"showbackground\":true,\"ticks\":\"\",\"zerolinecolor\":\"white\",\"gridwidth\":2},\"zaxis\":{\"backgroundcolor\":\"#E5ECF6\",\"gridcolor\":\"white\",\"linecolor\":\"white\",\"showbackground\":true,\"ticks\":\"\",\"zerolinecolor\":\"white\",\"gridwidth\":2}},\"shapedefaults\":{\"line\":{\"color\":\"#2a3f5f\"}},\"annotationdefaults\":{\"arrowcolor\":\"#2a3f5f\",\"arrowhead\":0,\"arrowwidth\":1},\"geo\":{\"bgcolor\":\"white\",\"landcolor\":\"#E5ECF6\",\"subunitcolor\":\"white\",\"showland\":true,\"showlakes\":true,\"lakecolor\":\"white\"},\"title\":{\"x\":0.05},\"mapbox\":{\"style\":\"light\"}}},\"xaxis\":{\"anchor\":\"y\",\"domain\":[0.0,1.0],\"title\":{\"text\":\"Score\"},\"tickfont\":{\"weight\":\"bold\",\"size\":12}},\"yaxis\":{\"anchor\":\"x\",\"domain\":[0.0,1.0],\"title\":{\"text\":\"Perceptions of corruption\"},\"tickfont\":{\"weight\":\"bold\",\"size\":12}},\"legend\":{\"title\":{\"text\":\"Group\"},\"tracegroupgap\":0,\"itemsizing\":\"constant\"},\"title\":{\"text\":\"2018\",\"font\":{\"size\":24,\"weight\":\"bold\"},\"x\":0.5},\"showlegend\":false},                        {\"responsive\": true}                    ).then(function(){\n",
       "                            \n",
       "var gd = document.getElementById('64f136cc-b198-41ae-901d-4bf5c8763b95');\n",
       "var x = new MutationObserver(function (mutations, observer) {{\n",
       "        var display = window.getComputedStyle(gd).display;\n",
       "        if (!display || display === 'none') {{\n",
       "            console.log([gd, 'removed!']);\n",
       "            Plotly.purge(gd);\n",
       "            observer.disconnect();\n",
       "        }}\n",
       "}});\n",
       "\n",
       "// Listen for the removal of the full notebook cells\n",
       "var notebookContainer = gd.closest('#notebook-container');\n",
       "if (notebookContainer) {{\n",
       "    x.observe(notebookContainer, {childList: true});\n",
       "}}\n",
       "\n",
       "// Listen for the clearing of the current output cell\n",
       "var outputEl = gd.closest('.output');\n",
       "if (outputEl) {{\n",
       "    x.observe(outputEl, {childList: true});\n",
       "}}\n",
       "\n",
       "                        })                };            </script>        </div>\n",
       "</body>\n",
       "</html>"
      ]
     },
     "metadata": {},
     "output_type": "display_data"
    }
   ],
   "source": [
    "fig = px.scatter(\n",
    "    df_2018,\n",
    "    x='Score',\n",
    "    y='Perceptions of corruption',\n",
    "    color='Group',\n",
    "    size='Perceptions of corruption', # <--- Determines the size of the bubbles\n",
    "    hover_name='Group',\n",
    "    title='2018'\n",
    ")\n",
    "fig.update_xaxes(\n",
    "    tickfont_weight='bold',  # Make the numbers bold\n",
    "    tickfont_size=12)        # Adjust the font size\n",
    "fig.update_yaxes(\n",
    "    tickfont_weight='bold',  # Make the numbers bold\n",
    "    tickfont_size=12)\n",
    "fig.update_layout(title_font=dict(size=24, weight='bold'), showlegend=False,\n",
    "    title_text='2018',\n",
    "    title_x=0.5)\n",
    "fig.show()"
   ]
  },
  {
   "cell_type": "code",
   "execution_count": 455,
   "metadata": {},
   "outputs": [
    {
     "data": {
      "text/plain": [
       "Country or region               0\n",
       "Score                           0\n",
       "GDP per capita                  0\n",
       "Social support                  0\n",
       "Freedom to make life choices    1\n",
       "Generosity                      0\n",
       "Perceptions of corruption       1\n",
       "Year                            0\n",
       "Group                           0\n",
       "dtype: int64"
      ]
     },
     "execution_count": 455,
     "metadata": {},
     "output_type": "execute_result"
    }
   ],
   "source": [
    "df_2024.isnull().sum()"
   ]
  },
  {
   "cell_type": "code",
   "execution_count": 456,
   "metadata": {},
   "outputs": [
    {
     "data": {
      "text/plain": [
       "Country or region               0\n",
       "Score                           0\n",
       "GDP per capita                  0\n",
       "Social support                  0\n",
       "Freedom to make life choices    1\n",
       "Generosity                      0\n",
       "Perceptions of corruption       0\n",
       "Year                            0\n",
       "Group                           0\n",
       "dtype: int64"
      ]
     },
     "execution_count": 456,
     "metadata": {},
     "output_type": "execute_result"
    }
   ],
   "source": [
    "df_2024.fillna({'Perceptions of corruption':df_2024['Perceptions of corruption'].mean()}, inplace=True)\n",
    "df_2024.isnull().sum()"
   ]
  },
  {
   "cell_type": "code",
   "execution_count": 457,
   "metadata": {},
   "outputs": [
    {
     "data": {
      "text/plain": [
       "Country or region               0\n",
       "Score                           0\n",
       "GDP per capita                  0\n",
       "Social support                  0\n",
       "Freedom to make life choices    0\n",
       "Generosity                      0\n",
       "Perceptions of corruption       0\n",
       "Year                            0\n",
       "Group                           0\n",
       "dtype: int64"
      ]
     },
     "execution_count": 457,
     "metadata": {},
     "output_type": "execute_result"
    }
   ],
   "source": [
    "df_2024.fillna({'Freedom to make life choices':df_2024['Freedom to make life choices'].mean()}, inplace=True)\n",
    "df_2024.isnull().sum()"
   ]
  },
  {
   "cell_type": "code",
   "execution_count": 458,
   "metadata": {},
   "outputs": [
    {
     "data": {
      "text/html": [
       "<html>\n",
       "<head><meta charset=\"utf-8\" /></head>\n",
       "<body>\n",
       "    <div>            <script src=\"https://cdnjs.cloudflare.com/ajax/libs/mathjax/2.7.5/MathJax.js?config=TeX-AMS-MML_SVG\"></script><script type=\"text/javascript\">if (window.MathJax && window.MathJax.Hub && window.MathJax.Hub.Config) {window.MathJax.Hub.Config({SVG: {font: \"STIX-Web\"}});}</script>                <script type=\"text/javascript\">window.PlotlyConfig = {MathJaxConfig: 'local'};</script>\n",
       "        <script charset=\"utf-8\" src=\"https://cdn.plot.ly/plotly-3.1.0.min.js\" integrity=\"sha256-Ei4740bWZhaUTQuD6q9yQlgVCMPBz6CZWhevDYPv93A=\" crossorigin=\"anonymous\"></script>                <div id=\"aa8bc7b1-cb7e-41ba-bd68-4993dfbfca11\" class=\"plotly-graph-div\" style=\"height:525px; width:100%;\"></div>            <script type=\"text/javascript\">                window.PLOTLYENV=window.PLOTLYENV || {};                                if (document.getElementById(\"aa8bc7b1-cb7e-41ba-bd68-4993dfbfca11\")) {                    Plotly.newPlot(                        \"aa8bc7b1-cb7e-41ba-bd68-4993dfbfca11\",                        [{\"hovertemplate\":\"\\u003cb\\u003e%{hovertext}\\u003c\\u002fb\\u003e\\u003cbr\\u003e\\u003cbr\\u003eGroup=High score of happiness\\u003cbr\\u003eScore=%{x}\\u003cbr\\u003ePerceptions of corruption=%{marker.size}\\u003cextra\\u003e\\u003c\\u002fextra\\u003e\",\"hovertext\":[\"High score of happiness\",\"High score of happiness\",\"High score of happiness\",\"High score of happiness\",\"High score of happiness\",\"High score of happiness\",\"High score of happiness\",\"High score of happiness\",\"High score of happiness\",\"High score of happiness\",\"High score of happiness\",\"High score of happiness\",\"High score of happiness\",\"High score of happiness\",\"High score of happiness\",\"High score of happiness\",\"High score of happiness\",\"High score of happiness\",\"High score of happiness\",\"High score of happiness\",\"High score of happiness\",\"High score of happiness\",\"High score of happiness\",\"High score of happiness\",\"High score of happiness\",\"High score of happiness\",\"High score of happiness\",\"High score of happiness\",\"High score of happiness\",\"High score of happiness\",\"High score of happiness\",\"High score of happiness\",\"High score of happiness\",\"High score of happiness\",\"High score of happiness\",\"High score of happiness\",\"High score of happiness\",\"High score of happiness\",\"High score of happiness\",\"High score of happiness\",\"High score of happiness\",\"High score of happiness\",\"High score of happiness\",\"High score of happiness\",\"High score of happiness\",\"High score of happiness\",\"High score of happiness\",\"High score of happiness\",\"High score of happiness\",\"High score of happiness\",\"High score of happiness\",\"High score of happiness\"],\"legendgroup\":\"High score of happiness\",\"marker\":{\"color\":\"#636efa\",\"size\":{\"dtype\":\"f8\",\"bdata\":\"qvHSTWIQ4D8IrBxaZDvfP76fGi\\u002fdJMY\\u002fF9nO91Pj3T9qvHSTGATWP2iR7Xw\\u002fNb4\\u002fMzMzMzMz2z9OYhBYObTIP5zEILByaNk\\u002faJHtfD81vj89CtejcD3SP9v5fmq8dNs\\u002fwcqhRbbz3T8v3SQGgZXTP6abxCCwctg\\u002fsHJoke18vz\\u002fsUbgehevRP3npJjEIrNQ\\u002fIbByaJHtvD8bL90kBoG1PxSuR+F6FM4\\u002fEFg5tMh21j8nMQisHFrUP8\\u002f3U+Olm8Q\\u002fy6FFtvP9tD9vEoPAyqHFP1YOLbKd78c\\u002fnu+nxks3yT8Sg8DKoUW2P8dLN4lBYMU\\u002fMQisHFpkuz9WDi2yne\\u002fHP0w3iUFg5dA\\u002fTmIQWDm04D+4HoXrUbiOP6jGSzeJQcA\\u002fTDeJQWDl0D8K16NwPQrHP\\u002f7UeOkmMdg\\u002fkxgEVg4tsj8bL90kBoGlP3Noke18P7U\\u002faJHtfD81vj\\u002fD9Shcj8K1P8P1KFyPwrU\\u002fEoPAyqFFxj\\u002fy0k1iEFjRP3E9CtejcL0\\u002fK4cW2c73oz\\u002fsUbgeheuxP8uhRbbz\\u002fbQ\\u002fenneDtbKwj8=\"},\"sizemode\":\"area\",\"sizeref\":0.001305,\"symbol\":\"circle\"},\"mode\":\"markers\",\"name\":\"High score of happiness\",\"orientation\":\"v\",\"showlegend\":true,\"x\":{\"dtype\":\"f8\",\"bdata\":\"i2zn+6nxHkAv3SQGgRUeQI\\u002fC9ShcDx5A4XoUrkdhHUDTTWIQWDkdQH9qvHSTGB1APzVeukkMHUBWDi2yne8cQLByaJHtfBxA0SLb+X7qG0BMN4lBYOUbQAIrhxbZzhtAPQrXo3C9G0CkcD0K16MbQHWTGARWjhtAN4lBYOVQG0A9CtejcD0bQIPAyqFFNhtAXrpJDAIrG0CamZmZmRkbQPCnxks3CRtAUI2XbhIDG0C28\\u002f3UeOkaQEw3iUFg5RpA8tJNYhDYGkD+1HjpJrEaQJMYBFYOrRpAvp8aL92kGkCJQWDl0KIaQGq8dJMYhBpABoGVQ4tsGkBmZmZmZmYaQKwcWmQ7XxpAw\\u002fUoXI9CGkCNl24Sg0AaQGDl0CLb+RlAK4cW2c73GUB3vp8aL90ZQF66SQwCqxlAKVyPwvWoGUBU46WbxKAZQEoMAiuHlhlAUI2XbhKDGUCmm8QgsHIZQIts5\\u002fupcRlAnMQgsHJoGUBSuB6F61EZQN0kBoGVQxlAF9nO91PjGED8qfHSTeIYQIcW2c730xhAfT81XrrJGEA=\"},\"xaxis\":\"x\",\"y\":{\"dtype\":\"f8\",\"bdata\":\"qvHSTWIQ4D8IrBxaZDvfP76fGi\\u002fdJMY\\u002fF9nO91Pj3T9qvHSTGATWP2iR7Xw\\u002fNb4\\u002fMzMzMzMz2z9OYhBYObTIP5zEILByaNk\\u002faJHtfD81vj89CtejcD3SP9v5fmq8dNs\\u002fwcqhRbbz3T8v3SQGgZXTP6abxCCwctg\\u002fsHJoke18vz\\u002fsUbgehevRP3npJjEIrNQ\\u002fIbByaJHtvD8bL90kBoG1PxSuR+F6FM4\\u002fEFg5tMh21j8nMQisHFrUP8\\u002f3U+Olm8Q\\u002fy6FFtvP9tD9vEoPAyqHFP1YOLbKd78c\\u002fnu+nxks3yT8Sg8DKoUW2P8dLN4lBYMU\\u002fMQisHFpkuz9WDi2yne\\u002fHP0w3iUFg5dA\\u002fTmIQWDm04D+4HoXrUbiOP6jGSzeJQcA\\u002fTDeJQWDl0D8K16NwPQrHP\\u002f7UeOkmMdg\\u002fkxgEVg4tsj8bL90kBoGlP3Noke18P7U\\u002faJHtfD81vj\\u002fD9Shcj8K1P8P1KFyPwrU\\u002fEoPAyqFFxj\\u002fy0k1iEFjRP3E9CtejcL0\\u002fK4cW2c73oz\\u002fsUbgeheuxP8uhRbbz\\u002fbQ\\u002fenneDtbKwj8=\"},\"yaxis\":\"y\",\"type\":\"scatter\"},{\"hovertemplate\":\"\\u003cb\\u003e%{hovertext}\\u003c\\u002fb\\u003e\\u003cbr\\u003e\\u003cbr\\u003eGroup=Middle score of happiness\\u003cbr\\u003eScore=%{x}\\u003cbr\\u003ePerceptions of corruption=%{marker.size}\\u003cextra\\u003e\\u003c\\u002fextra\\u003e\",\"hovertext\":[\"Middle score of happiness\",\"Middle score of happiness\",\"Middle score of happiness\",\"Middle score of happiness\",\"Middle score of happiness\",\"Middle score of happiness\",\"Middle score of happiness\",\"Middle score of happiness\",\"Middle score of happiness\",\"Middle score of happiness\",\"Middle score of happiness\",\"Middle score of happiness\",\"Middle score of happiness\",\"Middle score of happiness\",\"Middle score of happiness\",\"Middle score of happiness\",\"Middle score of happiness\",\"Middle score of happiness\",\"Middle score of happiness\",\"Middle score of happiness\",\"Middle score of happiness\",\"Middle score of happiness\",\"Middle score of happiness\",\"Middle score of happiness\",\"Middle score of happiness\",\"Middle score of happiness\",\"Middle score of happiness\",\"Middle score of happiness\",\"Middle score of happiness\",\"Middle score of happiness\",\"Middle score of happiness\",\"Middle score of happiness\",\"Middle score of happiness\",\"Middle score of happiness\",\"Middle score of happiness\",\"Middle score of happiness\",\"Middle score of happiness\",\"Middle score of happiness\",\"Middle score of happiness\",\"Middle score of happiness\",\"Middle score of happiness\",\"Middle score of happiness\",\"Middle score of happiness\"],\"legendgroup\":\"Middle score of happiness\",\"marker\":{\"color\":\"#EF553B\",\"size\":{\"dtype\":\"f8\",\"bdata\":\"ObTIdr6fyj9U46WbxCCwP5qZmZmZmck\\u002fO99PjZdugj8pXI\\u002fC9Si8P5huEoPAysE\\u002fx0s3iUFgxT+cxCCwcmihP+kmMQisHKo\\u002fTDeJQWDlsD\\u002fTTWIQWDm0Pylcj8L1KLw\\u002fGy\\u002fdJAaBlT8AAAAAAADAP8uhRbbz\\u002faQ\\u002fg8DKoUW2wz\\u002fJdr6fGi+tP\\u002fyp8dJNYlA\\u002fRIts5\\u002fupwT+kcD0K16OwP9v5fmq8dJM\\u002fObTIdr6fqj+JQWDl0CKrPwIrhxbZzsc\\u002fiUFg5dAiqz+kcD0K16PAPzEIrBxaZMs\\u002fi2zn+6nxoj9U46WbxCCwP8HKoUW2870\\u002fukkMAiuHpj\\u002fVeOkmMQjMPwAAAAAAAAAAeekmMQisfD\\u002fTTWIQWDnEP05iEFg5tNg\\u002fyXa+nxovrT8X2c73U+PVP2q8dJMYBMY\\u002f8tJNYhBYuT\\u002fLoUW28\\u002f3EPzm0yHa+n7o\\u002farx0kxgEpj8=\"},\"sizemode\":\"area\",\"sizeref\":0.001305,\"symbol\":\"circle\"},\"mode\":\"markers\",\"name\":\"Middle score of happiness\",\"orientation\":\"v\",\"showlegend\":true,\"x\":{\"dtype\":\"f8\",\"bdata\":\"EoPAyqHFGEDjpZvEILAYQEoMAiuHlhhAJQaBlUOLGEAhsHJokW0YQPT91HjpJhhAH4XrUbgeGEBaZDvfTw0YQGq8dJMYBBhAXI\\u002fC9SjcF0BCYOXQItsXQFK4HoXr0RdAfT81XrrJF0BI4XoUrscXQPhT46WbxBdAyXa+nxqvF0ApXI\\u002fC9agXQB+F61G4nhdANV66SQyCF0B7FK5H4XoXQHsUrkfhehdARrbz\\u002fdR4F0A730+Nl24XQPyp8dJNYhdAokW28\\u002f1UF0CHFtnO91MXQEjhehSuRxdALbKd76dGF0C0yHa+nxoXQAisHFpkuxZAK4cW2c53FkBiEFg5tEgWQJ7vp8ZLNxZAUI2XbhIDFkBg5dAi2\\u002fkVQBBYObTI9hVAvp8aL92kFUC+nxov3aQVQJqZmZmZmRVAWDm0yHY+FUBOYhBYOTQVQD81XrpJDBVAJzEIrBzaFEA=\"},\"xaxis\":\"x\",\"y\":{\"dtype\":\"f8\",\"bdata\":\"ObTIdr6fyj9U46WbxCCwP5qZmZmZmck\\u002fO99PjZdugj8pXI\\u002fC9Si8P5huEoPAysE\\u002fx0s3iUFgxT+cxCCwcmihP+kmMQisHKo\\u002fTDeJQWDlsD\\u002fTTWIQWDm0Pylcj8L1KLw\\u002fGy\\u002fdJAaBlT8AAAAAAADAP8uhRbbz\\u002faQ\\u002fg8DKoUW2wz\\u002fJdr6fGi+tP\\u002fyp8dJNYlA\\u002fRIts5\\u002fupwT+kcD0K16OwP9v5fmq8dJM\\u002fObTIdr6fqj+JQWDl0CKrPwIrhxbZzsc\\u002fiUFg5dAiqz+kcD0K16PAPzEIrBxaZMs\\u002fi2zn+6nxoj9U46WbxCCwP8HKoUW2870\\u002fukkMAiuHpj\\u002fVeOkmMQjMPwAAAAAAAAAAeekmMQisfD\\u002fTTWIQWDnEP05iEFg5tNg\\u002fyXa+nxovrT8X2c73U+PVP2q8dJMYBMY\\u002f8tJNYhBYuT\\u002fLoUW28\\u002f3EPzm0yHa+n7o\\u002farx0kxgEpj8=\"},\"yaxis\":\"y\",\"type\":\"scatter\"},{\"hovertemplate\":\"\\u003cb\\u003e%{hovertext}\\u003c\\u002fb\\u003e\\u003cbr\\u003e\\u003cbr\\u003eGroup=Low score of happiness\\u003cbr\\u003eScore=%{x}\\u003cbr\\u003ePerceptions of corruption=%{marker.size}\\u003cextra\\u003e\\u003c\\u002fextra\\u003e\",\"hovertext\":[\"Low score of happiness\",\"Low score of happiness\",\"Low score of happiness\",\"Low score of happiness\",\"Low score of happiness\",\"Low score of happiness\",\"Low score of happiness\",\"Low score of happiness\",\"Low score of happiness\",\"Low score of happiness\",\"Low score of happiness\",\"Low score of happiness\",\"Low score of happiness\",\"Low score of happiness\",\"Low score of happiness\",\"Low score of happiness\",\"Low score of happiness\",\"Low score of happiness\",\"Low score of happiness\",\"Low score of happiness\",\"Low score of happiness\",\"Low score of happiness\",\"Low score of happiness\",\"Low score of happiness\",\"Low score of happiness\",\"Low score of happiness\",\"Low score of happiness\",\"Low score of happiness\",\"Low score of happiness\",\"Low score of happiness\",\"Low score of happiness\",\"Low score of happiness\",\"Low score of happiness\",\"Low score of happiness\",\"Low score of happiness\",\"Low score of happiness\",\"Low score of happiness\",\"Low score of happiness\",\"Low score of happiness\",\"Low score of happiness\",\"Low score of happiness\",\"Low score of happiness\",\"Low score of happiness\",\"Low score of happiness\",\"Low score of happiness\",\"Low score of happiness\",\"Low score of happiness\",\"Low score of happiness\",\"Low score of happiness\",\"Low score of happiness\",\"Low score of happiness\",\"Low score of happiness\"],\"legendgroup\":\"Low score of happiness\",\"marker\":{\"color\":\"#00cc96\",\"size\":{\"dtype\":\"f8\",\"bdata\":\"vp8aL90kxj9qvHSTGAS2PyPb+X5qvMQ\\u002fCKwcWmQ7vz9U46WbxCDAP0SLbOf7qbE\\u002fSgwCK4cWuT956SYxCKysP7gehetRuK4\\u002feekmMQisnD+28\\u002f3UeOnGPwrXo3A9Crc\\u002fI9v5fmq8tD9aZDvfT42nP\\u002fCnxks3icE\\u002fWmQ730+Nlz9SuB6F61G4P5qZmZmZmak\\u002f9ihcj8L1yD\\u002fjpZvEILCyP5qZmZmZmak\\u002fCtejcD0Kpz+4HoXrUbi+P9Ei2\\u002fl+arw\\u002fgZVDi2znyz8QWDm0yHbOP\\u002fp+arx0k8g\\u002fyXa+nxovvT8rhxbZzvezP5qZmZmZmZk\\u002fd76fGi\\u002fdxD8v3SQGgZXDP8uhRbbz\\u002fcQ\\u002fnMQgsHJosT9oke18PzW+PzEIrBxaZLs\\u002fmpmZmZmZuT+amZmZmZmZP0w3iUFg5cA\\u002fke18PzVeuj+0yHa+nxrPP6RwPQrXo8A\\u002fO99PjZdusj\\u002fLoUW28\\u002f3EP4lBYOXQIrs\\u002fCKwcWmQ7rz9zaJHtfD+1P\\u002fhT46WbxMA\\u002fnMQgsHJowT\\u002fLoUW28\\u002f2kPzm0yHa+n6o\\u002fSOF6FK5HwT8=\"},\"sizemode\":\"area\",\"sizeref\":0.001305,\"symbol\":\"circle\"},\"mode\":\"markers\",\"name\":\"Low score of happiness\",\"orientation\":\"v\",\"showlegend\":true,\"x\":{\"dtype\":\"f8\",\"bdata\":\"w\\u002fUoXI\\u002fCFEB7FK5H4XoUQJzEILByaBRArBxaZDtfFEAfhetRuB4UQIGVQ4ts5xNAnu+nxku3E0C+nxov3aQTQD81XrpJjBNACtejcD2KE0AAAAAAAIATQAaBlUOLbBNAH4XrUbgeE0DfT42XbhITQGZmZmZm5hJAuB6F61G4EkCwcmiR7XwSQGiR7Xw\\u002fNRJAXrpJDAIrEkAK16NwPQoSQPLSTWIQ2BFA\\u002ftR46SaxEUB1kxgEVo4RQPCnxks3iRFA1XjpJjGIEUAhsHJokW0RQBfZzvdTYxFA4XoUrkdhEUB3vp8aL10RQFyPwvUoXBFAYhBYObRIEUDD9Shcj0IRQD0K16NwPRFAz\\u002fdT46UbEUBU46WbxKAQQLKd76fGSw9AyXa+nxovD0BU46WbxCAPQAIrhxbZzg5A8KfGSzeJDkBmZmZmZmYOQP7UeOkmMQ5AdZMYBFYODkDVeOkmMQgOQLByaJHtfAxAjZduEoPAC0AbL90kBoELQF66SQwCKwtAFK5H4XoUCkAbL90kBoEJQJZDi2zn+wdAbef7qfHS9T8=\"},\"xaxis\":\"x\",\"y\":{\"dtype\":\"f8\",\"bdata\":\"vp8aL90kxj9qvHSTGAS2PyPb+X5qvMQ\\u002fCKwcWmQ7vz9U46WbxCDAP0SLbOf7qbE\\u002fSgwCK4cWuT956SYxCKysP7gehetRuK4\\u002feekmMQisnD+28\\u002f3UeOnGPwrXo3A9Crc\\u002fI9v5fmq8tD9aZDvfT42nP\\u002fCnxks3icE\\u002fWmQ730+Nlz9SuB6F61G4P5qZmZmZmak\\u002f9ihcj8L1yD\\u002fjpZvEILCyP5qZmZmZmak\\u002fCtejcD0Kpz+4HoXrUbi+P9Ei2\\u002fl+arw\\u002fgZVDi2znyz8QWDm0yHbOP\\u002fp+arx0k8g\\u002fyXa+nxovvT8rhxbZzvezP5qZmZmZmZk\\u002fd76fGi\\u002fdxD8v3SQGgZXDP8uhRbbz\\u002fcQ\\u002fnMQgsHJosT9oke18PzW+PzEIrBxaZLs\\u002fmpmZmZmZuT+amZmZmZmZP0w3iUFg5cA\\u002fke18PzVeuj+0yHa+nxrPP6RwPQrXo8A\\u002fO99PjZdusj\\u002fLoUW28\\u002f3EP4lBYOXQIrs\\u002fCKwcWmQ7rz9zaJHtfD+1P\\u002fhT46WbxMA\\u002fnMQgsHJowT\\u002fLoUW28\\u002f2kPzm0yHa+n6o\\u002fSOF6FK5HwT8=\"},\"yaxis\":\"y\",\"type\":\"scatter\"}],                        {\"template\":{\"data\":{\"histogram2dcontour\":[{\"type\":\"histogram2dcontour\",\"colorbar\":{\"outlinewidth\":0,\"ticks\":\"\"},\"colorscale\":[[0.0,\"#0d0887\"],[0.1111111111111111,\"#46039f\"],[0.2222222222222222,\"#7201a8\"],[0.3333333333333333,\"#9c179e\"],[0.4444444444444444,\"#bd3786\"],[0.5555555555555556,\"#d8576b\"],[0.6666666666666666,\"#ed7953\"],[0.7777777777777778,\"#fb9f3a\"],[0.8888888888888888,\"#fdca26\"],[1.0,\"#f0f921\"]]}],\"choropleth\":[{\"type\":\"choropleth\",\"colorbar\":{\"outlinewidth\":0,\"ticks\":\"\"}}],\"histogram2d\":[{\"type\":\"histogram2d\",\"colorbar\":{\"outlinewidth\":0,\"ticks\":\"\"},\"colorscale\":[[0.0,\"#0d0887\"],[0.1111111111111111,\"#46039f\"],[0.2222222222222222,\"#7201a8\"],[0.3333333333333333,\"#9c179e\"],[0.4444444444444444,\"#bd3786\"],[0.5555555555555556,\"#d8576b\"],[0.6666666666666666,\"#ed7953\"],[0.7777777777777778,\"#fb9f3a\"],[0.8888888888888888,\"#fdca26\"],[1.0,\"#f0f921\"]]}],\"heatmap\":[{\"type\":\"heatmap\",\"colorbar\":{\"outlinewidth\":0,\"ticks\":\"\"},\"colorscale\":[[0.0,\"#0d0887\"],[0.1111111111111111,\"#46039f\"],[0.2222222222222222,\"#7201a8\"],[0.3333333333333333,\"#9c179e\"],[0.4444444444444444,\"#bd3786\"],[0.5555555555555556,\"#d8576b\"],[0.6666666666666666,\"#ed7953\"],[0.7777777777777778,\"#fb9f3a\"],[0.8888888888888888,\"#fdca26\"],[1.0,\"#f0f921\"]]}],\"contourcarpet\":[{\"type\":\"contourcarpet\",\"colorbar\":{\"outlinewidth\":0,\"ticks\":\"\"}}],\"contour\":[{\"type\":\"contour\",\"colorbar\":{\"outlinewidth\":0,\"ticks\":\"\"},\"colorscale\":[[0.0,\"#0d0887\"],[0.1111111111111111,\"#46039f\"],[0.2222222222222222,\"#7201a8\"],[0.3333333333333333,\"#9c179e\"],[0.4444444444444444,\"#bd3786\"],[0.5555555555555556,\"#d8576b\"],[0.6666666666666666,\"#ed7953\"],[0.7777777777777778,\"#fb9f3a\"],[0.8888888888888888,\"#fdca26\"],[1.0,\"#f0f921\"]]}],\"surface\":[{\"type\":\"surface\",\"colorbar\":{\"outlinewidth\":0,\"ticks\":\"\"},\"colorscale\":[[0.0,\"#0d0887\"],[0.1111111111111111,\"#46039f\"],[0.2222222222222222,\"#7201a8\"],[0.3333333333333333,\"#9c179e\"],[0.4444444444444444,\"#bd3786\"],[0.5555555555555556,\"#d8576b\"],[0.6666666666666666,\"#ed7953\"],[0.7777777777777778,\"#fb9f3a\"],[0.8888888888888888,\"#fdca26\"],[1.0,\"#f0f921\"]]}],\"mesh3d\":[{\"type\":\"mesh3d\",\"colorbar\":{\"outlinewidth\":0,\"ticks\":\"\"}}],\"scatter\":[{\"fillpattern\":{\"fillmode\":\"overlay\",\"size\":10,\"solidity\":0.2},\"type\":\"scatter\"}],\"parcoords\":[{\"type\":\"parcoords\",\"line\":{\"colorbar\":{\"outlinewidth\":0,\"ticks\":\"\"}}}],\"scatterpolargl\":[{\"type\":\"scatterpolargl\",\"marker\":{\"colorbar\":{\"outlinewidth\":0,\"ticks\":\"\"}}}],\"bar\":[{\"error_x\":{\"color\":\"#2a3f5f\"},\"error_y\":{\"color\":\"#2a3f5f\"},\"marker\":{\"line\":{\"color\":\"#E5ECF6\",\"width\":0.5},\"pattern\":{\"fillmode\":\"overlay\",\"size\":10,\"solidity\":0.2}},\"type\":\"bar\"}],\"scattergeo\":[{\"type\":\"scattergeo\",\"marker\":{\"colorbar\":{\"outlinewidth\":0,\"ticks\":\"\"}}}],\"scatterpolar\":[{\"type\":\"scatterpolar\",\"marker\":{\"colorbar\":{\"outlinewidth\":0,\"ticks\":\"\"}}}],\"histogram\":[{\"marker\":{\"pattern\":{\"fillmode\":\"overlay\",\"size\":10,\"solidity\":0.2}},\"type\":\"histogram\"}],\"scattergl\":[{\"type\":\"scattergl\",\"marker\":{\"colorbar\":{\"outlinewidth\":0,\"ticks\":\"\"}}}],\"scatter3d\":[{\"type\":\"scatter3d\",\"line\":{\"colorbar\":{\"outlinewidth\":0,\"ticks\":\"\"}},\"marker\":{\"colorbar\":{\"outlinewidth\":0,\"ticks\":\"\"}}}],\"scattermap\":[{\"type\":\"scattermap\",\"marker\":{\"colorbar\":{\"outlinewidth\":0,\"ticks\":\"\"}}}],\"scattermapbox\":[{\"type\":\"scattermapbox\",\"marker\":{\"colorbar\":{\"outlinewidth\":0,\"ticks\":\"\"}}}],\"scatterternary\":[{\"type\":\"scatterternary\",\"marker\":{\"colorbar\":{\"outlinewidth\":0,\"ticks\":\"\"}}}],\"scattercarpet\":[{\"type\":\"scattercarpet\",\"marker\":{\"colorbar\":{\"outlinewidth\":0,\"ticks\":\"\"}}}],\"carpet\":[{\"aaxis\":{\"endlinecolor\":\"#2a3f5f\",\"gridcolor\":\"white\",\"linecolor\":\"white\",\"minorgridcolor\":\"white\",\"startlinecolor\":\"#2a3f5f\"},\"baxis\":{\"endlinecolor\":\"#2a3f5f\",\"gridcolor\":\"white\",\"linecolor\":\"white\",\"minorgridcolor\":\"white\",\"startlinecolor\":\"#2a3f5f\"},\"type\":\"carpet\"}],\"table\":[{\"cells\":{\"fill\":{\"color\":\"#EBF0F8\"},\"line\":{\"color\":\"white\"}},\"header\":{\"fill\":{\"color\":\"#C8D4E3\"},\"line\":{\"color\":\"white\"}},\"type\":\"table\"}],\"barpolar\":[{\"marker\":{\"line\":{\"color\":\"#E5ECF6\",\"width\":0.5},\"pattern\":{\"fillmode\":\"overlay\",\"size\":10,\"solidity\":0.2}},\"type\":\"barpolar\"}],\"pie\":[{\"automargin\":true,\"type\":\"pie\"}]},\"layout\":{\"autotypenumbers\":\"strict\",\"colorway\":[\"#636efa\",\"#EF553B\",\"#00cc96\",\"#ab63fa\",\"#FFA15A\",\"#19d3f3\",\"#FF6692\",\"#B6E880\",\"#FF97FF\",\"#FECB52\"],\"font\":{\"color\":\"#2a3f5f\"},\"hovermode\":\"closest\",\"hoverlabel\":{\"align\":\"left\"},\"paper_bgcolor\":\"white\",\"plot_bgcolor\":\"#E5ECF6\",\"polar\":{\"bgcolor\":\"#E5ECF6\",\"angularaxis\":{\"gridcolor\":\"white\",\"linecolor\":\"white\",\"ticks\":\"\"},\"radialaxis\":{\"gridcolor\":\"white\",\"linecolor\":\"white\",\"ticks\":\"\"}},\"ternary\":{\"bgcolor\":\"#E5ECF6\",\"aaxis\":{\"gridcolor\":\"white\",\"linecolor\":\"white\",\"ticks\":\"\"},\"baxis\":{\"gridcolor\":\"white\",\"linecolor\":\"white\",\"ticks\":\"\"},\"caxis\":{\"gridcolor\":\"white\",\"linecolor\":\"white\",\"ticks\":\"\"}},\"coloraxis\":{\"colorbar\":{\"outlinewidth\":0,\"ticks\":\"\"}},\"colorscale\":{\"sequential\":[[0.0,\"#0d0887\"],[0.1111111111111111,\"#46039f\"],[0.2222222222222222,\"#7201a8\"],[0.3333333333333333,\"#9c179e\"],[0.4444444444444444,\"#bd3786\"],[0.5555555555555556,\"#d8576b\"],[0.6666666666666666,\"#ed7953\"],[0.7777777777777778,\"#fb9f3a\"],[0.8888888888888888,\"#fdca26\"],[1.0,\"#f0f921\"]],\"sequentialminus\":[[0.0,\"#0d0887\"],[0.1111111111111111,\"#46039f\"],[0.2222222222222222,\"#7201a8\"],[0.3333333333333333,\"#9c179e\"],[0.4444444444444444,\"#bd3786\"],[0.5555555555555556,\"#d8576b\"],[0.6666666666666666,\"#ed7953\"],[0.7777777777777778,\"#fb9f3a\"],[0.8888888888888888,\"#fdca26\"],[1.0,\"#f0f921\"]],\"diverging\":[[0,\"#8e0152\"],[0.1,\"#c51b7d\"],[0.2,\"#de77ae\"],[0.3,\"#f1b6da\"],[0.4,\"#fde0ef\"],[0.5,\"#f7f7f7\"],[0.6,\"#e6f5d0\"],[0.7,\"#b8e186\"],[0.8,\"#7fbc41\"],[0.9,\"#4d9221\"],[1,\"#276419\"]]},\"xaxis\":{\"gridcolor\":\"white\",\"linecolor\":\"white\",\"ticks\":\"\",\"title\":{\"standoff\":15},\"zerolinecolor\":\"white\",\"automargin\":true,\"zerolinewidth\":2},\"yaxis\":{\"gridcolor\":\"white\",\"linecolor\":\"white\",\"ticks\":\"\",\"title\":{\"standoff\":15},\"zerolinecolor\":\"white\",\"automargin\":true,\"zerolinewidth\":2},\"scene\":{\"xaxis\":{\"backgroundcolor\":\"#E5ECF6\",\"gridcolor\":\"white\",\"linecolor\":\"white\",\"showbackground\":true,\"ticks\":\"\",\"zerolinecolor\":\"white\",\"gridwidth\":2},\"yaxis\":{\"backgroundcolor\":\"#E5ECF6\",\"gridcolor\":\"white\",\"linecolor\":\"white\",\"showbackground\":true,\"ticks\":\"\",\"zerolinecolor\":\"white\",\"gridwidth\":2},\"zaxis\":{\"backgroundcolor\":\"#E5ECF6\",\"gridcolor\":\"white\",\"linecolor\":\"white\",\"showbackground\":true,\"ticks\":\"\",\"zerolinecolor\":\"white\",\"gridwidth\":2}},\"shapedefaults\":{\"line\":{\"color\":\"#2a3f5f\"}},\"annotationdefaults\":{\"arrowcolor\":\"#2a3f5f\",\"arrowhead\":0,\"arrowwidth\":1},\"geo\":{\"bgcolor\":\"white\",\"landcolor\":\"#E5ECF6\",\"subunitcolor\":\"white\",\"showland\":true,\"showlakes\":true,\"lakecolor\":\"white\"},\"title\":{\"x\":0.05},\"mapbox\":{\"style\":\"light\"}}},\"xaxis\":{\"anchor\":\"y\",\"domain\":[0.0,1.0],\"title\":{\"text\":\"Score\"},\"tickfont\":{\"weight\":\"bold\",\"size\":12}},\"yaxis\":{\"anchor\":\"x\",\"domain\":[0.0,1.0],\"title\":{\"text\":\"Perceptions of corruption\"},\"tickfont\":{\"weight\":\"bold\",\"size\":12}},\"legend\":{\"title\":{\"text\":\"Group\"},\"tracegroupgap\":0,\"itemsizing\":\"constant\"},\"title\":{\"text\":\"2024\",\"font\":{\"size\":24,\"weight\":\"bold\"},\"x\":0.5},\"showlegend\":false},                        {\"responsive\": true}                    ).then(function(){\n",
       "                            \n",
       "var gd = document.getElementById('aa8bc7b1-cb7e-41ba-bd68-4993dfbfca11');\n",
       "var x = new MutationObserver(function (mutations, observer) {{\n",
       "        var display = window.getComputedStyle(gd).display;\n",
       "        if (!display || display === 'none') {{\n",
       "            console.log([gd, 'removed!']);\n",
       "            Plotly.purge(gd);\n",
       "            observer.disconnect();\n",
       "        }}\n",
       "}});\n",
       "\n",
       "// Listen for the removal of the full notebook cells\n",
       "var notebookContainer = gd.closest('#notebook-container');\n",
       "if (notebookContainer) {{\n",
       "    x.observe(notebookContainer, {childList: true});\n",
       "}}\n",
       "\n",
       "// Listen for the clearing of the current output cell\n",
       "var outputEl = gd.closest('.output');\n",
       "if (outputEl) {{\n",
       "    x.observe(outputEl, {childList: true});\n",
       "}}\n",
       "\n",
       "                        })                };            </script>        </div>\n",
       "</body>\n",
       "</html>"
      ]
     },
     "metadata": {},
     "output_type": "display_data"
    }
   ],
   "source": [
    "fig = px.scatter(\n",
    "    df_2024,\n",
    "    x='Score',\n",
    "    y='Perceptions of corruption',\n",
    "    color='Group',\n",
    "    size='Perceptions of corruption', # <--- Determines the size of the bubbles\n",
    "    hover_name='Group',\n",
    "    title='2024'\n",
    ")\n",
    "fig.update_xaxes(\n",
    "    tickfont_weight='bold',  # Make the numbers bold\n",
    "    tickfont_size=12)        # Adjust the font size\n",
    "fig.update_yaxes(\n",
    "    tickfont_weight='bold',  # Make the numbers bold\n",
    "    tickfont_size=12)\n",
    "fig.update_layout(title_font=dict(size=24, weight='bold'), showlegend=False,\n",
    "    title_text='2024',\n",
    "    title_x=0.5)\n",
    "\n",
    "fig.show()"
   ]
  },
  {
   "cell_type": "code",
   "execution_count": 459,
   "metadata": {},
   "outputs": [
    {
     "data": {
      "text/html": [
       "<div>\n",
       "<style scoped>\n",
       "    .dataframe tbody tr th:only-of-type {\n",
       "        vertical-align: middle;\n",
       "    }\n",
       "\n",
       "    .dataframe tbody tr th {\n",
       "        vertical-align: top;\n",
       "    }\n",
       "\n",
       "    .dataframe thead th {\n",
       "        text-align: right;\n",
       "    }\n",
       "</style>\n",
       "<table border=\"1\" class=\"dataframe\">\n",
       "  <thead>\n",
       "    <tr style=\"text-align: right;\">\n",
       "      <th></th>\n",
       "      <th>count</th>\n",
       "      <th>freedom_mean</th>\n",
       "    </tr>\n",
       "    <tr>\n",
       "      <th>Country or region</th>\n",
       "      <th></th>\n",
       "      <th></th>\n",
       "    </tr>\n",
       "  </thead>\n",
       "  <tbody>\n",
       "    <tr>\n",
       "      <th>Afghanistan</th>\n",
       "      <td>1</td>\n",
       "      <td>0.085</td>\n",
       "    </tr>\n",
       "    <tr>\n",
       "      <th>Albania</th>\n",
       "      <td>1</td>\n",
       "      <td>0.419</td>\n",
       "    </tr>\n",
       "    <tr>\n",
       "      <th>Algeria</th>\n",
       "      <td>1</td>\n",
       "      <td>0.077</td>\n",
       "    </tr>\n",
       "    <tr>\n",
       "      <th>Angola</th>\n",
       "      <td>1</td>\n",
       "      <td>0.000</td>\n",
       "    </tr>\n",
       "    <tr>\n",
       "      <th>Argentina</th>\n",
       "      <td>1</td>\n",
       "      <td>0.570</td>\n",
       "    </tr>\n",
       "    <tr>\n",
       "      <th>...</th>\n",
       "      <td>...</td>\n",
       "      <td>...</td>\n",
       "    </tr>\n",
       "    <tr>\n",
       "      <th>Venezuela</th>\n",
       "      <td>1</td>\n",
       "      <td>0.133</td>\n",
       "    </tr>\n",
       "    <tr>\n",
       "      <th>Vietnam</th>\n",
       "      <td>1</td>\n",
       "      <td>0.618</td>\n",
       "    </tr>\n",
       "    <tr>\n",
       "      <th>Yemen</th>\n",
       "      <td>1</td>\n",
       "      <td>0.244</td>\n",
       "    </tr>\n",
       "    <tr>\n",
       "      <th>Zambia</th>\n",
       "      <td>1</td>\n",
       "      <td>0.503</td>\n",
       "    </tr>\n",
       "    <tr>\n",
       "      <th>Zimbabwe</th>\n",
       "      <td>1</td>\n",
       "      <td>0.406</td>\n",
       "    </tr>\n",
       "  </tbody>\n",
       "</table>\n",
       "<p>156 rows × 2 columns</p>\n",
       "</div>"
      ],
      "text/plain": [
       "                   count  freedom_mean\n",
       "Country or region                     \n",
       "Afghanistan            1         0.085\n",
       "Albania                1         0.419\n",
       "Algeria                1         0.077\n",
       "Angola                 1         0.000\n",
       "Argentina              1         0.570\n",
       "...                  ...           ...\n",
       "Venezuela              1         0.133\n",
       "Vietnam                1         0.618\n",
       "Yemen                  1         0.244\n",
       "Zambia                 1         0.503\n",
       "Zimbabwe               1         0.406\n",
       "\n",
       "[156 rows x 2 columns]"
      ]
     },
     "execution_count": 459,
     "metadata": {},
     "output_type": "execute_result"
    }
   ],
   "source": [
    "df_2018.groupby('Country or region').agg(count=('Country or region', 'count'), freedom_mean =('Freedom to make life choices','min'))"
   ]
  },
  {
   "cell_type": "code",
   "execution_count": 460,
   "metadata": {},
   "outputs": [
    {
     "data": {
      "text/html": [
       "<div>\n",
       "<style scoped>\n",
       "    .dataframe tbody tr th:only-of-type {\n",
       "        vertical-align: middle;\n",
       "    }\n",
       "\n",
       "    .dataframe tbody tr th {\n",
       "        vertical-align: top;\n",
       "    }\n",
       "\n",
       "    .dataframe thead th {\n",
       "        text-align: right;\n",
       "    }\n",
       "</style>\n",
       "<table border=\"1\" class=\"dataframe\">\n",
       "  <thead>\n",
       "    <tr style=\"text-align: right;\">\n",
       "      <th></th>\n",
       "      <th>freedom</th>\n",
       "    </tr>\n",
       "    <tr>\n",
       "      <th>Group</th>\n",
       "      <th></th>\n",
       "    </tr>\n",
       "  </thead>\n",
       "  <tbody>\n",
       "    <tr>\n",
       "      <th>High score of happiness</th>\n",
       "      <td>0.281</td>\n",
       "    </tr>\n",
       "    <tr>\n",
       "      <th>Low score of happiness</th>\n",
       "      <td>0.000</td>\n",
       "    </tr>\n",
       "    <tr>\n",
       "      <th>Middle score of happiness</th>\n",
       "      <td>0.077</td>\n",
       "    </tr>\n",
       "  </tbody>\n",
       "</table>\n",
       "</div>"
      ],
      "text/plain": [
       "                           freedom\n",
       "Group                             \n",
       "High score of happiness      0.281\n",
       "Low score of happiness       0.000\n",
       "Middle score of happiness    0.077"
      ]
     },
     "execution_count": 460,
     "metadata": {},
     "output_type": "execute_result"
    }
   ],
   "source": [
    "df_2018.groupby('Group').agg(freedom=('Freedom to make life choices', 'min'))"
   ]
  },
  {
   "cell_type": "code",
   "execution_count": 461,
   "metadata": {},
   "outputs": [
    {
     "data": {
      "text/html": [
       "<div>\n",
       "<style scoped>\n",
       "    .dataframe tbody tr th:only-of-type {\n",
       "        vertical-align: middle;\n",
       "    }\n",
       "\n",
       "    .dataframe tbody tr th {\n",
       "        vertical-align: top;\n",
       "    }\n",
       "\n",
       "    .dataframe thead th {\n",
       "        text-align: right;\n",
       "    }\n",
       "</style>\n",
       "<table border=\"1\" class=\"dataframe\">\n",
       "  <thead>\n",
       "    <tr style=\"text-align: right;\">\n",
       "      <th></th>\n",
       "      <th>freedom</th>\n",
       "    </tr>\n",
       "    <tr>\n",
       "      <th>Group</th>\n",
       "      <th></th>\n",
       "    </tr>\n",
       "  </thead>\n",
       "  <tbody>\n",
       "    <tr>\n",
       "      <th>High score of happiness</th>\n",
       "      <td>0.641</td>\n",
       "    </tr>\n",
       "    <tr>\n",
       "      <th>Low score of happiness</th>\n",
       "      <td>0.000</td>\n",
       "    </tr>\n",
       "    <tr>\n",
       "      <th>Middle score of happiness</th>\n",
       "      <td>0.244</td>\n",
       "    </tr>\n",
       "  </tbody>\n",
       "</table>\n",
       "</div>"
      ],
      "text/plain": [
       "                           freedom\n",
       "Group                             \n",
       "High score of happiness      0.641\n",
       "Low score of happiness       0.000\n",
       "Middle score of happiness    0.244"
      ]
     },
     "execution_count": 461,
     "metadata": {},
     "output_type": "execute_result"
    }
   ],
   "source": [
    "df_2024.groupby('Group').agg(freedom=('Freedom to make life choices', 'min'))"
   ]
  }
 ],
 "metadata": {
  "colab": {
   "provenance": []
  },
  "hide_input": false,
  "kernelspec": {
   "display_name": "Python 3 (ipykernel)",
   "language": "python",
   "name": "python3"
  },
  "language_info": {
   "codemirror_mode": {
    "name": "ipython",
    "version": 3
   },
   "file_extension": ".py",
   "mimetype": "text/x-python",
   "name": "python",
   "nbconvert_exporter": "python",
   "pygments_lexer": "ipython3",
   "version": "3.12.4"
  },
  "toc": {
   "base_numbering": 1,
   "nav_menu": {},
   "number_sections": true,
   "sideBar": true,
   "skip_h1_title": false,
   "title_cell": "Table of Contents",
   "title_sidebar": "Contents",
   "toc_cell": false,
   "toc_position": {},
   "toc_section_display": true,
   "toc_window_display": false
  }
 },
 "nbformat": 4,
 "nbformat_minor": 4
}
